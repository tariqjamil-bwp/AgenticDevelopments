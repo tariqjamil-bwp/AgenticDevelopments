{
 "cells": [
  {
   "attachments": {},
   "cell_type": "markdown",
   "id": "ae1f50ec",
   "metadata": {},
   "source": [
    "# Task Solving with Provided Tools as Functions\n"
   ]
  },
  {
   "attachments": {},
   "cell_type": "markdown",
   "id": "9a71fa36",
   "metadata": {},
   "source": [
    "* In this notebook, we demonstrate how to use `AssistantAgent` and `UserProxyAgent` to make function calls with the new feature of latest models like OpenAI / Llama3, etc.\n",
    "\n",
    "* A specified prompt and function configs must be passed to `AssistantAgent` to initialize the agent. \n",
    "\n",
    "* The corresponding functions must be passed to `UserProxyAgent`, which will execute any function calls made by `AssistantAgent`.\n",
    "\n",
    "* Besides this requirement of matching descriptions with functions, we recommend checking the system message in the `AssistantAgent` to ensure the instructions align with the function call descriptions.\n",
    "\n",
    "\n",
    "## Requirements\n",
    "\n",
    "AutoGen requires `Python>=3.8`. To run this notebook example, please install `pyautogen`:\n",
    "```bash\n",
    "pip install pyautogen\n",
    "```"
   ]
  },
  {
   "cell_type": "code",
   "execution_count": 25,
   "id": "2b803c17",
   "metadata": {},
   "outputs": [],
   "source": [
    "# %pip install \"pyautogen>=0.2.3\""
   ]
  },
  {
   "cell_type": "markdown",
   "id": "b9c534d5",
   "metadata": {},
   "source": [
    "### Imports"
   ]
  },
  {
   "cell_type": "code",
   "execution_count": 1,
   "id": "dca301a4",
   "metadata": {},
   "outputs": [
    {
     "name": "stderr",
     "output_type": "stream",
     "text": [
      "flaml.automl is not available. Please install flaml[automl] to enable AutoML functionalities.\n"
     ]
    },
    {
     "name": "stdout",
     "output_type": "stream",
     "text": [
      "Environment variables loaded successfully\n"
     ]
    }
   ],
   "source": [
    "#from typing import Literal\n",
    "from typing_extensions import Annotated\n",
    "import autogen\n",
    "from autogen.cache import Cache\n",
    "from aisTools_r1 import calculate, currency_converter, ddg_search, get_news\n",
    "\n",
    "#config_list = autogen.config_list_from_json(\n",
    "#    \"OAI_CONFIG_LIST\",\n",
    "#    filter_dict={\"tags\": [\"3.5-tool\"]},  # comment out to get all\n",
    "#)"
   ]
  },
  {
   "cell_type": "markdown",
   "id": "1082df8a",
   "metadata": {},
   "source": [
    "### LLM Configuration setting"
   ]
  },
  {
   "cell_type": "code",
   "execution_count": 3,
   "id": "f652657a",
   "metadata": {},
   "outputs": [],
   "source": [
    "import os\n",
    "config_list = [{\"api_type\":\"groq\",\"model\":\"llama3-70b-8192\",\"api_key\":os.environ.get(\"GROQ_API_KEY\"),},\n",
    "               {\"api_type\":\"groq\",\"model\":\"llama3-8b-8192\",\"api_key\":os.environ.get(\"GROQ_API_KEY\"),}]\n",
    "\n",
    "llm_config = {\n",
    "    \"config_list\": config_list,\n",
    "    \"timeout\": 120,\n",
    "}"
   ]
  },
  {
   "cell_type": "markdown",
   "id": "bd9d61cf",
   "metadata": {},
   "source": [
    "## Creating Agents"
   ]
  },
  {
   "cell_type": "code",
   "execution_count": 4,
   "id": "7b3d8b58",
   "metadata": {},
   "outputs": [],
   "source": [
    "# Creating chatbot\n",
    "Assistant_Agent = autogen.AssistantAgent(\n",
    "    name=\"assistant_agent\",\n",
    "    system_message=\"\"\"You are an intelligent agent capable of answering questions and performing tasks, like \n",
    "    For currency exchange tasks, web search tasks and news search tasks when required. only use the functions you have been provided with.\n",
    "    Reply TERMINATE when the task is done.\"\"\",\n",
    "    llm_config=llm_config,\n",
    ")\n",
    "\n",
    "# create a UserProxyAgent instance named \"user_proxy\" \n",
    "user_proxy = autogen.UserProxyAgent(\n",
    "    name=\"user_proxy\",\n",
    "    is_termination_msg=lambda x: x.get(\"content\", \"\") and x.get(\"content\", \"\").rstrip().endswith(\"TERMINATE\"),\n",
    "    human_input_mode=\"NEVER\",\n",
    "    max_consecutive_auto_reply=5,\n",
    ")"
   ]
  },
  {
   "cell_type": "markdown",
   "id": "83e63535",
   "metadata": {},
   "source": [
    "### Tools Functions (converting to autogen recommended format)"
   ]
  },
  {
   "cell_type": "code",
   "execution_count": 5,
   "id": "dd0fe8a2",
   "metadata": {},
   "outputs": [],
   "source": [
    "def currency_converter_ag(\n",
    "    amount: Annotated[str, \"Amount of currency in base_currency\"],\n",
    "    base_currency: Annotated[str, \"Base_currency symbol\"] = \"USD\",\n",
    "    quote_currency: Annotated[str, \"Quote currency symbol\"] = \"GBP\",\n",
    ") -> str:\n",
    "    result = currency_converter(amount, base_currency, quote_currency)\n",
    "    return result\n",
    "\n",
    "def ddg_search_ag(\n",
    "    topic: Annotated[str, \"Topic to search for news\"]=\"world news\",\n",
    "    num_headlines: Annotated[int, \"Number of headlines to return\"] = 5,\n",
    "    )-> str:\n",
    "    search_results = ddg_search(topic, num_headlines)\n",
    "    return search_results\n",
    " \n",
    "def get_news_ag(\n",
    "    topic: Annotated[str, \"Topic to search for news\"]=\"world news\",\n",
    "    num_headlines: Annotated[int, \"Number of headlines to return\"] = 5,\n",
    "    )-> str:\n",
    "    news_results = get_news(topic, num_headlines)\n",
    "    return news_results"
   ]
  },
  {
   "cell_type": "markdown",
   "id": "d049580e",
   "metadata": {},
   "source": [
    "### Registering the tools with Agents"
   ]
  },
  {
   "cell_type": "code",
   "execution_count": 6,
   "id": "8d84cc6c",
   "metadata": {},
   "outputs": [],
   "source": [
    "autogen.agentchat.register_function(\n",
    "    currency_converter_ag,\n",
    "    caller=Assistant_Agent,\n",
    "    executor=user_proxy,\n",
    "    description=\"Currency exchange calculator.\",\n",
    ")\n",
    "\n",
    "autogen.agentchat.register_function(\n",
    "    ddg_search_ag,\n",
    "    caller=Assistant_Agent,\n",
    "    executor=user_proxy,\n",
    "    description=\"Search on DuckDuckGo.\",\n",
    ")\n",
    "\n",
    "autogen.agentchat.register_function(\n",
    "    get_news_ag,\n",
    "    caller=Assistant_Agent,\n",
    "    executor=user_proxy,\n",
    "    description=\"Get latest news.\",\n",
    ")"
   ]
  },
  {
   "cell_type": "markdown",
   "id": "4b9047cb",
   "metadata": {},
   "source": [
    "### Checking Tools availability with Assistant Agent"
   ]
  },
  {
   "cell_type": "code",
   "execution_count": 31,
   "id": "971ed0d5",
   "metadata": {},
   "outputs": [
    {
     "data": {
      "text/plain": [
       "[{'type': 'function',\n",
       "  'function': {'description': 'Currency exchange calculator.',\n",
       "   'name': 'currency_converter_ag',\n",
       "   'parameters': {'type': 'object',\n",
       "    'properties': {'amount': {'type': 'string',\n",
       "      'description': 'Amount of currency in base_currency'},\n",
       "     'base_currency': {'type': 'string',\n",
       "      'default': 'USD',\n",
       "      'description': 'Base_currency symbol'},\n",
       "     'quote_currency': {'type': 'string',\n",
       "      'default': 'GBP',\n",
       "      'description': 'Quote currency symbol'}},\n",
       "    'required': ['amount']}}},\n",
       " {'type': 'function',\n",
       "  'function': {'description': 'Search on DuckDuckGo.',\n",
       "   'name': 'ddg_search_ag',\n",
       "   'parameters': {'type': 'object',\n",
       "    'properties': {'topic': {'type': 'string',\n",
       "      'default': 'world news',\n",
       "      'description': 'Topic to search for news'},\n",
       "     'num_headlines': {'type': 'integer',\n",
       "      'default': 5,\n",
       "      'description': 'Number of headlines to return'}},\n",
       "    'required': []}}},\n",
       " {'type': 'function',\n",
       "  'function': {'description': 'Get latest news.',\n",
       "   'name': 'get_news_ag',\n",
       "   'parameters': {'type': 'object',\n",
       "    'properties': {'topic': {'type': 'string',\n",
       "      'default': 'world news',\n",
       "      'description': 'Topic to search for news'},\n",
       "     'num_headlines': {'type': 'integer',\n",
       "      'default': 5,\n",
       "      'description': 'Number of headlines to return'}},\n",
       "    'required': []}}}]"
      ]
     },
     "execution_count": 31,
     "metadata": {},
     "output_type": "execute_result"
    }
   ],
   "source": [
    "Assistant_Agent.llm_config[\"tools\"]"
   ]
  },
  {
   "cell_type": "markdown",
   "id": "4341e118",
   "metadata": {},
   "source": [
    "### Sample 1 Query"
   ]
  },
  {
   "cell_type": "code",
   "execution_count": 7,
   "id": "ab081090",
   "metadata": {},
   "outputs": [
    {
     "name": "stdout",
     "output_type": "stream",
     "text": [
      "\u001b[33muser_proxy\u001b[0m (to assistant_agent):\n",
      "\n",
      "\"What's are the top 10 latest news about AI (list in bullets)\n",
      "and how much is 100 USD in EUR?\n",
      "\n",
      "--------------------------------------------------------------------------------\n"
     ]
    },
    {
     "name": "stdout",
     "output_type": "stream",
     "text": [
      "\u001b[33massistant_agent\u001b[0m (to user_proxy):\n",
      "\n",
      "\u001b[32m***** Suggested tool call (call_8vhm): get_news_ag *****\u001b[0m\n",
      "Arguments: \n",
      "{\"num_headlines\":10,\"topic\":\"AI\"}\n",
      "\u001b[32m********************************************************\u001b[0m\n",
      "\u001b[32m***** Suggested tool call (call_j16b): currency_converter_ag *****\u001b[0m\n",
      "Arguments: \n",
      "{\"amount\":\"100\",\"base_currency\":\"USD\",\"quote_currency\":\"EUR\"}\n",
      "\u001b[32m******************************************************************\u001b[0m\n",
      "\n",
      "--------------------------------------------------------------------------------\n",
      "\u001b[35m\n",
      ">>>>>>>> EXECUTING FUNCTION get_news_ag...\u001b[0m\n",
      "\u001b[35m\n",
      ">>>>>>>> EXECUTING FUNCTION currency_converter_ag...\u001b[0m\n",
      "\u001b[33muser_proxy\u001b[0m (to assistant_agent):\n",
      "\n",
      "\u001b[33muser_proxy\u001b[0m (to assistant_agent):\n",
      "\n",
      "\u001b[32m***** Response from calling tool (call_8vhm) *****\u001b[0m\n",
      "[\n",
      "  {\n",
      "    \"date\": \"2024-10-01T23:30:00+00:00\",\n",
      "    \"title\": \"Nvidia just dropped a bombshell: Its new AI model is open, massive, and ready to rival GPT-4\",\n",
      "    \"body\": \"Nvidia has released NVLM 1.0, a powerful open-source AI model that rivals GPT-4 and Google's systems, marking a major breakthrough in multimodal language models for vision and text tasks.\",\n",
      "    \"url\": \"https://venturebeat.com/ai/nvidia-just-dropped-a-bombshell-its-new-ai-model-is-open-massive-and-ready-to-rival-gpt-4/\",\n",
      "    \"image\": \"https://venturebeat.com/wp-content/uploads/2024/10/nuneybits_Vector_art_of_a_human_brain_rendered_in_a_semi-transp_907d536c-6a14-4c28-8c81-3d144ea0de3e.webp?w=986?w=1200&strip=all\",\n",
      "    \"source\": \"VentureBeat\"\n",
      "  },\n",
      "  {\n",
      "    \"date\": \"2024-10-02T01:37:00+00:00\",\n",
      "    \"title\": \"Oracle Building $6.5 Billion Data Center In Malaysia Amid AI Boom\",\n",
      "    \"body\": \"Oracle will invest more than $6.5 billion to develop a data center in Malaysia amid booming demand for AI applications and cloud services across the region.\",\n",
      "    \"url\": \"https://www.forbes.com/sites/yessarrosendar/2024/10/01/oracle-building-65-billion-data-center-in-malaysia-amid-ai-boom/\",\n",
      "    \"image\": \"https://imageio.forbes.com/specials-images/imageserve/66fca0961b115a898f126126/0x0.jpg?format=jpg&height=900&width=1600&fit=bounds\",\n",
      "    \"source\": \"Forbes\"\n",
      "  },\n",
      "  {\n",
      "    \"date\": \"2024-10-01T19:46:00+00:00\",\n",
      "    \"title\": \"New Microsoft Copilot features include natural AI voice interactions and daily news summary\",\n",
      "    \"body\": \"Microsoft is revamping its Copilot personal AI assistant with a new design, a daily news summary, and natural voice interactions,\",\n",
      "    \"url\": \"https://www.geekwire.com/2024/new-microsoft-copilot-features-include-natural-ai-voice-interactions-and-daily-news-summary/\",\n",
      "    \"image\": \"https://cdn.geekwire.com/wp-content/uploads/2024/10/copilot.png\",\n",
      "    \"source\": \"GeekWire\"\n",
      "  },\n",
      "  {\n",
      "    \"date\": \"2024-10-01T17:08:00+00:00\",\n",
      "    \"title\": \"Amazon recently rolled out a new AI chatbot that is 'safer than ChatGPT' for employees to use\",\n",
      "    \"body\": \"The company has repeatedly warned employees not to use ChatGPT at work. To help, it recently introduced an internal alternative.\",\n",
      "    \"url\": \"https://www.businessinsider.com/amazon-cedric-safer-ai-chatbot-employees-2024-9\",\n",
      "    \"image\": \"https://i.insider.com/66fb7c2af44bdb4cfa386658?width=1200&format=jpeg\",\n",
      "    \"source\": \"Business Insider\"\n",
      "  },\n",
      "  {\n",
      "    \"date\": \"2024-10-01T15:52:00+00:00\",\n",
      "    \"title\": \"Singapore looks for 'practical' medical breakthroughs with new AI research center\",\n",
      "    \"body\": \"The new research facility will focus its AI development efforts on four clinical areas, including mental health and cancer screening.\",\n",
      "    \"url\": \"https://www.zdnet.com/article/singapore-looks-for-practical-medical-breakthroughs-with-new-ai-research-center/\",\n",
      "    \"image\": \"https://www.zdnet.com/a/img/resize/bea85c7c8ad66e7b9bb2191a18d1e9b1231123a0/2024/10/01/2043c75b-4ccd-4e35-8045-1790c1828a6d/medical-tech-just-super102024.jpg?auto=webp&width=1280\",\n",
      "    \"source\": \"ZDNet\"\n",
      "  },\n",
      "  {\n",
      "    \"date\": \"2024-10-01T18:26:00+00:00\",\n",
      "    \"title\": \"Meta might train AI with photos from your Ray-Ban smart glasses without telling you\",\n",
      "    \"body\": \"Meta won't confirm whether it'll train its AI with photos you take with the Ray-Ban smart glasses, which can be a big problem.\",\n",
      "    \"url\": \"https://bgr.com/tech/meta-might-train-ai-with-photos-from-your-ray-ban-smart-glasses-without-telling-you/\",\n",
      "    \"image\": \"https://bgr.com/wp-content/uploads/2023/09/meta-rayban-glasses.jpeg?quality=82&strip=all\",\n",
      "    \"source\": \"BGR\"\n",
      "  },\n",
      "  {\n",
      "    \"date\": \"2024-10-01T19:03:00+00:00\",\n",
      "    \"title\": \"Westinghouse's new nuclear microreactor could power tomorrow's AI data centers\",\n",
      "    \"body\": \"Westinghouse is moving forward with a new microreactor that could power AI data centers for nearly a decade without refueling.\",\n",
      "    \"url\": \"https://www.digitaltrends.com/computing/westinghouse-nuclear-reactor-ai-data-centers/\",\n",
      "    \"image\": \"https://www.digitaltrends.com/wp-content/uploads/2024/10/eVinci-graphic.jpg?resize=1200,630&p=1\",\n",
      "    \"source\": \"Digital Trends\"\n",
      "  },\n",
      "  {\n",
      "    \"date\": \"2024-10-01T18:26:00+00:00\",\n",
      "    \"title\": \"Mark Cuban says his puppy is 'smarter than AI is today'\",\n",
      "    \"body\": \"Forging an unlikely friendship between shark and dog, Mark Cuban recently praised canines as catching on faster than Silicon Valley's latest darling. Tech's most recent puppy, generative AI, has some house training to do,\",\n",
      "    \"url\": \"https://www.msn.com/en-us/news/technology/mark-cuban-says-his-puppy-is-smarter-than-ai-is-today/ar-AA1rxxBR\",\n",
      "    \"image\": \"https://img-s-msn-com.akamaized.net/tenant/amp/entityid/AA1rxuXo.img?w=2048&h=1367&m=4&q=81\",\n",
      "    \"source\": \"MSN\"\n",
      "  },\n",
      "  {\n",
      "    \"date\": \"2024-10-01T16:02:00+00:00\",\n",
      "    \"title\": \"Microsoft's mammoth AI bet will lead to over $100 billion in data center leases\",\n",
      "    \"body\": \"The company recently confirmed its participation in\\u00a0a fund\\u00a0to back the development of data centers and energy infrastructure, mainly in the U.S.\",\n",
      "    \"url\": \"https://www.nbcnews.com/business/business-news/microsofts-mammoth-ai-bet-will-lead-100-billion-data-center-leases-rcna173468\",\n",
      "    \"image\": \"https://media-cldnry.s-nbcnews.com/image/upload/t_nbcnews-fp-1200-630,f_auto,q_auto:best/rockcms/2024-10/241001-data-processing-cables-se-1155a-888a7d.jpg\",\n",
      "    \"source\": \"NBC News\"\n",
      "  },\n",
      "  {\n",
      "    \"date\": \"2024-10-01T23:16:00+00:00\",\n",
      "    \"title\": \"Equinix raises $15B in new capital to invest in xScale data centers to meet AI demand\",\n",
      "    \"body\": \"Equinix has raised $15 billion in funding to expand its xScale data centers for AI, particularly for investments in the U.S.\",\n",
      "    \"url\": \"https://venturebeat.com/ai/equinix-raises-15b-in-new-capital-to-invest-in-xscale-data-centers-to-meet-ai-demand/\",\n",
      "    \"image\": \"https://venturebeat.com/wp-content/uploads/2021/09/equinix.jpg?w=1024?w=1200&strip=all\",\n",
      "    \"source\": \"VentureBeat\"\n",
      "  }\n",
      "]\n",
      "\u001b[32m**************************************************\u001b[0m\n",
      "\n",
      "--------------------------------------------------------------------------------\n",
      "\u001b[33muser_proxy\u001b[0m (to assistant_agent):\n",
      "\n",
      "\u001b[32m***** Response from calling tool (call_j16b) *****\u001b[0m\n",
      "90.29\n",
      "\u001b[32m**************************************************\u001b[0m\n",
      "\n",
      "--------------------------------------------------------------------------------\n",
      "\u001b[33massistant_agent\u001b[0m (to user_proxy):\n",
      "\n",
      "100 USD is equivalent to 90.29 EUR.\n",
      "\n",
      "Here are the top 10 latest news about AI:\n",
      "\n",
      "* Nvidia just dropped a bombshell: Its new AI model is open, massive, and ready to rival GPT-4\n",
      "* Oracle Building $6.5 Billion Data Center In Malaysia Amid AI Boom\n",
      "* New Microsoft Copilot features include natural AI voice interactions and daily news summary\n",
      "* Amazon recently rolled out a new AI chatbot that is 'safer than ChatGPT' for employees to use\n",
      "* Singapore looks for 'practical' medical breakthroughs with new AI research center\n",
      "* Meta might train AI with photos from your Ray-Ban smart glasses without telling you\n",
      "* Westinghouse's new nuclear microreactor could power tomorrow's AI data centers\n",
      "* Mark Cuban says his puppy is 'smarter than AI is today'\n",
      "* Microsoft's mammoth AI bet will lead to over $100 billion in data center leases\n",
      "* Equinix raises $15B in new capital to invest in xScale data centers to meet AI demand\n",
      "\n",
      "--------------------------------------------------------------------------------\n",
      "\u001b[33muser_proxy\u001b[0m (to assistant_agent):\n",
      "\n",
      "\n",
      "\n",
      "--------------------------------------------------------------------------------\n",
      "\u001b[33massistant_agent\u001b[0m (to user_proxy):\n",
      "\n",
      "TERMINATE\n",
      "\n",
      "--------------------------------------------------------------------------------\n"
     ]
    }
   ],
   "source": [
    "with Cache.disk() as cache:\n",
    "    # start the conversation\n",
    "    query = \"\"\"\"What's are the top 10 latest news about AI (list in bullets)\n",
    "and how much is 100 USD in EUR?\"\"\"\n",
    "\n",
    "    res = user_proxy.initiate_chat(Assistant_Agent, message=query, summary_method=\"reflection_with_llm\", cache=cache)"
   ]
  },
  {
   "cell_type": "code",
   "execution_count": null,
   "id": "365f8eb5",
   "metadata": {},
   "outputs": [],
   "source": []
  }
 ],
 "metadata": {
  "front_matter": {
   "description": "Learn how to register function calls using AssistantAgent and UserProxyAgent in AutoGen.",
   "tags": [
    "function call",
    "tool use"
   ]
  },
  "kernelspec": {
   "display_name": "flaml_dev",
   "language": "python",
   "name": "python3"
  },
  "language_info": {
   "codemirror_mode": {
    "name": "ipython",
    "version": 3
   },
   "file_extension": ".py",
   "mimetype": "text/x-python",
   "name": "python",
   "nbconvert_exporter": "python",
   "pygments_lexer": "ipython3",
   "version": "3.11.10"
  }
 },
 "nbformat": 4,
 "nbformat_minor": 5
}
