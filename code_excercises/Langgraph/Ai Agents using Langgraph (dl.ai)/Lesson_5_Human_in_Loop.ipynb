{
 "cells": [
  {
   "cell_type": "markdown",
   "id": "8ad976db-fb87-4a92-b0d2-06defc098339",
   "metadata": {},
   "source": [
    "# Lesson 5: Human in the Loop"
   ]
  },
  {
   "cell_type": "markdown",
   "id": "91d756c3-9c97-4155-9b56-8ecfed5f1876",
   "metadata": {},
   "source": [
    "Note: This notebook is running in a later version of langgraph that it was filmed with. The later version has a couple of key additions:\n",
    "- Additional state information is stored to memory and displayed when using `get_state()` or `get_state_history()`.\n",
    "- State is additionally stored every state transition while previously it was stored at an interrupt or at the end.\n",
    "These change the command output slightly, but are a useful addtion to the information available."
   ]
  },
  {
   "cell_type": "code",
   "execution_count": 21,
   "id": "f5762271-8736-4e94-9444-8c92bd0e8074",
   "metadata": {
    "height": 63
   },
   "outputs": [],
   "source": [
    "from dotenv import load_dotenv\n",
    "\n",
    "_ = load_dotenv()"
   ]
  },
  {
   "cell_type": "code",
   "execution_count": 22,
   "id": "d0168aee-bce9-4d60-b827-f86a88187e31",
   "metadata": {
    "height": 180
   },
   "outputs": [],
   "source": [
    "from langgraph.graph import StateGraph, END\n",
    "from typing import TypedDict, Annotated\n",
    "import operator\n",
    "from langchain_core.messages import AnyMessage, SystemMessage, HumanMessage, ToolMessage\n",
    "#from langchain_openai import ChatOpenAI\n",
    "from langchain_community.tools.tavily_search import TavilySearchResults\n",
    "from langgraph.checkpoint.sqlite import SqliteSaver\n",
    "from IPython.display import Image, display\n",
    "import sqlite3\n",
    "conn = sqlite3.connect(\"checkpoints.sqlite\", check_same_thread=False)\n",
    "memory = SqliteSaver(conn)\n",
    "#memory = SqliteSaver.from_conn_string(\":memory:\")"
   ]
  },
  {
   "cell_type": "code",
   "execution_count": 23,
   "id": "166dd307",
   "metadata": {},
   "outputs": [],
   "source": [
    "import os\n",
    "from langchain_groq import ChatGroq\n",
    "model = ChatGroq(model_name=\"llama3-groq-70b-8192-tool-use-preview\", api_key=os.environ.get(\"GROQ_API_KEY\"))"
   ]
  },
  {
   "cell_type": "code",
   "execution_count": 24,
   "id": "2589c5b6-6cc2-4594-9a17-dccdcf676054",
   "metadata": {
    "height": 571
   },
   "outputs": [],
   "source": [
    "from uuid import uuid4\n",
    "from langchain_core.messages import AnyMessage, SystemMessage, HumanMessage, AIMessage\n",
    "\n",
    "\"\"\"\n",
    "In previous examples we've annotated the `messages` state key\n",
    "with the default `operator.add` or `+` reducer, which always\n",
    "appends new messages to the end of the existing messages array.\n",
    "\n",
    "Now, to support replacing existing messages, we annotate the\n",
    "`messages` key with a customer reducer function, which replaces\n",
    "messages with the same `id`, and appends them otherwise.\n",
    "\"\"\"\n",
    "def reduce_messages(left: list[AnyMessage], right: list[AnyMessage]) -> list[AnyMessage]:\n",
    "    # assign ids to messages that don't have them\n",
    "    for message in right:\n",
    "        if not message.id:\n",
    "            message.id = str(uuid4())\n",
    "    # merge the new messages with the existing messages\n",
    "    merged = left.copy()\n",
    "    for message in right:\n",
    "        for i, existing in enumerate(merged):\n",
    "            # replace any existing messages with the same id\n",
    "            if existing.id == message.id:\n",
    "                merged[i] = message\n",
    "                break\n",
    "        else:\n",
    "            # append any new messages to the end\n",
    "            merged.append(message)\n",
    "    return merged\n",
    "\n",
    "class AgentState(TypedDict):\n",
    "    messages: Annotated[list[AnyMessage], reduce_messages]"
   ]
  },
  {
   "cell_type": "code",
   "execution_count": 25,
   "id": "a2ba84ec-c172-4de7-ac55-e3158a531b23",
   "metadata": {
    "height": 30
   },
   "outputs": [],
   "source": [
    "tool = TavilySearchResults(max_results=2)"
   ]
  },
  {
   "cell_type": "markdown",
   "id": "d58320dc-c542-4a3c-bcf1-088909f9b075",
   "metadata": {},
   "source": [
    "## Manual human approval"
   ]
  },
  {
   "cell_type": "code",
   "execution_count": 26,
   "id": "46a0e94e-d015-4106-b439-dbcd2fcb8bb0",
   "metadata": {
    "height": 656
   },
   "outputs": [],
   "source": [
    "class Agent:\n",
    "    def __init__(self, model, tools, system=\"\", checkpointer=None):\n",
    "        self.system = system\n",
    "        graph = StateGraph(AgentState)\n",
    "        graph.add_node(\"llm\", self.call_llm)\n",
    "        graph.add_node(\"action\", self.take_action)\n",
    "        \n",
    "        graph.add_conditional_edges(\"llm\", self.exists_action, {True: \"action\", False: END})\n",
    "        graph.add_edge(\"action\", \"llm\")\n",
    "        graph.set_entry_point(\"llm\")\n",
    "\n",
    "        self.graph = graph.compile(\n",
    "            checkpointer=checkpointer,\n",
    "            interrupt_before=[\"action\"]\n",
    "        )\n",
    "        display(Image(self.graph.get_graph().draw_mermaid_png()))\n",
    "        \n",
    "        self.tools = {t.name: t for t in tools}\n",
    "        self.model = model.bind_tools(tools)\n",
    "\n",
    "    def call_llm(self, state: AgentState):\n",
    "        messages = state['messages']\n",
    "        if self.system:\n",
    "            messages = [SystemMessage(content=self.system)] + messages\n",
    "        message = self.model.invoke(messages)\n",
    "        return {'messages': [message]}\n",
    "\n",
    "    def exists_action(self, state: AgentState):\n",
    "        print(state)\n",
    "        result = state['messages'][-1]\n",
    "        return len(result.tool_calls) > 0\n",
    "\n",
    "    def take_action(self, state: AgentState):\n",
    "        tool_calls = state['messages'][-1].tool_calls\n",
    "        results = []\n",
    "        for t in tool_calls:\n",
    "            print(f\"Calling: {t}\")\n",
    "            result = self.tools[t['name']].invoke(t['args'])\n",
    "            results.append(ToolMessage(tool_call_id=t['id'], name=t['name'], content=str(result)))\n",
    "        print(\"Back to the model!\")\n",
    "        return {'messages': results}"
   ]
  },
  {
   "cell_type": "code",
   "execution_count": 27,
   "id": "10084a02-2928-4945-9f7c-ad3f5b33caf7",
   "metadata": {
    "height": 146
   },
   "outputs": [
    {
     "data": {
      "image/jpeg": "[encoded data removed]",
      "text/plain": [
       "<IPython.core.display.Image object>"
      ]
     },
     "metadata": {},
     "output_type": "display_data"
    }
   ],
   "source": [
    "prompt = \"\"\"You are a smart research assistant. Use the search engine to look up information. \\\n",
    "You are allowed to make multiple calls (either together or in sequence). \\\n",
    "Only look up information when you are sure of what you want. \\\n",
    "If you need to look up some information before asking a follow up question, you are allowed to do that!\n",
    "\"\"\"\n",
    "#model = ChatOpenAI(model=\"gpt-3.5-turbo\")\n",
    "abot = Agent(model, [tool], system=prompt, checkpointer=memory)"
   ]
  },
  {
   "cell_type": "code",
   "execution_count": 28,
   "id": "714d1205-f8fc-4912-b148-2a45da99219c",
   "metadata": {
    "height": 112
   },
   "outputs": [
    {
     "name": "stdout",
     "output_type": "stream",
     "text": [
      "{'messages': [HumanMessage(content='Whats the weather in SF?', additional_kwargs={}, response_metadata={}, id='c5b1bc96-7cb4-42a2-8e53-c4e1a9357169'), AIMessage(content=\"I'm sorry but I do not have the capability to perform this task for you, I am happy to help you with any other queries you may have.\", additional_kwargs={}, response_metadata={'token_usage': {'completion_tokens': 32, 'prompt_tokens': 292, 'total_tokens': 324, 'completion_time': 0.099142184, 'prompt_time': 0.020916217, 'queue_time': 0.012551819999999998, 'total_time': 0.120058401}, 'model_name': 'llama3-groq-70b-8192-tool-use-preview', 'system_fingerprint': 'fp_ee4b521143', 'finish_reason': 'stop', 'logprobs': None}, id='run-9591457b-c5a4-440b-b8bc-114b67978cf2-0', usage_metadata={'input_tokens': 292, 'output_tokens': 32, 'total_tokens': 324}), HumanMessage(content='Whats the weather in SF?', additional_kwargs={}, response_metadata={}, id='877004dd-29dd-4b42-aed5-d0b5b3a10127'), AIMessage(content=\"I'm sorry but I do not have the capability to perform this task for you, I am happy to help you with any other queries you may have.\", additional_kwargs={}, response_metadata={'token_usage': {'completion_tokens': 32, 'prompt_tokens': 339, 'total_tokens': 371, 'completion_time': 0.099096831, 'prompt_time': 0.024917757, 'queue_time': 0.008230330000000001, 'total_time': 0.124014588}, 'model_name': 'llama3-groq-70b-8192-tool-use-preview', 'system_fingerprint': 'fp_ee4b521143', 'finish_reason': 'stop', 'logprobs': None}, id='run-80a7268f-13d7-40a7-bf5f-3799b94cf41f-0', usage_metadata={'input_tokens': 339, 'output_tokens': 32, 'total_tokens': 371})]}\n",
      "{'messages': [AIMessage(content=\"I'm sorry but I do not have the capability to perform this task for you, I am happy to help you with any other queries you may have.\", additional_kwargs={}, response_metadata={'token_usage': {'completion_tokens': 32, 'prompt_tokens': 339, 'total_tokens': 371, 'completion_time': 0.099096831, 'prompt_time': 0.024917757, 'queue_time': 0.008230330000000001, 'total_time': 0.124014588}, 'model_name': 'llama3-groq-70b-8192-tool-use-preview', 'system_fingerprint': 'fp_ee4b521143', 'finish_reason': 'stop', 'logprobs': None}, id='run-80a7268f-13d7-40a7-bf5f-3799b94cf41f-0', usage_metadata={'input_tokens': 339, 'output_tokens': 32, 'total_tokens': 371})]}\n"
     ]
    }
   ],
   "source": [
    "messages = [HumanMessage(content=\"Whats the weather in SF?\")]\n",
    "thread = {\"configurable\": {\"thread_id\": \"1\"}}\n",
    "for event in abot.graph.stream({\"messages\": messages}, thread):\n",
    "    for v in event.values():\n",
    "        print(v)"
   ]
  },
  {
   "cell_type": "code",
   "execution_count": 29,
   "id": "83588e70-254f-4f83-a510-c8ae81e729b0",
   "metadata": {
    "height": 30
   },
   "outputs": [
    {
     "name": "stdout",
     "output_type": "stream",
     "text": [
      "StateSnapshot(values={'messages': [HumanMessage(content='Whats the weather in SF?', additional_kwargs={}, response_metadata={}, id='c5b1bc96-7cb4-42a2-8e53-c4e1a9357169'), AIMessage(content=\"I'm sorry but I do not have the capability to perform this task for you, I am happy to help you with any other queries you may have.\", additional_kwargs={}, response_metadata={'token_usage': {'completion_tokens': 32, 'prompt_tokens': 292, 'total_tokens': 324, 'completion_time': 0.099142184, 'prompt_time': 0.020916217, 'queue_time': 0.012551819999999998, 'total_time': 0.120058401}, 'model_name': 'llama3-groq-70b-8192-tool-use-preview', 'system_fingerprint': 'fp_ee4b521143', 'finish_reason': 'stop', 'logprobs': None}, id='run-9591457b-c5a4-440b-b8bc-114b67978cf2-0', usage_metadata={'input_tokens': 292, 'output_tokens': 32, 'total_tokens': 324}), HumanMessage(content='Whats the weather in SF?', additional_kwargs={}, response_metadata={}, id='877004dd-29dd-4b42-aed5-d0b5b3a10127'), AIMessage(content=\"I'm sorry but I do not have the capability to perform this task for you, I am happy to help you with any other queries you may have.\", additional_kwargs={}, response_metadata={'token_usage': {'completion_tokens': 32, 'prompt_tokens': 339, 'total_tokens': 371, 'completion_time': 0.099096831, 'prompt_time': 0.024917757, 'queue_time': 0.008230330000000001, 'total_time': 0.124014588}, 'model_name': 'llama3-groq-70b-8192-tool-use-preview', 'system_fingerprint': 'fp_ee4b521143', 'finish_reason': 'stop', 'logprobs': None}, id='run-80a7268f-13d7-40a7-bf5f-3799b94cf41f-0', usage_metadata={'input_tokens': 339, 'output_tokens': 32, 'total_tokens': 371})]}, next=(), config={'configurable': {'thread_id': '1', 'checkpoint_ns': '', 'checkpoint_id': '1ef89f01-a58f-693b-801a-adb3d4903359'}}, metadata={'source': 'loop', 'writes': {'llm': {'messages': [AIMessage(content=\"I'm sorry but I do not have the capability to perform this task for you, I am happy to help you with any other queries you may have.\", additional_kwargs={}, response_metadata={'token_usage': {'completion_tokens': 32, 'prompt_tokens': 339, 'total_tokens': 371, 'completion_time': 0.099096831, 'prompt_time': 0.024917757, 'queue_time': 0.008230330000000001, 'total_time': 0.124014588}, 'model_name': 'llama3-groq-70b-8192-tool-use-preview', 'system_fingerprint': 'fp_ee4b521143', 'finish_reason': 'stop', 'logprobs': None}, id='run-80a7268f-13d7-40a7-bf5f-3799b94cf41f-0', usage_metadata={'input_tokens': 339, 'output_tokens': 32, 'total_tokens': 371})]}}, 'step': 26, 'parents': {}}, created_at='2024-10-14T05:49:39.896949+00:00', parent_config={'configurable': {'thread_id': '1', 'checkpoint_ns': '', 'checkpoint_id': '1ef89f01-9e4d-6aed-8019-3c4a47dc5a3b'}}, tasks=())\n"
     ]
    }
   ],
   "source": [
    "print(abot.graph.get_state(thread))"
   ]
  },
  {
   "cell_type": "code",
   "execution_count": 30,
   "id": "6cb3ef4c-58b3-401b-b104-0d51e553d982",
   "metadata": {
    "height": 30
   },
   "outputs": [
    {
     "data": {
      "text/plain": [
       "()"
      ]
     },
     "execution_count": 30,
     "metadata": {},
     "output_type": "execute_result"
    }
   ],
   "source": [
    "abot.graph.get_state(thread).next"
   ]
  },
  {
   "cell_type": "markdown",
   "id": "f1f404d5-a3be-42c1-9990-b1e1ee011163",
   "metadata": {},
   "source": [
    "### continue after interrupt"
   ]
  },
  {
   "cell_type": "code",
   "execution_count": 31,
   "id": "dc3293b7-a50c-43c8-a022-8975e1e444b8",
   "metadata": {
    "height": 64
   },
   "outputs": [],
   "source": [
    "for event in abot.graph.stream(None, thread):\n",
    "    for v in event.values():\n",
    "        print(v)"
   ]
  },
  {
   "cell_type": "code",
   "execution_count": 32,
   "id": "0722c3d4-4cbf-43bf-81b0-50f634c4ce61",
   "metadata": {
    "height": 30
   },
   "outputs": [
    {
     "name": "stdout",
     "output_type": "stream",
     "text": [
      "StateSnapshot(values={'messages': [HumanMessage(content='Whats the weather in SF?', additional_kwargs={}, response_metadata={}, id='c5b1bc96-7cb4-42a2-8e53-c4e1a9357169'), AIMessage(content=\"I'm sorry but I do not have the capability to perform this task for you, I am happy to help you with any other queries you may have.\", additional_kwargs={}, response_metadata={'token_usage': {'completion_tokens': 32, 'prompt_tokens': 292, 'total_tokens': 324, 'completion_time': 0.099142184, 'prompt_time': 0.020916217, 'queue_time': 0.012551819999999998, 'total_time': 0.120058401}, 'model_name': 'llama3-groq-70b-8192-tool-use-preview', 'system_fingerprint': 'fp_ee4b521143', 'finish_reason': 'stop', 'logprobs': None}, id='run-9591457b-c5a4-440b-b8bc-114b67978cf2-0', usage_metadata={'input_tokens': 292, 'output_tokens': 32, 'total_tokens': 324}), HumanMessage(content='Whats the weather in SF?', additional_kwargs={}, response_metadata={}, id='877004dd-29dd-4b42-aed5-d0b5b3a10127'), AIMessage(content=\"I'm sorry but I do not have the capability to perform this task for you, I am happy to help you with any other queries you may have.\", additional_kwargs={}, response_metadata={'token_usage': {'completion_tokens': 32, 'prompt_tokens': 339, 'total_tokens': 371, 'completion_time': 0.099096831, 'prompt_time': 0.024917757, 'queue_time': 0.008230330000000001, 'total_time': 0.124014588}, 'model_name': 'llama3-groq-70b-8192-tool-use-preview', 'system_fingerprint': 'fp_ee4b521143', 'finish_reason': 'stop', 'logprobs': None}, id='run-80a7268f-13d7-40a7-bf5f-3799b94cf41f-0', usage_metadata={'input_tokens': 339, 'output_tokens': 32, 'total_tokens': 371})]}, next=(), config={'configurable': {'thread_id': '1', 'checkpoint_ns': '', 'checkpoint_id': '1ef89f01-a58f-693b-801a-adb3d4903359'}}, metadata={'source': 'loop', 'writes': {'llm': {'messages': [AIMessage(content=\"I'm sorry but I do not have the capability to perform this task for you, I am happy to help you with any other queries you may have.\", additional_kwargs={}, response_metadata={'token_usage': {'completion_tokens': 32, 'prompt_tokens': 339, 'total_tokens': 371, 'completion_time': 0.099096831, 'prompt_time': 0.024917757, 'queue_time': 0.008230330000000001, 'total_time': 0.124014588}, 'model_name': 'llama3-groq-70b-8192-tool-use-preview', 'system_fingerprint': 'fp_ee4b521143', 'finish_reason': 'stop', 'logprobs': None}, id='run-80a7268f-13d7-40a7-bf5f-3799b94cf41f-0', usage_metadata={'input_tokens': 339, 'output_tokens': 32, 'total_tokens': 371})]}}, 'step': 26, 'parents': {}}, created_at='2024-10-14T05:49:39.896949+00:00', parent_config={'configurable': {'thread_id': '1', 'checkpoint_ns': '', 'checkpoint_id': '1ef89f01-9e4d-6aed-8019-3c4a47dc5a3b'}}, tasks=())\n"
     ]
    }
   ],
   "source": [
    "print(abot.graph.get_state(thread))"
   ]
  },
  {
   "cell_type": "code",
   "execution_count": 33,
   "id": "6b2f82fe-3ec4-4917-be51-9fb10d1317fa",
   "metadata": {
    "height": 30
   },
   "outputs": [
    {
     "data": {
      "text/plain": [
       "()"
      ]
     },
     "execution_count": 33,
     "metadata": {},
     "output_type": "execute_result"
    }
   ],
   "source": [
    "abot.graph.get_state(thread).next"
   ]
  },
  {
   "cell_type": "code",
   "execution_count": 34,
   "id": "ee0fe1c7-77e2-499c-a2f9-1f739bb6ddf0",
   "metadata": {
    "height": 265
   },
   "outputs": [
    {
     "name": "stdout",
     "output_type": "stream",
     "text": [
      "{'messages': [HumanMessage(content='Whats the weather in LA?', additional_kwargs={}, response_metadata={}, id='2bb64664-d1a6-486a-8543-d96483adc6db'), AIMessage(content='', additional_kwargs={'tool_calls': [{'id': 'call_3tpn', 'function': {'arguments': '{\"query\": \"weather in LA\"}', 'name': 'tavily_search_results_json'}, 'type': 'function'}]}, response_metadata={'token_usage': {'completion_tokens': 32, 'prompt_tokens': 292, 'total_tokens': 324, 'completion_time': 0.099345351, 'prompt_time': 0.022563344, 'queue_time': 0.010916412, 'total_time': 0.121908695}, 'model_name': 'llama3-groq-70b-8192-tool-use-preview', 'system_fingerprint': 'fp_ee4b521143', 'finish_reason': 'tool_calls', 'logprobs': None}, id='run-7989240d-ae22-4473-bc60-e72076900089-0', tool_calls=[{'name': 'tavily_search_results_json', 'args': {'query': 'weather in LA'}, 'id': 'call_3tpn', 'type': 'tool_call'}], usage_metadata={'input_tokens': 292, 'output_tokens': 32, 'total_tokens': 324}), HumanMessage(content='Whats the weather in LA?', additional_kwargs={}, response_metadata={}, id='11ead076-e31d-4fe3-9653-9d9d12b55d40'), AIMessage(content='', additional_kwargs={'tool_calls': [{'id': 'call_xfjr', 'function': {'arguments': '{\"query\": \"weather in LA\"}', 'name': 'tavily_search_results_json'}, 'type': 'function'}, {'id': 'call_9nby', 'function': {'arguments': '{\"query\": \"weather in Los Angeles\"}', 'name': 'tavily_search_results_json'}, 'type': 'function'}]}, response_metadata={'token_usage': {'completion_tokens': 65, 'prompt_tokens': 337, 'total_tokens': 402, 'completion_time': 0.204838075, 'prompt_time': 0.02410684, 'queue_time': 0.009263116999999998, 'total_time': 0.228944915}, 'model_name': 'llama3-groq-70b-8192-tool-use-preview', 'system_fingerprint': 'fp_ee4b521143', 'finish_reason': 'tool_calls', 'logprobs': None}, id='run-f727c8df-fb0a-45f5-9677-8ad2c3dec9b4-0', tool_calls=[{'name': 'tavily_search_results_json', 'args': {'query': 'weather in LA'}, 'id': 'call_xfjr', 'type': 'tool_call'}, {'name': 'tavily_search_results_json', 'args': {'query': 'weather in Los Angeles'}, 'id': 'call_9nby', 'type': 'tool_call'}], usage_metadata={'input_tokens': 337, 'output_tokens': 65, 'total_tokens': 402}), HumanMessage(content='Whats the weather in LA?', additional_kwargs={}, response_metadata={}, id='d901c2b2-32b6-4336-a014-94db8beed732'), AIMessage(content='', additional_kwargs={'tool_calls': [{'id': 'call_84w2', 'function': {'arguments': '{\"query\":\"weather in Los Angeles\"}', 'name': 'tavily_search_results_json'}, 'type': 'function'}]}, response_metadata={'token_usage': {'completion_tokens': 32, 'prompt_tokens': 408, 'total_tokens': 440, 'completion_time': 0.09929778, 'prompt_time': 0.027952051, 'queue_time': 0.005150935000000002, 'total_time': 0.127249831}, 'model_name': 'llama3-groq-70b-8192-tool-use-preview', 'system_fingerprint': 'fp_ee4b521143', 'finish_reason': 'tool_calls', 'logprobs': None}, id='run-52aa435f-50eb-459f-b545-10ee8cd9ab28-0', tool_calls=[{'name': 'tavily_search_results_json', 'args': {'query': 'weather in Los Angeles'}, 'id': 'call_84w2', 'type': 'tool_call'}], usage_metadata={'input_tokens': 408, 'output_tokens': 32, 'total_tokens': 440})]}\n",
      "{'messages': [AIMessage(content='', additional_kwargs={'tool_calls': [{'id': 'call_84w2', 'function': {'arguments': '{\"query\":\"weather in Los Angeles\"}', 'name': 'tavily_search_results_json'}, 'type': 'function'}]}, response_metadata={'token_usage': {'completion_tokens': 32, 'prompt_tokens': 408, 'total_tokens': 440, 'completion_time': 0.09929778, 'prompt_time': 0.027952051, 'queue_time': 0.005150935000000002, 'total_time': 0.127249831}, 'model_name': 'llama3-groq-70b-8192-tool-use-preview', 'system_fingerprint': 'fp_ee4b521143', 'finish_reason': 'tool_calls', 'logprobs': None}, id='run-52aa435f-50eb-459f-b545-10ee8cd9ab28-0', tool_calls=[{'name': 'tavily_search_results_json', 'args': {'query': 'weather in Los Angeles'}, 'id': 'call_84w2', 'type': 'tool_call'}], usage_metadata={'input_tokens': 408, 'output_tokens': 32, 'total_tokens': 440})]}\n",
      "\n",
      " StateSnapshot(values={'messages': [HumanMessage(content='Whats the weather in LA?', additional_kwargs={}, response_metadata={}, id='2bb64664-d1a6-486a-8543-d96483adc6db'), AIMessage(content='', additional_kwargs={'tool_calls': [{'id': 'call_3tpn', 'function': {'arguments': '{\"query\": \"weather in LA\"}', 'name': 'tavily_search_results_json'}, 'type': 'function'}]}, response_metadata={'token_usage': {'completion_tokens': 32, 'prompt_tokens': 292, 'total_tokens': 324, 'completion_time': 0.099345351, 'prompt_time': 0.022563344, 'queue_time': 0.010916412, 'total_time': 0.121908695}, 'model_name': 'llama3-groq-70b-8192-tool-use-preview', 'system_fingerprint': 'fp_ee4b521143', 'finish_reason': 'tool_calls', 'logprobs': None}, id='run-7989240d-ae22-4473-bc60-e72076900089-0', tool_calls=[{'name': 'tavily_search_results_json', 'args': {'query': 'weather in LA'}, 'id': 'call_3tpn', 'type': 'tool_call'}], usage_metadata={'input_tokens': 292, 'output_tokens': 32, 'total_tokens': 324}), HumanMessage(content='Whats the weather in LA?', additional_kwargs={}, response_metadata={}, id='11ead076-e31d-4fe3-9653-9d9d12b55d40'), AIMessage(content='', additional_kwargs={'tool_calls': [{'id': 'call_xfjr', 'function': {'arguments': '{\"query\": \"weather in LA\"}', 'name': 'tavily_search_results_json'}, 'type': 'function'}, {'id': 'call_9nby', 'function': {'arguments': '{\"query\": \"weather in Los Angeles\"}', 'name': 'tavily_search_results_json'}, 'type': 'function'}]}, response_metadata={'token_usage': {'completion_tokens': 65, 'prompt_tokens': 337, 'total_tokens': 402, 'completion_time': 0.204838075, 'prompt_time': 0.02410684, 'queue_time': 0.009263116999999998, 'total_time': 0.228944915}, 'model_name': 'llama3-groq-70b-8192-tool-use-preview', 'system_fingerprint': 'fp_ee4b521143', 'finish_reason': 'tool_calls', 'logprobs': None}, id='run-f727c8df-fb0a-45f5-9677-8ad2c3dec9b4-0', tool_calls=[{'name': 'tavily_search_results_json', 'args': {'query': 'weather in LA'}, 'id': 'call_xfjr', 'type': 'tool_call'}, {'name': 'tavily_search_results_json', 'args': {'query': 'weather in Los Angeles'}, 'id': 'call_9nby', 'type': 'tool_call'}], usage_metadata={'input_tokens': 337, 'output_tokens': 65, 'total_tokens': 402}), HumanMessage(content='Whats the weather in LA?', additional_kwargs={}, response_metadata={}, id='d901c2b2-32b6-4336-a014-94db8beed732'), AIMessage(content='', additional_kwargs={'tool_calls': [{'id': 'call_84w2', 'function': {'arguments': '{\"query\":\"weather in Los Angeles\"}', 'name': 'tavily_search_results_json'}, 'type': 'function'}]}, response_metadata={'token_usage': {'completion_tokens': 32, 'prompt_tokens': 408, 'total_tokens': 440, 'completion_time': 0.09929778, 'prompt_time': 0.027952051, 'queue_time': 0.005150935000000002, 'total_time': 0.127249831}, 'model_name': 'llama3-groq-70b-8192-tool-use-preview', 'system_fingerprint': 'fp_ee4b521143', 'finish_reason': 'tool_calls', 'logprobs': None}, id='run-52aa435f-50eb-459f-b545-10ee8cd9ab28-0', tool_calls=[{'name': 'tavily_search_results_json', 'args': {'query': 'weather in Los Angeles'}, 'id': 'call_84w2', 'type': 'tool_call'}], usage_metadata={'input_tokens': 408, 'output_tokens': 32, 'total_tokens': 440})]}, next=('action',), config={'configurable': {'thread_id': '2', 'checkpoint_ns': '', 'checkpoint_id': '1ef89f01-aa9e-6c64-8007-f3b7e288dfdd'}}, metadata={'source': 'loop', 'writes': {'llm': {'messages': [AIMessage(content='', additional_kwargs={'tool_calls': [{'id': 'call_84w2', 'function': {'arguments': '{\"query\":\"weather in Los Angeles\"}', 'name': 'tavily_search_results_json'}, 'type': 'function'}]}, response_metadata={'token_usage': {'completion_tokens': 32, 'prompt_tokens': 408, 'total_tokens': 440, 'completion_time': 0.09929778, 'prompt_time': 0.027952051, 'queue_time': 0.005150935000000002, 'total_time': 0.127249831}, 'model_name': 'llama3-groq-70b-8192-tool-use-preview', 'system_fingerprint': 'fp_ee4b521143', 'finish_reason': 'tool_calls', 'logprobs': None}, id='run-52aa435f-50eb-459f-b545-10ee8cd9ab28-0', tool_calls=[{'name': 'tavily_search_results_json', 'args': {'query': 'weather in Los Angeles'}, 'id': 'call_84w2', 'type': 'tool_call'}], usage_metadata={'input_tokens': 408, 'output_tokens': 32, 'total_tokens': 440})]}}, 'step': 7, 'parents': {}}, created_at='2024-10-14T05:49:40.427463+00:00', parent_config={'configurable': {'thread_id': '2', 'checkpoint_ns': '', 'checkpoint_id': '1ef89f01-a5fc-64d3-8006-a57c8ba5ed50'}}, tasks=(PregelTask(id='d82963da-56aa-f76f-420f-7a5268e72d57', name='action', path=('__pregel_pull', 'action'), error=None, interrupts=(), state=None),)) \n",
      "\n",
      "aborting\n"
     ]
    }
   ],
   "source": [
    "messages = [HumanMessage(\"Whats the weather in LA?\")]\n",
    "thread = {\"configurable\": {\"thread_id\": \"2\"}}\n",
    "for event in abot.graph.stream({\"messages\": messages}, thread):\n",
    "    for v in event.values():\n",
    "        print(v)\n",
    "\n",
    "while abot.graph.get_state(thread).next:\n",
    "    print(\"\\n\", abot.graph.get_state(thread),\"\\n\")\n",
    "    _input = input(\"proceed?\")\n",
    "    if _input != \"y\":\n",
    "        print(\"aborting\")\n",
    "        break\n",
    "    for event in abot.graph.stream(None, thread):\n",
    "        for v in event.values():\n",
    "            print(v)"
   ]
  },
  {
   "cell_type": "markdown",
   "id": "7bbe5689-54ab-49ca-9055-6e5216abd523",
   "metadata": {},
   "source": [
    "## Modify State\n",
    "Run until the interrupt and then modify the state."
   ]
  },
  {
   "cell_type": "code",
   "execution_count": 35,
   "id": "98f303b1-a4d0-408c-8cc0-515ff980717f",
   "metadata": {
    "height": 112
   },
   "outputs": [
    {
     "name": "stdout",
     "output_type": "stream",
     "text": [
      "{'messages': [HumanMessage(content='Whats the weather in LA?', additional_kwargs={}, response_metadata={}, id='68808277-7b95-45c4-a320-ce1a96711e3b'), AIMessage(content='', additional_kwargs={'tool_calls': [{'id': 'call_bz79', 'function': {'arguments': '{\"query\": \"current weather in Los Angeles\"}', 'name': 'tavily_search_results_json'}, 'type': 'function'}, {'id': 'call_zave', 'function': {'arguments': '{\"query\": \"weather forecast for Los Angeles\"}', 'name': 'tavily_search_results_json'}, 'type': 'function'}]}, response_metadata={'token_usage': {'completion_tokens': 68, 'prompt_tokens': 292, 'total_tokens': 360, 'completion_time': 0.215203057, 'prompt_time': 0.022402605, 'queue_time': 0.010913512, 'total_time': 0.237605662}, 'model_name': 'llama3-groq-70b-8192-tool-use-preview', 'system_fingerprint': 'fp_ee4b521143', 'finish_reason': 'tool_calls', 'logprobs': None}, id='run-b48d16fa-9c4c-4ab3-af27-582782bfe120-0', tool_calls=[{'name': 'tavily_search_results_json', 'args': {'query': 'current weather in Los Angeles'}, 'id': 'call_bz79', 'type': 'tool_call'}, {'name': 'tavily_search_results_json', 'args': {'query': 'weather forecast for Los Angeles'}, 'id': 'call_zave', 'type': 'tool_call'}], usage_metadata={'input_tokens': 292, 'output_tokens': 68, 'total_tokens': 360}), ToolMessage(content='54 degree celcius', name='tavily_search_results_json', id='f0826d8b-095a-41d9-977d-692612fade77', tool_call_id='call_bz79'), AIMessage(content='The current weather in Los Angeles is 54 degrees Celsius.', additional_kwargs={}, response_metadata={'token_usage': {'completion_tokens': 13, 'prompt_tokens': 377, 'total_tokens': 390, 'completion_time': 0.038483312, 'prompt_time': 0.027595434, 'queue_time': 0.005548903000000004, 'total_time': 0.066078746}, 'model_name': 'llama3-groq-70b-8192-tool-use-preview', 'system_fingerprint': 'fp_ee4b521143', 'finish_reason': 'stop', 'logprobs': None}, id='run-aa8e42d6-2a16-4412-a401-f8995c4d8c07-0', usage_metadata={'input_tokens': 377, 'output_tokens': 13, 'total_tokens': 390}), HumanMessage(content='Whats the weather in LA?', additional_kwargs={}, response_metadata={}, id='da23c91f-75ab-4476-bf3d-cd64ff75a73f'), AIMessage(content='I already found that information for you. The current weather in Los Angeles is 54 degrees Celsius.', additional_kwargs={}, response_metadata={'token_usage': {'completion_tokens': 21, 'prompt_tokens': 405, 'total_tokens': 426, 'completion_time': 0.064088417, 'prompt_time': 0.02880317, 'queue_time': 0.0045570160000000005, 'total_time': 0.092891587}, 'model_name': 'llama3-groq-70b-8192-tool-use-preview', 'system_fingerprint': 'fp_ee4b521143', 'finish_reason': 'stop', 'logprobs': None}, id='run-9413cbe2-0a9b-42b0-9263-8f392cd70887-0', usage_metadata={'input_tokens': 405, 'output_tokens': 21, 'total_tokens': 426}), HumanMessage(content='Whats the weather in LA?', additional_kwargs={}, response_metadata={}, id='9b4c67fa-6816-4912-9e14-215621530230'), AIMessage(content=\"I've already provided the current weather information for Los Angeles. Is there anything else you need help with?\", additional_kwargs={}, response_metadata={'token_usage': {'completion_tokens': 22, 'prompt_tokens': 441, 'total_tokens': 463, 'completion_time': 0.067401787, 'prompt_time': 0.031017395, 'queue_time': 0.002971282000000002, 'total_time': 0.098419182}, 'model_name': 'llama3-groq-70b-8192-tool-use-preview', 'system_fingerprint': 'fp_ee4b521143', 'finish_reason': 'stop', 'logprobs': None}, id='run-0a11982b-5460-4d99-bda2-d1b4868f573a-0', usage_metadata={'input_tokens': 441, 'output_tokens': 22, 'total_tokens': 463})]}\n",
      "{'messages': [AIMessage(content=\"I've already provided the current weather information for Los Angeles. Is there anything else you need help with?\", additional_kwargs={}, response_metadata={'token_usage': {'completion_tokens': 22, 'prompt_tokens': 441, 'total_tokens': 463, 'completion_time': 0.067401787, 'prompt_time': 0.031017395, 'queue_time': 0.002971282000000002, 'total_time': 0.098419182}, 'model_name': 'llama3-groq-70b-8192-tool-use-preview', 'system_fingerprint': 'fp_ee4b521143', 'finish_reason': 'stop', 'logprobs': None}, id='run-0a11982b-5460-4d99-bda2-d1b4868f573a-0', usage_metadata={'input_tokens': 441, 'output_tokens': 22, 'total_tokens': 463})]}\n"
     ]
    }
   ],
   "source": [
    "messages = [HumanMessage(\"Whats the weather in LA?\")]\n",
    "thread = {\"configurable\": {\"thread_id\": \"3\"}}\n",
    "for event in abot.graph.stream({\"messages\": messages}, thread):\n",
    "    for v in event.values():\n",
    "        print(v)"
   ]
  },
  {
   "cell_type": "code",
   "execution_count": 36,
   "id": "bf4dcb93-6298-4cfd-b3ce-61dfac7fb35f",
   "metadata": {
    "height": 30
   },
   "outputs": [
    {
     "data": {
      "text/plain": [
       "StateSnapshot(values={'messages': [HumanMessage(content='Whats the weather in LA?', additional_kwargs={}, response_metadata={}, id='68808277-7b95-45c4-a320-ce1a96711e3b'), AIMessage(content='', additional_kwargs={'tool_calls': [{'id': 'call_bz79', 'function': {'arguments': '{\"query\": \"current weather in Los Angeles\"}', 'name': 'tavily_search_results_json'}, 'type': 'function'}, {'id': 'call_zave', 'function': {'arguments': '{\"query\": \"weather forecast for Los Angeles\"}', 'name': 'tavily_search_results_json'}, 'type': 'function'}]}, response_metadata={'token_usage': {'completion_tokens': 68, 'prompt_tokens': 292, 'total_tokens': 360, 'completion_time': 0.215203057, 'prompt_time': 0.022402605, 'queue_time': 0.010913512, 'total_time': 0.237605662}, 'model_name': 'llama3-groq-70b-8192-tool-use-preview', 'system_fingerprint': 'fp_ee4b521143', 'finish_reason': 'tool_calls', 'logprobs': None}, id='run-b48d16fa-9c4c-4ab3-af27-582782bfe120-0', tool_calls=[{'name': 'tavily_search_results_json', 'args': {'query': 'current weather in Los Angeles'}, 'id': 'call_bz79', 'type': 'tool_call'}, {'name': 'tavily_search_results_json', 'args': {'query': 'weather forecast for Los Angeles'}, 'id': 'call_zave', 'type': 'tool_call'}], usage_metadata={'input_tokens': 292, 'output_tokens': 68, 'total_tokens': 360}), ToolMessage(content='54 degree celcius', name='tavily_search_results_json', id='f0826d8b-095a-41d9-977d-692612fade77', tool_call_id='call_bz79'), AIMessage(content='The current weather in Los Angeles is 54 degrees Celsius.', additional_kwargs={}, response_metadata={'token_usage': {'completion_tokens': 13, 'prompt_tokens': 377, 'total_tokens': 390, 'completion_time': 0.038483312, 'prompt_time': 0.027595434, 'queue_time': 0.005548903000000004, 'total_time': 0.066078746}, 'model_name': 'llama3-groq-70b-8192-tool-use-preview', 'system_fingerprint': 'fp_ee4b521143', 'finish_reason': 'stop', 'logprobs': None}, id='run-aa8e42d6-2a16-4412-a401-f8995c4d8c07-0', usage_metadata={'input_tokens': 377, 'output_tokens': 13, 'total_tokens': 390}), HumanMessage(content='Whats the weather in LA?', additional_kwargs={}, response_metadata={}, id='da23c91f-75ab-4476-bf3d-cd64ff75a73f'), AIMessage(content='I already found that information for you. The current weather in Los Angeles is 54 degrees Celsius.', additional_kwargs={}, response_metadata={'token_usage': {'completion_tokens': 21, 'prompt_tokens': 405, 'total_tokens': 426, 'completion_time': 0.064088417, 'prompt_time': 0.02880317, 'queue_time': 0.0045570160000000005, 'total_time': 0.092891587}, 'model_name': 'llama3-groq-70b-8192-tool-use-preview', 'system_fingerprint': 'fp_ee4b521143', 'finish_reason': 'stop', 'logprobs': None}, id='run-9413cbe2-0a9b-42b0-9263-8f392cd70887-0', usage_metadata={'input_tokens': 405, 'output_tokens': 21, 'total_tokens': 426}), HumanMessage(content='Whats the weather in LA?', additional_kwargs={}, response_metadata={}, id='9b4c67fa-6816-4912-9e14-215621530230'), AIMessage(content=\"I've already provided the current weather information for Los Angeles. Is there anything else you need help with?\", additional_kwargs={}, response_metadata={'token_usage': {'completion_tokens': 22, 'prompt_tokens': 441, 'total_tokens': 463, 'completion_time': 0.067401787, 'prompt_time': 0.031017395, 'queue_time': 0.002971282000000002, 'total_time': 0.098419182}, 'model_name': 'llama3-groq-70b-8192-tool-use-preview', 'system_fingerprint': 'fp_ee4b521143', 'finish_reason': 'stop', 'logprobs': None}, id='run-0a11982b-5460-4d99-bda2-d1b4868f573a-0', usage_metadata={'input_tokens': 441, 'output_tokens': 22, 'total_tokens': 463})]}, next=(), config={'configurable': {'thread_id': '3', 'checkpoint_ns': '', 'checkpoint_id': '1ef89f01-c14f-6eeb-8009-6337c41afd6b'}}, metadata={'source': 'loop', 'writes': {'llm': {'messages': [AIMessage(content=\"I've already provided the current weather information for Los Angeles. Is there anything else you need help with?\", additional_kwargs={}, response_metadata={'token_usage': {'completion_tokens': 22, 'prompt_tokens': 441, 'total_tokens': 463, 'completion_time': 0.067401787, 'prompt_time': 0.031017395, 'queue_time': 0.002971282000000002, 'total_time': 0.098419182}, 'model_name': 'llama3-groq-70b-8192-tool-use-preview', 'system_fingerprint': 'fp_ee4b521143', 'finish_reason': 'stop', 'logprobs': None}, id='run-0a11982b-5460-4d99-bda2-d1b4868f573a-0', usage_metadata={'input_tokens': 441, 'output_tokens': 22, 'total_tokens': 463})]}}, 'step': 9, 'parents': {}}, created_at='2024-10-14T05:49:42.806869+00:00', parent_config={'configurable': {'thread_id': '3', 'checkpoint_ns': '', 'checkpoint_id': '1ef89f01-bd12-68e1-8008-c414fe702df2'}}, tasks=())"
      ]
     },
     "execution_count": 36,
     "metadata": {},
     "output_type": "execute_result"
    }
   ],
   "source": [
    "abot.graph.get_state(thread)"
   ]
  },
  {
   "cell_type": "code",
   "execution_count": 37,
   "id": "932883a4-c722-42bb-aec0-b4f41c5c81a4",
   "metadata": {
    "height": 30
   },
   "outputs": [],
   "source": [
    "current_values = abot.graph.get_state(thread)"
   ]
  },
  {
   "cell_type": "code",
   "execution_count": 38,
   "id": "ff362f49-dcf1-4ea1-a86c-e516e9ab897d",
   "metadata": {
    "height": 30
   },
   "outputs": [
    {
     "data": {
      "text/plain": [
       "AIMessage(content=\"I've already provided the current weather information for Los Angeles. Is there anything else you need help with?\", additional_kwargs={}, response_metadata={'token_usage': {'completion_tokens': 22, 'prompt_tokens': 441, 'total_tokens': 463, 'completion_time': 0.067401787, 'prompt_time': 0.031017395, 'queue_time': 0.002971282000000002, 'total_time': 0.098419182}, 'model_name': 'llama3-groq-70b-8192-tool-use-preview', 'system_fingerprint': 'fp_ee4b521143', 'finish_reason': 'stop', 'logprobs': None}, id='run-0a11982b-5460-4d99-bda2-d1b4868f573a-0', usage_metadata={'input_tokens': 441, 'output_tokens': 22, 'total_tokens': 463})"
      ]
     },
     "execution_count": 38,
     "metadata": {},
     "output_type": "execute_result"
    }
   ],
   "source": [
    "current_values.values['messages'][-1]"
   ]
  },
  {
   "cell_type": "code",
   "execution_count": 39,
   "id": "a7e15a20-83d7-434c-8551-bce8dcc32be0",
   "metadata": {
    "height": 30
   },
   "outputs": [
    {
     "data": {
      "text/plain": [
       "[]"
      ]
     },
     "execution_count": 39,
     "metadata": {},
     "output_type": "execute_result"
    }
   ],
   "source": [
    "current_values.values['messages'][-1].tool_calls"
   ]
  },
  {
   "cell_type": "code",
   "execution_count": 40,
   "id": "54ab2c74-f32e-490c-a85d-932d11444210",
   "metadata": {
    "height": 129
   },
   "outputs": [
    {
     "ename": "IndexError",
     "evalue": "list index out of range",
     "output_type": "error",
     "traceback": [
      "\u001b[0;31m---------------------------------------------------------------------------\u001b[0m",
      "\u001b[0;31mIndexError\u001b[0m                                Traceback (most recent call last)",
      "Cell \u001b[0;32mIn[40], line 1\u001b[0m\n\u001b[0;32m----> 1\u001b[0m _id \u001b[38;5;241m=\u001b[39m \u001b[43mcurrent_values\u001b[49m\u001b[38;5;241;43m.\u001b[39;49m\u001b[43mvalues\u001b[49m\u001b[43m[\u001b[49m\u001b[38;5;124;43m'\u001b[39;49m\u001b[38;5;124;43mmessages\u001b[39;49m\u001b[38;5;124;43m'\u001b[39;49m\u001b[43m]\u001b[49m\u001b[43m[\u001b[49m\u001b[38;5;241;43m-\u001b[39;49m\u001b[38;5;241;43m1\u001b[39;49m\u001b[43m]\u001b[49m\u001b[38;5;241;43m.\u001b[39;49m\u001b[43mtool_calls\u001b[49m\u001b[43m[\u001b[49m\u001b[38;5;241;43m0\u001b[39;49m\u001b[43m]\u001b[49m[\u001b[38;5;124m'\u001b[39m\u001b[38;5;124mid\u001b[39m\u001b[38;5;124m'\u001b[39m]\n\u001b[1;32m      2\u001b[0m \u001b[38;5;28mprint\u001b[39m(_id)\n\u001b[1;32m      4\u001b[0m current_values\u001b[38;5;241m.\u001b[39mvalues[\u001b[38;5;124m'\u001b[39m\u001b[38;5;124mmessages\u001b[39m\u001b[38;5;124m'\u001b[39m][\u001b[38;5;241m-\u001b[39m\u001b[38;5;241m1\u001b[39m]\u001b[38;5;241m.\u001b[39mtool_calls \u001b[38;5;241m=\u001b[39m [\n\u001b[1;32m      5\u001b[0m     {\u001b[38;5;124m'\u001b[39m\u001b[38;5;124mname\u001b[39m\u001b[38;5;124m'\u001b[39m: \u001b[38;5;124m'\u001b[39m\u001b[38;5;124mtavily_search_results_json\u001b[39m\u001b[38;5;124m'\u001b[39m,\n\u001b[1;32m      6\u001b[0m   \u001b[38;5;124m'\u001b[39m\u001b[38;5;124margs\u001b[39m\u001b[38;5;124m'\u001b[39m: {\u001b[38;5;124m'\u001b[39m\u001b[38;5;124mquery\u001b[39m\u001b[38;5;124m'\u001b[39m: \u001b[38;5;124m'\u001b[39m\u001b[38;5;124mcurrent weather in Louisiana\u001b[39m\u001b[38;5;124m'\u001b[39m},\n\u001b[1;32m      7\u001b[0m   \u001b[38;5;124m'\u001b[39m\u001b[38;5;124mid\u001b[39m\u001b[38;5;124m'\u001b[39m: _id}\n\u001b[1;32m      8\u001b[0m ]\n",
      "\u001b[0;31mIndexError\u001b[0m: list index out of range"
     ]
    }
   ],
   "source": [
    "_id = current_values.values['messages'][-1].tool_calls[0]['id']\n",
    "print(_id)\n",
    "\n",
    "current_values.values['messages'][-1].tool_calls = [\n",
    "    {'name': 'tavily_search_results_json',\n",
    "  'args': {'query': 'current weather in Louisiana'},\n",
    "  'id': _id}\n",
    "]"
   ]
  },
  {
   "cell_type": "code",
   "execution_count": 41,
   "id": "a833d3ce-bd31-4319-811d-decff226b970",
   "metadata": {
    "height": 30
   },
   "outputs": [
    {
     "name": "stdout",
     "output_type": "stream",
     "text": [
      "{'messages': [HumanMessage(content='Whats the weather in LA?', additional_kwargs={}, response_metadata={}, id='68808277-7b95-45c4-a320-ce1a96711e3b'), AIMessage(content='', additional_kwargs={'tool_calls': [{'id': 'call_bz79', 'function': {'arguments': '{\"query\": \"current weather in Los Angeles\"}', 'name': 'tavily_search_results_json'}, 'type': 'function'}, {'id': 'call_zave', 'function': {'arguments': '{\"query\": \"weather forecast for Los Angeles\"}', 'name': 'tavily_search_results_json'}, 'type': 'function'}]}, response_metadata={'token_usage': {'completion_tokens': 68, 'prompt_tokens': 292, 'total_tokens': 360, 'completion_time': 0.215203057, 'prompt_time': 0.022402605, 'queue_time': 0.010913512, 'total_time': 0.237605662}, 'model_name': 'llama3-groq-70b-8192-tool-use-preview', 'system_fingerprint': 'fp_ee4b521143', 'finish_reason': 'tool_calls', 'logprobs': None}, id='run-b48d16fa-9c4c-4ab3-af27-582782bfe120-0', tool_calls=[{'name': 'tavily_search_results_json', 'args': {'query': 'current weather in Los Angeles'}, 'id': 'call_bz79', 'type': 'tool_call'}, {'name': 'tavily_search_results_json', 'args': {'query': 'weather forecast for Los Angeles'}, 'id': 'call_zave', 'type': 'tool_call'}], usage_metadata={'input_tokens': 292, 'output_tokens': 68, 'total_tokens': 360}), ToolMessage(content='54 degree celcius', name='tavily_search_results_json', id='f0826d8b-095a-41d9-977d-692612fade77', tool_call_id='call_bz79'), AIMessage(content='The current weather in Los Angeles is 54 degrees Celsius.', additional_kwargs={}, response_metadata={'token_usage': {'completion_tokens': 13, 'prompt_tokens': 377, 'total_tokens': 390, 'completion_time': 0.038483312, 'prompt_time': 0.027595434, 'queue_time': 0.005548903000000004, 'total_time': 0.066078746}, 'model_name': 'llama3-groq-70b-8192-tool-use-preview', 'system_fingerprint': 'fp_ee4b521143', 'finish_reason': 'stop', 'logprobs': None}, id='run-aa8e42d6-2a16-4412-a401-f8995c4d8c07-0', usage_metadata={'input_tokens': 377, 'output_tokens': 13, 'total_tokens': 390}), HumanMessage(content='Whats the weather in LA?', additional_kwargs={}, response_metadata={}, id='da23c91f-75ab-4476-bf3d-cd64ff75a73f'), AIMessage(content='I already found that information for you. The current weather in Los Angeles is 54 degrees Celsius.', additional_kwargs={}, response_metadata={'token_usage': {'completion_tokens': 21, 'prompt_tokens': 405, 'total_tokens': 426, 'completion_time': 0.064088417, 'prompt_time': 0.02880317, 'queue_time': 0.0045570160000000005, 'total_time': 0.092891587}, 'model_name': 'llama3-groq-70b-8192-tool-use-preview', 'system_fingerprint': 'fp_ee4b521143', 'finish_reason': 'stop', 'logprobs': None}, id='run-9413cbe2-0a9b-42b0-9263-8f392cd70887-0', usage_metadata={'input_tokens': 405, 'output_tokens': 21, 'total_tokens': 426}), HumanMessage(content='Whats the weather in LA?', additional_kwargs={}, response_metadata={}, id='9b4c67fa-6816-4912-9e14-215621530230'), AIMessage(content=\"I've already provided the current weather information for Los Angeles. Is there anything else you need help with?\", additional_kwargs={}, response_metadata={'token_usage': {'completion_tokens': 22, 'prompt_tokens': 441, 'total_tokens': 463, 'completion_time': 0.067401787, 'prompt_time': 0.031017395, 'queue_time': 0.002971282000000002, 'total_time': 0.098419182}, 'model_name': 'llama3-groq-70b-8192-tool-use-preview', 'system_fingerprint': 'fp_ee4b521143', 'finish_reason': 'stop', 'logprobs': None}, id='run-0a11982b-5460-4d99-bda2-d1b4868f573a-0', usage_metadata={'input_tokens': 441, 'output_tokens': 22, 'total_tokens': 463})]}\n"
     ]
    },
    {
     "data": {
      "text/plain": [
       "{'configurable': {'thread_id': '3',\n",
       "  'checkpoint_ns': '',\n",
       "  'checkpoint_id': '1ef89f02-210a-65a8-800a-dc09784929d8'}}"
      ]
     },
     "execution_count": 41,
     "metadata": {},
     "output_type": "execute_result"
    }
   ],
   "source": [
    "abot.graph.update_state(thread, current_values.values)"
   ]
  },
  {
   "cell_type": "code",
   "execution_count": 42,
   "id": "76e93cce-6eab-4c7c-ac64-e9993fdb30d6",
   "metadata": {
    "height": 30
   },
   "outputs": [
    {
     "data": {
      "text/plain": [
       "StateSnapshot(values={'messages': [HumanMessage(content='Whats the weather in LA?', additional_kwargs={}, response_metadata={}, id='68808277-7b95-45c4-a320-ce1a96711e3b'), AIMessage(content='', additional_kwargs={'tool_calls': [{'id': 'call_bz79', 'function': {'arguments': '{\"query\": \"current weather in Los Angeles\"}', 'name': 'tavily_search_results_json'}, 'type': 'function'}, {'id': 'call_zave', 'function': {'arguments': '{\"query\": \"weather forecast for Los Angeles\"}', 'name': 'tavily_search_results_json'}, 'type': 'function'}]}, response_metadata={'token_usage': {'completion_tokens': 68, 'prompt_tokens': 292, 'total_tokens': 360, 'completion_time': 0.215203057, 'prompt_time': 0.022402605, 'queue_time': 0.010913512, 'total_time': 0.237605662}, 'model_name': 'llama3-groq-70b-8192-tool-use-preview', 'system_fingerprint': 'fp_ee4b521143', 'finish_reason': 'tool_calls', 'logprobs': None}, id='run-b48d16fa-9c4c-4ab3-af27-582782bfe120-0', tool_calls=[{'name': 'tavily_search_results_json', 'args': {'query': 'current weather in Los Angeles'}, 'id': 'call_bz79', 'type': 'tool_call'}, {'name': 'tavily_search_results_json', 'args': {'query': 'weather forecast for Los Angeles'}, 'id': 'call_zave', 'type': 'tool_call'}], usage_metadata={'input_tokens': 292, 'output_tokens': 68, 'total_tokens': 360}), ToolMessage(content='54 degree celcius', name='tavily_search_results_json', id='f0826d8b-095a-41d9-977d-692612fade77', tool_call_id='call_bz79'), AIMessage(content='The current weather in Los Angeles is 54 degrees Celsius.', additional_kwargs={}, response_metadata={'token_usage': {'completion_tokens': 13, 'prompt_tokens': 377, 'total_tokens': 390, 'completion_time': 0.038483312, 'prompt_time': 0.027595434, 'queue_time': 0.005548903000000004, 'total_time': 0.066078746}, 'model_name': 'llama3-groq-70b-8192-tool-use-preview', 'system_fingerprint': 'fp_ee4b521143', 'finish_reason': 'stop', 'logprobs': None}, id='run-aa8e42d6-2a16-4412-a401-f8995c4d8c07-0', usage_metadata={'input_tokens': 377, 'output_tokens': 13, 'total_tokens': 390}), HumanMessage(content='Whats the weather in LA?', additional_kwargs={}, response_metadata={}, id='da23c91f-75ab-4476-bf3d-cd64ff75a73f'), AIMessage(content='I already found that information for you. The current weather in Los Angeles is 54 degrees Celsius.', additional_kwargs={}, response_metadata={'token_usage': {'completion_tokens': 21, 'prompt_tokens': 405, 'total_tokens': 426, 'completion_time': 0.064088417, 'prompt_time': 0.02880317, 'queue_time': 0.0045570160000000005, 'total_time': 0.092891587}, 'model_name': 'llama3-groq-70b-8192-tool-use-preview', 'system_fingerprint': 'fp_ee4b521143', 'finish_reason': 'stop', 'logprobs': None}, id='run-9413cbe2-0a9b-42b0-9263-8f392cd70887-0', usage_metadata={'input_tokens': 405, 'output_tokens': 21, 'total_tokens': 426}), HumanMessage(content='Whats the weather in LA?', additional_kwargs={}, response_metadata={}, id='9b4c67fa-6816-4912-9e14-215621530230'), AIMessage(content=\"I've already provided the current weather information for Los Angeles. Is there anything else you need help with?\", additional_kwargs={}, response_metadata={'token_usage': {'completion_tokens': 22, 'prompt_tokens': 441, 'total_tokens': 463, 'completion_time': 0.067401787, 'prompt_time': 0.031017395, 'queue_time': 0.002971282000000002, 'total_time': 0.098419182}, 'model_name': 'llama3-groq-70b-8192-tool-use-preview', 'system_fingerprint': 'fp_ee4b521143', 'finish_reason': 'stop', 'logprobs': None}, id='run-0a11982b-5460-4d99-bda2-d1b4868f573a-0', usage_metadata={'input_tokens': 441, 'output_tokens': 22, 'total_tokens': 463})]}, next=(), config={'configurable': {'thread_id': '3', 'checkpoint_ns': '', 'checkpoint_id': '1ef89f02-210a-65a8-800a-dc09784929d8'}}, metadata={'source': 'update', 'step': 10, 'writes': {'llm': {'messages': [HumanMessage(content='Whats the weather in LA?', additional_kwargs={}, response_metadata={}, id='68808277-7b95-45c4-a320-ce1a96711e3b'), AIMessage(content='', additional_kwargs={'tool_calls': [{'id': 'call_bz79', 'function': {'arguments': '{\"query\": \"current weather in Los Angeles\"}', 'name': 'tavily_search_results_json'}, 'type': 'function'}, {'id': 'call_zave', 'function': {'arguments': '{\"query\": \"weather forecast for Los Angeles\"}', 'name': 'tavily_search_results_json'}, 'type': 'function'}]}, response_metadata={'token_usage': {'completion_tokens': 68, 'prompt_tokens': 292, 'total_tokens': 360, 'completion_time': 0.215203057, 'prompt_time': 0.022402605, 'queue_time': 0.010913512, 'total_time': 0.237605662}, 'model_name': 'llama3-groq-70b-8192-tool-use-preview', 'system_fingerprint': 'fp_ee4b521143', 'finish_reason': 'tool_calls', 'logprobs': None}, id='run-b48d16fa-9c4c-4ab3-af27-582782bfe120-0', tool_calls=[{'name': 'tavily_search_results_json', 'args': {'query': 'current weather in Los Angeles'}, 'id': 'call_bz79', 'type': 'tool_call'}, {'name': 'tavily_search_results_json', 'args': {'query': 'weather forecast for Los Angeles'}, 'id': 'call_zave', 'type': 'tool_call'}], usage_metadata={'input_tokens': 292, 'output_tokens': 68, 'total_tokens': 360}), ToolMessage(content='54 degree celcius', name='tavily_search_results_json', id='f0826d8b-095a-41d9-977d-692612fade77', tool_call_id='call_bz79'), AIMessage(content='The current weather in Los Angeles is 54 degrees Celsius.', additional_kwargs={}, response_metadata={'token_usage': {'completion_tokens': 13, 'prompt_tokens': 377, 'total_tokens': 390, 'completion_time': 0.038483312, 'prompt_time': 0.027595434, 'queue_time': 0.005548903000000004, 'total_time': 0.066078746}, 'model_name': 'llama3-groq-70b-8192-tool-use-preview', 'system_fingerprint': 'fp_ee4b521143', 'finish_reason': 'stop', 'logprobs': None}, id='run-aa8e42d6-2a16-4412-a401-f8995c4d8c07-0', usage_metadata={'input_tokens': 377, 'output_tokens': 13, 'total_tokens': 390}), HumanMessage(content='Whats the weather in LA?', additional_kwargs={}, response_metadata={}, id='da23c91f-75ab-4476-bf3d-cd64ff75a73f'), AIMessage(content='I already found that information for you. The current weather in Los Angeles is 54 degrees Celsius.', additional_kwargs={}, response_metadata={'token_usage': {'completion_tokens': 21, 'prompt_tokens': 405, 'total_tokens': 426, 'completion_time': 0.064088417, 'prompt_time': 0.02880317, 'queue_time': 0.0045570160000000005, 'total_time': 0.092891587}, 'model_name': 'llama3-groq-70b-8192-tool-use-preview', 'system_fingerprint': 'fp_ee4b521143', 'finish_reason': 'stop', 'logprobs': None}, id='run-9413cbe2-0a9b-42b0-9263-8f392cd70887-0', usage_metadata={'input_tokens': 405, 'output_tokens': 21, 'total_tokens': 426}), HumanMessage(content='Whats the weather in LA?', additional_kwargs={}, response_metadata={}, id='9b4c67fa-6816-4912-9e14-215621530230'), AIMessage(content=\"I've already provided the current weather information for Los Angeles. Is there anything else you need help with?\", additional_kwargs={}, response_metadata={'token_usage': {'completion_tokens': 22, 'prompt_tokens': 441, 'total_tokens': 463, 'completion_time': 0.067401787, 'prompt_time': 0.031017395, 'queue_time': 0.002971282000000002, 'total_time': 0.098419182}, 'model_name': 'llama3-groq-70b-8192-tool-use-preview', 'system_fingerprint': 'fp_ee4b521143', 'finish_reason': 'stop', 'logprobs': None}, id='run-0a11982b-5460-4d99-bda2-d1b4868f573a-0', usage_metadata={'input_tokens': 441, 'output_tokens': 22, 'total_tokens': 463})]}}, 'parents': {}}, created_at='2024-10-14T05:49:52.844703+00:00', parent_config={'configurable': {'thread_id': '3', 'checkpoint_ns': '', 'checkpoint_id': '1ef89f01-c14f-6eeb-8009-6337c41afd6b'}}, tasks=())"
      ]
     },
     "execution_count": 42,
     "metadata": {},
     "output_type": "execute_result"
    }
   ],
   "source": [
    "abot.graph.get_state(thread)"
   ]
  },
  {
   "cell_type": "code",
   "execution_count": 43,
   "id": "fd2d0990-a932-423f-9ff3-5cada58c5f32",
   "metadata": {
    "height": 64
   },
   "outputs": [],
   "source": [
    "for event in abot.graph.stream(None, thread):\n",
    "    for v in event.values():\n",
    "        print(v)"
   ]
  },
  {
   "cell_type": "markdown",
   "id": "e75b870b-e0df-46f1-b29b-fb151ebcbcc3",
   "metadata": {},
   "source": [
    "## Time Travel"
   ]
  },
  {
   "cell_type": "code",
   "execution_count": 44,
   "id": "27cde654-64e2-48bc-80a9-0ed668ccb7dc",
   "metadata": {
    "height": 98
   },
   "outputs": [
    {
     "name": "stdout",
     "output_type": "stream",
     "text": [
      "StateSnapshot(values={'messages': [HumanMessage(content='Whats the weather in LA?', additional_kwargs={}, response_metadata={}, id='68808277-7b95-45c4-a320-ce1a96711e3b'), AIMessage(content='', additional_kwargs={'tool_calls': [{'id': 'call_bz79', 'function': {'arguments': '{\"query\": \"current weather in Los Angeles\"}', 'name': 'tavily_search_results_json'}, 'type': 'function'}, {'id': 'call_zave', 'function': {'arguments': '{\"query\": \"weather forecast for Los Angeles\"}', 'name': 'tavily_search_results_json'}, 'type': 'function'}]}, response_metadata={'token_usage': {'completion_tokens': 68, 'prompt_tokens': 292, 'total_tokens': 360, 'completion_time': 0.215203057, 'prompt_time': 0.022402605, 'queue_time': 0.010913512, 'total_time': 0.237605662}, 'model_name': 'llama3-groq-70b-8192-tool-use-preview', 'system_fingerprint': 'fp_ee4b521143', 'finish_reason': 'tool_calls', 'logprobs': None}, id='run-b48d16fa-9c4c-4ab3-af27-582782bfe120-0', tool_calls=[{'name': 'tavily_search_results_json', 'args': {'query': 'current weather in Los Angeles'}, 'id': 'call_bz79', 'type': 'tool_call'}, {'name': 'tavily_search_results_json', 'args': {'query': 'weather forecast for Los Angeles'}, 'id': 'call_zave', 'type': 'tool_call'}], usage_metadata={'input_tokens': 292, 'output_tokens': 68, 'total_tokens': 360}), ToolMessage(content='54 degree celcius', name='tavily_search_results_json', id='f0826d8b-095a-41d9-977d-692612fade77', tool_call_id='call_bz79'), AIMessage(content='The current weather in Los Angeles is 54 degrees Celsius.', additional_kwargs={}, response_metadata={'token_usage': {'completion_tokens': 13, 'prompt_tokens': 377, 'total_tokens': 390, 'completion_time': 0.038483312, 'prompt_time': 0.027595434, 'queue_time': 0.005548903000000004, 'total_time': 0.066078746}, 'model_name': 'llama3-groq-70b-8192-tool-use-preview', 'system_fingerprint': 'fp_ee4b521143', 'finish_reason': 'stop', 'logprobs': None}, id='run-aa8e42d6-2a16-4412-a401-f8995c4d8c07-0', usage_metadata={'input_tokens': 377, 'output_tokens': 13, 'total_tokens': 390}), HumanMessage(content='Whats the weather in LA?', additional_kwargs={}, response_metadata={}, id='da23c91f-75ab-4476-bf3d-cd64ff75a73f'), AIMessage(content='I already found that information for you. The current weather in Los Angeles is 54 degrees Celsius.', additional_kwargs={}, response_metadata={'token_usage': {'completion_tokens': 21, 'prompt_tokens': 405, 'total_tokens': 426, 'completion_time': 0.064088417, 'prompt_time': 0.02880317, 'queue_time': 0.0045570160000000005, 'total_time': 0.092891587}, 'model_name': 'llama3-groq-70b-8192-tool-use-preview', 'system_fingerprint': 'fp_ee4b521143', 'finish_reason': 'stop', 'logprobs': None}, id='run-9413cbe2-0a9b-42b0-9263-8f392cd70887-0', usage_metadata={'input_tokens': 405, 'output_tokens': 21, 'total_tokens': 426}), HumanMessage(content='Whats the weather in LA?', additional_kwargs={}, response_metadata={}, id='9b4c67fa-6816-4912-9e14-215621530230'), AIMessage(content=\"I've already provided the current weather information for Los Angeles. Is there anything else you need help with?\", additional_kwargs={}, response_metadata={'token_usage': {'completion_tokens': 22, 'prompt_tokens': 441, 'total_tokens': 463, 'completion_time': 0.067401787, 'prompt_time': 0.031017395, 'queue_time': 0.002971282000000002, 'total_time': 0.098419182}, 'model_name': 'llama3-groq-70b-8192-tool-use-preview', 'system_fingerprint': 'fp_ee4b521143', 'finish_reason': 'stop', 'logprobs': None}, id='run-0a11982b-5460-4d99-bda2-d1b4868f573a-0', usage_metadata={'input_tokens': 441, 'output_tokens': 22, 'total_tokens': 463})]}, next=(), config={'configurable': {'thread_id': '3', 'checkpoint_ns': '', 'checkpoint_id': '1ef89f02-210a-65a8-800a-dc09784929d8'}}, metadata={'source': 'update', 'step': 10, 'writes': {'llm': {'messages': [HumanMessage(content='Whats the weather in LA?', additional_kwargs={}, response_metadata={}, id='68808277-7b95-45c4-a320-ce1a96711e3b'), AIMessage(content='', additional_kwargs={'tool_calls': [{'id': 'call_bz79', 'function': {'arguments': '{\"query\": \"current weather in Los Angeles\"}', 'name': 'tavily_search_results_json'}, 'type': 'function'}, {'id': 'call_zave', 'function': {'arguments': '{\"query\": \"weather forecast for Los Angeles\"}', 'name': 'tavily_search_results_json'}, 'type': 'function'}]}, response_metadata={'token_usage': {'completion_tokens': 68, 'prompt_tokens': 292, 'total_tokens': 360, 'completion_time': 0.215203057, 'prompt_time': 0.022402605, 'queue_time': 0.010913512, 'total_time': 0.237605662}, 'model_name': 'llama3-groq-70b-8192-tool-use-preview', 'system_fingerprint': 'fp_ee4b521143', 'finish_reason': 'tool_calls', 'logprobs': None}, id='run-b48d16fa-9c4c-4ab3-af27-582782bfe120-0', tool_calls=[{'name': 'tavily_search_results_json', 'args': {'query': 'current weather in Los Angeles'}, 'id': 'call_bz79', 'type': 'tool_call'}, {'name': 'tavily_search_results_json', 'args': {'query': 'weather forecast for Los Angeles'}, 'id': 'call_zave', 'type': 'tool_call'}], usage_metadata={'input_tokens': 292, 'output_tokens': 68, 'total_tokens': 360}), ToolMessage(content='54 degree celcius', name='tavily_search_results_json', id='f0826d8b-095a-41d9-977d-692612fade77', tool_call_id='call_bz79'), AIMessage(content='The current weather in Los Angeles is 54 degrees Celsius.', additional_kwargs={}, response_metadata={'token_usage': {'completion_tokens': 13, 'prompt_tokens': 377, 'total_tokens': 390, 'completion_time': 0.038483312, 'prompt_time': 0.027595434, 'queue_time': 0.005548903000000004, 'total_time': 0.066078746}, 'model_name': 'llama3-groq-70b-8192-tool-use-preview', 'system_fingerprint': 'fp_ee4b521143', 'finish_reason': 'stop', 'logprobs': None}, id='run-aa8e42d6-2a16-4412-a401-f8995c4d8c07-0', usage_metadata={'input_tokens': 377, 'output_tokens': 13, 'total_tokens': 390}), HumanMessage(content='Whats the weather in LA?', additional_kwargs={}, response_metadata={}, id='da23c91f-75ab-4476-bf3d-cd64ff75a73f'), AIMessage(content='I already found that information for you. The current weather in Los Angeles is 54 degrees Celsius.', additional_kwargs={}, response_metadata={'token_usage': {'completion_tokens': 21, 'prompt_tokens': 405, 'total_tokens': 426, 'completion_time': 0.064088417, 'prompt_time': 0.02880317, 'queue_time': 0.0045570160000000005, 'total_time': 0.092891587}, 'model_name': 'llama3-groq-70b-8192-tool-use-preview', 'system_fingerprint': 'fp_ee4b521143', 'finish_reason': 'stop', 'logprobs': None}, id='run-9413cbe2-0a9b-42b0-9263-8f392cd70887-0', usage_metadata={'input_tokens': 405, 'output_tokens': 21, 'total_tokens': 426}), HumanMessage(content='Whats the weather in LA?', additional_kwargs={}, response_metadata={}, id='9b4c67fa-6816-4912-9e14-215621530230'), AIMessage(content=\"I've already provided the current weather information for Los Angeles. Is there anything else you need help with?\", additional_kwargs={}, response_metadata={'token_usage': {'completion_tokens': 22, 'prompt_tokens': 441, 'total_tokens': 463, 'completion_time': 0.067401787, 'prompt_time': 0.031017395, 'queue_time': 0.002971282000000002, 'total_time': 0.098419182}, 'model_name': 'llama3-groq-70b-8192-tool-use-preview', 'system_fingerprint': 'fp_ee4b521143', 'finish_reason': 'stop', 'logprobs': None}, id='run-0a11982b-5460-4d99-bda2-d1b4868f573a-0', usage_metadata={'input_tokens': 441, 'output_tokens': 22, 'total_tokens': 463})]}}, 'parents': {}}, created_at='2024-10-14T05:49:52.844703+00:00', parent_config={'configurable': {'thread_id': '3', 'checkpoint_ns': '', 'checkpoint_id': '1ef89f01-c14f-6eeb-8009-6337c41afd6b'}}, tasks=())\n",
      "--\n",
      "StateSnapshot(values={'messages': [HumanMessage(content='Whats the weather in LA?', additional_kwargs={}, response_metadata={}, id='68808277-7b95-45c4-a320-ce1a96711e3b'), AIMessage(content='', additional_kwargs={'tool_calls': [{'id': 'call_bz79', 'function': {'arguments': '{\"query\": \"current weather in Los Angeles\"}', 'name': 'tavily_search_results_json'}, 'type': 'function'}, {'id': 'call_zave', 'function': {'arguments': '{\"query\": \"weather forecast for Los Angeles\"}', 'name': 'tavily_search_results_json'}, 'type': 'function'}]}, response_metadata={'token_usage': {'completion_tokens': 68, 'prompt_tokens': 292, 'total_tokens': 360, 'completion_time': 0.215203057, 'prompt_time': 0.022402605, 'queue_time': 0.010913512, 'total_time': 0.237605662}, 'model_name': 'llama3-groq-70b-8192-tool-use-preview', 'system_fingerprint': 'fp_ee4b521143', 'finish_reason': 'tool_calls', 'logprobs': None}, id='run-b48d16fa-9c4c-4ab3-af27-582782bfe120-0', tool_calls=[{'name': 'tavily_search_results_json', 'args': {'query': 'current weather in Los Angeles'}, 'id': 'call_bz79', 'type': 'tool_call'}, {'name': 'tavily_search_results_json', 'args': {'query': 'weather forecast for Los Angeles'}, 'id': 'call_zave', 'type': 'tool_call'}], usage_metadata={'input_tokens': 292, 'output_tokens': 68, 'total_tokens': 360}), ToolMessage(content='54 degree celcius', name='tavily_search_results_json', id='f0826d8b-095a-41d9-977d-692612fade77', tool_call_id='call_bz79'), AIMessage(content='The current weather in Los Angeles is 54 degrees Celsius.', additional_kwargs={}, response_metadata={'token_usage': {'completion_tokens': 13, 'prompt_tokens': 377, 'total_tokens': 390, 'completion_time': 0.038483312, 'prompt_time': 0.027595434, 'queue_time': 0.005548903000000004, 'total_time': 0.066078746}, 'model_name': 'llama3-groq-70b-8192-tool-use-preview', 'system_fingerprint': 'fp_ee4b521143', 'finish_reason': 'stop', 'logprobs': None}, id='run-aa8e42d6-2a16-4412-a401-f8995c4d8c07-0', usage_metadata={'input_tokens': 377, 'output_tokens': 13, 'total_tokens': 390}), HumanMessage(content='Whats the weather in LA?', additional_kwargs={}, response_metadata={}, id='da23c91f-75ab-4476-bf3d-cd64ff75a73f'), AIMessage(content='I already found that information for you. The current weather in Los Angeles is 54 degrees Celsius.', additional_kwargs={}, response_metadata={'token_usage': {'completion_tokens': 21, 'prompt_tokens': 405, 'total_tokens': 426, 'completion_time': 0.064088417, 'prompt_time': 0.02880317, 'queue_time': 0.0045570160000000005, 'total_time': 0.092891587}, 'model_name': 'llama3-groq-70b-8192-tool-use-preview', 'system_fingerprint': 'fp_ee4b521143', 'finish_reason': 'stop', 'logprobs': None}, id='run-9413cbe2-0a9b-42b0-9263-8f392cd70887-0', usage_metadata={'input_tokens': 405, 'output_tokens': 21, 'total_tokens': 426}), HumanMessage(content='Whats the weather in LA?', additional_kwargs={}, response_metadata={}, id='9b4c67fa-6816-4912-9e14-215621530230'), AIMessage(content=\"I've already provided the current weather information for Los Angeles. Is there anything else you need help with?\", additional_kwargs={}, response_metadata={'token_usage': {'completion_tokens': 22, 'prompt_tokens': 441, 'total_tokens': 463, 'completion_time': 0.067401787, 'prompt_time': 0.031017395, 'queue_time': 0.002971282000000002, 'total_time': 0.098419182}, 'model_name': 'llama3-groq-70b-8192-tool-use-preview', 'system_fingerprint': 'fp_ee4b521143', 'finish_reason': 'stop', 'logprobs': None}, id='run-0a11982b-5460-4d99-bda2-d1b4868f573a-0', usage_metadata={'input_tokens': 441, 'output_tokens': 22, 'total_tokens': 463})]}, next=(), config={'configurable': {'thread_id': '3', 'checkpoint_ns': '', 'checkpoint_id': '1ef89f01-c14f-6eeb-8009-6337c41afd6b'}}, metadata={'source': 'loop', 'writes': {'llm': {'messages': [AIMessage(content=\"I've already provided the current weather information for Los Angeles. Is there anything else you need help with?\", additional_kwargs={}, response_metadata={'token_usage': {'completion_tokens': 22, 'prompt_tokens': 441, 'total_tokens': 463, 'completion_time': 0.067401787, 'prompt_time': 0.031017395, 'queue_time': 0.002971282000000002, 'total_time': 0.098419182}, 'model_name': 'llama3-groq-70b-8192-tool-use-preview', 'system_fingerprint': 'fp_ee4b521143', 'finish_reason': 'stop', 'logprobs': None}, id='run-0a11982b-5460-4d99-bda2-d1b4868f573a-0', usage_metadata={'input_tokens': 441, 'output_tokens': 22, 'total_tokens': 463})]}}, 'step': 9, 'parents': {}}, created_at='2024-10-14T05:49:42.806869+00:00', parent_config={'configurable': {'thread_id': '3', 'checkpoint_ns': '', 'checkpoint_id': '1ef89f01-bd12-68e1-8008-c414fe702df2'}}, tasks=())\n",
      "--\n",
      "StateSnapshot(values={'messages': [HumanMessage(content='Whats the weather in LA?', additional_kwargs={}, response_metadata={}, id='68808277-7b95-45c4-a320-ce1a96711e3b'), AIMessage(content='', additional_kwargs={'tool_calls': [{'id': 'call_bz79', 'function': {'arguments': '{\"query\": \"current weather in Los Angeles\"}', 'name': 'tavily_search_results_json'}, 'type': 'function'}, {'id': 'call_zave', 'function': {'arguments': '{\"query\": \"weather forecast for Los Angeles\"}', 'name': 'tavily_search_results_json'}, 'type': 'function'}]}, response_metadata={'token_usage': {'completion_tokens': 68, 'prompt_tokens': 292, 'total_tokens': 360, 'completion_time': 0.215203057, 'prompt_time': 0.022402605, 'queue_time': 0.010913512, 'total_time': 0.237605662}, 'model_name': 'llama3-groq-70b-8192-tool-use-preview', 'system_fingerprint': 'fp_ee4b521143', 'finish_reason': 'tool_calls', 'logprobs': None}, id='run-b48d16fa-9c4c-4ab3-af27-582782bfe120-0', tool_calls=[{'name': 'tavily_search_results_json', 'args': {'query': 'current weather in Los Angeles'}, 'id': 'call_bz79', 'type': 'tool_call'}, {'name': 'tavily_search_results_json', 'args': {'query': 'weather forecast for Los Angeles'}, 'id': 'call_zave', 'type': 'tool_call'}], usage_metadata={'input_tokens': 292, 'output_tokens': 68, 'total_tokens': 360}), ToolMessage(content='54 degree celcius', name='tavily_search_results_json', id='f0826d8b-095a-41d9-977d-692612fade77', tool_call_id='call_bz79'), AIMessage(content='The current weather in Los Angeles is 54 degrees Celsius.', additional_kwargs={}, response_metadata={'token_usage': {'completion_tokens': 13, 'prompt_tokens': 377, 'total_tokens': 390, 'completion_time': 0.038483312, 'prompt_time': 0.027595434, 'queue_time': 0.005548903000000004, 'total_time': 0.066078746}, 'model_name': 'llama3-groq-70b-8192-tool-use-preview', 'system_fingerprint': 'fp_ee4b521143', 'finish_reason': 'stop', 'logprobs': None}, id='run-aa8e42d6-2a16-4412-a401-f8995c4d8c07-0', usage_metadata={'input_tokens': 377, 'output_tokens': 13, 'total_tokens': 390}), HumanMessage(content='Whats the weather in LA?', additional_kwargs={}, response_metadata={}, id='da23c91f-75ab-4476-bf3d-cd64ff75a73f'), AIMessage(content='I already found that information for you. The current weather in Los Angeles is 54 degrees Celsius.', additional_kwargs={}, response_metadata={'token_usage': {'completion_tokens': 21, 'prompt_tokens': 405, 'total_tokens': 426, 'completion_time': 0.064088417, 'prompt_time': 0.02880317, 'queue_time': 0.0045570160000000005, 'total_time': 0.092891587}, 'model_name': 'llama3-groq-70b-8192-tool-use-preview', 'system_fingerprint': 'fp_ee4b521143', 'finish_reason': 'stop', 'logprobs': None}, id='run-9413cbe2-0a9b-42b0-9263-8f392cd70887-0', usage_metadata={'input_tokens': 405, 'output_tokens': 21, 'total_tokens': 426}), HumanMessage(content='Whats the weather in LA?', additional_kwargs={}, response_metadata={}, id='9b4c67fa-6816-4912-9e14-215621530230')]}, next=('llm',), config={'configurable': {'thread_id': '3', 'checkpoint_ns': '', 'checkpoint_id': '1ef89f01-bd12-68e1-8008-c414fe702df2'}}, metadata={'source': 'loop', 'writes': None, 'step': 8, 'parents': {}}, created_at='2024-10-14T05:49:42.362325+00:00', parent_config={'configurable': {'thread_id': '3', 'checkpoint_ns': '', 'checkpoint_id': '1ef89f01-bd11-6487-8007-840441a7fd93'}}, tasks=(PregelTask(id='133f9ee8-deea-2ea6-1042-b464e1b2da5e', name='llm', path=('__pregel_pull', 'llm'), error=None, interrupts=(), state=None),))\n",
      "--\n",
      "StateSnapshot(values={'messages': [HumanMessage(content='Whats the weather in LA?', additional_kwargs={}, response_metadata={}, id='68808277-7b95-45c4-a320-ce1a96711e3b'), AIMessage(content='', additional_kwargs={'tool_calls': [{'id': 'call_bz79', 'function': {'arguments': '{\"query\": \"current weather in Los Angeles\"}', 'name': 'tavily_search_results_json'}, 'type': 'function'}, {'id': 'call_zave', 'function': {'arguments': '{\"query\": \"weather forecast for Los Angeles\"}', 'name': 'tavily_search_results_json'}, 'type': 'function'}]}, response_metadata={'token_usage': {'completion_tokens': 68, 'prompt_tokens': 292, 'total_tokens': 360, 'completion_time': 0.215203057, 'prompt_time': 0.022402605, 'queue_time': 0.010913512, 'total_time': 0.237605662}, 'model_name': 'llama3-groq-70b-8192-tool-use-preview', 'system_fingerprint': 'fp_ee4b521143', 'finish_reason': 'tool_calls', 'logprobs': None}, id='run-b48d16fa-9c4c-4ab3-af27-582782bfe120-0', tool_calls=[{'name': 'tavily_search_results_json', 'args': {'query': 'current weather in Los Angeles'}, 'id': 'call_bz79', 'type': 'tool_call'}, {'name': 'tavily_search_results_json', 'args': {'query': 'weather forecast for Los Angeles'}, 'id': 'call_zave', 'type': 'tool_call'}], usage_metadata={'input_tokens': 292, 'output_tokens': 68, 'total_tokens': 360}), ToolMessage(content='54 degree celcius', name='tavily_search_results_json', id='f0826d8b-095a-41d9-977d-692612fade77', tool_call_id='call_bz79'), AIMessage(content='The current weather in Los Angeles is 54 degrees Celsius.', additional_kwargs={}, response_metadata={'token_usage': {'completion_tokens': 13, 'prompt_tokens': 377, 'total_tokens': 390, 'completion_time': 0.038483312, 'prompt_time': 0.027595434, 'queue_time': 0.005548903000000004, 'total_time': 0.066078746}, 'model_name': 'llama3-groq-70b-8192-tool-use-preview', 'system_fingerprint': 'fp_ee4b521143', 'finish_reason': 'stop', 'logprobs': None}, id='run-aa8e42d6-2a16-4412-a401-f8995c4d8c07-0', usage_metadata={'input_tokens': 377, 'output_tokens': 13, 'total_tokens': 390}), HumanMessage(content='Whats the weather in LA?', additional_kwargs={}, response_metadata={}, id='da23c91f-75ab-4476-bf3d-cd64ff75a73f'), AIMessage(content='I already found that information for you. The current weather in Los Angeles is 54 degrees Celsius.', additional_kwargs={}, response_metadata={'token_usage': {'completion_tokens': 21, 'prompt_tokens': 405, 'total_tokens': 426, 'completion_time': 0.064088417, 'prompt_time': 0.02880317, 'queue_time': 0.0045570160000000005, 'total_time': 0.092891587}, 'model_name': 'llama3-groq-70b-8192-tool-use-preview', 'system_fingerprint': 'fp_ee4b521143', 'finish_reason': 'stop', 'logprobs': None}, id='run-9413cbe2-0a9b-42b0-9263-8f392cd70887-0', usage_metadata={'input_tokens': 405, 'output_tokens': 21, 'total_tokens': 426})]}, next=('__start__',), config={'configurable': {'thread_id': '3', 'checkpoint_ns': '', 'checkpoint_id': '1ef89f01-bd11-6487-8007-840441a7fd93'}}, metadata={'source': 'input', 'writes': {'__start__': {'messages': [HumanMessage(content='Whats the weather in LA?', additional_kwargs={}, response_metadata={})]}}, 'step': 7, 'parents': {}}, created_at='2024-10-14T05:49:42.361801+00:00', parent_config={'configurable': {'thread_id': '3', 'checkpoint_ns': '', 'checkpoint_id': '1ef89efe-e164-69ba-8006-be2055abc334'}}, tasks=(PregelTask(id='27999c7d-8060-dfbf-7d10-651263741e61', name='__start__', path=('__pregel_pull', '__start__'), error=None, interrupts=(), state=None),))\n",
      "--\n",
      "StateSnapshot(values={'messages': [HumanMessage(content='Whats the weather in LA?', additional_kwargs={}, response_metadata={}, id='68808277-7b95-45c4-a320-ce1a96711e3b'), AIMessage(content='', additional_kwargs={'tool_calls': [{'id': 'call_bz79', 'function': {'arguments': '{\"query\": \"current weather in Los Angeles\"}', 'name': 'tavily_search_results_json'}, 'type': 'function'}, {'id': 'call_zave', 'function': {'arguments': '{\"query\": \"weather forecast for Los Angeles\"}', 'name': 'tavily_search_results_json'}, 'type': 'function'}]}, response_metadata={'token_usage': {'completion_tokens': 68, 'prompt_tokens': 292, 'total_tokens': 360, 'completion_time': 0.215203057, 'prompt_time': 0.022402605, 'queue_time': 0.010913512, 'total_time': 0.237605662}, 'model_name': 'llama3-groq-70b-8192-tool-use-preview', 'system_fingerprint': 'fp_ee4b521143', 'finish_reason': 'tool_calls', 'logprobs': None}, id='run-b48d16fa-9c4c-4ab3-af27-582782bfe120-0', tool_calls=[{'name': 'tavily_search_results_json', 'args': {'query': 'current weather in Los Angeles'}, 'id': 'call_bz79', 'type': 'tool_call'}, {'name': 'tavily_search_results_json', 'args': {'query': 'weather forecast for Los Angeles'}, 'id': 'call_zave', 'type': 'tool_call'}], usage_metadata={'input_tokens': 292, 'output_tokens': 68, 'total_tokens': 360}), ToolMessage(content='54 degree celcius', name='tavily_search_results_json', id='f0826d8b-095a-41d9-977d-692612fade77', tool_call_id='call_bz79'), AIMessage(content='The current weather in Los Angeles is 54 degrees Celsius.', additional_kwargs={}, response_metadata={'token_usage': {'completion_tokens': 13, 'prompt_tokens': 377, 'total_tokens': 390, 'completion_time': 0.038483312, 'prompt_time': 0.027595434, 'queue_time': 0.005548903000000004, 'total_time': 0.066078746}, 'model_name': 'llama3-groq-70b-8192-tool-use-preview', 'system_fingerprint': 'fp_ee4b521143', 'finish_reason': 'stop', 'logprobs': None}, id='run-aa8e42d6-2a16-4412-a401-f8995c4d8c07-0', usage_metadata={'input_tokens': 377, 'output_tokens': 13, 'total_tokens': 390}), HumanMessage(content='Whats the weather in LA?', additional_kwargs={}, response_metadata={}, id='da23c91f-75ab-4476-bf3d-cd64ff75a73f'), AIMessage(content='I already found that information for you. The current weather in Los Angeles is 54 degrees Celsius.', additional_kwargs={}, response_metadata={'token_usage': {'completion_tokens': 21, 'prompt_tokens': 405, 'total_tokens': 426, 'completion_time': 0.064088417, 'prompt_time': 0.02880317, 'queue_time': 0.0045570160000000005, 'total_time': 0.092891587}, 'model_name': 'llama3-groq-70b-8192-tool-use-preview', 'system_fingerprint': 'fp_ee4b521143', 'finish_reason': 'stop', 'logprobs': None}, id='run-9413cbe2-0a9b-42b0-9263-8f392cd70887-0', usage_metadata={'input_tokens': 405, 'output_tokens': 21, 'total_tokens': 426})]}, next=(), config={'configurable': {'thread_id': '3', 'checkpoint_ns': '', 'checkpoint_id': '1ef89efe-e164-69ba-8006-be2055abc334'}}, metadata={'source': 'loop', 'writes': {'llm': {'messages': [AIMessage(content='I already found that information for you. The current weather in Los Angeles is 54 degrees Celsius.', additional_kwargs={}, response_metadata={'token_usage': {'completion_tokens': 21, 'prompt_tokens': 405, 'total_tokens': 426, 'completion_time': 0.064088417, 'prompt_time': 0.02880317, 'queue_time': 0.0045570160000000005, 'total_time': 0.092891587}, 'model_name': 'llama3-groq-70b-8192-tool-use-preview', 'system_fingerprint': 'fp_ee4b521143', 'finish_reason': 'stop', 'logprobs': None}, id='run-9413cbe2-0a9b-42b0-9263-8f392cd70887-0', usage_metadata={'input_tokens': 405, 'output_tokens': 21, 'total_tokens': 426})]}}, 'step': 6, 'parents': {}}, created_at='2024-10-14T05:48:25.640110+00:00', parent_config={'configurable': {'thread_id': '3', 'checkpoint_ns': '', 'checkpoint_id': '1ef89efe-dd1e-6fb3-8005-8049cb52441c'}}, tasks=())\n",
      "--\n",
      "StateSnapshot(values={'messages': [HumanMessage(content='Whats the weather in LA?', additional_kwargs={}, response_metadata={}, id='68808277-7b95-45c4-a320-ce1a96711e3b'), AIMessage(content='', additional_kwargs={'tool_calls': [{'id': 'call_bz79', 'function': {'arguments': '{\"query\": \"current weather in Los Angeles\"}', 'name': 'tavily_search_results_json'}, 'type': 'function'}, {'id': 'call_zave', 'function': {'arguments': '{\"query\": \"weather forecast for Los Angeles\"}', 'name': 'tavily_search_results_json'}, 'type': 'function'}]}, response_metadata={'token_usage': {'completion_tokens': 68, 'prompt_tokens': 292, 'total_tokens': 360, 'completion_time': 0.215203057, 'prompt_time': 0.022402605, 'queue_time': 0.010913512, 'total_time': 0.237605662}, 'model_name': 'llama3-groq-70b-8192-tool-use-preview', 'system_fingerprint': 'fp_ee4b521143', 'finish_reason': 'tool_calls', 'logprobs': None}, id='run-b48d16fa-9c4c-4ab3-af27-582782bfe120-0', tool_calls=[{'name': 'tavily_search_results_json', 'args': {'query': 'current weather in Los Angeles'}, 'id': 'call_bz79', 'type': 'tool_call'}, {'name': 'tavily_search_results_json', 'args': {'query': 'weather forecast for Los Angeles'}, 'id': 'call_zave', 'type': 'tool_call'}], usage_metadata={'input_tokens': 292, 'output_tokens': 68, 'total_tokens': 360}), ToolMessage(content='54 degree celcius', name='tavily_search_results_json', id='f0826d8b-095a-41d9-977d-692612fade77', tool_call_id='call_bz79'), AIMessage(content='The current weather in Los Angeles is 54 degrees Celsius.', additional_kwargs={}, response_metadata={'token_usage': {'completion_tokens': 13, 'prompt_tokens': 377, 'total_tokens': 390, 'completion_time': 0.038483312, 'prompt_time': 0.027595434, 'queue_time': 0.005548903000000004, 'total_time': 0.066078746}, 'model_name': 'llama3-groq-70b-8192-tool-use-preview', 'system_fingerprint': 'fp_ee4b521143', 'finish_reason': 'stop', 'logprobs': None}, id='run-aa8e42d6-2a16-4412-a401-f8995c4d8c07-0', usage_metadata={'input_tokens': 377, 'output_tokens': 13, 'total_tokens': 390}), HumanMessage(content='Whats the weather in LA?', additional_kwargs={}, response_metadata={}, id='da23c91f-75ab-4476-bf3d-cd64ff75a73f')]}, next=('llm',), config={'configurable': {'thread_id': '3', 'checkpoint_ns': '', 'checkpoint_id': '1ef89efe-dd1e-6fb3-8005-8049cb52441c'}}, metadata={'source': 'loop', 'writes': None, 'step': 5, 'parents': {}}, created_at='2024-10-14T05:48:25.192221+00:00', parent_config={'configurable': {'thread_id': '3', 'checkpoint_ns': '', 'checkpoint_id': '1ef89efe-dd1d-6ab5-8004-2db8b5a2b737'}}, tasks=(PregelTask(id='9715aca7-acf1-e2ed-b7f2-157a7900f084', name='llm', path=('__pregel_pull', 'llm'), error=None, interrupts=(), state=None),))\n",
      "--\n",
      "StateSnapshot(values={'messages': [HumanMessage(content='Whats the weather in LA?', additional_kwargs={}, response_metadata={}, id='68808277-7b95-45c4-a320-ce1a96711e3b'), AIMessage(content='', additional_kwargs={'tool_calls': [{'id': 'call_bz79', 'function': {'arguments': '{\"query\": \"current weather in Los Angeles\"}', 'name': 'tavily_search_results_json'}, 'type': 'function'}, {'id': 'call_zave', 'function': {'arguments': '{\"query\": \"weather forecast for Los Angeles\"}', 'name': 'tavily_search_results_json'}, 'type': 'function'}]}, response_metadata={'token_usage': {'completion_tokens': 68, 'prompt_tokens': 292, 'total_tokens': 360, 'completion_time': 0.215203057, 'prompt_time': 0.022402605, 'queue_time': 0.010913512, 'total_time': 0.237605662}, 'model_name': 'llama3-groq-70b-8192-tool-use-preview', 'system_fingerprint': 'fp_ee4b521143', 'finish_reason': 'tool_calls', 'logprobs': None}, id='run-b48d16fa-9c4c-4ab3-af27-582782bfe120-0', tool_calls=[{'name': 'tavily_search_results_json', 'args': {'query': 'current weather in Los Angeles'}, 'id': 'call_bz79', 'type': 'tool_call'}, {'name': 'tavily_search_results_json', 'args': {'query': 'weather forecast for Los Angeles'}, 'id': 'call_zave', 'type': 'tool_call'}], usage_metadata={'input_tokens': 292, 'output_tokens': 68, 'total_tokens': 360}), ToolMessage(content='54 degree celcius', name='tavily_search_results_json', id='f0826d8b-095a-41d9-977d-692612fade77', tool_call_id='call_bz79'), AIMessage(content='The current weather in Los Angeles is 54 degrees Celsius.', additional_kwargs={}, response_metadata={'token_usage': {'completion_tokens': 13, 'prompt_tokens': 377, 'total_tokens': 390, 'completion_time': 0.038483312, 'prompt_time': 0.027595434, 'queue_time': 0.005548903000000004, 'total_time': 0.066078746}, 'model_name': 'llama3-groq-70b-8192-tool-use-preview', 'system_fingerprint': 'fp_ee4b521143', 'finish_reason': 'stop', 'logprobs': None}, id='run-aa8e42d6-2a16-4412-a401-f8995c4d8c07-0', usage_metadata={'input_tokens': 377, 'output_tokens': 13, 'total_tokens': 390})]}, next=('__start__',), config={'configurable': {'thread_id': '3', 'checkpoint_ns': '', 'checkpoint_id': '1ef89efe-dd1d-6ab5-8004-2db8b5a2b737'}}, metadata={'source': 'input', 'writes': {'__start__': {'messages': [HumanMessage(content='Whats the weather in LA?', additional_kwargs={}, response_metadata={})]}}, 'step': 4, 'parents': {}}, created_at='2024-10-14T05:48:25.191680+00:00', parent_config={'configurable': {'thread_id': '3', 'checkpoint_ns': '', 'checkpoint_id': '1ef89efb-dc49-6d5e-8003-6e5678a8bcae'}}, tasks=(PregelTask(id='e0ac1daa-7737-77af-1a8a-1e7ef9b77230', name='__start__', path=('__pregel_pull', '__start__'), error=None, interrupts=(), state=None),))\n",
      "--\n",
      "StateSnapshot(values={'messages': [HumanMessage(content='Whats the weather in LA?', additional_kwargs={}, response_metadata={}, id='68808277-7b95-45c4-a320-ce1a96711e3b'), AIMessage(content='', additional_kwargs={'tool_calls': [{'id': 'call_bz79', 'function': {'arguments': '{\"query\": \"current weather in Los Angeles\"}', 'name': 'tavily_search_results_json'}, 'type': 'function'}, {'id': 'call_zave', 'function': {'arguments': '{\"query\": \"weather forecast for Los Angeles\"}', 'name': 'tavily_search_results_json'}, 'type': 'function'}]}, response_metadata={'token_usage': {'completion_tokens': 68, 'prompt_tokens': 292, 'total_tokens': 360, 'completion_time': 0.215203057, 'prompt_time': 0.022402605, 'queue_time': 0.010913512, 'total_time': 0.237605662}, 'model_name': 'llama3-groq-70b-8192-tool-use-preview', 'system_fingerprint': 'fp_ee4b521143', 'finish_reason': 'tool_calls', 'logprobs': None}, id='run-b48d16fa-9c4c-4ab3-af27-582782bfe120-0', tool_calls=[{'name': 'tavily_search_results_json', 'args': {'query': 'current weather in Los Angeles'}, 'id': 'call_bz79', 'type': 'tool_call'}, {'name': 'tavily_search_results_json', 'args': {'query': 'weather forecast for Los Angeles'}, 'id': 'call_zave', 'type': 'tool_call'}], usage_metadata={'input_tokens': 292, 'output_tokens': 68, 'total_tokens': 360}), ToolMessage(content='54 degree celcius', name='tavily_search_results_json', id='f0826d8b-095a-41d9-977d-692612fade77', tool_call_id='call_bz79'), AIMessage(content='The current weather in Los Angeles is 54 degrees Celsius.', additional_kwargs={}, response_metadata={'token_usage': {'completion_tokens': 13, 'prompt_tokens': 377, 'total_tokens': 390, 'completion_time': 0.038483312, 'prompt_time': 0.027595434, 'queue_time': 0.005548903000000004, 'total_time': 0.066078746}, 'model_name': 'llama3-groq-70b-8192-tool-use-preview', 'system_fingerprint': 'fp_ee4b521143', 'finish_reason': 'stop', 'logprobs': None}, id='run-aa8e42d6-2a16-4412-a401-f8995c4d8c07-0', usage_metadata={'input_tokens': 377, 'output_tokens': 13, 'total_tokens': 390})]}, next=(), config={'configurable': {'thread_id': '3', 'checkpoint_ns': '', 'checkpoint_id': '1ef89efb-dc49-6d5e-8003-6e5678a8bcae'}}, metadata={'source': 'loop', 'writes': {'llm': {'messages': [AIMessage(content='The current weather in Los Angeles is 54 degrees Celsius.', additional_kwargs={}, response_metadata={'token_usage': {'completion_tokens': 13, 'prompt_tokens': 377, 'total_tokens': 390, 'completion_time': 0.038483312, 'prompt_time': 0.027595434, 'queue_time': 0.005548903000000004, 'total_time': 0.066078746}, 'model_name': 'llama3-groq-70b-8192-tool-use-preview', 'system_fingerprint': 'fp_ee4b521143', 'finish_reason': 'stop', 'logprobs': None}, id='run-aa8e42d6-2a16-4412-a401-f8995c4d8c07-0', usage_metadata={'input_tokens': 377, 'output_tokens': 13, 'total_tokens': 390})]}}, 'step': 3, 'parents': {}}, created_at='2024-10-14T05:47:04.574239+00:00', parent_config={'configurable': {'thread_id': '3', 'checkpoint_ns': '', 'checkpoint_id': '1ef89efb-cf5e-6f95-8002-afeafe9782d4'}}, tasks=())\n",
      "--\n",
      "StateSnapshot(values={'messages': [HumanMessage(content='Whats the weather in LA?', additional_kwargs={}, response_metadata={}, id='68808277-7b95-45c4-a320-ce1a96711e3b'), AIMessage(content='', additional_kwargs={'tool_calls': [{'id': 'call_bz79', 'function': {'arguments': '{\"query\": \"current weather in Los Angeles\"}', 'name': 'tavily_search_results_json'}, 'type': 'function'}, {'id': 'call_zave', 'function': {'arguments': '{\"query\": \"weather forecast for Los Angeles\"}', 'name': 'tavily_search_results_json'}, 'type': 'function'}]}, response_metadata={'token_usage': {'completion_tokens': 68, 'prompt_tokens': 292, 'total_tokens': 360, 'completion_time': 0.215203057, 'prompt_time': 0.022402605, 'queue_time': 0.010913512, 'total_time': 0.237605662}, 'model_name': 'llama3-groq-70b-8192-tool-use-preview', 'system_fingerprint': 'fp_ee4b521143', 'finish_reason': 'tool_calls', 'logprobs': None}, id='run-b48d16fa-9c4c-4ab3-af27-582782bfe120-0', tool_calls=[{'name': 'tavily_search_results_json', 'args': {'query': 'current weather in Los Angeles'}, 'id': 'call_bz79', 'type': 'tool_call'}, {'name': 'tavily_search_results_json', 'args': {'query': 'weather forecast for Los Angeles'}, 'id': 'call_zave', 'type': 'tool_call'}], usage_metadata={'input_tokens': 292, 'output_tokens': 68, 'total_tokens': 360}), ToolMessage(content='54 degree celcius', name='tavily_search_results_json', id='f0826d8b-095a-41d9-977d-692612fade77', tool_call_id='call_bz79')]}, next=('llm',), config={'configurable': {'thread_id': '3', 'checkpoint_ns': '', 'checkpoint_id': '1ef89efb-cf5e-6f95-8002-afeafe9782d4'}}, metadata={'source': 'update', 'step': 2, 'writes': {'action': {'messages': [ToolMessage(content='54 degree celcius', name='tavily_search_results_json', id='f0826d8b-095a-41d9-977d-692612fade77', tool_call_id='call_bz79')]}}, 'parents': {}}, created_at='2024-10-14T05:47:03.219743+00:00', parent_config={'configurable': {'thread_id': '3', 'checkpoint_ns': '', 'checkpoint_id': '1ef89efa-f18c-6d10-8001-fa4824af1471'}}, tasks=(PregelTask(id='330c6a8f-1d8c-e92b-2a68-ffe743a7209a', name='llm', path=('__pregel_pull', 'llm'), error=None, interrupts=(), state=None),))\n",
      "--\n",
      "StateSnapshot(values={'messages': [HumanMessage(content='Whats the weather in LA?', additional_kwargs={}, response_metadata={}, id='68808277-7b95-45c4-a320-ce1a96711e3b'), AIMessage(content='', additional_kwargs={'tool_calls': [{'id': 'call_bz79', 'function': {'arguments': '{\"query\": \"current weather in Los Angeles\"}', 'name': 'tavily_search_results_json'}, 'type': 'function'}, {'id': 'call_zave', 'function': {'arguments': '{\"query\": \"weather forecast for Los Angeles\"}', 'name': 'tavily_search_results_json'}, 'type': 'function'}]}, response_metadata={'token_usage': {'completion_tokens': 68, 'prompt_tokens': 292, 'total_tokens': 360, 'completion_time': 0.215203057, 'prompt_time': 0.022402605, 'queue_time': 0.010913512, 'total_time': 0.237605662}, 'model_name': 'llama3-groq-70b-8192-tool-use-preview', 'system_fingerprint': 'fp_ee4b521143', 'finish_reason': 'tool_calls', 'logprobs': None}, id='run-b48d16fa-9c4c-4ab3-af27-582782bfe120-0', tool_calls=[{'name': 'tavily_search_results_json', 'args': {'query': 'current weather in LA, accuweather'}, 'id': 'call_bz79', 'type': 'tool_call'}], usage_metadata={'input_tokens': 292, 'output_tokens': 68, 'total_tokens': 360}), ToolMessage(content='AttributeError(\"\\'FieldInfo\\' object has no attribute \\'results\\'\")', name='tavily_search_results_json', id='9ac6d8d2-14b7-4d1e-a459-16bbb4fb97d7', tool_call_id='call_bz79'), AIMessage(content='It seems like there was an error with the search query. Let me try a different search engine for the weather in LA.', additional_kwargs={}, response_metadata={'token_usage': {'completion_tokens': 26, 'prompt_tokens': 364, 'total_tokens': 390, 'completion_time': 0.082396263, 'prompt_time': 0.03978629, 'queue_time': 0.0010069880000000003, 'total_time': 0.122182553}, 'model_name': 'llama3-groq-70b-8192-tool-use-preview', 'system_fingerprint': 'fp_ee4b521143', 'finish_reason': 'stop', 'logprobs': None}, id='run-935a6e8b-de4b-4d85-8279-828a8aa8fc65-0', usage_metadata={'input_tokens': 364, 'output_tokens': 26, 'total_tokens': 390})]}, next=(), config={'configurable': {'thread_id': '3', 'checkpoint_ns': '', 'checkpoint_id': '1ef89efb-aa84-68b1-8004-0be75df09b8e'}}, metadata={'source': 'loop', 'writes': {'llm': {'messages': [AIMessage(content='It seems like there was an error with the search query. Let me try a different search engine for the weather in LA.', additional_kwargs={}, response_metadata={'token_usage': {'completion_tokens': 26, 'prompt_tokens': 364, 'total_tokens': 390, 'completion_time': 0.082396263, 'prompt_time': 0.03978629, 'queue_time': 0.0010069880000000003, 'total_time': 0.122182553}, 'model_name': 'llama3-groq-70b-8192-tool-use-preview', 'system_fingerprint': 'fp_ee4b521143', 'finish_reason': 'stop', 'logprobs': None}, id='run-935a6e8b-de4b-4d85-8279-828a8aa8fc65-0', usage_metadata={'input_tokens': 364, 'output_tokens': 26, 'total_tokens': 390})]}}, 'step': 4, 'parents': {}}, created_at='2024-10-14T05:46:59.355378+00:00', parent_config={'configurable': {'thread_id': '3', 'checkpoint_ns': '', 'checkpoint_id': '1ef89efb-a603-61cf-8003-28ab36f2f8c8'}}, tasks=())\n",
      "--\n",
      "StateSnapshot(values={'messages': [HumanMessage(content='Whats the weather in LA?', additional_kwargs={}, response_metadata={}, id='68808277-7b95-45c4-a320-ce1a96711e3b'), AIMessage(content='', additional_kwargs={'tool_calls': [{'id': 'call_bz79', 'function': {'arguments': '{\"query\": \"current weather in Los Angeles\"}', 'name': 'tavily_search_results_json'}, 'type': 'function'}, {'id': 'call_zave', 'function': {'arguments': '{\"query\": \"weather forecast for Los Angeles\"}', 'name': 'tavily_search_results_json'}, 'type': 'function'}]}, response_metadata={'token_usage': {'completion_tokens': 68, 'prompt_tokens': 292, 'total_tokens': 360, 'completion_time': 0.215203057, 'prompt_time': 0.022402605, 'queue_time': 0.010913512, 'total_time': 0.237605662}, 'model_name': 'llama3-groq-70b-8192-tool-use-preview', 'system_fingerprint': 'fp_ee4b521143', 'finish_reason': 'tool_calls', 'logprobs': None}, id='run-b48d16fa-9c4c-4ab3-af27-582782bfe120-0', tool_calls=[{'name': 'tavily_search_results_json', 'args': {'query': 'current weather in LA, accuweather'}, 'id': 'call_bz79', 'type': 'tool_call'}], usage_metadata={'input_tokens': 292, 'output_tokens': 68, 'total_tokens': 360}), ToolMessage(content='AttributeError(\"\\'FieldInfo\\' object has no attribute \\'results\\'\")', name='tavily_search_results_json', id='9ac6d8d2-14b7-4d1e-a459-16bbb4fb97d7', tool_call_id='call_bz79')]}, next=('llm',), config={'configurable': {'thread_id': '3', 'checkpoint_ns': '', 'checkpoint_id': '1ef89efb-a603-61cf-8003-28ab36f2f8c8'}}, metadata={'source': 'loop', 'writes': {'action': {'messages': [ToolMessage(content='AttributeError(\"\\'FieldInfo\\' object has no attribute \\'results\\'\")', name='tavily_search_results_json', id='9ac6d8d2-14b7-4d1e-a459-16bbb4fb97d7', tool_call_id='call_bz79')]}}, 'step': 3, 'parents': {}}, created_at='2024-10-14T05:46:58.882982+00:00', parent_config={'configurable': {'thread_id': '3', 'checkpoint_ns': '', 'checkpoint_id': '1ef89efb-a00f-6a07-8002-e981a17a08cc'}}, tasks=(PregelTask(id='35722408-5c52-8642-641c-b3cf1520bc5a', name='llm', path=('__pregel_pull', 'llm'), error=None, interrupts=(), state=None),))\n",
      "--\n",
      "StateSnapshot(values={'messages': [HumanMessage(content='Whats the weather in LA?', additional_kwargs={}, response_metadata={}, id='68808277-7b95-45c4-a320-ce1a96711e3b'), AIMessage(content='', additional_kwargs={'tool_calls': [{'id': 'call_bz79', 'function': {'arguments': '{\"query\": \"current weather in Los Angeles\"}', 'name': 'tavily_search_results_json'}, 'type': 'function'}, {'id': 'call_zave', 'function': {'arguments': '{\"query\": \"weather forecast for Los Angeles\"}', 'name': 'tavily_search_results_json'}, 'type': 'function'}]}, response_metadata={'token_usage': {'completion_tokens': 68, 'prompt_tokens': 292, 'total_tokens': 360, 'completion_time': 0.215203057, 'prompt_time': 0.022402605, 'queue_time': 0.010913512, 'total_time': 0.237605662}, 'model_name': 'llama3-groq-70b-8192-tool-use-preview', 'system_fingerprint': 'fp_ee4b521143', 'finish_reason': 'tool_calls', 'logprobs': None}, id='run-b48d16fa-9c4c-4ab3-af27-582782bfe120-0', tool_calls=[{'name': 'tavily_search_results_json', 'args': {'query': 'current weather in LA, accuweather'}, 'id': 'call_bz79', 'type': 'tool_call'}], usage_metadata={'input_tokens': 292, 'output_tokens': 68, 'total_tokens': 360})]}, next=('action',), config={'configurable': {'thread_id': '3', 'checkpoint_ns': '', 'checkpoint_id': '1ef89efb-a00f-6a07-8002-e981a17a08cc'}}, metadata={'source': 'update', 'step': 2, 'writes': {'llm': {'messages': [HumanMessage(content='Whats the weather in LA?', additional_kwargs={}, response_metadata={}, id='68808277-7b95-45c4-a320-ce1a96711e3b'), AIMessage(content='', additional_kwargs={'tool_calls': [{'id': 'call_bz79', 'function': {'arguments': '{\"query\": \"current weather in Los Angeles\"}', 'name': 'tavily_search_results_json'}, 'type': 'function'}, {'id': 'call_zave', 'function': {'arguments': '{\"query\": \"weather forecast for Los Angeles\"}', 'name': 'tavily_search_results_json'}, 'type': 'function'}]}, response_metadata={'token_usage': {'completion_tokens': 68, 'prompt_tokens': 292, 'total_tokens': 360, 'completion_time': 0.215203057, 'prompt_time': 0.022402605, 'queue_time': 0.010913512, 'total_time': 0.237605662}, 'model_name': 'llama3-groq-70b-8192-tool-use-preview', 'system_fingerprint': 'fp_ee4b521143', 'finish_reason': 'tool_calls', 'logprobs': None}, id='run-b48d16fa-9c4c-4ab3-af27-582782bfe120-0', tool_calls=[{'name': 'tavily_search_results_json', 'args': {'query': 'current weather in LA, accuweather'}, 'id': 'call_bz79', 'type': 'tool_call'}], usage_metadata={'input_tokens': 292, 'output_tokens': 68, 'total_tokens': 360})]}}, 'parents': {}}, created_at='2024-10-14T05:46:58.258966+00:00', parent_config={'configurable': {'thread_id': '3', 'checkpoint_ns': '', 'checkpoint_id': '1ef89efa-f18c-6d10-8001-fa4824af1471'}}, tasks=(PregelTask(id='2b22528e-cb93-57f6-be4a-8582d2701955', name='action', path=('__pregel_pull', 'action'), error=None, interrupts=(), state=None),))\n",
      "--\n",
      "StateSnapshot(values={'messages': [HumanMessage(content='Whats the weather in LA?', additional_kwargs={}, response_metadata={}, id='68808277-7b95-45c4-a320-ce1a96711e3b'), AIMessage(content='', additional_kwargs={'tool_calls': [{'id': 'call_bz79', 'function': {'arguments': '{\"query\": \"current weather in Los Angeles\"}', 'name': 'tavily_search_results_json'}, 'type': 'function'}, {'id': 'call_zave', 'function': {'arguments': '{\"query\": \"weather forecast for Los Angeles\"}', 'name': 'tavily_search_results_json'}, 'type': 'function'}]}, response_metadata={'token_usage': {'completion_tokens': 68, 'prompt_tokens': 292, 'total_tokens': 360, 'completion_time': 0.215203057, 'prompt_time': 0.022402605, 'queue_time': 0.010913512, 'total_time': 0.237605662}, 'model_name': 'llama3-groq-70b-8192-tool-use-preview', 'system_fingerprint': 'fp_ee4b521143', 'finish_reason': 'tool_calls', 'logprobs': None}, id='run-b48d16fa-9c4c-4ab3-af27-582782bfe120-0', tool_calls=[{'name': 'tavily_search_results_json', 'args': {'query': 'current weather in Los Angeles'}, 'id': 'call_bz79', 'type': 'tool_call'}, {'name': 'tavily_search_results_json', 'args': {'query': 'weather forecast for Los Angeles'}, 'id': 'call_zave', 'type': 'tool_call'}], usage_metadata={'input_tokens': 292, 'output_tokens': 68, 'total_tokens': 360}), ToolMessage(content='AttributeError(\"\\'FieldInfo\\' object has no attribute \\'results\\'\")', name='tavily_search_results_json', id='afa8368a-f8f6-4b47-8b0a-8729809fc4ad', tool_call_id='call_bz79'), ToolMessage(content='AttributeError(\"\\'FieldInfo\\' object has no attribute \\'results\\'\")', name='tavily_search_results_json', id='6ba5cb07-1480-41fd-8367-78f39b8b911a', tool_call_id='call_zave'), AIMessage(content=\"I'm sorry, I encountered an error while trying to fetch the weather information for Los Angeles. Can you please provide me with more details on what specific weather information you're looking for?\", additional_kwargs={}, response_metadata={'token_usage': {'completion_tokens': 38, 'prompt_tokens': 420, 'total_tokens': 458, 'completion_time': 0.11864214, 'prompt_time': 0.02936443, 'queue_time': 0.003984787, 'total_time': 0.14800657}, 'model_name': 'llama3-groq-70b-8192-tool-use-preview', 'system_fingerprint': 'fp_ee4b521143', 'finish_reason': 'stop', 'logprobs': None}, id='run-9dc5248d-edc2-43bb-abf4-a0c16a837444-0', usage_metadata={'input_tokens': 420, 'output_tokens': 38, 'total_tokens': 458})]}, next=(), config={'configurable': {'thread_id': '3', 'checkpoint_ns': '', 'checkpoint_id': '1ef89efb-827a-6981-8003-17fd6009f098'}}, metadata={'source': 'loop', 'writes': {'llm': {'messages': [AIMessage(content=\"I'm sorry, I encountered an error while trying to fetch the weather information for Los Angeles. Can you please provide me with more details on what specific weather information you're looking for?\", additional_kwargs={}, response_metadata={'token_usage': {'completion_tokens': 38, 'prompt_tokens': 420, 'total_tokens': 458, 'completion_time': 0.11864214, 'prompt_time': 0.02936443, 'queue_time': 0.003984787, 'total_time': 0.14800657}, 'model_name': 'llama3-groq-70b-8192-tool-use-preview', 'system_fingerprint': 'fp_ee4b521143', 'finish_reason': 'stop', 'logprobs': None}, id='run-9dc5248d-edc2-43bb-abf4-a0c16a837444-0', usage_metadata={'input_tokens': 420, 'output_tokens': 38, 'total_tokens': 458})]}}, 'step': 3, 'parents': {}}, created_at='2024-10-14T05:46:55.157004+00:00', parent_config={'configurable': {'thread_id': '3', 'checkpoint_ns': '', 'checkpoint_id': '1ef89efb-7a81-690f-8002-ebd2034cc403'}}, tasks=())\n",
      "--\n",
      "StateSnapshot(values={'messages': [HumanMessage(content='Whats the weather in LA?', additional_kwargs={}, response_metadata={}, id='68808277-7b95-45c4-a320-ce1a96711e3b'), AIMessage(content='', additional_kwargs={'tool_calls': [{'id': 'call_bz79', 'function': {'arguments': '{\"query\": \"current weather in Los Angeles\"}', 'name': 'tavily_search_results_json'}, 'type': 'function'}, {'id': 'call_zave', 'function': {'arguments': '{\"query\": \"weather forecast for Los Angeles\"}', 'name': 'tavily_search_results_json'}, 'type': 'function'}]}, response_metadata={'token_usage': {'completion_tokens': 68, 'prompt_tokens': 292, 'total_tokens': 360, 'completion_time': 0.215203057, 'prompt_time': 0.022402605, 'queue_time': 0.010913512, 'total_time': 0.237605662}, 'model_name': 'llama3-groq-70b-8192-tool-use-preview', 'system_fingerprint': 'fp_ee4b521143', 'finish_reason': 'tool_calls', 'logprobs': None}, id='run-b48d16fa-9c4c-4ab3-af27-582782bfe120-0', tool_calls=[{'name': 'tavily_search_results_json', 'args': {'query': 'current weather in Los Angeles'}, 'id': 'call_bz79', 'type': 'tool_call'}, {'name': 'tavily_search_results_json', 'args': {'query': 'weather forecast for Los Angeles'}, 'id': 'call_zave', 'type': 'tool_call'}], usage_metadata={'input_tokens': 292, 'output_tokens': 68, 'total_tokens': 360}), ToolMessage(content='AttributeError(\"\\'FieldInfo\\' object has no attribute \\'results\\'\")', name='tavily_search_results_json', id='afa8368a-f8f6-4b47-8b0a-8729809fc4ad', tool_call_id='call_bz79'), ToolMessage(content='AttributeError(\"\\'FieldInfo\\' object has no attribute \\'results\\'\")', name='tavily_search_results_json', id='6ba5cb07-1480-41fd-8367-78f39b8b911a', tool_call_id='call_zave')]}, next=('llm',), config={'configurable': {'thread_id': '3', 'checkpoint_ns': '', 'checkpoint_id': '1ef89efb-7a81-690f-8002-ebd2034cc403'}}, metadata={'source': 'loop', 'writes': {'action': {'messages': [ToolMessage(content='AttributeError(\"\\'FieldInfo\\' object has no attribute \\'results\\'\")', name='tavily_search_results_json', id='afa8368a-f8f6-4b47-8b0a-8729809fc4ad', tool_call_id='call_bz79'), ToolMessage(content='AttributeError(\"\\'FieldInfo\\' object has no attribute \\'results\\'\")', name='tavily_search_results_json', id='6ba5cb07-1480-41fd-8367-78f39b8b911a', tool_call_id='call_zave')]}}, 'step': 2, 'parents': {}}, created_at='2024-10-14T05:46:54.321058+00:00', parent_config={'configurable': {'thread_id': '3', 'checkpoint_ns': '', 'checkpoint_id': '1ef89efa-f18c-6d10-8001-fa4824af1471'}}, tasks=(PregelTask(id='80c068ca-4323-d56b-4edc-9665daa56397', name='llm', path=('__pregel_pull', 'llm'), error=None, interrupts=(), state=None),))\n",
      "--\n",
      "StateSnapshot(values={'messages': [HumanMessage(content='Whats the weather in LA?', additional_kwargs={}, response_metadata={}, id='68808277-7b95-45c4-a320-ce1a96711e3b'), AIMessage(content='', additional_kwargs={'tool_calls': [{'id': 'call_bz79', 'function': {'arguments': '{\"query\": \"current weather in Los Angeles\"}', 'name': 'tavily_search_results_json'}, 'type': 'function'}, {'id': 'call_zave', 'function': {'arguments': '{\"query\": \"weather forecast for Los Angeles\"}', 'name': 'tavily_search_results_json'}, 'type': 'function'}]}, response_metadata={'token_usage': {'completion_tokens': 68, 'prompt_tokens': 292, 'total_tokens': 360, 'completion_time': 0.215203057, 'prompt_time': 0.022402605, 'queue_time': 0.010913512, 'total_time': 0.237605662}, 'model_name': 'llama3-groq-70b-8192-tool-use-preview', 'system_fingerprint': 'fp_ee4b521143', 'finish_reason': 'tool_calls', 'logprobs': None}, id='run-b48d16fa-9c4c-4ab3-af27-582782bfe120-0', tool_calls=[{'name': 'tavily_search_results_json', 'args': {'query': 'current weather in Louisiana'}, 'id': 'call_bz79', 'type': 'tool_call'}], usage_metadata={'input_tokens': 292, 'output_tokens': 68, 'total_tokens': 360}), ToolMessage(content='AttributeError(\"\\'FieldInfo\\' object has no attribute \\'results\\'\")', name='tavily_search_results_json', id='7880c5a0-65be-4678-aa4d-d40b59571270', tool_call_id='call_bz79'), AIMessage(content=\"I'm sorry, I encountered an error while retrieving the current weather in Louisiana. Let me try a different approach.\", additional_kwargs={}, response_metadata={'token_usage': {'completion_tokens': 24, 'prompt_tokens': 360, 'total_tokens': 384, 'completion_time': 0.073893341, 'prompt_time': 0.027094185, 'queue_time': 0.006223262, 'total_time': 0.100987526}, 'model_name': 'llama3-groq-70b-8192-tool-use-preview', 'system_fingerprint': 'fp_ee4b521143', 'finish_reason': 'stop', 'logprobs': None}, id='run-dc6d5f3d-281f-4afd-9891-d6a01d78c293-0', usage_metadata={'input_tokens': 360, 'output_tokens': 24, 'total_tokens': 384})]}, next=(), config={'configurable': {'thread_id': '3', 'checkpoint_ns': '', 'checkpoint_id': '1ef89efb-2a5d-64e5-8004-14f73aafd850'}}, metadata={'source': 'loop', 'writes': {'llm': {'messages': [AIMessage(content=\"I'm sorry, I encountered an error while retrieving the current weather in Louisiana. Let me try a different approach.\", additional_kwargs={}, response_metadata={'token_usage': {'completion_tokens': 24, 'prompt_tokens': 360, 'total_tokens': 384, 'completion_time': 0.073893341, 'prompt_time': 0.027094185, 'queue_time': 0.006223262, 'total_time': 0.100987526}, 'model_name': 'llama3-groq-70b-8192-tool-use-preview', 'system_fingerprint': 'fp_ee4b521143', 'finish_reason': 'stop', 'logprobs': None}, id='run-dc6d5f3d-281f-4afd-9891-d6a01d78c293-0', usage_metadata={'input_tokens': 360, 'output_tokens': 24, 'total_tokens': 384})]}}, 'step': 4, 'parents': {}}, created_at='2024-10-14T05:46:45.917594+00:00', parent_config={'configurable': {'thread_id': '3', 'checkpoint_ns': '', 'checkpoint_id': '1ef89efb-2268-60f5-8003-31e569c3d1cf'}}, tasks=())\n",
      "--\n",
      "StateSnapshot(values={'messages': [HumanMessage(content='Whats the weather in LA?', additional_kwargs={}, response_metadata={}, id='68808277-7b95-45c4-a320-ce1a96711e3b'), AIMessage(content='', additional_kwargs={'tool_calls': [{'id': 'call_bz79', 'function': {'arguments': '{\"query\": \"current weather in Los Angeles\"}', 'name': 'tavily_search_results_json'}, 'type': 'function'}, {'id': 'call_zave', 'function': {'arguments': '{\"query\": \"weather forecast for Los Angeles\"}', 'name': 'tavily_search_results_json'}, 'type': 'function'}]}, response_metadata={'token_usage': {'completion_tokens': 68, 'prompt_tokens': 292, 'total_tokens': 360, 'completion_time': 0.215203057, 'prompt_time': 0.022402605, 'queue_time': 0.010913512, 'total_time': 0.237605662}, 'model_name': 'llama3-groq-70b-8192-tool-use-preview', 'system_fingerprint': 'fp_ee4b521143', 'finish_reason': 'tool_calls', 'logprobs': None}, id='run-b48d16fa-9c4c-4ab3-af27-582782bfe120-0', tool_calls=[{'name': 'tavily_search_results_json', 'args': {'query': 'current weather in Louisiana'}, 'id': 'call_bz79', 'type': 'tool_call'}], usage_metadata={'input_tokens': 292, 'output_tokens': 68, 'total_tokens': 360}), ToolMessage(content='AttributeError(\"\\'FieldInfo\\' object has no attribute \\'results\\'\")', name='tavily_search_results_json', id='7880c5a0-65be-4678-aa4d-d40b59571270', tool_call_id='call_bz79')]}, next=('llm',), config={'configurable': {'thread_id': '3', 'checkpoint_ns': '', 'checkpoint_id': '1ef89efb-2268-60f5-8003-31e569c3d1cf'}}, metadata={'source': 'loop', 'writes': {'action': {'messages': [ToolMessage(content='AttributeError(\"\\'FieldInfo\\' object has no attribute \\'results\\'\")', name='tavily_search_results_json', id='7880c5a0-65be-4678-aa4d-d40b59571270', tool_call_id='call_bz79')]}}, 'step': 3, 'parents': {}}, created_at='2024-10-14T05:46:45.083144+00:00', parent_config={'configurable': {'thread_id': '3', 'checkpoint_ns': '', 'checkpoint_id': '1ef89efb-1389-62f3-8002-63040932d42a'}}, tasks=(PregelTask(id='acd49150-3e44-8d83-5a1c-9830cf8c278d', name='llm', path=('__pregel_pull', 'llm'), error=None, interrupts=(), state=None),))\n",
      "--\n",
      "StateSnapshot(values={'messages': [HumanMessage(content='Whats the weather in LA?', additional_kwargs={}, response_metadata={}, id='68808277-7b95-45c4-a320-ce1a96711e3b'), AIMessage(content='', additional_kwargs={'tool_calls': [{'id': 'call_bz79', 'function': {'arguments': '{\"query\": \"current weather in Los Angeles\"}', 'name': 'tavily_search_results_json'}, 'type': 'function'}, {'id': 'call_zave', 'function': {'arguments': '{\"query\": \"weather forecast for Los Angeles\"}', 'name': 'tavily_search_results_json'}, 'type': 'function'}]}, response_metadata={'token_usage': {'completion_tokens': 68, 'prompt_tokens': 292, 'total_tokens': 360, 'completion_time': 0.215203057, 'prompt_time': 0.022402605, 'queue_time': 0.010913512, 'total_time': 0.237605662}, 'model_name': 'llama3-groq-70b-8192-tool-use-preview', 'system_fingerprint': 'fp_ee4b521143', 'finish_reason': 'tool_calls', 'logprobs': None}, id='run-b48d16fa-9c4c-4ab3-af27-582782bfe120-0', tool_calls=[{'name': 'tavily_search_results_json', 'args': {'query': 'current weather in Louisiana'}, 'id': 'call_bz79', 'type': 'tool_call'}], usage_metadata={'input_tokens': 292, 'output_tokens': 68, 'total_tokens': 360})]}, next=('action',), config={'configurable': {'thread_id': '3', 'checkpoint_ns': '', 'checkpoint_id': '1ef89efb-1389-62f3-8002-63040932d42a'}}, metadata={'source': 'update', 'step': 2, 'writes': {'llm': {'messages': [HumanMessage(content='Whats the weather in LA?', additional_kwargs={}, response_metadata={}, id='68808277-7b95-45c4-a320-ce1a96711e3b'), AIMessage(content='', additional_kwargs={'tool_calls': [{'id': 'call_bz79', 'function': {'arguments': '{\"query\": \"current weather in Los Angeles\"}', 'name': 'tavily_search_results_json'}, 'type': 'function'}, {'id': 'call_zave', 'function': {'arguments': '{\"query\": \"weather forecast for Los Angeles\"}', 'name': 'tavily_search_results_json'}, 'type': 'function'}]}, response_metadata={'token_usage': {'completion_tokens': 68, 'prompt_tokens': 292, 'total_tokens': 360, 'completion_time': 0.215203057, 'prompt_time': 0.022402605, 'queue_time': 0.010913512, 'total_time': 0.237605662}, 'model_name': 'llama3-groq-70b-8192-tool-use-preview', 'system_fingerprint': 'fp_ee4b521143', 'finish_reason': 'tool_calls', 'logprobs': None}, id='run-b48d16fa-9c4c-4ab3-af27-582782bfe120-0', tool_calls=[{'name': 'tavily_search_results_json', 'args': {'query': 'current weather in Louisiana'}, 'id': 'call_bz79', 'type': 'tool_call'}], usage_metadata={'input_tokens': 292, 'output_tokens': 68, 'total_tokens': 360})]}}, 'parents': {}}, created_at='2024-10-14T05:46:43.523843+00:00', parent_config={'configurable': {'thread_id': '3', 'checkpoint_ns': '', 'checkpoint_id': '1ef89efa-f18c-6d10-8001-fa4824af1471'}}, tasks=(PregelTask(id='288c5915-0674-273a-3207-7de65935fb50', name='action', path=('__pregel_pull', 'action'), error=None, interrupts=(), state=None),))\n",
      "--\n",
      "StateSnapshot(values={'messages': [HumanMessage(content='Whats the weather in LA?', additional_kwargs={}, response_metadata={}, id='68808277-7b95-45c4-a320-ce1a96711e3b'), AIMessage(content='', additional_kwargs={'tool_calls': [{'id': 'call_bz79', 'function': {'arguments': '{\"query\": \"current weather in Los Angeles\"}', 'name': 'tavily_search_results_json'}, 'type': 'function'}, {'id': 'call_zave', 'function': {'arguments': '{\"query\": \"weather forecast for Los Angeles\"}', 'name': 'tavily_search_results_json'}, 'type': 'function'}]}, response_metadata={'token_usage': {'completion_tokens': 68, 'prompt_tokens': 292, 'total_tokens': 360, 'completion_time': 0.215203057, 'prompt_time': 0.022402605, 'queue_time': 0.010913512, 'total_time': 0.237605662}, 'model_name': 'llama3-groq-70b-8192-tool-use-preview', 'system_fingerprint': 'fp_ee4b521143', 'finish_reason': 'tool_calls', 'logprobs': None}, id='run-b48d16fa-9c4c-4ab3-af27-582782bfe120-0', tool_calls=[{'name': 'tavily_search_results_json', 'args': {'query': 'current weather in Los Angeles'}, 'id': 'call_bz79', 'type': 'tool_call'}, {'name': 'tavily_search_results_json', 'args': {'query': 'weather forecast for Los Angeles'}, 'id': 'call_zave', 'type': 'tool_call'}], usage_metadata={'input_tokens': 292, 'output_tokens': 68, 'total_tokens': 360})]}, next=('action',), config={'configurable': {'thread_id': '3', 'checkpoint_ns': '', 'checkpoint_id': '1ef89efa-f18c-6d10-8001-fa4824af1471'}}, metadata={'source': 'loop', 'writes': {'llm': {'messages': [AIMessage(content='', additional_kwargs={'tool_calls': [{'id': 'call_bz79', 'function': {'arguments': '{\"query\": \"current weather in Los Angeles\"}', 'name': 'tavily_search_results_json'}, 'type': 'function'}, {'id': 'call_zave', 'function': {'arguments': '{\"query\": \"weather forecast for Los Angeles\"}', 'name': 'tavily_search_results_json'}, 'type': 'function'}]}, response_metadata={'token_usage': {'completion_tokens': 68, 'prompt_tokens': 292, 'total_tokens': 360, 'completion_time': 0.215203057, 'prompt_time': 0.022402605, 'queue_time': 0.010913512, 'total_time': 0.237605662}, 'model_name': 'llama3-groq-70b-8192-tool-use-preview', 'system_fingerprint': 'fp_ee4b521143', 'finish_reason': 'tool_calls', 'logprobs': None}, id='run-b48d16fa-9c4c-4ab3-af27-582782bfe120-0', tool_calls=[{'name': 'tavily_search_results_json', 'args': {'query': 'current weather in Los Angeles'}, 'id': 'call_bz79', 'type': 'tool_call'}, {'name': 'tavily_search_results_json', 'args': {'query': 'weather forecast for Los Angeles'}, 'id': 'call_zave', 'type': 'tool_call'}], usage_metadata={'input_tokens': 292, 'output_tokens': 68, 'total_tokens': 360})]}}, 'step': 1, 'parents': {}}, created_at='2024-10-14T05:46:39.960171+00:00', parent_config={'configurable': {'thread_id': '3', 'checkpoint_ns': '', 'checkpoint_id': '1ef89efa-e967-671e-8000-5b5207838ed3'}}, tasks=(PregelTask(id='d3581b91-1b0d-8be5-929c-d6d5188ebf93', name='action', path=('__pregel_pull', 'action'), error=None, interrupts=(), state=None),))\n",
      "--\n",
      "StateSnapshot(values={'messages': [HumanMessage(content='Whats the weather in LA?', additional_kwargs={}, response_metadata={}, id='68808277-7b95-45c4-a320-ce1a96711e3b')]}, next=('llm',), config={'configurable': {'thread_id': '3', 'checkpoint_ns': '', 'checkpoint_id': '1ef89efa-e967-671e-8000-5b5207838ed3'}}, metadata={'source': 'loop', 'writes': None, 'step': 0, 'parents': {}}, created_at='2024-10-14T05:46:39.106009+00:00', parent_config={'configurable': {'thread_id': '3', 'checkpoint_ns': '', 'checkpoint_id': '1ef89efa-e965-69a0-bfff-2994f064f06f'}}, tasks=(PregelTask(id='f4ec834b-9598-1e79-500f-0ccfe7fafb2f', name='llm', path=('__pregel_pull', 'llm'), error=None, interrupts=(), state=None),))\n",
      "--\n",
      "StateSnapshot(values={'messages': []}, next=('__start__',), config={'configurable': {'thread_id': '3', 'checkpoint_ns': '', 'checkpoint_id': '1ef89efa-e965-69a0-bfff-2994f064f06f'}}, metadata={'source': 'input', 'writes': {'__start__': {'messages': [HumanMessage(content='Whats the weather in LA?', additional_kwargs={}, response_metadata={})]}}, 'step': -1, 'parents': {}}, created_at='2024-10-14T05:46:39.105259+00:00', parent_config=None, tasks=(PregelTask(id='db1fc9f5-073f-a650-7b1c-67b47249251e', name='__start__', path=('__pregel_pull', '__start__'), error=None, interrupts=(), state=None),))\n",
      "--\n"
     ]
    }
   ],
   "source": [
    "states = []\n",
    "for state in abot.graph.get_state_history(thread):\n",
    "    print(state)\n",
    "    print('--')\n",
    "    states.append(state)"
   ]
  },
  {
   "cell_type": "markdown",
   "id": "449896c8-6ec6-4166-b640-9cd1530336a0",
   "metadata": {},
   "source": [
    "To fetch the same state as was filmed, the offset below is changed to `-3` from `-1`. This accounts for the initial state `__start__` and the first state that are now stored to state memory with the latest version of software."
   ]
  },
  {
   "cell_type": "code",
   "execution_count": 45,
   "id": "4871f644-b131-4065-b7ce-b82c20a41f11",
   "metadata": {
    "height": 30
   },
   "outputs": [],
   "source": [
    "to_replay = states[-3]"
   ]
  },
  {
   "cell_type": "code",
   "execution_count": 46,
   "id": "8c3d8070-3f36-4cf0-a677-508e54359c8f",
   "metadata": {
    "height": 30
   },
   "outputs": [
    {
     "data": {
      "text/plain": [
       "StateSnapshot(values={'messages': [HumanMessage(content='Whats the weather in LA?', additional_kwargs={}, response_metadata={}, id='68808277-7b95-45c4-a320-ce1a96711e3b'), AIMessage(content='', additional_kwargs={'tool_calls': [{'id': 'call_bz79', 'function': {'arguments': '{\"query\": \"current weather in Los Angeles\"}', 'name': 'tavily_search_results_json'}, 'type': 'function'}, {'id': 'call_zave', 'function': {'arguments': '{\"query\": \"weather forecast for Los Angeles\"}', 'name': 'tavily_search_results_json'}, 'type': 'function'}]}, response_metadata={'token_usage': {'completion_tokens': 68, 'prompt_tokens': 292, 'total_tokens': 360, 'completion_time': 0.215203057, 'prompt_time': 0.022402605, 'queue_time': 0.010913512, 'total_time': 0.237605662}, 'model_name': 'llama3-groq-70b-8192-tool-use-preview', 'system_fingerprint': 'fp_ee4b521143', 'finish_reason': 'tool_calls', 'logprobs': None}, id='run-b48d16fa-9c4c-4ab3-af27-582782bfe120-0', tool_calls=[{'name': 'tavily_search_results_json', 'args': {'query': 'current weather in Los Angeles'}, 'id': 'call_bz79', 'type': 'tool_call'}, {'name': 'tavily_search_results_json', 'args': {'query': 'weather forecast for Los Angeles'}, 'id': 'call_zave', 'type': 'tool_call'}], usage_metadata={'input_tokens': 292, 'output_tokens': 68, 'total_tokens': 360})]}, next=('action',), config={'configurable': {'thread_id': '3', 'checkpoint_ns': '', 'checkpoint_id': '1ef89efa-f18c-6d10-8001-fa4824af1471'}}, metadata={'source': 'loop', 'writes': {'llm': {'messages': [AIMessage(content='', additional_kwargs={'tool_calls': [{'id': 'call_bz79', 'function': {'arguments': '{\"query\": \"current weather in Los Angeles\"}', 'name': 'tavily_search_results_json'}, 'type': 'function'}, {'id': 'call_zave', 'function': {'arguments': '{\"query\": \"weather forecast for Los Angeles\"}', 'name': 'tavily_search_results_json'}, 'type': 'function'}]}, response_metadata={'token_usage': {'completion_tokens': 68, 'prompt_tokens': 292, 'total_tokens': 360, 'completion_time': 0.215203057, 'prompt_time': 0.022402605, 'queue_time': 0.010913512, 'total_time': 0.237605662}, 'model_name': 'llama3-groq-70b-8192-tool-use-preview', 'system_fingerprint': 'fp_ee4b521143', 'finish_reason': 'tool_calls', 'logprobs': None}, id='run-b48d16fa-9c4c-4ab3-af27-582782bfe120-0', tool_calls=[{'name': 'tavily_search_results_json', 'args': {'query': 'current weather in Los Angeles'}, 'id': 'call_bz79', 'type': 'tool_call'}, {'name': 'tavily_search_results_json', 'args': {'query': 'weather forecast for Los Angeles'}, 'id': 'call_zave', 'type': 'tool_call'}], usage_metadata={'input_tokens': 292, 'output_tokens': 68, 'total_tokens': 360})]}}, 'step': 1, 'parents': {}}, created_at='2024-10-14T05:46:39.960171+00:00', parent_config={'configurable': {'thread_id': '3', 'checkpoint_ns': '', 'checkpoint_id': '1ef89efa-e967-671e-8000-5b5207838ed3'}}, tasks=(PregelTask(id='d3581b91-1b0d-8be5-929c-d6d5188ebf93', name='action', path=('__pregel_pull', 'action'), error=None, interrupts=(), state=None),))"
      ]
     },
     "execution_count": 46,
     "metadata": {},
     "output_type": "execute_result"
    }
   ],
   "source": [
    "to_replay"
   ]
  },
  {
   "cell_type": "code",
   "execution_count": 47,
   "id": "98f3be1d-cc4c-41fa-9863-3e386e88e305",
   "metadata": {
    "height": 64
   },
   "outputs": [
    {
     "name": "stdout",
     "output_type": "stream",
     "text": [
      "Calling: {'name': 'tavily_search_results_json', 'args': {'query': 'current weather in Los Angeles'}, 'id': 'call_bz79', 'type': 'tool_call'}\n",
      "Calling: {'name': 'tavily_search_results_json', 'args': {'query': 'weather forecast for Los Angeles'}, 'id': 'call_zave', 'type': 'tool_call'}\n",
      "Back to the model!\n",
      "{'messages': [ToolMessage(content='AttributeError(\"\\'FieldInfo\\' object has no attribute \\'results\\'\")', name='tavily_search_results_json', id='5bd69ebb-388f-4207-b8ba-65cd01497d7d', tool_call_id='call_bz79'), ToolMessage(content='AttributeError(\"\\'FieldInfo\\' object has no attribute \\'results\\'\")', name='tavily_search_results_json', id='0181c0c6-d2f3-4262-b888-f917015c20a9', tool_call_id='call_zave')]}\n",
      "{'messages': [HumanMessage(content='Whats the weather in LA?', additional_kwargs={}, response_metadata={}, id='68808277-7b95-45c4-a320-ce1a96711e3b'), AIMessage(content='', additional_kwargs={'tool_calls': [{'id': 'call_bz79', 'function': {'arguments': '{\"query\": \"current weather in Los Angeles\"}', 'name': 'tavily_search_results_json'}, 'type': 'function'}, {'id': 'call_zave', 'function': {'arguments': '{\"query\": \"weather forecast for Los Angeles\"}', 'name': 'tavily_search_results_json'}, 'type': 'function'}]}, response_metadata={'token_usage': {'completion_tokens': 68, 'prompt_tokens': 292, 'total_tokens': 360, 'completion_time': 0.215203057, 'prompt_time': 0.022402605, 'queue_time': 0.010913512, 'total_time': 0.237605662}, 'model_name': 'llama3-groq-70b-8192-tool-use-preview', 'system_fingerprint': 'fp_ee4b521143', 'finish_reason': 'tool_calls', 'logprobs': None}, id='run-b48d16fa-9c4c-4ab3-af27-582782bfe120-0', tool_calls=[{'name': 'tavily_search_results_json', 'args': {'query': 'current weather in Los Angeles'}, 'id': 'call_bz79', 'type': 'tool_call'}, {'name': 'tavily_search_results_json', 'args': {'query': 'weather forecast for Los Angeles'}, 'id': 'call_zave', 'type': 'tool_call'}], usage_metadata={'input_tokens': 292, 'output_tokens': 68, 'total_tokens': 360}), ToolMessage(content='AttributeError(\"\\'FieldInfo\\' object has no attribute \\'results\\'\")', name='tavily_search_results_json', id='5bd69ebb-388f-4207-b8ba-65cd01497d7d', tool_call_id='call_bz79'), ToolMessage(content='AttributeError(\"\\'FieldInfo\\' object has no attribute \\'results\\'\")', name='tavily_search_results_json', id='0181c0c6-d2f3-4262-b888-f917015c20a9', tool_call_id='call_zave'), AIMessage(content=\"It seems like there's an issue with retrieving the weather information. I'm trying to find more details. Can you tell me what kind of weather information you're looking for? For example, are you interested in today's weather, the forecast for the next few days, or something else?\", additional_kwargs={}, response_metadata={'token_usage': {'completion_tokens': 59, 'prompt_tokens': 420, 'total_tokens': 479, 'completion_time': 0.185743155, 'prompt_time': 0.029039229, 'queue_time': 0.0043182880000000035, 'total_time': 0.214782384}, 'model_name': 'llama3-groq-70b-8192-tool-use-preview', 'system_fingerprint': 'fp_ee4b521143', 'finish_reason': 'stop', 'logprobs': None}, id='run-e39f745d-0f04-400d-a019-99f3ea94be12-0', usage_metadata={'input_tokens': 420, 'output_tokens': 59, 'total_tokens': 479})]}\n",
      "{'messages': [AIMessage(content=\"It seems like there's an issue with retrieving the weather information. I'm trying to find more details. Can you tell me what kind of weather information you're looking for? For example, are you interested in today's weather, the forecast for the next few days, or something else?\", additional_kwargs={}, response_metadata={'token_usage': {'completion_tokens': 59, 'prompt_tokens': 420, 'total_tokens': 479, 'completion_time': 0.185743155, 'prompt_time': 0.029039229, 'queue_time': 0.0043182880000000035, 'total_time': 0.214782384}, 'model_name': 'llama3-groq-70b-8192-tool-use-preview', 'system_fingerprint': 'fp_ee4b521143', 'finish_reason': 'stop', 'logprobs': None}, id='run-e39f745d-0f04-400d-a019-99f3ea94be12-0', usage_metadata={'input_tokens': 420, 'output_tokens': 59, 'total_tokens': 479})]}\n"
     ]
    }
   ],
   "source": [
    "for event in abot.graph.stream(None, to_replay.config):\n",
    "    for k, v in event.items():\n",
    "        print(v)"
   ]
  },
  {
   "cell_type": "markdown",
   "id": "005353dc-630b-4b40-ab19-56c57ac06611",
   "metadata": {},
   "source": [
    "## Go back in time and edit"
   ]
  },
  {
   "cell_type": "code",
   "execution_count": 48,
   "id": "0ad8a6cc-65d4-4ce7-87aa-4e67d7c23d7b",
   "metadata": {
    "height": 30
   },
   "outputs": [
    {
     "data": {
      "text/plain": [
       "StateSnapshot(values={'messages': [HumanMessage(content='Whats the weather in LA?', additional_kwargs={}, response_metadata={}, id='68808277-7b95-45c4-a320-ce1a96711e3b'), AIMessage(content='', additional_kwargs={'tool_calls': [{'id': 'call_bz79', 'function': {'arguments': '{\"query\": \"current weather in Los Angeles\"}', 'name': 'tavily_search_results_json'}, 'type': 'function'}, {'id': 'call_zave', 'function': {'arguments': '{\"query\": \"weather forecast for Los Angeles\"}', 'name': 'tavily_search_results_json'}, 'type': 'function'}]}, response_metadata={'token_usage': {'completion_tokens': 68, 'prompt_tokens': 292, 'total_tokens': 360, 'completion_time': 0.215203057, 'prompt_time': 0.022402605, 'queue_time': 0.010913512, 'total_time': 0.237605662}, 'model_name': 'llama3-groq-70b-8192-tool-use-preview', 'system_fingerprint': 'fp_ee4b521143', 'finish_reason': 'tool_calls', 'logprobs': None}, id='run-b48d16fa-9c4c-4ab3-af27-582782bfe120-0', tool_calls=[{'name': 'tavily_search_results_json', 'args': {'query': 'current weather in Los Angeles'}, 'id': 'call_bz79', 'type': 'tool_call'}, {'name': 'tavily_search_results_json', 'args': {'query': 'weather forecast for Los Angeles'}, 'id': 'call_zave', 'type': 'tool_call'}], usage_metadata={'input_tokens': 292, 'output_tokens': 68, 'total_tokens': 360})]}, next=('action',), config={'configurable': {'thread_id': '3', 'checkpoint_ns': '', 'checkpoint_id': '1ef89efa-f18c-6d10-8001-fa4824af1471'}}, metadata={'source': 'loop', 'writes': {'llm': {'messages': [AIMessage(content='', additional_kwargs={'tool_calls': [{'id': 'call_bz79', 'function': {'arguments': '{\"query\": \"current weather in Los Angeles\"}', 'name': 'tavily_search_results_json'}, 'type': 'function'}, {'id': 'call_zave', 'function': {'arguments': '{\"query\": \"weather forecast for Los Angeles\"}', 'name': 'tavily_search_results_json'}, 'type': 'function'}]}, response_metadata={'token_usage': {'completion_tokens': 68, 'prompt_tokens': 292, 'total_tokens': 360, 'completion_time': 0.215203057, 'prompt_time': 0.022402605, 'queue_time': 0.010913512, 'total_time': 0.237605662}, 'model_name': 'llama3-groq-70b-8192-tool-use-preview', 'system_fingerprint': 'fp_ee4b521143', 'finish_reason': 'tool_calls', 'logprobs': None}, id='run-b48d16fa-9c4c-4ab3-af27-582782bfe120-0', tool_calls=[{'name': 'tavily_search_results_json', 'args': {'query': 'current weather in Los Angeles'}, 'id': 'call_bz79', 'type': 'tool_call'}, {'name': 'tavily_search_results_json', 'args': {'query': 'weather forecast for Los Angeles'}, 'id': 'call_zave', 'type': 'tool_call'}], usage_metadata={'input_tokens': 292, 'output_tokens': 68, 'total_tokens': 360})]}}, 'step': 1, 'parents': {}}, created_at='2024-10-14T05:46:39.960171+00:00', parent_config={'configurable': {'thread_id': '3', 'checkpoint_ns': '', 'checkpoint_id': '1ef89efa-e967-671e-8000-5b5207838ed3'}}, tasks=(PregelTask(id='d3581b91-1b0d-8be5-929c-d6d5188ebf93', name='action', path=('__pregel_pull', 'action'), error=None, interrupts=(), state=None),))"
      ]
     },
     "execution_count": 48,
     "metadata": {},
     "output_type": "execute_result"
    }
   ],
   "source": [
    "to_replay"
   ]
  },
  {
   "cell_type": "code",
   "execution_count": 49,
   "id": "592b5e62-a203-433c-92a0-3783f490cde1",
   "metadata": {
    "height": 95
   },
   "outputs": [],
   "source": [
    "_id = to_replay.values['messages'][-1].tool_calls[0]['id']\n",
    "to_replay.values['messages'][-1].tool_calls = [{'name': 'tavily_search_results_json',\n",
    "  'args': {'query': 'current weather in LA, accuweather'},\n",
    "  'id': _id}]"
   ]
  },
  {
   "cell_type": "code",
   "execution_count": 50,
   "id": "14fa923c-7e4f-42d1-965f-0f8ccd50fbd7",
   "metadata": {
    "height": 44
   },
   "outputs": [
    {
     "name": "stdout",
     "output_type": "stream",
     "text": [
      "{'messages': [HumanMessage(content='Whats the weather in LA?', additional_kwargs={}, response_metadata={}, id='68808277-7b95-45c4-a320-ce1a96711e3b'), AIMessage(content='', additional_kwargs={'tool_calls': [{'id': 'call_bz79', 'function': {'arguments': '{\"query\": \"current weather in Los Angeles\"}', 'name': 'tavily_search_results_json'}, 'type': 'function'}, {'id': 'call_zave', 'function': {'arguments': '{\"query\": \"weather forecast for Los Angeles\"}', 'name': 'tavily_search_results_json'}, 'type': 'function'}]}, response_metadata={'token_usage': {'completion_tokens': 68, 'prompt_tokens': 292, 'total_tokens': 360, 'completion_time': 0.215203057, 'prompt_time': 0.022402605, 'queue_time': 0.010913512, 'total_time': 0.237605662}, 'model_name': 'llama3-groq-70b-8192-tool-use-preview', 'system_fingerprint': 'fp_ee4b521143', 'finish_reason': 'tool_calls', 'logprobs': None}, id='run-b48d16fa-9c4c-4ab3-af27-582782bfe120-0', tool_calls=[{'name': 'tavily_search_results_json', 'args': {'query': 'current weather in LA, accuweather'}, 'id': 'call_bz79'}], usage_metadata={'input_tokens': 292, 'output_tokens': 68, 'total_tokens': 360})]}\n"
     ]
    }
   ],
   "source": [
    "branch_state = abot.graph.update_state(to_replay.config, to_replay.values)"
   ]
  },
  {
   "cell_type": "code",
   "execution_count": 51,
   "id": "570c6245-2837-4ac5-983b-95f61f3ac10d",
   "metadata": {
    "height": 81
   },
   "outputs": [
    {
     "name": "stdout",
     "output_type": "stream",
     "text": [
      "Calling: {'name': 'tavily_search_results_json', 'args': {'query': 'current weather in LA, accuweather'}, 'id': 'call_bz79', 'type': 'tool_call'}\n",
      "Back to the model!\n",
      "{'messages': [ToolMessage(content='AttributeError(\"\\'FieldInfo\\' object has no attribute \\'results\\'\")', name='tavily_search_results_json', id='5481d04c-9838-410c-b517-8b82d88d152c', tool_call_id='call_bz79')]}\n",
      "{'messages': [HumanMessage(content='Whats the weather in LA?', additional_kwargs={}, response_metadata={}, id='68808277-7b95-45c4-a320-ce1a96711e3b'), AIMessage(content='', additional_kwargs={'tool_calls': [{'id': 'call_bz79', 'function': {'arguments': '{\"query\": \"current weather in Los Angeles\"}', 'name': 'tavily_search_results_json'}, 'type': 'function'}, {'id': 'call_zave', 'function': {'arguments': '{\"query\": \"weather forecast for Los Angeles\"}', 'name': 'tavily_search_results_json'}, 'type': 'function'}]}, response_metadata={'token_usage': {'completion_tokens': 68, 'prompt_tokens': 292, 'total_tokens': 360, 'completion_time': 0.215203057, 'prompt_time': 0.022402605, 'queue_time': 0.010913512, 'total_time': 0.237605662}, 'model_name': 'llama3-groq-70b-8192-tool-use-preview', 'system_fingerprint': 'fp_ee4b521143', 'finish_reason': 'tool_calls', 'logprobs': None}, id='run-b48d16fa-9c4c-4ab3-af27-582782bfe120-0', tool_calls=[{'name': 'tavily_search_results_json', 'args': {'query': 'current weather in LA, accuweather'}, 'id': 'call_bz79', 'type': 'tool_call'}], usage_metadata={'input_tokens': 292, 'output_tokens': 68, 'total_tokens': 360}), ToolMessage(content='AttributeError(\"\\'FieldInfo\\' object has no attribute \\'results\\'\")', name='tavily_search_results_json', id='5481d04c-9838-410c-b517-8b82d88d152c', tool_call_id='call_bz79'), AIMessage(content='It seems like there was an error in retrieving the weather information for LA. Let me try a different search query to get the most accurate and up-to-date information.', additional_kwargs={}, response_metadata={'token_usage': {'completion_tokens': 34, 'prompt_tokens': 364, 'total_tokens': 398, 'completion_time': 0.105844675, 'prompt_time': 0.026053354, 'queue_time': 0.007305121999999997, 'total_time': 0.131898029}, 'model_name': 'llama3-groq-70b-8192-tool-use-preview', 'system_fingerprint': 'fp_ee4b521143', 'finish_reason': 'stop', 'logprobs': None}, id='run-088427a8-5757-4277-bc22-f97bf04cefac-0', usage_metadata={'input_tokens': 364, 'output_tokens': 34, 'total_tokens': 398})]}\n",
      "{'messages': [AIMessage(content='It seems like there was an error in retrieving the weather information for LA. Let me try a different search query to get the most accurate and up-to-date information.', additional_kwargs={}, response_metadata={'token_usage': {'completion_tokens': 34, 'prompt_tokens': 364, 'total_tokens': 398, 'completion_time': 0.105844675, 'prompt_time': 0.026053354, 'queue_time': 0.007305121999999997, 'total_time': 0.131898029}, 'model_name': 'llama3-groq-70b-8192-tool-use-preview', 'system_fingerprint': 'fp_ee4b521143', 'finish_reason': 'stop', 'logprobs': None}, id='run-088427a8-5757-4277-bc22-f97bf04cefac-0', usage_metadata={'input_tokens': 364, 'output_tokens': 34, 'total_tokens': 398})]}\n"
     ]
    }
   ],
   "source": [
    "for event in abot.graph.stream(None, branch_state):\n",
    "    for k, v in event.items():\n",
    "        if k != \"__end__\":\n",
    "            print(v)"
   ]
  },
  {
   "cell_type": "markdown",
   "id": "f1016ce7-368d-4922-9044-fcdfd47c273b",
   "metadata": {},
   "source": [
    "## Add message to a state at a given time"
   ]
  },
  {
   "cell_type": "code",
   "execution_count": 52,
   "id": "6b910915-b087-4d35-afff-0ec30a5852f1",
   "metadata": {
    "height": 30
   },
   "outputs": [
    {
     "data": {
      "text/plain": [
       "StateSnapshot(values={'messages': [HumanMessage(content='Whats the weather in LA?', additional_kwargs={}, response_metadata={}, id='68808277-7b95-45c4-a320-ce1a96711e3b'), AIMessage(content='', additional_kwargs={'tool_calls': [{'id': 'call_bz79', 'function': {'arguments': '{\"query\": \"current weather in Los Angeles\"}', 'name': 'tavily_search_results_json'}, 'type': 'function'}, {'id': 'call_zave', 'function': {'arguments': '{\"query\": \"weather forecast for Los Angeles\"}', 'name': 'tavily_search_results_json'}, 'type': 'function'}]}, response_metadata={'token_usage': {'completion_tokens': 68, 'prompt_tokens': 292, 'total_tokens': 360, 'completion_time': 0.215203057, 'prompt_time': 0.022402605, 'queue_time': 0.010913512, 'total_time': 0.237605662}, 'model_name': 'llama3-groq-70b-8192-tool-use-preview', 'system_fingerprint': 'fp_ee4b521143', 'finish_reason': 'tool_calls', 'logprobs': None}, id='run-b48d16fa-9c4c-4ab3-af27-582782bfe120-0', tool_calls=[{'name': 'tavily_search_results_json', 'args': {'query': 'current weather in LA, accuweather'}, 'id': 'call_bz79'}], usage_metadata={'input_tokens': 292, 'output_tokens': 68, 'total_tokens': 360})]}, next=('action',), config={'configurable': {'thread_id': '3', 'checkpoint_ns': '', 'checkpoint_id': '1ef89efa-f18c-6d10-8001-fa4824af1471'}}, metadata={'source': 'loop', 'writes': {'llm': {'messages': [AIMessage(content='', additional_kwargs={'tool_calls': [{'id': 'call_bz79', 'function': {'arguments': '{\"query\": \"current weather in Los Angeles\"}', 'name': 'tavily_search_results_json'}, 'type': 'function'}, {'id': 'call_zave', 'function': {'arguments': '{\"query\": \"weather forecast for Los Angeles\"}', 'name': 'tavily_search_results_json'}, 'type': 'function'}]}, response_metadata={'token_usage': {'completion_tokens': 68, 'prompt_tokens': 292, 'total_tokens': 360, 'completion_time': 0.215203057, 'prompt_time': 0.022402605, 'queue_time': 0.010913512, 'total_time': 0.237605662}, 'model_name': 'llama3-groq-70b-8192-tool-use-preview', 'system_fingerprint': 'fp_ee4b521143', 'finish_reason': 'tool_calls', 'logprobs': None}, id='run-b48d16fa-9c4c-4ab3-af27-582782bfe120-0', tool_calls=[{'name': 'tavily_search_results_json', 'args': {'query': 'current weather in Los Angeles'}, 'id': 'call_bz79', 'type': 'tool_call'}, {'name': 'tavily_search_results_json', 'args': {'query': 'weather forecast for Los Angeles'}, 'id': 'call_zave', 'type': 'tool_call'}], usage_metadata={'input_tokens': 292, 'output_tokens': 68, 'total_tokens': 360})]}}, 'step': 1, 'parents': {}}, created_at='2024-10-14T05:46:39.960171+00:00', parent_config={'configurable': {'thread_id': '3', 'checkpoint_ns': '', 'checkpoint_id': '1ef89efa-e967-671e-8000-5b5207838ed3'}}, tasks=(PregelTask(id='d3581b91-1b0d-8be5-929c-d6d5188ebf93', name='action', path=('__pregel_pull', 'action'), error=None, interrupts=(), state=None),))"
      ]
     },
     "execution_count": 52,
     "metadata": {},
     "output_type": "execute_result"
    }
   ],
   "source": [
    "to_replay"
   ]
  },
  {
   "cell_type": "code",
   "execution_count": 53,
   "id": "c4feb6cc-5129-4a99-bb45-851bc07b5709",
   "metadata": {
    "height": 44
   },
   "outputs": [],
   "source": [
    "_id = to_replay.values['messages'][-1].tool_calls[0]['id']"
   ]
  },
  {
   "cell_type": "code",
   "execution_count": 54,
   "id": "e85a02b4-96cc-4b01-8792-397a774eb499",
   "metadata": {
    "height": 98
   },
   "outputs": [],
   "source": [
    "state_update = {\"messages\": [ToolMessage(\n",
    "    tool_call_id=_id,\n",
    "    name=\"tavily_search_results_json\",\n",
    "    content=\"54 degree celcius\",\n",
    ")]}"
   ]
  },
  {
   "cell_type": "code",
   "execution_count": 55,
   "id": "ae8b86a6-5e20-4252-b1d8-009b8318345a",
   "metadata": {
    "height": 81
   },
   "outputs": [],
   "source": [
    "branch_and_add = abot.graph.update_state(\n",
    "    to_replay.config, \n",
    "    state_update, \n",
    "    as_node=\"action\")"
   ]
  },
  {
   "cell_type": "code",
   "execution_count": 56,
   "id": "af925917-b746-48c9-ac74-62fefbe5246c",
   "metadata": {
    "height": 64
   },
   "outputs": [
    {
     "name": "stdout",
     "output_type": "stream",
     "text": [
      "{'messages': [HumanMessage(content='Whats the weather in LA?', additional_kwargs={}, response_metadata={}, id='68808277-7b95-45c4-a320-ce1a96711e3b'), AIMessage(content='', additional_kwargs={'tool_calls': [{'id': 'call_bz79', 'function': {'arguments': '{\"query\": \"current weather in Los Angeles\"}', 'name': 'tavily_search_results_json'}, 'type': 'function'}, {'id': 'call_zave', 'function': {'arguments': '{\"query\": \"weather forecast for Los Angeles\"}', 'name': 'tavily_search_results_json'}, 'type': 'function'}]}, response_metadata={'token_usage': {'completion_tokens': 68, 'prompt_tokens': 292, 'total_tokens': 360, 'completion_time': 0.215203057, 'prompt_time': 0.022402605, 'queue_time': 0.010913512, 'total_time': 0.237605662}, 'model_name': 'llama3-groq-70b-8192-tool-use-preview', 'system_fingerprint': 'fp_ee4b521143', 'finish_reason': 'tool_calls', 'logprobs': None}, id='run-b48d16fa-9c4c-4ab3-af27-582782bfe120-0', tool_calls=[{'name': 'tavily_search_results_json', 'args': {'query': 'current weather in Los Angeles'}, 'id': 'call_bz79', 'type': 'tool_call'}, {'name': 'tavily_search_results_json', 'args': {'query': 'weather forecast for Los Angeles'}, 'id': 'call_zave', 'type': 'tool_call'}], usage_metadata={'input_tokens': 292, 'output_tokens': 68, 'total_tokens': 360}), ToolMessage(content='54 degree celcius', name='tavily_search_results_json', id='bca3246e-3bce-4a8b-9460-e5fae8add397', tool_call_id='call_bz79'), AIMessage(content='The current weather in Los Angeles is 54 degrees Celsius. Would you like to know the weather forecast for the next few days as well?', additional_kwargs={}, response_metadata={'token_usage': {'completion_tokens': 29, 'prompt_tokens': 377, 'total_tokens': 406, 'completion_time': 0.089759039, 'prompt_time': 0.026434734, 'queue_time': 0.006892383000000002, 'total_time': 0.116193773}, 'model_name': 'llama3-groq-70b-8192-tool-use-preview', 'system_fingerprint': 'fp_ee4b521143', 'finish_reason': 'stop', 'logprobs': None}, id='run-5fa7d039-195c-4735-a988-c0ae6aa6a40b-0', usage_metadata={'input_tokens': 377, 'output_tokens': 29, 'total_tokens': 406})]}\n",
      "{'messages': [AIMessage(content='The current weather in Los Angeles is 54 degrees Celsius. Would you like to know the weather forecast for the next few days as well?', additional_kwargs={}, response_metadata={'token_usage': {'completion_tokens': 29, 'prompt_tokens': 377, 'total_tokens': 406, 'completion_time': 0.089759039, 'prompt_time': 0.026434734, 'queue_time': 0.006892383000000002, 'total_time': 0.116193773}, 'model_name': 'llama3-groq-70b-8192-tool-use-preview', 'system_fingerprint': 'fp_ee4b521143', 'finish_reason': 'stop', 'logprobs': None}, id='run-5fa7d039-195c-4735-a988-c0ae6aa6a40b-0', usage_metadata={'input_tokens': 377, 'output_tokens': 29, 'total_tokens': 406})]}\n"
     ]
    }
   ],
   "source": [
    "for event in abot.graph.stream(None, branch_and_add):\n",
    "    for k, v in event.items():\n",
    "        print(v)"
   ]
  },
  {
   "cell_type": "markdown",
   "id": "a6b1de51-f1dd-4719-89e6-01c21d2b304e",
   "metadata": {},
   "source": [
    "# Extra Practice"
   ]
  },
  {
   "cell_type": "markdown",
   "id": "31e06033-59fd-4d6b-8891-fb8bc2d7a037",
   "metadata": {},
   "source": [
    "## Build a small graph\n",
    "This is a small simple graph you can tinker with if you want more insight into controlling state memory."
   ]
  },
  {
   "cell_type": "code",
   "execution_count": 57,
   "id": "7614683e-1c13-4518-b464-263fb91be761",
   "metadata": {
    "height": 64
   },
   "outputs": [],
   "source": [
    "from dotenv import load_dotenv\n",
    "\n",
    "_ = load_dotenv()"
   ]
  },
  {
   "cell_type": "code",
   "execution_count": 58,
   "id": "efbef86a-75fe-416f-99ab-70b181d934dc",
   "metadata": {
    "height": 81
   },
   "outputs": [],
   "source": [
    "from langgraph.graph import StateGraph, END\n",
    "from typing import TypedDict, Annotated\n",
    "import operator\n",
    "from langgraph.checkpoint.sqlite import SqliteSaver"
   ]
  },
  {
   "cell_type": "markdown",
   "id": "67c972f7-5a14-49da-9d82-37105a6637ed",
   "metadata": {},
   "source": [
    "Define a simple 2 node graph with the following state:\n",
    "-`lnode`: last node\n",
    "-`scratch`: a scratchpad location\n",
    "-`count` : a counter that is incremented each step"
   ]
  },
  {
   "cell_type": "code",
   "execution_count": 59,
   "id": "b846f637-5e98-4a7d-9ca0-5144302b7cef",
   "metadata": {
    "height": 81
   },
   "outputs": [],
   "source": [
    "class AgentState(TypedDict):\n",
    "    lnode: str\n",
    "    scratch: str\n",
    "    count: Annotated[int, operator.add]"
   ]
  },
  {
   "cell_type": "code",
   "execution_count": 60,
   "id": "b8bb1c6d-41b7-4f5b-807b-ecbdec82d8d6",
   "metadata": {
    "height": 183
   },
   "outputs": [],
   "source": [
    "def node1(state: AgentState):\n",
    "    print(f\"node1, count:{state['count']}\")\n",
    "    return {\"lnode\": \"node_1\",\n",
    "            \"count\": 1,\n",
    "           }\n",
    "def node2(state: AgentState):\n",
    "    print(f\"node2, count:{state['count']}\")\n",
    "    return {\"lnode\": \"node_2\",\n",
    "            \"count\": 1,\n",
    "           }"
   ]
  },
  {
   "cell_type": "markdown",
   "id": "6adc403b-10d2-4a6c-bd21-c84bb8e0c8fc",
   "metadata": {},
   "source": [
    "The graph goes N1->N2->N1... but breaks after count reaches 3."
   ]
  },
  {
   "cell_type": "code",
   "execution_count": 61,
   "id": "b2c6d249-4793-41c5-8e80-40f1eedc4baf",
   "metadata": {
    "height": 47
   },
   "outputs": [],
   "source": [
    "def should_continue(state):\n",
    "    return state[\"count\"] < 3"
   ]
  },
  {
   "cell_type": "code",
   "execution_count": 62,
   "id": "4e3721d9-4508-48fa-9be0-93af20144072",
   "metadata": {
    "height": 180
   },
   "outputs": [
    {
     "data": {
      "text/plain": [
       "<langgraph.graph.state.StateGraph at 0x7f505d75bcd0>"
      ]
     },
     "execution_count": 62,
     "metadata": {},
     "output_type": "execute_result"
    }
   ],
   "source": [
    "builder = StateGraph(AgentState)\n",
    "builder.add_node(\"Node1\", node1)\n",
    "builder.add_node(\"Node2\", node2)\n",
    "\n",
    "builder.add_edge(\"Node1\", \"Node2\")\n",
    "builder.add_conditional_edges(\"Node2\", \n",
    "                              should_continue, \n",
    "                              {True: \"Node1\", False: END})\n",
    "builder.set_entry_point(\"Node1\")"
   ]
  },
  {
   "cell_type": "code",
   "execution_count": 63,
   "id": "8d35d70c-daeb-49c1-9b7c-90cc2a7ca142",
   "metadata": {
    "height": 47
   },
   "outputs": [],
   "source": [
    "memory = SqliteSaver(conn)\n",
    "#memory = SqliteSaver.from_conn_string(\":memory:\")\n",
    "graph = builder.compile(checkpointer=memory)"
   ]
  },
  {
   "cell_type": "markdown",
   "id": "c57051f5-f7fb-4be5-a2f5-21cb1aa4fecb",
   "metadata": {},
   "source": [
    "### Run it!\n",
    "Now, set the thread and run!"
   ]
  },
  {
   "cell_type": "code",
   "execution_count": 64,
   "id": "edba3a1a-84a7-45eb-a6ee-74a612b68d54",
   "metadata": {
    "height": 47
   },
   "outputs": [
    {
     "name": "stdout",
     "output_type": "stream",
     "text": [
      "node1, count:0\n",
      "node2, count:1\n",
      "node1, count:2\n",
      "node2, count:3\n"
     ]
    },
    {
     "data": {
      "text/plain": [
       "{'lnode': 'node_2', 'scratch': 'hi', 'count': 4}"
      ]
     },
     "execution_count": 64,
     "metadata": {},
     "output_type": "execute_result"
    }
   ],
   "source": [
    "thread = {\"configurable\": {\"thread_id\": str(1)}}\n",
    "graph.invoke({\"count\":0, \"scratch\":\"hi\"},thread)"
   ]
  },
  {
   "cell_type": "markdown",
   "id": "2ce7b035-bfdb-4642-8750-47d188277423",
   "metadata": {},
   "source": [
    "### Look at current state"
   ]
  },
  {
   "cell_type": "markdown",
   "id": "43324904-a6f4-4299-86de-e0218e4cb225",
   "metadata": {},
   "source": [
    "Get the current state. Note the `values` which are the AgentState. Note the `config` and the `thread_ts`. You will be using those to refer to snapshots below."
   ]
  },
  {
   "cell_type": "code",
   "execution_count": 65,
   "id": "f2513b41-31b2-46e6-84f6-0c519f697973",
   "metadata": {
    "height": 30
   },
   "outputs": [
    {
     "data": {
      "text/plain": [
       "StateSnapshot(values={'lnode': 'node_2', 'scratch': 'hi', 'count': 4}, next=(), config={'configurable': {'thread_id': '1', 'checkpoint_ns': '', 'checkpoint_id': '1ef89f02-bb8f-6680-8020-81d1c689cddc'}}, metadata={'source': 'loop', 'writes': {'Node2': {'lnode': 'node_2', 'count': 1}}, 'step': 32, 'parents': {}}, created_at='2024-10-14T05:50:09.047294+00:00', parent_config={'configurable': {'thread_id': '1', 'checkpoint_ns': '', 'checkpoint_id': '1ef89f02-bb8e-65ab-801f-44d3eb324004'}}, tasks=())"
      ]
     },
     "execution_count": 65,
     "metadata": {},
     "output_type": "execute_result"
    }
   ],
   "source": [
    "graph.get_state(thread)"
   ]
  },
  {
   "cell_type": "markdown",
   "id": "7f7be4ae-24f0-4362-bd99-55ad38fe0112",
   "metadata": {},
   "source": [
    "View all the statesnapshots in memory. You can use the displayed `count` agentstate variable to help track what you see. Notice the most recent snapshots are returned by the iterator first. Also note that there is a handy `step` variable in the metadata that counts the number of steps in the graph execution. This is a bit detailed - but you can also notice that the *parent_config* is the *config* of the previous node. At initial startup, additional states are inserted into memory to create a parent. This is something to check when you branch or *time travel* below."
   ]
  },
  {
   "cell_type": "markdown",
   "id": "18647be0-c7c6-4ec5-9454-54a034fcd053",
   "metadata": {},
   "source": [
    "### Look at state history"
   ]
  },
  {
   "cell_type": "code",
   "execution_count": 66,
   "id": "686fa197-c97f-4ae6-82d2-938bbe5542c1",
   "metadata": {
    "height": 47
   },
   "outputs": [
    {
     "name": "stdout",
     "output_type": "stream",
     "text": [
      "StateSnapshot(values={'lnode': 'node_2', 'scratch': 'hi', 'count': 4}, next=(), config={'configurable': {'thread_id': '1', 'checkpoint_ns': '', 'checkpoint_id': '1ef89f02-bb8f-6680-8020-81d1c689cddc'}}, metadata={'source': 'loop', 'writes': {'Node2': {'lnode': 'node_2', 'count': 1}}, 'step': 32, 'parents': {}}, created_at='2024-10-14T05:50:09.047294+00:00', parent_config={'configurable': {'thread_id': '1', 'checkpoint_ns': '', 'checkpoint_id': '1ef89f02-bb8e-65ab-801f-44d3eb324004'}}, tasks=()) \n",
      "\n",
      "StateSnapshot(values={'lnode': 'node_1', 'scratch': 'hi', 'count': 3}, next=('Node2',), config={'configurable': {'thread_id': '1', 'checkpoint_ns': '', 'checkpoint_id': '1ef89f02-bb8e-65ab-801f-44d3eb324004'}}, metadata={'source': 'loop', 'writes': {'Node1': {'lnode': 'node_1', 'count': 1}}, 'step': 31, 'parents': {}}, created_at='2024-10-14T05:50:09.046864+00:00', parent_config={'configurable': {'thread_id': '1', 'checkpoint_ns': '', 'checkpoint_id': '1ef89f02-bb8d-6794-801e-dac773a39fea'}}, tasks=(PregelTask(id='5ccc4b5e-441b-dfed-6748-0a1d16fa63cf', name='Node2', path=('__pregel_pull', 'Node2'), error=None, interrupts=(), state=None),)) \n",
      "\n",
      "StateSnapshot(values={'lnode': 'node_2', 'scratch': 'hi', 'count': 2}, next=('Node1',), config={'configurable': {'thread_id': '1', 'checkpoint_ns': '', 'checkpoint_id': '1ef89f02-bb8d-6794-801e-dac773a39fea'}}, metadata={'source': 'loop', 'writes': {'Node2': {'lnode': 'node_2', 'count': 1}}, 'step': 30, 'parents': {}}, created_at='2024-10-14T05:50:09.046503+00:00', parent_config={'configurable': {'thread_id': '1', 'checkpoint_ns': '', 'checkpoint_id': '1ef89f02-bb8c-63ff-801d-1b626f5b3b7b'}}, tasks=(PregelTask(id='92ff4365-8121-f5ad-0407-9272eb92a57e', name='Node1', path=('__pregel_pull', 'Node1'), error=None, interrupts=(), state=None),)) \n",
      "\n",
      "StateSnapshot(values={'lnode': 'node_1', 'scratch': 'hi', 'count': 1}, next=('Node2',), config={'configurable': {'thread_id': '1', 'checkpoint_ns': '', 'checkpoint_id': '1ef89f02-bb8c-63ff-801d-1b626f5b3b7b'}}, metadata={'source': 'loop', 'writes': {'Node1': {'lnode': 'node_1', 'count': 1}}, 'step': 29, 'parents': {}}, created_at='2024-10-14T05:50:09.046000+00:00', parent_config={'configurable': {'thread_id': '1', 'checkpoint_ns': '', 'checkpoint_id': '1ef89f02-bb8a-6fa3-801c-88730679a41e'}}, tasks=(PregelTask(id='16ea4f41-59a6-fc83-17db-8ba175e97d63', name='Node2', path=('__pregel_pull', 'Node2'), error=None, interrupts=(), state=None),)) \n",
      "\n",
      "StateSnapshot(values={'scratch': 'hi', 'count': 0}, next=('Node1',), config={'configurable': {'thread_id': '1', 'checkpoint_ns': '', 'checkpoint_id': '1ef89f02-bb8a-6fa3-801c-88730679a41e'}}, metadata={'source': 'loop', 'writes': None, 'step': 28, 'parents': {}}, created_at='2024-10-14T05:50:09.045480+00:00', parent_config={'configurable': {'thread_id': '1', 'checkpoint_ns': '', 'checkpoint_id': '1ef89f02-bb89-6cea-801b-d130e44a6c61'}}, tasks=(PregelTask(id='3db039fa-5688-5b3b-b4c7-91b10bb99aac', name='Node1', path=('__pregel_pull', 'Node1'), error=None, interrupts=(), state=None),)) \n",
      "\n",
      "StateSnapshot(values={'count': 0}, next=('__start__',), config={'configurable': {'thread_id': '1', 'checkpoint_ns': '', 'checkpoint_id': '1ef89f02-bb89-6cea-801b-d130e44a6c61'}}, metadata={'source': 'input', 'writes': {'__start__': {'count': 0, 'scratch': 'hi'}}, 'step': 27, 'parents': {}}, created_at='2024-10-14T05:50:09.044994+00:00', parent_config={'configurable': {'thread_id': '1', 'checkpoint_ns': '', 'checkpoint_id': '1ef89f01-a58f-693b-801a-adb3d4903359'}}, tasks=(PregelTask(id='cb289e09-2704-b160-e59c-b6a1c7333048', name='__start__', path=('__pregel_pull', '__start__'), error=None, interrupts=(), state=None),)) \n",
      "\n",
      "StateSnapshot(values={'count': 0}, next=(), config={'configurable': {'thread_id': '1', 'checkpoint_ns': '', 'checkpoint_id': '1ef89f01-a58f-693b-801a-adb3d4903359'}}, metadata={'source': 'loop', 'writes': {'llm': {'messages': [AIMessage(content=\"I'm sorry but I do not have the capability to perform this task for you, I am happy to help you with any other queries you may have.\", additional_kwargs={}, response_metadata={'token_usage': {'completion_tokens': 32, 'prompt_tokens': 339, 'total_tokens': 371, 'completion_time': 0.099096831, 'prompt_time': 0.024917757, 'queue_time': 0.008230330000000001, 'total_time': 0.124014588}, 'model_name': 'llama3-groq-70b-8192-tool-use-preview', 'system_fingerprint': 'fp_ee4b521143', 'finish_reason': 'stop', 'logprobs': None}, id='run-80a7268f-13d7-40a7-bf5f-3799b94cf41f-0', usage_metadata={'input_tokens': 339, 'output_tokens': 32, 'total_tokens': 371})]}}, 'step': 26, 'parents': {}}, created_at='2024-10-14T05:49:39.896949+00:00', parent_config={'configurable': {'thread_id': '1', 'checkpoint_ns': '', 'checkpoint_id': '1ef89f01-9e4d-6aed-8019-3c4a47dc5a3b'}}, tasks=()) \n",
      "\n",
      "StateSnapshot(values={'count': 0}, next=(), config={'configurable': {'thread_id': '1', 'checkpoint_ns': '', 'checkpoint_id': '1ef89f01-9e4d-6aed-8019-3c4a47dc5a3b'}}, metadata={'source': 'loop', 'writes': None, 'step': 25, 'parents': {}}, created_at='2024-10-14T05:49:39.135923+00:00', parent_config={'configurable': {'thread_id': '1', 'checkpoint_ns': '', 'checkpoint_id': '1ef89f01-9e49-6343-8018-e3ecd8a1816a'}}, tasks=()) \n",
      "\n",
      "StateSnapshot(values={'count': 0}, next=('__start__',), config={'configurable': {'thread_id': '1', 'checkpoint_ns': '', 'checkpoint_id': '1ef89f01-9e49-6343-8018-e3ecd8a1816a'}}, metadata={'source': 'input', 'writes': {'__start__': {'messages': [HumanMessage(content='Whats the weather in SF?', additional_kwargs={}, response_metadata={})]}}, 'step': 24, 'parents': {}}, created_at='2024-10-14T05:49:39.134079+00:00', parent_config={'configurable': {'thread_id': '1', 'checkpoint_ns': '', 'checkpoint_id': '1ef89efe-c4bc-6844-8017-461f620dfe48'}}, tasks=(PregelTask(id='7de2e170-e57c-f919-5064-bc830fbd3a36', name='__start__', path=('__pregel_pull', '__start__'), error=None, interrupts=(), state=None),)) \n",
      "\n",
      "StateSnapshot(values={'count': 0}, next=(), config={'configurable': {'thread_id': '1', 'checkpoint_ns': '', 'checkpoint_id': '1ef89efe-c4bc-6844-8017-461f620dfe48'}}, metadata={'source': 'loop', 'writes': {'llm': {'messages': [AIMessage(content=\"I'm sorry but I do not have the capability to perform this task for you, I am happy to help you with any other queries you may have.\", additional_kwargs={}, response_metadata={'token_usage': {'completion_tokens': 32, 'prompt_tokens': 292, 'total_tokens': 324, 'completion_time': 0.099142184, 'prompt_time': 0.020916217, 'queue_time': 0.012551819999999998, 'total_time': 0.120058401}, 'model_name': 'llama3-groq-70b-8192-tool-use-preview', 'system_fingerprint': 'fp_ee4b521143', 'finish_reason': 'stop', 'logprobs': None}, id='run-9591457b-c5a4-440b-b8bc-114b67978cf2-0', usage_metadata={'input_tokens': 292, 'output_tokens': 32, 'total_tokens': 324})]}}, 'step': 23, 'parents': {}}, created_at='2024-10-14T05:48:22.635275+00:00', parent_config={'configurable': {'thread_id': '1', 'checkpoint_ns': '', 'checkpoint_id': '1ef89efe-bd0e-6224-8016-e4aaf6baa41d'}}, tasks=()) \n",
      "\n",
      "StateSnapshot(values={'count': 0}, next=(), config={'configurable': {'thread_id': '1', 'checkpoint_ns': '', 'checkpoint_id': '1ef89efe-bd0e-6224-8016-e4aaf6baa41d'}}, metadata={'source': 'loop', 'writes': None, 'step': 22, 'parents': {}}, created_at='2024-10-14T05:48:21.829872+00:00', parent_config={'configurable': {'thread_id': '1', 'checkpoint_ns': '', 'checkpoint_id': '1ef89efe-bd0b-6053-8015-c56ebbe0e90b'}}, tasks=()) \n",
      "\n",
      "StateSnapshot(values={'count': 0}, next=('__start__',), config={'configurable': {'thread_id': '1', 'checkpoint_ns': '', 'checkpoint_id': '1ef89efe-bd0b-6053-8015-c56ebbe0e90b'}}, metadata={'source': 'input', 'writes': {'__start__': {'messages': [HumanMessage(content='Whats the weather in SF?', additional_kwargs={}, response_metadata={})]}}, 'step': 21, 'parents': {}}, created_at='2024-10-14T05:48:21.828591+00:00', parent_config={'configurable': {'thread_id': '1', 'checkpoint_ns': '', 'checkpoint_id': '1ef89efc-58b1-633b-8014-f5d18ae25c18'}}, tasks=(PregelTask(id='eb52cb81-0804-56b3-295b-7edb300dd2af', name='__start__', path=('__pregel_pull', '__start__'), error=None, interrupts=(), state=None),)) \n",
      "\n",
      "StateSnapshot(values={'lnode': 'node_2', 'scratch': 'hi', 'count': 4}, next=(), config={'configurable': {'thread_id': '1', 'checkpoint_ns': '', 'checkpoint_id': '1ef89efc-58b1-633b-8014-f5d18ae25c18'}}, metadata={'source': 'loop', 'writes': {'Node2': {'lnode': 'node_2', 'count': 1}}, 'step': 20, 'parents': {}}, created_at='2024-10-14T05:47:17.618962+00:00', parent_config={'configurable': {'thread_id': '1', 'checkpoint_ns': '', 'checkpoint_id': '1ef89efc-58af-6ee0-8013-49628ef2d487'}}, tasks=()) \n",
      "\n",
      "StateSnapshot(values={'lnode': 'node_1', 'scratch': 'hi', 'count': 3}, next=('Node2',), config={'configurable': {'thread_id': '1', 'checkpoint_ns': '', 'checkpoint_id': '1ef89efc-58af-6ee0-8013-49628ef2d487'}}, metadata={'source': 'loop', 'writes': {'Node1': {'lnode': 'node_1', 'count': 1}}, 'step': 19, 'parents': {}}, created_at='2024-10-14T05:47:17.618441+00:00', parent_config={'configurable': {'thread_id': '1', 'checkpoint_ns': '', 'checkpoint_id': '1ef89efc-58ae-6dc1-8012-47deeb01d32b'}}, tasks=(PregelTask(id='76291587-7d5e-2a40-c366-63ba620ac274', name='Node2', path=('__pregel_pull', 'Node2'), error=None, interrupts=(), state=None),)) \n",
      "\n",
      "StateSnapshot(values={'lnode': 'node_2', 'scratch': 'hi', 'count': 2}, next=('Node1',), config={'configurable': {'thread_id': '1', 'checkpoint_ns': '', 'checkpoint_id': '1ef89efc-58ae-6dc1-8012-47deeb01d32b'}}, metadata={'source': 'loop', 'writes': {'Node2': {'lnode': 'node_2', 'count': 1}}, 'step': 18, 'parents': {}}, created_at='2024-10-14T05:47:17.618003+00:00', parent_config={'configurable': {'thread_id': '1', 'checkpoint_ns': '', 'checkpoint_id': '1ef89efc-58ad-6a0c-8011-734e56460d8a'}}, tasks=(PregelTask(id='6f9bdd47-2574-4fc5-ace0-068baeaf0c3e', name='Node1', path=('__pregel_pull', 'Node1'), error=None, interrupts=(), state=None),)) \n",
      "\n",
      "StateSnapshot(values={'lnode': 'node_1', 'scratch': 'hi', 'count': 1}, next=('Node2',), config={'configurable': {'thread_id': '1', 'checkpoint_ns': '', 'checkpoint_id': '1ef89efc-58ad-6a0c-8011-734e56460d8a'}}, metadata={'source': 'loop', 'writes': {'Node1': {'lnode': 'node_1', 'count': 1}}, 'step': 17, 'parents': {}}, created_at='2024-10-14T05:47:17.617498+00:00', parent_config={'configurable': {'thread_id': '1', 'checkpoint_ns': '', 'checkpoint_id': '1ef89efc-58ac-6090-8010-ab8f94f011e6'}}, tasks=(PregelTask(id='897daabe-b176-9f55-2015-e105046633f9', name='Node2', path=('__pregel_pull', 'Node2'), error=None, interrupts=(), state=None),)) \n",
      "\n",
      "StateSnapshot(values={'scratch': 'hi', 'count': 0}, next=('Node1',), config={'configurable': {'thread_id': '1', 'checkpoint_ns': '', 'checkpoint_id': '1ef89efc-58ac-6090-8010-ab8f94f011e6'}}, metadata={'source': 'loop', 'writes': None, 'step': 16, 'parents': {}}, created_at='2024-10-14T05:47:17.616847+00:00', parent_config={'configurable': {'thread_id': '1', 'checkpoint_ns': '', 'checkpoint_id': '1ef89efc-58a8-6b9a-800f-b2a59332afa6'}}, tasks=(PregelTask(id='402e2e5f-a1ff-0791-7230-86496846adbb', name='Node1', path=('__pregel_pull', 'Node1'), error=None, interrupts=(), state=None),)) \n",
      "\n",
      "StateSnapshot(values={'count': 0}, next=('__start__',), config={'configurable': {'thread_id': '1', 'checkpoint_ns': '', 'checkpoint_id': '1ef89efc-58a8-6b9a-800f-b2a59332afa6'}}, metadata={'source': 'input', 'writes': {'__start__': {'count': 0, 'scratch': 'hi'}}, 'step': 15, 'parents': {}}, created_at='2024-10-14T05:47:17.615492+00:00', parent_config={'configurable': {'thread_id': '1', 'checkpoint_ns': '', 'checkpoint_id': '1ef89efa-6974-68ab-800e-edb83a7b39a3'}}, tasks=(PregelTask(id='a6ccc836-6c2b-99f2-5a0a-1767393d9a12', name='__start__', path=('__pregel_pull', '__start__'), error=None, interrupts=(), state=None),)) \n",
      "\n",
      "StateSnapshot(values={'count': 0}, next=(), config={'configurable': {'thread_id': '1', 'checkpoint_ns': '', 'checkpoint_id': '1ef89efa-6974-68ab-800e-edb83a7b39a3'}}, metadata={'source': 'loop', 'writes': {'llm': {'messages': [AIMessage(content=\"I'm sorry, but I'm still encountering the same error with the search engine. I'll need to find another way to get the weather information for San Francisco.\", additional_kwargs={}, response_metadata={'token_usage': {'completion_tokens': 34, 'prompt_tokens': 583, 'total_tokens': 617, 'completion_time': 0.105952208, 'prompt_time': 0.038595742, 'queue_time': 0.0010302539999999943, 'total_time': 0.14454795}, 'model_name': 'llama3-groq-70b-8192-tool-use-preview', 'system_fingerprint': 'fp_ee4b521143', 'finish_reason': 'stop', 'logprobs': None}, id='run-f9c04b6a-9e3e-48de-9bd2-b132c3116c6d-0', usage_metadata={'input_tokens': 583, 'output_tokens': 34, 'total_tokens': 617})]}}, 'step': 14, 'parents': {}}, created_at='2024-10-14T05:46:25.689571+00:00', parent_config={'configurable': {'thread_id': '1', 'checkpoint_ns': '', 'checkpoint_id': '1ef89efa-6142-6c6c-800d-12ae05440434'}}, tasks=()) \n",
      "\n",
      "StateSnapshot(values={'count': 0}, next=(), config={'configurable': {'thread_id': '1', 'checkpoint_ns': '', 'checkpoint_id': '1ef89efa-6142-6c6c-800d-12ae05440434'}}, metadata={'source': 'loop', 'writes': None, 'step': 13, 'parents': {}}, created_at='2024-10-14T05:46:24.830346+00:00', parent_config={'configurable': {'thread_id': '1', 'checkpoint_ns': '', 'checkpoint_id': '1ef89efa-613f-6cef-800c-c1f8e1772921'}}, tasks=()) \n",
      "\n",
      "StateSnapshot(values={'count': 0}, next=('__start__',), config={'configurable': {'thread_id': '1', 'checkpoint_ns': '', 'checkpoint_id': '1ef89efa-613f-6cef-800c-c1f8e1772921'}}, metadata={'source': 'input', 'writes': {'__start__': {'messages': [HumanMessage(content='Whats the weather in SF?', additional_kwargs={}, response_metadata={})]}}, 'step': 12, 'parents': {}}, created_at='2024-10-14T05:46:24.829129+00:00', parent_config={'configurable': {'thread_id': '1', 'checkpoint_ns': '', 'checkpoint_id': '1ef89ef7-b7eb-65ad-800b-804ed8b6307c'}}, tasks=(PregelTask(id='358075ac-a5d1-4c1f-48fe-9dd2503eff81', name='__start__', path=('__pregel_pull', '__start__'), error=None, interrupts=(), state=None),)) \n",
      "\n",
      "StateSnapshot(values={'count': 0}, next=(), config={'configurable': {'thread_id': '1', 'checkpoint_ns': '', 'checkpoint_id': '1ef89ef7-b7eb-65ad-800b-804ed8b6307c'}}, metadata={'source': 'loop', 'writes': {'llm': {'messages': [AIMessage(content=\"I'm sorry, but I'm still facing the same issue with the search engine. I'll need to find an alternative method to get the weather information for Los Angeles as well.\", additional_kwargs={}, response_metadata={'token_usage': {'completion_tokens': 37, 'prompt_tokens': 531, 'total_tokens': 568, 'completion_time': 0.115434356, 'prompt_time': 0.035804079, 'queue_time': 0.0011985779999999988, 'total_time': 0.151238435}, 'model_name': 'llama3-groq-70b-8192-tool-use-preview', 'system_fingerprint': 'fp_ee4b521143', 'finish_reason': 'stop', 'logprobs': None}, id='run-b146b8c9-9961-4c6f-b447-bad346da4a59-0', usage_metadata={'input_tokens': 531, 'output_tokens': 37, 'total_tokens': 568})]}}, 'step': 11, 'parents': {}}, created_at='2024-10-14T05:45:13.386458+00:00', parent_config={'configurable': {'thread_id': '1', 'checkpoint_ns': '', 'checkpoint_id': '1ef89ef7-b310-6e92-800a-d83b39d9a6ee'}}, tasks=()) \n",
      "\n",
      "StateSnapshot(values={'count': 0}, next=(), config={'configurable': {'thread_id': '1', 'checkpoint_ns': '', 'checkpoint_id': '1ef89ef7-b310-6e92-800a-d83b39d9a6ee'}}, metadata={'source': 'loop', 'writes': None, 'step': 10, 'parents': {}}, created_at='2024-10-14T05:45:12.877602+00:00', parent_config={'configurable': {'thread_id': '1', 'checkpoint_ns': '', 'checkpoint_id': '1ef89ef7-b30e-64db-8009-71641c8489df'}}, tasks=()) \n",
      "\n",
      "StateSnapshot(values={'count': 0}, next=('__start__',), config={'configurable': {'thread_id': '1', 'checkpoint_ns': '', 'checkpoint_id': '1ef89ef7-b30e-64db-8009-71641c8489df'}}, metadata={'source': 'input', 'writes': {'__start__': {'messages': [HumanMessage(content='What about in la?', additional_kwargs={}, response_metadata={})]}}, 'step': 9, 'parents': {}}, created_at='2024-10-14T05:45:12.876531+00:00', parent_config={'configurable': {'thread_id': '1', 'checkpoint_ns': '', 'checkpoint_id': '1ef89ef7-b1c7-6da9-8008-94687cd8bfdb'}}, tasks=(PregelTask(id='fc7431a1-ff5c-5c8f-52dd-16f27cf10d33', name='__start__', path=('__pregel_pull', '__start__'), error=None, interrupts=(), state=None),)) \n",
      "\n",
      "StateSnapshot(values={'count': 0}, next=(), config={'configurable': {'thread_id': '1', 'checkpoint_ns': '', 'checkpoint_id': '1ef89ef7-b1c7-6da9-8008-94687cd8bfdb'}}, metadata={'source': 'loop', 'writes': {'llm': {'messages': [AIMessage(content=\"I apologize, but I'm still encountering the same error with the search engine. I'll need to find another way to get the weather information for you.\", additional_kwargs={}, response_metadata={'token_usage': {'completion_tokens': 32, 'prompt_tokens': 485, 'total_tokens': 517, 'completion_time': 0.099527346, 'prompt_time': 0.032593457, 'queue_time': 0.0010232989999999983, 'total_time': 0.132120803}, 'model_name': 'llama3-groq-70b-8192-tool-use-preview', 'system_fingerprint': 'fp_ee4b521143', 'finish_reason': 'stop', 'logprobs': None}, id='run-ef577b61-f948-4f3d-83c2-360a9a130f1b-0', usage_metadata={'input_tokens': 485, 'output_tokens': 32, 'total_tokens': 517})]}}, 'step': 8, 'parents': {}}, created_at='2024-10-14T05:45:12.742775+00:00', parent_config={'configurable': {'thread_id': '1', 'checkpoint_ns': '', 'checkpoint_id': '1ef89ef7-aa00-6002-8007-988902130168'}}, tasks=()) \n",
      "\n",
      "StateSnapshot(values={'count': 0}, next=(), config={'configurable': {'thread_id': '1', 'checkpoint_ns': '', 'checkpoint_id': '1ef89ef7-aa00-6002-8007-988902130168'}}, metadata={'source': 'loop', 'writes': None, 'step': 7, 'parents': {}}, created_at='2024-10-14T05:45:11.926967+00:00', parent_config={'configurable': {'thread_id': '1', 'checkpoint_ns': '', 'checkpoint_id': '1ef89ef7-a9fe-657c-8006-d4c7e967b42c'}}, tasks=()) \n",
      "\n",
      "StateSnapshot(values={'count': 0}, next=('__start__',), config={'configurable': {'thread_id': '1', 'checkpoint_ns': '', 'checkpoint_id': '1ef89ef7-a9fe-657c-8006-d4c7e967b42c'}}, metadata={'source': 'input', 'writes': {'__start__': {'messages': [HumanMessage(content='What is the weather in sf?', additional_kwargs={}, response_metadata={})]}}, 'step': 6, 'parents': {}}, created_at='2024-10-14T05:45:11.926290+00:00', parent_config={'configurable': {'thread_id': '1', 'checkpoint_ns': '', 'checkpoint_id': '1ef89ef6-057d-6088-8005-02d57922bedc'}}, tasks=(PregelTask(id='af470b01-6a4b-1ff3-3db8-3267046f4719', name='__start__', path=('__pregel_pull', '__start__'), error=None, interrupts=(), state=None),)) \n",
      "\n",
      "StateSnapshot(values={'count': 0}, next=(), config={'configurable': {'thread_id': '1', 'checkpoint_ns': '', 'checkpoint_id': '1ef89ef6-057d-6088-8005-02d57922bedc'}}, metadata={'source': 'loop', 'writes': None, 'step': 5, 'parents': {}}, created_at='2024-10-14T05:44:27.833050+00:00', parent_config={'configurable': {'thread_id': '1', 'checkpoint_ns': '', 'checkpoint_id': '1ef89ef6-0577-60b0-8004-44b0957172f2'}}, tasks=()) \n",
      "\n",
      "StateSnapshot(values={'count': 0}, next=('__start__',), config={'configurable': {'thread_id': '1', 'checkpoint_ns': '', 'checkpoint_id': '1ef89ef6-0577-60b0-8004-44b0957172f2'}}, metadata={'source': 'input', 'writes': {'__start__': {'messages': [HumanMessage(content='What about in la?', additional_kwargs={}, response_metadata={})]}}, 'step': 4, 'parents': {}}, created_at='2024-10-14T05:44:27.830623+00:00', parent_config={'configurable': {'thread_id': '1', 'checkpoint_ns': '', 'checkpoint_id': '1ef89ef6-052b-6f97-8003-b8be35bb08a8'}}, tasks=(PregelTask(id='aba0756c-5383-7d1b-00ef-c20a85f94f04', name='__start__', path=('__pregel_pull', '__start__'), error=None, interrupts=(), state=None),)) \n",
      "\n",
      "StateSnapshot(values={'count': 0}, next=(), config={'configurable': {'thread_id': '1', 'checkpoint_ns': '', 'checkpoint_id': '1ef89ef6-052b-6f97-8003-b8be35bb08a8'}}, metadata={'source': 'loop', 'writes': {'llm': {'messages': [AIMessage(content=\"I'm sorry, but I encountered an error while trying to retrieve the weather information for San Francisco. It seems like there was an issue with the search engine I used.\", additional_kwargs={}, response_metadata={'token_usage': {'completion_tokens': 35, 'prompt_tokens': 424, 'total_tokens': 459, 'completion_time': 0.109340951, 'prompt_time': 0.029438444, 'queue_time': 0.0038827020000000018, 'total_time': 0.138779395}, 'model_name': 'llama3-groq-70b-8192-tool-use-preview', 'system_fingerprint': 'fp_ee4b521143', 'finish_reason': 'stop', 'logprobs': None}, id='run-f297ed51-9349-4a27-a9ae-d77f8f965f7d-0', usage_metadata={'input_tokens': 424, 'output_tokens': 35, 'total_tokens': 459})]}}, 'step': 3, 'parents': {}}, created_at='2024-10-14T05:44:27.799872+00:00', parent_config={'configurable': {'thread_id': '1', 'checkpoint_ns': '', 'checkpoint_id': '1ef89ef5-ffa4-6c01-8002-c5373ee64f26'}}, tasks=()) \n",
      "\n",
      "StateSnapshot(values={'count': 0}, next=(), config={'configurable': {'thread_id': '1', 'checkpoint_ns': '', 'checkpoint_id': '1ef89ef5-ffa4-6c01-8002-c5373ee64f26'}}, metadata={'source': 'loop', 'writes': {'action': {'messages': [ToolMessage(content='AttributeError(\"\\'FieldInfo\\' object has no attribute \\'results\\'\")', name='tavily_search_results_json', tool_call_id='call_2knh'), ToolMessage(content='AttributeError(\"\\'FieldInfo\\' object has no attribute \\'results\\'\")', name='tavily_search_results_json', tool_call_id='call_k5mp')]}}, 'step': 2, 'parents': {}}, created_at='2024-10-14T05:44:27.220238+00:00', parent_config={'configurable': {'thread_id': '1', 'checkpoint_ns': '', 'checkpoint_id': '1ef89ef5-ff9e-6c23-8001-42afa5f29c4c'}}, tasks=()) \n",
      "\n",
      "StateSnapshot(values={'count': 0}, next=(), config={'configurable': {'thread_id': '1', 'checkpoint_ns': '', 'checkpoint_id': '1ef89ef5-ff9e-6c23-8001-42afa5f29c4c'}}, metadata={'source': 'loop', 'writes': {'llm': {'messages': [AIMessage(content='', additional_kwargs={'tool_calls': [{'id': 'call_2knh', 'function': {'arguments': '{\"query\": \"weather in sf\"}', 'name': 'tavily_search_results_json'}, 'type': 'function'}, {'id': 'call_k5mp', 'function': {'arguments': '{\"query\": \"current weather in san francisco\"}', 'name': 'tavily_search_results_json'}, 'type': 'function'}]}, response_metadata={'token_usage': {'completion_tokens': 67, 'prompt_tokens': 293, 'total_tokens': 360, 'completion_time': 0.211306957, 'prompt_time': 0.029867663, 'queue_time': 0.003321405000000003, 'total_time': 0.24117462}, 'model_name': 'llama3-groq-70b-8192-tool-use-preview', 'system_fingerprint': 'fp_ee4b521143', 'finish_reason': 'tool_calls', 'logprobs': None}, id='run-0423a708-2810-4630-b794-4da33672ecfb-0', tool_calls=[{'name': 'tavily_search_results_json', 'args': {'query': 'weather in sf'}, 'id': 'call_2knh', 'type': 'tool_call'}, {'name': 'tavily_search_results_json', 'args': {'query': 'current weather in san francisco'}, 'id': 'call_k5mp', 'type': 'tool_call'}], usage_metadata={'input_tokens': 293, 'output_tokens': 67, 'total_tokens': 360})]}}, 'step': 1, 'parents': {}}, created_at='2024-10-14T05:44:27.217775+00:00', parent_config={'configurable': {'thread_id': '1', 'checkpoint_ns': '', 'checkpoint_id': '1ef89ef5-f65f-6f9f-8000-1b3addb29910'}}, tasks=()) \n",
      "\n",
      "StateSnapshot(values={'count': 0}, next=(), config={'configurable': {'thread_id': '1', 'checkpoint_ns': '', 'checkpoint_id': '1ef89ef5-f65f-6f9f-8000-1b3addb29910'}}, metadata={'source': 'loop', 'writes': None, 'step': 0, 'parents': {}}, created_at='2024-10-14T05:44:26.248374+00:00', parent_config={'configurable': {'thread_id': '1', 'checkpoint_ns': '', 'checkpoint_id': '1ef89ef5-f65d-61ad-bfff-703fcec44adf'}}, tasks=()) \n",
      "\n",
      "StateSnapshot(values={'count': 0}, next=('__start__',), config={'configurable': {'thread_id': '1', 'checkpoint_ns': '', 'checkpoint_id': '1ef89ef5-f65d-61ad-bfff-703fcec44adf'}}, metadata={'source': 'input', 'writes': {'__start__': {'messages': [HumanMessage(content='What is the weather in sf?', additional_kwargs={}, response_metadata={})]}}, 'step': -1, 'parents': {}}, created_at='2024-10-14T05:44:26.247202+00:00', parent_config=None, tasks=(PregelTask(id='24823840-5d0b-07b1-d1d5-6cb8405d1164', name='__start__', path=('__pregel_pull', '__start__'), error=None, interrupts=(), state=None),)) \n",
      "\n"
     ]
    }
   ],
   "source": [
    "for state in graph.get_state_history(thread):\n",
    "    print(state, \"\\n\")"
   ]
  },
  {
   "cell_type": "markdown",
   "id": "dd7850ff-0748-43d7-8956-074fa9fd819f",
   "metadata": {},
   "source": [
    "Store just the `config` into an list. Note the sequence of counts on the right. `get_state_history` returns the most recent snapshots first."
   ]
  },
  {
   "cell_type": "code",
   "execution_count": 67,
   "id": "9f68e604-4f53-46c0-8f06-e7726ec9dcf6",
   "metadata": {
    "height": 81
   },
   "outputs": [
    {
     "name": "stdout",
     "output_type": "stream",
     "text": [
      "{'configurable': {'thread_id': '1', 'checkpoint_ns': '', 'checkpoint_id': '1ef89f02-bb8f-6680-8020-81d1c689cddc'}} 4\n",
      "{'configurable': {'thread_id': '1', 'checkpoint_ns': '', 'checkpoint_id': '1ef89f02-bb8e-65ab-801f-44d3eb324004'}} 3\n",
      "{'configurable': {'thread_id': '1', 'checkpoint_ns': '', 'checkpoint_id': '1ef89f02-bb8d-6794-801e-dac773a39fea'}} 2\n",
      "{'configurable': {'thread_id': '1', 'checkpoint_ns': '', 'checkpoint_id': '1ef89f02-bb8c-63ff-801d-1b626f5b3b7b'}} 1\n",
      "{'configurable': {'thread_id': '1', 'checkpoint_ns': '', 'checkpoint_id': '1ef89f02-bb8a-6fa3-801c-88730679a41e'}} 0\n",
      "{'configurable': {'thread_id': '1', 'checkpoint_ns': '', 'checkpoint_id': '1ef89f02-bb89-6cea-801b-d130e44a6c61'}} 0\n",
      "{'configurable': {'thread_id': '1', 'checkpoint_ns': '', 'checkpoint_id': '1ef89f01-a58f-693b-801a-adb3d4903359'}} 0\n",
      "{'configurable': {'thread_id': '1', 'checkpoint_ns': '', 'checkpoint_id': '1ef89f01-9e4d-6aed-8019-3c4a47dc5a3b'}} 0\n",
      "{'configurable': {'thread_id': '1', 'checkpoint_ns': '', 'checkpoint_id': '1ef89f01-9e49-6343-8018-e3ecd8a1816a'}} 0\n",
      "{'configurable': {'thread_id': '1', 'checkpoint_ns': '', 'checkpoint_id': '1ef89efe-c4bc-6844-8017-461f620dfe48'}} 0\n",
      "{'configurable': {'thread_id': '1', 'checkpoint_ns': '', 'checkpoint_id': '1ef89efe-bd0e-6224-8016-e4aaf6baa41d'}} 0\n",
      "{'configurable': {'thread_id': '1', 'checkpoint_ns': '', 'checkpoint_id': '1ef89efe-bd0b-6053-8015-c56ebbe0e90b'}} 0\n",
      "{'configurable': {'thread_id': '1', 'checkpoint_ns': '', 'checkpoint_id': '1ef89efc-58b1-633b-8014-f5d18ae25c18'}} 4\n",
      "{'configurable': {'thread_id': '1', 'checkpoint_ns': '', 'checkpoint_id': '1ef89efc-58af-6ee0-8013-49628ef2d487'}} 3\n",
      "{'configurable': {'thread_id': '1', 'checkpoint_ns': '', 'checkpoint_id': '1ef89efc-58ae-6dc1-8012-47deeb01d32b'}} 2\n",
      "{'configurable': {'thread_id': '1', 'checkpoint_ns': '', 'checkpoint_id': '1ef89efc-58ad-6a0c-8011-734e56460d8a'}} 1\n",
      "{'configurable': {'thread_id': '1', 'checkpoint_ns': '', 'checkpoint_id': '1ef89efc-58ac-6090-8010-ab8f94f011e6'}} 0\n",
      "{'configurable': {'thread_id': '1', 'checkpoint_ns': '', 'checkpoint_id': '1ef89efc-58a8-6b9a-800f-b2a59332afa6'}} 0\n",
      "{'configurable': {'thread_id': '1', 'checkpoint_ns': '', 'checkpoint_id': '1ef89efa-6974-68ab-800e-edb83a7b39a3'}} 0\n",
      "{'configurable': {'thread_id': '1', 'checkpoint_ns': '', 'checkpoint_id': '1ef89efa-6142-6c6c-800d-12ae05440434'}} 0\n",
      "{'configurable': {'thread_id': '1', 'checkpoint_ns': '', 'checkpoint_id': '1ef89efa-613f-6cef-800c-c1f8e1772921'}} 0\n",
      "{'configurable': {'thread_id': '1', 'checkpoint_ns': '', 'checkpoint_id': '1ef89ef7-b7eb-65ad-800b-804ed8b6307c'}} 0\n",
      "{'configurable': {'thread_id': '1', 'checkpoint_ns': '', 'checkpoint_id': '1ef89ef7-b310-6e92-800a-d83b39d9a6ee'}} 0\n",
      "{'configurable': {'thread_id': '1', 'checkpoint_ns': '', 'checkpoint_id': '1ef89ef7-b30e-64db-8009-71641c8489df'}} 0\n",
      "{'configurable': {'thread_id': '1', 'checkpoint_ns': '', 'checkpoint_id': '1ef89ef7-b1c7-6da9-8008-94687cd8bfdb'}} 0\n",
      "{'configurable': {'thread_id': '1', 'checkpoint_ns': '', 'checkpoint_id': '1ef89ef7-aa00-6002-8007-988902130168'}} 0\n",
      "{'configurable': {'thread_id': '1', 'checkpoint_ns': '', 'checkpoint_id': '1ef89ef7-a9fe-657c-8006-d4c7e967b42c'}} 0\n",
      "{'configurable': {'thread_id': '1', 'checkpoint_ns': '', 'checkpoint_id': '1ef89ef6-057d-6088-8005-02d57922bedc'}} 0\n",
      "{'configurable': {'thread_id': '1', 'checkpoint_ns': '', 'checkpoint_id': '1ef89ef6-0577-60b0-8004-44b0957172f2'}} 0\n",
      "{'configurable': {'thread_id': '1', 'checkpoint_ns': '', 'checkpoint_id': '1ef89ef6-052b-6f97-8003-b8be35bb08a8'}} 0\n",
      "{'configurable': {'thread_id': '1', 'checkpoint_ns': '', 'checkpoint_id': '1ef89ef5-ffa4-6c01-8002-c5373ee64f26'}} 0\n",
      "{'configurable': {'thread_id': '1', 'checkpoint_ns': '', 'checkpoint_id': '1ef89ef5-ff9e-6c23-8001-42afa5f29c4c'}} 0\n",
      "{'configurable': {'thread_id': '1', 'checkpoint_ns': '', 'checkpoint_id': '1ef89ef5-f65f-6f9f-8000-1b3addb29910'}} 0\n",
      "{'configurable': {'thread_id': '1', 'checkpoint_ns': '', 'checkpoint_id': '1ef89ef5-f65d-61ad-bfff-703fcec44adf'}} 0\n"
     ]
    }
   ],
   "source": [
    "states = []\n",
    "for state in graph.get_state_history(thread):\n",
    "    states.append(state.config)\n",
    "    print(state.config, state.values['count'])"
   ]
  },
  {
   "cell_type": "markdown",
   "id": "90790095-4080-4e76-b538-47caac7d9699",
   "metadata": {},
   "source": [
    "Grab an early state."
   ]
  },
  {
   "cell_type": "code",
   "execution_count": 68,
   "id": "e1db574e-f158-44cf-b921-f1f4466c314d",
   "metadata": {
    "height": 30
   },
   "outputs": [
    {
     "data": {
      "text/plain": [
       "{'configurable': {'thread_id': '1',\n",
       "  'checkpoint_ns': '',\n",
       "  'checkpoint_id': '1ef89ef5-ff9e-6c23-8001-42afa5f29c4c'}}"
      ]
     },
     "execution_count": 68,
     "metadata": {},
     "output_type": "execute_result"
    }
   ],
   "source": [
    "states[-3]"
   ]
  },
  {
   "cell_type": "markdown",
   "id": "2cc233eb-f388-4ecd-bfb5-dac3568d37ce",
   "metadata": {},
   "source": [
    "This is the state after Node1 completed for the first time. Note `next` is `Node2`and `count` is 1."
   ]
  },
  {
   "cell_type": "code",
   "execution_count": 69,
   "id": "240f5039-7916-4c2a-88d5-d363b2898e70",
   "metadata": {
    "height": 30
   },
   "outputs": [
    {
     "data": {
      "text/plain": [
       "StateSnapshot(values={'count': 0}, next=(), config={'configurable': {'thread_id': '1', 'checkpoint_ns': '', 'checkpoint_id': '1ef89ef5-ff9e-6c23-8001-42afa5f29c4c'}}, metadata={'source': 'loop', 'writes': {'llm': {'messages': [AIMessage(content='', additional_kwargs={'tool_calls': [{'id': 'call_2knh', 'function': {'arguments': '{\"query\": \"weather in sf\"}', 'name': 'tavily_search_results_json'}, 'type': 'function'}, {'id': 'call_k5mp', 'function': {'arguments': '{\"query\": \"current weather in san francisco\"}', 'name': 'tavily_search_results_json'}, 'type': 'function'}]}, response_metadata={'token_usage': {'completion_tokens': 67, 'prompt_tokens': 293, 'total_tokens': 360, 'completion_time': 0.211306957, 'prompt_time': 0.029867663, 'queue_time': 0.003321405000000003, 'total_time': 0.24117462}, 'model_name': 'llama3-groq-70b-8192-tool-use-preview', 'system_fingerprint': 'fp_ee4b521143', 'finish_reason': 'tool_calls', 'logprobs': None}, id='run-0423a708-2810-4630-b794-4da33672ecfb-0', tool_calls=[{'name': 'tavily_search_results_json', 'args': {'query': 'weather in sf'}, 'id': 'call_2knh', 'type': 'tool_call'}, {'name': 'tavily_search_results_json', 'args': {'query': 'current weather in san francisco'}, 'id': 'call_k5mp', 'type': 'tool_call'}], usage_metadata={'input_tokens': 293, 'output_tokens': 67, 'total_tokens': 360})]}}, 'step': 1, 'parents': {}}, created_at='2024-10-14T05:44:27.217775+00:00', parent_config={'configurable': {'thread_id': '1', 'checkpoint_ns': '', 'checkpoint_id': '1ef89ef5-f65f-6f9f-8000-1b3addb29910'}}, tasks=())"
      ]
     },
     "execution_count": 69,
     "metadata": {},
     "output_type": "execute_result"
    }
   ],
   "source": [
    "graph.get_state(states[-3])"
   ]
  },
  {
   "cell_type": "markdown",
   "id": "4872468e-4d23-4840-ae14-c06c1ab4f161",
   "metadata": {},
   "source": [
    "### Go Back in Time\n",
    "Use that state in `invoke` to go back in time. Notice it uses states[-3] as *current_state* and continues to node2,"
   ]
  },
  {
   "cell_type": "code",
   "execution_count": 70,
   "id": "e3049179-b901-4557-a9c4-78afb3d53d27",
   "metadata": {
    "height": 30
   },
   "outputs": [
    {
     "data": {
      "text/plain": [
       "{'count': 0}"
      ]
     },
     "execution_count": 70,
     "metadata": {},
     "output_type": "execute_result"
    }
   ],
   "source": [
    "graph.invoke(None, states[-3])"
   ]
  },
  {
   "cell_type": "markdown",
   "id": "5bf7789a-df3d-4c7e-8899-d96a99d45717",
   "metadata": {},
   "source": [
    "Notice the new states are now in state history. Notice the counts on the far right."
   ]
  },
  {
   "cell_type": "code",
   "execution_count": 71,
   "id": "37fa44ec-9bd1-484b-a415-cc5f50b6e799",
   "metadata": {
    "height": 64
   },
   "outputs": [
    {
     "name": "stdout",
     "output_type": "stream",
     "text": [
      "{'configurable': {'thread_id': '1', 'checkpoint_ns': '', 'checkpoint_id': '1ef89f02-bb8f-6680-8020-81d1c689cddc'}} 4\n",
      "{'configurable': {'thread_id': '1', 'checkpoint_ns': '', 'checkpoint_id': '1ef89f02-bb8e-65ab-801f-44d3eb324004'}} 3\n",
      "{'configurable': {'thread_id': '1', 'checkpoint_ns': '', 'checkpoint_id': '1ef89f02-bb8d-6794-801e-dac773a39fea'}} 2\n",
      "{'configurable': {'thread_id': '1', 'checkpoint_ns': '', 'checkpoint_id': '1ef89f02-bb8c-63ff-801d-1b626f5b3b7b'}} 1\n",
      "{'configurable': {'thread_id': '1', 'checkpoint_ns': '', 'checkpoint_id': '1ef89f02-bb8a-6fa3-801c-88730679a41e'}} 0\n",
      "{'configurable': {'thread_id': '1', 'checkpoint_ns': '', 'checkpoint_id': '1ef89f02-bb89-6cea-801b-d130e44a6c61'}} 0\n",
      "{'configurable': {'thread_id': '1', 'checkpoint_ns': '', 'checkpoint_id': '1ef89f01-a58f-693b-801a-adb3d4903359'}} 0\n",
      "{'configurable': {'thread_id': '1', 'checkpoint_ns': '', 'checkpoint_id': '1ef89f01-9e4d-6aed-8019-3c4a47dc5a3b'}} 0\n",
      "{'configurable': {'thread_id': '1', 'checkpoint_ns': '', 'checkpoint_id': '1ef89f01-9e49-6343-8018-e3ecd8a1816a'}} 0\n",
      "{'configurable': {'thread_id': '1', 'checkpoint_ns': '', 'checkpoint_id': '1ef89efe-c4bc-6844-8017-461f620dfe48'}} 0\n",
      "{'configurable': {'thread_id': '1', 'checkpoint_ns': '', 'checkpoint_id': '1ef89efe-bd0e-6224-8016-e4aaf6baa41d'}} 0\n",
      "{'configurable': {'thread_id': '1', 'checkpoint_ns': '', 'checkpoint_id': '1ef89efe-bd0b-6053-8015-c56ebbe0e90b'}} 0\n",
      "{'configurable': {'thread_id': '1', 'checkpoint_ns': '', 'checkpoint_id': '1ef89efc-58b1-633b-8014-f5d18ae25c18'}} 4\n",
      "{'configurable': {'thread_id': '1', 'checkpoint_ns': '', 'checkpoint_id': '1ef89efc-58af-6ee0-8013-49628ef2d487'}} 3\n",
      "{'configurable': {'thread_id': '1', 'checkpoint_ns': '', 'checkpoint_id': '1ef89efc-58ae-6dc1-8012-47deeb01d32b'}} 2\n",
      "{'configurable': {'thread_id': '1', 'checkpoint_ns': '', 'checkpoint_id': '1ef89efc-58ad-6a0c-8011-734e56460d8a'}} 1\n",
      "{'configurable': {'thread_id': '1', 'checkpoint_ns': '', 'checkpoint_id': '1ef89efc-58ac-6090-8010-ab8f94f011e6'}} 0\n",
      "{'configurable': {'thread_id': '1', 'checkpoint_ns': '', 'checkpoint_id': '1ef89efc-58a8-6b9a-800f-b2a59332afa6'}} 0\n",
      "{'configurable': {'thread_id': '1', 'checkpoint_ns': '', 'checkpoint_id': '1ef89efa-6974-68ab-800e-edb83a7b39a3'}} 0\n",
      "{'configurable': {'thread_id': '1', 'checkpoint_ns': '', 'checkpoint_id': '1ef89efa-6142-6c6c-800d-12ae05440434'}} 0\n",
      "{'configurable': {'thread_id': '1', 'checkpoint_ns': '', 'checkpoint_id': '1ef89efa-613f-6cef-800c-c1f8e1772921'}} 0\n",
      "{'configurable': {'thread_id': '1', 'checkpoint_ns': '', 'checkpoint_id': '1ef89ef7-b7eb-65ad-800b-804ed8b6307c'}} 0\n",
      "{'configurable': {'thread_id': '1', 'checkpoint_ns': '', 'checkpoint_id': '1ef89ef7-b310-6e92-800a-d83b39d9a6ee'}} 0\n",
      "{'configurable': {'thread_id': '1', 'checkpoint_ns': '', 'checkpoint_id': '1ef89ef7-b30e-64db-8009-71641c8489df'}} 0\n",
      "{'configurable': {'thread_id': '1', 'checkpoint_ns': '', 'checkpoint_id': '1ef89ef7-b1c7-6da9-8008-94687cd8bfdb'}} 0\n",
      "{'configurable': {'thread_id': '1', 'checkpoint_ns': '', 'checkpoint_id': '1ef89ef7-aa00-6002-8007-988902130168'}} 0\n",
      "{'configurable': {'thread_id': '1', 'checkpoint_ns': '', 'checkpoint_id': '1ef89ef7-a9fe-657c-8006-d4c7e967b42c'}} 0\n",
      "{'configurable': {'thread_id': '1', 'checkpoint_ns': '', 'checkpoint_id': '1ef89ef6-057d-6088-8005-02d57922bedc'}} 0\n",
      "{'configurable': {'thread_id': '1', 'checkpoint_ns': '', 'checkpoint_id': '1ef89ef6-0577-60b0-8004-44b0957172f2'}} 0\n",
      "{'configurable': {'thread_id': '1', 'checkpoint_ns': '', 'checkpoint_id': '1ef89ef6-052b-6f97-8003-b8be35bb08a8'}} 0\n",
      "{'configurable': {'thread_id': '1', 'checkpoint_ns': '', 'checkpoint_id': '1ef89ef5-ffa4-6c01-8002-c5373ee64f26'}} 0\n",
      "{'configurable': {'thread_id': '1', 'checkpoint_ns': '', 'checkpoint_id': '1ef89ef5-ff9e-6c23-8001-42afa5f29c4c'}} 0\n",
      "{'configurable': {'thread_id': '1', 'checkpoint_ns': '', 'checkpoint_id': '1ef89ef5-f65f-6f9f-8000-1b3addb29910'}} 0\n",
      "{'configurable': {'thread_id': '1', 'checkpoint_ns': '', 'checkpoint_id': '1ef89ef5-f65d-61ad-bfff-703fcec44adf'}} 0\n"
     ]
    }
   ],
   "source": [
    "thread = {\"configurable\": {\"thread_id\": str(1)}}\n",
    "for state in graph.get_state_history(thread):\n",
    "    print(state.config, state.values['count'])"
   ]
  },
  {
   "cell_type": "markdown",
   "id": "d3c8d305-6752-4cf6-a8cb-7babf3bbd643",
   "metadata": {},
   "source": [
    "You can see the details below. Lots of text, but try to find the node that start the new branch. Notice the parent *config* is not the previous entry in the stack, but is the entry from state[-3]."
   ]
  },
  {
   "cell_type": "code",
   "execution_count": 72,
   "id": "07d25697-fcf0-4a26-9485-3e195b0af225",
   "metadata": {
    "height": 64
   },
   "outputs": [
    {
     "name": "stdout",
     "output_type": "stream",
     "text": [
      "StateSnapshot(values={'lnode': 'node_2', 'scratch': 'hi', 'count': 4}, next=(), config={'configurable': {'thread_id': '1', 'checkpoint_ns': '', 'checkpoint_id': '1ef89f02-bb8f-6680-8020-81d1c689cddc'}}, metadata={'source': 'loop', 'writes': {'Node2': {'lnode': 'node_2', 'count': 1}}, 'step': 32, 'parents': {}}, created_at='2024-10-14T05:50:09.047294+00:00', parent_config={'configurable': {'thread_id': '1', 'checkpoint_ns': '', 'checkpoint_id': '1ef89f02-bb8e-65ab-801f-44d3eb324004'}}, tasks=()) \n",
      "\n",
      "StateSnapshot(values={'lnode': 'node_1', 'scratch': 'hi', 'count': 3}, next=('Node2',), config={'configurable': {'thread_id': '1', 'checkpoint_ns': '', 'checkpoint_id': '1ef89f02-bb8e-65ab-801f-44d3eb324004'}}, metadata={'source': 'loop', 'writes': {'Node1': {'lnode': 'node_1', 'count': 1}}, 'step': 31, 'parents': {}}, created_at='2024-10-14T05:50:09.046864+00:00', parent_config={'configurable': {'thread_id': '1', 'checkpoint_ns': '', 'checkpoint_id': '1ef89f02-bb8d-6794-801e-dac773a39fea'}}, tasks=(PregelTask(id='5ccc4b5e-441b-dfed-6748-0a1d16fa63cf', name='Node2', path=('__pregel_pull', 'Node2'), error=None, interrupts=(), state=None),)) \n",
      "\n",
      "StateSnapshot(values={'lnode': 'node_2', 'scratch': 'hi', 'count': 2}, next=('Node1',), config={'configurable': {'thread_id': '1', 'checkpoint_ns': '', 'checkpoint_id': '1ef89f02-bb8d-6794-801e-dac773a39fea'}}, metadata={'source': 'loop', 'writes': {'Node2': {'lnode': 'node_2', 'count': 1}}, 'step': 30, 'parents': {}}, created_at='2024-10-14T05:50:09.046503+00:00', parent_config={'configurable': {'thread_id': '1', 'checkpoint_ns': '', 'checkpoint_id': '1ef89f02-bb8c-63ff-801d-1b626f5b3b7b'}}, tasks=(PregelTask(id='92ff4365-8121-f5ad-0407-9272eb92a57e', name='Node1', path=('__pregel_pull', 'Node1'), error=None, interrupts=(), state=None),)) \n",
      "\n",
      "StateSnapshot(values={'lnode': 'node_1', 'scratch': 'hi', 'count': 1}, next=('Node2',), config={'configurable': {'thread_id': '1', 'checkpoint_ns': '', 'checkpoint_id': '1ef89f02-bb8c-63ff-801d-1b626f5b3b7b'}}, metadata={'source': 'loop', 'writes': {'Node1': {'lnode': 'node_1', 'count': 1}}, 'step': 29, 'parents': {}}, created_at='2024-10-14T05:50:09.046000+00:00', parent_config={'configurable': {'thread_id': '1', 'checkpoint_ns': '', 'checkpoint_id': '1ef89f02-bb8a-6fa3-801c-88730679a41e'}}, tasks=(PregelTask(id='16ea4f41-59a6-fc83-17db-8ba175e97d63', name='Node2', path=('__pregel_pull', 'Node2'), error=None, interrupts=(), state=None),)) \n",
      "\n",
      "StateSnapshot(values={'scratch': 'hi', 'count': 0}, next=('Node1',), config={'configurable': {'thread_id': '1', 'checkpoint_ns': '', 'checkpoint_id': '1ef89f02-bb8a-6fa3-801c-88730679a41e'}}, metadata={'source': 'loop', 'writes': None, 'step': 28, 'parents': {}}, created_at='2024-10-14T05:50:09.045480+00:00', parent_config={'configurable': {'thread_id': '1', 'checkpoint_ns': '', 'checkpoint_id': '1ef89f02-bb89-6cea-801b-d130e44a6c61'}}, tasks=(PregelTask(id='3db039fa-5688-5b3b-b4c7-91b10bb99aac', name='Node1', path=('__pregel_pull', 'Node1'), error=None, interrupts=(), state=None),)) \n",
      "\n",
      "StateSnapshot(values={'count': 0}, next=('__start__',), config={'configurable': {'thread_id': '1', 'checkpoint_ns': '', 'checkpoint_id': '1ef89f02-bb89-6cea-801b-d130e44a6c61'}}, metadata={'source': 'input', 'writes': {'__start__': {'count': 0, 'scratch': 'hi'}}, 'step': 27, 'parents': {}}, created_at='2024-10-14T05:50:09.044994+00:00', parent_config={'configurable': {'thread_id': '1', 'checkpoint_ns': '', 'checkpoint_id': '1ef89f01-a58f-693b-801a-adb3d4903359'}}, tasks=(PregelTask(id='cb289e09-2704-b160-e59c-b6a1c7333048', name='__start__', path=('__pregel_pull', '__start__'), error=None, interrupts=(), state=None),)) \n",
      "\n",
      "StateSnapshot(values={'count': 0}, next=(), config={'configurable': {'thread_id': '1', 'checkpoint_ns': '', 'checkpoint_id': '1ef89f01-a58f-693b-801a-adb3d4903359'}}, metadata={'source': 'loop', 'writes': {'llm': {'messages': [AIMessage(content=\"I'm sorry but I do not have the capability to perform this task for you, I am happy to help you with any other queries you may have.\", additional_kwargs={}, response_metadata={'token_usage': {'completion_tokens': 32, 'prompt_tokens': 339, 'total_tokens': 371, 'completion_time': 0.099096831, 'prompt_time': 0.024917757, 'queue_time': 0.008230330000000001, 'total_time': 0.124014588}, 'model_name': 'llama3-groq-70b-8192-tool-use-preview', 'system_fingerprint': 'fp_ee4b521143', 'finish_reason': 'stop', 'logprobs': None}, id='run-80a7268f-13d7-40a7-bf5f-3799b94cf41f-0', usage_metadata={'input_tokens': 339, 'output_tokens': 32, 'total_tokens': 371})]}}, 'step': 26, 'parents': {}}, created_at='2024-10-14T05:49:39.896949+00:00', parent_config={'configurable': {'thread_id': '1', 'checkpoint_ns': '', 'checkpoint_id': '1ef89f01-9e4d-6aed-8019-3c4a47dc5a3b'}}, tasks=()) \n",
      "\n",
      "StateSnapshot(values={'count': 0}, next=(), config={'configurable': {'thread_id': '1', 'checkpoint_ns': '', 'checkpoint_id': '1ef89f01-9e4d-6aed-8019-3c4a47dc5a3b'}}, metadata={'source': 'loop', 'writes': None, 'step': 25, 'parents': {}}, created_at='2024-10-14T05:49:39.135923+00:00', parent_config={'configurable': {'thread_id': '1', 'checkpoint_ns': '', 'checkpoint_id': '1ef89f01-9e49-6343-8018-e3ecd8a1816a'}}, tasks=()) \n",
      "\n",
      "StateSnapshot(values={'count': 0}, next=('__start__',), config={'configurable': {'thread_id': '1', 'checkpoint_ns': '', 'checkpoint_id': '1ef89f01-9e49-6343-8018-e3ecd8a1816a'}}, metadata={'source': 'input', 'writes': {'__start__': {'messages': [HumanMessage(content='Whats the weather in SF?', additional_kwargs={}, response_metadata={})]}}, 'step': 24, 'parents': {}}, created_at='2024-10-14T05:49:39.134079+00:00', parent_config={'configurable': {'thread_id': '1', 'checkpoint_ns': '', 'checkpoint_id': '1ef89efe-c4bc-6844-8017-461f620dfe48'}}, tasks=(PregelTask(id='7de2e170-e57c-f919-5064-bc830fbd3a36', name='__start__', path=('__pregel_pull', '__start__'), error=None, interrupts=(), state=None),)) \n",
      "\n",
      "StateSnapshot(values={'count': 0}, next=(), config={'configurable': {'thread_id': '1', 'checkpoint_ns': '', 'checkpoint_id': '1ef89efe-c4bc-6844-8017-461f620dfe48'}}, metadata={'source': 'loop', 'writes': {'llm': {'messages': [AIMessage(content=\"I'm sorry but I do not have the capability to perform this task for you, I am happy to help you with any other queries you may have.\", additional_kwargs={}, response_metadata={'token_usage': {'completion_tokens': 32, 'prompt_tokens': 292, 'total_tokens': 324, 'completion_time': 0.099142184, 'prompt_time': 0.020916217, 'queue_time': 0.012551819999999998, 'total_time': 0.120058401}, 'model_name': 'llama3-groq-70b-8192-tool-use-preview', 'system_fingerprint': 'fp_ee4b521143', 'finish_reason': 'stop', 'logprobs': None}, id='run-9591457b-c5a4-440b-b8bc-114b67978cf2-0', usage_metadata={'input_tokens': 292, 'output_tokens': 32, 'total_tokens': 324})]}}, 'step': 23, 'parents': {}}, created_at='2024-10-14T05:48:22.635275+00:00', parent_config={'configurable': {'thread_id': '1', 'checkpoint_ns': '', 'checkpoint_id': '1ef89efe-bd0e-6224-8016-e4aaf6baa41d'}}, tasks=()) \n",
      "\n",
      "StateSnapshot(values={'count': 0}, next=(), config={'configurable': {'thread_id': '1', 'checkpoint_ns': '', 'checkpoint_id': '1ef89efe-bd0e-6224-8016-e4aaf6baa41d'}}, metadata={'source': 'loop', 'writes': None, 'step': 22, 'parents': {}}, created_at='2024-10-14T05:48:21.829872+00:00', parent_config={'configurable': {'thread_id': '1', 'checkpoint_ns': '', 'checkpoint_id': '1ef89efe-bd0b-6053-8015-c56ebbe0e90b'}}, tasks=()) \n",
      "\n",
      "StateSnapshot(values={'count': 0}, next=('__start__',), config={'configurable': {'thread_id': '1', 'checkpoint_ns': '', 'checkpoint_id': '1ef89efe-bd0b-6053-8015-c56ebbe0e90b'}}, metadata={'source': 'input', 'writes': {'__start__': {'messages': [HumanMessage(content='Whats the weather in SF?', additional_kwargs={}, response_metadata={})]}}, 'step': 21, 'parents': {}}, created_at='2024-10-14T05:48:21.828591+00:00', parent_config={'configurable': {'thread_id': '1', 'checkpoint_ns': '', 'checkpoint_id': '1ef89efc-58b1-633b-8014-f5d18ae25c18'}}, tasks=(PregelTask(id='eb52cb81-0804-56b3-295b-7edb300dd2af', name='__start__', path=('__pregel_pull', '__start__'), error=None, interrupts=(), state=None),)) \n",
      "\n",
      "StateSnapshot(values={'lnode': 'node_2', 'scratch': 'hi', 'count': 4}, next=(), config={'configurable': {'thread_id': '1', 'checkpoint_ns': '', 'checkpoint_id': '1ef89efc-58b1-633b-8014-f5d18ae25c18'}}, metadata={'source': 'loop', 'writes': {'Node2': {'lnode': 'node_2', 'count': 1}}, 'step': 20, 'parents': {}}, created_at='2024-10-14T05:47:17.618962+00:00', parent_config={'configurable': {'thread_id': '1', 'checkpoint_ns': '', 'checkpoint_id': '1ef89efc-58af-6ee0-8013-49628ef2d487'}}, tasks=()) \n",
      "\n",
      "StateSnapshot(values={'lnode': 'node_1', 'scratch': 'hi', 'count': 3}, next=('Node2',), config={'configurable': {'thread_id': '1', 'checkpoint_ns': '', 'checkpoint_id': '1ef89efc-58af-6ee0-8013-49628ef2d487'}}, metadata={'source': 'loop', 'writes': {'Node1': {'lnode': 'node_1', 'count': 1}}, 'step': 19, 'parents': {}}, created_at='2024-10-14T05:47:17.618441+00:00', parent_config={'configurable': {'thread_id': '1', 'checkpoint_ns': '', 'checkpoint_id': '1ef89efc-58ae-6dc1-8012-47deeb01d32b'}}, tasks=(PregelTask(id='76291587-7d5e-2a40-c366-63ba620ac274', name='Node2', path=('__pregel_pull', 'Node2'), error=None, interrupts=(), state=None),)) \n",
      "\n",
      "StateSnapshot(values={'lnode': 'node_2', 'scratch': 'hi', 'count': 2}, next=('Node1',), config={'configurable': {'thread_id': '1', 'checkpoint_ns': '', 'checkpoint_id': '1ef89efc-58ae-6dc1-8012-47deeb01d32b'}}, metadata={'source': 'loop', 'writes': {'Node2': {'lnode': 'node_2', 'count': 1}}, 'step': 18, 'parents': {}}, created_at='2024-10-14T05:47:17.618003+00:00', parent_config={'configurable': {'thread_id': '1', 'checkpoint_ns': '', 'checkpoint_id': '1ef89efc-58ad-6a0c-8011-734e56460d8a'}}, tasks=(PregelTask(id='6f9bdd47-2574-4fc5-ace0-068baeaf0c3e', name='Node1', path=('__pregel_pull', 'Node1'), error=None, interrupts=(), state=None),)) \n",
      "\n",
      "StateSnapshot(values={'lnode': 'node_1', 'scratch': 'hi', 'count': 1}, next=('Node2',), config={'configurable': {'thread_id': '1', 'checkpoint_ns': '', 'checkpoint_id': '1ef89efc-58ad-6a0c-8011-734e56460d8a'}}, metadata={'source': 'loop', 'writes': {'Node1': {'lnode': 'node_1', 'count': 1}}, 'step': 17, 'parents': {}}, created_at='2024-10-14T05:47:17.617498+00:00', parent_config={'configurable': {'thread_id': '1', 'checkpoint_ns': '', 'checkpoint_id': '1ef89efc-58ac-6090-8010-ab8f94f011e6'}}, tasks=(PregelTask(id='897daabe-b176-9f55-2015-e105046633f9', name='Node2', path=('__pregel_pull', 'Node2'), error=None, interrupts=(), state=None),)) \n",
      "\n",
      "StateSnapshot(values={'scratch': 'hi', 'count': 0}, next=('Node1',), config={'configurable': {'thread_id': '1', 'checkpoint_ns': '', 'checkpoint_id': '1ef89efc-58ac-6090-8010-ab8f94f011e6'}}, metadata={'source': 'loop', 'writes': None, 'step': 16, 'parents': {}}, created_at='2024-10-14T05:47:17.616847+00:00', parent_config={'configurable': {'thread_id': '1', 'checkpoint_ns': '', 'checkpoint_id': '1ef89efc-58a8-6b9a-800f-b2a59332afa6'}}, tasks=(PregelTask(id='402e2e5f-a1ff-0791-7230-86496846adbb', name='Node1', path=('__pregel_pull', 'Node1'), error=None, interrupts=(), state=None),)) \n",
      "\n",
      "StateSnapshot(values={'count': 0}, next=('__start__',), config={'configurable': {'thread_id': '1', 'checkpoint_ns': '', 'checkpoint_id': '1ef89efc-58a8-6b9a-800f-b2a59332afa6'}}, metadata={'source': 'input', 'writes': {'__start__': {'count': 0, 'scratch': 'hi'}}, 'step': 15, 'parents': {}}, created_at='2024-10-14T05:47:17.615492+00:00', parent_config={'configurable': {'thread_id': '1', 'checkpoint_ns': '', 'checkpoint_id': '1ef89efa-6974-68ab-800e-edb83a7b39a3'}}, tasks=(PregelTask(id='a6ccc836-6c2b-99f2-5a0a-1767393d9a12', name='__start__', path=('__pregel_pull', '__start__'), error=None, interrupts=(), state=None),)) \n",
      "\n",
      "StateSnapshot(values={'count': 0}, next=(), config={'configurable': {'thread_id': '1', 'checkpoint_ns': '', 'checkpoint_id': '1ef89efa-6974-68ab-800e-edb83a7b39a3'}}, metadata={'source': 'loop', 'writes': {'llm': {'messages': [AIMessage(content=\"I'm sorry, but I'm still encountering the same error with the search engine. I'll need to find another way to get the weather information for San Francisco.\", additional_kwargs={}, response_metadata={'token_usage': {'completion_tokens': 34, 'prompt_tokens': 583, 'total_tokens': 617, 'completion_time': 0.105952208, 'prompt_time': 0.038595742, 'queue_time': 0.0010302539999999943, 'total_time': 0.14454795}, 'model_name': 'llama3-groq-70b-8192-tool-use-preview', 'system_fingerprint': 'fp_ee4b521143', 'finish_reason': 'stop', 'logprobs': None}, id='run-f9c04b6a-9e3e-48de-9bd2-b132c3116c6d-0', usage_metadata={'input_tokens': 583, 'output_tokens': 34, 'total_tokens': 617})]}}, 'step': 14, 'parents': {}}, created_at='2024-10-14T05:46:25.689571+00:00', parent_config={'configurable': {'thread_id': '1', 'checkpoint_ns': '', 'checkpoint_id': '1ef89efa-6142-6c6c-800d-12ae05440434'}}, tasks=()) \n",
      "\n",
      "StateSnapshot(values={'count': 0}, next=(), config={'configurable': {'thread_id': '1', 'checkpoint_ns': '', 'checkpoint_id': '1ef89efa-6142-6c6c-800d-12ae05440434'}}, metadata={'source': 'loop', 'writes': None, 'step': 13, 'parents': {}}, created_at='2024-10-14T05:46:24.830346+00:00', parent_config={'configurable': {'thread_id': '1', 'checkpoint_ns': '', 'checkpoint_id': '1ef89efa-613f-6cef-800c-c1f8e1772921'}}, tasks=()) \n",
      "\n",
      "StateSnapshot(values={'count': 0}, next=('__start__',), config={'configurable': {'thread_id': '1', 'checkpoint_ns': '', 'checkpoint_id': '1ef89efa-613f-6cef-800c-c1f8e1772921'}}, metadata={'source': 'input', 'writes': {'__start__': {'messages': [HumanMessage(content='Whats the weather in SF?', additional_kwargs={}, response_metadata={})]}}, 'step': 12, 'parents': {}}, created_at='2024-10-14T05:46:24.829129+00:00', parent_config={'configurable': {'thread_id': '1', 'checkpoint_ns': '', 'checkpoint_id': '1ef89ef7-b7eb-65ad-800b-804ed8b6307c'}}, tasks=(PregelTask(id='358075ac-a5d1-4c1f-48fe-9dd2503eff81', name='__start__', path=('__pregel_pull', '__start__'), error=None, interrupts=(), state=None),)) \n",
      "\n",
      "StateSnapshot(values={'count': 0}, next=(), config={'configurable': {'thread_id': '1', 'checkpoint_ns': '', 'checkpoint_id': '1ef89ef7-b7eb-65ad-800b-804ed8b6307c'}}, metadata={'source': 'loop', 'writes': {'llm': {'messages': [AIMessage(content=\"I'm sorry, but I'm still facing the same issue with the search engine. I'll need to find an alternative method to get the weather information for Los Angeles as well.\", additional_kwargs={}, response_metadata={'token_usage': {'completion_tokens': 37, 'prompt_tokens': 531, 'total_tokens': 568, 'completion_time': 0.115434356, 'prompt_time': 0.035804079, 'queue_time': 0.0011985779999999988, 'total_time': 0.151238435}, 'model_name': 'llama3-groq-70b-8192-tool-use-preview', 'system_fingerprint': 'fp_ee4b521143', 'finish_reason': 'stop', 'logprobs': None}, id='run-b146b8c9-9961-4c6f-b447-bad346da4a59-0', usage_metadata={'input_tokens': 531, 'output_tokens': 37, 'total_tokens': 568})]}}, 'step': 11, 'parents': {}}, created_at='2024-10-14T05:45:13.386458+00:00', parent_config={'configurable': {'thread_id': '1', 'checkpoint_ns': '', 'checkpoint_id': '1ef89ef7-b310-6e92-800a-d83b39d9a6ee'}}, tasks=()) \n",
      "\n",
      "StateSnapshot(values={'count': 0}, next=(), config={'configurable': {'thread_id': '1', 'checkpoint_ns': '', 'checkpoint_id': '1ef89ef7-b310-6e92-800a-d83b39d9a6ee'}}, metadata={'source': 'loop', 'writes': None, 'step': 10, 'parents': {}}, created_at='2024-10-14T05:45:12.877602+00:00', parent_config={'configurable': {'thread_id': '1', 'checkpoint_ns': '', 'checkpoint_id': '1ef89ef7-b30e-64db-8009-71641c8489df'}}, tasks=()) \n",
      "\n",
      "StateSnapshot(values={'count': 0}, next=('__start__',), config={'configurable': {'thread_id': '1', 'checkpoint_ns': '', 'checkpoint_id': '1ef89ef7-b30e-64db-8009-71641c8489df'}}, metadata={'source': 'input', 'writes': {'__start__': {'messages': [HumanMessage(content='What about in la?', additional_kwargs={}, response_metadata={})]}}, 'step': 9, 'parents': {}}, created_at='2024-10-14T05:45:12.876531+00:00', parent_config={'configurable': {'thread_id': '1', 'checkpoint_ns': '', 'checkpoint_id': '1ef89ef7-b1c7-6da9-8008-94687cd8bfdb'}}, tasks=(PregelTask(id='fc7431a1-ff5c-5c8f-52dd-16f27cf10d33', name='__start__', path=('__pregel_pull', '__start__'), error=None, interrupts=(), state=None),)) \n",
      "\n",
      "StateSnapshot(values={'count': 0}, next=(), config={'configurable': {'thread_id': '1', 'checkpoint_ns': '', 'checkpoint_id': '1ef89ef7-b1c7-6da9-8008-94687cd8bfdb'}}, metadata={'source': 'loop', 'writes': {'llm': {'messages': [AIMessage(content=\"I apologize, but I'm still encountering the same error with the search engine. I'll need to find another way to get the weather information for you.\", additional_kwargs={}, response_metadata={'token_usage': {'completion_tokens': 32, 'prompt_tokens': 485, 'total_tokens': 517, 'completion_time': 0.099527346, 'prompt_time': 0.032593457, 'queue_time': 0.0010232989999999983, 'total_time': 0.132120803}, 'model_name': 'llama3-groq-70b-8192-tool-use-preview', 'system_fingerprint': 'fp_ee4b521143', 'finish_reason': 'stop', 'logprobs': None}, id='run-ef577b61-f948-4f3d-83c2-360a9a130f1b-0', usage_metadata={'input_tokens': 485, 'output_tokens': 32, 'total_tokens': 517})]}}, 'step': 8, 'parents': {}}, created_at='2024-10-14T05:45:12.742775+00:00', parent_config={'configurable': {'thread_id': '1', 'checkpoint_ns': '', 'checkpoint_id': '1ef89ef7-aa00-6002-8007-988902130168'}}, tasks=()) \n",
      "\n",
      "StateSnapshot(values={'count': 0}, next=(), config={'configurable': {'thread_id': '1', 'checkpoint_ns': '', 'checkpoint_id': '1ef89ef7-aa00-6002-8007-988902130168'}}, metadata={'source': 'loop', 'writes': None, 'step': 7, 'parents': {}}, created_at='2024-10-14T05:45:11.926967+00:00', parent_config={'configurable': {'thread_id': '1', 'checkpoint_ns': '', 'checkpoint_id': '1ef89ef7-a9fe-657c-8006-d4c7e967b42c'}}, tasks=()) \n",
      "\n",
      "StateSnapshot(values={'count': 0}, next=('__start__',), config={'configurable': {'thread_id': '1', 'checkpoint_ns': '', 'checkpoint_id': '1ef89ef7-a9fe-657c-8006-d4c7e967b42c'}}, metadata={'source': 'input', 'writes': {'__start__': {'messages': [HumanMessage(content='What is the weather in sf?', additional_kwargs={}, response_metadata={})]}}, 'step': 6, 'parents': {}}, created_at='2024-10-14T05:45:11.926290+00:00', parent_config={'configurable': {'thread_id': '1', 'checkpoint_ns': '', 'checkpoint_id': '1ef89ef6-057d-6088-8005-02d57922bedc'}}, tasks=(PregelTask(id='af470b01-6a4b-1ff3-3db8-3267046f4719', name='__start__', path=('__pregel_pull', '__start__'), error=None, interrupts=(), state=None),)) \n",
      "\n",
      "StateSnapshot(values={'count': 0}, next=(), config={'configurable': {'thread_id': '1', 'checkpoint_ns': '', 'checkpoint_id': '1ef89ef6-057d-6088-8005-02d57922bedc'}}, metadata={'source': 'loop', 'writes': None, 'step': 5, 'parents': {}}, created_at='2024-10-14T05:44:27.833050+00:00', parent_config={'configurable': {'thread_id': '1', 'checkpoint_ns': '', 'checkpoint_id': '1ef89ef6-0577-60b0-8004-44b0957172f2'}}, tasks=()) \n",
      "\n",
      "StateSnapshot(values={'count': 0}, next=('__start__',), config={'configurable': {'thread_id': '1', 'checkpoint_ns': '', 'checkpoint_id': '1ef89ef6-0577-60b0-8004-44b0957172f2'}}, metadata={'source': 'input', 'writes': {'__start__': {'messages': [HumanMessage(content='What about in la?', additional_kwargs={}, response_metadata={})]}}, 'step': 4, 'parents': {}}, created_at='2024-10-14T05:44:27.830623+00:00', parent_config={'configurable': {'thread_id': '1', 'checkpoint_ns': '', 'checkpoint_id': '1ef89ef6-052b-6f97-8003-b8be35bb08a8'}}, tasks=(PregelTask(id='aba0756c-5383-7d1b-00ef-c20a85f94f04', name='__start__', path=('__pregel_pull', '__start__'), error=None, interrupts=(), state=None),)) \n",
      "\n",
      "StateSnapshot(values={'count': 0}, next=(), config={'configurable': {'thread_id': '1', 'checkpoint_ns': '', 'checkpoint_id': '1ef89ef6-052b-6f97-8003-b8be35bb08a8'}}, metadata={'source': 'loop', 'writes': {'llm': {'messages': [AIMessage(content=\"I'm sorry, but I encountered an error while trying to retrieve the weather information for San Francisco. It seems like there was an issue with the search engine I used.\", additional_kwargs={}, response_metadata={'token_usage': {'completion_tokens': 35, 'prompt_tokens': 424, 'total_tokens': 459, 'completion_time': 0.109340951, 'prompt_time': 0.029438444, 'queue_time': 0.0038827020000000018, 'total_time': 0.138779395}, 'model_name': 'llama3-groq-70b-8192-tool-use-preview', 'system_fingerprint': 'fp_ee4b521143', 'finish_reason': 'stop', 'logprobs': None}, id='run-f297ed51-9349-4a27-a9ae-d77f8f965f7d-0', usage_metadata={'input_tokens': 424, 'output_tokens': 35, 'total_tokens': 459})]}}, 'step': 3, 'parents': {}}, created_at='2024-10-14T05:44:27.799872+00:00', parent_config={'configurable': {'thread_id': '1', 'checkpoint_ns': '', 'checkpoint_id': '1ef89ef5-ffa4-6c01-8002-c5373ee64f26'}}, tasks=()) \n",
      "\n",
      "StateSnapshot(values={'count': 0}, next=(), config={'configurable': {'thread_id': '1', 'checkpoint_ns': '', 'checkpoint_id': '1ef89ef5-ffa4-6c01-8002-c5373ee64f26'}}, metadata={'source': 'loop', 'writes': {'action': {'messages': [ToolMessage(content='AttributeError(\"\\'FieldInfo\\' object has no attribute \\'results\\'\")', name='tavily_search_results_json', tool_call_id='call_2knh'), ToolMessage(content='AttributeError(\"\\'FieldInfo\\' object has no attribute \\'results\\'\")', name='tavily_search_results_json', tool_call_id='call_k5mp')]}}, 'step': 2, 'parents': {}}, created_at='2024-10-14T05:44:27.220238+00:00', parent_config={'configurable': {'thread_id': '1', 'checkpoint_ns': '', 'checkpoint_id': '1ef89ef5-ff9e-6c23-8001-42afa5f29c4c'}}, tasks=()) \n",
      "\n",
      "StateSnapshot(values={'count': 0}, next=(), config={'configurable': {'thread_id': '1', 'checkpoint_ns': '', 'checkpoint_id': '1ef89ef5-ff9e-6c23-8001-42afa5f29c4c'}}, metadata={'source': 'loop', 'writes': {'llm': {'messages': [AIMessage(content='', additional_kwargs={'tool_calls': [{'id': 'call_2knh', 'function': {'arguments': '{\"query\": \"weather in sf\"}', 'name': 'tavily_search_results_json'}, 'type': 'function'}, {'id': 'call_k5mp', 'function': {'arguments': '{\"query\": \"current weather in san francisco\"}', 'name': 'tavily_search_results_json'}, 'type': 'function'}]}, response_metadata={'token_usage': {'completion_tokens': 67, 'prompt_tokens': 293, 'total_tokens': 360, 'completion_time': 0.211306957, 'prompt_time': 0.029867663, 'queue_time': 0.003321405000000003, 'total_time': 0.24117462}, 'model_name': 'llama3-groq-70b-8192-tool-use-preview', 'system_fingerprint': 'fp_ee4b521143', 'finish_reason': 'tool_calls', 'logprobs': None}, id='run-0423a708-2810-4630-b794-4da33672ecfb-0', tool_calls=[{'name': 'tavily_search_results_json', 'args': {'query': 'weather in sf'}, 'id': 'call_2knh', 'type': 'tool_call'}, {'name': 'tavily_search_results_json', 'args': {'query': 'current weather in san francisco'}, 'id': 'call_k5mp', 'type': 'tool_call'}], usage_metadata={'input_tokens': 293, 'output_tokens': 67, 'total_tokens': 360})]}}, 'step': 1, 'parents': {}}, created_at='2024-10-14T05:44:27.217775+00:00', parent_config={'configurable': {'thread_id': '1', 'checkpoint_ns': '', 'checkpoint_id': '1ef89ef5-f65f-6f9f-8000-1b3addb29910'}}, tasks=()) \n",
      "\n",
      "StateSnapshot(values={'count': 0}, next=(), config={'configurable': {'thread_id': '1', 'checkpoint_ns': '', 'checkpoint_id': '1ef89ef5-f65f-6f9f-8000-1b3addb29910'}}, metadata={'source': 'loop', 'writes': None, 'step': 0, 'parents': {}}, created_at='2024-10-14T05:44:26.248374+00:00', parent_config={'configurable': {'thread_id': '1', 'checkpoint_ns': '', 'checkpoint_id': '1ef89ef5-f65d-61ad-bfff-703fcec44adf'}}, tasks=()) \n",
      "\n",
      "StateSnapshot(values={'count': 0}, next=('__start__',), config={'configurable': {'thread_id': '1', 'checkpoint_ns': '', 'checkpoint_id': '1ef89ef5-f65d-61ad-bfff-703fcec44adf'}}, metadata={'source': 'input', 'writes': {'__start__': {'messages': [HumanMessage(content='What is the weather in sf?', additional_kwargs={}, response_metadata={})]}}, 'step': -1, 'parents': {}}, created_at='2024-10-14T05:44:26.247202+00:00', parent_config=None, tasks=(PregelTask(id='24823840-5d0b-07b1-d1d5-6cb8405d1164', name='__start__', path=('__pregel_pull', '__start__'), error=None, interrupts=(), state=None),)) \n",
      "\n"
     ]
    }
   ],
   "source": [
    "thread = {\"configurable\": {\"thread_id\": str(1)}}\n",
    "for state in graph.get_state_history(thread):\n",
    "    print(state,\"\\n\")"
   ]
  },
  {
   "cell_type": "markdown",
   "id": "d4653f91-761c-4185-8ca2-83de758308c7",
   "metadata": {},
   "source": [
    "### Modify State\n",
    "Let's start by starting a fresh thread and running to clean out history."
   ]
  },
  {
   "cell_type": "code",
   "execution_count": 73,
   "id": "0eaf346c-ce22-4b6a-b18f-d200dfd991de",
   "metadata": {
    "height": 47
   },
   "outputs": [
    {
     "name": "stdout",
     "output_type": "stream",
     "text": [
      "node1, count:0\n",
      "node2, count:1\n",
      "node1, count:2\n",
      "node2, count:3\n"
     ]
    },
    {
     "data": {
      "text/plain": [
       "{'lnode': 'node_2', 'scratch': 'hi', 'count': 4}"
      ]
     },
     "execution_count": 73,
     "metadata": {},
     "output_type": "execute_result"
    }
   ],
   "source": [
    "thread2 = {\"configurable\": {\"thread_id\": str(2)}}\n",
    "graph.invoke({\"count\":0, \"scratch\":\"hi\"},thread2)"
   ]
  },
  {
   "cell_type": "code",
   "execution_count": 74,
   "id": "90fc1797-25e6-4931-b173-2e520b71c372",
   "metadata": {
    "height": 64
   },
   "outputs": [
    {
     "data": {
      "image/jpeg": "[encoded data removed]",
      "text/plain": [
       "<IPython.core.display.Image object>"
      ]
     },
     "execution_count": 74,
     "metadata": {},
     "output_type": "execute_result"
    }
   ],
   "source": [
    "from IPython.display import Image\n",
    "\n",
    "Image(graph.get_graph().draw_mermaid_png())"
   ]
  },
  {
   "cell_type": "code",
   "execution_count": 75,
   "id": "4ede9215-3133-4ad9-8dd5-6a8288ebe055",
   "metadata": {
    "height": 81
   },
   "outputs": [
    {
     "name": "stdout",
     "output_type": "stream",
     "text": [
      "{'configurable': {'thread_id': '2', 'checkpoint_ns': '', 'checkpoint_id': '1ef89f03-4596-6aeb-800d-1fbe226d2d99'}} 4\n",
      "{'configurable': {'thread_id': '2', 'checkpoint_ns': '', 'checkpoint_id': '1ef89f03-4595-6962-800c-d2bcc20096ad'}} 3\n",
      "{'configurable': {'thread_id': '2', 'checkpoint_ns': '', 'checkpoint_id': '1ef89f03-4594-6912-800b-0b743c28fd2a'}} 2\n",
      "{'configurable': {'thread_id': '2', 'checkpoint_ns': '', 'checkpoint_id': '1ef89f03-4593-637c-800a-b7bea8a5aefd'}} 1\n",
      "{'configurable': {'thread_id': '2', 'checkpoint_ns': '', 'checkpoint_id': '1ef89f03-4591-6c54-8009-1096dcbab822'}} 0\n",
      "{'configurable': {'thread_id': '2', 'checkpoint_ns': '', 'checkpoint_id': '1ef89f03-4590-6a29-8008-179b60de052d'}} 0\n",
      "{'configurable': {'thread_id': '2', 'checkpoint_ns': '', 'checkpoint_id': '1ef89f01-aa9e-6c64-8007-f3b7e288dfdd'}} 0\n",
      "{'configurable': {'thread_id': '2', 'checkpoint_ns': '', 'checkpoint_id': '1ef89f01-a5fc-64d3-8006-a57c8ba5ed50'}} 0\n",
      "{'configurable': {'thread_id': '2', 'checkpoint_ns': '', 'checkpoint_id': '1ef89f01-a5fa-6f05-8005-cf281795d397'}} 0\n",
      "{'configurable': {'thread_id': '2', 'checkpoint_ns': '', 'checkpoint_id': '1ef89efe-cb57-636f-8004-5fa811448710'}} 0\n",
      "{'configurable': {'thread_id': '2', 'checkpoint_ns': '', 'checkpoint_id': '1ef89efe-c545-6eb5-8003-2ea85c17c02d'}} 0\n",
      "{'configurable': {'thread_id': '2', 'checkpoint_ns': '', 'checkpoint_id': '1ef89efe-c543-6af4-8002-59d26529bee5'}} 0\n",
      "{'configurable': {'thread_id': '2', 'checkpoint_ns': '', 'checkpoint_id': '1ef89efa-b28a-669c-8001-1d4f9f6a4c8b'}} 0\n",
      "{'configurable': {'thread_id': '2', 'checkpoint_ns': '', 'checkpoint_id': '1ef89efa-aa9c-6d36-8000-0989346b20cd'}} 0\n",
      "{'configurable': {'thread_id': '2', 'checkpoint_ns': '', 'checkpoint_id': '1ef89efa-aa9a-6f6e-bfff-785ec6f62efd'}} 0\n"
     ]
    }
   ],
   "source": [
    "states2 = []\n",
    "for state in graph.get_state_history(thread2):\n",
    "    states2.append(state.config)\n",
    "    print(state.config, state.values['count'])   "
   ]
  },
  {
   "cell_type": "markdown",
   "id": "23ab2c5f-cb1d-4851-8925-ce0af1f12a40",
   "metadata": {},
   "source": [
    "Start by grabbing a state."
   ]
  },
  {
   "cell_type": "code",
   "execution_count": 76,
   "id": "65313f6a-c7a9-49e3-aab2-0eb905e74a91",
   "metadata": {
    "height": 47
   },
   "outputs": [
    {
     "data": {
      "text/plain": [
       "StateSnapshot(values={'count': 0}, next=(), config={'configurable': {'thread_id': '2', 'checkpoint_ns': '', 'checkpoint_id': '1ef89efa-b28a-669c-8001-1d4f9f6a4c8b'}}, metadata={'source': 'loop', 'writes': {'llm': {'messages': [AIMessage(content='', additional_kwargs={'tool_calls': [{'id': 'call_3tpn', 'function': {'arguments': '{\"query\": \"weather in LA\"}', 'name': 'tavily_search_results_json'}, 'type': 'function'}]}, response_metadata={'token_usage': {'completion_tokens': 32, 'prompt_tokens': 292, 'total_tokens': 324, 'completion_time': 0.099345351, 'prompt_time': 0.022563344, 'queue_time': 0.010916412, 'total_time': 0.121908695}, 'model_name': 'llama3-groq-70b-8192-tool-use-preview', 'system_fingerprint': 'fp_ee4b521143', 'finish_reason': 'tool_calls', 'logprobs': None}, id='run-7989240d-ae22-4473-bc60-e72076900089-0', tool_calls=[{'name': 'tavily_search_results_json', 'args': {'query': 'weather in LA'}, 'id': 'call_3tpn', 'type': 'tool_call'}], usage_metadata={'input_tokens': 292, 'output_tokens': 32, 'total_tokens': 324})]}}, 'step': 1, 'parents': {}}, created_at='2024-10-14T05:46:33.353079+00:00', parent_config={'configurable': {'thread_id': '2', 'checkpoint_ns': '', 'checkpoint_id': '1ef89efa-aa9c-6d36-8000-0989346b20cd'}}, tasks=())"
      ]
     },
     "execution_count": 76,
     "metadata": {},
     "output_type": "execute_result"
    }
   ],
   "source": [
    "save_state = graph.get_state(states2[-3])\n",
    "save_state"
   ]
  },
  {
   "cell_type": "markdown",
   "id": "c81b354b-8c2d-4150-9150-ac9d8486af02",
   "metadata": {},
   "source": [
    "Now modify the values. One subtle item to note: Recall when agent state was defined, `count` used `operator.add` to indicate that values are *added* to the current value. Here, `-3` will be added to the current count value rather than replace it."
   ]
  },
  {
   "cell_type": "code",
   "execution_count": 77,
   "id": "dae6527b-912f-4f86-a07b-1fae684aaa77",
   "metadata": {
    "height": 64
   },
   "outputs": [
    {
     "data": {
      "text/plain": [
       "StateSnapshot(values={'count': -3, 'scratch': 'hello'}, next=(), config={'configurable': {'thread_id': '2', 'checkpoint_ns': '', 'checkpoint_id': '1ef89efa-b28a-669c-8001-1d4f9f6a4c8b'}}, metadata={'source': 'loop', 'writes': {'llm': {'messages': [AIMessage(content='', additional_kwargs={'tool_calls': [{'id': 'call_3tpn', 'function': {'arguments': '{\"query\": \"weather in LA\"}', 'name': 'tavily_search_results_json'}, 'type': 'function'}]}, response_metadata={'token_usage': {'completion_tokens': 32, 'prompt_tokens': 292, 'total_tokens': 324, 'completion_time': 0.099345351, 'prompt_time': 0.022563344, 'queue_time': 0.010916412, 'total_time': 0.121908695}, 'model_name': 'llama3-groq-70b-8192-tool-use-preview', 'system_fingerprint': 'fp_ee4b521143', 'finish_reason': 'tool_calls', 'logprobs': None}, id='run-7989240d-ae22-4473-bc60-e72076900089-0', tool_calls=[{'name': 'tavily_search_results_json', 'args': {'query': 'weather in LA'}, 'id': 'call_3tpn', 'type': 'tool_call'}], usage_metadata={'input_tokens': 292, 'output_tokens': 32, 'total_tokens': 324})]}}, 'step': 1, 'parents': {}}, created_at='2024-10-14T05:46:33.353079+00:00', parent_config={'configurable': {'thread_id': '2', 'checkpoint_ns': '', 'checkpoint_id': '1ef89efa-aa9c-6d36-8000-0989346b20cd'}}, tasks=())"
      ]
     },
     "execution_count": 77,
     "metadata": {},
     "output_type": "execute_result"
    }
   ],
   "source": [
    "save_state.values[\"count\"] = -3\n",
    "save_state.values[\"scratch\"] = \"hello\"\n",
    "save_state"
   ]
  },
  {
   "cell_type": "markdown",
   "id": "904bb1eb-2e39-472f-ae56-d8e95e2f1ab6",
   "metadata": {},
   "source": [
    "Now update the state. This creates a new entry at the *top*, or *latest* entry in memory. This will become the current state."
   ]
  },
  {
   "cell_type": "code",
   "execution_count": 78,
   "id": "bcd78670-b119-45fa-934b-2ce2d477b4c2",
   "metadata": {
    "height": 30
   },
   "outputs": [
    {
     "data": {
      "text/plain": [
       "{'configurable': {'thread_id': '2',\n",
       "  'checkpoint_ns': '',\n",
       "  'checkpoint_id': '1ef89f03-7fd5-6cb4-800e-ed30b8aef67c'}}"
      ]
     },
     "execution_count": 78,
     "metadata": {},
     "output_type": "execute_result"
    }
   ],
   "source": [
    "graph.update_state(thread2,save_state.values)"
   ]
  },
  {
   "cell_type": "markdown",
   "id": "1bb3beed-1c44-4364-bde9-b29ea5e8ca30",
   "metadata": {},
   "source": [
    "Current state is at the top. You can match the `thread_ts`.\n",
    "Notice the `parent_config`, `thread_ts` of the new node - it is the previous node."
   ]
  },
  {
   "cell_type": "code",
   "execution_count": 79,
   "id": "231c7011-afe4-44bf-9e19-16220004912f",
   "metadata": {
    "height": 95
   },
   "outputs": [
    {
     "name": "stdout",
     "output_type": "stream",
     "text": [
      "StateSnapshot(values={'lnode': 'node_2', 'scratch': 'hello', 'count': 1}, next=('Node1',), config={'configurable': {'thread_id': '2', 'checkpoint_ns': '', 'checkpoint_id': '1ef89f03-7fd5-6cb4-800e-ed30b8aef67c'}}, metadata={'source': 'update', 'step': 14, 'writes': {'Node2': {'count': -3, 'scratch': 'hello'}}, 'parents': {}}, created_at='2024-10-14T05:50:29.628208+00:00', parent_config={'configurable': {'thread_id': '2', 'checkpoint_ns': '', 'checkpoint_id': '1ef89f03-4596-6aeb-800d-1fbe226d2d99'}}, tasks=(PregelTask(id='ba93ea95-e1b2-98b7-97c5-60fd5cc73539', name='Node1', path=('__pregel_pull', 'Node1'), error=None, interrupts=(), state=None),)) \n",
      "\n",
      "StateSnapshot(values={'lnode': 'node_2', 'scratch': 'hi', 'count': 4}, next=(), config={'configurable': {'thread_id': '2', 'checkpoint_ns': '', 'checkpoint_id': '1ef89f03-4596-6aeb-800d-1fbe226d2d99'}}, metadata={'source': 'loop', 'writes': {'Node2': {'lnode': 'node_2', 'count': 1}}, 'step': 13, 'parents': {}}, created_at='2024-10-14T05:50:23.520625+00:00', parent_config={'configurable': {'thread_id': '2', 'checkpoint_ns': '', 'checkpoint_id': '1ef89f03-4595-6962-800c-d2bcc20096ad'}}, tasks=()) \n",
      "\n",
      "StateSnapshot(values={'lnode': 'node_1', 'scratch': 'hi', 'count': 3}, next=('Node2',), config={'configurable': {'thread_id': '2', 'checkpoint_ns': '', 'checkpoint_id': '1ef89f03-4595-6962-800c-d2bcc20096ad'}}, metadata={'source': 'loop', 'writes': {'Node1': {'lnode': 'node_1', 'count': 1}}, 'step': 12, 'parents': {}}, created_at='2024-10-14T05:50:23.520175+00:00', parent_config={'configurable': {'thread_id': '2', 'checkpoint_ns': '', 'checkpoint_id': '1ef89f03-4594-6912-800b-0b743c28fd2a'}}, tasks=(PregelTask(id='942072fd-3b0e-396e-c6b5-d5a9cc61e691', name='Node2', path=('__pregel_pull', 'Node2'), error=None, interrupts=(), state=None),)) \n",
      "\n"
     ]
    }
   ],
   "source": [
    "for i, state in enumerate(graph.get_state_history(thread2)):\n",
    "    if i >= 3:  #print latest 3\n",
    "        break\n",
    "    print(state, '\\n')"
   ]
  },
  {
   "cell_type": "markdown",
   "id": "62d34cd8-99b6-4224-b345-fe8475f2a602",
   "metadata": {},
   "source": [
    "### Try again with `as_node`\n",
    "When writing using `update_state()`, you want to define to the graph logic which node should be assumed as the writer. What this does is allow th graph logic to find the node on the graph. After writing the values, the `next()` value is computed by travesing the graph using the new state. In this case, the state we have was written by `Node1`. The graph can then compute the next state as being `Node2`. Note that in some graphs, this may involve going through conditional edges!  Let's try this out."
   ]
  },
  {
   "cell_type": "code",
   "execution_count": 80,
   "id": "7bfda2f6-5887-40fa-a733-a4357ad857d8",
   "metadata": {
    "height": 44
   },
   "outputs": [
    {
     "data": {
      "text/plain": [
       "{'configurable': {'thread_id': '2',\n",
       "  'checkpoint_ns': '',\n",
       "  'checkpoint_id': '1ef89f03-971f-6999-800f-323c640db76b'}}"
      ]
     },
     "execution_count": 80,
     "metadata": {},
     "output_type": "execute_result"
    }
   ],
   "source": [
    "graph.update_state(thread2,save_state.values, as_node=\"Node1\")"
   ]
  },
  {
   "cell_type": "code",
   "execution_count": 81,
   "id": "0788ac0f-5f64-49b2-b335-3094bbb19143",
   "metadata": {
    "height": 95
   },
   "outputs": [
    {
     "name": "stdout",
     "output_type": "stream",
     "text": [
      "StateSnapshot(values={'lnode': 'node_2', 'scratch': 'hello', 'count': -2}, next=('Node2',), config={'configurable': {'thread_id': '2', 'checkpoint_ns': '', 'checkpoint_id': '1ef89f03-971f-6999-800f-323c640db76b'}}, metadata={'source': 'update', 'step': 15, 'writes': {'Node1': {'count': -3, 'scratch': 'hello'}}, 'parents': {}}, created_at='2024-10-14T05:50:32.070158+00:00', parent_config={'configurable': {'thread_id': '2', 'checkpoint_ns': '', 'checkpoint_id': '1ef89f03-7fd5-6cb4-800e-ed30b8aef67c'}}, tasks=(PregelTask(id='6cc7fffd-079e-3a45-7571-92001b5e4f81', name='Node2', path=('__pregel_pull', 'Node2'), error=None, interrupts=(), state=None),)) \n",
      "\n",
      "StateSnapshot(values={'lnode': 'node_2', 'scratch': 'hello', 'count': 1}, next=('Node1',), config={'configurable': {'thread_id': '2', 'checkpoint_ns': '', 'checkpoint_id': '1ef89f03-7fd5-6cb4-800e-ed30b8aef67c'}}, metadata={'source': 'update', 'step': 14, 'writes': {'Node2': {'count': -3, 'scratch': 'hello'}}, 'parents': {}}, created_at='2024-10-14T05:50:29.628208+00:00', parent_config={'configurable': {'thread_id': '2', 'checkpoint_ns': '', 'checkpoint_id': '1ef89f03-4596-6aeb-800d-1fbe226d2d99'}}, tasks=(PregelTask(id='ba93ea95-e1b2-98b7-97c5-60fd5cc73539', name='Node1', path=('__pregel_pull', 'Node1'), error=None, interrupts=(), state=None),)) \n",
      "\n",
      "StateSnapshot(values={'lnode': 'node_2', 'scratch': 'hi', 'count': 4}, next=(), config={'configurable': {'thread_id': '2', 'checkpoint_ns': '', 'checkpoint_id': '1ef89f03-4596-6aeb-800d-1fbe226d2d99'}}, metadata={'source': 'loop', 'writes': {'Node2': {'lnode': 'node_2', 'count': 1}}, 'step': 13, 'parents': {}}, created_at='2024-10-14T05:50:23.520625+00:00', parent_config={'configurable': {'thread_id': '2', 'checkpoint_ns': '', 'checkpoint_id': '1ef89f03-4595-6962-800c-d2bcc20096ad'}}, tasks=()) \n",
      "\n"
     ]
    }
   ],
   "source": [
    "for i, state in enumerate(graph.get_state_history(thread2)):\n",
    "    if i >= 3:  #print latest 3\n",
    "        break\n",
    "    print(state, '\\n')"
   ]
  },
  {
   "cell_type": "markdown",
   "id": "18a8f52e-d1a6-46a0-a519-6fda0cb91624",
   "metadata": {},
   "source": [
    "`invoke` will run from the current state if not given a particular `thread_ts`. This is now the entry that was just added."
   ]
  },
  {
   "cell_type": "code",
   "execution_count": 82,
   "id": "9650d355-07c1-4a7d-a21d-4231673a7ee9",
   "metadata": {
    "height": 30
   },
   "outputs": [
    {
     "name": "stdout",
     "output_type": "stream",
     "text": [
      "node2, count:-2\n",
      "node1, count:-1\n",
      "node2, count:0\n",
      "node1, count:1\n",
      "node2, count:2\n"
     ]
    },
    {
     "data": {
      "text/plain": [
       "{'lnode': 'node_2', 'scratch': 'hello', 'count': 3}"
      ]
     },
     "execution_count": 82,
     "metadata": {},
     "output_type": "execute_result"
    }
   ],
   "source": [
    "graph.invoke(None,thread2)"
   ]
  },
  {
   "cell_type": "markdown",
   "id": "c59d3069-8fe7-4a05-9bfd-8e3a2e4590ad",
   "metadata": {},
   "source": [
    "Print out the state history, notice the `scratch` value change on the latest entries."
   ]
  },
  {
   "cell_type": "code",
   "execution_count": 83,
   "id": "35088704-2b18-4d44-ba0e-dccbfde6ed9e",
   "metadata": {
    "height": 47
   },
   "outputs": [
    {
     "name": "stdout",
     "output_type": "stream",
     "text": [
      "StateSnapshot(values={'lnode': 'node_2', 'scratch': 'hello', 'count': 3}, next=(), config={'configurable': {'thread_id': '2', 'checkpoint_ns': '', 'checkpoint_id': '1ef89f03-a9ab-6f63-8014-b03728f7cf25'}}, metadata={'source': 'loop', 'writes': {'Node2': {'lnode': 'node_2', 'count': 1}}, 'step': 20, 'parents': {}}, created_at='2024-10-14T05:50:34.015100+00:00', parent_config={'configurable': {'thread_id': '2', 'checkpoint_ns': '', 'checkpoint_id': '1ef89f03-a9aa-6d3a-8013-dbd55fdd474e'}}, tasks=()) \n",
      "\n",
      "StateSnapshot(values={'lnode': 'node_1', 'scratch': 'hello', 'count': 2}, next=('Node2',), config={'configurable': {'thread_id': '2', 'checkpoint_ns': '', 'checkpoint_id': '1ef89f03-a9aa-6d3a-8013-dbd55fdd474e'}}, metadata={'source': 'loop', 'writes': {'Node1': {'lnode': 'node_1', 'count': 1}}, 'step': 19, 'parents': {}}, created_at='2024-10-14T05:50:34.014635+00:00', parent_config={'configurable': {'thread_id': '2', 'checkpoint_ns': '', 'checkpoint_id': '1ef89f03-a9a9-689f-8012-3849021c47f3'}}, tasks=(PregelTask(id='1101a288-0aaf-ce94-f2fb-50d4e7c401ea', name='Node2', path=('__pregel_pull', 'Node2'), error=None, interrupts=(), state=None),)) \n",
      "\n",
      "StateSnapshot(values={'lnode': 'node_2', 'scratch': 'hello', 'count': 1}, next=('Node1',), config={'configurable': {'thread_id': '2', 'checkpoint_ns': '', 'checkpoint_id': '1ef89f03-a9a9-689f-8012-3849021c47f3'}}, metadata={'source': 'loop', 'writes': {'Node2': {'lnode': 'node_2', 'count': 1}}, 'step': 18, 'parents': {}}, created_at='2024-10-14T05:50:34.014107+00:00', parent_config={'configurable': {'thread_id': '2', 'checkpoint_ns': '', 'checkpoint_id': '1ef89f03-a9a7-673a-8011-a8c6f7b31f8e'}}, tasks=(PregelTask(id='2b0ce9b7-6f84-9346-d765-0745c2d0b266', name='Node1', path=('__pregel_pull', 'Node1'), error=None, interrupts=(), state=None),)) \n",
      "\n",
      "StateSnapshot(values={'lnode': 'node_1', 'scratch': 'hello', 'count': 0}, next=('Node2',), config={'configurable': {'thread_id': '2', 'checkpoint_ns': '', 'checkpoint_id': '1ef89f03-a9a7-673a-8011-a8c6f7b31f8e'}}, metadata={'source': 'loop', 'writes': {'Node1': {'lnode': 'node_1', 'count': 1}}, 'step': 17, 'parents': {}}, created_at='2024-10-14T05:50:34.013253+00:00', parent_config={'configurable': {'thread_id': '2', 'checkpoint_ns': '', 'checkpoint_id': '1ef89f03-a9a6-63c5-8010-2c63ce01fc11'}}, tasks=(PregelTask(id='499f89b5-489f-8c19-982f-4f5d8a359ce3', name='Node2', path=('__pregel_pull', 'Node2'), error=None, interrupts=(), state=None),)) \n",
      "\n",
      "StateSnapshot(values={'lnode': 'node_2', 'scratch': 'hello', 'count': -1}, next=('Node1',), config={'configurable': {'thread_id': '2', 'checkpoint_ns': '', 'checkpoint_id': '1ef89f03-a9a6-63c5-8010-2c63ce01fc11'}}, metadata={'source': 'loop', 'writes': {'Node2': {'lnode': 'node_2', 'count': 1}}, 'step': 16, 'parents': {}}, created_at='2024-10-14T05:50:34.012753+00:00', parent_config={'configurable': {'thread_id': '2', 'checkpoint_ns': '', 'checkpoint_id': '1ef89f03-971f-6999-800f-323c640db76b'}}, tasks=(PregelTask(id='41a8cb1f-6c7e-0856-6d25-91759e2c893c', name='Node1', path=('__pregel_pull', 'Node1'), error=None, interrupts=(), state=None),)) \n",
      "\n",
      "StateSnapshot(values={'lnode': 'node_2', 'scratch': 'hello', 'count': -2}, next=('Node2',), config={'configurable': {'thread_id': '2', 'checkpoint_ns': '', 'checkpoint_id': '1ef89f03-971f-6999-800f-323c640db76b'}}, metadata={'source': 'update', 'step': 15, 'writes': {'Node1': {'count': -3, 'scratch': 'hello'}}, 'parents': {}}, created_at='2024-10-14T05:50:32.070158+00:00', parent_config={'configurable': {'thread_id': '2', 'checkpoint_ns': '', 'checkpoint_id': '1ef89f03-7fd5-6cb4-800e-ed30b8aef67c'}}, tasks=(PregelTask(id='6cc7fffd-079e-3a45-7571-92001b5e4f81', name='Node2', path=('__pregel_pull', 'Node2'), error=None, interrupts=(), state=None),)) \n",
      "\n",
      "StateSnapshot(values={'lnode': 'node_2', 'scratch': 'hello', 'count': 1}, next=('Node1',), config={'configurable': {'thread_id': '2', 'checkpoint_ns': '', 'checkpoint_id': '1ef89f03-7fd5-6cb4-800e-ed30b8aef67c'}}, metadata={'source': 'update', 'step': 14, 'writes': {'Node2': {'count': -3, 'scratch': 'hello'}}, 'parents': {}}, created_at='2024-10-14T05:50:29.628208+00:00', parent_config={'configurable': {'thread_id': '2', 'checkpoint_ns': '', 'checkpoint_id': '1ef89f03-4596-6aeb-800d-1fbe226d2d99'}}, tasks=(PregelTask(id='ba93ea95-e1b2-98b7-97c5-60fd5cc73539', name='Node1', path=('__pregel_pull', 'Node1'), error=None, interrupts=(), state=None),)) \n",
      "\n",
      "StateSnapshot(values={'lnode': 'node_2', 'scratch': 'hi', 'count': 4}, next=(), config={'configurable': {'thread_id': '2', 'checkpoint_ns': '', 'checkpoint_id': '1ef89f03-4596-6aeb-800d-1fbe226d2d99'}}, metadata={'source': 'loop', 'writes': {'Node2': {'lnode': 'node_2', 'count': 1}}, 'step': 13, 'parents': {}}, created_at='2024-10-14T05:50:23.520625+00:00', parent_config={'configurable': {'thread_id': '2', 'checkpoint_ns': '', 'checkpoint_id': '1ef89f03-4595-6962-800c-d2bcc20096ad'}}, tasks=()) \n",
      "\n",
      "StateSnapshot(values={'lnode': 'node_1', 'scratch': 'hi', 'count': 3}, next=('Node2',), config={'configurable': {'thread_id': '2', 'checkpoint_ns': '', 'checkpoint_id': '1ef89f03-4595-6962-800c-d2bcc20096ad'}}, metadata={'source': 'loop', 'writes': {'Node1': {'lnode': 'node_1', 'count': 1}}, 'step': 12, 'parents': {}}, created_at='2024-10-14T05:50:23.520175+00:00', parent_config={'configurable': {'thread_id': '2', 'checkpoint_ns': '', 'checkpoint_id': '1ef89f03-4594-6912-800b-0b743c28fd2a'}}, tasks=(PregelTask(id='942072fd-3b0e-396e-c6b5-d5a9cc61e691', name='Node2', path=('__pregel_pull', 'Node2'), error=None, interrupts=(), state=None),)) \n",
      "\n",
      "StateSnapshot(values={'lnode': 'node_2', 'scratch': 'hi', 'count': 2}, next=('Node1',), config={'configurable': {'thread_id': '2', 'checkpoint_ns': '', 'checkpoint_id': '1ef89f03-4594-6912-800b-0b743c28fd2a'}}, metadata={'source': 'loop', 'writes': {'Node2': {'lnode': 'node_2', 'count': 1}}, 'step': 11, 'parents': {}}, created_at='2024-10-14T05:50:23.519755+00:00', parent_config={'configurable': {'thread_id': '2', 'checkpoint_ns': '', 'checkpoint_id': '1ef89f03-4593-637c-800a-b7bea8a5aefd'}}, tasks=(PregelTask(id='f5bf61a7-9c4b-0fa9-97d8-f02c3127d2c0', name='Node1', path=('__pregel_pull', 'Node1'), error=None, interrupts=(), state=None),)) \n",
      "\n",
      "StateSnapshot(values={'lnode': 'node_1', 'scratch': 'hi', 'count': 1}, next=('Node2',), config={'configurable': {'thread_id': '2', 'checkpoint_ns': '', 'checkpoint_id': '1ef89f03-4593-637c-800a-b7bea8a5aefd'}}, metadata={'source': 'loop', 'writes': {'Node1': {'lnode': 'node_1', 'count': 1}}, 'step': 10, 'parents': {}}, created_at='2024-10-14T05:50:23.519201+00:00', parent_config={'configurable': {'thread_id': '2', 'checkpoint_ns': '', 'checkpoint_id': '1ef89f03-4591-6c54-8009-1096dcbab822'}}, tasks=(PregelTask(id='efeb038f-7677-c9a1-fd4a-6f128444461c', name='Node2', path=('__pregel_pull', 'Node2'), error=None, interrupts=(), state=None),)) \n",
      "\n",
      "StateSnapshot(values={'scratch': 'hi', 'count': 0}, next=('Node1',), config={'configurable': {'thread_id': '2', 'checkpoint_ns': '', 'checkpoint_id': '1ef89f03-4591-6c54-8009-1096dcbab822'}}, metadata={'source': 'loop', 'writes': None, 'step': 9, 'parents': {}}, created_at='2024-10-14T05:50:23.518613+00:00', parent_config={'configurable': {'thread_id': '2', 'checkpoint_ns': '', 'checkpoint_id': '1ef89f03-4590-6a29-8008-179b60de052d'}}, tasks=(PregelTask(id='964471da-9f4c-7e47-3319-40258a1a4310', name='Node1', path=('__pregel_pull', 'Node1'), error=None, interrupts=(), state=None),)) \n",
      "\n",
      "StateSnapshot(values={'count': 0}, next=('__start__',), config={'configurable': {'thread_id': '2', 'checkpoint_ns': '', 'checkpoint_id': '1ef89f03-4590-6a29-8008-179b60de052d'}}, metadata={'source': 'input', 'writes': {'__start__': {'count': 0, 'scratch': 'hi'}}, 'step': 8, 'parents': {}}, created_at='2024-10-14T05:50:23.518148+00:00', parent_config={'configurable': {'thread_id': '2', 'checkpoint_ns': '', 'checkpoint_id': '1ef89f01-aa9e-6c64-8007-f3b7e288dfdd'}}, tasks=(PregelTask(id='15d4113c-4a5c-9a35-0bc4-99987a13ad15', name='__start__', path=('__pregel_pull', '__start__'), error=None, interrupts=(), state=None),)) \n",
      "\n",
      "StateSnapshot(values={'count': 0}, next=(), config={'configurable': {'thread_id': '2', 'checkpoint_ns': '', 'checkpoint_id': '1ef89f01-aa9e-6c64-8007-f3b7e288dfdd'}}, metadata={'source': 'loop', 'writes': {'llm': {'messages': [AIMessage(content='', additional_kwargs={'tool_calls': [{'id': 'call_84w2', 'function': {'arguments': '{\"query\":\"weather in Los Angeles\"}', 'name': 'tavily_search_results_json'}, 'type': 'function'}]}, response_metadata={'token_usage': {'completion_tokens': 32, 'prompt_tokens': 408, 'total_tokens': 440, 'completion_time': 0.09929778, 'prompt_time': 0.027952051, 'queue_time': 0.005150935000000002, 'total_time': 0.127249831}, 'model_name': 'llama3-groq-70b-8192-tool-use-preview', 'system_fingerprint': 'fp_ee4b521143', 'finish_reason': 'tool_calls', 'logprobs': None}, id='run-52aa435f-50eb-459f-b545-10ee8cd9ab28-0', tool_calls=[{'name': 'tavily_search_results_json', 'args': {'query': 'weather in Los Angeles'}, 'id': 'call_84w2', 'type': 'tool_call'}], usage_metadata={'input_tokens': 408, 'output_tokens': 32, 'total_tokens': 440})]}}, 'step': 7, 'parents': {}}, created_at='2024-10-14T05:49:40.427463+00:00', parent_config={'configurable': {'thread_id': '2', 'checkpoint_ns': '', 'checkpoint_id': '1ef89f01-a5fc-64d3-8006-a57c8ba5ed50'}}, tasks=()) \n",
      "\n",
      "StateSnapshot(values={'count': 0}, next=(), config={'configurable': {'thread_id': '2', 'checkpoint_ns': '', 'checkpoint_id': '1ef89f01-a5fc-64d3-8006-a57c8ba5ed50'}}, metadata={'source': 'loop', 'writes': None, 'step': 6, 'parents': {}}, created_at='2024-10-14T05:49:39.941484+00:00', parent_config={'configurable': {'thread_id': '2', 'checkpoint_ns': '', 'checkpoint_id': '1ef89f01-a5fa-6f05-8005-cf281795d397'}}, tasks=()) \n",
      "\n",
      "StateSnapshot(values={'count': 0}, next=('__start__',), config={'configurable': {'thread_id': '2', 'checkpoint_ns': '', 'checkpoint_id': '1ef89f01-a5fa-6f05-8005-cf281795d397'}}, metadata={'source': 'input', 'writes': {'__start__': {'messages': [HumanMessage(content='Whats the weather in LA?', additional_kwargs={}, response_metadata={})]}}, 'step': 5, 'parents': {}}, created_at='2024-10-14T05:49:39.940922+00:00', parent_config={'configurable': {'thread_id': '2', 'checkpoint_ns': '', 'checkpoint_id': '1ef89efe-cb57-636f-8004-5fa811448710'}}, tasks=(PregelTask(id='91f05b65-68d3-9319-3cab-5b3da5fa5c5e', name='__start__', path=('__pregel_pull', '__start__'), error=None, interrupts=(), state=None),)) \n",
      "\n",
      "StateSnapshot(values={'count': 0}, next=(), config={'configurable': {'thread_id': '2', 'checkpoint_ns': '', 'checkpoint_id': '1ef89efe-cb57-636f-8004-5fa811448710'}}, metadata={'source': 'loop', 'writes': {'llm': {'messages': [AIMessage(content='', additional_kwargs={'tool_calls': [{'id': 'call_xfjr', 'function': {'arguments': '{\"query\": \"weather in LA\"}', 'name': 'tavily_search_results_json'}, 'type': 'function'}, {'id': 'call_9nby', 'function': {'arguments': '{\"query\": \"weather in Los Angeles\"}', 'name': 'tavily_search_results_json'}, 'type': 'function'}]}, response_metadata={'token_usage': {'completion_tokens': 65, 'prompt_tokens': 337, 'total_tokens': 402, 'completion_time': 0.204838075, 'prompt_time': 0.02410684, 'queue_time': 0.009263116999999998, 'total_time': 0.228944915}, 'model_name': 'llama3-groq-70b-8192-tool-use-preview', 'system_fingerprint': 'fp_ee4b521143', 'finish_reason': 'tool_calls', 'logprobs': None}, id='run-f727c8df-fb0a-45f5-9677-8ad2c3dec9b4-0', tool_calls=[{'name': 'tavily_search_results_json', 'args': {'query': 'weather in LA'}, 'id': 'call_xfjr', 'type': 'tool_call'}, {'name': 'tavily_search_results_json', 'args': {'query': 'weather in Los Angeles'}, 'id': 'call_9nby', 'type': 'tool_call'}], usage_metadata={'input_tokens': 337, 'output_tokens': 65, 'total_tokens': 402})]}}, 'step': 4, 'parents': {}}, created_at='2024-10-14T05:48:23.327761+00:00', parent_config={'configurable': {'thread_id': '2', 'checkpoint_ns': '', 'checkpoint_id': '1ef89efe-c545-6eb5-8003-2ea85c17c02d'}}, tasks=()) \n",
      "\n",
      "StateSnapshot(values={'count': 0}, next=(), config={'configurable': {'thread_id': '2', 'checkpoint_ns': '', 'checkpoint_id': '1ef89efe-c545-6eb5-8003-2ea85c17c02d'}}, metadata={'source': 'loop', 'writes': None, 'step': 3, 'parents': {}}, created_at='2024-10-14T05:48:22.691581+00:00', parent_config={'configurable': {'thread_id': '2', 'checkpoint_ns': '', 'checkpoint_id': '1ef89efe-c543-6af4-8002-59d26529bee5'}}, tasks=()) \n",
      "\n",
      "StateSnapshot(values={'count': 0}, next=('__start__',), config={'configurable': {'thread_id': '2', 'checkpoint_ns': '', 'checkpoint_id': '1ef89efe-c543-6af4-8002-59d26529bee5'}}, metadata={'source': 'input', 'writes': {'__start__': {'messages': [HumanMessage(content='Whats the weather in LA?', additional_kwargs={}, response_metadata={})]}}, 'step': 2, 'parents': {}}, created_at='2024-10-14T05:48:22.690628+00:00', parent_config={'configurable': {'thread_id': '2', 'checkpoint_ns': '', 'checkpoint_id': '1ef89efa-b28a-669c-8001-1d4f9f6a4c8b'}}, tasks=(PregelTask(id='b57bc558-db8c-83bf-52bf-9f7754c05294', name='__start__', path=('__pregel_pull', '__start__'), error=None, interrupts=(), state=None),)) \n",
      "\n",
      "StateSnapshot(values={'count': 0}, next=(), config={'configurable': {'thread_id': '2', 'checkpoint_ns': '', 'checkpoint_id': '1ef89efa-b28a-669c-8001-1d4f9f6a4c8b'}}, metadata={'source': 'loop', 'writes': {'llm': {'messages': [AIMessage(content='', additional_kwargs={'tool_calls': [{'id': 'call_3tpn', 'function': {'arguments': '{\"query\": \"weather in LA\"}', 'name': 'tavily_search_results_json'}, 'type': 'function'}]}, response_metadata={'token_usage': {'completion_tokens': 32, 'prompt_tokens': 292, 'total_tokens': 324, 'completion_time': 0.099345351, 'prompt_time': 0.022563344, 'queue_time': 0.010916412, 'total_time': 0.121908695}, 'model_name': 'llama3-groq-70b-8192-tool-use-preview', 'system_fingerprint': 'fp_ee4b521143', 'finish_reason': 'tool_calls', 'logprobs': None}, id='run-7989240d-ae22-4473-bc60-e72076900089-0', tool_calls=[{'name': 'tavily_search_results_json', 'args': {'query': 'weather in LA'}, 'id': 'call_3tpn', 'type': 'tool_call'}], usage_metadata={'input_tokens': 292, 'output_tokens': 32, 'total_tokens': 324})]}}, 'step': 1, 'parents': {}}, created_at='2024-10-14T05:46:33.353079+00:00', parent_config={'configurable': {'thread_id': '2', 'checkpoint_ns': '', 'checkpoint_id': '1ef89efa-aa9c-6d36-8000-0989346b20cd'}}, tasks=()) \n",
      "\n",
      "StateSnapshot(values={'count': 0}, next=(), config={'configurable': {'thread_id': '2', 'checkpoint_ns': '', 'checkpoint_id': '1ef89efa-aa9c-6d36-8000-0989346b20cd'}}, metadata={'source': 'loop', 'writes': None, 'step': 0, 'parents': {}}, created_at='2024-10-14T05:46:32.521849+00:00', parent_config={'configurable': {'thread_id': '2', 'checkpoint_ns': '', 'checkpoint_id': '1ef89efa-aa9a-6f6e-bfff-785ec6f62efd'}}, tasks=()) \n",
      "\n",
      "StateSnapshot(values={'count': 0}, next=('__start__',), config={'configurable': {'thread_id': '2', 'checkpoint_ns': '', 'checkpoint_id': '1ef89efa-aa9a-6f6e-bfff-785ec6f62efd'}}, metadata={'source': 'input', 'writes': {'__start__': {'messages': [HumanMessage(content='Whats the weather in LA?', additional_kwargs={}, response_metadata={})]}}, 'step': -1, 'parents': {}}, created_at='2024-10-14T05:46:32.521091+00:00', parent_config=None, tasks=(PregelTask(id='c35d2e00-fb44-ba0e-dca3-40234d613867', name='__start__', path=('__pregel_pull', '__start__'), error=None, interrupts=(), state=None),)) \n",
      "\n"
     ]
    }
   ],
   "source": [
    "for state in graph.get_state_history(thread2):\n",
    "    print(state,\"\\n\")"
   ]
  },
  {
   "cell_type": "markdown",
   "id": "a5ea1bba-cf12-4493-948b-08b300054742",
   "metadata": {},
   "source": [
    "Continue to experiment!"
   ]
  }
 ],
 "metadata": {
  "kernelspec": {
   "display_name": "Agents-4yRd6dJo",
   "language": "python",
   "name": "python3"
  },
  "language_info": {
   "codemirror_mode": {
    "name": "ipython",
    "version": 3
   },
   "file_extension": ".py",
   "mimetype": "text/x-python",
   "name": "python",
   "nbconvert_exporter": "python",
   "pygments_lexer": "ipython3",
   "version": "3.11.10"
  }
 },
 "nbformat": 4,
 "nbformat_minor": 5
}
