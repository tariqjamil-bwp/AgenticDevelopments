{
 "cells": [
  {
   "cell_type": "markdown",
   "metadata": {},
   "source": [
    "https://towardsdatascience.com/genai-with-python-coding-agents-765406d26584"
   ]
  },
  {
   "cell_type": "code",
   "execution_count": 1,
   "metadata": {},
   "outputs": [],
   "source": [
    "#from langchain_groq import ChatGroq\n",
    "from langchain_ollama import ChatOllama\n",
    "#llm = ChatGroq(model=\"llama3-70b-8192\")\n",
    "#llm_id='groq/llama-3.1-8b-instant'\n",
    "\n",
    "llm = ChatOllama(model=\"qwen2.5:3b\", temperature=0.)\n",
    "llm_id = \"ollama/qwen2.5:3b\""
   ]
  },
  {
   "cell_type": "code",
   "execution_count": 2,
   "metadata": {},
   "outputs": [
    {
     "data": {
      "text/html": [
       "<div>\n",
       "<style scoped>\n",
       "    .dataframe tbody tr th:only-of-type {\n",
       "        vertical-align: middle;\n",
       "    }\n",
       "\n",
       "    .dataframe tbody tr th {\n",
       "        vertical-align: top;\n",
       "    }\n",
       "\n",
       "    .dataframe thead th {\n",
       "        text-align: right;\n",
       "    }\n",
       "</style>\n",
       "<table border=\"1\" class=\"dataframe\">\n",
       "  <thead>\n",
       "    <tr style=\"text-align: right;\">\n",
       "      <th></th>\n",
       "      <th>PassengerId</th>\n",
       "      <th>Survived</th>\n",
       "      <th>Pclass</th>\n",
       "      <th>Name</th>\n",
       "      <th>Sex</th>\n",
       "      <th>Age</th>\n",
       "      <th>SibSp</th>\n",
       "      <th>Parch</th>\n",
       "      <th>Ticket</th>\n",
       "      <th>Fare</th>\n",
       "      <th>Cabin</th>\n",
       "      <th>Embarked</th>\n",
       "    </tr>\n",
       "  </thead>\n",
       "  <tbody>\n",
       "    <tr>\n",
       "      <th>0</th>\n",
       "      <td>1</td>\n",
       "      <td>0</td>\n",
       "      <td>3</td>\n",
       "      <td>Braund, Mr. Owen Harris</td>\n",
       "      <td>male</td>\n",
       "      <td>22.0</td>\n",
       "      <td>1</td>\n",
       "      <td>0</td>\n",
       "      <td>A/5 21171</td>\n",
       "      <td>7.2500</td>\n",
       "      <td>NaN</td>\n",
       "      <td>S</td>\n",
       "    </tr>\n",
       "    <tr>\n",
       "      <th>1</th>\n",
       "      <td>2</td>\n",
       "      <td>1</td>\n",
       "      <td>1</td>\n",
       "      <td>Cumings, Mrs. John Bradley (Florence Briggs Th...</td>\n",
       "      <td>female</td>\n",
       "      <td>38.0</td>\n",
       "      <td>1</td>\n",
       "      <td>0</td>\n",
       "      <td>PC 17599</td>\n",
       "      <td>71.2833</td>\n",
       "      <td>C85</td>\n",
       "      <td>C</td>\n",
       "    </tr>\n",
       "    <tr>\n",
       "      <th>2</th>\n",
       "      <td>3</td>\n",
       "      <td>1</td>\n",
       "      <td>3</td>\n",
       "      <td>Heikkinen, Miss. Laina</td>\n",
       "      <td>female</td>\n",
       "      <td>26.0</td>\n",
       "      <td>0</td>\n",
       "      <td>0</td>\n",
       "      <td>STON/O2. 3101282</td>\n",
       "      <td>7.9250</td>\n",
       "      <td>NaN</td>\n",
       "      <td>S</td>\n",
       "    </tr>\n",
       "  </tbody>\n",
       "</table>\n",
       "</div>"
      ],
      "text/plain": [
       "   PassengerId  Survived  Pclass  \\\n",
       "0            1         0       3   \n",
       "1            2         1       1   \n",
       "2            3         1       3   \n",
       "\n",
       "                                                Name     Sex   Age  SibSp  \\\n",
       "0                            Braund, Mr. Owen Harris    male  22.0      1   \n",
       "1  Cumings, Mrs. John Bradley (Florence Briggs Th...  female  38.0      1   \n",
       "2                             Heikkinen, Miss. Laina  female  26.0      0   \n",
       "\n",
       "   Parch            Ticket     Fare Cabin Embarked  \n",
       "0      0         A/5 21171   7.2500   NaN        S  \n",
       "1      0          PC 17599  71.2833   C85        C  \n",
       "2      0  STON/O2. 3101282   7.9250   NaN        S  "
      ]
     },
     "execution_count": 2,
     "metadata": {},
     "output_type": "execute_result"
    }
   ],
   "source": [
    "import pandas as pd\n",
    "\n",
    "dtf = pd.read_csv(\"train.csv\")\n",
    "dtf.head(3)"
   ]
  },
  {
   "cell_type": "code",
   "execution_count": 3,
   "metadata": {},
   "outputs": [
    {
     "data": {
      "text/plain": [
       "549"
      ]
     },
     "execution_count": 3,
     "metadata": {},
     "output_type": "execute_result"
    }
   ],
   "source": [
    "len(dtf[dtf[\"Survived\"]==0]) \n",
    "#> 549"
   ]
  },
  {
   "cell_type": "code",
   "execution_count": 4,
   "metadata": {},
   "outputs": [
    {
     "name": "stdout",
     "output_type": "stream",
     "text": [
      "content=\"Yes, I'm familiar with the Titanic dataset. The number of people who died in the Titanic disaster is 1,317 out of approximately 2,400 passengers and crew members. However, please note that this information can vary slightly depending on the specific source used for data collection and analysis.\" response_metadata={'model': 'qwen2.5:3b', 'created_at': '2024-09-25T00:36:32.102001068Z', 'message': {'role': 'assistant', 'content': ''}, 'done_reason': 'stop', 'done': True, 'total_duration': 2457625900, 'load_duration': 15146888, 'prompt_eval_count': 46, 'prompt_eval_duration': 279342000, 'eval_count': 64, 'eval_duration': 2025184000} id='run-04d6caaf-b14a-4adf-8144-ea22b4503f9c-0' usage_metadata={'input_tokens': 46, 'output_tokens': 64, 'total_tokens': 110}\n"
     ]
    }
   ],
   "source": [
    "from langchain_community.llms import Ollama #0.2.12\n",
    "\n",
    "#llm = Ollama(model=\"llama3.1\")\n",
    "res = llm.invoke(input=['''\n",
    "Do you know the Titanic dataset?\n",
    "If yes, tell me how many people died.\n",
    "'''\n",
    "])\n",
    "print(res)"
   ]
  },
  {
   "cell_type": "code",
   "execution_count": 5,
   "metadata": {},
   "outputs": [
    {
     "data": {
      "text/plain": [
       "891"
      ]
     },
     "execution_count": 5,
     "metadata": {},
     "output_type": "execute_result"
    }
   ],
   "source": [
    "import sqlite3\n",
    "\n",
    "dtf.to_sql(index=False, name=\"titanic\", \n",
    "           con=sqlite3.connect(\"database.db\"), \n",
    "           if_exists=\"replace\")"
   ]
  },
  {
   "cell_type": "code",
   "execution_count": 6,
   "metadata": {},
   "outputs": [],
   "source": [
    "from langchain_community.utilities.sql_database import SQLDatabase\n",
    "\n",
    "db = SQLDatabase.from_uri(\"sqlite:///database.db\")"
   ]
  },
  {
   "cell_type": "code",
   "execution_count": 7,
   "metadata": {},
   "outputs": [],
   "source": [
    "from crewai_tools import tool #0.8.3\n",
    "import crewai #0.51.1"
   ]
  },
  {
   "cell_type": "code",
   "execution_count": 8,
   "metadata": {},
   "outputs": [
    {
     "name": "stdout",
     "output_type": "stream",
     "text": [
      "--- Get Tables ---\n",
      "Using Tool: tool_tables\n",
      "titanic\n",
      "\n",
      "--- Get Schema ---\n",
      "Using Tool: tool_tables\n",
      "Using Tool: tool_schema\n",
      "\n",
      "CREATE TABLE titanic (\n",
      "\t\"PassengerId\" INTEGER, \n",
      "\t\"Survived\" INTEGER, \n",
      "\t\"Pclass\" INTEGER, \n",
      "\t\"Name\" TEXT, \n",
      "\t\"Sex\" TEXT, \n",
      "\t\"Age\" REAL, \n",
      "\t\"SibSp\" INTEGER, \n",
      "\t\"Parch\" INTEGER, \n",
      "\t\"Ticket\" TEXT, \n",
      "\t\"Fare\" REAL, \n",
      "\t\"Cabin\" TEXT, \n",
      "\t\"Embarked\" TEXT\n",
      ")\n",
      "\n",
      "/*\n",
      "3 rows from titanic table:\n",
      "PassengerId\tSurvived\tPclass\tName\tSex\tAge\tSibSp\tParch\tTicket\tFare\tCabin\tEmbarked\n",
      "1\t0\t3\tBraund, Mr. Owen Harris\tmale\t22.0\t1\t0\tA/5 21171\t7.25\tNone\tS\n",
      "2\t1\t1\tCumings, Mrs. John Bradley (Florence Briggs Thayer)\tfemale\t38.0\t1\t0\tPC 17599\t71.2833\tC85\tC\n",
      "3\t1\t3\tHeikkinen, Miss. Laina\tfemale\t26.0\t0\t0\tSTON/O2. 3101282\t7.925\tNone\tS\n",
      "*/\n",
      "\n",
      "--- SQL Query ---\n",
      "Using Tool: tool_tables\n",
      "Using Tool: tool_query\n",
      "[(1, 0, 3, 'Braund, Mr. Owen Harris', 'male', 22.0, 1, 0, 'A/5 21171', 7.25, None, 'S'), (2, 1, 1, 'Cumings, Mrs. John Bradley (Florence Briggs Thayer)', 'female', 38.0, 1, 0, 'PC 17599', 71.2833, 'C85', 'C'), (3, 1, 3, 'Heikkinen, Miss. Laina', 'female', 26.0, 0, 0, 'STON/O2. 3101282', 7.925, None, 'S')]\n"
     ]
    }
   ],
   "source": [
    "## DB Connection\n",
    "from langchain_community.tools.sql_database.tool import ListSQLDatabaseTool, InfoSQLDatabaseTool, QuerySQLDataBaseTool\n",
    "\n",
    "@tool(\"tool_tables\")\n",
    "def tool_tables() -> str:\n",
    "    \"\"\"Get all the tables in the database\"\"\"\n",
    "    return ListSQLDatabaseTool(db=db).invoke(\"\")\n",
    "\n",
    "@tool(\"tool_schema\")\n",
    "def tool_schema(tables: str) -> str:\n",
    "    \"\"\"Get table schema. Example Input: table1, table2, table3\"\"\"\n",
    "    tool = InfoSQLDatabaseTool(db=db)\n",
    "    return tool.invoke(tables)\n",
    "\n",
    "@tool(\"tool_query\")\n",
    "def tool_query(sql: str) -> str:\n",
    "    \"\"\"Execute a SQL query\"\"\"\n",
    "    return QuerySQLDataBaseTool(db=db).invoke(sql)\n",
    "\n",
    "print(\"--- Get Tables ---\")\n",
    "print( tool_tables.run() )\n",
    "\n",
    "print(\"\\n--- Get Schema ---\")\n",
    "print( tool_schema.run( tables=tool_tables.run() ) )\n",
    "\n",
    "print(\"\\n--- SQL Query ---\")\n",
    "print( tool_query.run(f\"SELECT * FROM {tool_tables.run()} LIMIT 3\") )"
   ]
  },
  {
   "cell_type": "code",
   "execution_count": 9,
   "metadata": {},
   "outputs": [
    {
     "name": "stdout",
     "output_type": "stream",
     "text": [
      "Using Tool: tool_tables\n",
      "Using Tool: tool_check\n"
     ]
    },
    {
     "data": {
      "text/plain": [
       "'SELECT * FROM titanic LIMIT 3 +db+ \\n\\nThe provided SQL query contains a syntax error due to the presence of `+db+` within the `LIMIT` clause. In SQLite (and most SQL databases), the `LIMIT` clause should not contain any expressions or variables that are not part of a constant value. Therefore, we cannot correct this specific issue without additional context about what `+db+` might represent.\\n\\nIf `+db+` is meant to be replaced by a number for limiting the rows (for example, if `3 + db+` evaluates to an integer), then it should be removed and replaced with that integer. If not, the query as written cannot be executed due to the syntax error.\\n\\nGiven this context, if we assume that `+db+` is intended to replace a number such as 5 (for instance):\\n\\n```sql\\nSELECT * FROM titanic LIMIT 5;\\n```\\n\\nThis final query would retrieve all columns from the table named \"titanic\" and limit the result set to 5 rows. Please replace or validate `+db+` with an appropriate integer value if needed for your use case.'"
      ]
     },
     "execution_count": 9,
     "metadata": {},
     "output_type": "execute_result"
    }
   ],
   "source": [
    "## LLM Checking SQL\n",
    "from langchain_community.tools.sql_database.tool import QuerySQLCheckerTool\n",
    "\n",
    "@tool(\"tool_check\")\n",
    "def tool_check(sql: str) -> str:\n",
    "    \"\"\"\n",
    "    Before executing a query, always use this tool to review the SQL query \n",
    "    and correct the code if necessary.\n",
    "    \"\"\"\n",
    "    return QuerySQLCheckerTool(db=db, llm=llm).invoke({\"query\":sql})\n",
    "\n",
    "tool_check.run(f\"SELECT * FROM {tool_tables.run()} LIMIT 3 +db+\") #<--SQL with error"
   ]
  },
  {
   "cell_type": "code",
   "execution_count": 10,
   "metadata": {},
   "outputs": [],
   "source": [
    "prompt = '''Extract data with SQL query to answer {user_input}'''\n",
    "\n",
    "## Agent\n",
    "agent_sql = crewai.Agent(\n",
    "    role=\"Database Engineer\",\n",
    "    goal=prompt,\n",
    "    backstory='''\n",
    "        You are an experienced database engineer that creates and optimize efficient SQL queries.\n",
    "        Use the `tool_tables` to find tables.\n",
    "        Use the `tool_schema` to get the metadata for the tables.\n",
    "        Use the `tool_check` to review your queries before executing.\n",
    "        Use the `tool_query` to execute SQL queries.\n",
    "     ''',\n",
    "    tools=[tool_tables, tool_schema, tool_query, tool_check], \n",
    "    max_iter=10,\n",
    "    llm=llm_id,\n",
    "    allow_delegation=False, verbose=True)\n",
    "\n",
    "## Task\n",
    "task_sql = crewai.Task(\n",
    "    description=prompt,\n",
    "    agent=agent_sql,\n",
    "    expected_output='''Output of the query''')"
   ]
  },
  {
   "cell_type": "code",
   "execution_count": 11,
   "metadata": {},
   "outputs": [
    {
     "name": "stdout",
     "output_type": "stream",
     "text": [
      "\u001b[1m\u001b[95m# Agent:\u001b[00m \u001b[1m\u001b[92mDatabase Engineer\u001b[00m\n",
      "\u001b[95m## Task:\u001b[00m \u001b[92mExtract data with SQL query to answer how many people died?\u001b[00m\n"
     ]
    }
   ],
   "source": [
    "crew = crewai.Crew(agents=[agent_sql], tasks=[task_sql], verbose=False)\n",
    "res = crew.kickoff(inputs={\"user_input\": \"how many people died?\"})"
   ]
  },
  {
   "cell_type": "code",
   "execution_count": null,
   "metadata": {},
   "outputs": [],
   "source": [
    "from langchain_experimental.utilities import PythonREPL\n",
    "from langchain_core.tools import Tool\n",
    "\n",
    "tool_pycode = Tool(name=\"tool_pycode\",\n",
    "    description='''\n",
    "    A Python shell. Use this to execute python commands. \n",
    "    Input should be a valid python command. \n",
    "    If you want to see the output of a value, \n",
    "    you should print it out with `print(...)`.\n",
    "    ''',\n",
    "    func=PythonREPL().run)\n",
    "\n",
    "print( tool_pycode.run(\"import numpy as np; print(np.sum([1,2]))\") ) \n",
    "#> 3"
   ]
  },
  {
   "cell_type": "code",
   "execution_count": null,
   "metadata": {},
   "outputs": [],
   "source": [
    "@tool(\"tool_eval\")\n",
    "def tool_eval(code: str) -> str:\n",
    "    \"\"\"\n",
    "    Before executing Python code, always use this tool to evaluate code and correct the code if necessary.\n",
    "    Example: `import numpy as np print(np.sum([1,2]))` would give an error, \n",
    "    so you must change it to `import numpy as np; print(np.sum([1,2]))`\n",
    "    \"\"\"\n",
    "    res = llm.invoke(input=[f'''review the following python code and correct it if you find errors.\n",
    "    You must return only the correct code: {code}'''])#.split(\"\\n\")[0]\n",
    "    return res\n",
    "\n",
    "print( tool_eval.run(\"importt numpy as np\") ) #<--Python with error\n",
    "#> `import numpy as np`"
   ]
  },
  {
   "cell_type": "code",
   "execution_count": null,
   "metadata": {},
   "outputs": [],
   "source": [
    "prompt = '''You receive data from the database engineer and analyze it with Python to answer {user_input}'''\n",
    "\n",
    "## Agent\n",
    "agent_py = crewai.Agent(\n",
    "    role=\"Data Analyst\",\n",
    "    goal=prompt,\n",
    "    backstory='''\n",
    "        You are an experienced data anlyst that analyzes datasets using Python.\n",
    "        You have attention to detail and always produce very clear and detailed results.\n",
    "        First generate Python code you need to analyze the data.\n",
    "        Then use the `tool_eval` to check your code.\n",
    "        Finally use `tool_pycode` to execute the code and return the output.\n",
    "     ''',\n",
    "    tools=[tool_eval, tool_pycode],\n",
    "    max_iter=10,\n",
    "    llm=llm_id,\n",
    "    allow_delegation=False, verbose=True)\n",
    "\n",
    "## Task\n",
    "task_py = crewai.Task(\n",
    "    description=prompt,\n",
    "    agent=agent_py,\n",
    "    context=[task_sql],\n",
    "    expected_output='''Output of Python code''')"
   ]
  },
  {
   "cell_type": "code",
   "execution_count": null,
   "metadata": {},
   "outputs": [],
   "source": [
    "crew = crewai.Crew(agents=[agent_py], tasks=[task_py], verbose=False)\n",
    "res = crew.kickoff(inputs={\"user_input\": \n",
    "f\"how many people died in this dataset? {dtf.to_string()}\"})"
   ]
  },
  {
   "cell_type": "code",
   "execution_count": null,
   "metadata": {},
   "outputs": [],
   "source": [
    "prompt = '''You write executive summary reports based on the work of the data analyst to answer {user_input}'''\n",
    "\n",
    "## Agent\n",
    "agent_html = crewai.Agent(\n",
    "    role=\"Web Developer\",\n",
    "    goal=prompt,\n",
    "    backstory='''\n",
    "        You are an experienced web developer that writes beautiful reports using HTML and CSS.\n",
    "        You always summarize texts into bullet points containing the most important details.\n",
    "        At the end add an interactive button with JavaScript so the user can approve the report,\n",
    "        and if the user clicks the button, show a pop-up text.\n",
    "     ''',\n",
    "    max_iter=10,\n",
    "    llm=llm,\n",
    "    allow_delegation=False, verbose=True)\n",
    "\n",
    "## Task\n",
    "task_html = crewai.Task(\n",
    "    description=prompt,\n",
    "    agent=agent_html,\n",
    "    context=[task_py],\n",
    "    expected_output='''HTML code''')"
   ]
  },
  {
   "cell_type": "code",
   "execution_count": null,
   "metadata": {},
   "outputs": [],
   "source": [
    "crew = crewai.Crew(agents=[agent_html], tasks=[task_html], verbose=False)\n",
    "res = crew.kickoff(inputs={\"user_input\":\n",
    "'''\n",
    "Number of people who died: 549\n",
    "'''})\n"
   ]
  },
  {
   "cell_type": "code",
   "execution_count": null,
   "metadata": {},
   "outputs": [],
   "source": [
    "crew = crewai.Crew(agents=[agent_sql, agent_py, agent_html], \n",
    "                   tasks=[task_sql, task_py, task_html], \n",
    "                   process=crewai.Process.sequential,\n",
    "                   verbose=True)\n",
    "\n",
    "res = crew.kickoff(inputs={\"user_input\":\"how many people died?\"})"
   ]
  },
  {
   "cell_type": "code",
   "execution_count": null,
   "metadata": {},
   "outputs": [],
   "source": [
    "from langchain_experimental.agents.agent_toolkits import create_pandas_dataframe_agent\n",
    "\n",
    "agent = create_pandas_dataframe_agent(llm=llm, df=dtf, verbose=True, allow_dangerous_code=True)\n",
    "agent.invoke('''\n",
    "        You are an experienced data scientist that does machine learning using Python and sckit-learn.\n",
    "        Take the dataframe and split into train set and test set. \n",
    "        Then train a simple classification to predict the column `Survived`.\n",
    "        Then use the score to evaluate the model predictions.''')"
   ]
  },
  {
   "cell_type": "code",
   "execution_count": null,
   "metadata": {},
   "outputs": [],
   "source": []
  },
  {
   "cell_type": "code",
   "execution_count": null,
   "metadata": {},
   "outputs": [],
   "source": []
  },
  {
   "cell_type": "code",
   "execution_count": null,
   "metadata": {},
   "outputs": [],
   "source": []
  }
 ],
 "metadata": {
  "kernelspec": {
   "display_name": "Agents-4yRd6dJo",
   "language": "python",
   "name": "python3"
  },
  "language_info": {
   "codemirror_mode": {
    "name": "ipython",
    "version": 3
   },
   "file_extension": ".py",
   "mimetype": "text/x-python",
   "name": "python",
   "nbconvert_exporter": "python",
   "pygments_lexer": "ipython3",
   "version": "3.11.9"
  }
 },
 "nbformat": 4,
 "nbformat_minor": 2
}
