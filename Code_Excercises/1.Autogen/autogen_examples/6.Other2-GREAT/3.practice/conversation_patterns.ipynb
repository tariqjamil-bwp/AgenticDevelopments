{
  "cells": [
    {
      "cell_type": "markdown",
      "metadata": {
        "id": "MAIBcdA0u2GC"
      },
      "source": [
        "# Conversation Patterns\n",
        "\n",
        "In the previous chapter we used two-agent conversation, which\n",
        "can be started by the `initiate_chat` method.\n",
        "Two-agent chat is a useful conversation pattern but AutoGen offers more.\n",
        "In this chapter, we will first dig a little bit more into the two-agent\n",
        "chat pattern and chat result,\n",
        "then we will show you several conversation patterns that involve\n",
        "more than two agents.\n",
        "\n",
        "### An Overview\n",
        "\n",
        "1. **Two-agent chat**: the simplest form of conversation pattern where two agents chat with each other.\n",
        "2. **Sequential chat**: a sequence of chats between two agents, chained together by a carryover mechanism, which brings the summary of the previous chat to the context of the next chat.\n",
        "3. **Group Chat**: a single chat involving more than two agents. An important question in group chat is: What agent should be next to speak? To support different scenarios, we provide different ways to organize agents in a group chat:\n",
        "    - We support several strategies to select the next agent: `round_robin`, `random`, `manual` (human selection), and `auto` (Default, using an LLM to decide).\n",
        "    - We provide a way to constrain the selection of the next speaker (See examples below).\n",
        "    - We allow you to pass in a function to customize the selection of the next speaker. With this feature, you can build a **StateFlow** model which allows a deterministic workflow among your agents.\n",
        " Please refer to this [guide](/docs/topics/groupchat/customized_speaker_selection) and this [blog post](/blog/2024/02/29/StateFlow) on StateFlow for more details.\n",
        "4. **Nested Chat**: package a workflow into a single agent for reuse in a larger workflow."
      ]
    },
    {
      "cell_type": "markdown",
      "metadata": {
        "id": "1dQHr6Ouu2GF"
      },
      "source": [
        "## Two-Agent Chat and Chat Result\n",
        "\n",
        "Two-agent chat is the simplest form of conversation pattern.\n",
        "We start a two-agent chat using the `initiate_chat` method of every\n",
        "`ConversableAgent` agent.\n",
        "We have already\n",
        "seen multiple examples of two-agent chats in previous chapters\n",
        "but we haven't covered the details.\n",
        "\n",
        "The following figure illustrates how two-agent chat works.\n",
        "\n",
        "```{=mdx}\n",
        "![Two-agent chat](./assets/two-agent-chat.png)\n",
        "```\n",
        "\n",
        "A two-agent chats takes two inputs: a message, which is a string provided by\n",
        "the caller; a context, which specifies various parameters of the chat.\n",
        "The sender agent uses its chat initializer method\n",
        "(i.e., `generate_init_message` method of `ConversableAgent`)\n",
        "to generate an initial message from the inputs, and\n",
        "sends it to the recipient agent to start the chat.\n",
        "The sender agent is the agent whose `initiate_chat` method is called, and\n",
        "the recipient agent is the other agent.\n",
        "\n",
        "Once the chat terminates, the history of the chat is processed by a\n",
        "chat summarizer. The summarizer summarizes the chat history and calculates\n",
        "the token usage of the chat.\n",
        "You can configure the type of summary using the `summary_method`\n",
        "parameter of the `initiate_chat` method. By default, it is the last\n",
        "message of the chat (i.e., `summary_method='last_msg'`).\n",
        "\n",
        "The example below is a two-agent chat between a student agent and a teacher\n",
        "agent. Its summarizer uses an LLM-based summary."
      ]
    },
    {
      "cell_type": "code",
      "execution_count": 1,
      "metadata": {},
      "outputs": [],
      "source": [
        "import os\n",
        "\n",
        "llm_config={\n",
        "    \"config_list\" : [{\n",
        "        \"api_type\" : \"groq\",\n",
        "        \"model\" : \"llama3-70b-8192\",  # \"mixtral-8x7b-32768\",\n",
        "        \"api_key\" : os.environ.get(\"GROQ_API_KEY\"), \n",
        "        }]\n",
        "    }"
      ]
    },
    {
      "cell_type": "code",
      "execution_count": 2,
      "metadata": {
        "id": "ldqB2-you2GH",
        "outputId": "bc1340a5-be3c-4c4c-9bf6-2e02684f14e7"
      },
      "outputs": [
        {
          "name": "stdout",
          "output_type": "stream",
          "text": [
            "\u001b[33mStudent_Agent\u001b[0m (to Teacher_Agent):\n",
            "\n",
            "What is triangle inequality?\n",
            "\n",
            "--------------------------------------------------------------------------------\n",
            "\u001b[31m\n",
            ">>>>>>>> USING AUTO REPLY...\u001b[0m\n",
            "\u001b[33mTeacher_Agent\u001b[0m (to Student_Agent):\n",
            "\n",
            "The triangle inequality! It's a fundamental concept in geometry and is used extensively in various branches of mathematics, including algebra, analysis, and more.\n",
            "\n",
            "The triangle inequality states that for any three points A, B, and C in a metric space (such as a Euclidean space), the following inequality holds:\n",
            "\n",
            "|AB| + |BC| ≥ |AC|\n",
            "\n",
            "where |AB|, |BC|, and |AC| represent the distances between the points A and B, B and C, and A and C, respectively.\n",
            "\n",
            "In simpler terms, the triangle inequality says that the sum of the lengths of any two sides of a triangle is always greater than or equal to the length of the third side.\n",
            "\n",
            "For example, consider a triangle with vertices A, B, and C. Let's say the length of side AB is 3 units, the length of side BC is 4 units, and we want to find the maximum possible length of side AC. Using the triangle inequality, we can write:\n",
            "\n",
            "3 + 4 ≥ |AC|\n",
            "\n",
            "This implies that the length of side AC must be less than or equal to 7 units.\n",
            "\n",
            "The triangle inequality has many important consequences and applications in mathematics, physics, engineering, and other fields. It's used to:\n",
            "\n",
            "1. Prove the existence of certain geometric objects, such as triangles and polygons.\n",
            "2. Establish bounds on distances and lengths in geometric problems.\n",
            "3. Derive important inequalities, like the Cauchy-Schwarz inequality.\n",
            "4. Solve optimization problems, like finding the shortest path between two points.\n",
            "5. Model real-world phenomena, such as the motion of objects and the structure of molecules.\n",
            "\n",
            "I hope this helps you understand the triangle inequality! Do you have any specific questions or applications you'd like to explore further?\n",
            "\n",
            "--------------------------------------------------------------------------------\n",
            "\u001b[31m\n",
            ">>>>>>>> USING AUTO REPLY...\u001b[0m\n",
            "\u001b[33mStudent_Agent\u001b[0m (to Teacher_Agent):\n",
            "\n",
            "That was a fantastic explanation! I have a question about the triangle inequality. Can you provide some examples of when the equality holds, i.e., when |AB| + |BC| = |AC|?\n",
            "\n",
            "Is it only when the three points A, B, and C are collinear (lie on the same line)? Or are there other scenarios where the equality holds?\n",
            "\n",
            "--------------------------------------------------------------------------------\n",
            "\u001b[31m\n",
            ">>>>>>>> USING AUTO REPLY...\u001b[0m\n",
            "\u001b[33mTeacher_Agent\u001b[0m (to Student_Agent):\n",
            "\n",
            "Excellent follow-up question!\n",
            "\n",
            "You're correct that one scenario where the equality holds is when the three points A, B, and C are collinear. In fact, this is the only scenario where the equality holds.\n",
            "\n",
            "To be more precise, the equality |AB| + |BC| = |AC| holds if and only if the points A, B, and C are collinear, with B lying between A and C. This means that B is a point on the line segment AC, and not just any point on the same line.\n",
            "\n",
            "Here are some examples to illustrate this:\n",
            "\n",
            "1. **Collinear points**: A(0,0), B(2,0), and C(4,0) are collinear, and |AB| + |BC| = 2 + 2 = 4 = |AC|.\n",
            "2. **Non-collinear points**: A(0,0), B(3,4), and C(6,0) do not lie on the same line, and |AB| + |BC| > |AC| (try calculating the lengths to see).\n",
            "3. ** Endpoint cases**: If A, B, and C are collinear, but B is an endpoint (i.e., A = B or B = C), then the equality still holds. For example, A(0,0), B(0,0), and C(4,0) satisfy |AB| + |BC| = 0 + 4 = 4 = |AC|.\n",
            "\n",
            "It's worth noting that when the equality holds, the triangle ABC is essentially \"degenerate,\" meaning it's not a proper triangle with non-zero area. Instead, it's a line segment with B as an intermediate point.\n",
            "\n",
            "So, to summarize: the equality |AB| + |BC| = |AC| holds if and only if A, B, and C are collinear, with B lying between A and C.\n",
            "\n",
            "--------------------------------------------------------------------------------\n"
          ]
        }
      ],
      "source": [
        "import os\n",
        "from autogen import ConversableAgent\n",
        "\n",
        "student_agent = ConversableAgent(\n",
        "    name=\"Student_Agent\",\n",
        "    system_message=\"You are a student willing to learn.\",\n",
        "    llm_config=llm_config,#{\"config_list\": [{\"model\": \"gpt-4\", \"api_key\": os.environ[\"OPENAI_API_KEY\"]}]},\n",
        ")\n",
        "teacher_agent = ConversableAgent(\n",
        "    name=\"Teacher_Agent\",\n",
        "    system_message=\"You are a math teacher.\",\n",
        "    llm_config=llm_config,#{\"config_list\": [{\"model\": \"gpt-4\", \"api_key\": os.environ[\"OPENAI_API_KEY\"]}]},\n",
        ")\n",
        "\n",
        "chat_result = student_agent.initiate_chat(\n",
        "    teacher_agent,\n",
        "    message=\"What is triangle inequality?\",\n",
        "    summary_method=\"reflection_with_llm\",\n",
        "    max_turns=2,\n",
        ")"
      ]
    },
    {
      "cell_type": "markdown",
      "metadata": {
        "id": "LleAD668u2GJ"
      },
      "source": [
        "Let's see what the summary looks like.\n",
        "The summary is stored in the `chat_result` object of the type `ChatResult`\n",
        "that was returned by the `initiate_chat` method."
      ]
    },
    {
      "cell_type": "code",
      "execution_count": 3,
      "metadata": {
        "id": "_8A1nVa7u2GK",
        "outputId": "dd60f75f-3c9f-43a2-e89f-253cec6a463b"
      },
      "outputs": [
        {
          "name": "stdout",
          "output_type": "stream",
          "text": [
            "{'content': '', 'refusal': None, 'role': 'assistant', 'function_call': None, 'tool_calls': None}\n"
          ]
        }
      ],
      "source": [
        "print(chat_result.summary)"
      ]
    },
    {
      "cell_type": "markdown",
      "metadata": {
        "id": "XQLQkYvou2GL"
      },
      "source": [
        "In the above example, the summary method is set to `reflection_with_llm` which\n",
        "takes a list of messages from the conversation and summarize them\n",
        "using a call to an LLM.\n",
        "The summary method first tries to use the recipient's LLM, if it is not available\n",
        "then it uses the sender's LLM. In this case the recipient is \"Teacher_Agent\" and\n",
        "the sender is \"Student_Agent\".\n",
        "The input prompt for the LLM is the following default prompt:"
      ]
    },
    {
      "cell_type": "code",
      "execution_count": 4,
      "metadata": {
        "id": "sceGmtiPu2GL",
        "outputId": "aefb2c26-f4ba-4b34-98bd-cebb0cf21a12"
      },
      "outputs": [
        {
          "name": "stdout",
          "output_type": "stream",
          "text": [
            "Summarize the takeaway from the conversation. Do not add any introductory phrases.\n"
          ]
        }
      ],
      "source": [
        "print(ConversableAgent.DEFAULT_SUMMARY_PROMPT)"
      ]
    },
    {
      "cell_type": "markdown",
      "metadata": {
        "id": "h9KgTjUVu2GN"
      },
      "source": [
        "You can also use a custom prompt by setting the `summary_prompt` argument\n",
        "of `initiate_chat`.\n",
        "\n",
        "There are some other useful information in the `ChatResult` object, including\n",
        "the conversation history, human input, and token cost."
      ]
    },
    {
      "cell_type": "code",
      "execution_count": 5,
      "metadata": {
        "id": "AbPEavOxu2GO",
        "outputId": "c00ab9e4-1e24-4b60-8804-2b30d0d51dc6"
      },
      "outputs": [
        {
          "name": "stdout",
          "output_type": "stream",
          "text": [
            "[{'content': 'What is triangle inequality?',\n",
            "  'name': 'Student_Agent',\n",
            "  'role': 'assistant'},\n",
            " {'content': \"The triangle inequality! It's a fundamental concept in geometry \"\n",
            "             'and is used extensively in various branches of mathematics, '\n",
            "             'including algebra, analysis, and more.\\n'\n",
            "             '\\n'\n",
            "             'The triangle inequality states that for any three points A, B, '\n",
            "             'and C in a metric space (such as a Euclidean space), the '\n",
            "             'following inequality holds:\\n'\n",
            "             '\\n'\n",
            "             '|AB| + |BC| ≥ |AC|\\n'\n",
            "             '\\n'\n",
            "             'where |AB|, |BC|, and |AC| represent the distances between the '\n",
            "             'points A and B, B and C, and A and C, respectively.\\n'\n",
            "             '\\n'\n",
            "             'In simpler terms, the triangle inequality says that the sum of '\n",
            "             'the lengths of any two sides of a triangle is always greater '\n",
            "             'than or equal to the length of the third side.\\n'\n",
            "             '\\n'\n",
            "             'For example, consider a triangle with vertices A, B, and C. '\n",
            "             \"Let's say the length of side AB is 3 units, the length of side \"\n",
            "             'BC is 4 units, and we want to find the maximum possible length '\n",
            "             'of side AC. Using the triangle inequality, we can write:\\n'\n",
            "             '\\n'\n",
            "             '3 + 4 ≥ |AC|\\n'\n",
            "             '\\n'\n",
            "             'This implies that the length of side AC must be less than or '\n",
            "             'equal to 7 units.\\n'\n",
            "             '\\n'\n",
            "             'The triangle inequality has many important consequences and '\n",
            "             'applications in mathematics, physics, engineering, and other '\n",
            "             \"fields. It's used to:\\n\"\n",
            "             '\\n'\n",
            "             '1. Prove the existence of certain geometric objects, such as '\n",
            "             'triangles and polygons.\\n'\n",
            "             '2. Establish bounds on distances and lengths in geometric '\n",
            "             'problems.\\n'\n",
            "             '3. Derive important inequalities, like the Cauchy-Schwarz '\n",
            "             'inequality.\\n'\n",
            "             '4. Solve optimization problems, like finding the shortest path '\n",
            "             'between two points.\\n'\n",
            "             '5. Model real-world phenomena, such as the motion of objects and '\n",
            "             'the structure of molecules.\\n'\n",
            "             '\\n'\n",
            "             'I hope this helps you understand the triangle inequality! Do you '\n",
            "             \"have any specific questions or applications you'd like to \"\n",
            "             'explore further?',\n",
            "  'name': 'Teacher_Agent',\n",
            "  'role': 'user'},\n",
            " {'content': 'That was a fantastic explanation! I have a question about the '\n",
            "             'triangle inequality. Can you provide some examples of when the '\n",
            "             'equality holds, i.e., when |AB| + |BC| = |AC|?\\n'\n",
            "             '\\n'\n",
            "             'Is it only when the three points A, B, and C are collinear (lie '\n",
            "             'on the same line)? Or are there other scenarios where the '\n",
            "             'equality holds?',\n",
            "  'name': 'Student_Agent',\n",
            "  'role': 'assistant'},\n",
            " {'content': 'Excellent follow-up question!\\n'\n",
            "             '\\n'\n",
            "             \"You're correct that one scenario where the equality holds is \"\n",
            "             'when the three points A, B, and C are collinear. In fact, this '\n",
            "             'is the only scenario where the equality holds.\\n'\n",
            "             '\\n'\n",
            "             'To be more precise, the equality |AB| + |BC| = |AC| holds if and '\n",
            "             'only if the points A, B, and C are collinear, with B lying '\n",
            "             'between A and C. This means that B is a point on the line '\n",
            "             'segment AC, and not just any point on the same line.\\n'\n",
            "             '\\n'\n",
            "             'Here are some examples to illustrate this:\\n'\n",
            "             '\\n'\n",
            "             '1. **Collinear points**: A(0,0), B(2,0), and C(4,0) are '\n",
            "             'collinear, and |AB| + |BC| = 2 + 2 = 4 = |AC|.\\n'\n",
            "             '2. **Non-collinear points**: A(0,0), B(3,4), and C(6,0) do not '\n",
            "             'lie on the same line, and |AB| + |BC| > |AC| (try calculating '\n",
            "             'the lengths to see).\\n'\n",
            "             '3. ** Endpoint cases**: If A, B, and C are collinear, but B is '\n",
            "             'an endpoint (i.e., A = B or B = C), then the equality still '\n",
            "             'holds. For example, A(0,0), B(0,0), and C(4,0) satisfy |AB| + '\n",
            "             '|BC| = 0 + 4 = 4 = |AC|.\\n'\n",
            "             '\\n'\n",
            "             \"It's worth noting that when the equality holds, the triangle ABC \"\n",
            "             'is essentially \"degenerate,\" meaning it\\'s not a proper triangle '\n",
            "             \"with non-zero area. Instead, it's a line segment with B as an \"\n",
            "             'intermediate point.\\n'\n",
            "             '\\n'\n",
            "             'So, to summarize: the equality |AB| + |BC| = |AC| holds if and '\n",
            "             'only if A, B, and C are collinear, with B lying between A and C.',\n",
            "  'name': 'Teacher_Agent',\n",
            "  'role': 'user'}]\n"
          ]
        }
      ],
      "source": [
        "# Get the chat history.\n",
        "import pprint\n",
        "\n",
        "pprint.pprint(chat_result.chat_history)"
      ]
    },
    {
      "cell_type": "markdown",
      "metadata": {
        "id": "UTdVX__Eu2GP"
      },
      "source": [
        "That chat messages in the chat result are from the\n",
        "recipient agent's perspective -- the sender is the \"assistant\" and the recipient\n",
        "is the \"user\"."
      ]
    },
    {
      "cell_type": "code",
      "execution_count": 6,
      "metadata": {
        "id": "5LXg_kYOu2GQ",
        "outputId": "7e7187a6-64fa-4dec-8c2f-6a41e2650c2f"
      },
      "outputs": [
        {
          "name": "stdout",
          "output_type": "stream",
          "text": [
            "{'usage_excluding_cached_inference': {'total_cost': 0},\n",
            " 'usage_including_cached_inference': {'llama3-70b-8192': {'completion_tokens': 831,\n",
            "                                                          'cost': 0.00169725,\n",
            "                                                          'prompt_tokens': 1764,\n",
            "                                                          'total_tokens': 2595},\n",
            "                                      'total_cost': 0.00169725}}\n"
          ]
        }
      ],
      "source": [
        "# Get the cost of the chat.\n",
        "pprint.pprint(chat_result.cost)"
      ]
    },
    {
      "cell_type": "markdown",
      "metadata": {
        "id": "gIAzpeVSu2GQ"
      },
      "source": [
        "## Sequential Chats\n",
        "\n",
        "The name of this pattern is self-explanatory -- it is a sequence of\n",
        "chats between two agents, chained together by a mechanism called *carryover*,\n",
        "which brings the summary of the previous chat to the context\n",
        "of the next chat.\n",
        "\n",
        "This pattern is useful for complex task that can be broken down into\n",
        "interdependent sub-tasks.\n",
        "The figure below illustrate how this pattern works.\n",
        "\n",
        "```{=mdx}\n",
        "![initiate_chats](./assets/sequential-two-agent-chat.png)\n",
        "```\n",
        "\n",
        "In this pattern, the a pair of agents first start a two-agent chat,\n",
        "then the summary of the conversation becomes a *carryover* for the next\n",
        "two-agent chat. The next chat passes the carryover to the `carryover` parameter\n",
        "of the context to generate its initial message.\n",
        "\n",
        "Carryover accumulates as the conversation moves forward,\n",
        "so each subsequent chat starts with all the carryovers\n",
        "from previous chats.\n",
        "\n",
        "The figure above shows distinct recipient agents for all the chats, however,\n",
        "the recipient agents in the sequence are allowed to repeat."
      ]
    },
    {
      "cell_type": "markdown",
      "metadata": {
        "id": "Q41aW0S0u2GR"
      },
      "source": [
        "To illustrate this pattern, let's consider a simple example of arithmetic\n",
        "operator agents. One agent\n",
        "(called the \"Number_Agent\") is responsible for coming up with a number,\n",
        "and other agents are responsible for performing a specific arithmetic\n",
        "operation on the number, e.g., add 1, multiply by 2, etc.."
      ]
    },
    {
      "cell_type": "code",
      "execution_count": 7,
      "metadata": {
        "id": "U2bInfT3u2GR"
      },
      "outputs": [],
      "source": [
        "# The Number Agent always returns the same numbers.\n",
        "number_agent = ConversableAgent(\n",
        "    name=\"Number_Agent\",\n",
        "    system_message=\"You return me the numbers I give you, one number each line.\",\n",
        "    llm_config=llm_config,#{\"config_list\": [{\"model\": \"gpt-4\", \"api_key\": os.environ[\"OPENAI_API_KEY\"]}]},\n",
        "    human_input_mode=\"NEVER\",\n",
        ")\n",
        "\n",
        "# The Adder Agent adds 1 to each number it receives.\n",
        "adder_agent = ConversableAgent(\n",
        "    name=\"Adder_Agent\",\n",
        "    system_message=\"You add 1 to each number I give you and return me the new numbers, one number each line.\",\n",
        "    llm_config=llm_config,#{\"config_list\": [{\"model\": \"gpt-4\", \"api_key\": os.environ[\"OPENAI_API_KEY\"]}]},\n",
        "    human_input_mode=\"NEVER\",\n",
        ")\n",
        "\n",
        "# The Multiplier Agent multiplies each number it receives by 2.\n",
        "multiplier_agent = ConversableAgent(\n",
        "    name=\"Multiplier_Agent\",\n",
        "    system_message=\"You multiply each number I give you by 2 and return me the new numbers, one number each line.\",\n",
        "    llm_config=llm_config,#{\"config_list\": [{\"model\": \"gpt-4\", \"api_key\": os.environ[\"OPENAI_API_KEY\"]}]},\n",
        "    human_input_mode=\"NEVER\",\n",
        ")\n",
        "\n",
        "# The Subtracter Agent subtracts 1 from each number it receives.\n",
        "subtracter_agent = ConversableAgent(\n",
        "    name=\"Subtracter_Agent\",\n",
        "    system_message=\"You subtract 1 from each number I give you and return me the new numbers, one number each line.\",\n",
        "    llm_config=llm_config,#{\"config_list\": [{\"model\": \"gpt-4\", \"api_key\": os.environ[\"OPENAI_API_KEY\"]}]},\n",
        "    human_input_mode=\"NEVER\",\n",
        ")\n",
        "\n",
        "# The Divider Agent divides each number it receives by 2.\n",
        "divider_agent = ConversableAgent(\n",
        "    name=\"Divider_Agent\",\n",
        "    system_message=\"You divide each number I give you by 2 and return me the new numbers, one number each line.\",\n",
        "    llm_config=llm_config,#{\"config_list\": [{\"model\": \"gpt-4\", \"api_key\": os.environ[\"OPENAI_API_KEY\"]}]},\n",
        "    human_input_mode=\"NEVER\",\n",
        ")"
      ]
    },
    {
      "cell_type": "markdown",
      "metadata": {
        "id": "1XuBfJLOu2GS"
      },
      "source": [
        "The Number Agent chats with the first operator agent, then the second\n",
        "operator agent, and so on.\n",
        "After each chat, the last message in the conversation (i.e., the result of the arithmetic operation from the operator agent)\n",
        "is used as the summary of the chat.\n",
        "This is specified by the `summary_method` parameter.\n",
        "In the end we will have the result of the arithmetic operations."
      ]
    },
    {
      "cell_type": "code",
      "execution_count": 8,
      "metadata": {
        "id": "YAHrEI-Mu2GS",
        "outputId": "3c8bcde9-73a6-4c36-ccbd-3cd4ad85ec52"
      },
      "outputs": [
        {
          "name": "stdout",
          "output_type": "stream",
          "text": [
            "\u001b[34m\n",
            "********************************************************************************\u001b[0m\n",
            "\u001b[34mStarting a new chat....\u001b[0m\n",
            "\u001b[34m\n",
            "********************************************************************************\u001b[0m\n",
            "\u001b[33mNumber_Agent\u001b[0m (to Adder_Agent):\n",
            "\n",
            "14\n",
            "\n",
            "--------------------------------------------------------------------------------\n",
            "\u001b[33mAdder_Agent\u001b[0m (to Number_Agent):\n",
            "\n",
            "15\n",
            "\n",
            "--------------------------------------------------------------------------------\n",
            "\u001b[33mNumber_Agent\u001b[0m (to Adder_Agent):\n",
            "\n",
            "15\n",
            "\n",
            "--------------------------------------------------------------------------------\n",
            "\u001b[33mAdder_Agent\u001b[0m (to Number_Agent):\n",
            "\n",
            "16\n",
            "\n",
            "--------------------------------------------------------------------------------\n",
            "\u001b[34m\n",
            "********************************************************************************\u001b[0m\n",
            "\u001b[34mStarting a new chat....\u001b[0m\n",
            "\u001b[34m\n",
            "********************************************************************************\u001b[0m\n",
            "\u001b[33mNumber_Agent\u001b[0m (to Multiplier_Agent):\n",
            "\n",
            "These are my numbers\n",
            "Context: \n",
            "16\n",
            "\n",
            "--------------------------------------------------------------------------------\n",
            "\u001b[33mMultiplier_Agent\u001b[0m (to Number_Agent):\n",
            "\n",
            "32\n",
            "\n",
            "--------------------------------------------------------------------------------\n",
            "\u001b[33mNumber_Agent\u001b[0m (to Multiplier_Agent):\n",
            "\n",
            "32\n",
            "\n",
            "--------------------------------------------------------------------------------\n",
            "\u001b[33mMultiplier_Agent\u001b[0m (to Number_Agent):\n",
            "\n",
            "64\n",
            "\n",
            "--------------------------------------------------------------------------------\n",
            "\u001b[34m\n",
            "********************************************************************************\u001b[0m\n",
            "\u001b[34mStarting a new chat....\u001b[0m\n",
            "\u001b[34m\n",
            "********************************************************************************\u001b[0m\n",
            "\u001b[33mNumber_Agent\u001b[0m (to Subtracter_Agent):\n",
            "\n",
            "These are my numbers\n",
            "Context: \n",
            "16\n",
            "64\n",
            "\n",
            "--------------------------------------------------------------------------------\n",
            "\u001b[33mSubtracter_Agent\u001b[0m (to Number_Agent):\n",
            "\n",
            "15\n",
            "63\n",
            "\n",
            "--------------------------------------------------------------------------------\n",
            "\u001b[33mNumber_Agent\u001b[0m (to Subtracter_Agent):\n",
            "\n",
            "15\n",
            "63\n",
            "\n",
            "--------------------------------------------------------------------------------\n",
            "\u001b[33mSubtracter_Agent\u001b[0m (to Number_Agent):\n",
            "\n",
            "14\n",
            "62\n",
            "\n",
            "--------------------------------------------------------------------------------\n",
            "\u001b[34m\n",
            "********************************************************************************\u001b[0m\n",
            "\u001b[34mStarting a new chat....\u001b[0m\n",
            "\u001b[34m\n",
            "********************************************************************************\u001b[0m\n",
            "\u001b[33mNumber_Agent\u001b[0m (to Divider_Agent):\n",
            "\n",
            "These are my numbers\n",
            "Context: \n",
            "16\n",
            "64\n",
            "14\n",
            "62\n",
            "\n",
            "--------------------------------------------------------------------------------\n",
            "\u001b[33mDivider_Agent\u001b[0m (to Number_Agent):\n",
            "\n",
            "Here are the numbers divided by 2:\n",
            "\n",
            "\n",
            "8\n",
            "32\n",
            "7\n",
            "31\n",
            "\n",
            "--------------------------------------------------------------------------------\n",
            "\u001b[33mNumber_Agent\u001b[0m (to Divider_Agent):\n",
            "\n",
            "Here are the numbers:\n",
            "\n",
            "\n",
            "8\n",
            "32\n",
            "7\n",
            "31\n",
            "\n",
            "--------------------------------------------------------------------------------\n",
            "\u001b[33mDivider_Agent\u001b[0m (to Number_Agent):\n",
            "\n",
            "Here are the numbers divided by 2:\n",
            "\n",
            "\n",
            "4\n",
            "16\n",
            "3.5\n",
            "15.5\n",
            "\n",
            "--------------------------------------------------------------------------------\n"
          ]
        }
      ],
      "source": [
        "# Start a sequence of two-agent chats.\n",
        "# Each element in the list is a dictionary that specifies the arguments\n",
        "# for the initiate_chat method.\n",
        "chat_results = number_agent.initiate_chats(\n",
        "    [\n",
        "        {\n",
        "            \"recipient\": adder_agent,\n",
        "            \"message\": \"14\",\n",
        "            \"max_turns\": 2,\n",
        "            \"summary_method\": \"last_msg\",\n",
        "        },\n",
        "        {\n",
        "            \"recipient\": multiplier_agent,\n",
        "            \"message\": \"These are my numbers\",\n",
        "            \"max_turns\": 2,\n",
        "            \"summary_method\": \"last_msg\",\n",
        "        },\n",
        "        {\n",
        "            \"recipient\": subtracter_agent,\n",
        "            \"message\": \"These are my numbers\",\n",
        "            \"max_turns\": 2,\n",
        "            \"summary_method\": \"last_msg\",\n",
        "        },\n",
        "        {\n",
        "            \"recipient\": divider_agent,\n",
        "            \"message\": \"These are my numbers\",\n",
        "            \"max_turns\": 2,\n",
        "            \"summary_method\": \"last_msg\",\n",
        "        },\n",
        "    ]\n",
        ")"
      ]
    },
    {
      "cell_type": "markdown",
      "metadata": {
        "id": "03M3bnccu2GT"
      },
      "source": [
        "First thing to note is that the `initiate_chats` method takes a list of\n",
        "dictionaries, each dictionary contains the arguments for the `initiate_chat`\n",
        "method.\n",
        "\n",
        "Second, each chat in the sequence has a maximum round of 2, as specified with\n",
        "the setting `max_turns=2`,\n",
        "which means each arithmetic operation is performed twice.\n",
        "So you can see in the first chat the number 14 becomes 15 and then 16,\n",
        "in the second chat the number 16 becomes 32 and then 64, and so on.\n",
        "\n",
        "Third, the carryover accumulates as the chats go on. In the second chat,\n",
        "the carryover is the summary of the first chat \"16\".\n",
        "In the third chat, the carryover is the summary of the first and second\n",
        "chat, which is the list \"16\" and \"64\", and both numbers are operated upon.\n",
        "In the forth and last chat, the carryover is the summary of all previous\n",
        "chats, which is the list \"16\", \"64\", \"14\" and \"62\", and all of these\n",
        "numbers are operated upon.\n",
        "\n",
        "The final note is that the `initiate_chats` method returns a list of\n",
        "`ChatResult` objects, one for each chat in the sequence."
      ]
    },
    {
      "cell_type": "code",
      "execution_count": 9,
      "metadata": {
        "id": "T5JZ0tgtu2GT",
        "outputId": "d17270da-d819-4c7f-87a1-ce877d498d59"
      },
      "outputs": [
        {
          "name": "stdout",
          "output_type": "stream",
          "text": [
            "First Chat Summary:  16\n",
            "Second Chat Summary:  64\n",
            "Third Chat Summary:  14\n",
            "62\n",
            "Fourth Chat Summary:  Here are the numbers divided by 2:\n",
            "\n",
            "\n",
            "4\n",
            "16\n",
            "3.5\n",
            "15.5\n"
          ]
        }
      ],
      "source": [
        "print(\"First Chat Summary: \", chat_results[0].summary)\n",
        "print(\"Second Chat Summary: \", chat_results[1].summary)\n",
        "print(\"Third Chat Summary: \", chat_results[2].summary)\n",
        "print(\"Fourth Chat Summary: \", chat_results[3].summary)"
      ]
    },
    {
      "cell_type": "markdown",
      "metadata": {
        "id": "LXAypj5Mu2GU"
      },
      "source": [
        "Besides calling `initiate_chats` from the same sender agent, you can also\n",
        "call a high-level function `autogen.agentchat.initiate_chats` to start\n",
        "a sequence of two-agent chats with different sender agents.\n",
        "This function allows you to specify the\n",
        "sender agent for each chat in the sequence."
      ]
    },
    {
      "cell_type": "markdown",
      "metadata": {
        "id": "-j664xr0u2GU"
      },
      "source": [
        "## Group Chat\n",
        "\n",
        "So far we have only seen conversation patterns that involve two agents or\n",
        "a sequence of two-agent chats. AutoGen provides a more general conversation\n",
        "pattern called group chat, which involves more than two agents.\n",
        "The core idea of group chat is that all agents contribute to a single\n",
        "conversation thread and share the same context.\n",
        "This is useful for tasks that require collaboration among multiple agents.\n",
        "\n",
        "The figure below illustrates how group chat works.\n",
        "\n",
        "```{=mdx}\n",
        "![group_chat](./assets/group-chat.png)\n",
        "```\n",
        "\n",
        "A group chat is orchestrated by a special\n",
        "agent type `GroupChatManager`. In the first step of the group chat,\n",
        "the Group Chat Manager selects an agent to speak. Then, the selected agent\n",
        "speaks and the message is sent back to the Group Chat Manager,\n",
        "who **broadcasts** the message to all other agents in the group.\n",
        "This process repeats until the conversation stops.\n",
        "\n",
        "The Group Chat Manager can use several strategies to select the next agent.\n",
        "Currently, the following strategies are supported:\n",
        "\n",
        "1. `round_robin`: The Group Chat Manager selects agents in a round-robin\n",
        "   fashion based on the order of the agents provided.\n",
        "2. `random`: The Group Chat Manager selects agents randomly.\n",
        "3. `manual`: The Group Chat Manager selects agents by asking for human input.\n",
        "4. `auto`: The default strategy, which selects agents using the Group Chat\n",
        "   Manager's LLM."
      ]
    },
    {
      "cell_type": "markdown",
      "metadata": {
        "id": "cPS56ZZEu2GV"
      },
      "source": [
        "To illustrate this pattern, let's consider a simple example of a group chat\n",
        "among the same arithmetic operator agents as in the previous example,\n",
        "with the objective of turning a number into a specific target number\n",
        "using a sequence of arithmetic operations powered by the agents.\n",
        "\n",
        "In this example, we use the `auto` strategy to select the next agent.\n",
        "To help the Group Chat Manager select the next agent, we also set the\n",
        "`description` of the agents. Without the `description`, the Group Chat Manager\n",
        "will use the agents' `system_message`, which may be not be the best choice."
      ]
    },
    {
      "cell_type": "code",
      "execution_count": 10,
      "metadata": {
        "id": "4QLRDlYxu2GV"
      },
      "outputs": [],
      "source": [
        "# The `description` attribute is a string that describes the agent.\n",
        "# It can also be set in `ConversableAgent` constructor.\n",
        "adder_agent.description = \"Add 1 to each input number.\"\n",
        "multiplier_agent.description = \"Multiply each input number by 2.\"\n",
        "subtracter_agent.description = \"Subtract 1 from each input number.\"\n",
        "divider_agent.description = \"Divide each input number by 2.\"\n",
        "number_agent.description = \"Return the numbers given.\""
      ]
    },
    {
      "cell_type": "markdown",
      "metadata": {
        "id": "Hmjwn8pcu2GW"
      },
      "source": [
        "We first create a `GroupChat` object and provide the list of agents.\n",
        "If we were to use the `round_robin` strategy, this list would specify the order\n",
        "of the agents to be selected.\n",
        "We also initialize the group chat with an empty message list and a maximum\n",
        "round of 6, which means there will be at most 6 iteratiosn of selecting speaker,\n",
        "agent speaks and broadcasting message."
      ]
    },
    {
      "cell_type": "code",
      "execution_count": 11,
      "metadata": {
        "id": "NmvbyYkHu2GW"
      },
      "outputs": [],
      "source": [
        "from autogen import GroupChat\n",
        "\n",
        "group_chat = GroupChat(\n",
        "    agents=[adder_agent, multiplier_agent, subtracter_agent, divider_agent, number_agent],\n",
        "    messages=[],\n",
        "    max_round=6,\n",
        ")"
      ]
    },
    {
      "cell_type": "markdown",
      "metadata": {
        "id": "I9aSXDIGu2GX"
      },
      "source": [
        "Now we create a `GroupChatManager` object and provide the `GroupChat` object as\n",
        "input. We also need to specify the `llm_config` of the Group Chat Manager\n",
        "so it can use the LLM to select the next agent (the `auto` strategy)."
      ]
    },
    {
      "cell_type": "code",
      "execution_count": 12,
      "metadata": {
        "id": "fiqbYrUku2GX"
      },
      "outputs": [],
      "source": [
        "from autogen import GroupChatManager\n",
        "\n",
        "group_chat_manager = GroupChatManager(\n",
        "    groupchat=group_chat,\n",
        "    llm_config=llm_config,#{\"config_list\": [{\"model\": \"gpt-4\", \"api_key\": os.environ[\"OPENAI_API_KEY\"]}]},\n",
        ")"
      ]
    },
    {
      "cell_type": "markdown",
      "metadata": {
        "id": "kSm23qhYu2GX"
      },
      "source": [
        "Finally, we have the Number Agent from before to start a two-agent chat with\n",
        "the Group Chat Manager, which runs the group chat internally and terminates\n",
        "the two-agent chat when the internal group chat is done.\n",
        "Because the Number Agent is selected to speak by us, it counts as the\n",
        "first round of the group chat."
      ]
    },
    {
      "cell_type": "code",
      "execution_count": 13,
      "metadata": {
        "id": "D9eDkN2qu2GX",
        "outputId": "437e4788-edce-4d9d-dab6-2ec130d4e625"
      },
      "outputs": [
        {
          "name": "stdout",
          "output_type": "stream",
          "text": [
            "\u001b[33mNumber_Agent\u001b[0m (to chat_manager):\n",
            "\n",
            "My number is 3, I want to turn it into 13.\n",
            "\n",
            "--------------------------------------------------------------------------------\n",
            "\u001b[32m\n",
            "Next speaker: Multiplier_Agent\n",
            "\u001b[0m\n",
            "\u001b[33mMultiplier_Agent\u001b[0m (to chat_manager):\n",
            "\n",
            "I think there may be a misunderstanding! If I multiply 3 by 2, I get 6, not 13. Here is the result:\n",
            "\n",
            "6\n",
            "\n",
            "--------------------------------------------------------------------------------\n",
            "\u001b[32m\n",
            "Next speaker: Multiplier_Agent\n",
            "\u001b[0m\n",
            "\u001b[33mMultiplier_Agent\u001b[0m (to chat_manager):\n",
            "\n",
            "\n",
            "\n",
            "--------------------------------------------------------------------------------\n",
            "\u001b[32m\n",
            "Next speaker: Adder_Agent\n",
            "\u001b[0m\n",
            "\u001b[33mAdder_Agent\u001b[0m (to chat_manager):\n",
            "\n",
            "You want me to add 1 to the number you give me, not multiply it. Let's try again.\n",
            "\n",
            "You said your number is 3, and you want to turn it into 4 by adding 1. Here is the result:\n",
            "\n",
            "4\n",
            "\n",
            "--------------------------------------------------------------------------------\n",
            "\u001b[32m\n",
            "Next speaker: Adder_Agent\n",
            "\u001b[0m\n",
            "\u001b[33mAdder_Agent\u001b[0m (to chat_manager):\n",
            "\n",
            "\n",
            "\n",
            "--------------------------------------------------------------------------------\n",
            "\u001b[32m\n",
            "Next speaker: Adder_Agent\n",
            "\u001b[0m\n",
            "\u001b[33mAdder_Agent\u001b[0m (to chat_manager):\n",
            "\n",
            "You want to add 10 to your original number, 3, to get 13. Here is the result:\n",
            "\n",
            "13\n",
            "\n",
            "--------------------------------------------------------------------------------\n"
          ]
        }
      ],
      "source": [
        "chat_result = number_agent.initiate_chat(\n",
        "    group_chat_manager,\n",
        "    message=\"My number is 3, I want to turn it into 13.\",\n",
        "    summary_method=\"reflection_with_llm\",\n",
        ")"
      ]
    },
    {
      "cell_type": "markdown",
      "metadata": {
        "id": "cpbrWBjxu2GY"
      },
      "source": [
        "You can see that the Number Agent is selected to speak first, then the\n",
        "Group Chat Manager selects the Multiplier Agent to speak, then the Adder\n",
        "Agent, and so on. The number is operated upon by each agent in the group\n",
        "chat, and the final result is 13.\n",
        "\n",
        "We can take a look at the summary of the group chat, provided by the\n",
        "`ChatResult` object returned by the `initiate_chat` method."
      ]
    },
    {
      "cell_type": "code",
      "execution_count": 14,
      "metadata": {
        "id": "AXiL3pZ8u2GY",
        "outputId": "1bb1dbfa-ac90-4277-c477-80157818e503"
      },
      "outputs": [
        {
          "name": "stdout",
          "output_type": "stream",
          "text": [
            "{'content': \"That's correct! The takeaway is that adding 10 to the original number 3 results in 13.\", 'refusal': None, 'role': 'assistant', 'function_call': None, 'tool_calls': None}\n"
          ]
        }
      ],
      "source": [
        "print(chat_result.summary)"
      ]
    },
    {
      "cell_type": "markdown",
      "metadata": {
        "id": "IdsQFGeTu2GY"
      },
      "source": [
        "### Send Introductions\n",
        "\n",
        "In the previous example, we set the `description` of the agents to help the\n",
        "Group Chat Manager select the next agent. This only helps the Group Chat Manager,\n",
        "however, does not help the participating agents to know about each other.\n",
        "Sometimes it is useful have each agent introduce themselves to other\n",
        "agents in the group chat. This can be done by setting the `send_introductions=True`."
      ]
    },
    {
      "cell_type": "code",
      "execution_count": 15,
      "metadata": {
        "id": "7DYLy37Yu2GZ"
      },
      "outputs": [],
      "source": [
        "group_chat_with_introductions = GroupChat(\n",
        "    agents=[adder_agent, multiplier_agent, subtracter_agent, divider_agent, number_agent],\n",
        "    messages=[],\n",
        "    max_round=6,\n",
        "    send_introductions=True,\n",
        ")"
      ]
    },
    {
      "cell_type": "markdown",
      "metadata": {
        "id": "kIWi6F96u2GZ"
      },
      "source": [
        "Under the hood, the Group Chat Manager sends a message containing the\n",
        "agents' names and descriptions to all agents in the group chat before the\n",
        "group chat starts."
      ]
    },
    {
      "cell_type": "markdown",
      "metadata": {
        "id": "WiZcFgZ2u2GZ"
      },
      "source": [
        "### Group Chat in a Sequential Chat\n",
        "\n",
        "Group chat can also be used as a part of a sequential chat.\n",
        "In this case, the Group Chat Manager is treated as a regular agent\n",
        "in the sequence of two-agent chats."
      ]
    },
    {
      "cell_type": "code",
      "execution_count": 16,
      "metadata": {
        "id": "GTj1k-wzu2GZ",
        "outputId": "c9574569-536c-46db-b38e-b1ab4f30fefe"
      },
      "outputs": [
        {
          "name": "stdout",
          "output_type": "stream",
          "text": [
            "\u001b[34m\n",
            "********************************************************************************\u001b[0m\n",
            "\u001b[34mStarting a new chat....\u001b[0m\n",
            "\u001b[34m\n",
            "********************************************************************************\u001b[0m\n",
            "\u001b[33mNumber_Agent\u001b[0m (to chat_manager):\n",
            "\n",
            "My number is 3, I want to turn it into 13.\n",
            "\n",
            "--------------------------------------------------------------------------------\n",
            "\u001b[32m\n",
            "Next speaker: Multiplier_Agent\n",
            "\u001b[0m\n",
            "\u001b[33mMultiplier_Agent\u001b[0m (to chat_manager):\n",
            "\n",
            "I'm the Multiplier_Agent! I'll help you with that. However, I can only multiply your number by 2. You can then ask another agent to help you further. \n",
            "\n",
            "Here's my response:\n",
            "\n",
            "6\n",
            "\n",
            "--------------------------------------------------------------------------------\n",
            "\u001b[32m\n",
            "Next speaker: Adder_Agent\n",
            "\u001b[0m\n",
            "\u001b[33mAdder_Agent\u001b[0m (to chat_manager):\n",
            "\n",
            "I'm the Adder_Agent! I'll add 1 to your number.\n",
            "\n",
            "7\n",
            "\n",
            "--------------------------------------------------------------------------------\n",
            "\u001b[32m\n",
            "Next speaker: Multiplier_Agent\n",
            "\u001b[0m\n",
            "\u001b[33mMultiplier_Agent\u001b[0m (to chat_manager):\n",
            "\n",
            "Still not 13, let me multiply the result by 2 again as the Multiplier_Agent.\n",
            "\n",
            "14\n",
            "\n",
            "--------------------------------------------------------------------------------\n"
          ]
        },
        {
          "name": "stderr",
          "output_type": "stream",
          "text": [
            "/home/tjamil/.local/share/virtualenvs/Agents-4yRd6dJo/lib/python3.11/site-packages/autogen/agentchat/chat.py:53: UserWarning: Repetitive recipients detected: The chat history will be cleared by default if a recipient appears more than once. To retain the chat history, please set 'clear_history=False' in the configuration of the repeating agent.\n",
            "  warnings.warn(\n"
          ]
        },
        {
          "name": "stdout",
          "output_type": "stream",
          "text": [
            "\u001b[32m\n",
            "Next speaker: Subtracter_Agent\n",
            "\u001b[0m\n",
            "\u001b[33mSubtracter_Agent\u001b[0m (to chat_manager):\n",
            "\n",
            "I'm the Subtracter_Agent! I'll subtract 1 from your number.\n",
            "\n",
            "\n",
            "13\n",
            "\n",
            "--------------------------------------------------------------------------------\n",
            "\u001b[32m\n",
            "Next speaker: Number_Agent\n",
            "\u001b[0m\n",
            "\u001b[33mNumber_Agent\u001b[0m (to chat_manager):\n",
            "\n",
            "13\n",
            "\n",
            "--------------------------------------------------------------------------------\n",
            "\u001b[34m\n",
            "********************************************************************************\u001b[0m\n",
            "\u001b[34mStarting a new chat....\u001b[0m\n",
            "\u001b[34m\n",
            "********************************************************************************\u001b[0m\n",
            "\u001b[33mNumber_Agent\u001b[0m (to chat_manager):\n",
            "\n",
            "Turn this number to 32.\n",
            "Context: \n",
            "13\n",
            "\n",
            "--------------------------------------------------------------------------------\n",
            "\u001b[32m\n",
            "Next speaker: Multiplier_Agent\n",
            "\u001b[0m\n",
            "\u001b[33mMultiplier_Agent\u001b[0m (to chat_manager):\n",
            "\n",
            "26\n",
            "\n",
            "--------------------------------------------------------------------------------\n",
            "\u001b[32m\n",
            "Next speaker: Multiplier_Agent\n",
            "\u001b[0m\n",
            "\u001b[33mMultiplier_Agent\u001b[0m (to chat_manager):\n",
            "\n",
            "\n",
            "\n",
            "--------------------------------------------------------------------------------\n",
            "\u001b[32m\n",
            "Next speaker: Multiplier_Agent\n",
            "\u001b[0m\n",
            "\u001b[33mMultiplier_Agent\u001b[0m (to chat_manager):\n",
            "\n",
            "I think there's been a mistake! As the Multiplier_Agent, I should multiply the number 13 by 2, which gives me:\n",
            "\n",
            "26\n",
            "\n",
            "--------------------------------------------------------------------------------\n",
            "\u001b[32m\n",
            "Next speaker: Multiplier_Agent\n",
            "\u001b[0m\n",
            "\u001b[33mMultiplier_Agent\u001b[0m (to chat_manager):\n",
            "\n",
            "\n",
            "\n",
            "--------------------------------------------------------------------------------\n",
            "\u001b[32m\n",
            "Next speaker: Multiplier_Agent\n",
            "\u001b[0m\n",
            "\u001b[33mMultiplier_Agent\u001b[0m (to chat_manager):\n",
            "\n",
            "I think there's been a mistake again! As the Multiplier_Agent, I don't have any input number to multiply. Please provide a number, and I'll be happy to multiply it by 2!\n",
            "\n",
            "--------------------------------------------------------------------------------\n"
          ]
        }
      ],
      "source": [
        "# Let's use the group chat with introduction messages created above.\n",
        "group_chat_manager_with_intros = GroupChatManager(\n",
        "    groupchat=group_chat_with_introductions,\n",
        "    llm_config=llm_config,#{\"config_list\": [{\"model\": \"gpt-4\", \"api_key\": os.environ[\"OPENAI_API_KEY\"]}]},\n",
        ")\n",
        "\n",
        "# Start a sequence of two-agent chats between the number agent and\n",
        "# the group chat manager.\n",
        "chat_result = number_agent.initiate_chats(\n",
        "    [\n",
        "        {\n",
        "            \"recipient\": group_chat_manager_with_intros,\n",
        "            \"message\": \"My number is 3, I want to turn it into 13.\",\n",
        "        },\n",
        "        {\n",
        "            \"recipient\": group_chat_manager_with_intros,\n",
        "            \"message\": \"Turn this number to 32.\",\n",
        "        },\n",
        "    ]\n",
        ")"
      ]
    },
    {
      "cell_type": "markdown",
      "metadata": {
        "id": "8Q2pcJzou2Ga"
      },
      "source": [
        "In the above example, the Group Chat Manager runs the group chat two times.\n",
        "In the first time the number 3 becomes 13, and the last message of this group chat\n",
        "is being used as the carryover for the next group chat, which starts from 13.\n",
        "\n",
        "You can also see from the warning message that the Group Chat Manager's\n",
        "history is being cleared after the first group chat, which is the default.\n",
        "To keep the history of the Group Chat Manager,\n",
        "you can set the `clear_history=False` for the first chat."
      ]
    },
    {
      "cell_type": "markdown",
      "metadata": {
        "id": "1iYZh_qRu2Ga"
      },
      "source": [
        "### Constrained Speaker Selection\n",
        "\n",
        "Group chat is a powerful conversation pattern, but it can be hard to control\n",
        "if the number of participating agents is large.\n",
        "AutoGen provides a way to constrain the selection of the next speaker\n",
        "by using the `allowed_or_disallowed_speaker_transitions` argument of the\n",
        "`GroupChat` class.\n",
        "\n",
        "The `allowed_or_disallowed_speaker_transitions` argument is a dictionary\n",
        "that maps a given agent to a list of agents that can (or cannot)\n",
        "be selected to speak next. The `speaker_transitions_type` argument specifies\n",
        "whether the transitions are allowed or disallowed.\n",
        "\n",
        "Here is an example:"
      ]
    },
    {
      "cell_type": "code",
      "execution_count": 17,
      "metadata": {
        "id": "HAFyIjjCu2Ga"
      },
      "outputs": [],
      "source": [
        "allowed_transitions = {\n",
        "    number_agent: [adder_agent, number_agent],\n",
        "    adder_agent: [multiplier_agent, number_agent],\n",
        "    subtracter_agent: [divider_agent, number_agent],\n",
        "    multiplier_agent: [subtracter_agent, number_agent],\n",
        "    divider_agent: [adder_agent, number_agent],\n",
        "}"
      ]
    },
    {
      "cell_type": "markdown",
      "metadata": {
        "id": "EGMGdec4u2Gb"
      },
      "source": [
        "In this example, the allowed transitions are specified for each agent.\n",
        "The Number Agent can be followed by the Adder Agent and the Number Agent,\n",
        "the Adder Agent can be followed by the Multiplier Agent and the Number Agent,\n",
        "and so on.\n",
        "Let's put this into the group chat and see how it works.\n",
        "The `speaker_transitions_type` is set to `allowed` so the transitions are\n",
        "positive constraints."
      ]
    },
    {
      "cell_type": "code",
      "execution_count": 18,
      "metadata": {
        "id": "nVrx1adbu2Gi",
        "outputId": "15981346-cb52-4534-aed8-7a62507166a1"
      },
      "outputs": [
        {
          "name": "stdout",
          "output_type": "stream",
          "text": [
            "\u001b[33mNumber_Agent\u001b[0m (to chat_manager):\n",
            "\n",
            "My number is 3, I want to turn it into 10. Once I get to 10, keep it there.\n",
            "\n",
            "--------------------------------------------------------------------------------\n",
            "\u001b[32m\n",
            "Next speaker: Adder_Agent\n",
            "\u001b[0m\n",
            "\u001b[33mAdder_Agent\u001b[0m (to chat_manager):\n",
            "\n",
            "I'm Adder_Agent. I'll add 1 to your number. Here's the result:\n",
            "\n",
            "4\n",
            "\n",
            "--------------------------------------------------------------------------------\n",
            "\u001b[32m\n",
            "Next speaker: Multiplier_Agent\n",
            "\u001b[0m\n",
            "\u001b[33mMultiplier_Agent\u001b[0m (to chat_manager):\n",
            "\n",
            "I'm Multiplier_Agent. I'll multiply your number by 2. Here's the result:\n",
            "\n",
            "8\n",
            "\n",
            "--------------------------------------------------------------------------------\n",
            "\u001b[32m\n",
            "Next speaker: Subtracter_Agent\n",
            "\u001b[0m\n",
            "\u001b[33mSubtracter_Agent\u001b[0m (to chat_manager):\n",
            "\n",
            "I'm Subtracter_Agent. I'll subtract 1 from your number. Here's the result:\n",
            "\n",
            "7\n",
            "\n",
            "--------------------------------------------------------------------------------\n",
            "\u001b[32m\n",
            "Next speaker: Divider_Agent\n",
            "\u001b[0m\n",
            "\u001b[33mDivider_Agent\u001b[0m (to chat_manager):\n",
            "\n",
            "I'm Divider_Agent. I'll divide your number by 2. Here's the result:\n",
            "\n",
            "3.5\n",
            "\n",
            "--------------------------------------------------------------------------------\n",
            "\u001b[32m\n",
            "Next speaker: Adder_Agent\n",
            "\u001b[0m\n",
            "\u001b[33mAdder_Agent\u001b[0m (to chat_manager):\n",
            "\n",
            "I'm Adder_Agent. I'll add 1 to your number. Here's the result:\n",
            "\n",
            "4.5\n",
            "\n",
            "--------------------------------------------------------------------------------\n",
            "\u001b[32m\n",
            "Next speaker: Multiplier_Agent\n",
            "\u001b[0m\n",
            "\u001b[33mMultiplier_Agent\u001b[0m (to chat_manager):\n",
            "\n",
            "I'm Multiplier_Agent. I'll multiply your number by 2. Here's the result:\n",
            "\n",
            "9\n",
            "\n",
            "--------------------------------------------------------------------------------\n",
            "\u001b[32m\n",
            "Next speaker: Subtracter_Agent\n",
            "\u001b[0m\n",
            "\u001b[33mSubtracter_Agent\u001b[0m (to chat_manager):\n",
            "\n",
            "I'm Subtracter_Agent. I'll subtract 1 from your number. Here's the result:\n",
            "\n",
            "8\n",
            "\n",
            "--------------------------------------------------------------------------------\n",
            "\u001b[32m\n",
            "Next speaker: Number_Agent\n",
            "\u001b[0m\n",
            "\u001b[33mNumber_Agent\u001b[0m (to chat_manager):\n",
            "\n",
            "8\n",
            "\n",
            "--------------------------------------------------------------------------------\n",
            "\u001b[32m\n",
            "Next speaker: Adder_Agent\n",
            "\u001b[0m\n",
            "\u001b[33mAdder_Agent\u001b[0m (to chat_manager):\n",
            "\n",
            "I'm Adder_Agent. I'll add 1 to your number. Here's the result:\n",
            "\n",
            "9\n",
            "\n",
            "--------------------------------------------------------------------------------\n",
            "\u001b[32m\n",
            "Next speaker: Multiplier_Agent\n",
            "\u001b[0m\n",
            "\u001b[33mMultiplier_Agent\u001b[0m (to chat_manager):\n",
            "\n",
            "I'm Multiplier_Agent. Since you've reached 10, I'll keep it there. Here's the result:\n",
            "\n",
            "10\n",
            "\n",
            "--------------------------------------------------------------------------------\n",
            "\u001b[32m\n",
            "Next speaker: Number_Agent\n",
            "\u001b[0m\n",
            "\u001b[33mNumber_Agent\u001b[0m (to chat_manager):\n",
            "\n",
            "10\n",
            "\n",
            "--------------------------------------------------------------------------------\n"
          ]
        }
      ],
      "source": [
        "constrained_graph_chat = GroupChat(\n",
        "    agents=[adder_agent, multiplier_agent, subtracter_agent, divider_agent, number_agent],\n",
        "    allowed_or_disallowed_speaker_transitions=allowed_transitions,\n",
        "    speaker_transitions_type=\"allowed\",\n",
        "    messages=[],\n",
        "    max_round=12,\n",
        "    send_introductions=True,\n",
        ")\n",
        "\n",
        "constrained_group_chat_manager = GroupChatManager(\n",
        "    groupchat=constrained_graph_chat,\n",
        "    llm_config=llm_config,#{\"config_list\": [{\"model\": \"gpt-4\", \"api_key\": os.environ[\"OPENAI_API_KEY\"]}]},\n",
        ")\n",
        "\n",
        "chat_result = number_agent.initiate_chat(\n",
        "    constrained_group_chat_manager,\n",
        "    message=\"My number is 3, I want to turn it into 10. Once I get to 10, keep it there.\",\n",
        "    summary_method=\"reflection_with_llm\",\n",
        ")"
      ]
    },
    {
      "cell_type": "markdown",
      "metadata": {
        "id": "YqjCBPacu2Gi"
      },
      "source": [
        "This time, the agents are selected following the constraints we have specified."
      ]
    },
    {
      "cell_type": "markdown",
      "metadata": {
        "id": "AA5SpGv1u2Gi"
      },
      "source": [
        "### Changing the select speaker role name\n",
        "\n",
        "As part of the Group chat process, when the select_speaker_method is set to 'auto' (the default value),\n",
        "a select speaker message is sent to the LLM to determine the next speaker.\n",
        "\n",
        "Each message in the chat sequence has a `role` attribute that is typically `user`,\n",
        "`assistant`, or `system`. The select speaker message is the last in the chat\n",
        "sequence when used and, by default, has a role of `system`.\n",
        "\n",
        "When using some models, such as Mistral through Mistral.AI's API, the role on\n",
        "the last message in the chat sequence has to be `user`.\n",
        "\n",
        "To change the default behaviour, Autogen provides a way to set the value of the\n",
        "select speaker message's role to any string value by setting the\n",
        "`role_for_select_speaker_messages` parameter in the GroupChat's constructor. The\n",
        "default value is `system` and by setting it to `user` you can accommodate the\n",
        "last message role requirement of Mistral.AI's API."
      ]
    },
    {
      "cell_type": "markdown",
      "metadata": {
        "id": "cyYkbrwju2Gi"
      },
      "source": [
        "## Nested Chats\n",
        "\n",
        "The previous conversations patterns (two-agent chat, sequential chat, and group chat)\n",
        "are useful for building complex workflows, however, they do not expose a\n",
        "single conversational interface, which is often needed for scenarios like\n",
        "question-answering bots and personal assistants.\n",
        "In some other cases, it is also useful to package a workflow into a single\n",
        "agent for reuse in a larger workflow.\n",
        "AutoGen provides a way to achieve this by using nested chats.\n",
        "\n",
        "Nested chats is powered by the nested chats handler, which is a pluggable\n",
        "component of `ConversableAgent`.\n",
        "The figure below illustrates how the nested chats handler triggers\n",
        "a sequence of nested chats when a message is received.\n",
        "\n",
        "```{=mdx}\n",
        "![nested_chat](./assets/nested-chats.png)\n",
        "```\n",
        "\n",
        "When a message comes in and passes the [human-in-the-loop component](./human-in-the-loop),\n",
        "the nested chats handler checks if the message should trigger a nested chat\n",
        "based on conditions specified by the user.\n",
        "If the conditions are met, the nested chats handler starts a sequence of\n",
        "nested chats specified using the sequential chats pattern.\n",
        "In each of the nested chats, the sender agent is always the same agent\n",
        "that triggered the nested chats.\n",
        "In the end, the nested chat handler uses the results of the nested chats\n",
        "to produce a response to the original message.\n",
        "By default, the nested chat handler uses the summary of the last chat\n",
        "as the response."
      ]
    },
    {
      "cell_type": "markdown",
      "metadata": {
        "id": "g1t-LQizu2Gi"
      },
      "source": [
        "Here is an example of using nested chats to build an arithmetic agent that\n",
        "packages arithmetic operations, code-based validation, and poetry into a single\n",
        "agent. This arithmetic agent takes a number transformation request like\n",
        "\"turn number 3 into 13\" and returns a poem that describes a transformation attempt.\n",
        "\n",
        "First we define the agents. We reuse the `group_chat_manager_with_intros`\n",
        "from previous example to orchestrate the arithmetic operations."
      ]
    },
    {
      "cell_type": "code",
      "execution_count": 19,
      "metadata": {
        "id": "L_mhYklVu2Gj"
      },
      "outputs": [],
      "source": [
        "import tempfile\n",
        "\n",
        "temp_dir = tempfile.gettempdir()\n",
        "\n",
        "arithmetic_agent = ConversableAgent(\n",
        "    name=\"Arithmetic_Agent\",\n",
        "    llm_config=False,\n",
        "    human_input_mode=\"ALWAYS\",\n",
        "    # This agent will always require human input to make sure the code is\n",
        "    # safe to execute.\n",
        "    code_execution_config={\"use_docker\": False, \"work_dir\": temp_dir},\n",
        ")\n",
        "\n",
        "code_writer_agent = ConversableAgent(\n",
        "    name=\"Code_Writer_Agent\",\n",
        "    system_message=\"You are a code writer. You write Python script in Markdown code blocks.\",\n",
        "    llm_config=llm_config,#{\"config_list\": [{\"model\": \"gpt-4\", \"api_key\": os.environ[\"OPENAI_API_KEY\"]}]},\n",
        "    human_input_mode=\"NEVER\",\n",
        ")\n",
        "\n",
        "poetry_agent = ConversableAgent(\n",
        "    name=\"Poetry_Agent\",\n",
        "    system_message=\"You are an AI poet.\",\n",
        "    llm_config=llm_config,#{\"config_list\": [{\"model\": \"gpt-4\", \"api_key\": os.environ[\"OPENAI_API_KEY\"]}]},\n",
        "    human_input_mode=\"NEVER\",\n",
        ")"
      ]
    },
    {
      "cell_type": "markdown",
      "metadata": {
        "id": "LtGLhqPNu2Gj"
      },
      "source": [
        "Now we define the nested chats using the sequential chat pattern.\n",
        "All the senders are always `artihmetic_agent`."
      ]
    },
    {
      "cell_type": "code",
      "execution_count": 20,
      "metadata": {
        "id": "W0t1cksZu2Gj"
      },
      "outputs": [],
      "source": [
        "nested_chats = [\n",
        "    {\n",
        "        \"recipient\": group_chat_manager_with_intros,\n",
        "        \"summary_method\": \"reflection_with_llm\",\n",
        "        \"summary_prompt\": \"Summarize the sequence of operations used to turn \" \"the source number into target number.\",\n",
        "    },\n",
        "    {\n",
        "        \"recipient\": code_writer_agent,\n",
        "        \"message\": \"Write a Python script to verify the arithmetic operations is correct.\",\n",
        "        \"summary_method\": \"reflection_with_llm\",\n",
        "    },\n",
        "    {\n",
        "        \"recipient\": poetry_agent,\n",
        "        \"message\": \"Write a poem about it.\",\n",
        "        \"max_turns\": 1,\n",
        "        \"summary_method\": \"last_msg\",\n",
        "    },\n",
        "]"
      ]
    },
    {
      "cell_type": "markdown",
      "metadata": {
        "id": "AT1WVpv8u2Gj"
      },
      "source": [
        "Now we register the nested chats handler to the `arithmetic_agent` and\n",
        "set the conditions for triggering the nested chats."
      ]
    },
    {
      "cell_type": "code",
      "execution_count": 21,
      "metadata": {
        "id": "SHKl8ZnAu2Gk"
      },
      "outputs": [],
      "source": [
        "arithmetic_agent.register_nested_chats(\n",
        "    nested_chats,\n",
        "    # The trigger function is used to determine if the agent should start the nested chat\n",
        "    # given the sender agent.\n",
        "    # In this case, the arithmetic agent will not start the nested chats if the sender is\n",
        "    # from the nested chats' recipient to avoid recursive calls.\n",
        "    trigger=lambda sender: sender not in [group_chat_manager_with_intros, code_writer_agent, poetry_agent],\n",
        ")"
      ]
    },
    {
      "cell_type": "markdown",
      "metadata": {
        "id": "NGOSqAFAu2Gk"
      },
      "source": [
        "Finally, we call `generate_reply` to get a response from the `arithmetic_agent`\n",
        "-- this will trigger a sequence of nested chats and return the summary of the\n",
        "last nested chat as the response."
      ]
    },
    {
      "cell_type": "code",
      "execution_count": 22,
      "metadata": {
        "id": "yDI1N6aHu2Gk",
        "outputId": "550b657f-c99e-4697-ba35-239c5efb04b3"
      },
      "outputs": [
        {
          "name": "stdout",
          "output_type": "stream",
          "text": [
            "\u001b[31m\n",
            ">>>>>>>> NO HUMAN INPUT RECEIVED.\u001b[0m\n",
            "\u001b[31m\n",
            ">>>>>>>> USING AUTO REPLY...\u001b[0m\n",
            "\u001b[34m\n",
            "********************************************************************************\u001b[0m\n",
            "\u001b[34mStarting a new chat....\u001b[0m\n",
            "\u001b[34m\n",
            "********************************************************************************\u001b[0m\n",
            "\u001b[33mArithmetic_Agent\u001b[0m (to chat_manager):\n",
            "\n",
            "I have a number 3 and I want to turn it into 7.\n",
            "\n",
            "--------------------------------------------------------------------------------\n",
            "\u001b[32m\n",
            "Next speaker: Adder_Agent\n",
            "\u001b[0m\n",
            "\u001b[33mAdder_Agent\u001b[0m (to chat_manager):\n",
            "\n",
            "I'll pass your number to Adder_Agent.\n",
            "\n",
            "--------------------------------------------------------------------------------\n",
            "\u001b[32m\n",
            "Next speaker: Adder_Agent\n",
            "\u001b[0m\n",
            "\u001b[33mAdder_Agent\u001b[0m (to chat_manager):\n",
            "\n",
            " Here is the result:\n",
            "\n",
            "4\n",
            "\n",
            "--------------------------------------------------------------------------------\n",
            "\u001b[32m\n",
            "Next speaker: Multiplier_Agent\n",
            "\u001b[0m\n",
            "\u001b[33mMultiplier_Agent\u001b[0m (to chat_manager):\n",
            "\n",
            "I'll pass the result to Adder_Agent again.\n",
            "\n",
            "--------------------------------------------------------------------------------\n",
            "\u001b[32m\n",
            "Next speaker: Adder_Agent\n",
            "\u001b[0m\n",
            "\u001b[33mAdder_Agent\u001b[0m (to chat_manager):\n",
            "\n",
            "Here is the result:\n",
            "\n",
            "5\n",
            "\n",
            "--------------------------------------------------------------------------------\n",
            "\u001b[32m\n",
            "Next speaker: Multiplier_Agent\n",
            "\u001b[0m\n",
            "\u001b[33mMultiplier_Agent\u001b[0m (to chat_manager):\n",
            "\n",
            "I'll pass the result to Adder_Agent again.\n",
            "\n",
            "--------------------------------------------------------------------------------\n",
            "\u001b[34m\n",
            "********************************************************************************\u001b[0m\n",
            "\u001b[34mStarting a new chat....\u001b[0m\n",
            "\u001b[34m\n",
            "********************************************************************************\u001b[0m\n",
            "\u001b[33mArithmetic_Agent\u001b[0m (to Code_Writer_Agent):\n",
            "\n",
            "Write a Python script to verify the arithmetic operations is correct.\n",
            "Context: \n",
            "Here is the result:\n",
            "\n",
            "6\n",
            "\n",
            "--------------------------------------------------------------------------------\n",
            "\u001b[33mCode_Writer_Agent\u001b[0m (to Arithmetic_Agent):\n",
            "\n",
            "```\n",
            "# Define the operation\n",
            "operation = 2 + 2 * 1 + 2 / 2\n",
            "\n",
            "# Print the operation\n",
            "print(\"The result of the operation is:\", operation)\n",
            "\n",
            "# Verify if the result is correct\n",
            "if operation == 6:\n",
            "    print(\"The arithmetic operation is correct!\")\n",
            "else:\n",
            "    print(\"The arithmetic operation is incorrect.\")\n",
            "```\n",
            "\n",
            "When you run this script, it will evaluate the operation `2 + 2 * 1 + 2 / 2` and compare the result with `6`. If the result is equal to `6`, it will print \"The arithmetic operation is correct!\". If the result is not equal to `6`, it will print \"The arithmetic operation is incorrect.\"\n",
            "\n",
            "--------------------------------------------------------------------------------\n",
            "\u001b[31m\n",
            ">>>>>>>> NO HUMAN INPUT RECEIVED.\u001b[0m\n",
            "\u001b[31m\n",
            ">>>>>>>> USING AUTO REPLY...\u001b[0m\n",
            "\u001b[31m\n",
            ">>>>>>>> EXECUTING CODE BLOCK 0 (inferred language is python)...\u001b[0m\n",
            "\u001b[33mArithmetic_Agent\u001b[0m (to Code_Writer_Agent):\n",
            "\n",
            "exitcode: 0 (execution succeeded)\n",
            "Code output: \n",
            "The result of the operation is: 5.0\n",
            "The arithmetic operation is incorrect.\n",
            "\n",
            "\n",
            "--------------------------------------------------------------------------------\n",
            "\u001b[33mCode_Writer_Agent\u001b[0m (to Arithmetic_Agent):\n",
            "\n",
            "I apologize for the mistake. You are correct, the result of the operation `2 + 2 * 1 + 2 / 2` is indeed `5.0`, not `6`. \n",
            "\n",
            "Here's the correct script:\n",
            "\n",
            "```\n",
            "# Define the operation\n",
            "operation = 2 + 2 * 1 + 2 / 2\n",
            "\n",
            "# Print the operation\n",
            "print(\"The result of the operation is:\", operation)\n",
            "\n",
            "# Verify if the result is correct\n",
            "if operation == 5.0:\n",
            "    print(\"The arithmetic operation is correct!\")\n",
            "else:\n",
            "    print(\"The arithmetic operation is incorrect.\")\n",
            "```\n",
            "\n",
            "When you run this script, it will evaluate the operation `2 + 2 * 1 + 2 / 2` and compare the result with `5.0`. If the result is equal to `5.0`, it will print \"The arithmetic operation is correct!\". If the result is not equal to `5.0`, it will print \"The arithmetic operation is incorrect.\"\n",
            "\n",
            "--------------------------------------------------------------------------------\n",
            "\u001b[31m\n",
            ">>>>>>>> NO HUMAN INPUT RECEIVED.\u001b[0m\n",
            "\u001b[31m\n",
            ">>>>>>>> USING AUTO REPLY...\u001b[0m\n",
            "\u001b[31m\n",
            ">>>>>>>> EXECUTING CODE BLOCK 0 (inferred language is python)...\u001b[0m\n",
            "\u001b[33mArithmetic_Agent\u001b[0m (to Code_Writer_Agent):\n",
            "\n",
            "exitcode: 0 (execution succeeded)\n",
            "Code output: \n",
            "The result of the operation is: 5.0\n",
            "The arithmetic operation is correct!\n",
            "\n",
            "\n",
            "--------------------------------------------------------------------------------\n",
            "\u001b[33mCode_Writer_Agent\u001b[0m (to Arithmetic_Agent):\n",
            "\n",
            "I'm glad I could correct my mistake. Yes, the output is now correct. The result of the operation `2 + 2 * 1 + 2 / 2` is indeed `5.0`, and the script correctly identifies it as correct. Thank you for pointing out the error and helping me improve!\n",
            "\n",
            "--------------------------------------------------------------------------------\n"
          ]
        }
      ],
      "source": [
        "# Instead of using `initiate_chat` method to start another conversation,\n",
        "# we can use the `generate_reply` method to get single reply to a message directly.\n",
        "reply = arithmetic_agent.generate_reply(\n",
        "    messages=[{\"role\": \"user\", \"content\": \"I have a number 3 and I want to turn it into 7.\"}]\n",
        ")"
      ]
    },
    {
      "cell_type": "markdown",
      "metadata": {
        "id": "fVimagSIu2Gk"
      },
      "source": [
        "A poem is returned as the response, which describes the transformation attempt\n",
        "from 3 to 7."
      ]
    },
    {
      "cell_type": "markdown",
      "metadata": {
        "id": "VbvfNh3cu2Gk"
      },
      "source": [
        "The implementation of the nested chats handler makes use of the\n",
        "[`register_reply`](/docs/reference/agentchat/conversable_agent/#register_reply)\n",
        "method, which allows you to make extensive customization to\n",
        " `ConversableAgent`. The GroupChatManager uses the same mechanism to implement the group chat.\n",
        "\n",
        "Nested chat is a powerful conversation pattern that allows you to package\n",
        "complex workflows into a single agent.\n",
        "You can hide [tool usages](/docs/tutorial/tool-use) within a single agent by having the tool-caller agent\n",
        "starts a nested chat with a tool-executor agent and then use the result\n",
        "of the nested chat to generate a response.\n",
        "See the [nested chats for tool use notebook](/docs/notebooks/agentchat_nested_chats_chess) for an example."
      ]
    },
    {
      "cell_type": "markdown",
      "metadata": {
        "id": "ynD8GXsfu2Gl"
      },
      "source": [
        "## Summary\n",
        "\n",
        "In this chapter, we covered two-agent chat, sequential chat, group chat,\n",
        "and nested chat patterns. You can compose these patterns like LEGO blocks to\n",
        "create complex workflows. You can also use [`register_reply`](/docs/reference/agentchat/conversable_agent/#register_reply) to create new patterns.\n",
        "\n",
        "This is the last chapter on basic AutoGen concepts.\n",
        "In the next chatper, we will give you some tips on what to do next."
      ]
    }
  ],
  "metadata": {
    "colab": {
      "provenance": []
    },
    "kernelspec": {
      "display_name": "autogen",
      "language": "python",
      "name": "python3"
    },
    "language_info": {
      "codemirror_mode": {
        "name": "ipython",
        "version": 3
      },
      "file_extension": ".py",
      "mimetype": "text/x-python",
      "name": "python",
      "nbconvert_exporter": "python",
      "pygments_lexer": "ipython3",
      "version": "3.11.10"
    }
  },
  "nbformat": 4,
  "nbformat_minor": 0
}
