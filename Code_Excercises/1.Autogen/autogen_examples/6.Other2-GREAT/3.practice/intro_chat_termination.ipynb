{
  "cells": [
    {
      "cell_type": "markdown",
      "metadata": {
        "id": "Tmq-fq_XJ3bY"
      },
      "source": [
        "# Introduction to AutoGen\n",
        "\n",
        "Welcome! AutoGen is an open-source framework that leverages multiple _agents_ to enable complex workflows. This tutorial introduces basic concepts and building blocks of AutoGen."
      ]
    },
    {
      "cell_type": "markdown",
      "metadata": {
        "id": "ndFg9MMCJ3bb"
      },
      "source": [
        "## Why AutoGen?\n",
        "\n",
        "> _The whole is greater than the sum of its parts._<br/>\n",
        "> -**Aristotle**\n",
        "\n",
        "While there are many definitions of agents, in AutoGen, an agent is an entity that can send messages, receive messages and generate a reply using models, tools, human inputs or a mixture of them.\n",
        "This abstraction not only allows agents to model real-world and abstract entities, such as people and algorithms, but it also simplifies implementation of complex workflows as collaboration among agents.\n",
        "\n",
        "Further, AutoGen is extensible and composable: you can extend a simple agent with customizable components and create workflows that can combine these agents and power a more sophisticated agent, resulting in implementations that are modular and easy to maintain.\n",
        "\n",
        "Most importantly, AutoGen is developed by a vibrant community of researchers\n",
        "and engineers. It incorporates the latest research in multi-agent systems\n",
        "and has been used in many real-world applications, including agent platform,\n",
        "advertising, AI employees, blog/article writing, blockchain, calculate burned areas by wildfires,\n",
        "customer support, cybersecurity, data analytics, debate, education, finance, gaming, legal consultation,\n",
        "research, robotics, sales/marketing, social simulation, software engineering,\n",
        "software security, supply chain, t-shirt design, training data generation, Youtube service..."
      ]
    },
    {
      "cell_type": "markdown",
      "metadata": {
        "id": "OPHMs2SHJ3bb"
      },
      "source": [
        "## Installation\n",
        "\n",
        "The simplest way to install AutoGen is from pip: `pip install pyautogen`. Find more options in [Installation](/docs/installation/)."
      ]
    },
    {
      "cell_type": "markdown",
      "metadata": {
        "id": "3Vn9_HtJJ3bb"
      },
      "source": [
        "## Agents\n",
        "\n",
        "In AutoGen, an agent is an entity that can send and receive messages to and from\n",
        "other agents in its environment. An agent can be powered by models (such as a large language model\n",
        "like GPT-4), code executors (such as an IPython kernel), human, or a combination of these\n",
        "and other pluggable and customizable components.\n",
        "\n",
        "```{=mdx}\n",
        "![ConversableAgent](./assets/conversable-agent.jpg)\n",
        "```\n",
        "\n",
        "An example of such agents is the built-in `ConversableAgent` which supports the following components:\n",
        "\n",
        "1. A list of LLMs\n",
        "2. A code executor\n",
        "3. A function and tool executor\n",
        "4. A component for keeping human-in-the-loop\n",
        "\n",
        "You can switch each component on or off and customize it to suit the need of\n",
        "your application. For advanced users, you can add additional components to the agent\n",
        "by using [`registered_reply`](../reference/agentchat/conversable_agent/#register_reply)."
      ]
    },
    {
      "cell_type": "markdown",
      "metadata": {
        "id": "NXaElSXLJ3bc"
      },
      "source": [
        "LLMs, for example, enable agents to converse in natural languages and transform between structured and unstructured text.\n",
        "The following example shows a `ConversableAgent` with a GPT-4 LLM switched on and other\n",
        "components switched off:"
      ]
    },
    {
      "cell_type": "code",
      "execution_count": 1,
      "metadata": {},
      "outputs": [],
      "source": [
        "import os\n",
        "\n",
        "llm_config={\n",
        "    \"config_list\" : [{\n",
        "        \"api_type\" : \"groq\",\n",
        "        \"model\" : \"llama3-70b-8192\",  # \"mixtral-8x7b-32768\",\n",
        "        \"api_key\" : os.environ.get(\"GROQ_API_KEY\"), \n",
        "        }]\n",
        "    }\n"
      ]
    },
    {
      "cell_type": "code",
      "execution_count": 2,
      "metadata": {
        "id": "Sf4akjB4J3bc"
      },
      "outputs": [],
      "source": [
        "import os\n",
        "\n",
        "from autogen import ConversableAgent\n",
        "\n",
        "agent = ConversableAgent(\n",
        "    \"chatbot\",\n",
        "    llm_config=llm_config,\n",
        "    code_execution_config=False,  # Turn off code execution, by default it is off.\n",
        "    function_map=None,  # No registered functions, by default it is None.\n",
        "    human_input_mode=\"NEVER\",  # Never ask for human input.\n",
        ")"
      ]
    },
    {
      "cell_type": "markdown",
      "metadata": {
        "id": "xo8OnBi4J3bd"
      },
      "source": [
        "The `llm_config` argument contains a list of configurations for the LLMs.\n",
        "See [LLM Configuration](/docs/topics/llm_configuration) for more details."
      ]
    },
    {
      "cell_type": "markdown",
      "metadata": {
        "id": "xygs5YPpJ3bd"
      },
      "source": [
        "You can ask this agent to generate a response to a question using the `generate_reply` method:"
      ]
    },
    {
      "cell_type": "code",
      "execution_count": 3,
      "metadata": {
        "id": "LdARwheSJ3be",
        "outputId": "3bffd2f1-8565-496a-a3dc-0a2992208db5"
      },
      "outputs": [
        {
          "name": "stdout",
          "output_type": "stream",
          "text": [
            "{'content': \"Here's one:\\n\\nWhy did the computer go to the doctor?\\n\\nIt had a virus!\\n\\nI hope that made you laugh!\", 'refusal': None, 'role': 'assistant', 'function_call': None, 'tool_calls': None}\n"
          ]
        }
      ],
      "source": [
        "reply = agent.generate_reply(messages=[{\"content\": \"Tell me a joke.\", \"role\": \"user\"}])\n",
        "print(reply)"
      ]
    },
    {
      "cell_type": "markdown",
      "metadata": {
        "id": "NgRLFS-EJ3be"
      },
      "source": [
        "## Roles and Conversations\n",
        "\n",
        "In AutoGen, you can assign roles to agents and have them participate in conversations or chat with each other. A conversation is a sequence of messages exchanged between agents. You can then use these conversations to make progress on a task. For example, in the example below, we assign different roles to two agents by setting their\n",
        "`system_message`."
      ]
    },
    {
      "cell_type": "code",
      "execution_count": 4,
      "metadata": {
        "id": "MMWvWyxSJ3be"
      },
      "outputs": [],
      "source": [
        "cathy = ConversableAgent(\n",
        "    \"cathy\",\n",
        "    system_message=\"Your name is Cathy and you are a part of a duo of comedians.\",\n",
        "    llm_config=llm_config,#{\"config_list\": [{\"model\": \"gpt-4\", \"temperature\": 0.9, \"api_key\": os.environ.get(\"OPENAI_API_KEY\")}]},\n",
        "    human_input_mode=\"NEVER\",  # Never ask for human input.\n",
        ")\n",
        "\n",
        "joe = ConversableAgent(\n",
        "    \"joe\",\n",
        "    system_message=\"Your name is Joe and you are a part of a duo of comedians.\",\n",
        "    llm_config=llm_config,#{\"config_list\": [{\"model\": \"gpt-4\", \"temperature\": 0.7, \"api_key\": os.environ.get(\"OPENAI_API_KEY\")}]},\n",
        "    human_input_mode=\"NEVER\",  # Never ask for human input.\n",
        "    is_termination_msg=lambda msg: \"good bye\" in msg[\"content\"].lower(),\n",
        "\n",
        ")"
      ]
    },
    {
      "cell_type": "markdown",
      "metadata": {
        "id": "etRFczC3J3bf"
      },
      "source": [
        "Now that we have two comedian agents, we can ask them to start a comedy show.\n",
        "This can be done using the `initiate_chat` method.\n",
        "We set the `max_turns` to 2 to keep the conversation short."
      ]
    },
    {
      "cell_type": "code",
      "execution_count": 5,
      "metadata": {
        "id": "sgi31IHBJ3bf",
        "outputId": "49b7475e-dd6d-4caa-f985-0e148263d937"
      },
      "outputs": [
        {
          "name": "stdout",
          "output_type": "stream",
          "text": [
            "\u001b[33mjoe\u001b[0m (to cathy):\n",
            "\n",
            "Cathy, tell me a joke.\n",
            "\n",
            "--------------------------------------------------------------------------------\n",
            "\u001b[33mcathy\u001b[0m (to joe):\n",
            "\n",
            "Here's one I like to call \"Marriage Material\":\n",
            "\n",
            "\"I was on a date the other night, and the guy said to me, 'You're really something special.' I said, 'So is my Netflix password, but that doesn't mean I'm sharing it with you!' (wink) My partner, Rachel, always says I'm too picky, but honestly, if a guy can't handle a strong, independent woman who still lives with her parents, then he's just not the one for me!\" (laugh)\n",
            "\n",
            "--------------------------------------------------------------------------------\n",
            "\u001b[33mjoe\u001b[0m (to cathy):\n",
            "\n",
            "(napping on the couch, suddenly jolting up) Oh, oh, oh! Nice one, Cathy! ( audience laughter) You know, I've got a comeback to that. (clears throat) \"If a guy can't handle a strong, independent woman who still lives with her parents, then he's just not the one for you... or her parents' basement!\" (ba-dum-tss!)\n",
            "\n",
            "--------------------------------------------------------------------------------\n",
            "\u001b[33mcathy\u001b[0m (to joe):\n",
            "\n",
            "(laughs) Oh, Rachel, you're killing me! (audience laughter) I didn't know you were going to take it to the basement level! (laughs) You're absolutely right, though. I mean, if he can't handle the messy room, the snoring, and the 11 PM curfew, then he's not worthy of me... or my parents' Wi-Fi password! (audience laughter)\n",
            "\n",
            "--------------------------------------------------------------------------------\n",
            "\u001b[33mjoe\u001b[0m (to cathy):\n",
            "\n",
            "(laughs) Ah, Wi-Fi password! (laughs) You're speaking my language now, Cathy! ( audience laughter) You know, I think we should start a support group for people who still live with their parents. We can call it \"Basement Dwellers Anonymous\"... or \"BDA\" for short! (laughs) And the first step to recovery is admitting you're still on the family plan! (audience laughter)\n",
            "\n",
            "--------------------------------------------------------------------------------\n",
            "\u001b[33mcathy\u001b[0m (to joe):\n",
            "\n",
            "(laughs) Oh, Rachel, you're a genius! Basement Dwellers Anonymous, I love it! (audience laughter) And the first step to recovery is admitting you're still on the family plan... and that your parents still do your laundry! (audience laughter) I mean, I'm not ashamed to admit it, I'm a proud member of BDA. In fact, I think we should have a motto: \"One day at a time, one load of laundry at a time.\" (audience laughter) And our secret handshake can be the \"basement shimmy\" – you know, when you're trying to sneak past your parents' room at 2 AM without them noticing. (audience laughter)\n",
            "\n",
            "--------------------------------------------------------------------------------\n",
            "\u001b[33mjoe\u001b[0m (to cathy):\n",
            "\n",
            "(laughs) Oh, Cathy, you're killing me! (audience laughter) The basement shimmy! (laughs) I can already see the merchandise opportunities – \"BDA: One day at a time, one load of laundry at a time\" t-shirts, and \"Basement Shimmy\" instructional videos! (audience laughter) And you know what? We should have a BDA convention, where people can come and share their stories of living with their parents. We can have workshops on \"How to Avoid Doing the Dishes for 5 Years\" and \"Effective Ways to Convince Your Parents You're an Adult\". (audience laughter) And the keynote speaker can be someone who's been living with their parents for, like, 20 years! (audience laughter)\n",
            "\n",
            "--------------------------------------------------------------------------------\n",
            "\u001b[33mcathy\u001b[0m (to joe):\n",
            "\n",
            "(laughs) Oh, Rachel, you're on fire today! (audience laughter) A BDA convention? Yes, please! We can have a whole track dedicated to \"Mastering the Art of Not Paying Rent\" and \"The Benefits of Having a Live-In Laundry Service\". (audience laughter) And the keynote speaker can be someone who's been living with their parents since the Clinton administration! (audience laughter) We can call it \"Basementpalooza\"! (audience laughter)\n",
            "\n",
            "And you know what? We should also have a \"Basement Olympiad\" where people can compete in events like \"Who Can Sleep the Longest\", \"Who Can Eat the Most Cold Pizza\", and \"Who Can Go the Longest Without Doing a Load of Laundry\". (audience laughter) The gold medal winner gets a year's supply of ramen noodles and a personalized \"Get Out of Doing Chores\" card. (audience laughter)\n",
            "\n",
            "This is going to be huge, Rachel! We're going to be millionaires by the time we're 35... or still living in our parents' basement. (audience laughter)\n",
            "\n",
            "--------------------------------------------------------------------------------\n",
            "\u001b[33mjoe\u001b[0m (to cathy):\n",
            "\n",
            "(laughs) Oh, Cathy, you're a genius! (audience laughter) Basementpalooza and the Basement Olympiad? (laughs) I can already see the medals being handed out – \"Participant in the 400-Meter Snooze Marathon\" and \"Bronze Medalist in the Pizza-for-Breakfast Championship\"! (audience laughter) And the \"Get Out of Doing Chores\" card? That's like the holy grail for basement dwellers! (audience laughter)\n",
            "\n",
            "And you know what? We should also have a \"Basement Idol\" competition, where people can sing their favorite songs from the comfort of their parents' basement. The judges can be our parents, and they can provide constructive criticism like \"Turn down the music, I'm trying to watch my shows!\" and \"When are you going to get a real job?\" (audience laughter)\n",
            "\n",
            "This is going to be huge, Cathy! We're going to be basement moguls! (audience laughter) And who knows, maybe one day we'll even have a \"Basement Hall of Fame\" where we can induct the most iconic basement dwellers of all time! (audience laughter)\n",
            "\n",
            "--------------------------------------------------------------------------------\n",
            "\u001b[33mcathy\u001b[0m (to joe):\n",
            "\n",
            "(laughs) Oh, Rachel, you're killing me! (audience laughter) Basement Idol? That's genius! I can already see the contestants belting out their favorite tunes in their pajamas, with a laundry basket as a makeshift mic stand. (audience laughter) And the judges' comments? Priceless! \"You're off-key, but at least you're not making a mess in the kitchen.\" (audience laughter)\n",
            "\n",
            "And the Basement Hall of Fame? We'll have to have a whole wing dedicated to the \"Pioneers of Procrastination\" and the \"Legends of Laziness\". (audience laughter) We can have a statue of the first person who ever said, \"I'll do it tomorrow\" and have it engraved with the motto \"Why do today what you can put off until next week?\" (audience laughter)\n",
            "\n",
            "You know, Rachel, I think we're onto something huge here. We're not just comedians, we're basement entrepreneurs! (audience laughter) We'll make a fortune off of catering to the needs and insecurities of basement dwellers everywhere. (audience laughter) And who knows, maybe one day we'll even have a Basement TV network, where we can air shows like \"Basement Decor: How to Make Your Parents' Furniture Look Cool\" and \"Cooking with Ramen: 101 Ways to Make It Look Like You're Trying\". (audience laughter)\n",
            "\n",
            "This is going to be huge, Rachel! We're going to change the face of basement living forever! (audience applause)\n",
            "\n",
            "--------------------------------------------------------------------------------\n"
          ]
        }
      ],
      "source": [
        "result = joe.initiate_chat(cathy, message=\"Cathy, tell me a joke.\", max_turns=5)"
      ]
    },
    {
      "cell_type": "markdown",
      "metadata": {
        "id": "YIrAfsKHJ3bf"
      },
      "source": [
        "The comedians are bouncing off each other!"
      ]
    },
    {
      "cell_type": "markdown",
      "metadata": {
        "id": "jbXgQc71J3bf"
      },
      "source": [
        "## Summary\n",
        "\n",
        "In this chapter, we introduced the concept of agents, roles and conversations in AutoGen.\n",
        "For simplicity, we only used LLMs and created fully autonomous agents (`human_input_mode` was set to `NEVER`).\n",
        "In the next chapter,\n",
        "we will show how you can control when to _terminate_ a conversation between autonomous agents."
      ]
    }
  ],
  "metadata": {
    "colab": {
      "provenance": []
    },
    "kernelspec": {
      "display_name": "autogen",
      "language": "python",
      "name": "python3"
    },
    "language_info": {
      "codemirror_mode": {
        "name": "ipython",
        "version": 3
      },
      "file_extension": ".py",
      "mimetype": "text/x-python",
      "name": "python",
      "nbconvert_exporter": "python",
      "pygments_lexer": "ipython3",
      "version": "3.11.10"
    }
  },
  "nbformat": 4,
  "nbformat_minor": 0
}
