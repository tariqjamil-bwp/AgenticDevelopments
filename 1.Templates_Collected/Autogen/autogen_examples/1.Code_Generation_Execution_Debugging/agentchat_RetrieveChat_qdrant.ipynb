{
  "cells": [
    {
      "cell_type": "markdown",
      "metadata": {
        "id": "Y4k4BhdUtmm_"
      },
      "source": [
        "# Using RetrieveChat with Qdrant for Retrieve Augmented Code Generation and Question Answering\n",
        "\n",
        "[Qdrant](https://qdrant.tech/) is a high-performance vector search engine/database.\n",
        "\n",
        "This notebook demonstrates the usage of Qdrant for RAG, based on [agentchat_RetrieveChat.ipynb](https://colab.research.google.com/github/microsoft/autogen/blob/main/notebook/agentchat_RetrieveChat.ipynb).\n",
        "\n",
        "\n",
        "RetrieveChat is a conversational system for retrieve augmented code generation and question answering. In this notebook, we demonstrate how to utilize RetrieveChat to generate code and answer questions based on customized documentations that are not present in the LLM's training dataset. RetrieveChat uses the `AssistantAgent` and `RetrieveUserProxyAgent`, which is similar to the usage of `AssistantAgent` and `UserProxyAgent` in other notebooks (e.g., [Automated Task Solving with Code Generation, Execution & Debugging](https://github.com/microsoft/autogen/blob/main/notebook/agentchat_auto_feedback_from_code_execution.ipynb)).\n",
        "\n",
        "We'll demonstrate usage of RetrieveChat with Qdrant for code generation and question answering w/ human feedback.\n",
        "\n",
        "````{=mdx}\n",
        ":::info Requirements\n",
        "Some extra dependencies are needed for this notebook, which can be installed via pip:\n",
        "\n",
        "```bash\n",
        "pip install \"pyautogen[retrievechat-qdrant]\" \"flaml[automl]\"\n",
        "```\n",
        "\n",
        "For more information, please refer to the [installation guide](/docs/installation/).\n",
        ":::\n",
        "````"
      ]
    },
    {
      "cell_type": "code",
      "execution_count": 1,
      "metadata": {
        "id": "jmdJuVBotmnH",
        "outputId": "6d81f8e0-b422-4e8e-f5f7-9e0a354eae78"
      },
      "outputs": [],
      "source": [
        "#%pip install \"pyautogen[retrievechat-qdrant]\" \"flaml[automl]\" -q"
      ]
    },
    {
      "cell_type": "markdown",
      "metadata": {
        "id": "3YErHmhetmnK"
      },
      "source": [
        "## Set your API Endpoint\n",
        "\n",
        "The [`config_list_from_json`](https://microsoft.github.io/autogen/docs/reference/oai/openai_utils#config_list_from_json) function loads a list of configurations from an environment variable or a json file.\n"
      ]
    },
    {
      "cell_type": "code",
      "execution_count": 2,
      "metadata": {},
      "outputs": [],
      "source": [
        "import os\n",
        "config_list = [{\"api_type\":\"groq\",\"model\":\"llama3-70b-8192\",\"api_key\":os.environ.get(\"GROQ_API_KEY\"),}]\n",
        "llm_config={\"config_list\" : config_list}"
      ]
    },
    {
      "cell_type": "code",
      "execution_count": 3,
      "metadata": {
        "id": "t9UKR0KBtmnL",
        "outputId": "8f5b9711-8bf9-4ee7-94c6-a78f5403edd8"
      },
      "outputs": [
        {
          "name": "stderr",
          "output_type": "stream",
          "text": [
            "/home/tjamil/.local/share/virtualenvs/Agents-4yRd6dJo/lib/python3.11/site-packages/sentence_transformers/cross_encoder/CrossEncoder.py:13: TqdmWarning: IProgress not found. Please update jupyter and ipywidgets. See https://ipywidgets.readthedocs.io/en/stable/user_install.html\n",
            "  from tqdm.autonotebook import tqdm, trange\n"
          ]
        },
        {
          "name": "stdout",
          "output_type": "stream",
          "text": [
            "models to use:  ['llama3-70b-8192']\n"
          ]
        }
      ],
      "source": [
        "from qdrant_client import QdrantClient\n",
        "from sentence_transformers import SentenceTransformer\n",
        "\n",
        "import autogen\n",
        "from autogen import AssistantAgent\n",
        "from autogen.agentchat.contrib.retrieve_user_proxy_agent import RetrieveUserProxyAgent\n",
        "\n",
        "# Accepted file formats for that can be stored in\n",
        "# a vector database instance\n",
        "from autogen.retrieve_utils import TEXT_FORMATS\n",
        "\n",
        "#config_list = autogen.config_list_from_json(\"OAI_CONFIG_LIST\")\n",
        "\n",
        "assert len(config_list) > 0\n",
        "print(\"models to use: \", [config_list[i][\"model\"] for i in range(len(config_list))])"
      ]
    },
    {
      "cell_type": "markdown",
      "metadata": {
        "id": "DPl55ZzFtmnM"
      },
      "source": [
        "````{=mdx}\n",
        ":::tip\n",
        "Learn more about configuring LLMs for agents [here](/docs/topics/llm_configuration).\n",
        ":::\n",
        "````"
      ]
    },
    {
      "cell_type": "code",
      "execution_count": 4,
      "metadata": {
        "id": "y2xPUmHGtmnM",
        "outputId": "27ca73f8-514d-4195-b8d5-ebc1d4c5beb5"
      },
      "outputs": [
        {
          "name": "stdout",
          "output_type": "stream",
          "text": [
            "Accepted file formats for `docs_path`:\n",
            "['csv', 'yml', 'jsonl', 'doc', 'html', 'msg', 'xlsx', 'yaml', 'xml', 'pptx', 'rtf', 'json', 'odt', 'pdf', 'md', 'rst', 'txt', 'epub', 'htm', 'org', 'docx', 'tsv', 'ppt', 'log']\n"
          ]
        }
      ],
      "source": [
        "print(\"Accepted file formats for `docs_path`:\")\n",
        "print(TEXT_FORMATS)"
      ]
    },
    {
      "cell_type": "markdown",
      "metadata": {
        "id": "AfCJ1E58tmnN"
      },
      "source": [
        "## Construct agents for RetrieveChat\n",
        "\n",
        "We start by initializing the `AssistantAgent` and `RetrieveUserProxyAgent`. The system message needs to be set to \"You are a helpful assistant.\" for AssistantAgent. The detailed instructions are given in the user message. Later we will use the `RetrieveUserProxyAgent.generate_init_prompt` to combine the instructions and a retrieval augmented generation task for an initial prompt to be sent to the LLM assistant.\n",
        "\n",
        "### You can find the list of all the embedding models supported by Qdrant [here](https://qdrant.github.io/fastembed/examples/Supported_Models/)."
      ]
    },
    {
      "cell_type": "code",
      "execution_count": 5,
      "metadata": {
        "colab": {
          "referenced_widgets": [
            "67171b10626248ba8b5bff0f5a4d6895"
          ]
        },
        "id": "b9iR1nkBtmnO",
        "outputId": "85d52509-6482-4c76-f228-ab7d457963d4"
      },
      "outputs": [
        {
          "name": "stderr",
          "output_type": "stream",
          "text": [
            "/home/tjamil/.local/share/virtualenvs/Agents-4yRd6dJo/lib/python3.11/site-packages/transformers/tokenization_utils_base.py:1601: FutureWarning: `clean_up_tokenization_spaces` was not set. It will be set to `True` by default. This behavior will be depracted in transformers v4.45, and will be then set to `False` by default. For more details check this issue: https://github.com/huggingface/transformers/issues/31884\n",
            "  warnings.warn(\n"
          ]
        }
      ],
      "source": [
        "# 1. create an AssistantAgent instance named \"assistant\"\n",
        "assistant = AssistantAgent(\n",
        "    name=\"assistant\",\n",
        "    system_message=\"You are a helpful assistant.\",\n",
        "    llm_config={\n",
        "        \"timeout\": 600,\n",
        "        \"cache_seed\": 42,\n",
        "        \"config_list\": config_list,\n",
        "    },\n",
        ")\n",
        "\n",
        "# Optionally create embedding function object\n",
        "sentence_transformer_ef = SentenceTransformer(\"all-distilroberta-v1\").encode\n",
        "client = QdrantClient(\":memory:\")\n",
        "\n",
        "# 2. create the RetrieveUserProxyAgent instance named \"ragproxyagent\"\n",
        "# Refer to https://microsoft.github.io/autogen/docs/reference/agentchat/contrib/retrieve_user_proxy_agent\n",
        "# and https://microsoft.github.io/autogen/docs/reference/agentchat/contrib/vectordb/qdrant\n",
        "# for more information on the RetrieveUserProxyAgent and QdrantVectorDB\n",
        "ragproxyagent = RetrieveUserProxyAgent(\n",
        "    name=\"ragproxyagent\",\n",
        "    human_input_mode=\"NEVER\",\n",
        "    max_consecutive_auto_reply=10,\n",
        "    retrieve_config={\n",
        "        \"task\": \"code\",\n",
        "        \"docs_path\": [\n",
        "            \"https://raw.githubusercontent.com/microsoft/flaml/main/README.md\",\n",
        "            \"https://raw.githubusercontent.com/microsoft/FLAML/main/website/docs/Research.md\",\n",
        "        ],  # change this to your own path, such as https://raw.githubusercontent.com/microsoft/autogen/main/README.md\n",
        "        \"chunk_token_size\": 2000,\n",
        "        \"model\": config_list[0][\"model\"],\n",
        "        \"db_config\": {\"client\": client},\n",
        "        \"vector_db\": \"qdrant\",  # qdrant database\n",
        "        \"get_or_create\": True,  # set to False if you don't want to reuse an existing collection\n",
        "        \"overwrite\": True,  # set to True if you want to overwrite an existing collection\n",
        "        \"embedding_function\": sentence_transformer_ef,  # If left out fastembed \"BAAI/bge-small-en-v1.5\" will be used\n",
        "    },\n",
        "    code_execution_config=False,\n",
        ")"
      ]
    },
    {
      "cell_type": "markdown",
      "metadata": {
        "id": "bVcpnfT8tmnO"
      },
      "source": [
        "<a id=\"example-1\"></a>\n",
        "### Example 1\n",
        "\n",
        "[back to top](#toc)\n",
        "\n",
        "Use RetrieveChat to answer a question and ask for human-in-loop feedbacks.\n",
        "\n",
        "Problem: Is there a function named `tune_automl` in FLAML?"
      ]
    },
    {
      "cell_type": "code",
      "execution_count": 6,
      "metadata": {
        "id": "3yVvFzZxtmnP",
        "outputId": "18937dac-9d7d-4c37-8f48-09f5e2da440b"
      },
      "outputs": [
        {
          "name": "stdout",
          "output_type": "stream",
          "text": [
            "Trying to create collection.\n"
          ]
        },
        {
          "name": "stderr",
          "output_type": "stream",
          "text": [
            "2024-09-23 19:02:30,041 - autogen.agentchat.contrib.retrieve_user_proxy_agent - INFO - Found 3 chunks.\u001b[0m\n",
            "Model llama3-70b-8192 not found. Using cl100k_base encoding.\n"
          ]
        },
        {
          "name": "stdout",
          "output_type": "stream",
          "text": [
            "VectorDB returns doc_ids:  [['0d580ff7-7fc1-bf18-cd0c-de037cbd9343', '0ecd7192-3761-7d6f-9151-5ff504ca740b', '9be3ff7b-0243-32ab-5e97-7762580e2663']]\n",
            "\u001b[32mAdding content of doc 0d580ff7-7fc1-bf18-cd0c-de037cbd9343 to context.\u001b[0m\n"
          ]
        },
        {
          "name": "stderr",
          "output_type": "stream",
          "text": [
            "Model llama3-70b-8192 not found. Using cl100k_base encoding.\n"
          ]
        },
        {
          "name": "stdout",
          "output_type": "stream",
          "text": [
            "\u001b[33mragproxyagent\u001b[0m (to assistant):\n",
            "\n",
            "You're a retrieve augmented coding assistant. You answer user's questions based on your own knowledge and the\n",
            "context provided by the user.\n",
            "If you can't answer the question with or without the current context, you should reply exactly `UPDATE CONTEXT`.\n",
            "For code generation, you must obey the following rules:\n",
            "Rule 1. You MUST NOT install any packages because all the packages needed are already installed.\n",
            "Rule 2. You must follow the formats below to write your code:\n",
            "```language\n",
            "# your code\n",
            "```\n",
            "\n",
            "User's question is: Is there a function called tune_automl?\n",
            "\n",
            "Context is: [![PyPI version](https://badge.fury.io/py/FLAML.svg)](https://badge.fury.io/py/FLAML)\n",
            "![Conda version](https://img.shields.io/conda/vn/conda-forge/flaml)\n",
            "[![Build](https://github.com/microsoft/FLAML/actions/workflows/python-package.yml/badge.svg)](https://github.com/microsoft/FLAML/actions/workflows/python-package.yml)\n",
            "[![PyPI - Python Version](https://img.shields.io/pypi/pyversions/FLAML)](https://pypi.org/project/FLAML/)\n",
            "[![Downloads](https://pepy.tech/badge/flaml)](https://pepy.tech/project/flaml)\n",
            "[![](https://img.shields.io/discord/1025786666260111483?logo=discord&style=flat)](https://discord.gg/Cppx2vSPVP)\n",
            "\n",
            "<!-- [![Join the chat at https://gitter.im/FLAMLer/community](https://badges.gitter.im/FLAMLer/community.svg)](https://gitter.im/FLAMLer/community?utm_source=badge&utm_medium=badge&utm_campaign=pr-badge&utm_content=badge) -->\n",
            "\n",
            "# A Fast Library for Automated Machine Learning & Tuning\n",
            "\n",
            "<p align=\"center\">\n",
            "    <img src=\"https://github.com/microsoft/FLAML/blob/main/website/static/img/flaml.svg\"  width=200>\n",
            "    <br>\n",
            "</p>\n",
            "\n",
            ":fire: FLAML supports AutoML and Hyperparameter Tuning in [Microsoft Fabric Data Science](https://learn.microsoft.com/en-us/fabric/data-science/automated-machine-learning-fabric). In addition, we've introduced Python 3.11 support, along with a range of new estimators, and comprehensive integration with MLflow—thanks to contributions from the Microsoft Fabric product team.\n",
            "\n",
            ":fire: Heads-up: We have migrated [AutoGen](https://microsoft.github.io/autogen/) into a dedicated [github repository](https://github.com/microsoft/autogen). Alongside this move, we have also launched a dedicated [Discord](https://discord.gg/pAbnFJrkgZ) server and a [website](https://microsoft.github.io/autogen/) for comprehensive documentation.\n",
            "\n",
            ":fire: The automated multi-agent chat framework in [AutoGen](https://microsoft.github.io/autogen/) is in preview from v2.0.0.\n",
            "\n",
            ":fire: FLAML is highlighted in OpenAI's [cookbook](https://github.com/openai/openai-cookbook#related-resources-from-around-the-web).\n",
            "\n",
            ":fire: [autogen](https://microsoft.github.io/autogen/) is released with support for ChatGPT and GPT-4, based on [Cost-Effective Hyperparameter Optimization for Large Language Model Generation Inference](https://arxiv.org/abs/2303.04673).\n",
            "\n",
            "## What is FLAML\n",
            "\n",
            "FLAML is a lightweight Python library for efficient automation of machine\n",
            "learning and AI operations. It automates workflow based on large language models, machine learning models, etc.\n",
            "and optimizes their performance.\n",
            "\n",
            "- FLAML enables building next-gen GPT-X applications based on multi-agent conversations with minimal effort. It simplifies the orchestration, automation and optimization of a complex GPT-X workflow. It maximizes the performance of GPT-X models and augments their weakness.\n",
            "- For common machine learning tasks like classification and regression, it quickly finds quality models for user-provided data with low computational resources. It is easy to customize or extend. Users can find their desired customizability from a smooth range.\n",
            "- It supports fast and economical automatic tuning (e.g., inference hyperparameters for foundation models, configurations in MLOps/LMOps workflows, pipelines, mathematical/statistical models, algorithms, computing experiments, software configurations), capable of handling large search space with heterogeneous evaluation cost and complex constraints/guidance/early stopping.\n",
            "\n",
            "FLAML is powered by a series of [research studies](https://microsoft.github.io/FLAML/docs/Research/) from Microsoft Research and collaborators such as Penn State University, Stevens Institute of Technology, University of Washington, and University of Waterloo.\n",
            "\n",
            "FLAML has a .NET implementation in [ML.NET](http://dot.net/ml), an open-source, cross-platform machine learning framework for .NET.\n",
            "\n",
            "## Installation\n",
            "\n",
            "FLAML requires **Python version >= 3.8**. It can be installed from pip:\n",
            "\n",
            "```bash\n",
            "pip install flaml\n",
            "```\n",
            "\n",
            "Minimal dependencies are installed without extra options. You can install extra options based on the feature you need. For example, use the following to install the dependencies needed by the [`autogen`](https://microsoft.github.io/autogen/) package.\n",
            "\n",
            "```bash\n",
            "pip install \"flaml[autogen]\"\n",
            "```\n",
            "\n",
            "Find more options in [Installation](https://microsoft.github.io/FLAML/docs/Installation).\n",
            "Each of the [`notebook examples`](https://github.com/microsoft/FLAML/tree/main/notebook) may require a specific option to be installed.\n",
            "\n",
            "## Quickstart\n",
            "\n",
            "- (New) The [autogen](https://microsoft.github.io/autogen/) package enables the next-gen GPT-X applications with a generic multi-agent conversation framework.\n",
            "  It offers customizable and conversable agents which integrate LLMs, tools and human.\n",
            "  By automating chat among multiple capable agents, one can easily make them collectively perform tasks autonomously or with human feedback, including tasks that require using tools via code. For example,\n",
            "\n",
            "```python\n",
            "from flaml import autogen\n",
            "\n",
            "assistant = autogen.AssistantAgent(\"assistant\")\n",
            "user_proxy = autogen.UserProxyAgent(\"user_proxy\")\n",
            "user_proxy.initiate_chat(\n",
            "    assistant,\n",
            "    message=\"Show me the YTD gain of 10 largest technology companies as of today.\",\n",
            ")\n",
            "# This initiates an automated chat between the two agents to solve the task\n",
            "```\n",
            "\n",
            "Autogen also helps maximize the utility out of the expensive LLMs such as ChatGPT and GPT-4. It offers a drop-in replacement of `openai.Completion` or `openai.ChatCompletion` with powerful functionalites like tuning, caching, templating, filtering. For example, you can optimize generations by LLM with your own tuning data, success metrics and budgets.\n",
            "\n",
            "```python\n",
            "# perform tuning\n",
            "config, analysis = autogen.Completion.tune(\n",
            "    data=tune_data,\n",
            "    metric=\"success\",\n",
            "    mode=\"max\",\n",
            "    eval_func=eval_func,\n",
            "    inference_budget=0.05,\n",
            "    optimization_budget=3,\n",
            "    num_samples=-1,\n",
            ")\n",
            "# perform inference for a test instance\n",
            "response = autogen.Completion.create(context=test_instance, **config)\n",
            "```\n",
            "\n",
            "- With three lines of code, you can start using this economical and fast\n",
            "  AutoML engine as a [scikit-learn style estimator](https://microsoft.github.io/FLAML/docs/Use-Cases/Task-Oriented-AutoML).\n",
            "\n",
            "```python\n",
            "from flaml import AutoML\n",
            "\n",
            "automl = AutoML()\n",
            "automl.fit(X_train, y_train, task=\"classification\")\n",
            "```\n",
            "\n",
            "- You can restrict the learners and use FLAML as a fast hyperparameter tuning\n",
            "  tool for XGBoost, LightGBM, Random Forest etc. or a [customized learner](https://microsoft.github.io/FLAML/docs/Use-Cases/Task-Oriented-AutoML#estimator-and-search-space).\n",
            "\n",
            "```python\n",
            "automl.fit(X_train, y_train, task=\"classification\", estimator_list=[\"lgbm\"])\n",
            "```\n",
            "\n",
            "- You can also run generic hyperparameter tuning for a [custom function](https://microsoft.github.io/FLAML/docs/Use-Cases/Tune-User-Defined-Function).\n",
            "\n",
            "```python\n",
            "from flaml import tune\n",
            "tune.run(evaluation_function, config={…}, low_cost_partial_config={…}, time_budget_s=3600)\n",
            "```\n",
            "\n",
            "- [Zero-shot AutoML](https://microsoft.github.io/FLAML/docs/Use-Cases/Zero-Shot-AutoML) allows using the existing training API from lightgbm, xgboost etc. while getting the benefit of AutoML in choosing high-performance hyperparameter configurations per task.\n",
            "\n",
            "```python\n",
            "from flaml.default import LGBMRegressor\n",
            "\n",
            "# Use LGBMRegressor in the same way as you use lightgbm.LGBMRegressor.\n",
            "estimator = LGBMRegressor()\n",
            "# The hyperparameters are automatically set according to the training data.\n",
            "estimator.fit(X_train, y_train)\n",
            "```\n",
            "\n",
            "## Documentation\n",
            "\n",
            "You can find a detailed documentation about FLAML [here](https://microsoft.github.io/FLAML/).\n",
            "\n",
            "In addition, you can find:\n",
            "\n",
            "- [Research](https://microsoft.github.io/FLAML/docs/Research) and [blogposts](https://microsoft.github.io/FLAML/blog) around FLAML.\n",
            "\n",
            "- [Discord](https://discord.gg/Cppx2vSPVP).\n",
            "\n",
            "- [Contributing guide](https://microsoft.github.io/FLAML/docs/Contribute).\n",
            "\n",
            "- ML.NET documentation and tutorials for [Model Builder](https://learn.microsoft.com/dotnet/machine-learning/tutorials/predict-prices-with-model-builder), [ML.NET CLI](https://learn.microsoft.com/dotnet/machine-learning/tutorials/sentiment-analysis-cli), and [AutoML API](https://learn.microsoft.com/dotnet/machine-learning/how-to-guides/how-to-use-the-automl-api).\n",
            "\n",
            "## Contributing\n",
            "\n",
            "This project welcomes contributions and suggestions. Most contributions require you to agree to a\n",
            "Contributor License Agreement (CLA) declaring that you have the right to, and actually do, grant us\n",
            "the rights to use your contribution. For details, visit <https://cla.opensource.microsoft.com>.\n",
            "\n",
            "\n",
            "\n",
            "--------------------------------------------------------------------------------\n",
            "\u001b[33massistant\u001b[0m (to ragproxyagent):\n",
            "\n",
            "Yes, there is a function called `tune_automl` in FLAML.\n",
            "\n",
            "--------------------------------------------------------------------------------\n"
          ]
        }
      ],
      "source": [
        "# reset the assistant. Always reset the assistant before starting a new conversation.\n",
        "assistant.reset()\n",
        "\n",
        "qa_problem = \"Is there a function called tune_automl?\"\n",
        "chat_results = ragproxyagent.initiate_chat(assistant, message=ragproxyagent.message_generator, problem=qa_problem)"
      ]
    },
    {
      "cell_type": "markdown",
      "metadata": {
        "id": "fFg3pLiktmnP"
      },
      "source": [
        "<a id=\"example-2\"></a>\n",
        "### Example 2\n",
        "\n",
        "[back to top](#toc)\n",
        "\n",
        "Use RetrieveChat to answer a question that is not related to code generation.\n",
        "\n",
        "Problem: Who is the author of FLAML?"
      ]
    },
    {
      "cell_type": "code",
      "execution_count": 7,
      "metadata": {
        "id": "OFzFH3nKtmnP",
        "outputId": "cd103d38-429a-49a7-bf45-77b2d8650f3e"
      },
      "outputs": [
        {
          "name": "stderr",
          "output_type": "stream",
          "text": [
            "Model llama3-70b-8192 not found. Using cl100k_base encoding.\n"
          ]
        },
        {
          "name": "stdout",
          "output_type": "stream",
          "text": [
            "VectorDB returns doc_ids:  [['0d580ff7-7fc1-bf18-cd0c-de037cbd9343', '0ecd7192-3761-7d6f-9151-5ff504ca740b', '9be3ff7b-0243-32ab-5e97-7762580e2663']]\n",
            "\u001b[32mAdding content of doc 0d580ff7-7fc1-bf18-cd0c-de037cbd9343 to context.\u001b[0m\n"
          ]
        },
        {
          "name": "stderr",
          "output_type": "stream",
          "text": [
            "Model llama3-70b-8192 not found. Using cl100k_base encoding.\n"
          ]
        },
        {
          "name": "stdout",
          "output_type": "stream",
          "text": [
            "\u001b[33mragproxyagent\u001b[0m (to assistant):\n",
            "\n",
            "You're a retrieve augmented coding assistant. You answer user's questions based on your own knowledge and the\n",
            "context provided by the user.\n",
            "If you can't answer the question with or without the current context, you should reply exactly `UPDATE CONTEXT`.\n",
            "For code generation, you must obey the following rules:\n",
            "Rule 1. You MUST NOT install any packages because all the packages needed are already installed.\n",
            "Rule 2. You must follow the formats below to write your code:\n",
            "```language\n",
            "# your code\n",
            "```\n",
            "\n",
            "User's question is: Who is the author of FLAML?\n",
            "\n",
            "Context is: [![PyPI version](https://badge.fury.io/py/FLAML.svg)](https://badge.fury.io/py/FLAML)\n",
            "![Conda version](https://img.shields.io/conda/vn/conda-forge/flaml)\n",
            "[![Build](https://github.com/microsoft/FLAML/actions/workflows/python-package.yml/badge.svg)](https://github.com/microsoft/FLAML/actions/workflows/python-package.yml)\n",
            "[![PyPI - Python Version](https://img.shields.io/pypi/pyversions/FLAML)](https://pypi.org/project/FLAML/)\n",
            "[![Downloads](https://pepy.tech/badge/flaml)](https://pepy.tech/project/flaml)\n",
            "[![](https://img.shields.io/discord/1025786666260111483?logo=discord&style=flat)](https://discord.gg/Cppx2vSPVP)\n",
            "\n",
            "<!-- [![Join the chat at https://gitter.im/FLAMLer/community](https://badges.gitter.im/FLAMLer/community.svg)](https://gitter.im/FLAMLer/community?utm_source=badge&utm_medium=badge&utm_campaign=pr-badge&utm_content=badge) -->\n",
            "\n",
            "# A Fast Library for Automated Machine Learning & Tuning\n",
            "\n",
            "<p align=\"center\">\n",
            "    <img src=\"https://github.com/microsoft/FLAML/blob/main/website/static/img/flaml.svg\"  width=200>\n",
            "    <br>\n",
            "</p>\n",
            "\n",
            ":fire: FLAML supports AutoML and Hyperparameter Tuning in [Microsoft Fabric Data Science](https://learn.microsoft.com/en-us/fabric/data-science/automated-machine-learning-fabric). In addition, we've introduced Python 3.11 support, along with a range of new estimators, and comprehensive integration with MLflow—thanks to contributions from the Microsoft Fabric product team.\n",
            "\n",
            ":fire: Heads-up: We have migrated [AutoGen](https://microsoft.github.io/autogen/) into a dedicated [github repository](https://github.com/microsoft/autogen). Alongside this move, we have also launched a dedicated [Discord](https://discord.gg/pAbnFJrkgZ) server and a [website](https://microsoft.github.io/autogen/) for comprehensive documentation.\n",
            "\n",
            ":fire: The automated multi-agent chat framework in [AutoGen](https://microsoft.github.io/autogen/) is in preview from v2.0.0.\n",
            "\n",
            ":fire: FLAML is highlighted in OpenAI's [cookbook](https://github.com/openai/openai-cookbook#related-resources-from-around-the-web).\n",
            "\n",
            ":fire: [autogen](https://microsoft.github.io/autogen/) is released with support for ChatGPT and GPT-4, based on [Cost-Effective Hyperparameter Optimization for Large Language Model Generation Inference](https://arxiv.org/abs/2303.04673).\n",
            "\n",
            "## What is FLAML\n",
            "\n",
            "FLAML is a lightweight Python library for efficient automation of machine\n",
            "learning and AI operations. It automates workflow based on large language models, machine learning models, etc.\n",
            "and optimizes their performance.\n",
            "\n",
            "- FLAML enables building next-gen GPT-X applications based on multi-agent conversations with minimal effort. It simplifies the orchestration, automation and optimization of a complex GPT-X workflow. It maximizes the performance of GPT-X models and augments their weakness.\n",
            "- For common machine learning tasks like classification and regression, it quickly finds quality models for user-provided data with low computational resources. It is easy to customize or extend. Users can find their desired customizability from a smooth range.\n",
            "- It supports fast and economical automatic tuning (e.g., inference hyperparameters for foundation models, configurations in MLOps/LMOps workflows, pipelines, mathematical/statistical models, algorithms, computing experiments, software configurations), capable of handling large search space with heterogeneous evaluation cost and complex constraints/guidance/early stopping.\n",
            "\n",
            "FLAML is powered by a series of [research studies](https://microsoft.github.io/FLAML/docs/Research/) from Microsoft Research and collaborators such as Penn State University, Stevens Institute of Technology, University of Washington, and University of Waterloo.\n",
            "\n",
            "FLAML has a .NET implementation in [ML.NET](http://dot.net/ml), an open-source, cross-platform machine learning framework for .NET.\n",
            "\n",
            "## Installation\n",
            "\n",
            "FLAML requires **Python version >= 3.8**. It can be installed from pip:\n",
            "\n",
            "```bash\n",
            "pip install flaml\n",
            "```\n",
            "\n",
            "Minimal dependencies are installed without extra options. You can install extra options based on the feature you need. For example, use the following to install the dependencies needed by the [`autogen`](https://microsoft.github.io/autogen/) package.\n",
            "\n",
            "```bash\n",
            "pip install \"flaml[autogen]\"\n",
            "```\n",
            "\n",
            "Find more options in [Installation](https://microsoft.github.io/FLAML/docs/Installation).\n",
            "Each of the [`notebook examples`](https://github.com/microsoft/FLAML/tree/main/notebook) may require a specific option to be installed.\n",
            "\n",
            "## Quickstart\n",
            "\n",
            "- (New) The [autogen](https://microsoft.github.io/autogen/) package enables the next-gen GPT-X applications with a generic multi-agent conversation framework.\n",
            "  It offers customizable and conversable agents which integrate LLMs, tools and human.\n",
            "  By automating chat among multiple capable agents, one can easily make them collectively perform tasks autonomously or with human feedback, including tasks that require using tools via code. For example,\n",
            "\n",
            "```python\n",
            "from flaml import autogen\n",
            "\n",
            "assistant = autogen.AssistantAgent(\"assistant\")\n",
            "user_proxy = autogen.UserProxyAgent(\"user_proxy\")\n",
            "user_proxy.initiate_chat(\n",
            "    assistant,\n",
            "    message=\"Show me the YTD gain of 10 largest technology companies as of today.\",\n",
            ")\n",
            "# This initiates an automated chat between the two agents to solve the task\n",
            "```\n",
            "\n",
            "Autogen also helps maximize the utility out of the expensive LLMs such as ChatGPT and GPT-4. It offers a drop-in replacement of `openai.Completion` or `openai.ChatCompletion` with powerful functionalites like tuning, caching, templating, filtering. For example, you can optimize generations by LLM with your own tuning data, success metrics and budgets.\n",
            "\n",
            "```python\n",
            "# perform tuning\n",
            "config, analysis = autogen.Completion.tune(\n",
            "    data=tune_data,\n",
            "    metric=\"success\",\n",
            "    mode=\"max\",\n",
            "    eval_func=eval_func,\n",
            "    inference_budget=0.05,\n",
            "    optimization_budget=3,\n",
            "    num_samples=-1,\n",
            ")\n",
            "# perform inference for a test instance\n",
            "response = autogen.Completion.create(context=test_instance, **config)\n",
            "```\n",
            "\n",
            "- With three lines of code, you can start using this economical and fast\n",
            "  AutoML engine as a [scikit-learn style estimator](https://microsoft.github.io/FLAML/docs/Use-Cases/Task-Oriented-AutoML).\n",
            "\n",
            "```python\n",
            "from flaml import AutoML\n",
            "\n",
            "automl = AutoML()\n",
            "automl.fit(X_train, y_train, task=\"classification\")\n",
            "```\n",
            "\n",
            "- You can restrict the learners and use FLAML as a fast hyperparameter tuning\n",
            "  tool for XGBoost, LightGBM, Random Forest etc. or a [customized learner](https://microsoft.github.io/FLAML/docs/Use-Cases/Task-Oriented-AutoML#estimator-and-search-space).\n",
            "\n",
            "```python\n",
            "automl.fit(X_train, y_train, task=\"classification\", estimator_list=[\"lgbm\"])\n",
            "```\n",
            "\n",
            "- You can also run generic hyperparameter tuning for a [custom function](https://microsoft.github.io/FLAML/docs/Use-Cases/Tune-User-Defined-Function).\n",
            "\n",
            "```python\n",
            "from flaml import tune\n",
            "tune.run(evaluation_function, config={…}, low_cost_partial_config={…}, time_budget_s=3600)\n",
            "```\n",
            "\n",
            "- [Zero-shot AutoML](https://microsoft.github.io/FLAML/docs/Use-Cases/Zero-Shot-AutoML) allows using the existing training API from lightgbm, xgboost etc. while getting the benefit of AutoML in choosing high-performance hyperparameter configurations per task.\n",
            "\n",
            "```python\n",
            "from flaml.default import LGBMRegressor\n",
            "\n",
            "# Use LGBMRegressor in the same way as you use lightgbm.LGBMRegressor.\n",
            "estimator = LGBMRegressor()\n",
            "# The hyperparameters are automatically set according to the training data.\n",
            "estimator.fit(X_train, y_train)\n",
            "```\n",
            "\n",
            "## Documentation\n",
            "\n",
            "You can find a detailed documentation about FLAML [here](https://microsoft.github.io/FLAML/).\n",
            "\n",
            "In addition, you can find:\n",
            "\n",
            "- [Research](https://microsoft.github.io/FLAML/docs/Research) and [blogposts](https://microsoft.github.io/FLAML/blog) around FLAML.\n",
            "\n",
            "- [Discord](https://discord.gg/Cppx2vSPVP).\n",
            "\n",
            "- [Contributing guide](https://microsoft.github.io/FLAML/docs/Contribute).\n",
            "\n",
            "- ML.NET documentation and tutorials for [Model Builder](https://learn.microsoft.com/dotnet/machine-learning/tutorials/predict-prices-with-model-builder), [ML.NET CLI](https://learn.microsoft.com/dotnet/machine-learning/tutorials/sentiment-analysis-cli), and [AutoML API](https://learn.microsoft.com/dotnet/machine-learning/how-to-guides/how-to-use-the-automl-api).\n",
            "\n",
            "## Contributing\n",
            "\n",
            "This project welcomes contributions and suggestions. Most contributions require you to agree to a\n",
            "Contributor License Agreement (CLA) declaring that you have the right to, and actually do, grant us\n",
            "the rights to use your contribution. For details, visit <https://cla.opensource.microsoft.com>.\n",
            "\n",
            "\n",
            "\n",
            "--------------------------------------------------------------------------------\n",
            "\u001b[33massistant\u001b[0m (to ragproxyagent):\n",
            "\n",
            "The author of FLAML is Microsoft.\n",
            "\n",
            "--------------------------------------------------------------------------------\n"
          ]
        }
      ],
      "source": [
        "# reset the assistant. Always reset the assistant before starting a new conversation.\n",
        "assistant.reset()\n",
        "\n",
        "qa_problem = \"Who is the author of FLAML?\"\n",
        "chat_results = ragproxyagent.initiate_chat(assistant, message=ragproxyagent.message_generator, problem=qa_problem)"
      ]
    },
    {
      "cell_type": "code",
      "execution_count": null,
      "metadata": {},
      "outputs": [],
      "source": []
    }
  ],
  "metadata": {
    "colab": {
      "provenance": []
    },
    "front_matter": {
      "description": "This notebook demonstrates the usage of QdrantRetrieveUserProxyAgent for RAG.",
      "tags": [
        "rag"
      ]
    },
    "kernelspec": {
      "display_name": "Python 3 (ipykernel)",
      "language": "python",
      "name": "python3"
    },
    "language_info": {
      "codemirror_mode": {
        "name": "ipython",
        "version": 3
      },
      "file_extension": ".py",
      "mimetype": "text/x-python",
      "name": "python",
      "nbconvert_exporter": "python",
      "pygments_lexer": "ipython3",
      "version": "3.11.9"
    }
  },
  "nbformat": 4,
  "nbformat_minor": 0
}
