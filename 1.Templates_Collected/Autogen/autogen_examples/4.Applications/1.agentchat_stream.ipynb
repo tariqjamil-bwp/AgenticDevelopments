{
  "cells": [
    {
      "cell_type": "markdown",
      "metadata": {
        "id": "6KSGBdVz2eyt"
      },
      "source": [
        "<a href=\"https://colab.research.google.com/github/microsoft/autogen/blob/main/notebook/agentchat_stream.ipynb\" target=\"_parent\"><img src=\"https://colab.research.google.com/assets/colab-badge.svg\" alt=\"Open In Colab\"/></a>"
      ]
    },
    {
      "cell_type": "markdown",
      "metadata": {
        "id": "UhyjI6m12eyx"
      },
      "source": [
        "# Interactive LLM Agent Dealing with Data Stream\n",
        "\n",
        "AutoGen offers conversable agents powered by LLM, tool, or human, which can be used to perform tasks collectively via automated chat. This framework allows tool use and human participation through multi-agent conversation.\n",
        "Please find documentation about this feature [here](https://microsoft.github.io/autogen/docs/Use-Cases/agent_chat).\n",
        "\n",
        "In this notebook, we demonstrate how to use customized agents to continuously acquire news from the web and ask for investment suggestions.\n",
        "\n",
        "## Requirements\n",
        "\n",
        "AutoGen requires `Python>=3.8`. To run this notebook example, please install:\n",
        "```bash\n",
        "pip install pyautogen\n",
        "```"
      ]
    },
    {
      "cell_type": "code",
      "execution_count": null,
      "metadata": {
        "execution": {
          "iopub.execute_input": "2023-02-13T23:40:52.317406Z",
          "iopub.status.busy": "2023-02-13T23:40:52.316561Z",
          "iopub.status.idle": "2023-02-13T23:40:52.321193Z",
          "shell.execute_reply": "2023-02-13T23:40:52.320628Z"
        },
        "id": "5oTIJ35G2eyy"
      },
      "outputs": [],
      "source": [
        "# %pip install \"pyautogen>=0.2.3\""
      ]
    },
    {
      "cell_type": "markdown",
      "metadata": {
        "id": "KJ1hGkUX2eyz"
      },
      "source": [
        "## Set your API Endpoint\n",
        "\n",
        "The [`config_list_from_json`](https://microsoft.github.io/autogen/docs/reference/oai/openai_utils#config_list_from_json) function loads a list of configurations from an environment variable or a json file.\n"
      ]
    },
    {
      "cell_type": "code",
      "execution_count": 1,
      "metadata": {
        "id": "7CfbFQ3b2ey0"
      },
      "outputs": [],
      "source": [
        "import asyncio\n",
        "\n",
        "import autogen\n",
        "\n",
        "#config_list = autogen.config_list_from_json(\"OAI_CONFIG_LIST\")"
      ]
    },
    {
      "cell_type": "code",
      "execution_count": 2,
      "metadata": {},
      "outputs": [],
      "source": [
        "import os\n",
        "config_list = [\n",
        "    {\"api_type\": \"groq\", \"model\": \"llama-3.1-70b-versatile\", \"api_key\": os.environ.get(\"GROQ_API_KEY\")},\n",
        "    {\"api_type\": \"groq\", \"model\": \"llama3-70b-8192\", \"api_key\": os.environ.get(\"GROQ_API_KEY\")},\n",
        "    {\"api_type\": \"groq\", \"model\": \"llama3-groq-70b-8192-tool-use-preview\", \"api_key\": os.environ.get(\"GROQ_API_KEY\")},\n",
        "    {\"api_type\": \"groq\", \"model\": \"mixtral-8x7b-32768\", \"api_key\": os.environ.get(\"GROQ_API_KEY\")},\n",
        "    {\"api_type\": \"groq\", \"model\": \"llama3-groq-8b-8192-tool-use-preview\", \"api_key\": os.environ.get(\"GROQ_API_KEY\")},\n",
        "    {\"api_type\": \"groq\", \"model\": \"gemma2-9b-it\", \"api_key\": os.environ.get(\"GROQ_API_KEY\")},\n",
        "    {\"api_type\": \"groq\", \"model\": \"llama-3.1-8b-instant\", \"api_key\": os.environ.get(\"GROQ_API_KEY\")},\n",
        "    {\"api_type\": \"groq\", \"model\": \"llama-guard-3-8b\", \"api_key\": os.environ.get(\"GROQ_API_KEY\")},\n",
        "    {\"api_type\": \"groq\", \"model\": \"llama3-8b-8192\", \"api_key\": os.environ.get(\"GROQ_API_KEY\")},\n",
        "    ]\n",
        "\n",
        "llm_config={\"config_list\" : config_list}"
      ]
    },
    {
      "cell_type": "markdown",
      "metadata": {
        "id": "EneAPgKI2ey0"
      },
      "source": [
        "It first looks for environment variable \"OAI_CONFIG_LIST\" which needs to be a valid json string. If that variable is not found, it then looks for a json file named \"OAI_CONFIG_LIST\". It filters the configs by models (you can filter by other keys as well). Only the models with matching names are kept in the list based on the filter condition.\n",
        "\n",
        "The config list looks like the following:\n",
        "```python\n",
        "config_list = [\n",
        "    {\n",
        "        'model': 'gpt-4',\n",
        "        'api_key': '<your OpenAI API key here>',\n",
        "    },\n",
        "    {\n",
        "        'model': 'gpt-3.5-turbo',\n",
        "        'api_key': '<your Azure OpenAI API key here>',\n",
        "        'base_url': '<your Azure OpenAI API base here>',\n",
        "        'api_type': 'azure',\n",
        "        'api_version': '2024-02-01',\n",
        "    },\n",
        "    {\n",
        "        'model': 'gpt-3.5-turbo-16k',\n",
        "        'api_key': '<your Azure OpenAI API key here>',\n",
        "        'base_url': '<your Azure OpenAI API base here>',\n",
        "        'api_type': 'azure',\n",
        "        'api_version': '2024-02-01',\n",
        "    },\n",
        "]\n",
        "```\n",
        "\n",
        "You can set the value of config_list in any way you prefer. Please refer to this [notebook](https://github.com/microsoft/autogen/blob/main/website/docs/topics/llm_configuration.ipynb) for full code examples of the different methods."
      ]
    },
    {
      "cell_type": "markdown",
      "metadata": {
        "id": "g08oIzZF2ey1"
      },
      "source": [
        "## Example Task: Investment suggestion with realtime data\n",
        "\n",
        "We consider a scenario where news data are streamed from a source, and we use an assistant agent to provide investment suggestions based on the data continually.\n",
        "\n",
        "First, we use the following code to simulate the data stream process."
      ]
    },
    {
      "cell_type": "code",
      "execution_count": 3,
      "metadata": {
        "id": "oiC9MbHG2ey1"
      },
      "outputs": [],
      "source": [
        "def get_market_news(ind, ind_upper):\n",
        "    import json\n",
        "\n",
        "    import requests\n",
        "\n",
        "    # replace the \"demo\" apikey below with your own key from https://www.alphavantage.co/support/#api-key\n",
        "    # url = 'https://www.alphavantage.co/query?function=NEWS_SENTIMENT&tickers=AAPL&sort=LATEST&limit=5&apikey=demo'\n",
        "    # r = requests.get(url)\n",
        "    # data = r.json()\n",
        "    # with open('market_news_local.json', 'r') as file:\n",
        "    #     # Load JSON data from file\n",
        "    #     data = json.load(file)\n",
        "    data = {\n",
        "        \"feed\": [\n",
        "            {\n",
        "                \"title\": \"Palantir CEO Says Our Generation's Atomic Bomb Could Be AI Weapon - And Arrive Sooner Than You Think - Palantir Technologies  ( NYSE:PLTR ) \",\n",
        "                \"summary\": \"Christopher Nolan's blockbuster movie \\\"Oppenheimer\\\" has reignited the public discourse surrounding the United States' use of an atomic bomb on Japan at the end of World War II.\",\n",
        "                \"overall_sentiment_score\": 0.009687,\n",
        "            },\n",
        "            {\n",
        "                \"title\": '3 \"Hedge Fund Hotels\" Pulling into Support',\n",
        "                \"summary\": \"Institutional quality stocks have several benefits including high-liquidity, low beta, and a long runway. Strategist Andrew Rocco breaks down what investors should look for and pitches 3 ideas.\",\n",
        "                \"banner_image\": \"https://staticx-tuner.zacks.com/images/articles/main/92/87.jpg\",\n",
        "                \"overall_sentiment_score\": 0.219747,\n",
        "            },\n",
        "            {\n",
        "                \"title\": \"PDFgear, Bringing a Completely-Free PDF Text Editing Feature\",\n",
        "                \"summary\": \"LOS ANGELES, July 26, 2023 /PRNewswire/ -- PDFgear, a leading provider of PDF solutions, announced a piece of exciting news for everyone who works extensively with PDF documents.\",\n",
        "                \"overall_sentiment_score\": 0.360071,\n",
        "            },\n",
        "            {\n",
        "                \"title\": \"Researchers Pitch 'Immunizing' Images Against Deepfake Manipulation\",\n",
        "                \"summary\": \"A team at MIT says injecting tiny disruptive bits of code can cause distorted deepfake images.\",\n",
        "                \"overall_sentiment_score\": -0.026894,\n",
        "            },\n",
        "            {\n",
        "                \"title\": \"Nvidia wins again - plus two more takeaways from this week's mega-cap earnings\",\n",
        "                \"summary\": \"We made some key conclusions combing through quarterly results for Microsoft and Alphabet and listening to their conference calls with investors.\",\n",
        "                \"overall_sentiment_score\": 0.235177,\n",
        "            },\n",
        "        ]\n",
        "    }\n",
        "    feeds = data[\"feed\"][ind:ind_upper]\n",
        "    feeds_summary = \"\\n\".join(\n",
        "        [\n",
        "            f\"News summary: {f['title']}. {f['summary']} overall_sentiment_score: {f['overall_sentiment_score']}\"\n",
        "            for f in feeds\n",
        "        ]\n",
        "    )\n",
        "    return feeds_summary\n",
        "\n",
        "\n",
        "data = asyncio.Future()\n",
        "\n",
        "\n",
        "async def add_stock_price_data():\n",
        "    # simulating the data stream\n",
        "    for i in range(0, 5, 1):\n",
        "        latest_news = get_market_news(i, i + 1)\n",
        "        if data.done():\n",
        "            data.result().append(latest_news)\n",
        "        else:\n",
        "            data.set_result([latest_news])\n",
        "        # print(data.result())\n",
        "        await asyncio.sleep(5)\n",
        "\n",
        "\n",
        "data_task = asyncio.create_task(add_stock_price_data())"
      ]
    },
    {
      "cell_type": "markdown",
      "metadata": {
        "id": "vTbAK-9a2ey2"
      },
      "source": [
        "Then, we construct agents. An assistant agent is created to answer the question using LLM. A UserProxyAgent is created to ask questions, and add the new data in the conversation when they are available."
      ]
    },
    {
      "cell_type": "code",
      "execution_count": 4,
      "metadata": {
        "id": "qzQrUD_D2ey2"
      },
      "outputs": [],
      "source": [
        "# create an AssistantAgent instance named \"assistant\"\n",
        "assistant = autogen.AssistantAgent(\n",
        "    name=\"assistant\",\n",
        "    llm_config={\n",
        "        \"timeout\": 600,\n",
        "        \"cache_seed\": 41,\n",
        "        \"config_list\": config_list,\n",
        "        \"temperature\": 0,\n",
        "    },\n",
        "    system_message=\"You are a financial expert.\",\n",
        ")\n",
        "# create a UserProxyAgent instance named \"user\"\n",
        "user_proxy = autogen.UserProxyAgent(\n",
        "    name=\"user\",\n",
        "    human_input_mode=\"NEVER\",\n",
        "    max_consecutive_auto_reply=5,\n",
        "    code_execution_config=False,\n",
        "    default_auto_reply=None,\n",
        ")\n",
        "\n",
        "\n",
        "async def add_data_reply(recipient, messages, sender, config):\n",
        "    await asyncio.sleep(0.1)\n",
        "    data = config[\"news_stream\"]\n",
        "    if data.done():\n",
        "        result = data.result()\n",
        "        if result:\n",
        "            news_str = \"\\n\".join(result)\n",
        "            result.clear()\n",
        "            return (\n",
        "                True,\n",
        "                f\"Just got some latest market news. Merge your new suggestion with previous ones.\\n{news_str}\",\n",
        "            )\n",
        "        return False, None\n",
        "\n",
        "\n",
        "user_proxy.register_reply(autogen.AssistantAgent, add_data_reply, position=2, config={\"news_stream\": data})"
      ]
    },
    {
      "cell_type": "markdown",
      "metadata": {
        "id": "WBVg3SiT2ey3"
      },
      "source": [
        "We invoke the `a_initiate_chat()` method of the user proxy agent to start the conversation."
      ]
    },
    {
      "cell_type": "code",
      "execution_count": 5,
      "metadata": {
        "id": "qZeN3Rqg2ey3",
        "outputId": "5f83fd09-85d9-498b-fad6-669e85f91260"
      },
      "outputs": [
        {
          "name": "stdout",
          "output_type": "stream",
          "text": [
            "\u001b[33muser\u001b[0m (to assistant):\n",
            "\n",
            "Give me investment suggestion in 3 bullet points.\n",
            "\n",
            "--------------------------------------------------------------------------------\n",
            "\u001b[33massistant\u001b[0m (to user):\n",
            "\n",
            "As a financial expert, I'd be happy to provide you with three investment suggestions. Keep in mind that these are general suggestions and not tailored to your specific financial situation or goals. It's always best to consult with a financial advisor before making investment decisions. Here are three investment suggestions:\n",
            "\n",
            "• **Diversified Index Funds**: Investing in a diversified index fund can provide broad exposure to various asset classes, sectors, and geographic regions. This type of fund tracks a specific market index, such as the S&P 500, and can offer lower fees and lower risk compared to actively managed funds.\n",
            "\n",
            "• **Real Estate Investment Trusts (REITs)**: REITs allow individuals to invest in real estate without directly owning physical properties. They can provide a steady income stream through rental income and potential long-term capital appreciation. REITs can be a good option for those looking to diversify their portfolio and gain exposure to the real estate market.\n",
            "\n",
            "• **Dividend-paying Stocks**: Investing in established companies with a history of paying consistent dividends can provide a relatively stable source of income. Dividend-paying stocks can also offer the potential for long-term capital appreciation. Look for companies with a strong track record of dividend payments and a stable financial position.\n",
            "\n",
            "Remember to assess your personal financial goals, risk tolerance, and time horizon before investing in any of these options. It's also essential to maintain a diversified portfolio to minimize risk.\n",
            "\n",
            "--------------------------------------------------------------------------------\n",
            "\u001b[33muser\u001b[0m (to assistant):\n",
            "\n",
            "Just got some latest market news. Merge your new suggestion with previous ones.\n",
            "News summary: Palantir CEO Says Our Generation's Atomic Bomb Could Be AI Weapon - And Arrive Sooner Than You Think - Palantir Technologies  ( NYSE:PLTR ) . Christopher Nolan's blockbuster movie \"Oppenheimer\" has reignited the public discourse surrounding the United States' use of an atomic bomb on Japan at the end of World War II. overall_sentiment_score: 0.009687\n",
            "News summary: 3 \"Hedge Fund Hotels\" Pulling into Support. Institutional quality stocks have several benefits including high-liquidity, low beta, and a long runway. Strategist Andrew Rocco breaks down what investors should look for and pitches 3 ideas. overall_sentiment_score: 0.219747\n",
            "News summary: PDFgear, Bringing a Completely-Free PDF Text Editing Feature. LOS ANGELES, July 26, 2023 /PRNewswire/ -- PDFgear, a leading provider of PDF solutions, announced a piece of exciting news for everyone who works extensively with PDF documents. overall_sentiment_score: 0.360071\n",
            "News summary: Researchers Pitch 'Immunizing' Images Against Deepfake Manipulation. A team at MIT says injecting tiny disruptive bits of code can cause distorted deepfake images. overall_sentiment_score: -0.026894\n",
            "\n",
            "--------------------------------------------------------------------------------\n"
          ]
        },
        {
          "name": "stderr",
          "output_type": "stream",
          "text": [
            "/home/tjamil/.local/share/virtualenvs/Agents-4yRd6dJo/lib/python3.11/site-packages/autogen/oai/groq.py:286: UserWarning: Cost calculation not available for model llama-3.1-70b-versatile\n",
            "  warnings.warn(f\"Cost calculation not available for model {model}\", UserWarning)\n"
          ]
        },
        {
          "name": "stdout",
          "output_type": "stream",
          "text": [
            "\u001b[33massistant\u001b[0m (to user):\n",
            "\n",
            "Considering the latest market news, I'd like to add a new investment suggestion and merge it with the previous ones. Keep in mind that these are general suggestions and not tailored to your specific financial situation or goals. It's always best to consult with a financial advisor before making investment decisions. Here are the updated investment suggestions:\n",
            "\n",
            "• **Diversified Index Funds**: Investing in a diversified index fund can provide broad exposure to various asset classes, sectors, and geographic regions. This type of fund tracks a specific market index, such as the S&P 500, and can offer lower fees and lower risk compared to actively managed funds.\n",
            "\n",
            "• **Real Estate Investment Trusts (REITs)**: REITs allow individuals to invest in real estate without directly owning physical properties. They can provide a steady income stream through rental income and potential long-term capital appreciation. REITs can be a good option for those looking to diversify their portfolio and gain exposure to the real estate market.\n",
            "\n",
            "• **Dividend-paying Stocks**: Investing in established companies with a history of paying consistent dividends can provide a relatively stable source of income. Dividend-paying stocks can also offer the potential for long-term capital appreciation. Look for companies with a strong track record of dividend payments and a stable financial position.\n",
            "\n",
            "• **Artificial Intelligence (AI) and Cybersecurity Stocks**: Given the growing concerns about AI and deepfake manipulation, investing in companies that specialize in AI and cybersecurity could be a promising opportunity. Companies like Palantir Technologies (NYSE: PLTR) and others that focus on developing AI-powered solutions for data analysis, cybersecurity, and image authentication could benefit from the increasing demand for these services.\n",
            "\n",
            "As for the \"Hedge Fund Hotels\" mentioned in the news, it's essential to do your own research and due diligence before investing in any specific stocks. Look for companies with strong fundamentals, a competitive advantage, and a proven track record of success.\n",
            "\n",
            "The news about PDFgear and their free PDF text editing feature is more of a product announcement, and it's not directly related to investment opportunities. However, it's worth keeping an eye on companies that innovate and provide valuable solutions, as they might become attractive investment opportunities in the future.\n",
            "\n",
            "Remember to assess your personal financial goals, risk tolerance, and time horizon before investing in any of these options. It's also essential to maintain a diversified portfolio to minimize risk.\n",
            "\n",
            "--------------------------------------------------------------------------------\n",
            "\u001b[33muser\u001b[0m (to assistant):\n",
            "\n",
            "Just got some latest market news. Merge your new suggestion with previous ones.\n",
            "News summary: Nvidia wins again - plus two more takeaways from this week's mega-cap earnings. We made some key conclusions combing through quarterly results for Microsoft and Alphabet and listening to their conference calls with investors. overall_sentiment_score: 0.235177\n",
            "\n",
            "--------------------------------------------------------------------------------\n",
            "\u001b[33massistant\u001b[0m (to user):\n",
            "\n",
            "Considering the latest market news, I'd like to add a new investment suggestion and merge it with the previous ones. Keep in mind that these are general suggestions and not tailored to your specific financial situation or goals. It's always best to consult with a financial advisor before making investment decisions. Here are the updated investment suggestions:\n",
            "\n",
            "• **Diversified Index Funds**: Investing in a diversified index fund can provide broad exposure to various asset classes, sectors, and geographic regions. This type of fund tracks a specific market index, such as the S&P 500, and can offer lower fees and lower risk compared to actively managed funds.\n",
            "\n",
            "• **Real Estate Investment Trusts (REITs)**: REITs allow individuals to invest in real estate without directly owning physical properties. They can provide a steady income stream through rental income and potential long-term capital appreciation. REITs can be a good option for those looking to diversify their portfolio and gain exposure to the real estate market.\n",
            "\n",
            "• **Dividend-paying Stocks**: Investing in established companies with a history of paying consistent dividends can provide a relatively stable source of income. Dividend-paying stocks can also offer the potential for long-term capital appreciation. Look for companies with a strong track record of dividend payments and a stable financial position.\n",
            "\n",
            "• **Artificial Intelligence (AI) and Cybersecurity Stocks**: Given the growing concerns about AI and deepfake manipulation, investing in companies that specialize in AI and cybersecurity could be a promising opportunity. Companies like Palantir Technologies (NYSE: PLTR) and others that focus on developing AI-powered solutions for data analysis, cybersecurity, and image authentication could benefit from the increasing demand for these services.\n",
            "\n",
            "• **Cloud Computing and Technology Stocks**: The strong earnings from Microsoft and Alphabet, as well as Nvidia's success, highlight the growth potential of the cloud computing and technology sectors. Investing in companies that provide cloud infrastructure, software, and services could be a good opportunity for long-term growth. Consider companies like Microsoft (NASDAQ: MSFT), Alphabet (NASDAQ: GOOGL), and Nvidia (NASDAQ: NVDA), as well as other players in the cloud computing and technology space.\n",
            "\n",
            "As always, it's essential to assess your personal financial goals, risk tolerance, and time horizon before investing in any of these options. It's also crucial to maintain a diversified portfolio to minimize risk and maximize potential returns.\n",
            "\n",
            "--------------------------------------------------------------------------------\n"
          ]
        }
      ],
      "source": [
        "await user_proxy.a_initiate_chat(  # noqa: F704\n",
        "    assistant,\n",
        "    message=\"\"\"Give me investment suggestion in 3 bullet points.\"\"\",\n",
        ")\n",
        "while not data_task.done() and not data_task.cancelled():\n",
        "    reply = await user_proxy.a_generate_reply(sender=assistant)  # noqa: F704\n",
        "    if reply is not None:\n",
        "        await user_proxy.a_send(reply, assistant)  # noqa: F704"
      ]
    },
    {
      "cell_type": "code",
      "execution_count": null,
      "metadata": {},
      "outputs": [],
      "source": []
    }
  ],
  "metadata": {
    "colab": {
      "provenance": []
    },
    "kernelspec": {
      "display_name": "Python 3",
      "language": "python",
      "name": "python3"
    },
    "language_info": {
      "codemirror_mode": {
        "name": "ipython",
        "version": 3
      },
      "file_extension": ".py",
      "mimetype": "text/x-python",
      "name": "python",
      "nbconvert_exporter": "python",
      "pygments_lexer": "ipython3",
      "version": "3.11.9"
    },
    "vscode": {
      "interpreter": {
        "hash": "949777d72b0d2535278d3dc13498b2535136f6dfe0678499012e853ee9abcab1"
      }
    }
  },
  "nbformat": 4,
  "nbformat_minor": 0
}
