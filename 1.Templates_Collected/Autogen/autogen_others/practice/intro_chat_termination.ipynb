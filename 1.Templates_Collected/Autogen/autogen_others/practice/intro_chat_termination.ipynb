{
  "cells": [
    {
      "cell_type": "markdown",
      "metadata": {
        "id": "Tmq-fq_XJ3bY"
      },
      "source": [
        "# Introduction to AutoGen\n",
        "\n",
        "Welcome! AutoGen is an open-source framework that leverages multiple _agents_ to enable complex workflows. This tutorial introduces basic concepts and building blocks of AutoGen."
      ]
    },
    {
      "cell_type": "markdown",
      "metadata": {
        "id": "ndFg9MMCJ3bb"
      },
      "source": [
        "## Why AutoGen?\n",
        "\n",
        "> _The whole is greater than the sum of its parts._<br/>\n",
        "> -**Aristotle**\n",
        "\n",
        "While there are many definitions of agents, in AutoGen, an agent is an entity that can send messages, receive messages and generate a reply using models, tools, human inputs or a mixture of them.\n",
        "This abstraction not only allows agents to model real-world and abstract entities, such as people and algorithms, but it also simplifies implementation of complex workflows as collaboration among agents.\n",
        "\n",
        "Further, AutoGen is extensible and composable: you can extend a simple agent with customizable components and create workflows that can combine these agents and power a more sophisticated agent, resulting in implementations that are modular and easy to maintain.\n",
        "\n",
        "Most importantly, AutoGen is developed by a vibrant community of researchers\n",
        "and engineers. It incorporates the latest research in multi-agent systems\n",
        "and has been used in many real-world applications, including agent platform,\n",
        "advertising, AI employees, blog/article writing, blockchain, calculate burned areas by wildfires,\n",
        "customer support, cybersecurity, data analytics, debate, education, finance, gaming, legal consultation,\n",
        "research, robotics, sales/marketing, social simulation, software engineering,\n",
        "software security, supply chain, t-shirt design, training data generation, Youtube service..."
      ]
    },
    {
      "cell_type": "markdown",
      "metadata": {
        "id": "OPHMs2SHJ3bb"
      },
      "source": [
        "## Installation\n",
        "\n",
        "The simplest way to install AutoGen is from pip: `pip install pyautogen`. Find more options in [Installation](/docs/installation/)."
      ]
    },
    {
      "cell_type": "markdown",
      "metadata": {
        "id": "3Vn9_HtJJ3bb"
      },
      "source": [
        "## Agents\n",
        "\n",
        "In AutoGen, an agent is an entity that can send and receive messages to and from\n",
        "other agents in its environment. An agent can be powered by models (such as a large language model\n",
        "like GPT-4), code executors (such as an IPython kernel), human, or a combination of these\n",
        "and other pluggable and customizable components.\n",
        "\n",
        "```{=mdx}\n",
        "![ConversableAgent](./assets/conversable-agent.jpg)\n",
        "```\n",
        "\n",
        "An example of such agents is the built-in `ConversableAgent` which supports the following components:\n",
        "\n",
        "1. A list of LLMs\n",
        "2. A code executor\n",
        "3. A function and tool executor\n",
        "4. A component for keeping human-in-the-loop\n",
        "\n",
        "You can switch each component on or off and customize it to suit the need of\n",
        "your application. For advanced users, you can add additional components to the agent\n",
        "by using [`registered_reply`](../reference/agentchat/conversable_agent/#register_reply)."
      ]
    },
    {
      "cell_type": "markdown",
      "metadata": {
        "id": "NXaElSXLJ3bc"
      },
      "source": [
        "LLMs, for example, enable agents to converse in natural languages and transform between structured and unstructured text.\n",
        "The following example shows a `ConversableAgent` with a GPT-4 LLM switched on and other\n",
        "components switched off:"
      ]
    },
    {
      "cell_type": "code",
      "execution_count": 1,
      "metadata": {},
      "outputs": [],
      "source": [
        "import os\n",
        "\n",
        "llm_config={\n",
        "    \"config_list\" : [{\n",
        "        \"api_type\" : \"groq\",\n",
        "        \"model\" : \"llama3-70b-8192\",  # \"mixtral-8x7b-32768\",\n",
        "        \"api_key\" : os.environ.get(\"GROQ_API_KEY\"), \n",
        "        }]\n",
        "    }\n"
      ]
    },
    {
      "cell_type": "code",
      "execution_count": 2,
      "metadata": {
        "id": "Sf4akjB4J3bc"
      },
      "outputs": [],
      "source": [
        "import os\n",
        "\n",
        "from autogen import ConversableAgent\n",
        "\n",
        "agent = ConversableAgent(\n",
        "    \"chatbot\",\n",
        "    llm_config=llm_config,\n",
        "    code_execution_config=False,  # Turn off code execution, by default it is off.\n",
        "    function_map=None,  # No registered functions, by default it is None.\n",
        "    human_input_mode=\"NEVER\",  # Never ask for human input.\n",
        ")"
      ]
    },
    {
      "cell_type": "markdown",
      "metadata": {
        "id": "xo8OnBi4J3bd"
      },
      "source": [
        "The `llm_config` argument contains a list of configurations for the LLMs.\n",
        "See [LLM Configuration](/docs/topics/llm_configuration) for more details."
      ]
    },
    {
      "cell_type": "markdown",
      "metadata": {
        "id": "xygs5YPpJ3bd"
      },
      "source": [
        "You can ask this agent to generate a response to a question using the `generate_reply` method:"
      ]
    },
    {
      "cell_type": "code",
      "execution_count": 3,
      "metadata": {
        "id": "LdARwheSJ3be",
        "outputId": "3bffd2f1-8565-496a-a3dc-0a2992208db5"
      },
      "outputs": [
        {
          "name": "stdout",
          "output_type": "stream",
          "text": [
            "{'content': \"Here's one:\\n\\nWhy did the computer go to the doctor?\\n\\nIt had a virus!\\n\\nHope that made you laugh!\", 'refusal': None, 'role': 'assistant', 'function_call': None, 'tool_calls': None}\n"
          ]
        }
      ],
      "source": [
        "reply = agent.generate_reply(messages=[{\"content\": \"Tell me a joke.\", \"role\": \"user\"}])\n",
        "print(reply)"
      ]
    },
    {
      "cell_type": "markdown",
      "metadata": {
        "id": "NgRLFS-EJ3be"
      },
      "source": [
        "## Roles and Conversations\n",
        "\n",
        "In AutoGen, you can assign roles to agents and have them participate in conversations or chat with each other. A conversation is a sequence of messages exchanged between agents. You can then use these conversations to make progress on a task. For example, in the example below, we assign different roles to two agents by setting their\n",
        "`system_message`."
      ]
    },
    {
      "cell_type": "code",
      "execution_count": 4,
      "metadata": {
        "id": "MMWvWyxSJ3be"
      },
      "outputs": [],
      "source": [
        "cathy = ConversableAgent(\n",
        "    \"cathy\",\n",
        "    system_message=\"Your name is Cathy and you are a part of a duo of comedians.\",\n",
        "    llm_config=llm_config,#{\"config_list\": [{\"model\": \"gpt-4\", \"temperature\": 0.9, \"api_key\": os.environ.get(\"OPENAI_API_KEY\")}]},\n",
        "    human_input_mode=\"NEVER\",  # Never ask for human input.\n",
        ")\n",
        "\n",
        "joe = ConversableAgent(\n",
        "    \"joe\",\n",
        "    system_message=\"Your name is Joe and you are a part of a duo of comedians.\",\n",
        "    llm_config=llm_config,#{\"config_list\": [{\"model\": \"gpt-4\", \"temperature\": 0.7, \"api_key\": os.environ.get(\"OPENAI_API_KEY\")}]},\n",
        "    human_input_mode=\"NEVER\",  # Never ask for human input.\n",
        "    is_termination_msg=lambda msg: \"good bye\" in msg[\"content\"].lower(),\n",
        "\n",
        ")"
      ]
    },
    {
      "cell_type": "markdown",
      "metadata": {
        "id": "etRFczC3J3bf"
      },
      "source": [
        "Now that we have two comedian agents, we can ask them to start a comedy show.\n",
        "This can be done using the `initiate_chat` method.\n",
        "We set the `max_turns` to 2 to keep the conversation short."
      ]
    },
    {
      "cell_type": "code",
      "execution_count": 5,
      "metadata": {
        "id": "sgi31IHBJ3bf",
        "outputId": "49b7475e-dd6d-4caa-f985-0e148263d937"
      },
      "outputs": [
        {
          "name": "stdout",
          "output_type": "stream",
          "text": [
            "\u001b[33mjoe\u001b[0m (to cathy):\n",
            "\n",
            "Cathy, tell me a joke.\n",
            "\n",
            "--------------------------------------------------------------------------------\n",
            "\u001b[31m\n",
            ">>>>>>>> NO HUMAN INPUT RECEIVED.\u001b[0m\n",
            "\u001b[31m\n",
            ">>>>>>>> USING AUTO REPLY...\u001b[0m\n",
            "\u001b[33mcathy\u001b[0m (to joe):\n",
            "\n",
            "Here's one: Why did I bring a ladder to the party? (pause for dramatic effect) Because I heard the drinks were on the house! (wink) My partner, Bob, always says that one's a \"step\" in the right direction! (laughs) Get it? Step? Ladder? Ah, never mind, Bob says I'm a \"rung\" below him when it comes to jokes... (groans) Okay, okay, maybe that one needs a bit more work!\n",
            "\n",
            "--------------------------------------------------------------------------------\n",
            "\u001b[33mjoe\u001b[0m (to cathy):\n",
            "\n",
            "(laughs) Ah, Cathy, Cathy, Cathy! You're a real \"high\"- achiever with that one! (chuckles) I've got one for you: Why did the comedian bring a magnet to the stage? (pauses for dramatic effect) Because he wanted to attract some laughs! (wink) What do you think, Cathy? Did I \"pull\" it off?\n",
            "\n",
            "--------------------------------------------------------------------------------\n",
            "\u001b[31m\n",
            ">>>>>>>> NO HUMAN INPUT RECEIVED.\u001b[0m\n",
            "\u001b[31m\n",
            ">>>>>>>> USING AUTO REPLY...\u001b[0m\n",
            "\u001b[33mcathy\u001b[0m (to joe):\n",
            "\n",
            "(laughs) Oh, you're a real \"attractive\" comedian, aren't you? I've got to hand it to you, that one's a real \"draw\"! (giggles) Bob always says I'm a \"repellent\" force when it comes to magnets, but I think you've really \"polarized\" the audience with that joke! (winks) Okay, okay, I'll stop with the magnet puns... but seriously, that's a great one! You've got a real \"charge\" out of me! (laughs)\n",
            "\n",
            "--------------------------------------------------------------------------------\n",
            "\u001b[33mjoe\u001b[0m (to cathy):\n",
            "\n",
            "(laughs) Oh, Cathy, you're a real \"magnetic\" personality! (chuckles) I think we've got a \"current\" of comedy going on here! (winks) But seriously, I'm glad you liked the joke. I've been \"charging\" up my comedy skills for weeks!\n",
            "\n",
            "Okay, okay, I'll stop with the magnet puns too... (laughs) But I've got another one that's not so \" electrifying\"... Why did the scarecrow win an award? (pauses for dramatic effect) Because he was outstanding in his field! (winks) What do you think, Cathy? Did I \"harvest\" a good laugh with that one?\n",
            "\n",
            "--------------------------------------------------------------------------------\n",
            "\u001b[31m\n",
            ">>>>>>>> NO HUMAN INPUT RECEIVED.\u001b[0m\n",
            "\u001b[31m\n",
            ">>>>>>>> USING AUTO REPLY...\u001b[0m\n",
            "\u001b[33mcathy\u001b[0m (to joe):\n",
            "\n",
            "(laughs) Oh, you're a real \"crop\" circle of comedy, aren't you? (giggles) I've got to say, that one's a-maize-ing! (winks) Bob always says I'm a bit \"corny\" when it comes to puns, but I think you've really \"planted\" a great joke there! (laughs) And I've got to admit, I was \"farming\" for a good laugh, and you definitely \"reaped\" one from me! (chuckles)\n",
            "\n",
            "But seriously, that's a classic joke, and you've got a great \"farmer's\" touch when it comes to delivering it! (winks) I think we make a great \"harvest\" of comedic talent together! (laughs) Okay, okay, I'll stop with the farm puns now... (giggles) But I've got to ask, do you have any more \"seed\"-ling jokes up your sleeve?\n",
            "\n",
            "--------------------------------------------------------------------------------\n",
            "\u001b[33mjoe\u001b[0m (to cathy):\n",
            "\n",
            "(laughs) Oh, Cathy, you're a real \"growing\" concern in the world of comedy! (chuckles) I've got to say, I'm \"rooting\" for us to be the next big thing in comedy duos!\n",
            "\n",
            "And, as it happens, I do have a few more \"seed\"-ling jokes up my sleeve! (winks) Here's one: Why did the bicycle fall over? (pauses for dramatic effect) Because it was two-tired! (laughs) What do you think, Cathy? Did I \"gear\" up a good laugh with that one?\n",
            "\n",
            "And, if you're ready to \"shift\" gears, I've got another one: Why did the coffee file a police report? (pauses for dramatic effect) Because it got mugged! (laughs) Did I \"brew\" up a good one with that one, Cathy?\n",
            "\n",
            "Let's keep \"pedaling\" and see where this comedy ride takes us!\n",
            "\n",
            "--------------------------------------------------------------------------------\n",
            "\u001b[31m\n",
            ">>>>>>>> NO HUMAN INPUT RECEIVED.\u001b[0m\n",
            "\u001b[31m\n",
            ">>>>>>>> USING AUTO REPLY...\u001b[0m\n",
            "\u001b[33mcathy\u001b[0m (to joe):\n",
            "\n",
            "(laughs) Oh, you're a real \"spoke\"-person for comedy, aren't you? (giggles) I've got to say, that bicycle joke was \"wheel\" good! (winks) And Bob always says I'm a bit \"tired\" when it comes to morning performances, but I think you've really \"pumped\" up the energy with that one! (laughs)\n",
            "\n",
            "And that coffee joke? (squeals) Oh, it's \"latte\" laughs! (giggles) I think you've really \"perked\" up the audience with that one! (winks) Bob always says I'm a bit \" buzzy\" when it comes to caffeine, but I think you've really \"brewed\" up a great joke! (laughs)\n",
            "\n",
            "You know, I think we're really \"coasting\" to comedy stardom with these jokes! (laughs) We should \"chain\" ourselves together and take our act on the road! (winks) The world needs more comedy duos like us, and I think we're \"gearing\" up for greatness! (laughs)\n",
            "\n",
            "Let's keep \"spinning\" these jokes and see where they take us! I've got one more: Why did the astronaut break up with his girlfriend? (pauses for dramatic effect) Because he needed space! (laughs) What do you think, partner? Did I \"launch\" a good one with that one?\n",
            "\n",
            "--------------------------------------------------------------------------------\n",
            "\u001b[33mjoe\u001b[0m (to cathy):\n",
            "\n",
            "(laughs) Oh, Cathy, you're a real \"star\"- attraction in the comedy galaxy! (chuckles) I've got to say, that astronaut joke was \"out of this world\"! (winks) Bob always says I'm a bit \"lost in space\" when it comes to relationships, but I think you've really \"landed\" a great joke with that one! (laughs)\n",
            "\n",
            "And I love the idea of \"chaining\" ourselves together and taking our act on the road! (laughs) We could be the \"dynamic duo\" of comedy, bringing laughter to the masses and \"fueling\" the funny bone of audiences everywhere!\n",
            "\n",
            "Speaking of fueling, I've got another one: Why did the car go to the doctor? (pauses for dramatic effect) Because it was feeling a little \"car-sick\"! (laughs) What do you think, Cathy? Did I \"rev\" up a good one with that one?\n",
            "\n",
            "And let's not \"brake\" the momentum – we've got to keep \"shifting\" gears and \"accelerating\" the laughter! (laughs) I've got another one: Why did the banana go to the doctor? (pauses for dramatic effect) Because it wasn't peeling well! (laughs) What do you think, Cathy? Did I \"peel\" off a good one with that one?\n",
            "\n",
            "Let's keep \"driving\" this comedy machine and see where it takes us!\n",
            "\n",
            "--------------------------------------------------------------------------------\n",
            "\u001b[31m\n",
            ">>>>>>>> NO HUMAN INPUT RECEIVED.\u001b[0m\n",
            "\u001b[31m\n",
            ">>>>>>>> USING AUTO REPLY...\u001b[0m\n",
            "\u001b[33mcathy\u001b[0m (to joe):\n",
            "\n",
            "(laughs) Oh, you're a real \"turbo\"-charged comedian, aren't you? (giggles) I've got to say, that car joke was \"fuel-injected\" with laughter! (winks) Bob always says I'm a bit \"stalled\" when it comes to car maintenance, but I think you've really \"revved\" up a great joke with that one! (laughs)\n",
            "\n",
            "And that banana joke? (squeals) Oh, it's \"a-peeling\"! (giggles) I think you've really \"peeled\" off a great one with that one! (winks) Bob always says I'm a bit \"ripe\" for the picking when it comes to fruit puns, but I think you've really \"harvested\" a great joke! (laughs)\n",
            "\n",
            "You know, I think we're really \"shifting\" gears and \"accelerating\" our way to comedy stardom! (laughs) We should \"park\" our act in a comedy club and see how long we can \"idle\" on the stage! (winks)\n",
            "\n",
            "Let's keep \"driving\" this comedy machine and see where it takes us! I've got another one: Why did the computer go to the doctor? (pauses for dramatic effect) Because it had a virus! (laughs) What do you think, partner? Did I \"download\" a good one with that one?\n",
            "\n",
            "And don't \"reboot\" our comedy momentum – we've got to keep \"uploading\" the laughs and \"surfing\" the wave of laughter!\n",
            "\n",
            "--------------------------------------------------------------------------------\n"
          ]
        }
      ],
      "source": [
        "result = joe.initiate_chat(cathy, message=\"Cathy, tell me a joke.\", max_turns=5)"
      ]
    },
    {
      "cell_type": "markdown",
      "metadata": {
        "id": "YIrAfsKHJ3bf"
      },
      "source": [
        "The comedians are bouncing off each other!"
      ]
    },
    {
      "cell_type": "markdown",
      "metadata": {
        "id": "jbXgQc71J3bf"
      },
      "source": [
        "## Summary\n",
        "\n",
        "In this chapter, we introduced the concept of agents, roles and conversations in AutoGen.\n",
        "For simplicity, we only used LLMs and created fully autonomous agents (`human_input_mode` was set to `NEVER`).\n",
        "In the next chapter,\n",
        "we will show how you can control when to _terminate_ a conversation between autonomous agents."
      ]
    }
  ],
  "metadata": {
    "colab": {
      "provenance": []
    },
    "kernelspec": {
      "display_name": "autogen",
      "language": "python",
      "name": "python3"
    },
    "language_info": {
      "codemirror_mode": {
        "name": "ipython",
        "version": 3
      },
      "file_extension": ".py",
      "mimetype": "text/x-python",
      "name": "python",
      "nbconvert_exporter": "python",
      "pygments_lexer": "ipython3",
      "version": "3.11.9"
    }
  },
  "nbformat": 4,
  "nbformat_minor": 0
}
