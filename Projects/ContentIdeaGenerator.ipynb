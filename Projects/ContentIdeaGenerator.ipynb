{
 "cells": [
  {
   "cell_type": "markdown",
   "metadata": {},
   "source": [
    "# Step-by-Step Guide for Creating a Content Idea Generator\n",
    "\n",
    "## Introduction\n",
    "In this Python notebook, we'll create a Content Idea Generator using LangChain and the OpenAI API. \n",
    "\n",
    "This tool will summarize YouTube videos and then generate content ideas based on those summaries, taking into account:\n",
    "- specific information about the user\n",
    "- the target audience."
   ]
  },
  {
   "cell_type": "markdown",
   "metadata": {},
   "source": [
    "## Prerequisites\n",
    "To run this notebook, make sure you've installed requried packages:\n",
    "\n",
    "`pip install langchain openai gradio youtube-transcript-api pytube python-dotenv`\n"
   ]
  },
  {
   "cell_type": "markdown",
   "metadata": {},
   "source": [
    "## Step 1: Load Api keys .env\n",
    "\n",
    "First, let's load the .env file to get OPENAI_API_KEY"
   ]
  },
  {
   "cell_type": "code",
   "execution_count": 1,
   "metadata": {},
   "outputs": [],
   "source": [
    "\n",
    "from dotenv import load_dotenv, find_dotenv\n",
    "\n",
    "_ = load_dotenv(find_dotenv())\n"
   ]
  },
  {
   "cell_type": "markdown",
   "metadata": {},
   "source": [
    "## Step 2: YouTube Transcript Loader Function\n",
    "Create a function that takes a YouTube URL, extracts the video transcript and title, and returns them.\n",
    "\n",
    "First, we need to extract the video ID from the YouTube URL because Langchain's `YoutubeLoader` requires a video ID to load the transcript."
   ]
  },
  {
   "cell_type": "code",
   "execution_count": 2,
   "metadata": {},
   "outputs": [],
   "source": [
    "from urllib.parse import urlparse, parse_qs\n",
    "\n",
    "def extract_video_id_from_url(url):\n",
    "    \"\"\"\n",
    "    Extract the YouTube video ID using urllib.parse.\n",
    "    \"\"\"\n",
    "    video_id = None\n",
    "    parsed_url = urlparse(url)\n",
    "    \n",
    "    if \"youtube.com\" in parsed_url.netloc:\n",
    "        parsed_query = parse_qs(parsed_url.query)\n",
    "        video_id = parsed_query.get(\"v\", [None])[0]\n",
    "    elif \"youtu.be\" in parsed_url.netloc:\n",
    "        video_id = parsed_url.path[1:]\n",
    "        \n",
    "    return video_id\n"
   ]
  },
  {
   "cell_type": "code",
   "execution_count": 3,
   "metadata": {},
   "outputs": [],
   "source": [
    "from typing import Optional, Tuple\n",
    "from langchain.document_loaders import YoutubeLoader\n",
    "\n",
    "def get_transcript_and_metadata(url: str) -> Tuple[Optional[str], Optional[str]]:\n",
    "    \"\"\"\n",
    "    Returns the transcript and title from a YouTube URL.\n",
    "\n",
    "    Parameters:\n",
    "    url (str): The YouTube URL from which the transcript and title will be extracted.\n",
    "\n",
    "    Returns:\n",
    "    transcript (str): The transcript of the video.\n",
    "    title (str): The title of the video.\n",
    "    \"\"\"\n",
    "    try:\n",
    "        vid_id = extract_video_id_from_url(url)\n",
    "        loader = YoutubeLoader(vid_id, add_video_info=True)\n",
    "        docs = loader.load()\n",
    "        if docs:\n",
    "            doc = docs[0]\n",
    "            transcript = doc.page_content\n",
    "            title = doc.metadata[\"title\"]\n",
    "            return transcript, title\n",
    "        else:\n",
    "            return None, None\n",
    "    except Exception as e:\n",
    "        print(f\"Failed to load transcript and title from URL {url}: {e}\")\n",
    "        return None, None\n"
   ]
  },
  {
   "cell_type": "markdown",
   "metadata": {},
   "source": [
    "Testing the function"
   ]
  },
  {
   "cell_type": "code",
   "execution_count": 4,
   "metadata": {},
   "outputs": [],
   "source": [
    "# get_transcript_and_metadata(\"https://youtu.be/Z6sCl6abJj4?si=627FWCed9VtYTcbR\")"
   ]
  },
  {
   "cell_type": "markdown",
   "metadata": {},
   "source": [
    "## Step 3: Create Chain for Summary\n",
    "Use LangChain's Chain to create a chain that will summarize the YouTube transcript.\n",
    "\n",
    "- for summaries we'll use the `gpt-3.5-turbo-16k` model to handle longer transcripts\n",
    "- we'll also use a smaller temperature to increase reasoning\n",
    "\n",
    "\n",
    "<img src=\"images/Chains_seq.png\" alt=\"Image Alt Text\" width=\"600\">"
   ]
  },
  {
   "cell_type": "code",
   "execution_count": 5,
   "metadata": {},
   "outputs": [],
   "source": [
    "from langchain.chains import LLMChain\n",
    "from langchain.prompts import PromptTemplate\n",
    "from langchain.chat_models import ChatOpenAI\n",
    "\n",
    "llm_summary = ChatOpenAI(model_name='gpt-3.5-turbo-16k', temperature=.3)\n",
    "summary_template = \"\"\"Please summarize the following transcript in a form of a list with key takeaways.\\\n",
    "Tailor the summary for the person who is {info_about_me}.\\\n",
    "\n",
    "Transcript: {transcript}\n",
    "\"\"\"\n",
    "\n",
    "summary_prompt_template = PromptTemplate(input_variables=[\"transcript\", \"info_about_me\"], template=summary_template)\n",
    "summary_chain = LLMChain(llm=llm_summary, prompt=summary_prompt_template, output_key=\"summary\")\n"
   ]
  },
  {
   "cell_type": "markdown",
   "metadata": {},
   "source": [
    "## Step 4: Create Chain for Idea Generation\n",
    "Create another Chain that will take the summary, your info, and your target audience info to generate content ideas."
   ]
  },
  {
   "cell_type": "code",
   "execution_count": 6,
   "metadata": {},
   "outputs": [],
   "source": [
    "llm_idea = ChatOpenAI(model_name='gpt-3.5-turbo', temperature=.7)\n",
    "\n",
    "idea_template = \"\"\"Given the summarized content,\\\n",
    "and knowing that the creator is specialized in {info_about_me} and\\\n",
    "the target audience is interested in {info_about_audience},\\\n",
    "what are some content ideas that can be generated?\\\n",
    "Summary: {summary}\"\"\"\n",
    "\n",
    "idea_prompt_template = PromptTemplate(input_variables=[\"summary\", \"info_about_me\", \"info_about_audience\"], template=idea_template)\n",
    "idea_chain = LLMChain(llm=llm_idea, prompt=idea_prompt_template, output_key=\"content_ideas\")\n"
   ]
  },
  {
   "cell_type": "markdown",
   "metadata": {},
   "source": [
    "## Step 5: Sequential Chain\n",
    "Create a SequentialChain that combines both the summary and idea generation Chains.\n",
    "\n",
    "Although we're using `SequentialChain`, our model is simple.\n",
    "\n",
    "<img src=\"images/Chains_simple_seq.png\" alt=\"Image Alt Text\" width=\"600\">"
   ]
  },
  {
   "cell_type": "code",
   "execution_count": 7,
   "metadata": {},
   "outputs": [],
   "source": [
    "from langchain.chains import SequentialChain\n",
    "\n",
    "overall_chain = SequentialChain(\n",
    "    chains=[summary_chain, idea_chain],\n",
    "    input_variables=[\"transcript\", \"info_about_me\", \"info_about_audience\"],\n",
    "    output_variables=[\"summary\", \"content_ideas\"],\n",
    "    verbose=True\n",
    ")\n"
   ]
  },
  {
   "cell_type": "markdown",
   "metadata": {},
   "source": [
    "## Step 6: Gradio Interface with Additional Inputs\n",
    "Update the Gradio interface to include fields for entering information about you and your target audience."
   ]
  },
  {
   "cell_type": "code",
   "execution_count": 8,
   "metadata": {},
   "outputs": [],
   "source": [
    "ABOUT_ME = \"\"\"An NLP Engineer with a background in Full-Stack Development,\\\n",
    "specialized in Large Language Models and Generative AI.\\\n",
    "Creates educational content and shares it on LinkedIn, YouTube and Medium.\"\"\"\n",
    "\n",
    "TARGET_AUDIENCE = \"\"\"Aspiring NLP engineers, data scientists, and tech enthusiasts who are interested in leveraging cutting-edge AI technologies.\\\n",
    "They look for practical guides and insights into building projects with Large Language Models.\"\"\""
   ]
  },
  {
   "cell_type": "code",
   "execution_count": 9,
   "metadata": {},
   "outputs": [
    {
     "name": "stderr",
     "output_type": "stream",
     "text": [
      "/home/kris/anaconda3/envs/langchain/lib/python3.9/site-packages/tqdm/auto.py:21: TqdmWarning: IProgress not found. Please update jupyter and ipywidgets. See https://ipywidgets.readthedocs.io/en/stable/user_install.html\n",
      "  from .autonotebook import tqdm as notebook_tqdm\n"
     ]
    },
    {
     "name": "stdout",
     "output_type": "stream",
     "text": [
      "Running on local URL:  http://127.0.0.1:7860\n",
      "\n",
      "To create a public link, set `share=True` in `launch()`.\n"
     ]
    },
    {
     "data": {
      "text/html": [
       "<div><iframe src=\"http://127.0.0.1:7860/\" width=\"100%\" height=\"500\" allow=\"autoplay; camera; microphone; clipboard-read; clipboard-write;\" frameborder=\"0\" allowfullscreen></iframe></div>"
      ],
      "text/plain": [
       "<IPython.core.display.HTML object>"
      ]
     },
     "metadata": {},
     "output_type": "display_data"
    },
    {
     "name": "stdout",
     "output_type": "stream",
     "text": [
      "Keyboard interruption in main thread... closing server.\n"
     ]
    },
    {
     "data": {
      "text/plain": []
     },
     "execution_count": 9,
     "metadata": {},
     "output_type": "execute_result"
    }
   ],
   "source": [
    "import gradio as gr\n",
    "\n",
    "def execute_chain(url: str, info_about_me: str, info_about_audience: str):\n",
    "    transcript = get_transcript_and_metadata(url)\n",
    "    if transcript:\n",
    "        inputs = {\n",
    "            \"transcript\": transcript,\n",
    "            \"info_about_me\": info_about_me,\n",
    "            \"info_about_audience\": info_about_audience,\n",
    "        }\n",
    "        output = overall_chain(inputs)\n",
    "        return output[\"summary\"], output[\"content_ideas\"]\n",
    "    else:\n",
    "        return \"Failed to load transcript.\", \"Cannot generate content ideas without transcript.\"\n",
    "\n",
    "demo = gr.Interface(\n",
    "    fn=execute_chain,\n",
    "    inputs=[\n",
    "        \"text\",\n",
    "        gr.Textbox(lines=4, value=ABOUT_ME, label=\"About Me\"),\n",
    "        gr.Textbox(lines=2, value=TARGET_AUDIENCE, label=\"Target Audience\"),\n",
    "    ],\n",
    "    outputs=[\n",
    "        gr.Textbox(label=\"Video Summary\"), \n",
    "        gr.Textbox(label=\"Content Ideas\"),\n",
    "    ],\n",
    ")\n",
    "\n",
    "demo.launch(debug=True)\n"
   ]
  },
  {
   "cell_type": "code",
   "execution_count": null,
   "metadata": {},
   "outputs": [],
   "source": []
  }
 ],
 "metadata": {
  "kernelspec": {
   "display_name": "langchain",
   "language": "python",
   "name": "python3"
  },
  "language_info": {
   "codemirror_mode": {
    "name": "ipython",
    "version": 3
   },
   "file_extension": ".py",
   "mimetype": "text/x-python",
   "name": "python",
   "nbconvert_exporter": "python",
   "pygments_lexer": "ipython3",
   "version": "3.9.17"
  },
  "orig_nbformat": 4
 },
 "nbformat": 4,
 "nbformat_minor": 2
}
