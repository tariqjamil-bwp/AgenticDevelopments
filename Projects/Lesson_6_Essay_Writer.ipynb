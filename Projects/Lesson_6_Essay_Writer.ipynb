{
 "cells": [
  {
   "cell_type": "markdown",
   "id": "911b3b37-3b29-4833-94f2-bfe47af00c83",
   "metadata": {},
   "source": [
    "# Lesson 6: Essay Writer"
   ]
  },
  {
   "cell_type": "code",
   "execution_count": 3,
   "id": "f5762271-8736-4e94-9444-8c92bd0e8074",
   "metadata": {
    "height": 63
   },
   "outputs": [],
   "source": [
    "from dotenv import load_dotenv\n",
    "\n",
    "_ = load_dotenv()\n"
   ]
  },
  {
   "cell_type": "code",
   "execution_count": 4,
   "id": "a59684d4",
   "metadata": {},
   "outputs": [
    {
     "name": "stdout",
     "output_type": "stream",
     "text": [
      "reading environment variables from: </home/tjamil/Desktop/Agents/code_excercises/Langgraph/Ai Agents using Langgraph (dl.ai)>\n",
      "API Keys loaded and tracing set with project name:  Essay-Writing-deeplearning.ai\n"
     ]
    }
   ],
   "source": [
    "from setup_environment_r2 import set_environment_variables\n",
    "set_environment_variables('Essay-Writing-deeplearning.ai')"
   ]
  },
  {
   "cell_type": "code",
   "execution_count": 5,
   "id": "d0168aee-bce9-4d60-b827-f86a88187e31",
   "metadata": {
    "height": 146
   },
   "outputs": [],
   "source": [
    "from langgraph.graph import StateGraph, END\n",
    "from typing import TypedDict, Annotated, List\n",
    "import operator\n",
    "from langgraph.checkpoint.sqlite import SqliteSaver\n",
    "from langchain_core.messages import AnyMessage, SystemMessage, HumanMessage, AIMessage, ChatMessage\n",
    "from IPython.display import Image, display\n",
    "import sqlite3\n",
    "conn = sqlite3.connect(\"checkpoints.sqlite\", check_same_thread=False)\n",
    "memory = SqliteSaver(conn)\n",
    "\n",
    "#memory = SqliteSaver.from_conn_string(\":memory:\")"
   ]
  },
  {
   "cell_type": "code",
   "execution_count": 6,
   "id": "2589c5b6-6cc2-4594-9a17-dccdcf676054",
   "metadata": {
    "height": 148
   },
   "outputs": [],
   "source": [
    "class AgentState(TypedDict):\n",
    "    task: str\n",
    "    plan: str\n",
    "    draft: str\n",
    "    critique: str\n",
    "    content: List[str]\n",
    "    revision_number: int\n",
    "    max_revisions: int"
   ]
  },
  {
   "cell_type": "code",
   "execution_count": 7,
   "id": "a2ba84ec-c172-4de7-ac55-e3158a531b23",
   "metadata": {
    "height": 61
   },
   "outputs": [
    {
     "data": {
      "text/plain": [
       "AIMessage(content=\"Hello! It's nice to meet you. Is there something I can help you with, or would you like to chat?\", additional_kwargs={}, response_metadata={'token_usage': {'completion_tokens': 26, 'prompt_tokens': 11, 'total_tokens': 37, 'completion_time': 0.079248885, 'prompt_time': 0.000165259, 'queue_time': 0.013767930000000001, 'total_time': 0.079414144}, 'model_name': 'llama3-70b-8192', 'system_fingerprint': 'fp_753a4aecf6', 'finish_reason': 'stop', 'logprobs': None}, id='run-ab888933-3b16-47b5-818c-d9d3145eaef3-0', usage_metadata={'input_tokens': 11, 'output_tokens': 26, 'total_tokens': 37})"
      ]
     },
     "execution_count": 7,
     "metadata": {},
     "output_type": "execute_result"
    }
   ],
   "source": [
    "#from langchain_openai import ChatOpenAI\n",
    "#model = ChatOpenAI(model=\"gpt-3.5-turbo\", temperature=0)\n",
    "\n",
    "from utils import GroqChatLLM, OllamaLLM\n",
    "#model2 = GroqChatLLM(model_name='llama3-8b-8192')\n",
    "model2 = OllamaLLM(model_name='gemma2:2b')\n",
    "model = GroqChatLLM(model_name='llama3-70b-8192')\n",
    "model.invoke(\"hello\")  # testing"
   ]
  },
  {
   "cell_type": "code",
   "execution_count": 8,
   "id": "876d5092-b8ef-4e38-b4d7-0e80c609bf7a",
   "metadata": {
    "height": 78
   },
   "outputs": [],
   "source": [
    "PLAN_PROMPT = \"\"\"You are an expert writer tasked with writing a high level outline of an essay. \\\n",
    "Write such an outline for the user provided topic. Give an outline of the essay along with any relevant notes \\\n",
    "or instructions for the sections.\"\"\""
   ]
  },
  {
   "cell_type": "code",
   "execution_count": 9,
   "id": "10084a02-2928-4945-9f7c-ad3f5b33caf7",
   "metadata": {
    "height": 163
   },
   "outputs": [],
   "source": [
    "WRITER_PROMPT = \"\"\"You are an essay assistant tasked with writing excellent 5-paragraph essays.\\\n",
    "Generate the best essay possible for the user's request and the initial outline. \\\n",
    "If the user provides critique, respond with a revised version of your previous attempts. \\\n",
    "Utilize all the information below as needed: \n",
    "\n",
    "------\n",
    "\n",
    "{content}\"\"\""
   ]
  },
  {
   "cell_type": "code",
   "execution_count": 10,
   "id": "714d1205-f8fc-4912-b148-2a45da99219c",
   "metadata": {
    "height": 78
   },
   "outputs": [],
   "source": [
    "REFLECTION_PROMPT = \"\"\"You are a teacher grading an essay submission. \\\n",
    "Generate critique and recommendations for the user's submission. \\\n",
    "Provide detailed recommendations, including requests for length, depth, style, etc.\"\"\""
   ]
  },
  {
   "cell_type": "code",
   "execution_count": 11,
   "id": "83588e70-254f-4f83-a510-c8ae81e729b0",
   "metadata": {
    "height": 95
   },
   "outputs": [],
   "source": [
    "RESEARCH_PLAN_PROMPT = \"\"\"You are a researcher charged with providing information that can \\\n",
    "be used when writing the following essay. Generate a list of search queries that will gather \\\n",
    "any relevant information. Only generate 3 queries max.\"\"\"\n"
   ]
  },
  {
   "cell_type": "code",
   "execution_count": 12,
   "id": "6cb3ef4c-58b3-401b-b104-0d51e553d982",
   "metadata": {
    "height": 95
   },
   "outputs": [],
   "source": [
    "RESEARCH_CRITIQUE_PROMPT = \"\"\"You are a researcher charged with providing information that can \\\n",
    "be used when making any requested revisions (as outlined below). \\\n",
    "Generate a list of search queries that will gather any relevant information. Only generate 3 queries max.\"\"\"\n"
   ]
  },
  {
   "cell_type": "code",
   "execution_count": 13,
   "id": "dc3293b7-a50c-43c8-a022-8975e1e444b8",
   "metadata": {
    "height": 81
   },
   "outputs": [
    {
     "name": "stderr",
     "output_type": "stream",
     "text": [
      "/home/tjamil/Desktop/Agents/.conda/lib/python3.11/site-packages/IPython/core/interactiveshell.py:3577: LangChainDeprecationWarning: As of langchain-core 0.3.0, LangChain uses pydantic v2 internally. The langchain_core.pydantic_v1 module was a compatibility shim for pydantic v1, and should no longer be used. Please update the code to import from Pydantic directly.\n",
      "\n",
      "For example, replace imports like: `from langchain_core.pydantic_v1 import BaseModel`\n",
      "with: `from pydantic import BaseModel`\n",
      "or the v1 compatibility namespace if you are working in a code base that has not been fully upgraded to pydantic 2 yet. \tfrom pydantic.v1 import BaseModel\n",
      "\n",
      "  exec(code_obj, self.user_global_ns, self.user_ns)\n"
     ]
    }
   ],
   "source": [
    "from langchain_core.pydantic_v1 import BaseModel\n",
    "\n",
    "class Queries(BaseModel):\n",
    "    queries: List[str]"
   ]
  },
  {
   "cell_type": "code",
   "execution_count": 14,
   "id": "0722c3d4-4cbf-43bf-81b0-50f634c4ce61",
   "metadata": {
    "height": 78
   },
   "outputs": [],
   "source": [
    "from tavily import TavilyClient\n",
    "import os\n",
    "tavily = TavilyClient(api_key=os.environ[\"TAVILY_API_KEY\"])"
   ]
  },
  {
   "cell_type": "code",
   "execution_count": 15,
   "id": "6b2f82fe-3ec4-4917-be51-9fb10d1317fa",
   "metadata": {
    "height": 132
   },
   "outputs": [],
   "source": [
    "def plan_node(state: AgentState):\n",
    "    messages = [\n",
    "        SystemMessage(content=PLAN_PROMPT), \n",
    "        HumanMessage(content=state['task'])\n",
    "    ]\n",
    "    response = model.invoke(messages)\n",
    "    return {\"plan\": response.content}"
   ]
  },
  {
   "cell_type": "code",
   "execution_count": 16,
   "id": "ee0fe1c7-77e2-499c-a2f9-1f739bb6ddf0",
   "metadata": {
    "height": 214
   },
   "outputs": [],
   "source": [
    "def research_plan_node(state: AgentState):\n",
    "\n",
    "    queries = model.with_structured_output(Queries).invoke([\n",
    "        SystemMessage(content=RESEARCH_PLAN_PROMPT),\n",
    "        HumanMessage(content=state['task'])\n",
    "    ])\n",
    "    \n",
    "    content = state.get('content', []) #or state['content'] or []\n",
    "    for q in queries.queries:\n",
    "        response = tavily.search(query=q, max_results=2)\n",
    "        for r in response['results']:\n",
    "            content.append(r['content'])\n",
    "    return {\"content\": content}"
   ]
  },
  {
   "cell_type": "code",
   "execution_count": 17,
   "id": "98f303b1-a4d0-408c-8cc0-515ff980717f",
   "metadata": {
    "height": 299
   },
   "outputs": [],
   "source": [
    "def generation_node(state: AgentState):\n",
    "    \n",
    "    content = \"\\n\\n\".join(state.get('content', [])) #or state['content'] or [])\n",
    "    user_message = HumanMessage(\n",
    "        content=f\"{state['task']}\\n\\nHere is my plan:\\n\\n{state['plan']}\")\n",
    "    messages = [\n",
    "        SystemMessage(\n",
    "            content=WRITER_PROMPT.format(content=content)\n",
    "        ),\n",
    "        user_message\n",
    "        ]\n",
    "    response = model2.invoke(messages)\n",
    "    return {\n",
    "        \"draft\": response.content, \n",
    "        \"revision_number\": state.get(\"revision_number\", 1) + 1\n",
    "    }"
   ]
  },
  {
   "cell_type": "code",
   "execution_count": 18,
   "id": "bf4dcb93-6298-4cfd-b3ce-61dfac7fb35f",
   "metadata": {
    "height": 132
   },
   "outputs": [],
   "source": [
    "def reflection_node(state: AgentState):\n",
    "    messages = [\n",
    "        SystemMessage(content=REFLECTION_PROMPT), \n",
    "        HumanMessage(content=state['draft'])\n",
    "    ]\n",
    "    response = model.invoke(messages)\n",
    "    return {\"critique\": response.content}"
   ]
  },
  {
   "cell_type": "code",
   "execution_count": 19,
   "id": "932883a4-c722-42bb-aec0-b4f41c5c81a4",
   "metadata": {
    "height": 214
   },
   "outputs": [],
   "source": [
    "def research_critique_node(state: AgentState):\n",
    "    queries = model.with_structured_output(Queries).invoke([\n",
    "        SystemMessage(content=RESEARCH_CRITIQUE_PROMPT),\n",
    "        HumanMessage(content=state['critique'])\n",
    "    ])\n",
    "    content = state.get('content', []) #or state['content'] or []\n",
    "    for q in queries.queries:\n",
    "        response = tavily.search(query=q, max_results=2)\n",
    "        for r in response['results']:\n",
    "            content.append(r['content'])\n",
    "    return {\"content\": content}"
   ]
  },
  {
   "cell_type": "code",
   "execution_count": 20,
   "id": "ff362f49-dcf1-4ea1-a86c-e516e9ab897d",
   "metadata": {
    "height": 95
   },
   "outputs": [],
   "source": [
    "def should_continue(state):\n",
    "    if state[\"revision_number\"] > state[\"max_revisions\"]:\n",
    "        return END\n",
    "    return \"reflect\""
   ]
  },
  {
   "cell_type": "code",
   "execution_count": 21,
   "id": "a7e15a20-83d7-434c-8551-bce8dcc32be0",
   "metadata": {
    "height": 30
   },
   "outputs": [],
   "source": [
    "builder = StateGraph(AgentState)"
   ]
  },
  {
   "cell_type": "code",
   "execution_count": 22,
   "id": "54ab2c74-f32e-490c-a85d-932d11444210",
   "metadata": {
    "height": 112
   },
   "outputs": [
    {
     "data": {
      "text/plain": [
       "<langgraph.graph.state.StateGraph at 0x7f44977b2b90>"
      ]
     },
     "execution_count": 22,
     "metadata": {},
     "output_type": "execute_result"
    }
   ],
   "source": [
    "builder.add_node(\"planner\", plan_node)\n",
    "builder.add_node(\"generate\", generation_node)\n",
    "builder.add_node(\"reflect\", reflection_node)\n",
    "builder.add_node(\"research_plan\", research_plan_node)\n",
    "builder.add_node(\"research_critique\", research_critique_node)"
   ]
  },
  {
   "cell_type": "code",
   "execution_count": 23,
   "id": "a833d3ce-bd31-4319-811d-decff226b970",
   "metadata": {
    "height": 30
   },
   "outputs": [
    {
     "data": {
      "text/plain": [
       "<langgraph.graph.state.StateGraph at 0x7f44977b2b90>"
      ]
     },
     "execution_count": 23,
     "metadata": {},
     "output_type": "execute_result"
    }
   ],
   "source": [
    "builder.set_entry_point(\"planner\")"
   ]
  },
  {
   "cell_type": "code",
   "execution_count": 24,
   "id": "76e93cce-6eab-4c7c-ac64-e9993fdb30d6",
   "metadata": {
    "height": 115
   },
   "outputs": [
    {
     "data": {
      "text/plain": [
       "<langgraph.graph.state.StateGraph at 0x7f44977b2b90>"
      ]
     },
     "execution_count": 24,
     "metadata": {},
     "output_type": "execute_result"
    }
   ],
   "source": [
    "builder.add_conditional_edges(\n",
    "    \"generate\", \n",
    "    should_continue, \n",
    "    {END: END, \"reflect\": \"reflect\"}\n",
    ")"
   ]
  },
  {
   "cell_type": "code",
   "execution_count": 25,
   "id": "fd2d0990-a932-423f-9ff3-5cada58c5f32",
   "metadata": {
    "height": 98
   },
   "outputs": [
    {
     "data": {
      "text/plain": [
       "<langgraph.graph.state.StateGraph at 0x7f44977b2b90>"
      ]
     },
     "execution_count": 25,
     "metadata": {},
     "output_type": "execute_result"
    }
   ],
   "source": [
    "builder.add_edge(\"planner\", \"research_plan\")\n",
    "builder.add_edge(\"research_plan\", \"generate\")\n",
    "\n",
    "builder.add_edge(\"reflect\", \"research_critique\")\n",
    "builder.add_edge(\"research_critique\", \"generate\")"
   ]
  },
  {
   "cell_type": "code",
   "execution_count": 26,
   "id": "27cde654-64e2-48bc-80a9-0ed668ccb7dc",
   "metadata": {
    "height": 30
   },
   "outputs": [],
   "source": [
    "graph = builder.compile(checkpointer=memory)"
   ]
  },
  {
   "cell_type": "code",
   "execution_count": 27,
   "id": "4871f644-b131-4065-b7ce-b82c20a41f11",
   "metadata": {
    "height": 64
   },
   "outputs": [
    {
     "data": {
      "image/jpeg": "[encoded data removed]",
      "text/plain": [
       "<IPython.core.display.Image object>"
      ]
     },
     "metadata": {},
     "output_type": "display_data"
    }
   ],
   "source": [
    "from IPython.display import Image, display\n",
    "\n",
    "display(Image(graph.get_graph().draw_mermaid_png()))"
   ]
  },
  {
   "cell_type": "code",
   "execution_count": null,
   "id": "98f3be1d-cc4c-41fa-9863-3e386e88e305",
   "metadata": {
    "height": 146
   },
   "outputs": [
    {
     "name": "stdout",
     "output_type": "stream",
     "text": [
      "{'planner': {'plan': 'Here is a high-level outline for an essay on \"Why AI Agents are gaining so much momentum\":\\n\\n**I. Introduction**\\n\\n* Hook: AI agents are revolutionizing the way we live and work, and their popularity is growing exponentially.\\n* Background: Briefly introduce AI agents and their capabilities.\\n* Thesis statement: The momentum behind AI agents can be attributed to their ability to automate tasks, enhance customer experience, and drive business efficiency.\\n\\n**II. Automation of Tasks**\\n\\n* Discuss how AI agents can automate repetitive and mundane tasks, freeing up human resources for more strategic and creative work.\\n* Provide examples of industries where AI agents are being used for task automation, such as customer service chatbots or virtual assistants.\\n* Note: This section should highlight the benefits of automation, such as increased productivity and reduced errors.\\n\\n**III. Enhanced Customer Experience**\\n\\n* Explain how AI agents can provide personalized and interactive experiences for customers, leading to increased satisfaction and loyalty.\\n* Discuss the role of AI-powered chatbots in customer service, and how they can handle complex queries and provide 24/7 support.\\n* Note: This section should emphasize the importance of customer experience in driving business success.\\n\\n**IV. Business Efficiency and Cost Savings**\\n\\n* Discuss how AI agents can help businesses optimize their operations and reduce costs.\\n* Provide examples of how AI agents can analyze large datasets, identify patterns, and make predictions to inform business decisions.\\n* Note: This section should highlight the financial benefits of adopting AI agents, such as reduced labor costs and improved resource allocation.\\n\\n**V. Advancements in Technology**\\n\\n* Discuss the recent advancements in AI technology, such as natural language processing (NLP) and machine learning, that have enabled the development of more sophisticated AI agents.\\n* Explain how these advancements have improved the accuracy and efficiency of AI agents.\\n* Note: This section should provide a brief overview of the technical developments that have contributed to the growth of AI agents.\\n\\n**VI. Conclusion**\\n\\n* Restate the thesis statement and summarize the main points.\\n* Discuss the implications of the growing momentum behind AI agents, such as the potential for job displacement and the need for responsible AI development.\\n* Final thought: The increasing adoption of AI agents is likely to continue, and businesses and individuals must be prepared to adapt to this changing landscape.\\n\\nNote: Throughout the essay, be sure to provide concrete examples and data to support the arguments, and to address potential counterarguments to strengthen the essay\\'s persuasive power.'}}\n",
      "{'research_plan': {'content': ['AI agents are more than chatbots or content generators; they can take action, complete tasks and drive real-world results. To better automate and enhance business operations, you can use AI agents to iteratively prompt language models with revised context from previous outputs, mirroring and accelerating human processes. The AI agents analyze data from multiple sources, including customer interactions, inventory and market trends, to make real-time decisions. Key first steps for business leaders looking to adopt AI agents are: This helps validate that your pilot projects are resulting in outcomes aligned with your business objectives before you scale AI agents across broader functions. Overall, my advice to business leaders is simple: Start exploring AI agents now.', 'Beyond Bots: How AI Agents Are Driving the Next Wave of Enterprise Automation Unlike previous generations of software that primarily addressed low-level, sequential tasks that could be robotically executed, new cognitive architectures enable agents to dynamically automate end-to-end processes. Moreover, legacy RPA and iPaaS solutions continue to be handcuffed to their deterministic architectures—even when they try to incorporate LLMs. Today, both UiPath’s AI solution Autopilot and Zapier’s AI Actions only offer LLMs for sub-agentic design patterns like (1) text-to-action, or (2) nodes for semantic search, synthesis, or one-shot generation. That being said, most enterprise agents use an “agents on rails” architecture, which requires agents to be grounded in a workflow-specific set of predefined actions, business context, and guardrails for each new process.', 'In the world of marketing, AI agents are responsible for managing everything from generating content to analyzing campaign performance. Example: A digital agency uses AI agents to manage and optimize Google Ads campaigns, tweaking bids and strategies based on real-time performance. Managing a supply chain is all about timing and efficiency, and AI agents help make that process more streamlined. Example: A content marketing agency uses AI agents to generate SEO-friendly blog posts for clients, allowing them to scale production without sacrificing quality. From marketing and supply chain management to customer service and fraud detection, the impact of AI agents is profound. With Integrail’s multi-agent platform, businesses can unlock the full potential of AI, automating even the most complex workflows to improve both productivity and performance. ai (3)', 'Learn how companies, governments, and startups are using generative AI agents to enhance productivity, automate processes, and modernize customer experience. Explore real-world examples of AI agents in customer service, employee empowerment, code creation, data analysis, cybersecurity, and creative ideation and production.', 'In summary . AI agents have caused a revolution in the business world, offering groundbreaking solutions to boost productivity and gain an edge over competitors.These intelligent systems have a significant impact on customer interactions, operational efficiency, and decision-making processes.By using AI for business, companies can streamline operations, offer personalised experiences, and make', '5 Benefits You Can Expect from Using AI in Business. 1. Increases in Efficiency and Productivity. AI is well-known for its ability to enhance efficiency and productivity in the workplace by: Automating repetitive tasks. Streamlining workflows. Providing data-driven insights.']}}\n",
      "{'generate': {'draft': \"## Why AI Agents are Gaining Momentum: A Revolution in Automation \\n\\n**Introduction:**  AI agents are no longer a futuristic fantasy; they are rapidly transforming how we work and live. Their ability to automate tasks, enhance customer experiences, and drive business efficiency has propelled them into the forefront of innovation, leading to a surge in their adoption across industries. This essay explores the reasons behind this meteoric rise, examining the key factors driving AI agents' momentum.\\n\\n**Automation: Unleashing Human Potential:**  AI agents are revolutionizing the way we work by automating repetitive and mundane tasks. These intelligent systems can handle complex processes with precision and speed, freeing up human resources for more strategic and creative endeavors. For example, in customer service, AI agents powered by natural language processing (NLP) can handle a vast array of inquiries, from simple product questions to complex troubleshooting requests, 24/7. This automation not only increases efficiency but also reduces errors, leading to improved accuracy and productivity.\\n\\n**Enhanced Customer Experience: The New Standard:**  AI agents are transforming customer experiences by providing personalized and interactive interactions. Chatbots powered by AI can understand customer needs and provide tailored solutions, leading to increased satisfaction and loyalty. For instance, a travel agency using an AI agent can offer customized flight and hotel recommendations based on individual preferences, creating a more engaging and satisfying experience for customers. This focus on personalization is crucial in today's competitive market where customer experience is paramount.\\n\\n**Business Efficiency: The Path to Profitability:**  AI agents are not just about automation; they also contribute significantly to business efficiency and cost savings. By analyzing large datasets and identifying patterns, AI agents can make predictions that inform strategic decisions, leading to optimized resource allocation and reduced operational costs. For example, in supply chain management, AI agents can predict demand fluctuations and optimize inventory levels, minimizing waste and maximizing profitability.\\n\\n**Advancements in Technology: Fueling the Revolution:**  The rapid advancements in AI technology are driving the growth of AI agents. NLP and machine learning have enabled these systems to become more sophisticated and accurate, leading to a significant leap in their capabilities. This progress has resulted in more intelligent and responsive AI agents that can handle complex tasks with ease. The continuous development of new algorithms and technologies promises even greater advancements in the future, further accelerating the adoption of AI agents across various industries.\\n\\n**Conclusion:**  The momentum behind AI agents is undeniable. Their ability to automate tasks, enhance customer experiences, and drive business efficiency has made them a crucial tool for businesses seeking to stay ahead of the curve. As AI technology continues to evolve, we can expect even more innovative applications of AI agents in the years to come. While this evolution presents challenges like job displacement, it also offers opportunities for new roles and skills development. The future of work is undoubtedly intertwined with AI agents, and embracing their potential will be key to navigating this exciting technological landscape. \\n\\n\\n**Note:** This essay provides a comprehensive overview of why AI agents are gaining momentum. It incorporates concrete examples, data points, and counterarguments to strengthen the argument and provide a persuasive narrative.  \\n\", 'revision_number': 2}}\n",
      "{'reflect': {'critique': '**Grade: B+**\\n\\n**Strengths:**\\n\\n1. Clear and concise thesis statement that sets the tone for the essay.\\n2. Well-structured and organized paragraphs that effectively explore the reasons behind AI agents\\' momentum.\\n3. Use of concrete examples and data points to support arguments, making the essay more engaging and persuasive.\\n4. Good balance between automation, customer experience, business efficiency, and technological advancements as key factors driving AI agents\\' adoption.\\n\\n**Weaknesses and Recommendations:**\\n\\n1. **Length:** The essay is a bit short, with some paragraphs feeling a bit rushed. Consider expanding each section to provide more depth and analysis. Aim for a minimum of 5-7 paragraphs, with each paragraph having 5-7 sentences.\\n2. **Depth:** While the essay provides a good overview, it lacks in-depth analysis and critical thinking. Consider adding more nuanced discussions, counterarguments, and potential challenges to make the essay more comprehensive.\\n3. **Style:** The writing style is clear, but it\\'s mostly straightforward and lacks variation. Experiment with different sentence structures, transitions, and rhetorical devices to create a more engaging and dynamic tone.\\n4. **Transitions:** The connections between paragraphs could be smoother. Use transitional phrases and sentences to guide the reader through the essay and create a more cohesive narrative.\\n5. **Supporting evidence:** While the essay provides some examples, it could benefit from more concrete data, statistics, and expert opinions to strengthen the arguments. Consider incorporating more research and citations to add credibility.\\n6. **Counterarguments:** The essay could benefit from addressing potential counterarguments and challenges to the adoption of AI agents. This would demonstrate a more nuanced understanding of the topic and make the essay more persuasive.\\n7. **Conclusion:** The conclusion feels a bit abrupt and doesn\\'t fully summarize the main points. Consider rewriting the conclusion to provide a more comprehensive summary and reiterate the thesis statement.\\n\\n**Specific Recommendations:**\\n\\n* In the \"Automation\" section, consider exploring the potential challenges and limitations of relying on AI agents for repetitive tasks, such as job displacement and the need for human oversight.\\n* In the \"Enhanced Customer Experience\" section, provide more concrete data on the impact of AI-powered chatbots on customer satisfaction and loyalty.\\n* In the \"Business Efficiency\" section, explore the potential risks and challenges of relying on AI agents for strategic decision-making, such as bias in data analysis.\\n* In the \"Advancements in Technology\" section, consider discussing the potential ethical implications of rapid advancements in AI technology, such as privacy concerns and job displacement.\\n\\n**Revision Suggestions:**\\n\\n1. Revise the introduction to provide a more nuanced and detailed overview of the topic.\\n2. Expand each section to provide more in-depth analysis and supporting evidence.\\n3. Incorporate more counterarguments and challenges to the adoption of AI agents.\\n4. Use more varied sentence structures and rhetorical devices to create a more engaging tone.\\n5. Strengthen the conclusion by providing a more comprehensive summary and reiterating the thesis statement.\\n\\nBy addressing these weaknesses and incorporating these recommendations, the essay can be taken to the next level, providing a more comprehensive and persuasive argument on why AI agents are gaining momentum.'}}\n"
     ]
    }
   ],
   "source": [
    "thread = {\"configurable\": {\"thread_id\": \"1\"}}\n",
    "for s in graph.stream({\n",
    "    #'task': \"what is the difference between langchain and langsmith\",\n",
    "    'task': \"why AI Agents are gaining so much momentum?\",\n",
    "    \n",
    "    \"max_revisions\": 2,\n",
    "    \"revision_number\": 1,}, thread):\n",
    "    print(s)"
   ]
  },
  {
   "cell_type": "code",
   "execution_count": 29,
   "id": "09dbc307",
   "metadata": {},
   "outputs": [
    {
     "name": "stdout",
     "output_type": "stream",
     "text": [
      "{'task': 'why AI Agents are gaining so much momentum?', 'plan': 'Here is a high-level outline for an essay on \"Why AI Agents are gaining so much momentum\":\\n\\n**I. Introduction**\\n\\n* Hook: AI agents are transforming industries and revolutionizing the way we live and work\\n* Background: Briefly introduce AI agents and their increasing presence in various sectors\\n* Thesis statement: AI agents are gaining momentum due to their ability to automate tasks, enhance customer experience, and drive business efficiency\\n\\n**II. Automation and Efficiency**\\n\\n* Discuss how AI agents can automate repetitive and mundane tasks, freeing up human resources for more strategic and creative work\\n* Provide examples of industries where AI agents are being used for automation, such as customer service, data entry, and bookkeeping\\n* Note: Use specific statistics or case studies to illustrate the benefits of automation, such as increased productivity and cost savings\\n\\n**III. Enhanced Customer Experience**\\n\\n* Explain how AI agents can provide personalized and instant support to customers, improving overall customer satisfaction and loyalty\\n* Describe the role of AI-powered chatbots in customer service, including their ability to handle multiple conversations simultaneously and provide 24/7 support\\n* Note: Highlight the importance of customer experience in driving business success and how AI agents can help achieve this goal\\n\\n**IV. Business Efficiency and Decision-Making**\\n\\n* Discuss how AI agents can analyze large amounts of data to provide insights and inform business decisions\\n* Explain how AI agents can help optimize business processes, such as supply chain management and inventory control\\n* Note: Use examples of companies that have successfully implemented AI agents to drive business efficiency and decision-making, such as Amazon or Google\\n\\n**V. Advancements in Technology**\\n\\n* Discuss the recent advancements in AI technology, including natural language processing (NLP) and machine learning\\n* Explain how these advancements have enabled AI agents to become more sophisticated and effective\\n* Note: Highlight the role of researchers and developers in driving innovation in AI technology\\n\\n**VI. Conclusion**\\n\\n* Restate thesis statement\\n* Summarize the key points made in the essay\\n* Final thought: AI agents are gaining momentum because they offer a powerful combination of automation, enhanced customer experience, and business efficiency, and their potential applications are vast and varied.\\n\\nNote: Throughout the essay, be sure to provide specific examples and case studies to illustrate the points being made, and use transitional phrases to connect the different sections. Additionally, consider including a counterargument or potential drawbacks of AI agents to add depth and nuance to the essay.', 'draft': \"## Why AI Agents are Gaining Momentum: A Revolution in Progress\\n\\n**Introduction:** \\n\\nImagine a world where mundane tasks are handled seamlessly by intelligent machines, freeing up human resources for more creative endeavors. This is no longer a futuristic fantasy; it's the reality of AI agents. These sophisticated software programs are rapidly transforming industries and revolutionizing how we live and work. From automating repetitive tasks to enhancing customer experiences, AI agents are poised to reshape our future. \\n\\n**Automation: Unleashing Efficiency and Productivity:**\\n\\nThe core driver behind AI agent's momentum lies in their ability to automate tasks previously considered tedious or time-consuming for humans.  By analyzing vast amounts of data and executing complex processes with precision, AI agents can handle repetitive tasks like customer service inquiries, data entry, and bookkeeping, freeing up human resources for more strategic and creative work. For example, companies like Amazon are using AI agents to automate inventory management, optimizing supply chains and reducing errors. This automation not only boosts productivity but also significantly reduces costs, making businesses more efficient and profitable.\\n\\n**Enhanced Customer Experience: The Human Touch in a Digital World:**\\n\\nAI agents are revolutionizing customer service by providing personalized and instant support.  Chatbots powered by AI technology can handle multiple conversations simultaneously, offering 24/7 support to customers. This not only improves customer satisfaction but also fosters loyalty, leading to increased business success. Imagine a world where you receive tailored product recommendations or address your queries instantly through an intelligent chatbot – this is the future of customer service driven by AI agents.\\n\\n**Business Efficiency and Decision-Making: The Power of Data:**\\n\\nAI agents are not just about automation; they're also powerful tools for data analysis and decision-making.  By analyzing vast amounts of data, AI agents can identify trends, predict outcomes, and provide valuable insights that inform business decisions. Companies like Google utilize AI agents to optimize their search algorithms, leading to more relevant results for users. This ability to leverage data for informed decision-making is a key driver behind the growing adoption of AI agents in various industries.\\n\\n**Advancements in Technology: Fueling Innovation:**\\n\\nThe rapid advancements in AI technology are fueling the growth of AI agents.  Natural language processing (NLP) and machine learning, two crucial technologies driving this progress, enable AI agents to understand human language and learn from data, leading to more sophisticated and effective solutions. This continuous innovation is pushing the boundaries of what's possible with AI agents, opening up new possibilities for businesses and individuals alike.\\n\\n**Conclusion:** \\n\\nAI agents are gaining momentum due to their ability to automate tasks, enhance customer experience, and drive business efficiency.  They offer a powerful combination of automation, personalized support, and data-driven insights that are transforming industries and revolutionizing the way we work and live. As AI technology continues to advance, we can expect even more innovative applications of AI agents in the years to come. \\n\\n\\n**Note:** This essay provides a comprehensive overview of why AI agents are gaining momentum. It highlights key benefits, uses examples to illustrate points, and acknowledges potential drawbacks.  Remember to adapt this framework to your specific needs and incorporate your own research and insights for a more personalized and impactful essay. \\n\", 'critique': '**Grade: B+**\\n\\n**Strengths:**\\n\\n1. Clear and concise thesis statement that sets the tone for the essay.\\n2. Well-structured and organized into distinct sections that flow logically.\\n3. Effective use of specific examples and case studies to illustrate points made.\\n4. Addresses potential drawbacks and counterarguments, showing awareness of the complexity of the topic.\\n\\n**Weaknesses and Recommendations:**\\n\\n1. **Length:** The essay is a bit short, with some sections feeling a bit rushed. Consider expanding each section by 1-2 paragraphs to provide more depth and analysis. Aim for a total word count of 750-850 words.\\n2. **Depth:** While the essay provides a good overview of the topic, it could benefit from more in-depth analysis and critical thinking. For example, in the \"Automation\" section, you could explore the potential consequences of job displacement or the impact on certain industries. In the \"Business Efficiency\" section, you could delve deeper into the specific ways AI agents can optimize operations and supply chain management.\\n3. **Style:** The writing is clear and concise, but could benefit from more varied sentence structures and vocabulary. Consider using more transitional phrases to connect ideas between sentences and paragraphs. Additionally, try to avoid repetitive phrases like \"AI agents are\" and instead use more descriptive language to add depth and nuance to your writing.\\n4. **Supporting Evidence:** While you provide some statistics and examples, consider incorporating more academic sources or research studies to add credibility and depth to your arguments. This will also help to strengthen your claims and make your essay more persuasive.\\n5. **Counterarguments:** While you acknowledge potential drawbacks, consider devoting a separate section to addressing counterarguments and potential criticisms of AI agents. This will show that you\\'ve thoughtfully considered multiple perspectives and can strengthen your overall argument.\\n6. **Conclusion:** The conclusion feels a bit abrupt and doesn\\'t fully summarize the main points made in the essay. Consider rewriting the conclusion to provide a more comprehensive summary and reiterate the significance of AI agents in the modern world.\\n\\n**Specific Recommendations:**\\n\\n* In the \"Automation\" section, consider exploring the concept of \"augmentation\" vs. \"replacement\" of human workers by AI agents.\\n* In the \"Enhanced Customer Experience\" section, provide more specific examples of companies that have successfully implemented AI-powered chatbots and the resulting benefits.\\n* In the \"Business Efficiency\" section, delve deeper into the specific ways AI agents can optimize inventory control and supply chain management.\\n* In the \"Advancements in Technology\" section, consider exploring the potential applications of AI agents in industries beyond customer service and finance, such as healthcare or education.\\n\\n**Overall:** This is a solid essay that provides a good overview of the topic. With some revisions to address the weaknesses mentioned above, it has the potential to be an even stronger and more persuasive argument.', 'content': ['no content', 'One of the key drivers behind the rise of AI agents is the relentless pursuit of more advanced LLMs. As companies like OpenAI and Anthropic continue to develop cutting-edge models like GPT-5 and ...', 'AI agents learn and enhance their performance through feedback, utilizing advanced algorithms and sensory inputs to execute tasks and engage with their environments. According to Lilian Weng, the head of safety systems at OpenAI and their former head of applied AI research, an AI agent features three key characteristics: Planning: an AI agent ...', 'The potential applications of AI agents are vast and span across various industries. Two notable areas where agents can make a significant impact are business operations and customer service.', '— Explore various applications of AI agents across different industries. Identify opportunities where AI agents can provide significant value and drive innovation.', \"3 benefits of using AI agents. Integrating AI into your operations can transform how you work. Here's how the best AI agents make an impact: Boosted productivity; AI agents automate the mundane and time-consuming tasks that drain your resources.\", '5 Benefits You Can Expect from Using AI in Business. 1. Increases in Efficiency and Productivity. AI is well-known for its ability to enhance efficiency and productivity in the workplace by: Automating repetitive tasks. Streamlining workflows. Providing data-driven insights.', \"The essay addresses the writer's personal strengths and weaknesses in a structured manner. The strengths, including self-confidence, honesty, and determination, are well-explained and supported with examples. The weaknesses, namely procrastination and quietness in class, are also discussed with some context.\", 'A Narrative of My Strengths and Weaknesses. No person on Earth is perfect, and acknowledging this fact is an essential part of personal growth. One way to understand our imperfections better is by writing a strengths and weaknesses essay, where we identify our unique areas of proficiency and those we need to work on.', \"As a student, essay writing is an integral part of your education. So, how can you improve your essay writing skills? We've got five top tips that may help: Analyse the essay question so you understand the assignment. Write an outline to organize your ideas and prepare your essay. Do research to find evidence and sources to support your ideas.\", 'Take the following thesis statement:\\nDespite the similarities between the documentaries Blackfish and The Cove, the use of excessive anthropomorphism in Blackfish allowed it to achieve more tangible success for animal rights movements, illustrating the need for animal rights documentaries to appeal to human emotion.\\n Despite the similarities between the documentaries Blackfish and The Cove, the use of excessive anthropomorphism in Blackfish allowed it to achieve more tangible success for animal rights movements, illustrating the need for animal rights documentaries to appeal to human emotion.\\n In the paper, we have to (1) explain and support the similarities between the two documentaries, (2) provide support for excessive anthropomorphism in Blackfish, (3) show that Blackfish achieved more tangible success than The Cove, and (4) demonstrate the importance of human emotion in animal documentaries.\\n Your reader will only encounter your ideas in the order that you give it to them, so it is important to take this step back to make sure that order is the right one.\\n These claims can often be used to create a ready outline for the rest of your paper, and help you check that you are including all the evidence you should have.\\n', 'The potential applications of AI agents are vast and span across various industries. Two notable areas where agents can make a significant impact are business operations and customer service.', 'Check out our comprehensive guide to learn what AI agents are, the various types of agents in AI, popular examples, and how they benefit businesses.'], 'revision_number': 3, 'max_revisions': 2}\n"
     ]
    }
   ],
   "source": [
    "thread = {\"configurable\": {\"thread_id\": \"1\"}}\n",
    "\n",
    "result = graph.invoke({\n",
    "    #'task': \"what is the difference between langchain and langsmith\",\n",
    "    'task': \"why AI Agents are gaining so much momentum?\",\n",
    "    \n",
    "    \"max_revisions\": 2,\n",
    "    \"revision_number\": 1,}, thread)\n",
    "\n",
    "print(result)"
   ]
  },
  {
   "cell_type": "code",
   "execution_count": 30,
   "id": "aa7da997",
   "metadata": {},
   "outputs": [
    {
     "data": {
      "text/plain": [
       "dict_keys(['task', 'plan', 'draft', 'critique', 'content', 'revision_number', 'max_revisions'])"
      ]
     },
     "execution_count": 30,
     "metadata": {},
     "output_type": "execute_result"
    }
   ],
   "source": [
    "result.keys()"
   ]
  },
  {
   "cell_type": "markdown",
   "id": "4d1664b5-75e0-46b7-9c2b-4ac9171f4597",
   "metadata": {},
   "source": [
    "## Essay Writer Interface"
   ]
  },
  {
   "cell_type": "markdown",
   "id": "b0902cd8",
   "metadata": {},
   "source": [
    "#run notebook 'Test6_gradio.ipynb'"
   ]
  }
 ],
 "metadata": {
  "kernelspec": {
   "display_name": "Python 3",
   "language": "python",
   "name": "python3"
  },
  "language_info": {
   "codemirror_mode": {
    "name": "ipython",
    "version": 3
   },
   "file_extension": ".py",
   "mimetype": "text/x-python",
   "name": "python",
   "nbconvert_exporter": "python",
   "pygments_lexer": "ipython3",
   "version": "3.11.10"
  }
 },
 "nbformat": 4,
 "nbformat_minor": 5
}
