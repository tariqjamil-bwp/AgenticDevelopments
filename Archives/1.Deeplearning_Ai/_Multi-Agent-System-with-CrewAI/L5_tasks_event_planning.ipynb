{
 "cells": [
  {
   "cell_type": "markdown",
   "metadata": {},
   "source": [
    "# L5: Automate Event Planning\n",
    "\n",
    "In this lesson, you will learn more about Tasks."
   ]
  },
  {
   "cell_type": "markdown",
   "metadata": {},
   "source": [
    "The libraries are already installed in the classroom. If you're running this notebook on your own machine, you can install the following:\n",
    "```Python\n",
    "!pip install crewai==0.28.8 crewai_tools==0.1.6 langchain_community==0.0.29\n",
    "```"
   ]
  },
  {
   "cell_type": "code",
   "execution_count": 1,
   "metadata": {
    "height": 64
   },
   "outputs": [],
   "source": [
    "# Warning control\n",
    "import warnings\n",
    "warnings.filterwarnings('ignore')"
   ]
  },
  {
   "cell_type": "markdown",
   "metadata": {},
   "source": [
    "- Import libraries, APIs and LLM"
   ]
  },
  {
   "cell_type": "code",
   "execution_count": 3,
   "metadata": {
    "height": 30
   },
   "outputs": [],
   "source": [
    "from crewai import Agent, Crew, Task\n",
    "import os"
   ]
  },
  {
   "cell_type": "markdown",
   "metadata": {},
   "source": [
    "**Note**: \n",
    "- The video uses `gpt-4-turbo`, but due to certain constraints, and in order to offer this course for free to everyone, the code you'll run here will use `gpt-3.5-turbo`.\n",
    "- You can use `gpt-4-turbo` when you run the notebook _locally_ (using `gpt-4-turbo` will not work on the platform)\n",
    "- Thank you for your understanding!"
   ]
  },
  {
   "cell_type": "code",
   "execution_count": 4,
   "metadata": {
    "height": 129
   },
   "outputs": [],
   "source": [
    "%%script true\n",
    "from utils import get_openai_api_key,get_serper_api_key\n",
    "\n",
    "openai_api_key = get_openai_api_key()\n",
    "os.environ[\"OPENAI_MODEL_NAME\"] = 'gpt-3.5-turbo'\n",
    "os.environ[\"SERPER_API_KEY\"] = get_serper_api_key()"
   ]
  },
  {
   "cell_type": "code",
   "execution_count": 5,
   "metadata": {},
   "outputs": [],
   "source": [
    "from aisModels_crewai import GroqLLM\n",
    "llm= GroqLLM()"
   ]
  },
  {
   "cell_type": "markdown",
   "metadata": {},
   "source": [
    "## crewAI Tools"
   ]
  },
  {
   "cell_type": "code",
   "execution_count": 6,
   "metadata": {
    "height": 112
   },
   "outputs": [],
   "source": [
    "from crewai_tools import ScrapeWebsiteTool, SerperDevTool\n",
    "\n",
    "# Initialize the tools\n",
    "search_tool = SerperDevTool()\n",
    "scrape_tool = ScrapeWebsiteTool()"
   ]
  },
  {
   "cell_type": "markdown",
   "metadata": {},
   "source": [
    "## Creating Agents"
   ]
  },
  {
   "cell_type": "code",
   "execution_count": 7,
   "metadata": {
    "height": 282
   },
   "outputs": [],
   "source": [
    "# Agent 1: Venue Coordinator\n",
    "venue_coordinator = Agent(\n",
    "    role=\"Venue Coordinator\",\n",
    "    goal=\"Identify and book an appropriate venue \"\n",
    "    \"based on event requirements\",\n",
    "    tools=[search_tool, scrape_tool],\n",
    "    verbose=True,\n",
    "    backstory=(\n",
    "        \"With a keen sense of space and \"\n",
    "        \"understanding of event logistics, \"\n",
    "        \"you excel at finding and securing \"\n",
    "        \"the perfect venue that fits the event's theme, \"\n",
    "        \"size, and budget constraints.\"\n",
    "    ),\n",
    "    llm=llm\n",
    ")"
   ]
  },
  {
   "cell_type": "code",
   "execution_count": 8,
   "metadata": {
    "height": 299
   },
   "outputs": [],
   "source": [
    " # Agent 2: Logistics Manager\n",
    "logistics_manager = Agent(\n",
    "    role='Logistics Manager',\n",
    "    goal=(\n",
    "        \"Manage all logistics for the event \"\n",
    "        \"including catering and equipmen\"\n",
    "    ),\n",
    "    tools=[search_tool, scrape_tool],\n",
    "    verbose=True,\n",
    "    backstory=(\n",
    "        \"Organized and detail-oriented, \"\n",
    "        \"you ensure that every logistical aspect of the event \"\n",
    "        \"from catering to equipment setup \"\n",
    "        \"is flawlessly executed to create a seamless experience.\"\n",
    "    ),\n",
    "    llm=llm\n",
    ")"
   ]
  },
  {
   "cell_type": "code",
   "execution_count": 9,
   "metadata": {
    "height": 265
   },
   "outputs": [],
   "source": [
    "# Agent 3: Marketing and Communications Agent\n",
    "marketing_communications_agent = Agent(\n",
    "    role=\"Marketing and Communications Agent\",\n",
    "    goal=\"Effectively market the event and \"\n",
    "         \"communicate with participants\",\n",
    "    tools=[search_tool, scrape_tool],\n",
    "    verbose=True,\n",
    "    backstory=(\n",
    "        \"Creative and communicative, \"\n",
    "        \"you craft compelling messages and \"\n",
    "        \"engage with potential attendees \"\n",
    "        \"to maximize event exposure and participation.\"\n",
    "    ),\n",
    "    llm=llm\n",
    ")"
   ]
  },
  {
   "cell_type": "markdown",
   "metadata": {},
   "source": [
    "## Creating Venue Pydantic Object\n",
    "\n",
    "- Create a class `VenueDetails` using [Pydantic BaseModel](https://docs.pydantic.dev/latest/api/base_model/).\n",
    "- Agents will populate this object with information about different venues by creating different instances of it."
   ]
  },
  {
   "cell_type": "code",
   "execution_count": 10,
   "metadata": {
    "height": 148
   },
   "outputs": [],
   "source": [
    "from pydantic import BaseModel\n",
    "# Define a Pydantic model for venue details \n",
    "# (demonstrating Output as Pydantic)\n",
    "class VenueDetails(BaseModel):\n",
    "    name: str\n",
    "    address: str\n",
    "    capacity: int\n",
    "    booking_status: str"
   ]
  },
  {
   "cell_type": "markdown",
   "metadata": {},
   "source": [
    "## Creating Tasks\n",
    "- By using `output_json`, you can specify the structure of the output you want.\n",
    "- By using `output_file`, you can get your output in a file.\n",
    "- By setting `human_input=True`, the task will ask for human feedback (whether you like the results or not) before finalising it."
   ]
  },
  {
   "cell_type": "code",
   "execution_count": 11,
   "metadata": {
    "height": 214
   },
   "outputs": [],
   "source": [
    "venue_task = Task(\n",
    "    description=\"Find a venue in {event_city} \"\n",
    "                \"that meets criteria for {event_topic}.\",\n",
    "    expected_output=\"All the details of a specifically chosen\"\n",
    "                    \"venue you found to accommodate the event.\",\n",
    "    human_input=True,\n",
    "    output_json=VenueDetails,\n",
    "    output_file=\"venue_details.json\",  \n",
    "      # Outputs the venue details as a JSON file\n",
    "    agent=venue_coordinator\n",
    ")"
   ]
  },
  {
   "cell_type": "markdown",
   "metadata": {},
   "source": [
    "- By setting `async_execution=True`, it means the task can run in parallel with the tasks which come after it."
   ]
  },
  {
   "cell_type": "code",
   "execution_count": 12,
   "metadata": {
    "height": 214
   },
   "outputs": [],
   "source": [
    "logistics_task = Task(\n",
    "    description=\"Coordinate catering and \"\n",
    "                 \"equipment for an event \"\n",
    "                 \"with {expected_participants} participants \"\n",
    "                 \"on {tentative_date}.\",\n",
    "    expected_output=\"Confirmation of all logistics arrangements \"\n",
    "                    \"including catering and equipment setup.\",\n",
    "    human_input=True,\n",
    "    async_execution=True,\n",
    "    agent=logistics_manager\n",
    ")"
   ]
  },
  {
   "cell_type": "code",
   "execution_count": 13,
   "metadata": {
    "height": 197
   },
   "outputs": [],
   "source": [
    "marketing_task = Task(\n",
    "    description=\"Promote the {event_topic} \"\n",
    "                \"aiming to engage at least\"\n",
    "                \"{expected_participants} potential attendees.\",\n",
    "    expected_output=\"Report on marketing activities \"\n",
    "                    \"and attendee engagement formatted as markdown.\",\n",
    "    async_execution=True,\n",
    "    output_file=\"marketing_report.md\",  # Outputs the report as a text file\n",
    "    agent=marketing_communications_agent\n",
    ")"
   ]
  },
  {
   "cell_type": "markdown",
   "metadata": {},
   "source": [
    "## Creating the Crew"
   ]
  },
  {
   "cell_type": "markdown",
   "metadata": {},
   "source": [
    "**Note**: Since you set `async_execution=True` for `logistics_task` and `marketing_task` tasks, now the order for them does not matter in the `tasks` list."
   ]
  },
  {
   "cell_type": "code",
   "execution_count": 14,
   "metadata": {
    "height": 216
   },
   "outputs": [
    {
     "ename": "ValidationError",
     "evalue": "1 validation error for Crew\n  The crew must end with at most one asynchronous task. [type=async_task_count, input_value={'agents': [Agent(role=Ve...own.)], 'verbose': True}, input_type=dict]",
     "output_type": "error",
     "traceback": [
      "\u001b[0;31m---------------------------------------------------------------------------\u001b[0m",
      "\u001b[0;31mValidationError\u001b[0m                           Traceback (most recent call last)",
      "Cell \u001b[0;32mIn[14], line 2\u001b[0m\n\u001b[1;32m      1\u001b[0m \u001b[38;5;66;03m# Define the crew with agents and tasks\u001b[39;00m\n\u001b[0;32m----> 2\u001b[0m event_management_crew \u001b[38;5;241m=\u001b[39m \u001b[43mCrew\u001b[49m\u001b[43m(\u001b[49m\n\u001b[1;32m      3\u001b[0m \u001b[43m    \u001b[49m\u001b[43magents\u001b[49m\u001b[38;5;241;43m=\u001b[39;49m\u001b[43m[\u001b[49m\u001b[43mvenue_coordinator\u001b[49m\u001b[43m,\u001b[49m\u001b[43m \u001b[49m\n\u001b[1;32m      4\u001b[0m \u001b[43m            \u001b[49m\u001b[43mlogistics_manager\u001b[49m\u001b[43m,\u001b[49m\u001b[43m \u001b[49m\n\u001b[1;32m      5\u001b[0m \u001b[43m            \u001b[49m\u001b[43mmarketing_communications_agent\u001b[49m\u001b[43m]\u001b[49m\u001b[43m,\u001b[49m\n\u001b[1;32m      6\u001b[0m \u001b[43m    \u001b[49m\n\u001b[1;32m      7\u001b[0m \u001b[43m    \u001b[49m\u001b[43mtasks\u001b[49m\u001b[38;5;241;43m=\u001b[39;49m\u001b[43m[\u001b[49m\u001b[43mvenue_task\u001b[49m\u001b[43m,\u001b[49m\u001b[43m \u001b[49m\n\u001b[1;32m      8\u001b[0m \u001b[43m           \u001b[49m\u001b[43mlogistics_task\u001b[49m\u001b[43m,\u001b[49m\u001b[43m \u001b[49m\n\u001b[1;32m      9\u001b[0m \u001b[43m           \u001b[49m\u001b[43mmarketing_task\u001b[49m\u001b[43m]\u001b[49m\u001b[43m,\u001b[49m\n\u001b[1;32m     10\u001b[0m \u001b[43m    \u001b[49m\n\u001b[1;32m     11\u001b[0m \u001b[43m    \u001b[49m\u001b[43mverbose\u001b[49m\u001b[38;5;241;43m=\u001b[39;49m\u001b[38;5;28;43;01mTrue\u001b[39;49;00m\n\u001b[1;32m     12\u001b[0m \u001b[43m)\u001b[49m\n",
      "File \u001b[0;32m~/anaconda3/envs/llm/lib/python3.10/site-packages/pydantic/main.py:193\u001b[0m, in \u001b[0;36mBaseModel.__init__\u001b[0;34m(self, **data)\u001b[0m\n\u001b[1;32m    191\u001b[0m \u001b[38;5;66;03m# `__tracebackhide__` tells pytest and some other tools to omit this function from tracebacks\u001b[39;00m\n\u001b[1;32m    192\u001b[0m __tracebackhide__ \u001b[38;5;241m=\u001b[39m \u001b[38;5;28;01mTrue\u001b[39;00m\n\u001b[0;32m--> 193\u001b[0m \u001b[38;5;28;43mself\u001b[39;49m\u001b[38;5;241;43m.\u001b[39;49m\u001b[43m__pydantic_validator__\u001b[49m\u001b[38;5;241;43m.\u001b[39;49m\u001b[43mvalidate_python\u001b[49m\u001b[43m(\u001b[49m\u001b[43mdata\u001b[49m\u001b[43m,\u001b[49m\u001b[43m \u001b[49m\u001b[43mself_instance\u001b[49m\u001b[38;5;241;43m=\u001b[39;49m\u001b[38;5;28;43mself\u001b[39;49m\u001b[43m)\u001b[49m\n",
      "\u001b[0;31mValidationError\u001b[0m: 1 validation error for Crew\n  The crew must end with at most one asynchronous task. [type=async_task_count, input_value={'agents': [Agent(role=Ve...own.)], 'verbose': True}, input_type=dict]"
     ]
    }
   ],
   "source": [
    "# Define the crew with agents and tasks\n",
    "event_management_crew = Crew(\n",
    "    agents=[venue_coordinator, \n",
    "            logistics_manager, \n",
    "            marketing_communications_agent],\n",
    "    \n",
    "    tasks=[venue_task, \n",
    "           logistics_task, \n",
    "           marketing_task],\n",
    "    \n",
    "    verbose=True\n",
    ")"
   ]
  },
  {
   "cell_type": "markdown",
   "metadata": {},
   "source": [
    "## Running the Crew\n",
    "\n",
    "- Set the inputs for the execution of the crew."
   ]
  },
  {
   "cell_type": "code",
   "execution_count": 15,
   "metadata": {
    "height": 214
   },
   "outputs": [],
   "source": [
    "event_details = {\n",
    "    'event_topic': \"Tech Innovation Conference\",\n",
    "    'event_description': \"A gathering of tech innovators \"\n",
    "                         \"and industry leaders \"\n",
    "                         \"to explore future technologies.\",\n",
    "    'event_city': \"San Francisco\",\n",
    "    'tentative_date': \"2024-09-15\",\n",
    "    'expected_participants': 500,\n",
    "    'budget': 20000,\n",
    "    'venue_type': \"Conference Hall\"\n",
    "}"
   ]
  },
  {
   "cell_type": "markdown",
   "metadata": {},
   "source": [
    "**Note 1**: LLMs can provide different outputs for they same input, so what you get might be different than what you see in the video."
   ]
  },
  {
   "cell_type": "markdown",
   "metadata": {},
   "source": [
    "**Note 2**: \n",
    "- Since you set `human_input=True` for some tasks, the execution will ask for your input before it finishes running.\n",
    "- When it asks for feedback, use your mouse pointer to first click in the text box before typing anything."
   ]
  },
  {
   "cell_type": "code",
   "execution_count": null,
   "metadata": {
    "height": 44
   },
   "outputs": [],
   "source": [
    "result = event_management_crew.kickoff(inputs=event_details)"
   ]
  },
  {
   "cell_type": "markdown",
   "metadata": {},
   "source": [
    "- Display the generated `venue_details.json` file."
   ]
  },
  {
   "cell_type": "code",
   "execution_count": null,
   "metadata": {
    "height": 131
   },
   "outputs": [],
   "source": [
    "import json\n",
    "from pprint import pprint\n",
    "\n",
    "with open('venue_details.json') as f:\n",
    "   data = json.load(f)\n",
    "\n",
    "pprint(data)"
   ]
  },
  {
   "cell_type": "markdown",
   "metadata": {},
   "source": [
    "- Display the generated `marketing_report.md` file.\n",
    "\n",
    "**Note**: After `kickoff` execution has successfully ran, wait an extra 45 seconds for the `marketing_report.md` file to be generated. If you try to run the code below before the file has been generated, your output would look like:\n",
    "\n",
    "```\n",
    "marketing_report.md\n",
    "```\n",
    "\n",
    "If you see this output, wait some more and than try again."
   ]
  },
  {
   "cell_type": "code",
   "execution_count": null,
   "metadata": {
    "height": 46
   },
   "outputs": [],
   "source": [
    "from IPython.display import Markdown\n",
    "Markdown(\"marketing_report.md\")"
   ]
  },
  {
   "cell_type": "code",
   "execution_count": null,
   "metadata": {
    "height": 29
   },
   "outputs": [],
   "source": []
  },
  {
   "cell_type": "code",
   "execution_count": null,
   "metadata": {
    "height": 29
   },
   "outputs": [],
   "source": []
  }
 ],
 "metadata": {
  "kernelspec": {
   "display_name": "Python 3 (ipykernel)",
   "language": "python",
   "name": "python3"
  },
  "language_info": {
   "codemirror_mode": {
    "name": "ipython",
    "version": 3
   },
   "file_extension": ".py",
   "mimetype": "text/x-python",
   "name": "python",
   "nbconvert_exporter": "python",
   "pygments_lexer": "ipython3",
   "version": "3.10.0"
  }
 },
 "nbformat": 4,
 "nbformat_minor": 4
}
