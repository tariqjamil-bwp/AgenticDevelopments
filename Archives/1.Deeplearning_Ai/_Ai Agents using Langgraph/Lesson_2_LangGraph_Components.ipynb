{
 "cells": [
  {
   "cell_type": "markdown",
   "id": "21fa2e13-567d-4509-9023-c99fb230f31f",
   "metadata": {},
   "source": [
    "# Lesson 2 : LangGraph Components"
   ]
  },
  {
   "cell_type": "code",
   "execution_count": 4,
   "id": "9480671c",
   "metadata": {},
   "outputs": [
    {
     "name": "stdout",
     "output_type": "stream",
     "text": [
      "\u001b[H\u001b[2JWorking directory: </home/tjamil/Desktop/Agents/Deeplearning_Ai/Ai Agents using Langgraph>\n"
     ]
    }
   ],
   "source": [
    "import os\n",
    "os.system(\"clear\")\n",
    "abs_path = os.path.dirname(os.path.abspath(__name__))\n",
    "os.chdir(abs_path)\n",
    "print(f\"Working directory: <{os.getcwd()}>\")"
   ]
  },
  {
   "cell_type": "code",
   "execution_count": 5,
   "id": "f5762271-8736-4e94-9444-8c92bd0e8074",
   "metadata": {
    "height": 46
   },
   "outputs": [],
   "source": [
    "#from dotenv import load_dotenv\n",
    "#_ = load_dotenv()"
   ]
  },
  {
   "cell_type": "code",
   "execution_count": 6,
   "id": "85328c4a",
   "metadata": {},
   "outputs": [
    {
     "name": "stdout",
     "output_type": "stream",
     "text": [
      "reading environment variables from: </home/tjamil/Desktop/Agents/Deeplearning_Ai/Ai Agents using Langgraph>\n",
      "API Keys loaded and tracing set with project name:  LangGraph Basics - deeplearning.ai\n"
     ]
    }
   ],
   "source": [
    "from setup_environment_r1 import set_environment_variables\n",
    "set_environment_variables(\"LangGraph Basics - deeplearning.ai\")"
   ]
  },
  {
   "cell_type": "code",
   "execution_count": 12,
   "id": "d0168aee-bce9-4d60-b827-f86a88187e31",
   "metadata": {
    "height": 129
   },
   "outputs": [],
   "source": [
    "from langgraph.graph import StateGraph, END\n",
    "\n",
    "from typing import TypedDict, Annotated\n",
    "\n",
    "import operator\n",
    "\n",
    "from langchain_core.messages import AnyMessage, SystemMessage, HumanMessage, ToolMessage\n",
    "#from langchain_openai import ChatOpenAI\n",
    "from utils import GroqChatLLM\n",
    "\n",
    "from langchain_community.tools.tavily_search import TavilySearchResults"
   ]
  },
  {
   "cell_type": "code",
   "execution_count": 10,
   "id": "2589c5b6-6cc2-4594-9a17-dccdcf676054",
   "metadata": {
    "height": 78
   },
   "outputs": [
    {
     "name": "stdout",
     "output_type": "stream",
     "text": [
      "<class 'langchain_community.tools.tavily_search.tool.TavilySearchResults'>\n",
      "tavily_search_results_json\n"
     ]
    }
   ],
   "source": [
    "tool = TavilySearchResults(max_results=4) #increased number of results\n",
    "print(type(tool))\n",
    "print(tool.name)   # this is the name of the tool taht will be used by LLM"
   ]
  },
  {
   "cell_type": "markdown",
   "id": "e196c186-af55-4f2d-b569-b7d63a859304",
   "metadata": {},
   "source": [
    "> If you are not familiar with python typing annotation, you can refer to the [python documents](https://docs.python.org/3/library/typing.html)."
   ]
  },
  {
   "cell_type": "code",
   "execution_count": 11,
   "id": "a2ba84ec-c172-4de7-ac55-e3158a531b23",
   "metadata": {
    "height": 47
   },
   "outputs": [],
   "source": [
    "class AgentState(TypedDict):\n",
    "    messages: Annotated[list[AnyMessage], operator.add]"
   ]
  },
  {
   "cell_type": "markdown",
   "id": "74c7ba73-e603-453b-b06f-5db92c567b19",
   "metadata": {},
   "source": [
    "> Note: in `take_action` below, some logic was added to cover the case that the LLM returned a non-existent tool name. Even with function calling, LLMs can still occasionally hallucinate. Note that all that is done is instructing the LLM to try again! An advantage of an agentic organization."
   ]
  },
  {
   "cell_type": "code",
   "execution_count": 13,
   "id": "876d5092-b8ef-4e38-b4d7-0e80c609bf7a",
   "metadata": {
    "height": 741
   },
   "outputs": [],
   "source": [
    "class Agent:\n",
    "\n",
    "    def __init__(self, model, tools, system=\"\"):\n",
    "        #setting up the system message\n",
    "        self.system = system\n",
    "        \n",
    "        #defining the graph\n",
    "        graph = StateGraph(AgentState)\n",
    "        \n",
    "        #adding nodes (llm, action/tools)\n",
    "        graph.add_node(\"llm\", self.call_openai)\n",
    "        graph.add_node(\"action\", self.take_action)\n",
    "        \n",
    "        #adding conditional edges (decide if action should be taken or not, and which node to go to)\n",
    "        graph.add_conditional_edges(\n",
    "            \"llm\",\n",
    "            self.exists_action,\n",
    "            {True: \"action\", False: END}\n",
    "        )\n",
    "        \n",
    "        #adding edges\n",
    "        graph.add_edge(\"action\", \"llm\")\n",
    "        \n",
    "        #setting entry point\n",
    "        graph.set_entry_point(\"llm\")\n",
    "        \n",
    "        #compiling the graph (creates a runnable graph)\n",
    "        self.graph = graph.compile()\n",
    "        \n",
    "        #defining the tools\n",
    "        self.tools = {t.name: t for t in tools}\n",
    "        \n",
    "        #defining the model with tools binding\n",
    "        self.model = model.bind_tools(tools)\n",
    "\n",
    "    #defining the function for conditional edge \n",
    "    def exists_action(self, state: AgentState):\n",
    "        result = state['messages'][-1]\n",
    "        return len(result.tool_calls) > 0\n",
    "\n",
    "    #defining 'llm node' function\n",
    "    def call_openai(self, state: AgentState):\n",
    "        messages = state['messages']\n",
    "        if self.system:\n",
    "            messages = [SystemMessage(content=self.system)] + messages\n",
    "        message = self.model.invoke(messages)\n",
    "        return {'messages': [message]}\n",
    "\n",
    "    #defining 'action node' function\n",
    "    def take_action(self, state: AgentState):\n",
    "        tool_calls = state['messages'][-1].tool_calls    \n",
    "        # .too_call is attribute returned aalongside message by functiona calling llms\n",
    "        \n",
    "        results = []\n",
    "        for t in tool_calls:\n",
    "            print(f\"Calling: {t}\")\n",
    "            if not t['name'] in self.tools:      # check for bad tool name from LLM\n",
    "                print(\"\\n ....bad tool name....\")\n",
    "                result = \"bad tool name, retry\"  # instruct LLM to retry if bad\n",
    "            else:\n",
    "                result = self.tools[t['name']].invoke(t['args'])\n",
    "                print(f\"Result: {result}\")\n",
    "\n",
    "            results.append(ToolMessage(tool_call_id=t['id'], name=t['name'], content=str(result)))\n",
    "        \n",
    "        print(\"Back to the model!\")\n",
    "        return {'messages': results}"
   ]
  },
  {
   "cell_type": "code",
   "execution_count": 14,
   "id": "10084a02-2928-4945-9f7c-ad3f5b33caf7",
   "metadata": {
    "height": 163
   },
   "outputs": [],
   "source": [
    "prompt = \"\"\"You are a smart research assistant. Use the search engine to look up information. \\\n",
    "You are allowed to make multiple calls (either together or in sequence). \\\n",
    "Only look up information when you are sure of what you want. \\\n",
    "If you need to look up some information before asking a follow up question, you are allowed to do that!\n",
    "\"\"\"\n",
    "\n",
    "#model = ChatOpenAI(model=\"gpt-3.5-turbo\")  #reduce inference cost\n",
    "model = GroqChatLLM()\n",
    "abot = Agent(model, [tool], system=prompt)"
   ]
  },
  {
   "cell_type": "code",
   "execution_count": 1,
   "id": "a3d6f5f4-2392-41b9-ab96-7919840baa3e",
   "metadata": {
    "height": 64
   },
   "outputs": [],
   "source": [
    "from IPython.display import Image\n",
    "\n",
    "#Image(abot.graph.get_graph().draw_png())"
   ]
  },
  {
   "cell_type": "code",
   "execution_count": 17,
   "id": "83588e70-254f-4f83-a510-c8ae81e729b0",
   "metadata": {
    "height": 61
   },
   "outputs": [
    {
     "name": "stdout",
     "output_type": "stream",
     "text": [
      "Calling: {'name': 'tavily_search_results_json', 'args': {'query': 'weather in San Francisco'}, 'id': 'call_mw4e', 'type': 'tool_call'}\n",
      "Result: [{'url': 'https://www.weatherapi.com/', 'content': \"{'location': {'name': 'San Francisco', 'region': 'California', 'country': 'United States of America', 'lat': 37.78, 'lon': -122.42, 'tz_id': 'America/Los_Angeles', 'localtime_epoch': 1726467744, 'localtime': '2024-09-15 23:22'}, 'current': {'last_updated_epoch': 1726467300, 'last_updated': '2024-09-15 23:15', 'temp_c': 13.9, 'temp_f': 57.0, 'is_day': 0, 'condition': {'text': 'Partly cloudy', 'icon': '//cdn.weatherapi.com/weather/64x64/night/116.png', 'code': 1003}, 'wind_mph': 18.8, 'wind_kph': 30.2, 'wind_degree': 270, 'wind_dir': 'W', 'pressure_mb': 1010.0, 'pressure_in': 29.82, 'precip_mm': 0.0, 'precip_in': 0.0, 'humidity': 83, 'cloud': 75, 'feelslike_c': 11.7, 'feelslike_f': 53.0, 'windchill_c': 10.6, 'windchill_f': 51.1, 'heatindex_c': 12.7, 'heatindex_f': 54.8, 'dewpoint_c': 12.3, 'dewpoint_f': 54.2, 'vis_km': 16.0, 'vis_miles': 9.0, 'uv': 1.0, 'gust_mph': 27.2, 'gust_kph': 43.7}}\"}, {'url': 'https://www.theweather.com/san-francisco-c11610.htm?d=historical', 'content': 'Access historical weather records for San Francisco, CA and thousands of locations across the world Featuring detailed daily, monthly and annual weather summaries. ... Latest data Update 09/08/2024 16:56:00 (UTC) Current Temperature : 15 °F : Dew Point : 13 °F : Feels Like --°F: Wind Direction : N (360°) Relative Humidity : 87.8 % Wind ...'}, {'url': 'https://www.timeanddate.com/weather/@z-us-94134/ext', 'content': 'Forecasted weather conditions the coming 2 weeks for San Francisco. Sign in. News. News Home; Astronomy News; Time Zone News ... 16 pm: Mon Sep 16: 68 / 59 °F ... 6:54 am: 7:11 pm: Thu Sep 19: 70 / 58 °F: Sunny. 76 °F: 8 mph: ↑: 58%: 3%-3 (Moderate) 6:55 am: 7:10 pm * Updated Thursday, September 5, 2024 2:23:50 am San Francisco time ...'}, {'url': 'https://www.wunderground.com/weather/us/ca/san-francisco', 'content': 'San Francisco Weather Forecasts. Weather Underground provides local & long-range weather forecasts, weatherreports, maps & tropical weather conditions for the San Francisco area. ... 2024 (GMT -7 ...'}]\n",
      "Back to the model!\n"
     ]
    }
   ],
   "source": [
    "messages = [HumanMessage(content=\"What is the weather in sf?. Give just suffiucient information.\")]\n",
    "result = abot.graph.invoke({\"messages\": messages})"
   ]
  },
  {
   "cell_type": "code",
   "execution_count": 18,
   "id": "89a06a8c-fcd4-4ca6-98f0-36c5809813e6",
   "metadata": {
    "height": 30,
    "scrolled": true
   },
   "outputs": [
    {
     "data": {
      "text/plain": [
       "{'messages': [HumanMessage(content='What is the weather in sf?. Give just suffiucient information.'),\n",
       "  AIMessage(content='', additional_kwargs={'tool_calls': [{'id': 'call_mw4e', 'function': {'arguments': '{\"query\": \"weather in San Francisco\"}', 'name': 'tavily_search_results_json'}, 'type': 'function'}]}, response_metadata={'token_usage': {'completion_tokens': 33, 'prompt_tokens': 301, 'total_tokens': 334, 'completion_time': 0.102024874, 'prompt_time': 0.031200228, 'queue_time': 0.0018164409999999985, 'total_time': 0.133225102}, 'model_name': 'llama3-groq-70b-8192-tool-use-preview', 'system_fingerprint': 'fp_ee4b521143', 'finish_reason': 'tool_calls', 'logprobs': None}, id='run-cb2809d3-e88c-4e9e-af3d-fbcd77e8a354-0', tool_calls=[{'name': 'tavily_search_results_json', 'args': {'query': 'weather in San Francisco'}, 'id': 'call_mw4e', 'type': 'tool_call'}], usage_metadata={'input_tokens': 301, 'output_tokens': 33, 'total_tokens': 334}),\n",
       "  ToolMessage(content='[{\\'url\\': \\'https://www.weatherapi.com/\\', \\'content\\': \"{\\'location\\': {\\'name\\': \\'San Francisco\\', \\'region\\': \\'California\\', \\'country\\': \\'United States of America\\', \\'lat\\': 37.78, \\'lon\\': -122.42, \\'tz_id\\': \\'America/Los_Angeles\\', \\'localtime_epoch\\': 1726467744, \\'localtime\\': \\'2024-09-15 23:22\\'}, \\'current\\': {\\'last_updated_epoch\\': 1726467300, \\'last_updated\\': \\'2024-09-15 23:15\\', \\'temp_c\\': 13.9, \\'temp_f\\': 57.0, \\'is_day\\': 0, \\'condition\\': {\\'text\\': \\'Partly cloudy\\', \\'icon\\': \\'//cdn.weatherapi.com/weather/64x64/night/116.png\\', \\'code\\': 1003}, \\'wind_mph\\': 18.8, \\'wind_kph\\': 30.2, \\'wind_degree\\': 270, \\'wind_dir\\': \\'W\\', \\'pressure_mb\\': 1010.0, \\'pressure_in\\': 29.82, \\'precip_mm\\': 0.0, \\'precip_in\\': 0.0, \\'humidity\\': 83, \\'cloud\\': 75, \\'feelslike_c\\': 11.7, \\'feelslike_f\\': 53.0, \\'windchill_c\\': 10.6, \\'windchill_f\\': 51.1, \\'heatindex_c\\': 12.7, \\'heatindex_f\\': 54.8, \\'dewpoint_c\\': 12.3, \\'dewpoint_f\\': 54.2, \\'vis_km\\': 16.0, \\'vis_miles\\': 9.0, \\'uv\\': 1.0, \\'gust_mph\\': 27.2, \\'gust_kph\\': 43.7}}\"}, {\\'url\\': \\'https://www.theweather.com/san-francisco-c11610.htm?d=historical\\', \\'content\\': \\'Access historical weather records for San Francisco, CA and thousands of locations across the world Featuring detailed daily, monthly and annual weather summaries. ... Latest data Update 09/08/2024 16:56:00 (UTC) Current Temperature : 15 °F : Dew Point : 13 °F : Feels Like --°F: Wind Direction : N (360°) Relative Humidity : 87.8 % Wind ...\\'}, {\\'url\\': \\'https://www.timeanddate.com/weather/@z-us-94134/ext\\', \\'content\\': \\'Forecasted weather conditions the coming 2 weeks for San Francisco. Sign in. News. News Home; Astronomy News; Time Zone News ... 16 pm: Mon Sep 16: 68 / 59 °F ... 6:54 am: 7:11 pm: Thu Sep 19: 70 / 58 °F: Sunny. 76 °F: 8 mph: ↑: 58%: 3%-3 (Moderate) 6:55 am: 7:10 pm * Updated Thursday, September 5, 2024 2:23:50 am San Francisco time ...\\'}, {\\'url\\': \\'https://www.wunderground.com/weather/us/ca/san-francisco\\', \\'content\\': \\'San Francisco Weather Forecasts. Weather Underground provides local & long-range weather forecasts, weatherreports, maps & tropical weather conditions for the San Francisco area. ... 2024 (GMT -7 ...\\'}]', name='tavily_search_results_json', tool_call_id='call_mw4e'),\n",
       "  AIMessage(content='The current weather in San Francisco is partly cloudy with a temperature of 13.9°C (57.0°F). The wind is blowing from the west at 18.8 mph (30.2 kph). The humidity is at 83%, and the pressure is 1010.0 hPa.', response_metadata={'token_usage': {'completion_tokens': 63, 'prompt_tokens': 1109, 'total_tokens': 1172, 'completion_time': 0.198825761, 'prompt_time': 0.074770234, 'queue_time': 0.0012444159999999982, 'total_time': 0.273595995}, 'model_name': 'llama3-groq-70b-8192-tool-use-preview', 'system_fingerprint': 'fp_ee4b521143', 'finish_reason': 'stop', 'logprobs': None}, id='run-62595432-819f-413b-9792-ca56b9cb55cd-0', usage_metadata={'input_tokens': 1109, 'output_tokens': 63, 'total_tokens': 1172})]}"
      ]
     },
     "execution_count": 18,
     "metadata": {},
     "output_type": "execute_result"
    }
   ],
   "source": [
    "result"
   ]
  },
  {
   "cell_type": "code",
   "execution_count": 19,
   "id": "6cb3ef4c-58b3-401b-b104-0d51e553d982",
   "metadata": {
    "height": 30
   },
   "outputs": [
    {
     "data": {
      "text/plain": [
       "'The current weather in San Francisco is partly cloudy with a temperature of 13.9°C (57.0°F). The wind is blowing from the west at 18.8 mph (30.2 kph). The humidity is at 83%, and the pressure is 1010.0 hPa.'"
      ]
     },
     "execution_count": 19,
     "metadata": {},
     "output_type": "execute_result"
    }
   ],
   "source": [
    "result['messages'][-1].content"
   ]
  },
  {
   "cell_type": "code",
   "execution_count": 20,
   "id": "dc3293b7-a50c-43c8-a022-8975e1e444b8",
   "metadata": {
    "height": 61
   },
   "outputs": [
    {
     "name": "stdout",
     "output_type": "stream",
     "text": [
      "Calling: {'name': 'tavily_search_results_json', 'args': {'query': 'weather in SF'}, 'id': 'call_5mdg', 'type': 'tool_call'}\n",
      "Result: [{'url': 'https://www.weatherapi.com/', 'content': \"{'location': {'name': 'San Francisco', 'region': 'California', 'country': 'United States of America', 'lat': 37.78, 'lon': -122.42, 'tz_id': 'America/Los_Angeles', 'localtime_epoch': 1726467744, 'localtime': '2024-09-15 23:22'}, 'current': {'last_updated_epoch': 1726467300, 'last_updated': '2024-09-15 23:15', 'temp_c': 13.9, 'temp_f': 57.0, 'is_day': 0, 'condition': {'text': 'Partly cloudy', 'icon': '//cdn.weatherapi.com/weather/64x64/night/116.png', 'code': 1003}, 'wind_mph': 18.8, 'wind_kph': 30.2, 'wind_degree': 270, 'wind_dir': 'W', 'pressure_mb': 1010.0, 'pressure_in': 29.82, 'precip_mm': 0.0, 'precip_in': 0.0, 'humidity': 83, 'cloud': 75, 'feelslike_c': 11.7, 'feelslike_f': 53.0, 'windchill_c': 10.6, 'windchill_f': 51.1, 'heatindex_c': 12.7, 'heatindex_f': 54.8, 'dewpoint_c': 12.3, 'dewpoint_f': 54.2, 'vis_km': 16.0, 'vis_miles': 9.0, 'uv': 1.0, 'gust_mph': 27.2, 'gust_kph': 43.7}}\"}, {'url': 'https://weather.com/weather/monthly/l/69bedc6a5b6e977993fb3e5344e3c06d8bc36a1fb6754c3ddfb5310a3c6d6c87', 'content': 'Weather.com brings you the most accurate monthly weather forecast for San Francisco, ... 16 am 15. 63 ° 52 ° 16. 64 ° 50 ° ... September: 70 ° 56 ° 0: October: 70 ° 54 ...'}, {'url': 'https://www.weathertab.com/en/d/e/09/united-states/california/san-francisco/', 'content': 'Free Long Range Weather Forecast for San Francisco, California September 2024. Focused Daily Weather, Temperature, Sunrise, Sunset, and Moonphase Forecasts. Enter any city, zip or place. °F °C. Help > United States San ... September 2024 Sep 2024.'}, {'url': 'https://www.meteoprog.com/weather/Sanfrancisco/month/september/', 'content': 'San Francisco (United States) weather in September 2024 ☀️ Accurate weather forecast for San Francisco in September ⛅ Detailed forecast By month Current temperature \"near me\" Weather news ⊳ Widget of weather ⊳ Water temperature | METEOPROG'}]\n",
      "Calling: {'name': 'tavily_search_results_json', 'args': {'query': 'weather in LA'}, 'id': 'call_a2yw', 'type': 'tool_call'}\n",
      "Result: [{'url': 'https://www.weatherapi.com/', 'content': \"{'location': {'name': 'Los Angeles', 'region': 'California', 'country': 'United States of America', 'lat': 34.05, 'lon': -118.24, 'tz_id': 'America/Los_Angeles', 'localtime_epoch': 1726467812, 'localtime': '2024-09-15 23:23'}, 'current': {'last_updated_epoch': 1726467300, 'last_updated': '2024-09-15 23:15', 'temp_c': 19.4, 'temp_f': 66.9, 'is_day': 0, 'condition': {'text': 'Overcast', 'icon': '//cdn.weatherapi.com/weather/64x64/night/122.png', 'code': 1009}, 'wind_mph': 4.7, 'wind_kph': 7.6, 'wind_degree': 178, 'wind_dir': 'S', 'pressure_mb': 1011.0, 'pressure_in': 29.86, 'precip_mm': 0.0, 'precip_in': 0.0, 'humidity': 79, 'cloud': 100, 'feelslike_c': 19.4, 'feelslike_f': 66.9, 'windchill_c': 17.9, 'windchill_f': 64.2, 'heatindex_c': 17.9, 'heatindex_f': 64.3, 'dewpoint_c': 14.5, 'dewpoint_f': 58.0, 'vis_km': 16.0, 'vis_miles': 9.0, 'uv': 1.0, 'gust_mph': 5.4, 'gust_kph': 8.7}}\"}, {'url': 'https://www.ventusky.com/los-angeles', 'content': 'Los Angeles ☀ Weather forecast for 10 days, information from meteorological stations, webcams, sunrise and sunset, wind and precipitation maps for this place ... Timezone: America/Los_Angeles (UTC-7) / Current time: 21:20 2024/09/13 . Current Weather ; Forecast ; Sun and Moon ; 20 °C ... 16 km : Clouds ...'}, {'url': 'https://www.weathertab.com/en/c/e/09/united-states/california/los-angeles/', 'content': 'Explore comprehensive September 2024 weather forecasts for Los Angeles, including daily high and low temperatures, precipitation risks, and monthly temperature trends. Featuring detailed day-by-day forecasts, dynamic graphs of daily rain probabilities, and temperature trends to help you plan ahead. ... 16 84°F 55°F 29°C 13°C 06% 17 87°F 56 ...'}, {'url': 'https://www.timeanddate.com/weather/@z-us-90067/ext', 'content': 'Los Angeles 14 Day Extended Forecast. Weather Today Weather Hourly 14 Day Forecast Yesterday/Past Weather Climate (Averages) Currently: 70 °F. Sunny. (Weather station: Hawthorne Municipal Airport, USA). See more current weather.'}]\n",
      "Back to the model!\n"
     ]
    }
   ],
   "source": [
    "messages = [HumanMessage(content=\"What is the weather in SF and LA?\")]\n",
    "result = abot.graph.invoke({\"messages\": messages})"
   ]
  },
  {
   "cell_type": "code",
   "execution_count": 21,
   "id": "0722c3d4-4cbf-43bf-81b0-50f634c4ce61",
   "metadata": {
    "height": 30
   },
   "outputs": [
    {
     "data": {
      "text/plain": [
       "'The current weather in San Francisco is partly cloudy with a temperature of 13.9°C (57.0°F). The wind is blowing from the west at 18.8 mph (30.2 kph). In Los Angeles, the weather is overcast with a temperature of 19.4°C (66.9°F). The wind is coming from the south at 4.7 mph (7.6 kph).'"
      ]
     },
     "execution_count": 21,
     "metadata": {},
     "output_type": "execute_result"
    }
   ],
   "source": [
    "result['messages'][-1].content"
   ]
  },
  {
   "cell_type": "code",
   "execution_count": 23,
   "id": "6b2f82fe-3ec4-4917-be51-9fb10d1317fa",
   "metadata": {
    "height": 197
   },
   "outputs": [
    {
     "name": "stdout",
     "output_type": "stream",
     "text": [
      "Calling: {'name': 'tavily_search_results_json', 'args': {'query': 'who won the super bowl in 2024'}, 'id': 'call_pg72', 'type': 'tool_call'}\n",
      "Result: [{'url': 'https://www.espn.com/nfl/story/_/id/39480722/49ers-chiefs-live-super-bowl-lviii-updates-moments-highlights', 'content': \"With a relentless defense and opportune plays by their star quarterback -- including a pair of gutsy overtime scrambles -- the Chiefs won their third Super Bowl in five years in a 25-22 overtime victory against the San Francisco 49ers in only the second overtime game in Super Bowl history.\\n Staff\\nTaylor Swift supports Travis Kelce, chugs drink at Super Bowl LVIII10hTory Barron\\nAfter posting a losing record in December, the Chiefs embraced an underdog, villain mentality throughout the postseason, upsetting three teams en route to their second consecutive Super Bowl title, becoming the ninth team to repeat as Super Bowl champions and first since the 2004 New England Patriots.\\n ESPN\\nSuper Bowl 2024 - Highlights from Chiefs' win vs. 49ers\\nMike Tannenbaum and Tim Hasselbeck react to the Chiefs' thrilling overtime victory over the 49ers in the Super Bowl. The 49ers had the ball with 2:51 to go in a tied game, but a signature Steve Spagnuolo blitz on third down late in the fourth quarter forced a 49ers field goal. Led by their captains, most of the Chiefs arrived to Allegiant Stadium in Las Vegas on Sunday in all black, signaling a steely resolve to upset Brock Purdy and the NFC's best offensive ensemble.\\n\"}, {'url': 'https://apnews.com/article/super-bowl-2024-score-chiefs-49ers-49b5dca51c05ab0f259cef0d7da76c2d', 'content': '(AP Photo/David J. Phillip)\\nKansas City Chiefs quarterback Patrick Mahomes (15) celebrates after throwing the game-winning touchdown pass to wide receiver Mecole Hardman Jr. during the overtime of the NFL Super Bowl 58 football game against the San Francisco 49ers Sunday, Feb. 11, 2024, in Las Vegas. (AP Photo/David J. Phillip)\\nKansas City Chiefs quarterback Patrick Mahomes (15) celebrates after throwing the game-winning touchdown pass to wide receiver Mecole Hardman Jr. during the overtime of the NFL Super Bowl 58 football game against the San Francisco 49ers Sunday, Feb. 11, 2024, in Las Vegas. (AP Photo/George Walker IV)\\nSan Francisco 49ers running back Christian McCaffrey (23) runs into the end zone for a topuchdown against the Kansas City Chiefs during the first half of the NFL Super Bowl 58 football game Sunday, Feb. 11, 2024, in Las Vegas. (AP Photo/George Walker IV)\\nSan Francisco 49ers running back Christian McCaffrey (23) runs into the end zone for a topuchdown against the Kansas City Chiefs during the first half of the NFL Super Bowl 58 football game Sunday, Feb. 11, 2024, in Las Vegas. Patrick Mahomes rallies the Chiefs to second straight Super Bowl title, 25-22 over 49ers in overtime\\nThe Kansas City Chiefs beat the San Francisco 49ers 25-22 in overtime in the Super Bowl in Las Vegas on Sunday night.'}, {'url': 'https://www.cbssports.com/nfl/news/2024-super-bowl-chiefs-vs-49ers-score-patrick-mahomes-leads-ot-comeback-as-k-c-wins-back-to-back-titles/live/', 'content': \"The championship-winning drive, which included a fourth-and-1 scramble from Mahomes and a clutch 7-yard catch from tight end Travis Kelce, was a must-score for K.C. The NFL's new playoff overtime rules -- both teams are guaranteed at least one possession in the extra period -- were in effect for the first time, and the Chiefs needed to answer the Niners' field goal.\\n Held out of the end zone until that point, Kansas City grabbed its first lead of the game at 13-10.\\nJennings' touchdown receiving (followed by a missed extra point) concluded a 75-yard drive that put the Niners back on top, 16-13, as the wideout joined former Philadelphia Eagles quarterback Nick Foles as the only players to throw and catch a touchdown in a Super Bowl.\\n He spread the ball around -- eight pass-catchers had at least two receptions -- slowly but surely overcoming a threatening 49ers defense that knocked him off his spot consistently in the first half.\\nMahomes, with his third Super Bowl MVP, now sits alongside Tom Brady (five) and Joe Montana (three) atop the mountain while becoming just the third player to win the award back-to-back, joining Bart Starr (I-II) and Terry Bradshaw (XIII-XIV).\\n The muffed punt that bounced off of cornerback Darrell Luter Jr.'s ankle was also the big break that the Chiefs needed as they scored on the very next play to take the lead for the first time in the game. College Pick'em\\nA Daily SportsLine Betting Podcast\\nNFL Playoff Time!\\n2024 Super Bowl, Chiefs vs. 49ers score: Patrick Mahomes leads OT comeback as K.C. wins back-to-back titles\\nCall it a dynasty; the Chiefs are the first team to win consecutive Super Bowls since 2003-04\\nThe Kansas City Chiefs are Super Bowl champions, again.\"}, {'url': 'https://www.cbsnews.com/live-updates/super-bowl-2024-chiefs-49ers-game-coverage/', 'content': '\"\\nThe Chiefs reached the Super Bowl the hard way, with back-to-back road playoff wins against the Buffalo Bills in the divisional round and then the Ravens in the conference championship — the first time in his career Mahomes has been forced to play road playoff games.\\n Watch CBS News\\nSuper Bowl 2024 live updates as Chiefs and 49ers prepare for today\\'s show down\\nBy Faris Tanyos, Aliza Chasan, Joe Ruiz, Gina Martinez, S. Dev\\nUpdated on:\\nFebruary 11, 2024 / 6:37 PM EST\\n/ CBS News\\nThe Kansas City Chiefs will look to become the first back-to-back Super Bowl champion in two decades when they take on the San Francisco 49ers today in Las Vegas.\\n What to know about San Francisco 49ers quarterback Brock Purdy\\nOne of the most improbable stories of Super Bowl LVIII is that of San Francisco 49ers quarterback Brock Purdy, who has gone from being \"Mr. Irrelevant,\" as the final pick of the 2022 NFL Draft, to a bonafide star, leading his team to the cusp of an NFL title in less than two years.\\n The 24-year-old, who set records at Iowa State after receiving Player of the Year honors at Perry High School in Gilbert, Arizona, is attempting to become the third quarterback after Joe Montana and Steve Young to lead the 49ers to a Super Bowl victory, and the franchise\\'s sixth Lombardi Trophy.\\n \"The more technologically savvy we become: look around the stadium, the scoreboards, the lighting, you know, all of the different technology that makes this a spectacular game, these are all increases in the attack surface that people can target,\" said Cathy Lanier, the NFL\\'s chief security officer.\\n'}]\n",
      "Calling: {'name': 'tavily_search_results_json', 'args': {'query': 'headquarters of the winning team of super bowl 2024'}, 'id': 'call_9j40', 'type': 'tool_call'}\n",
      "Result: [{'url': 'https://www.nbclosangeles.com/news/sports/vince-lombardi-trophy-super-bowl-2024/3334624/?os=avefgi&ref=app', 'content': \"The Vince Lombardi Trophy is awarded to the winning Super Bowl team. Here's more info about the ultimate honor in NFL football By Kristen Conti • Published February 8, 2024 • Updated on ...\"}, {'url': 'https://www.cbssports.com/nfl/news/2024-super-bowl-chiefs-vs-49ers-score-patrick-mahomes-leads-ot-comeback-as-k-c-wins-back-to-back-titles/live/', 'content': \"The championship-winning drive, which included a fourth-and-1 scramble from Mahomes and a clutch 7-yard catch from tight end Travis Kelce, was a must-score for K.C. The NFL's new playoff overtime rules -- both teams are guaranteed at least one possession in the extra period -- were in effect for the first time, and the Chiefs needed to answer the Niners' field goal.\\n Held out of the end zone until that point, Kansas City grabbed its first lead of the game at 13-10.\\nJennings' touchdown receiving (followed by a missed extra point) concluded a 75-yard drive that put the Niners back on top, 16-13, as the wideout joined former Philadelphia Eagles quarterback Nick Foles as the only players to throw and catch a touchdown in a Super Bowl.\\n He spread the ball around -- eight pass-catchers had at least two receptions -- slowly but surely overcoming a threatening 49ers defense that knocked him off his spot consistently in the first half.\\nMahomes, with his third Super Bowl MVP, now sits alongside Tom Brady (five) and Joe Montana (three) atop the mountain while becoming just the third player to win the award back-to-back, joining Bart Starr (I-II) and Terry Bradshaw (XIII-XIV).\\n The muffed punt that bounced off of cornerback Darrell Luter Jr.'s ankle was also the big break that the Chiefs needed as they scored on the very next play to take the lead for the first time in the game. College Pick'em\\nA Daily SportsLine Betting Podcast\\nNFL Playoff Time!\\n2024 Super Bowl, Chiefs vs. 49ers score: Patrick Mahomes leads OT comeback as K.C. wins back-to-back titles\\nCall it a dynasty; the Chiefs are the first team to win consecutive Super Bowls since 2003-04\\nThe Kansas City Chiefs are Super Bowl champions, again.\"}, {'url': 'https://www.npr.org/2024/02/10/1230621176/super-bowl-58', 'content': \"Super Bowl 2024\\nSuper Bowl 2024: How to watch the Chiefs v. 49ers\\nBy\\nNPR Staff\\nSuper Bowl LVIII signage is seen outside of Allegiant Stadium on in Las Vegas on Feb. 7.\\nRob Carr/Getty Images\\nhide caption\\nSuper Bowl LVIII signage is seen outside of Allegiant Stadium on in Las Vegas on Feb. 7.\\n PT\\nWhere to watch: CBS and streaming on Paramount+\\nWho's performing at the Super Bowl\\nUS singer and songwriter Usher\\nis slated to take the stage during the Super Bowl halftime show.\\n We'll be here to keep you updated on the biggest moments of the game, the commercials and the halftime show, plus all the action happening in the stands, in the suites, at watch parties and around the country.\\n PATRICK T. FALLON/AFP via Getty Images\\nhide caption\\nUS singer and songwriter Usher\\nis slated to take the stage during the Super Bowl halftime show.\\n TIMOTHY A. CLARY/AFP via Getty Images\\nhide caption\\nKansas City Chiefs fan Don Lobmeyer, of Wichita, Kansas poses for pictures ahead of Super Bowl LVIII at Allegiant Stadium in Las Vegas, Nevada on February 9, 2024.\\n\"}, {'url': 'https://people.com/super-bowl-2024-full-recap-8572245', 'content': '\"\\nTo make those dreams come true, an \"absolute army of people\" took the field to set up the elaborate stage as soon as the last play of the second quarter was completed.\\n49ers Lead 10-3 at the End of the First Half\\n49ers Lead 10-3 at the End of the First Half\\nThe action continued in the second quarter, with the San Francisco 49ers following their record-breaking field goal with a touchdown by Christian McCaffery.\\n Super Bowl 2024 Recap: The Kansas City Chiefs\\' Big Win, Taylor Swift\\'s Celebrations and All the Highlights\\nThe Kansas City Chiefs beat the San Francisco 49ers and Usher wowed with a hit-filled halftime show\\nTim Nwachukwu/Getty\\nSuper Bowl 2024 is complete — and the Kansas City Chiefs reigned supreme, beating the San Francisco 49ers 25-22.\\n The father and son were all smiles as they posed for photos in their Chiefs jerseys: Paul in a \"58,\" for linebacker and defensive end Derrick Vincent Thomas, and Jack in \"22,\" the number worn by Trent McDuffie.\\n49ers Wives Claire Kittle and Kristin Juszczyk Share Their Super Bowl Style\\n49ers Wives Claire Kittle and Kristin Juszczyk Share Their Super Bowl Style\\nClaire Kittle\\nClaire Kittle, the wife of San Francisco 49ers tight end George Kittle, is bringing her own special shine to her Super Bowl outfit. Reba McEntire Blows the Roof Off Allegiant Stadium with \\'The Star-Spangled Banner\\'\\nReba McEntire Blows the Roof Off Allegiant Stadium with \\'The Star-Spangled Banner\\'\\nCBS\\nGood luck to the actual players in the Super Bowl because the pre-game performers have already blown the fans at Allegiant Stadium away.\\n PEOPLE covered all the action live, from the intense game Allegiant Stadium in Las Vegas, to the star-filled commercials, to Usher\\'s hit-filled halftime show and every Taylor Swift sighting in between.\\nRead here for a full recap of the pre-show highlights, the big game moments and all the behind-the-scene insights you can only get from PEOPLE.\\n'}]\n",
      "Calling: {'name': 'tavily_search_results_json', 'args': {'query': 'GDP of the state where the winning team of super bowl 2024 is headquartered'}, 'id': 'call_s7kw', 'type': 'tool_call'}\n",
      "Result: [{'url': 'https://www.usnews.com/news/best-states/articles/2024-02-07/jackpot-super-bowl-taylor-swift-expected-to-bring-economic-boon-to-las-vegas', 'content': \"The NFL's championship game and a global superstar could mean a winning draw for Sin City. ... for Economic Jackpot With Super Bowl, Taylor Swift ... to the top of the Best States rankings for 2024.\"}, {'url': 'https://www.businessinsider.com/economics-super-bowl-las-vegas-billion-dollars-new-orleans-2024-2?op=1', 'content': \"Super Bowl LX (2026) — Levi's Stadium in Santa Clara, California\\nLevi's Stadium previously hosted the 50th installment of the Super Bowl in 2016, when the Denver Broncos beat the Carolina Panthers in Peyton Manning's final NFL game.\\n According to the school's research, last year's Super Bowl added $726 million to the state's GDP, and over 102,000 people came to the area for the event, spending $221 million while in town. Hosting the Super Bowl could be a $1 billion jackpot for these 4 cities\\nThe Super Bowl is heading to Sin City for the first time, and a lot of money is coming with it.\\n The big game is expected to have a gross economic impact of $1.1 billion for the Las Vegas area, according to the Las Vegas Convention and Visitors Authority along with research from Applied Analysis, a quantitative analysis firm, provided to Business Insider. Super Bowl LVIII (2024) — Allegiant Stadium in Las Vegas, Nevada\\nThe NFL's first trip to Sin City for the Super Bowl is one of the reasons ticket prices are soaring.\"}, {'url': 'https://www.cbsnews.com/news/super-bowl-2024-las-vegas-economic-impact/', 'content': \"Watch CBS News\\nAmericans expected to spend a record $17.3 billion on 2024 Super Bowl\\nBy Megan Cerullo\\nEdited By Alain Sherter\\nFebruary 6, 2024 / 4:01 PM EST\\n/ CBS News\\nA record number of Americans are expected to tune into\\xa0Super Bowl LVIII, with consumer spending linked to the game also forecast to hit an all-time high, according to the U.S. Chamber of Commerce.\\n Such figures don't include the vast sums likely to be waged on the Super Bowl in what is, after all, the gambling capital of the U.S. Nearly 68 million American adults — about 1 in 4 — plan to bet on the contest, according to the American Gaming Association. According to the Chamber of Commerce, cities across the U.S. are likely to see a boost in revenue, including the following:\\nSuper Bowl LVIII\\xa0will\\xa0air on CBS\\xa0and Nickelodeon and\\xa0stream on Paramount+\\xa0on Feb. 11 from Allegiant Stadium in Las Vegas. More than 200 million U.S. adults plan to watch the Super Bowl, according to a\\xa0survey\\xa0from the National Retail Federation — that's well over half the country's population of 335 million — and more than half of those fans say they'll either host or attend a watch party. The U.S. Chamber of Commerce said the event, which pits the Kansas City Chief against the San Francisco 49ers, is expected to generate an additional $500 million for the Las Vegas economy.\"}, {'url': 'https://www.washingtonexaminer.com/news/2848507/chiefs-49ers-economics-2024-super-bowl/', 'content': \"February 10, 2024 6:30 am. . This year's Super Bowl will drive millions of fans to bars and restaurants and have a major economic footprint as the Kansas City Chiefs take on the San Francisco ...\"}]\n",
      "Back to the model!\n"
     ]
    }
   ],
   "source": [
    "# Note, the query was modified to produce more consistent results. \n",
    "# Results may vary per run and over time as search information and models change.\n",
    "\n",
    "query = \"Who won the super bowl in 2024? In what state is the winning team headquarters located? \\\n",
    "What is the GDP of that state? Answer each question.\" \n",
    "messages = [HumanMessage(content=query)]\n",
    "\n",
    "#model = ChatOpenAI(model=\"gpt-4o\")  # requires more advanced model\n",
    "model = GroqChatLLM()\n",
    "abot = Agent(model, [tool], system=prompt)\n",
    "result = abot.graph.invoke({\"messages\": messages})"
   ]
  },
  {
   "cell_type": "code",
   "execution_count": 24,
   "id": "ee0fe1c7-77e2-499c-a2f9-1f739bb6ddf0",
   "metadata": {
    "height": 30
   },
   "outputs": [
    {
     "name": "stdout",
     "output_type": "stream",
     "text": [
      "The Kansas City Chiefs won the Super Bowl in 2024, defeating the San Francisco 49ers in overtime with a score of 25-22. The Chiefs' headquarters are located in Kansas City, Missouri. The GDP of Missouri is approximately $301 billion as of 2020.\n"
     ]
    }
   ],
   "source": [
    "print(result['messages'][-1].content)"
   ]
  },
  {
   "cell_type": "code",
   "execution_count": null,
   "id": "1d643182-2802-40fb-ba35-d4f893c5b976",
   "metadata": {
    "height": 30
   },
   "outputs": [],
   "source": []
  }
 ],
 "metadata": {
  "kernelspec": {
   "display_name": "Python 3 (ipykernel)",
   "language": "python",
   "name": "python3"
  },
  "language_info": {
   "codemirror_mode": {
    "name": "ipython",
    "version": 3
   },
   "file_extension": ".py",
   "mimetype": "text/x-python",
   "name": "python",
   "nbconvert_exporter": "python",
   "pygments_lexer": "ipython3",
   "version": "3.11.9"
  }
 },
 "nbformat": 4,
 "nbformat_minor": 5
}
