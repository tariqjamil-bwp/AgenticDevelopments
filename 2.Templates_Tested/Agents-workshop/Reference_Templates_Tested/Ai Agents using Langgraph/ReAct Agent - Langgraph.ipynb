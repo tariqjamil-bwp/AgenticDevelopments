{
 "cells": [
  {
   "cell_type": "code",
   "execution_count": 1,
   "metadata": {},
   "outputs": [
    {
     "data": {
      "text/plain": [
       "False"
      ]
     },
     "execution_count": 1,
     "metadata": {},
     "output_type": "execute_result"
    }
   ],
   "source": [
    "from dotenv import load_dotenv\n",
    "load_dotenv()#'../.env')"
   ]
  },
  {
   "cell_type": "code",
   "execution_count": 4,
   "metadata": {},
   "outputs": [],
   "source": [
    "from langchain_core.messages import AIMessage\n",
    "from langchain_core.tools import tool\n",
    "\n",
    "from langgraph.prebuilt import ToolNode"
   ]
  },
  {
   "cell_type": "code",
   "execution_count": 6,
   "metadata": {},
   "outputs": [],
   "source": [
    "from langchain_groq.chat_models import ChatGroq\n",
    "llm = ChatGroq(temperature=0, model_name=\"llama-3.1-70b-versatile\")"
   ]
  },
  {
   "cell_type": "code",
   "execution_count": 7,
   "metadata": {},
   "outputs": [
    {
     "data": {
      "text/plain": [
       "AIMessage(content=\"I'm not able to provide real-time weather information. However, I can give you general information about San Francisco's climate.\\n\\nSan Francisco is known for its cool and foggy climate, with temperatures ranging from 40°F (4°C) to 70°F (21°C) throughout the year. The city experiences a Mediterranean climate, with dry summers and wet winters.\\n\\nIf you're looking for the current weather in San Francisco, I recommend checking a weather website or app, such as AccuWeather or Weather.com, for the most up-to-date information.\", additional_kwargs={}, response_metadata={'token_usage': {'completion_tokens': 113, 'prompt_tokens': 42, 'total_tokens': 155, 'completion_time': 0.452778016, 'prompt_time': 0.015188738, 'queue_time': 2.4164770410000003, 'total_time': 0.467966754}, 'model_name': 'llama-3.1-70b-versatile', 'system_fingerprint': 'fp_9260b4bb2e', 'finish_reason': 'stop', 'logprobs': None}, id='run-93446453-99ef-46fb-9d14-5c5879e2eca1-0', usage_metadata={'input_tokens': 42, 'output_tokens': 113, 'total_tokens': 155})"
      ]
     },
     "execution_count": 7,
     "metadata": {},
     "output_type": "execute_result"
    }
   ],
   "source": [
    "llm.invoke(\"what's the weather in sf?\")"
   ]
  },
  {
   "cell_type": "code",
   "execution_count": 8,
   "metadata": {},
   "outputs": [],
   "source": [
    "@tool\n",
    "def get_weather(location: str):\n",
    "    \"\"\"Call to get the current weather.\"\"\"\n",
    "    if location.lower() in [\"sf\", \"san francisco\"]:\n",
    "        return \"It's 60 degrees and foggy.\"\n",
    "    else:\n",
    "        return \"It's 90 degrees and sunny.\"\n",
    "\n",
    "\n",
    "@tool\n",
    "def get_coolest_cities():\n",
    "    \"\"\"Get a list of coolest cities\"\"\"\n",
    "    return \"nyc, sf\""
   ]
  },
  {
   "cell_type": "code",
   "execution_count": 9,
   "metadata": {},
   "outputs": [],
   "source": [
    "tools = [get_weather, get_coolest_cities]\n",
    "tool_node = ToolNode(tools)"
   ]
  },
  {
   "cell_type": "code",
   "execution_count": 11,
   "metadata": {},
   "outputs": [],
   "source": [
    "llm_with_toolcall = llm.bind_tools(tools=tools)"
   ]
  },
  {
   "cell_type": "code",
   "execution_count": 12,
   "metadata": {},
   "outputs": [],
   "source": [
    "from typing import Literal\n",
    "from langgraph.graph import StateGraph, MessagesState\n",
    "\n",
    "def should_continue(state: MessagesState) -> Literal[\"tools\", \"__end__\"]:\n",
    "    messages = state[\"messages\"]\n",
    "    last_message = messages[-1]\n",
    "    print(last_message)\n",
    "    if last_message.tool_calls:\n",
    "        return \"tools\"\n",
    "    return \"__end__\"\n",
    "\n",
    "\n",
    "def call_model(state: MessagesState):\n",
    "    messages = state[\"messages\"]\n",
    "    response = llm_with_toolcall.invoke(messages)\n",
    "    return {\"messages\": [response]}\n",
    "\n",
    "\n",
    "workflow = StateGraph(MessagesState)\n",
    "\n",
    "# Define the two nodes we will cycle between\n",
    "workflow.add_node(\"agent\", call_model)\n",
    "workflow.add_node(\"tools\", tool_node)\n",
    "\n",
    "workflow.add_edge(\"__start__\", \"agent\")\n",
    "workflow.add_conditional_edges(\n",
    "    \"agent\",\n",
    "    should_continue,\n",
    ")\n",
    "workflow.add_edge(\"tools\", \"agent\")\n",
    "\n",
    "app = workflow.compile()"
   ]
  },
  {
   "cell_type": "code",
   "execution_count": 13,
   "metadata": {},
   "outputs": [
    {
     "data": {
      "image/jpeg": "[encoded data removed]",
      "text/plain": [
       "<IPython.core.display.Image object>"
      ]
     },
     "metadata": {},
     "output_type": "display_data"
    }
   ],
   "source": [
    "from IPython.display import Image, display\n",
    "\n",
    "try:\n",
    "    display(Image(app.get_graph().draw_mermaid_png()))\n",
    "except Exception:\n",
    "    # This requires some extra dependencies and is optional\n",
    "    pass"
   ]
  },
  {
   "cell_type": "code",
   "execution_count": 14,
   "metadata": {},
   "outputs": [
    {
     "name": "stdout",
     "output_type": "stream",
     "text": [
      "================================\u001b[1m Human Message \u001b[0m=================================\n",
      "\n",
      "what's the weather in sf?\n",
      "content='' additional_kwargs={'tool_calls': [{'id': 'call_5b4h', 'function': {'arguments': '{\"location\": \"San Francisco\"}', 'name': 'get_weather'}, 'type': 'function'}]} response_metadata={'token_usage': {'completion_tokens': 15, 'prompt_tokens': 267, 'total_tokens': 282, 'completion_time': 0.06, 'prompt_time': 0.076024615, 'queue_time': 0.070458021, 'total_time': 0.136024615}, 'model_name': 'llama-3.1-70b-versatile', 'system_fingerprint': 'fp_b3ae7e594e', 'finish_reason': 'tool_calls', 'logprobs': None} id='run-dd106019-07a5-463b-a8e8-4403ae996ca2-0' tool_calls=[{'name': 'get_weather', 'args': {'location': 'San Francisco'}, 'id': 'call_5b4h', 'type': 'tool_call'}] usage_metadata={'input_tokens': 267, 'output_tokens': 15, 'total_tokens': 282}\n",
      "==================================\u001b[1m Ai Message \u001b[0m==================================\n",
      "Tool Calls:\n",
      "  get_weather (call_5b4h)\n",
      " Call ID: call_5b4h\n",
      "  Args:\n",
      "    location: San Francisco\n",
      "=================================\u001b[1m Tool Message \u001b[0m=================================\n",
      "Name: get_weather\n",
      "\n",
      "It's 60 degrees and foggy.\n",
      "content=\"I've provided the weather information for San Francisco. Is there anything else I can help you with?\" additional_kwargs={} response_metadata={'token_usage': {'completion_tokens': 21, 'prompt_tokens': 301, 'total_tokens': 322, 'completion_time': 0.084, 'prompt_time': 0.07532071, 'queue_time': 0.004934311999999996, 'total_time': 0.15932071}, 'model_name': 'llama-3.1-70b-versatile', 'system_fingerprint': 'fp_5c5d1b5cfb', 'finish_reason': 'stop', 'logprobs': None} id='run-f6c9743a-3d9e-4810-a19c-6cdd3fed279e-0' usage_metadata={'input_tokens': 301, 'output_tokens': 21, 'total_tokens': 322}\n",
      "==================================\u001b[1m Ai Message \u001b[0m==================================\n",
      "\n",
      "I've provided the weather information for San Francisco. Is there anything else I can help you with?\n"
     ]
    }
   ],
   "source": [
    "# example with a single tool call\n",
    "for chunk in app.stream(\n",
    "    {\"messages\": [(\"human\", \"what's the weather in sf?\")]}, stream_mode=\"values\"\n",
    "):\n",
    "    chunk[\"messages\"][-1].pretty_print()"
   ]
  },
  {
   "cell_type": "code",
   "execution_count": 15,
   "metadata": {},
   "outputs": [
    {
     "name": "stdout",
     "output_type": "stream",
     "text": [
      "================================\u001b[1m Human Message \u001b[0m=================================\n",
      "\n",
      "what's the weather in the coolest cities?\n",
      "content='' additional_kwargs={'tool_calls': [{'id': 'call_jvfm', 'function': {'arguments': '{}', 'name': 'get_coolest_cities'}, 'type': 'function'}, {'id': 'call_65kq', 'function': {'arguments': '{\"location\": \"coolest_cities[0]\"}', 'name': 'get_weather'}, 'type': 'function'}]} response_metadata={'token_usage': {'completion_tokens': 29, 'prompt_tokens': 269, 'total_tokens': 298, 'completion_time': 0.116104024, 'prompt_time': 0.066922202, 'queue_time': 0.005387921000000004, 'total_time': 0.183026226}, 'model_name': 'llama-3.1-70b-versatile', 'system_fingerprint': 'fp_b6828be2c9', 'finish_reason': 'tool_calls', 'logprobs': None} id='run-2437aad1-8f64-454d-abda-22717dfbcc9e-0' tool_calls=[{'name': 'get_coolest_cities', 'args': {}, 'id': 'call_jvfm', 'type': 'tool_call'}, {'name': 'get_weather', 'args': {'location': 'coolest_cities[0]'}, 'id': 'call_65kq', 'type': 'tool_call'}] usage_metadata={'input_tokens': 269, 'output_tokens': 29, 'total_tokens': 298}\n",
      "==================================\u001b[1m Ai Message \u001b[0m==================================\n",
      "Tool Calls:\n",
      "  get_coolest_cities (call_jvfm)\n",
      " Call ID: call_jvfm\n",
      "  Args:\n",
      "  get_weather (call_65kq)\n",
      " Call ID: call_65kq\n",
      "  Args:\n",
      "    location: coolest_cities[0]\n",
      "=================================\u001b[1m Tool Message \u001b[0m=================================\n",
      "Name: get_weather\n",
      "\n",
      "It's 90 degrees and sunny.\n",
      "content='' additional_kwargs={'tool_calls': [{'id': 'call_1y4e', 'function': {'arguments': '{\"location\": \"nyc\"}', 'name': 'get_weather'}, 'type': 'function'}, {'id': 'call_2t9g', 'function': {'arguments': '{\"location\": \"sf\"}', 'name': 'get_weather'}, 'type': 'function'}]} response_metadata={'token_usage': {'completion_tokens': 28, 'prompt_tokens': 327, 'total_tokens': 355, 'completion_time': 0.112, 'prompt_time': 0.076787491, 'queue_time': 0.005344671999999995, 'total_time': 0.188787491}, 'model_name': 'llama-3.1-70b-versatile', 'system_fingerprint': 'fp_b6828be2c9', 'finish_reason': 'tool_calls', 'logprobs': None} id='run-93c5525e-4d48-48bf-bf76-d0857b6d8631-0' tool_calls=[{'name': 'get_weather', 'args': {'location': 'nyc'}, 'id': 'call_1y4e', 'type': 'tool_call'}, {'name': 'get_weather', 'args': {'location': 'sf'}, 'id': 'call_2t9g', 'type': 'tool_call'}] usage_metadata={'input_tokens': 327, 'output_tokens': 28, 'total_tokens': 355}\n",
      "==================================\u001b[1m Ai Message \u001b[0m==================================\n",
      "Tool Calls:\n",
      "  get_weather (call_1y4e)\n",
      " Call ID: call_1y4e\n",
      "  Args:\n",
      "    location: nyc\n",
      "  get_weather (call_2t9g)\n",
      " Call ID: call_2t9g\n",
      "  Args:\n",
      "    location: sf\n",
      "=================================\u001b[1m Tool Message \u001b[0m=================================\n",
      "Name: get_weather\n",
      "\n",
      "It's 60 degrees and foggy.\n",
      "content=\"It seems like the weather in NYC is 90 degrees and sunny, and in SF it's 60 degrees and foggy.\" additional_kwargs={} response_metadata={'token_usage': {'completion_tokens': 27, 'prompt_tokens': 388, 'total_tokens': 415, 'completion_time': 0.108, 'prompt_time': 0.110211543, 'queue_time': 0.7081658089999999, 'total_time': 0.218211543}, 'model_name': 'llama-3.1-70b-versatile', 'system_fingerprint': 'fp_5c5d1b5cfb', 'finish_reason': 'stop', 'logprobs': None} id='run-b20563bb-acc9-4668-8189-3077da0cba83-0' usage_metadata={'input_tokens': 388, 'output_tokens': 27, 'total_tokens': 415}\n",
      "==================================\u001b[1m Ai Message \u001b[0m==================================\n",
      "\n",
      "It seems like the weather in NYC is 90 degrees and sunny, and in SF it's 60 degrees and foggy.\n"
     ]
    }
   ],
   "source": [
    "# example with a multiple tool calls in succession\n",
    "\n",
    "for chunk in app.stream(\n",
    "    {\"messages\": [(\"human\", \"what's the weather in the coolest cities?\")]},\n",
    "    stream_mode=\"values\",\n",
    "):\n",
    "    chunk[\"messages\"][-1].pretty_print()"
   ]
  },
  {
   "cell_type": "code",
   "execution_count": null,
   "metadata": {},
   "outputs": [],
   "source": []
  }
 ],
 "metadata": {
  "kernelspec": {
   "display_name": "Agents-4yRd6dJo",
   "language": "python",
   "name": "python3"
  },
  "language_info": {
   "codemirror_mode": {
    "name": "ipython",
    "version": 3
   },
   "file_extension": ".py",
   "mimetype": "text/x-python",
   "name": "python",
   "nbconvert_exporter": "python",
   "pygments_lexer": "ipython3",
   "version": "3.11.9"
  }
 },
 "nbformat": 4,
 "nbformat_minor": 2
}
