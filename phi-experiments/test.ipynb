{
 "cells": [
  {
   "cell_type": "code",
   "execution_count": 1,
   "metadata": {},
   "outputs": [],
   "source": [
    "from groq import Groq\n",
    "#from ollama import ChatOllama\n",
    "client = Groq()"
   ]
  },
  {
   "cell_type": "code",
   "execution_count": null,
   "metadata": {},
   "outputs": [],
   "source": [
    "response = client.chat.completions.create(model=\"llama3-70b-8192\", messages=[{\"role\": \"user\", \"content\": \"Hello!\"}])\n",
    "print(response.choices[0].message.content)"
   ]
  },
  {
   "cell_type": "code",
   "execution_count": null,
   "metadata": {},
   "outputs": [],
   "source": [
    "class GroqLLM:\n",
    "    def __init__(self, model=\"llama3-70b-8192\", api_key=None):\n",
    "        \"\"\"\n",
    "        Initialize the GroqAPI client with an API key and optional model name.\n",
    "        \"\"\"\n",
    "        from groq import Client  # Import inside class to avoid issues if not installed globally\n",
    "        import os\n",
    "        api_key = os.environ.get(\"GROQ_API_KEY\", api_key)\n",
    "        self.client = Client(api_key=api_key)\n",
    "        self.model = model\n",
    "\n",
    "    def chat(self, prompt):\n",
    "        \"\"\"\n",
    "        Send a prompt to the model and return the response.\n",
    "        \"\"\"\n",
    "        try:\n",
    "            response = self.client.chat.completions.create(\n",
    "                model=self.model,\n",
    "                messages=[{\"role\": \"user\", \"content\": prompt}]\n",
    "            )\n",
    "            # Extract and return the assistant's reply\n",
    "            return response.choices[0].message.content\n",
    "        except Exception as e:\n",
    "            return f\"Error: {str(e)}\"\n",
    "\n",
    "\n",
    "# Example usage:\n",
    "\n",
    "if __name__ == \"__main__\":\n",
    "    api_key = \"your_groq_api_key\"  # Replace with your actual Groq API key\n",
    "    groq = GroqLLM(api_key=api_key)\n",
    "\n",
    "    prompt = \"Explain how Groq accelerates machine learning models.\"\n",
    "    response = groq.chat(prompt)\n",
    "    print(response)\n"
   ]
  },
  {
   "cell_type": "code",
   "execution_count": null,
   "metadata": {},
   "outputs": [],
   "source": [
    "from phi.assistant import Assistant\n",
    "from phi.tools.duckduckgo import DuckDuckGo\n",
    "from phi.assistant import Assistant\n",
    "from phi.llm.groq import Groq\n",
    "from phi.tools.calculator import Calculator\n",
    "\n",
    "llm=Groq(model=\"mixtral-8x7b-32768\")\n",
    "assistant = Assistant(\n",
    "    llm=llm,\n",
    "    description=\"You help people with their health and fitness goals.\",\n",
    "    # debug_mode=True,\n",
    ")\n",
    "assistant.print_response(\"Share a quick healthy breakfast recipe.\", markdown=True)"
   ]
  },
  {
   "cell_type": "code",
   "execution_count": 17,
   "metadata": {},
   "outputs": [],
   "source": [
    "from aisTools import currency_converter"
   ]
  },
  {
   "cell_type": "code",
   "execution_count": null,
   "metadata": {},
   "outputs": [],
   "source": [
    "from typing import Annotated\n",
    "\n",
    "# Define the function with Annotated types\n",
    "def Currency_converter(\n",
    "    amount: Annotated[float, \"The amount of money to convert\"],\n",
    "    base_currency: Annotated[str, \"The currency to convert from\"],\n",
    "    quote_currency: Annotated[str, \"The currency to convert to\"]\n",
    ") -> float:\n",
    "    \"\"\"\n",
    "    Convert currency from base_currency to quote_currency.\n",
    "\n",
    "    Args:\n",
    "        amount (float): The amount to convert.\n",
    "        base_currency (str): The source currency.\n",
    "        quote_currency (str): The target currency.\n",
    "\n",
    "    Returns:\n",
    "        float: The converted currency amount.\n",
    "    \"\"\"\n",
    "    return currency_converter(amount=amount, source_curr=base_currency, target_curr=quote_currency)\n",
    "\n",
    "# Example usage\n",
    "result = Currency_converter(100.0, \"USD\", \"EUR\")\n",
    "print(result)\n"
   ]
  },
  {
   "cell_type": "code",
   "execution_count": 19,
   "metadata": {},
   "outputs": [],
   "source": [
    "tools = [Calculator(), DuckDuckGo(), Currency_converter]"
   ]
  },
  {
   "cell_type": "code",
   "execution_count": null,
   "metadata": {},
   "outputs": [],
   "source": [
    "assistant = Assistant(tools=tools, show_tool_calls=True, llm=llm)\n",
    "assistant.print_response(\"I bought 10 bananas at .2 USD per unit, and apples per unit cst is .5usd . If the total bill is 10 USD, the howm many apples I purchased\", markdown=True)"
   ]
  },
  {
   "cell_type": "code",
   "execution_count": null,
   "metadata": {},
   "outputs": [],
   "source": [
    "from phi.assistant import Assistant\n",
    "from phi.tools.website import WebsiteTools\n",
    "from phi.llm.groq import Groq\n",
    "\n",
    "assistant = Assistant(tools=[WebsiteTools()], show_tool_calls=True, llm=Groq(model='llama3-8b-8192'))\n",
    "assistant.print_response(\"Search web page: 'https://docs.phidata.com/introduction'\", markdown=True)\n"
   ]
  },
  {
   "cell_type": "code",
   "execution_count": 5,
   "metadata": {},
   "outputs": [
    {
     "data": {
      "text/html": [
       "<pre style=\"white-space:pre;overflow-x:auto;line-height:normal;font-family:Menlo,'DejaVu Sans Mono',consolas,'Courier New',monospace\"><span style=\"color: #008000; text-decoration-color: #008000\">DEBUG   </span> Function: get_youtube_video_captions registered with youtube_tools                                        \n",
       "</pre>\n"
      ],
      "text/plain": [
       "\u001b[32mDEBUG   \u001b[0m Function: get_youtube_video_captions registered with youtube_tools                                        \n"
      ]
     },
     "metadata": {},
     "output_type": "display_data"
    },
    {
     "data": {
      "text/html": [
       "<pre style=\"white-space:pre;overflow-x:auto;line-height:normal;font-family:Menlo,'DejaVu Sans Mono',consolas,'Courier New',monospace\"><span style=\"color: #008000; text-decoration-color: #008000\">DEBUG   </span> Function: get_youtube_video_data registered with youtube_tools                                            \n",
       "</pre>\n"
      ],
      "text/plain": [
       "\u001b[32mDEBUG   \u001b[0m Function: get_youtube_video_data registered with youtube_tools                                            \n"
      ]
     },
     "metadata": {},
     "output_type": "display_data"
    },
    {
     "data": {
      "text/html": [
       "<pre style=\"white-space:pre;overflow-x:auto;line-height:normal;font-family:Menlo,'DejaVu Sans Mono',consolas,'Courier New',monospace\"><span style=\"color: #008000; text-decoration-color: #008000\">DEBUG   </span> Debug logs enabled                                                                                        \n",
       "</pre>\n"
      ],
      "text/plain": [
       "\u001b[32mDEBUG   \u001b[0m Debug logs enabled                                                                                        \n"
      ]
     },
     "metadata": {},
     "output_type": "display_data"
    },
    {
     "data": {
      "text/html": [
       "<pre style=\"white-space:pre;overflow-x:auto;line-height:normal;font-family:Menlo,'DejaVu Sans Mono',consolas,'Courier New',monospace\"><span style=\"color: #008000; text-decoration-color: #008000\">DEBUG   </span> *********** Assistant Run Start: <span style=\"color: #ffff00; text-decoration-color: #ffff00\">aed5aab6-e9d7-40d1-90cb-a06e9ebe3ea0</span> ***********                         \n",
       "</pre>\n"
      ],
      "text/plain": [
       "\u001b[32mDEBUG   \u001b[0m *********** Assistant Run Start: \u001b[93maed5aab6-e9d7-40d1-90cb-a06e9ebe3ea0\u001b[0m ***********                         \n"
      ]
     },
     "metadata": {},
     "output_type": "display_data"
    },
    {
     "data": {
      "text/html": [
       "<pre style=\"white-space:pre;overflow-x:auto;line-height:normal;font-family:Menlo,'DejaVu Sans Mono',consolas,'Courier New',monospace\"><span style=\"color: #008000; text-decoration-color: #008000\">DEBUG   </span> Loaded memory                                                                                             \n",
       "</pre>\n"
      ],
      "text/plain": [
       "\u001b[32mDEBUG   \u001b[0m Loaded memory                                                                                             \n"
      ]
     },
     "metadata": {},
     "output_type": "display_data"
    },
    {
     "data": {
      "text/html": [
       "<pre style=\"white-space:pre;overflow-x:auto;line-height:normal;font-family:Menlo,'DejaVu Sans Mono',consolas,'Courier New',monospace\"><span style=\"color: #008000; text-decoration-color: #008000\">DEBUG   </span> Function get_youtube_video_captions from youtube_tools added to LLM.                                      \n",
       "</pre>\n"
      ],
      "text/plain": [
       "\u001b[32mDEBUG   \u001b[0m Function get_youtube_video_captions from youtube_tools added to LLM.                                      \n"
      ]
     },
     "metadata": {},
     "output_type": "display_data"
    },
    {
     "data": {
      "text/html": [
       "<pre style=\"white-space:pre;overflow-x:auto;line-height:normal;font-family:Menlo,'DejaVu Sans Mono',consolas,'Courier New',monospace\"><span style=\"color: #008000; text-decoration-color: #008000\">DEBUG   </span> Function get_youtube_video_data from youtube_tools added to LLM.                                          \n",
       "</pre>\n"
      ],
      "text/plain": [
       "\u001b[32mDEBUG   \u001b[0m Function get_youtube_video_data from youtube_tools added to LLM.                                          \n"
      ]
     },
     "metadata": {},
     "output_type": "display_data"
    },
    {
     "data": {
      "text/html": [
       "<pre style=\"white-space:pre;overflow-x:auto;line-height:normal;font-family:Menlo,'DejaVu Sans Mono',consolas,'Courier New',monospace\"><span style=\"color: #008000; text-decoration-color: #008000\">DEBUG   </span> ---------- Groq Response Start ----------                                                                 \n",
       "</pre>\n"
      ],
      "text/plain": [
       "\u001b[32mDEBUG   \u001b[0m ---------- Groq Response Start ----------                                                                 \n"
      ]
     },
     "metadata": {},
     "output_type": "display_data"
    },
    {
     "data": {
      "text/html": [
       "<pre style=\"white-space:pre;overflow-x:auto;line-height:normal;font-family:Menlo,'DejaVu Sans Mono',consolas,'Courier New',monospace\"><span style=\"color: #008000; text-decoration-color: #008000\">DEBUG   </span> ============== system ==============                                                                      \n",
       "</pre>\n"
      ],
      "text/plain": [
       "\u001b[32mDEBUG   \u001b[0m ============== system ==============                                                                      \n"
      ]
     },
     "metadata": {},
     "output_type": "display_data"
    },
    {
     "data": {
      "text/html": [
       "<pre style=\"white-space:pre;overflow-x:auto;line-height:normal;font-family:Menlo,'DejaVu Sans Mono',consolas,'Courier New',monospace\"><span style=\"color: #008000; text-decoration-color: #008000\">DEBUG   </span> You are a YouTube assistant. Obtain the captions of a YouTube video and answer questions.                 \n",
       "         You must follow these instructions carefully:                                                             \n",
       "         <span style=\"font-weight: bold\">&lt;</span><span style=\"color: #ff00ff; text-decoration-color: #ff00ff; font-weight: bold\">instructions</span><span style=\"color: #000000; text-decoration-color: #000000\">&gt;</span>                                                                                            \n",
       "         <span style=\"color: #008080; text-decoration-color: #008080; font-weight: bold\">1</span><span style=\"color: #000000; text-decoration-color: #000000\">. Use markdown to format your answers.</span>                                                                   \n",
       "         <span style=\"color: #000000; text-decoration-color: #000000\">&lt;</span><span style=\"color: #800080; text-decoration-color: #800080\">/</span><span style=\"color: #ff00ff; text-decoration-color: #ff00ff\">instructions</span><span style=\"font-weight: bold\">&gt;</span>                                                                                           \n",
       "</pre>\n"
      ],
      "text/plain": [
       "\u001b[32mDEBUG   \u001b[0m You are a YouTube assistant. Obtain the captions of a YouTube video and answer questions.                 \n",
       "         You must follow these instructions carefully:                                                             \n",
       "         \u001b[1m<\u001b[0m\u001b[1;95minstructions\u001b[0m\u001b[39m>\u001b[0m                                                                                            \n",
       "         \u001b[1;36m1\u001b[0m\u001b[39m. Use markdown to format your answers.\u001b[0m                                                                   \n",
       "         \u001b[39m<\u001b[0m\u001b[35m/\u001b[0m\u001b[95minstructions\u001b[0m\u001b[1m>\u001b[0m                                                                                           \n"
      ]
     },
     "metadata": {},
     "output_type": "display_data"
    },
    {
     "data": {
      "text/html": [
       "<pre style=\"white-space:pre;overflow-x:auto;line-height:normal;font-family:Menlo,'DejaVu Sans Mono',consolas,'Courier New',monospace\"><span style=\"color: #008000; text-decoration-color: #008000\">DEBUG   </span> ============== user ==============                                                                        \n",
       "</pre>\n"
      ],
      "text/plain": [
       "\u001b[32mDEBUG   \u001b[0m ============== user ==============                                                                        \n"
      ]
     },
     "metadata": {},
     "output_type": "display_data"
    },
    {
     "data": {
      "text/html": [
       "<pre style=\"white-space:pre;overflow-x:auto;line-height:normal;font-family:Menlo,'DejaVu Sans Mono',consolas,'Courier New',monospace\"><span style=\"color: #008000; text-decoration-color: #008000\">DEBUG   </span> Summarize this video <span style=\"color: #0000ff; text-decoration-color: #0000ff; text-decoration: underline\">https://www.youtube.com/watch?v=oMfhNnmSxUU</span>                                          \n",
       "</pre>\n"
      ],
      "text/plain": [
       "\u001b[32mDEBUG   \u001b[0m Summarize this video \u001b[4;94mhttps://www.youtube.com/watch?\u001b[0m\u001b[4;94mv\u001b[0m\u001b[4;94m=\u001b[0m\u001b[4;94moMfhNnmSxUU\u001b[0m                                          \n"
      ]
     },
     "metadata": {},
     "output_type": "display_data"
    },
    {
     "data": {
      "application/vnd.jupyter.widget-view+json": {
       "model_id": "a45af5d46ab04ebd99768819ba3c3c1a",
       "version_major": 2,
       "version_minor": 0
      },
      "text/plain": [
       "Output()"
      ]
     },
     "metadata": {},
     "output_type": "display_data"
    },
    {
     "data": {
      "text/html": [
       "<pre style=\"white-space:pre;overflow-x:auto;line-height:normal;font-family:Menlo,'DejaVu Sans Mono',consolas,'Courier New',monospace\"><span style=\"color: #008000; text-decoration-color: #008000\">DEBUG   </span> Time to generate response: <span style=\"color: #008080; text-decoration-color: #008080; font-weight: bold\">0.</span>9203s                                                                        \n",
       "</pre>\n"
      ],
      "text/plain": [
       "\u001b[32mDEBUG   \u001b[0m Time to generate response: \u001b[1;36m0.\u001b[0m9203s                                                                        \n"
      ]
     },
     "metadata": {},
     "output_type": "display_data"
    },
    {
     "data": {
      "text/html": [
       "<pre style=\"white-space:pre;overflow-x:auto;line-height:normal;font-family:Menlo,'DejaVu Sans Mono',consolas,'Courier New',monospace\"><span style=\"color: #008000; text-decoration-color: #008000\">DEBUG   </span> ============== assistant ==============                                                                   \n",
       "</pre>\n"
      ],
      "text/plain": [
       "\u001b[32mDEBUG   \u001b[0m ============== assistant ==============                                                                   \n"
      ]
     },
     "metadata": {},
     "output_type": "display_data"
    },
    {
     "data": {
      "text/html": [
       "<pre style=\"white-space:pre;overflow-x:auto;line-height:normal;font-family:Menlo,'DejaVu Sans Mono',consolas,'Courier New',monospace\"><span style=\"color: #008000; text-decoration-color: #008000\">DEBUG   </span> Tool Calls: <span style=\"font-weight: bold\">[</span>                                                                                             \n",
       "           <span style=\"font-weight: bold\">{</span>                                                                                                       \n",
       "             <span style=\"color: #008000; text-decoration-color: #008000\">\"index\"</span>: <span style=\"color: #008080; text-decoration-color: #008080; font-weight: bold\">0</span>,                                                                                           \n",
       "             <span style=\"color: #008000; text-decoration-color: #008000\">\"id\"</span>: <span style=\"color: #008000; text-decoration-color: #008000\">\"call_exg9\"</span>,                                                                                    \n",
       "             <span style=\"color: #008000; text-decoration-color: #008000\">\"function\"</span>: <span style=\"font-weight: bold\">{</span>                                                                                         \n",
       "               <span style=\"color: #008000; text-decoration-color: #008000\">\"arguments\"</span>: <span style=\"color: #008000; text-decoration-color: #008000\">\"{\\\"url\\\":\\\"https://www.youtube.com/watch?v=oMfhNnmSxUU\\\"}\"</span>,                           \n",
       "               <span style=\"color: #008000; text-decoration-color: #008000\">\"name\"</span>: <span style=\"color: #008000; text-decoration-color: #008000\">\"get_youtube_video_captions\"</span>                                                                \n",
       "             <span style=\"font-weight: bold\">}</span>,                                                                                                    \n",
       "             <span style=\"color: #008000; text-decoration-color: #008000\">\"type\"</span>: <span style=\"color: #008000; text-decoration-color: #008000\">\"function\"</span>                                                                                    \n",
       "           <span style=\"font-weight: bold\">}</span>                                                                                                       \n",
       "         <span style=\"font-weight: bold\">]</span>                                                                                                         \n",
       "</pre>\n"
      ],
      "text/plain": [
       "\u001b[32mDEBUG   \u001b[0m Tool Calls: \u001b[1m[\u001b[0m                                                                                             \n",
       "           \u001b[1m{\u001b[0m                                                                                                       \n",
       "             \u001b[32m\"index\"\u001b[0m: \u001b[1;36m0\u001b[0m,                                                                                           \n",
       "             \u001b[32m\"id\"\u001b[0m: \u001b[32m\"call_exg9\"\u001b[0m,                                                                                    \n",
       "             \u001b[32m\"function\"\u001b[0m: \u001b[1m{\u001b[0m                                                                                         \n",
       "               \u001b[32m\"arguments\"\u001b[0m: \u001b[32m\"\u001b[0m\u001b[32m{\u001b[0m\u001b[32m\\\"url\\\":\\\"https://www.youtube.com/watch?\u001b[0m\u001b[32mv\u001b[0m\u001b[32m=\u001b[0m\u001b[32moMfhNnmSxUU\u001b[0m\u001b[32m\\\"\u001b[0m\u001b[32m}\u001b[0m\u001b[32m\"\u001b[0m,                           \n",
       "               \u001b[32m\"name\"\u001b[0m: \u001b[32m\"get_youtube_video_captions\"\u001b[0m                                                                \n",
       "             \u001b[1m}\u001b[0m,                                                                                                    \n",
       "             \u001b[32m\"type\"\u001b[0m: \u001b[32m\"function\"\u001b[0m                                                                                    \n",
       "           \u001b[1m}\u001b[0m                                                                                                       \n",
       "         \u001b[1m]\u001b[0m                                                                                                         \n"
      ]
     },
     "metadata": {},
     "output_type": "display_data"
    },
    {
     "data": {
      "text/html": [
       "<pre style=\"white-space:pre;overflow-x:auto;line-height:normal;font-family:Menlo,'DejaVu Sans Mono',consolas,'Courier New',monospace\"><span style=\"color: #008000; text-decoration-color: #008000\">DEBUG   </span> Getting function get_youtube_video_captions                                                               \n",
       "</pre>\n"
      ],
      "text/plain": [
       "\u001b[32mDEBUG   \u001b[0m Getting function get_youtube_video_captions                                                               \n"
      ]
     },
     "metadata": {},
     "output_type": "display_data"
    },
    {
     "data": {
      "text/html": [
       "<pre style=\"white-space:pre;overflow-x:auto;line-height:normal;font-family:Menlo,'DejaVu Sans Mono',consolas,'Courier New',monospace\"><span style=\"color: #008000; text-decoration-color: #008000\">DEBUG   </span> Running: <span style=\"color: #800080; text-decoration-color: #800080; font-weight: bold\">get_youtube_video_captions</span><span style=\"font-weight: bold\">(</span><span style=\"color: #808000; text-decoration-color: #808000\">url</span>=<span style=\"color: #0000ff; text-decoration-color: #0000ff; text-decoration: underline\">https://www.youtube.com/watch?v=oMfhNnmSxUU)</span>                      \n",
       "</pre>\n"
      ],
      "text/plain": [
       "\u001b[32mDEBUG   \u001b[0m Running: \u001b[1;35mget_youtube_video_captions\u001b[0m\u001b[1m(\u001b[0m\u001b[33murl\u001b[0m=\u001b[4;94mhttps\u001b[0m\u001b[4;94m://www.youtube.com/watch?\u001b[0m\u001b[4;94mv\u001b[0m\u001b[4;94m=\u001b[0m\u001b[4;94moMfhNnmSxUU\u001b[0m\u001b[4;94m)\u001b[0m                      \n"
      ]
     },
     "metadata": {},
     "output_type": "display_data"
    },
    {
     "data": {
      "text/html": [
       "<pre style=\"white-space:pre;overflow-x:auto;line-height:normal;font-family:Menlo,'DejaVu Sans Mono',consolas,'Courier New',monospace\"><span style=\"color: #008000; text-decoration-color: #008000\">DEBUG   </span> ---------- Groq Response Start ----------                                                                 \n",
       "</pre>\n"
      ],
      "text/plain": [
       "\u001b[32mDEBUG   \u001b[0m ---------- Groq Response Start ----------                                                                 \n"
      ]
     },
     "metadata": {},
     "output_type": "display_data"
    },
    {
     "data": {
      "text/html": [
       "<pre style=\"white-space:pre;overflow-x:auto;line-height:normal;font-family:Menlo,'DejaVu Sans Mono',consolas,'Courier New',monospace\"><span style=\"color: #008000; text-decoration-color: #008000\">DEBUG   </span> ============== system ==============                                                                      \n",
       "</pre>\n"
      ],
      "text/plain": [
       "\u001b[32mDEBUG   \u001b[0m ============== system ==============                                                                      \n"
      ]
     },
     "metadata": {},
     "output_type": "display_data"
    },
    {
     "data": {
      "text/html": [
       "<pre style=\"white-space:pre;overflow-x:auto;line-height:normal;font-family:Menlo,'DejaVu Sans Mono',consolas,'Courier New',monospace\"><span style=\"color: #008000; text-decoration-color: #008000\">DEBUG   </span> You are a YouTube assistant. Obtain the captions of a YouTube video and answer questions.                 \n",
       "         You must follow these instructions carefully:                                                             \n",
       "         <span style=\"font-weight: bold\">&lt;</span><span style=\"color: #ff00ff; text-decoration-color: #ff00ff; font-weight: bold\">instructions</span><span style=\"color: #000000; text-decoration-color: #000000\">&gt;</span>                                                                                            \n",
       "         <span style=\"color: #008080; text-decoration-color: #008080; font-weight: bold\">1</span><span style=\"color: #000000; text-decoration-color: #000000\">. Use markdown to format your answers.</span>                                                                   \n",
       "         <span style=\"color: #000000; text-decoration-color: #000000\">&lt;</span><span style=\"color: #800080; text-decoration-color: #800080\">/</span><span style=\"color: #ff00ff; text-decoration-color: #ff00ff\">instructions</span><span style=\"font-weight: bold\">&gt;</span>                                                                                           \n",
       "</pre>\n"
      ],
      "text/plain": [
       "\u001b[32mDEBUG   \u001b[0m You are a YouTube assistant. Obtain the captions of a YouTube video and answer questions.                 \n",
       "         You must follow these instructions carefully:                                                             \n",
       "         \u001b[1m<\u001b[0m\u001b[1;95minstructions\u001b[0m\u001b[39m>\u001b[0m                                                                                            \n",
       "         \u001b[1;36m1\u001b[0m\u001b[39m. Use markdown to format your answers.\u001b[0m                                                                   \n",
       "         \u001b[39m<\u001b[0m\u001b[35m/\u001b[0m\u001b[95minstructions\u001b[0m\u001b[1m>\u001b[0m                                                                                           \n"
      ]
     },
     "metadata": {},
     "output_type": "display_data"
    },
    {
     "data": {
      "text/html": [
       "<pre style=\"white-space:pre;overflow-x:auto;line-height:normal;font-family:Menlo,'DejaVu Sans Mono',consolas,'Courier New',monospace\"><span style=\"color: #008000; text-decoration-color: #008000\">DEBUG   </span> ============== user ==============                                                                        \n",
       "</pre>\n"
      ],
      "text/plain": [
       "\u001b[32mDEBUG   \u001b[0m ============== user ==============                                                                        \n"
      ]
     },
     "metadata": {},
     "output_type": "display_data"
    },
    {
     "data": {
      "text/html": [
       "<pre style=\"white-space:pre;overflow-x:auto;line-height:normal;font-family:Menlo,'DejaVu Sans Mono',consolas,'Courier New',monospace\"><span style=\"color: #008000; text-decoration-color: #008000\">DEBUG   </span> Summarize this video <span style=\"color: #0000ff; text-decoration-color: #0000ff; text-decoration: underline\">https://www.youtube.com/watch?v=oMfhNnmSxUU</span>                                          \n",
       "</pre>\n"
      ],
      "text/plain": [
       "\u001b[32mDEBUG   \u001b[0m Summarize this video \u001b[4;94mhttps://www.youtube.com/watch?\u001b[0m\u001b[4;94mv\u001b[0m\u001b[4;94m=\u001b[0m\u001b[4;94moMfhNnmSxUU\u001b[0m                                          \n"
      ]
     },
     "metadata": {},
     "output_type": "display_data"
    },
    {
     "data": {
      "text/html": [
       "<pre style=\"white-space:pre;overflow-x:auto;line-height:normal;font-family:Menlo,'DejaVu Sans Mono',consolas,'Courier New',monospace\"><span style=\"color: #008000; text-decoration-color: #008000\">DEBUG   </span> ============== assistant ==============                                                                   \n",
       "</pre>\n"
      ],
      "text/plain": [
       "\u001b[32mDEBUG   \u001b[0m ============== assistant ==============                                                                   \n"
      ]
     },
     "metadata": {},
     "output_type": "display_data"
    },
    {
     "data": {
      "text/html": [
       "<pre style=\"white-space:pre;overflow-x:auto;line-height:normal;font-family:Menlo,'DejaVu Sans Mono',consolas,'Courier New',monospace\"><span style=\"color: #008000; text-decoration-color: #008000\">DEBUG   </span> Tool Calls: <span style=\"font-weight: bold\">[</span>                                                                                             \n",
       "           <span style=\"font-weight: bold\">{</span>                                                                                                       \n",
       "             <span style=\"color: #008000; text-decoration-color: #008000\">\"index\"</span>: <span style=\"color: #008080; text-decoration-color: #008080; font-weight: bold\">0</span>,                                                                                           \n",
       "             <span style=\"color: #008000; text-decoration-color: #008000\">\"id\"</span>: <span style=\"color: #008000; text-decoration-color: #008000\">\"call_exg9\"</span>,                                                                                    \n",
       "             <span style=\"color: #008000; text-decoration-color: #008000\">\"function\"</span>: <span style=\"font-weight: bold\">{</span>                                                                                         \n",
       "               <span style=\"color: #008000; text-decoration-color: #008000\">\"arguments\"</span>: <span style=\"color: #008000; text-decoration-color: #008000\">\"{\\\"url\\\":\\\"https://www.youtube.com/watch?v=oMfhNnmSxUU\\\"}\"</span>,                           \n",
       "               <span style=\"color: #008000; text-decoration-color: #008000\">\"name\"</span>: <span style=\"color: #008000; text-decoration-color: #008000\">\"get_youtube_video_captions\"</span>                                                                \n",
       "             <span style=\"font-weight: bold\">}</span>,                                                                                                    \n",
       "             <span style=\"color: #008000; text-decoration-color: #008000\">\"type\"</span>: <span style=\"color: #008000; text-decoration-color: #008000\">\"function\"</span>                                                                                    \n",
       "           <span style=\"font-weight: bold\">}</span>                                                                                                       \n",
       "         <span style=\"font-weight: bold\">]</span>                                                                                                         \n",
       "</pre>\n"
      ],
      "text/plain": [
       "\u001b[32mDEBUG   \u001b[0m Tool Calls: \u001b[1m[\u001b[0m                                                                                             \n",
       "           \u001b[1m{\u001b[0m                                                                                                       \n",
       "             \u001b[32m\"index\"\u001b[0m: \u001b[1;36m0\u001b[0m,                                                                                           \n",
       "             \u001b[32m\"id\"\u001b[0m: \u001b[32m\"call_exg9\"\u001b[0m,                                                                                    \n",
       "             \u001b[32m\"function\"\u001b[0m: \u001b[1m{\u001b[0m                                                                                         \n",
       "               \u001b[32m\"arguments\"\u001b[0m: \u001b[32m\"\u001b[0m\u001b[32m{\u001b[0m\u001b[32m\\\"url\\\":\\\"https://www.youtube.com/watch?\u001b[0m\u001b[32mv\u001b[0m\u001b[32m=\u001b[0m\u001b[32moMfhNnmSxUU\u001b[0m\u001b[32m\\\"\u001b[0m\u001b[32m}\u001b[0m\u001b[32m\"\u001b[0m,                           \n",
       "               \u001b[32m\"name\"\u001b[0m: \u001b[32m\"get_youtube_video_captions\"\u001b[0m                                                                \n",
       "             \u001b[1m}\u001b[0m,                                                                                                    \n",
       "             \u001b[32m\"type\"\u001b[0m: \u001b[32m\"function\"\u001b[0m                                                                                    \n",
       "           \u001b[1m}\u001b[0m                                                                                                       \n",
       "         \u001b[1m]\u001b[0m                                                                                                         \n"
      ]
     },
     "metadata": {},
     "output_type": "display_data"
    },
    {
     "data": {
      "text/html": [
       "<pre style=\"white-space:pre;overflow-x:auto;line-height:normal;font-family:Menlo,'DejaVu Sans Mono',consolas,'Courier New',monospace\"><span style=\"color: #008000; text-decoration-color: #008000\">DEBUG   </span> ============== tool ==============                                                                        \n",
       "</pre>\n"
      ],
      "text/plain": [
       "\u001b[32mDEBUG   \u001b[0m ============== tool ==============                                                                        \n"
      ]
     },
     "metadata": {},
     "output_type": "display_data"
    },
    {
     "data": {
      "text/html": [
       "<pre style=\"white-space:pre;overflow-x:auto;line-height:normal;font-family:Menlo,'DejaVu Sans Mono',consolas,'Courier New',monospace\"><span style=\"color: #008000; text-decoration-color: #008000\">DEBUG   </span> Call Id: call_exg9                                                                                        \n",
       "</pre>\n"
      ],
      "text/plain": [
       "\u001b[32mDEBUG   \u001b[0m Call Id: call_exg9                                                                                        \n"
      ]
     },
     "metadata": {},
     "output_type": "display_data"
    },
    {
     "data": {
      "text/html": [
       "<pre style=\"white-space:pre;overflow-x:auto;line-height:normal;font-family:Menlo,'DejaVu Sans Mono',consolas,'Courier New',monospace\"><span style=\"color: #008000; text-decoration-color: #008000\">DEBUG   </span> Error getting captions for video:                                                                         \n",
       "         Could not retrieve a transcript for the video <span style=\"color: #0000ff; text-decoration-color: #0000ff; text-decoration: underline\">https://www.youtube.com/watch?v=oMfhNnmSxUU!</span> This is most   \n",
       "         likely caused by:                                                                                         \n",
       "                                                                                                                   \n",
       "         No transcripts were found for any of the requested language codes: <span style=\"font-weight: bold\">(</span><span style=\"color: #008000; text-decoration-color: #008000\">'en'</span>,<span style=\"font-weight: bold\">)</span>                                \n",
       "                                                                                                                   \n",
       "         For this video <span style=\"font-weight: bold\">(</span>oMfhNnmSxUU<span style=\"font-weight: bold\">)</span> transcripts are available in the following languages:                        \n",
       "                                                                                                                   \n",
       "         <span style=\"font-weight: bold\">(</span>MANUALLY CREATED<span style=\"font-weight: bold\">)</span>                                                                                        \n",
       "         <span style=\"color: #800080; text-decoration-color: #800080; font-style: italic\">None</span>                                                                                                      \n",
       "                                                                                                                   \n",
       "         <span style=\"font-weight: bold\">(</span>GENERATED<span style=\"font-weight: bold\">)</span>                                                                                               \n",
       "          - hi <span style=\"font-weight: bold\">(</span><span style=\"color: #008000; text-decoration-color: #008000\">\"Hindi (auto-generated)\"</span><span style=\"font-weight: bold\">)[</span>TRANSLATABLE<span style=\"font-weight: bold\">]</span>                                                            \n",
       "                                                                                                                   \n",
       "         <span style=\"font-weight: bold\">(</span>TRANSLATION LANGUAGES<span style=\"font-weight: bold\">)</span>                                                                                   \n",
       "          - ab <span style=\"font-weight: bold\">(</span><span style=\"color: #008000; text-decoration-color: #008000\">\"Abkhazian\"</span><span style=\"font-weight: bold\">)</span>                                                                                       \n",
       "          - aa <span style=\"font-weight: bold\">(</span><span style=\"color: #008000; text-decoration-color: #008000\">\"Afar\"</span><span style=\"font-weight: bold\">)</span>                                                                                            \n",
       "          - af <span style=\"font-weight: bold\">(</span><span style=\"color: #008000; text-decoration-color: #008000\">\"Afrikaans\"</span><span style=\"font-weight: bold\">)</span>                                                                                       \n",
       "          - ak <span style=\"font-weight: bold\">(</span><span style=\"color: #008000; text-decoration-color: #008000\">\"Akan\"</span><span style=\"font-weight: bold\">)</span>                                                                                            \n",
       "          - sq <span style=\"font-weight: bold\">(</span><span style=\"color: #008000; text-decoration-color: #008000\">\"Albanian\"</span><span style=\"font-weight: bold\">)</span>                                                                                        \n",
       "          - am <span style=\"font-weight: bold\">(</span><span style=\"color: #008000; text-decoration-color: #008000\">\"Amharic\"</span><span style=\"font-weight: bold\">)</span>                                                                                         \n",
       "          - ar <span style=\"font-weight: bold\">(</span><span style=\"color: #008000; text-decoration-color: #008000\">\"Arabic\"</span><span style=\"font-weight: bold\">)</span>                                                                                          \n",
       "          - hy <span style=\"font-weight: bold\">(</span><span style=\"color: #008000; text-decoration-color: #008000\">\"Armenian\"</span><span style=\"font-weight: bold\">)</span>                                                                                        \n",
       "          - as <span style=\"font-weight: bold\">(</span><span style=\"color: #008000; text-decoration-color: #008000\">\"Assamese\"</span><span style=\"font-weight: bold\">)</span>                                                                                        \n",
       "          - ay <span style=\"font-weight: bold\">(</span><span style=\"color: #008000; text-decoration-color: #008000\">\"Aymara\"</span><span style=\"font-weight: bold\">)</span>                                                                                          \n",
       "          - az <span style=\"font-weight: bold\">(</span><span style=\"color: #008000; text-decoration-color: #008000\">\"Azerbaijani\"</span><span style=\"font-weight: bold\">)</span>                                                                                     \n",
       "          - bn <span style=\"font-weight: bold\">(</span><span style=\"color: #008000; text-decoration-color: #008000\">\"Bangla\"</span><span style=\"font-weight: bold\">)</span>                                                                                          \n",
       "          - ba <span style=\"font-weight: bold\">(</span><span style=\"color: #008000; text-decoration-color: #008000\">\"Bashkir\"</span><span style=\"font-weight: bold\">)</span>                                                                                         \n",
       "          - eu <span style=\"font-weight: bold\">(</span><span style=\"color: #008000; text-decoration-color: #008000\">\"Basque\"</span><span style=\"font-weight: bold\">)</span>                                                                                          \n",
       "          - be <span style=\"font-weight: bold\">(</span><span style=\"color: #008000; text-decoration-color: #008000\">\"Belarusian\"</span><span style=\"font-weight: bold\">)</span>                                                                                      \n",
       "          - bho <span style=\"font-weight: bold\">(</span><span style=\"color: #008000; text-decoration-color: #008000\">\"Bhojpuri\"</span><span style=\"font-weight: bold\">)</span>                                                                                       \n",
       "          - bs <span style=\"font-weight: bold\">(</span><span style=\"color: #008000; text-decoration-color: #008000\">\"Bosnian\"</span><span style=\"font-weight: bold\">)</span>                                                                                         \n",
       "          - br <span style=\"font-weight: bold\">(</span><span style=\"color: #008000; text-decoration-color: #008000\">\"Breton\"</span><span style=\"font-weight: bold\">)</span>                                                                                          \n",
       "          - bg <span style=\"font-weight: bold\">(</span><span style=\"color: #008000; text-decoration-color: #008000\">\"Bulgarian\"</span><span style=\"font-weight: bold\">)</span>                                                                                       \n",
       "          - my <span style=\"font-weight: bold\">(</span><span style=\"color: #008000; text-decoration-color: #008000\">\"Burmese\"</span><span style=\"font-weight: bold\">)</span>                                                                                         \n",
       "          - ca <span style=\"font-weight: bold\">(</span><span style=\"color: #008000; text-decoration-color: #008000\">\"Catalan\"</span><span style=\"font-weight: bold\">)</span>                                                                                         \n",
       "          - ceb <span style=\"font-weight: bold\">(</span><span style=\"color: #008000; text-decoration-color: #008000\">\"Cebuano\"</span><span style=\"font-weight: bold\">)</span>                                                                                        \n",
       "          - zh-Hans <span style=\"font-weight: bold\">(</span><span style=\"color: #008000; text-decoration-color: #008000\">\"Chinese (Simplified)\"</span><span style=\"font-weight: bold\">)</span>                                                                       \n",
       "          - zh-Hant <span style=\"font-weight: bold\">(</span><span style=\"color: #008000; text-decoration-color: #008000\">\"Chinese (Traditional)\"</span><span style=\"font-weight: bold\">)</span>                                                                      \n",
       "          - co <span style=\"font-weight: bold\">(</span><span style=\"color: #008000; text-decoration-color: #008000\">\"Corsican\"</span><span style=\"font-weight: bold\">)</span>                                                                                        \n",
       "          - hr <span style=\"font-weight: bold\">(</span><span style=\"color: #008000; text-decoration-color: #008000\">\"Croatian\"</span><span style=\"font-weight: bold\">)</span>                                                                                        \n",
       "          - cs <span style=\"font-weight: bold\">(</span><span style=\"color: #008000; text-decoration-color: #008000\">\"Czech\"</span><span style=\"font-weight: bold\">)</span>                                                                                           \n",
       "          - da <span style=\"font-weight: bold\">(</span><span style=\"color: #008000; text-decoration-color: #008000\">\"Danish\"</span><span style=\"font-weight: bold\">)</span>                                                                                          \n",
       "          - dv <span style=\"font-weight: bold\">(</span><span style=\"color: #008000; text-decoration-color: #008000\">\"Divehi\"</span><span style=\"font-weight: bold\">)</span>                                                                                          \n",
       "          - nl <span style=\"font-weight: bold\">(</span><span style=\"color: #008000; text-decoration-color: #008000\">\"Dutch\"</span><span style=\"font-weight: bold\">)</span>                                                                                           \n",
       "          - dz <span style=\"font-weight: bold\">(</span><span style=\"color: #008000; text-decoration-color: #008000\">\"Dzongkha\"</span><span style=\"font-weight: bold\">)</span>                                                                                        \n",
       "          - en <span style=\"font-weight: bold\">(</span><span style=\"color: #008000; text-decoration-color: #008000\">\"English\"</span><span style=\"font-weight: bold\">)</span>                                                                                         \n",
       "          - eo <span style=\"font-weight: bold\">(</span><span style=\"color: #008000; text-decoration-color: #008000\">\"Esperanto\"</span><span style=\"font-weight: bold\">)</span>                                                                                       \n",
       "          - et <span style=\"font-weight: bold\">(</span><span style=\"color: #008000; text-decoration-color: #008000\">\"Estonian\"</span><span style=\"font-weight: bold\">)</span>                                                                                        \n",
       "          - ee <span style=\"font-weight: bold\">(</span><span style=\"color: #008000; text-decoration-color: #008000\">\"Ewe\"</span><span style=\"font-weight: bold\">)</span>                                                                                             \n",
       "          - fo <span style=\"font-weight: bold\">(</span><span style=\"color: #008000; text-decoration-color: #008000\">\"Faroese\"</span><span style=\"font-weight: bold\">)</span>                                                                                         \n",
       "          - fj <span style=\"font-weight: bold\">(</span><span style=\"color: #008000; text-decoration-color: #008000\">\"Fijian\"</span><span style=\"font-weight: bold\">)</span>                                                                                          \n",
       "          - fil <span style=\"font-weight: bold\">(</span><span style=\"color: #008000; text-decoration-color: #008000\">\"Filipino\"</span><span style=\"font-weight: bold\">)</span>                                                                                       \n",
       "          - fi <span style=\"font-weight: bold\">(</span><span style=\"color: #008000; text-decoration-color: #008000\">\"Finnish\"</span><span style=\"font-weight: bold\">)</span>                                                                                         \n",
       "          - fr <span style=\"font-weight: bold\">(</span><span style=\"color: #008000; text-decoration-color: #008000\">\"French\"</span><span style=\"font-weight: bold\">)</span>                                                                                          \n",
       "          - gaa <span style=\"font-weight: bold\">(</span><span style=\"color: #008000; text-decoration-color: #008000\">\"Ga\"</span><span style=\"font-weight: bold\">)</span>                                                                                             \n",
       "          - gl <span style=\"font-weight: bold\">(</span><span style=\"color: #008000; text-decoration-color: #008000\">\"Galician\"</span><span style=\"font-weight: bold\">)</span>                                                                                        \n",
       "          - lg <span style=\"font-weight: bold\">(</span><span style=\"color: #008000; text-decoration-color: #008000\">\"Ganda\"</span><span style=\"font-weight: bold\">)</span>                                                                                           \n",
       "          - ka <span style=\"font-weight: bold\">(</span><span style=\"color: #008000; text-decoration-color: #008000\">\"Georgian\"</span><span style=\"font-weight: bold\">)</span>                                                                                        \n",
       "          - de <span style=\"font-weight: bold\">(</span><span style=\"color: #008000; text-decoration-color: #008000\">\"German\"</span><span style=\"font-weight: bold\">)</span>                                                                                          \n",
       "          - el <span style=\"font-weight: bold\">(</span><span style=\"color: #008000; text-decoration-color: #008000\">\"Greek\"</span><span style=\"font-weight: bold\">)</span>                                                                                           \n",
       "          - gn <span style=\"font-weight: bold\">(</span><span style=\"color: #008000; text-decoration-color: #008000\">\"Guarani\"</span><span style=\"font-weight: bold\">)</span>                                                                                         \n",
       "          - gu <span style=\"font-weight: bold\">(</span><span style=\"color: #008000; text-decoration-color: #008000\">\"Gujarati\"</span><span style=\"font-weight: bold\">)</span>                                                                                        \n",
       "          - ht <span style=\"font-weight: bold\">(</span><span style=\"color: #008000; text-decoration-color: #008000\">\"Haitian Creole\"</span><span style=\"font-weight: bold\">)</span>                                                                                  \n",
       "          - ha <span style=\"font-weight: bold\">(</span><span style=\"color: #008000; text-decoration-color: #008000\">\"Hausa\"</span><span style=\"font-weight: bold\">)</span>                                                                                           \n",
       "          - haw <span style=\"font-weight: bold\">(</span><span style=\"color: #008000; text-decoration-color: #008000\">\"Hawaiian\"</span><span style=\"font-weight: bold\">)</span>                                                                                       \n",
       "          - iw <span style=\"font-weight: bold\">(</span><span style=\"color: #008000; text-decoration-color: #008000\">\"Hebrew\"</span><span style=\"font-weight: bold\">)</span>                                                                                          \n",
       "          - hi <span style=\"font-weight: bold\">(</span><span style=\"color: #008000; text-decoration-color: #008000\">\"Hindi\"</span><span style=\"font-weight: bold\">)</span>                                                                                           \n",
       "          - hmn <span style=\"font-weight: bold\">(</span><span style=\"color: #008000; text-decoration-color: #008000\">\"Hmong\"</span><span style=\"font-weight: bold\">)</span>                                                                                          \n",
       "          - hu <span style=\"font-weight: bold\">(</span><span style=\"color: #008000; text-decoration-color: #008000\">\"Hungarian\"</span><span style=\"font-weight: bold\">)</span>                                                                                       \n",
       "          - is <span style=\"font-weight: bold\">(</span><span style=\"color: #008000; text-decoration-color: #008000\">\"Icelandic\"</span><span style=\"font-weight: bold\">)</span>                                                                                       \n",
       "          - ig <span style=\"font-weight: bold\">(</span><span style=\"color: #008000; text-decoration-color: #008000\">\"Igbo\"</span><span style=\"font-weight: bold\">)</span>                                                                                            \n",
       "          - id <span style=\"font-weight: bold\">(</span><span style=\"color: #008000; text-decoration-color: #008000\">\"Indonesian\"</span><span style=\"font-weight: bold\">)</span>                                                                                      \n",
       "          - ga <span style=\"font-weight: bold\">(</span><span style=\"color: #008000; text-decoration-color: #008000\">\"Irish\"</span><span style=\"font-weight: bold\">)</span>                                                                                           \n",
       "          - it <span style=\"font-weight: bold\">(</span><span style=\"color: #008000; text-decoration-color: #008000\">\"Italian\"</span><span style=\"font-weight: bold\">)</span>                                                                                         \n",
       "          - ja <span style=\"font-weight: bold\">(</span><span style=\"color: #008000; text-decoration-color: #008000\">\"Japanese\"</span><span style=\"font-weight: bold\">)</span>                                                                                        \n",
       "          - jv <span style=\"font-weight: bold\">(</span><span style=\"color: #008000; text-decoration-color: #008000\">\"Javanese\"</span><span style=\"font-weight: bold\">)</span>                                                                                        \n",
       "          - kl <span style=\"font-weight: bold\">(</span><span style=\"color: #008000; text-decoration-color: #008000\">\"Kalaallisut\"</span><span style=\"font-weight: bold\">)</span>                                                                                     \n",
       "          - kn <span style=\"font-weight: bold\">(</span><span style=\"color: #008000; text-decoration-color: #008000\">\"Kannada\"</span><span style=\"font-weight: bold\">)</span>                                                                                         \n",
       "          - kk <span style=\"font-weight: bold\">(</span><span style=\"color: #008000; text-decoration-color: #008000\">\"Kazakh\"</span><span style=\"font-weight: bold\">)</span>                                                                                          \n",
       "          - kha <span style=\"font-weight: bold\">(</span><span style=\"color: #008000; text-decoration-color: #008000\">\"Khasi\"</span><span style=\"font-weight: bold\">)</span>                                                                                          \n",
       "          - km <span style=\"font-weight: bold\">(</span><span style=\"color: #008000; text-decoration-color: #008000\">\"Khmer\"</span><span style=\"font-weight: bold\">)</span>                                                                                           \n",
       "          - rw <span style=\"font-weight: bold\">(</span><span style=\"color: #008000; text-decoration-color: #008000\">\"Kinyarwanda\"</span><span style=\"font-weight: bold\">)</span>                                                                                     \n",
       "          - ko <span style=\"font-weight: bold\">(</span><span style=\"color: #008000; text-decoration-color: #008000\">\"Korean\"</span><span style=\"font-weight: bold\">)</span>                                                                                          \n",
       "          - kri <span style=\"font-weight: bold\">(</span><span style=\"color: #008000; text-decoration-color: #008000\">\"Krio\"</span><span style=\"font-weight: bold\">)</span>                                                                                           \n",
       "          - ku <span style=\"font-weight: bold\">(</span><span style=\"color: #008000; text-decoration-color: #008000\">\"Kurdish\"</span><span style=\"font-weight: bold\">)</span>                                                                                         \n",
       "          - ky <span style=\"font-weight: bold\">(</span><span style=\"color: #008000; text-decoration-color: #008000\">\"Kyrgyz\"</span><span style=\"font-weight: bold\">)</span>                                                                                          \n",
       "          - lo <span style=\"font-weight: bold\">(</span><span style=\"color: #008000; text-decoration-color: #008000\">\"Lao\"</span><span style=\"font-weight: bold\">)</span>                                                                                             \n",
       "          - la <span style=\"font-weight: bold\">(</span><span style=\"color: #008000; text-decoration-color: #008000\">\"Latin\"</span><span style=\"font-weight: bold\">)</span>                                                                                           \n",
       "          - lv <span style=\"font-weight: bold\">(</span><span style=\"color: #008000; text-decoration-color: #008000\">\"Latvian\"</span><span style=\"font-weight: bold\">)</span>                                                                                         \n",
       "          - ln <span style=\"font-weight: bold\">(</span><span style=\"color: #008000; text-decoration-color: #008000\">\"Lingala\"</span><span style=\"font-weight: bold\">)</span>                                                                                         \n",
       "          - lt <span style=\"font-weight: bold\">(</span><span style=\"color: #008000; text-decoration-color: #008000\">\"Lithuanian\"</span><span style=\"font-weight: bold\">)</span>                                                                                      \n",
       "          - luo <span style=\"font-weight: bold\">(</span><span style=\"color: #008000; text-decoration-color: #008000\">\"Luo\"</span><span style=\"font-weight: bold\">)</span>                                                                                            \n",
       "          - lb <span style=\"font-weight: bold\">(</span><span style=\"color: #008000; text-decoration-color: #008000\">\"Luxembourgish\"</span><span style=\"font-weight: bold\">)</span>                                                                                   \n",
       "          - mk <span style=\"font-weight: bold\">(</span><span style=\"color: #008000; text-decoration-color: #008000\">\"Macedonian\"</span><span style=\"font-weight: bold\">)</span>                                                                                      \n",
       "          - mg <span style=\"font-weight: bold\">(</span><span style=\"color: #008000; text-decoration-color: #008000\">\"Malagasy\"</span><span style=\"font-weight: bold\">)</span>                                                                                        \n",
       "          - ms <span style=\"font-weight: bold\">(</span><span style=\"color: #008000; text-decoration-color: #008000\">\"Malay\"</span><span style=\"font-weight: bold\">)</span>                                                                                           \n",
       "          - ml <span style=\"font-weight: bold\">(</span><span style=\"color: #008000; text-decoration-color: #008000\">\"Malayalam\"</span><span style=\"font-weight: bold\">)</span>                                                                                       \n",
       "          - mt <span style=\"font-weight: bold\">(</span><span style=\"color: #008000; text-decoration-color: #008000\">\"Maltese\"</span><span style=\"font-weight: bold\">)</span>                                                                                         \n",
       "          - gv <span style=\"font-weight: bold\">(</span><span style=\"color: #008000; text-decoration-color: #008000\">\"Manx\"</span><span style=\"font-weight: bold\">)</span>                                                                                            \n",
       "          - mi <span style=\"font-weight: bold\">(</span><span style=\"color: #008000; text-decoration-color: #008000\">\"Māori\"</span><span style=\"font-weight: bold\">)</span>                                                                                           \n",
       "          - mr <span style=\"font-weight: bold\">(</span><span style=\"color: #008000; text-decoration-color: #008000\">\"Marathi\"</span><span style=\"font-weight: bold\">)</span>                                                                                         \n",
       "          - mn <span style=\"font-weight: bold\">(</span><span style=\"color: #008000; text-decoration-color: #008000\">\"Mongolian\"</span><span style=\"font-weight: bold\">)</span>                                                                                       \n",
       "          - mfe <span style=\"font-weight: bold\">(</span><span style=\"color: #008000; text-decoration-color: #008000\">\"Morisyen\"</span><span style=\"font-weight: bold\">)</span>                                                                                       \n",
       "          - ne <span style=\"font-weight: bold\">(</span><span style=\"color: #008000; text-decoration-color: #008000\">\"Nepali\"</span><span style=\"font-weight: bold\">)</span>                                                                                          \n",
       "          - new <span style=\"font-weight: bold\">(</span><span style=\"color: #008000; text-decoration-color: #008000\">\"Newari\"</span><span style=\"font-weight: bold\">)</span>                                                                                         \n",
       "          - nso <span style=\"font-weight: bold\">(</span><span style=\"color: #008000; text-decoration-color: #008000\">\"Northern Sotho\"</span><span style=\"font-weight: bold\">)</span>                                                                                 \n",
       "          - no <span style=\"font-weight: bold\">(</span><span style=\"color: #008000; text-decoration-color: #008000\">\"Norwegian\"</span><span style=\"font-weight: bold\">)</span>                                                                                       \n",
       "          - ny <span style=\"font-weight: bold\">(</span><span style=\"color: #008000; text-decoration-color: #008000\">\"Nyanja\"</span><span style=\"font-weight: bold\">)</span>                                                                                          \n",
       "          - oc <span style=\"font-weight: bold\">(</span><span style=\"color: #008000; text-decoration-color: #008000\">\"Occitan\"</span><span style=\"font-weight: bold\">)</span>                                                                                         \n",
       "          - or <span style=\"font-weight: bold\">(</span><span style=\"color: #008000; text-decoration-color: #008000\">\"Odia\"</span><span style=\"font-weight: bold\">)</span>                                                                                            \n",
       "          - om <span style=\"font-weight: bold\">(</span><span style=\"color: #008000; text-decoration-color: #008000\">\"Oromo\"</span><span style=\"font-weight: bold\">)</span>                                                                                           \n",
       "          - os <span style=\"font-weight: bold\">(</span><span style=\"color: #008000; text-decoration-color: #008000\">\"Ossetic\"</span><span style=\"font-weight: bold\">)</span>                                                                                         \n",
       "          - pam <span style=\"font-weight: bold\">(</span><span style=\"color: #008000; text-decoration-color: #008000\">\"Pampanga\"</span><span style=\"font-weight: bold\">)</span>                                                                                       \n",
       "          - ps <span style=\"font-weight: bold\">(</span><span style=\"color: #008000; text-decoration-color: #008000\">\"Pashto\"</span><span style=\"font-weight: bold\">)</span>                                                                                          \n",
       "          - fa <span style=\"font-weight: bold\">(</span><span style=\"color: #008000; text-decoration-color: #008000\">\"Persian\"</span><span style=\"font-weight: bold\">)</span>                                                                                         \n",
       "          - pl <span style=\"font-weight: bold\">(</span><span style=\"color: #008000; text-decoration-color: #008000\">\"Polish\"</span><span style=\"font-weight: bold\">)</span>                                                                                          \n",
       "          - pt <span style=\"font-weight: bold\">(</span><span style=\"color: #008000; text-decoration-color: #008000\">\"Portuguese\"</span><span style=\"font-weight: bold\">)</span>                                                                                      \n",
       "          - pt-PT <span style=\"font-weight: bold\">(</span><span style=\"color: #008000; text-decoration-color: #008000\">\"Portuguese (Portugal)\"</span><span style=\"font-weight: bold\">)</span>                                                                        \n",
       "          - pa <span style=\"font-weight: bold\">(</span><span style=\"color: #008000; text-decoration-color: #008000\">\"Punjabi\"</span><span style=\"font-weight: bold\">)</span>                                                                                         \n",
       "          - qu <span style=\"font-weight: bold\">(</span><span style=\"color: #008000; text-decoration-color: #008000\">\"Quechua\"</span><span style=\"font-weight: bold\">)</span>                                                                                         \n",
       "          - ro <span style=\"font-weight: bold\">(</span><span style=\"color: #008000; text-decoration-color: #008000\">\"Romanian\"</span><span style=\"font-weight: bold\">)</span>                                                                                        \n",
       "          - rn <span style=\"font-weight: bold\">(</span><span style=\"color: #008000; text-decoration-color: #008000\">\"Rundi\"</span><span style=\"font-weight: bold\">)</span>                                                                                           \n",
       "          - ru <span style=\"font-weight: bold\">(</span><span style=\"color: #008000; text-decoration-color: #008000\">\"Russian\"</span><span style=\"font-weight: bold\">)</span>                                                                                         \n",
       "          - sm <span style=\"font-weight: bold\">(</span><span style=\"color: #008000; text-decoration-color: #008000\">\"Samoan\"</span><span style=\"font-weight: bold\">)</span>                                                                                          \n",
       "          - sg <span style=\"font-weight: bold\">(</span><span style=\"color: #008000; text-decoration-color: #008000\">\"Sango\"</span><span style=\"font-weight: bold\">)</span>                                                                                           \n",
       "          - sa <span style=\"font-weight: bold\">(</span><span style=\"color: #008000; text-decoration-color: #008000\">\"Sanskrit\"</span><span style=\"font-weight: bold\">)</span>                                                                                        \n",
       "          - gd <span style=\"font-weight: bold\">(</span><span style=\"color: #008000; text-decoration-color: #008000\">\"Scottish Gaelic\"</span><span style=\"font-weight: bold\">)</span>                                                                                 \n",
       "          - sr <span style=\"font-weight: bold\">(</span><span style=\"color: #008000; text-decoration-color: #008000\">\"Serbian\"</span><span style=\"font-weight: bold\">)</span>                                                                                         \n",
       "          - crs <span style=\"font-weight: bold\">(</span><span style=\"color: #008000; text-decoration-color: #008000\">\"Seselwa Creole French\"</span><span style=\"font-weight: bold\">)</span>                                                                          \n",
       "          - sn <span style=\"font-weight: bold\">(</span><span style=\"color: #008000; text-decoration-color: #008000\">\"Shona\"</span><span style=\"font-weight: bold\">)</span>                                                                                           \n",
       "          - sd <span style=\"font-weight: bold\">(</span><span style=\"color: #008000; text-decoration-color: #008000\">\"Sindhi\"</span><span style=\"font-weight: bold\">)</span>                                                                                          \n",
       "          - si <span style=\"font-weight: bold\">(</span><span style=\"color: #008000; text-decoration-color: #008000\">\"Sinhala\"</span><span style=\"font-weight: bold\">)</span>                                                                                         \n",
       "          - sk <span style=\"font-weight: bold\">(</span><span style=\"color: #008000; text-decoration-color: #008000\">\"Slovak\"</span><span style=\"font-weight: bold\">)</span>                                                                                          \n",
       "          - sl <span style=\"font-weight: bold\">(</span><span style=\"color: #008000; text-decoration-color: #008000\">\"Slovenian\"</span><span style=\"font-weight: bold\">)</span>                                                                                       \n",
       "          - so <span style=\"font-weight: bold\">(</span><span style=\"color: #008000; text-decoration-color: #008000\">\"Somali\"</span><span style=\"font-weight: bold\">)</span>                                                                                          \n",
       "          - st <span style=\"font-weight: bold\">(</span><span style=\"color: #008000; text-decoration-color: #008000\">\"Southern Sotho\"</span><span style=\"font-weight: bold\">)</span>                                                                                  \n",
       "          - es <span style=\"font-weight: bold\">(</span><span style=\"color: #008000; text-decoration-color: #008000\">\"Spanish\"</span><span style=\"font-weight: bold\">)</span>                                                                                         \n",
       "          - su <span style=\"font-weight: bold\">(</span><span style=\"color: #008000; text-decoration-color: #008000\">\"Sundanese\"</span><span style=\"font-weight: bold\">)</span>                                                                                       \n",
       "          - sw <span style=\"font-weight: bold\">(</span><span style=\"color: #008000; text-decoration-color: #008000\">\"Swahili\"</span><span style=\"font-weight: bold\">)</span>                                                                                         \n",
       "          - ss <span style=\"font-weight: bold\">(</span><span style=\"color: #008000; text-decoration-color: #008000\">\"Swati\"</span><span style=\"font-weight: bold\">)</span>                                                                                           \n",
       "          - sv <span style=\"font-weight: bold\">(</span><span style=\"color: #008000; text-decoration-color: #008000\">\"Swedish\"</span><span style=\"font-weight: bold\">)</span>                                                                                         \n",
       "          - tg <span style=\"font-weight: bold\">(</span><span style=\"color: #008000; text-decoration-color: #008000\">\"Tajik\"</span><span style=\"font-weight: bold\">)</span>                                                                                           \n",
       "          - ta <span style=\"font-weight: bold\">(</span><span style=\"color: #008000; text-decoration-color: #008000\">\"Tamil\"</span><span style=\"font-weight: bold\">)</span>                                                                                           \n",
       "          - tt <span style=\"font-weight: bold\">(</span><span style=\"color: #008000; text-decoration-color: #008000\">\"Tatar\"</span><span style=\"font-weight: bold\">)</span>                                                                                           \n",
       "          - te <span style=\"font-weight: bold\">(</span><span style=\"color: #008000; text-decoration-color: #008000\">\"Telugu\"</span><span style=\"font-weight: bold\">)</span>                                                                                          \n",
       "          - th <span style=\"font-weight: bold\">(</span><span style=\"color: #008000; text-decoration-color: #008000\">\"Thai\"</span><span style=\"font-weight: bold\">)</span>                                                                                            \n",
       "          - bo <span style=\"font-weight: bold\">(</span><span style=\"color: #008000; text-decoration-color: #008000\">\"Tibetan\"</span><span style=\"font-weight: bold\">)</span>                                                                                         \n",
       "          - ti <span style=\"font-weight: bold\">(</span><span style=\"color: #008000; text-decoration-color: #008000\">\"Tigrinya\"</span><span style=\"font-weight: bold\">)</span>                                                                                        \n",
       "          - to <span style=\"font-weight: bold\">(</span><span style=\"color: #008000; text-decoration-color: #008000\">\"Tongan\"</span><span style=\"font-weight: bold\">)</span>                                                                                          \n",
       "          - ts <span style=\"font-weight: bold\">(</span><span style=\"color: #008000; text-decoration-color: #008000\">\"Tsonga\"</span><span style=\"font-weight: bold\">)</span>                                                                                          \n",
       "          - tn <span style=\"font-weight: bold\">(</span><span style=\"color: #008000; text-decoration-color: #008000\">\"Tswana\"</span><span style=\"font-weight: bold\">)</span>                                                                                          \n",
       "          - tum <span style=\"font-weight: bold\">(</span><span style=\"color: #008000; text-decoration-color: #008000\">\"Tumbuka\"</span><span style=\"font-weight: bold\">)</span>                                                                                        \n",
       "          - tr <span style=\"font-weight: bold\">(</span><span style=\"color: #008000; text-decoration-color: #008000\">\"Turkish\"</span><span style=\"font-weight: bold\">)</span>                                                                                         \n",
       "          - tk <span style=\"font-weight: bold\">(</span><span style=\"color: #008000; text-decoration-color: #008000\">\"Turkmen\"</span><span style=\"font-weight: bold\">)</span>                                                                                         \n",
       "          - uk <span style=\"font-weight: bold\">(</span><span style=\"color: #008000; text-decoration-color: #008000\">\"Ukrainian\"</span><span style=\"font-weight: bold\">)</span>                                                                                       \n",
       "          - ur <span style=\"font-weight: bold\">(</span><span style=\"color: #008000; text-decoration-color: #008000\">\"Urdu\"</span><span style=\"font-weight: bold\">)</span>                                                                                            \n",
       "          - ug <span style=\"font-weight: bold\">(</span><span style=\"color: #008000; text-decoration-color: #008000\">\"Uyghur\"</span><span style=\"font-weight: bold\">)</span>                                                                                          \n",
       "          - uz <span style=\"font-weight: bold\">(</span><span style=\"color: #008000; text-decoration-color: #008000\">\"Uzbek\"</span><span style=\"font-weight: bold\">)</span>                                                                                           \n",
       "          - ve <span style=\"font-weight: bold\">(</span><span style=\"color: #008000; text-decoration-color: #008000\">\"Venda\"</span><span style=\"font-weight: bold\">)</span>                                                                                           \n",
       "          - vi <span style=\"font-weight: bold\">(</span><span style=\"color: #008000; text-decoration-color: #008000\">\"Vietnamese\"</span><span style=\"font-weight: bold\">)</span>                                                                                      \n",
       "          - war <span style=\"font-weight: bold\">(</span><span style=\"color: #008000; text-decoration-color: #008000\">\"Waray\"</span><span style=\"font-weight: bold\">)</span>                                                                                          \n",
       "          - cy <span style=\"font-weight: bold\">(</span><span style=\"color: #008000; text-decoration-color: #008000\">\"Welsh\"</span><span style=\"font-weight: bold\">)</span>                                                                                           \n",
       "          - fy <span style=\"font-weight: bold\">(</span><span style=\"color: #008000; text-decoration-color: #008000\">\"Western Frisian\"</span><span style=\"font-weight: bold\">)</span>                                                                                 \n",
       "          - wo <span style=\"font-weight: bold\">(</span><span style=\"color: #008000; text-decoration-color: #008000\">\"Wolof\"</span><span style=\"font-weight: bold\">)</span>                                                                                           \n",
       "          - xh <span style=\"font-weight: bold\">(</span><span style=\"color: #008000; text-decoration-color: #008000\">\"Xhosa\"</span><span style=\"font-weight: bold\">)</span>                                                                                           \n",
       "          - yi <span style=\"font-weight: bold\">(</span><span style=\"color: #008000; text-decoration-color: #008000\">\"Yiddish\"</span><span style=\"font-weight: bold\">)</span>                                                                                         \n",
       "          - yo <span style=\"font-weight: bold\">(</span><span style=\"color: #008000; text-decoration-color: #008000\">\"Yoruba\"</span><span style=\"font-weight: bold\">)</span>                                                                                          \n",
       "          - zu <span style=\"font-weight: bold\">(</span><span style=\"color: #008000; text-decoration-color: #008000\">\"Zulu\"</span><span style=\"font-weight: bold\">)</span>                                                                                            \n",
       "                                                                                                                   \n",
       "         If you are sure that the described cause is not responsible for this error and that a transcript should be\n",
       "         retrievable, please create an issue at <span style=\"color: #0000ff; text-decoration-color: #0000ff; text-decoration: underline\">https://github.com/jdepoix/youtube-transcript-api/issues.</span> Please   \n",
       "         add which version of youtube_transcript_api you are using and provide the information needed to replicate \n",
       "         the error. Also make sure that there are no open issues which already describe your problem!              \n",
       "</pre>\n"
      ],
      "text/plain": [
       "\u001b[32mDEBUG   \u001b[0m Error getting captions for video:                                                                         \n",
       "         Could not retrieve a transcript for the video \u001b[4;94mhttps://www.youtube.com/watch?\u001b[0m\u001b[4;94mv\u001b[0m\u001b[4;94m=\u001b[0m\u001b[4;94moMfhNnmSxUU\u001b[0m\u001b[4;94m!\u001b[0m This is most   \n",
       "         likely caused by:                                                                                         \n",
       "                                                                                                                   \n",
       "         No transcripts were found for any of the requested language codes: \u001b[1m(\u001b[0m\u001b[32m'en'\u001b[0m,\u001b[1m)\u001b[0m                                \n",
       "                                                                                                                   \n",
       "         For this video \u001b[1m(\u001b[0moMfhNnmSxUU\u001b[1m)\u001b[0m transcripts are available in the following languages:                        \n",
       "                                                                                                                   \n",
       "         \u001b[1m(\u001b[0mMANUALLY CREATED\u001b[1m)\u001b[0m                                                                                        \n",
       "         \u001b[3;35mNone\u001b[0m                                                                                                      \n",
       "                                                                                                                   \n",
       "         \u001b[1m(\u001b[0mGENERATED\u001b[1m)\u001b[0m                                                                                               \n",
       "          - hi \u001b[1m(\u001b[0m\u001b[32m\"Hindi \u001b[0m\u001b[32m(\u001b[0m\u001b[32mauto-generated\u001b[0m\u001b[32m)\u001b[0m\u001b[32m\"\u001b[0m\u001b[1m)\u001b[0m\u001b[1m[\u001b[0mTRANSLATABLE\u001b[1m]\u001b[0m                                                            \n",
       "                                                                                                                   \n",
       "         \u001b[1m(\u001b[0mTRANSLATION LANGUAGES\u001b[1m)\u001b[0m                                                                                   \n",
       "          - ab \u001b[1m(\u001b[0m\u001b[32m\"Abkhazian\"\u001b[0m\u001b[1m)\u001b[0m                                                                                       \n",
       "          - aa \u001b[1m(\u001b[0m\u001b[32m\"Afar\"\u001b[0m\u001b[1m)\u001b[0m                                                                                            \n",
       "          - af \u001b[1m(\u001b[0m\u001b[32m\"Afrikaans\"\u001b[0m\u001b[1m)\u001b[0m                                                                                       \n",
       "          - ak \u001b[1m(\u001b[0m\u001b[32m\"Akan\"\u001b[0m\u001b[1m)\u001b[0m                                                                                            \n",
       "          - sq \u001b[1m(\u001b[0m\u001b[32m\"Albanian\"\u001b[0m\u001b[1m)\u001b[0m                                                                                        \n",
       "          - am \u001b[1m(\u001b[0m\u001b[32m\"Amharic\"\u001b[0m\u001b[1m)\u001b[0m                                                                                         \n",
       "          - ar \u001b[1m(\u001b[0m\u001b[32m\"Arabic\"\u001b[0m\u001b[1m)\u001b[0m                                                                                          \n",
       "          - hy \u001b[1m(\u001b[0m\u001b[32m\"Armenian\"\u001b[0m\u001b[1m)\u001b[0m                                                                                        \n",
       "          - as \u001b[1m(\u001b[0m\u001b[32m\"Assamese\"\u001b[0m\u001b[1m)\u001b[0m                                                                                        \n",
       "          - ay \u001b[1m(\u001b[0m\u001b[32m\"Aymara\"\u001b[0m\u001b[1m)\u001b[0m                                                                                          \n",
       "          - az \u001b[1m(\u001b[0m\u001b[32m\"Azerbaijani\"\u001b[0m\u001b[1m)\u001b[0m                                                                                     \n",
       "          - bn \u001b[1m(\u001b[0m\u001b[32m\"Bangla\"\u001b[0m\u001b[1m)\u001b[0m                                                                                          \n",
       "          - ba \u001b[1m(\u001b[0m\u001b[32m\"Bashkir\"\u001b[0m\u001b[1m)\u001b[0m                                                                                         \n",
       "          - eu \u001b[1m(\u001b[0m\u001b[32m\"Basque\"\u001b[0m\u001b[1m)\u001b[0m                                                                                          \n",
       "          - be \u001b[1m(\u001b[0m\u001b[32m\"Belarusian\"\u001b[0m\u001b[1m)\u001b[0m                                                                                      \n",
       "          - bho \u001b[1m(\u001b[0m\u001b[32m\"Bhojpuri\"\u001b[0m\u001b[1m)\u001b[0m                                                                                       \n",
       "          - bs \u001b[1m(\u001b[0m\u001b[32m\"Bosnian\"\u001b[0m\u001b[1m)\u001b[0m                                                                                         \n",
       "          - br \u001b[1m(\u001b[0m\u001b[32m\"Breton\"\u001b[0m\u001b[1m)\u001b[0m                                                                                          \n",
       "          - bg \u001b[1m(\u001b[0m\u001b[32m\"Bulgarian\"\u001b[0m\u001b[1m)\u001b[0m                                                                                       \n",
       "          - my \u001b[1m(\u001b[0m\u001b[32m\"Burmese\"\u001b[0m\u001b[1m)\u001b[0m                                                                                         \n",
       "          - ca \u001b[1m(\u001b[0m\u001b[32m\"Catalan\"\u001b[0m\u001b[1m)\u001b[0m                                                                                         \n",
       "          - ceb \u001b[1m(\u001b[0m\u001b[32m\"Cebuano\"\u001b[0m\u001b[1m)\u001b[0m                                                                                        \n",
       "          - zh-Hans \u001b[1m(\u001b[0m\u001b[32m\"Chinese \u001b[0m\u001b[32m(\u001b[0m\u001b[32mSimplified\u001b[0m\u001b[32m)\u001b[0m\u001b[32m\"\u001b[0m\u001b[1m)\u001b[0m                                                                       \n",
       "          - zh-Hant \u001b[1m(\u001b[0m\u001b[32m\"Chinese \u001b[0m\u001b[32m(\u001b[0m\u001b[32mTraditional\u001b[0m\u001b[32m)\u001b[0m\u001b[32m\"\u001b[0m\u001b[1m)\u001b[0m                                                                      \n",
       "          - co \u001b[1m(\u001b[0m\u001b[32m\"Corsican\"\u001b[0m\u001b[1m)\u001b[0m                                                                                        \n",
       "          - hr \u001b[1m(\u001b[0m\u001b[32m\"Croatian\"\u001b[0m\u001b[1m)\u001b[0m                                                                                        \n",
       "          - cs \u001b[1m(\u001b[0m\u001b[32m\"Czech\"\u001b[0m\u001b[1m)\u001b[0m                                                                                           \n",
       "          - da \u001b[1m(\u001b[0m\u001b[32m\"Danish\"\u001b[0m\u001b[1m)\u001b[0m                                                                                          \n",
       "          - dv \u001b[1m(\u001b[0m\u001b[32m\"Divehi\"\u001b[0m\u001b[1m)\u001b[0m                                                                                          \n",
       "          - nl \u001b[1m(\u001b[0m\u001b[32m\"Dutch\"\u001b[0m\u001b[1m)\u001b[0m                                                                                           \n",
       "          - dz \u001b[1m(\u001b[0m\u001b[32m\"Dzongkha\"\u001b[0m\u001b[1m)\u001b[0m                                                                                        \n",
       "          - en \u001b[1m(\u001b[0m\u001b[32m\"English\"\u001b[0m\u001b[1m)\u001b[0m                                                                                         \n",
       "          - eo \u001b[1m(\u001b[0m\u001b[32m\"Esperanto\"\u001b[0m\u001b[1m)\u001b[0m                                                                                       \n",
       "          - et \u001b[1m(\u001b[0m\u001b[32m\"Estonian\"\u001b[0m\u001b[1m)\u001b[0m                                                                                        \n",
       "          - ee \u001b[1m(\u001b[0m\u001b[32m\"Ewe\"\u001b[0m\u001b[1m)\u001b[0m                                                                                             \n",
       "          - fo \u001b[1m(\u001b[0m\u001b[32m\"Faroese\"\u001b[0m\u001b[1m)\u001b[0m                                                                                         \n",
       "          - fj \u001b[1m(\u001b[0m\u001b[32m\"Fijian\"\u001b[0m\u001b[1m)\u001b[0m                                                                                          \n",
       "          - fil \u001b[1m(\u001b[0m\u001b[32m\"Filipino\"\u001b[0m\u001b[1m)\u001b[0m                                                                                       \n",
       "          - fi \u001b[1m(\u001b[0m\u001b[32m\"Finnish\"\u001b[0m\u001b[1m)\u001b[0m                                                                                         \n",
       "          - fr \u001b[1m(\u001b[0m\u001b[32m\"French\"\u001b[0m\u001b[1m)\u001b[0m                                                                                          \n",
       "          - gaa \u001b[1m(\u001b[0m\u001b[32m\"Ga\"\u001b[0m\u001b[1m)\u001b[0m                                                                                             \n",
       "          - gl \u001b[1m(\u001b[0m\u001b[32m\"Galician\"\u001b[0m\u001b[1m)\u001b[0m                                                                                        \n",
       "          - lg \u001b[1m(\u001b[0m\u001b[32m\"Ganda\"\u001b[0m\u001b[1m)\u001b[0m                                                                                           \n",
       "          - ka \u001b[1m(\u001b[0m\u001b[32m\"Georgian\"\u001b[0m\u001b[1m)\u001b[0m                                                                                        \n",
       "          - de \u001b[1m(\u001b[0m\u001b[32m\"German\"\u001b[0m\u001b[1m)\u001b[0m                                                                                          \n",
       "          - el \u001b[1m(\u001b[0m\u001b[32m\"Greek\"\u001b[0m\u001b[1m)\u001b[0m                                                                                           \n",
       "          - gn \u001b[1m(\u001b[0m\u001b[32m\"Guarani\"\u001b[0m\u001b[1m)\u001b[0m                                                                                         \n",
       "          - gu \u001b[1m(\u001b[0m\u001b[32m\"Gujarati\"\u001b[0m\u001b[1m)\u001b[0m                                                                                        \n",
       "          - ht \u001b[1m(\u001b[0m\u001b[32m\"Haitian Creole\"\u001b[0m\u001b[1m)\u001b[0m                                                                                  \n",
       "          - ha \u001b[1m(\u001b[0m\u001b[32m\"Hausa\"\u001b[0m\u001b[1m)\u001b[0m                                                                                           \n",
       "          - haw \u001b[1m(\u001b[0m\u001b[32m\"Hawaiian\"\u001b[0m\u001b[1m)\u001b[0m                                                                                       \n",
       "          - iw \u001b[1m(\u001b[0m\u001b[32m\"Hebrew\"\u001b[0m\u001b[1m)\u001b[0m                                                                                          \n",
       "          - hi \u001b[1m(\u001b[0m\u001b[32m\"Hindi\"\u001b[0m\u001b[1m)\u001b[0m                                                                                           \n",
       "          - hmn \u001b[1m(\u001b[0m\u001b[32m\"Hmong\"\u001b[0m\u001b[1m)\u001b[0m                                                                                          \n",
       "          - hu \u001b[1m(\u001b[0m\u001b[32m\"Hungarian\"\u001b[0m\u001b[1m)\u001b[0m                                                                                       \n",
       "          - is \u001b[1m(\u001b[0m\u001b[32m\"Icelandic\"\u001b[0m\u001b[1m)\u001b[0m                                                                                       \n",
       "          - ig \u001b[1m(\u001b[0m\u001b[32m\"Igbo\"\u001b[0m\u001b[1m)\u001b[0m                                                                                            \n",
       "          - id \u001b[1m(\u001b[0m\u001b[32m\"Indonesian\"\u001b[0m\u001b[1m)\u001b[0m                                                                                      \n",
       "          - ga \u001b[1m(\u001b[0m\u001b[32m\"Irish\"\u001b[0m\u001b[1m)\u001b[0m                                                                                           \n",
       "          - it \u001b[1m(\u001b[0m\u001b[32m\"Italian\"\u001b[0m\u001b[1m)\u001b[0m                                                                                         \n",
       "          - ja \u001b[1m(\u001b[0m\u001b[32m\"Japanese\"\u001b[0m\u001b[1m)\u001b[0m                                                                                        \n",
       "          - jv \u001b[1m(\u001b[0m\u001b[32m\"Javanese\"\u001b[0m\u001b[1m)\u001b[0m                                                                                        \n",
       "          - kl \u001b[1m(\u001b[0m\u001b[32m\"Kalaallisut\"\u001b[0m\u001b[1m)\u001b[0m                                                                                     \n",
       "          - kn \u001b[1m(\u001b[0m\u001b[32m\"Kannada\"\u001b[0m\u001b[1m)\u001b[0m                                                                                         \n",
       "          - kk \u001b[1m(\u001b[0m\u001b[32m\"Kazakh\"\u001b[0m\u001b[1m)\u001b[0m                                                                                          \n",
       "          - kha \u001b[1m(\u001b[0m\u001b[32m\"Khasi\"\u001b[0m\u001b[1m)\u001b[0m                                                                                          \n",
       "          - km \u001b[1m(\u001b[0m\u001b[32m\"Khmer\"\u001b[0m\u001b[1m)\u001b[0m                                                                                           \n",
       "          - rw \u001b[1m(\u001b[0m\u001b[32m\"Kinyarwanda\"\u001b[0m\u001b[1m)\u001b[0m                                                                                     \n",
       "          - ko \u001b[1m(\u001b[0m\u001b[32m\"Korean\"\u001b[0m\u001b[1m)\u001b[0m                                                                                          \n",
       "          - kri \u001b[1m(\u001b[0m\u001b[32m\"Krio\"\u001b[0m\u001b[1m)\u001b[0m                                                                                           \n",
       "          - ku \u001b[1m(\u001b[0m\u001b[32m\"Kurdish\"\u001b[0m\u001b[1m)\u001b[0m                                                                                         \n",
       "          - ky \u001b[1m(\u001b[0m\u001b[32m\"Kyrgyz\"\u001b[0m\u001b[1m)\u001b[0m                                                                                          \n",
       "          - lo \u001b[1m(\u001b[0m\u001b[32m\"Lao\"\u001b[0m\u001b[1m)\u001b[0m                                                                                             \n",
       "          - la \u001b[1m(\u001b[0m\u001b[32m\"Latin\"\u001b[0m\u001b[1m)\u001b[0m                                                                                           \n",
       "          - lv \u001b[1m(\u001b[0m\u001b[32m\"Latvian\"\u001b[0m\u001b[1m)\u001b[0m                                                                                         \n",
       "          - ln \u001b[1m(\u001b[0m\u001b[32m\"Lingala\"\u001b[0m\u001b[1m)\u001b[0m                                                                                         \n",
       "          - lt \u001b[1m(\u001b[0m\u001b[32m\"Lithuanian\"\u001b[0m\u001b[1m)\u001b[0m                                                                                      \n",
       "          - luo \u001b[1m(\u001b[0m\u001b[32m\"Luo\"\u001b[0m\u001b[1m)\u001b[0m                                                                                            \n",
       "          - lb \u001b[1m(\u001b[0m\u001b[32m\"Luxembourgish\"\u001b[0m\u001b[1m)\u001b[0m                                                                                   \n",
       "          - mk \u001b[1m(\u001b[0m\u001b[32m\"Macedonian\"\u001b[0m\u001b[1m)\u001b[0m                                                                                      \n",
       "          - mg \u001b[1m(\u001b[0m\u001b[32m\"Malagasy\"\u001b[0m\u001b[1m)\u001b[0m                                                                                        \n",
       "          - ms \u001b[1m(\u001b[0m\u001b[32m\"Malay\"\u001b[0m\u001b[1m)\u001b[0m                                                                                           \n",
       "          - ml \u001b[1m(\u001b[0m\u001b[32m\"Malayalam\"\u001b[0m\u001b[1m)\u001b[0m                                                                                       \n",
       "          - mt \u001b[1m(\u001b[0m\u001b[32m\"Maltese\"\u001b[0m\u001b[1m)\u001b[0m                                                                                         \n",
       "          - gv \u001b[1m(\u001b[0m\u001b[32m\"Manx\"\u001b[0m\u001b[1m)\u001b[0m                                                                                            \n",
       "          - mi \u001b[1m(\u001b[0m\u001b[32m\"Māori\"\u001b[0m\u001b[1m)\u001b[0m                                                                                           \n",
       "          - mr \u001b[1m(\u001b[0m\u001b[32m\"Marathi\"\u001b[0m\u001b[1m)\u001b[0m                                                                                         \n",
       "          - mn \u001b[1m(\u001b[0m\u001b[32m\"Mongolian\"\u001b[0m\u001b[1m)\u001b[0m                                                                                       \n",
       "          - mfe \u001b[1m(\u001b[0m\u001b[32m\"Morisyen\"\u001b[0m\u001b[1m)\u001b[0m                                                                                       \n",
       "          - ne \u001b[1m(\u001b[0m\u001b[32m\"Nepali\"\u001b[0m\u001b[1m)\u001b[0m                                                                                          \n",
       "          - new \u001b[1m(\u001b[0m\u001b[32m\"Newari\"\u001b[0m\u001b[1m)\u001b[0m                                                                                         \n",
       "          - nso \u001b[1m(\u001b[0m\u001b[32m\"Northern Sotho\"\u001b[0m\u001b[1m)\u001b[0m                                                                                 \n",
       "          - no \u001b[1m(\u001b[0m\u001b[32m\"Norwegian\"\u001b[0m\u001b[1m)\u001b[0m                                                                                       \n",
       "          - ny \u001b[1m(\u001b[0m\u001b[32m\"Nyanja\"\u001b[0m\u001b[1m)\u001b[0m                                                                                          \n",
       "          - oc \u001b[1m(\u001b[0m\u001b[32m\"Occitan\"\u001b[0m\u001b[1m)\u001b[0m                                                                                         \n",
       "          - or \u001b[1m(\u001b[0m\u001b[32m\"Odia\"\u001b[0m\u001b[1m)\u001b[0m                                                                                            \n",
       "          - om \u001b[1m(\u001b[0m\u001b[32m\"Oromo\"\u001b[0m\u001b[1m)\u001b[0m                                                                                           \n",
       "          - os \u001b[1m(\u001b[0m\u001b[32m\"Ossetic\"\u001b[0m\u001b[1m)\u001b[0m                                                                                         \n",
       "          - pam \u001b[1m(\u001b[0m\u001b[32m\"Pampanga\"\u001b[0m\u001b[1m)\u001b[0m                                                                                       \n",
       "          - ps \u001b[1m(\u001b[0m\u001b[32m\"Pashto\"\u001b[0m\u001b[1m)\u001b[0m                                                                                          \n",
       "          - fa \u001b[1m(\u001b[0m\u001b[32m\"Persian\"\u001b[0m\u001b[1m)\u001b[0m                                                                                         \n",
       "          - pl \u001b[1m(\u001b[0m\u001b[32m\"Polish\"\u001b[0m\u001b[1m)\u001b[0m                                                                                          \n",
       "          - pt \u001b[1m(\u001b[0m\u001b[32m\"Portuguese\"\u001b[0m\u001b[1m)\u001b[0m                                                                                      \n",
       "          - pt-PT \u001b[1m(\u001b[0m\u001b[32m\"Portuguese \u001b[0m\u001b[32m(\u001b[0m\u001b[32mPortugal\u001b[0m\u001b[32m)\u001b[0m\u001b[32m\"\u001b[0m\u001b[1m)\u001b[0m                                                                        \n",
       "          - pa \u001b[1m(\u001b[0m\u001b[32m\"Punjabi\"\u001b[0m\u001b[1m)\u001b[0m                                                                                         \n",
       "          - qu \u001b[1m(\u001b[0m\u001b[32m\"Quechua\"\u001b[0m\u001b[1m)\u001b[0m                                                                                         \n",
       "          - ro \u001b[1m(\u001b[0m\u001b[32m\"Romanian\"\u001b[0m\u001b[1m)\u001b[0m                                                                                        \n",
       "          - rn \u001b[1m(\u001b[0m\u001b[32m\"Rundi\"\u001b[0m\u001b[1m)\u001b[0m                                                                                           \n",
       "          - ru \u001b[1m(\u001b[0m\u001b[32m\"Russian\"\u001b[0m\u001b[1m)\u001b[0m                                                                                         \n",
       "          - sm \u001b[1m(\u001b[0m\u001b[32m\"Samoan\"\u001b[0m\u001b[1m)\u001b[0m                                                                                          \n",
       "          - sg \u001b[1m(\u001b[0m\u001b[32m\"Sango\"\u001b[0m\u001b[1m)\u001b[0m                                                                                           \n",
       "          - sa \u001b[1m(\u001b[0m\u001b[32m\"Sanskrit\"\u001b[0m\u001b[1m)\u001b[0m                                                                                        \n",
       "          - gd \u001b[1m(\u001b[0m\u001b[32m\"Scottish Gaelic\"\u001b[0m\u001b[1m)\u001b[0m                                                                                 \n",
       "          - sr \u001b[1m(\u001b[0m\u001b[32m\"Serbian\"\u001b[0m\u001b[1m)\u001b[0m                                                                                         \n",
       "          - crs \u001b[1m(\u001b[0m\u001b[32m\"Seselwa Creole French\"\u001b[0m\u001b[1m)\u001b[0m                                                                          \n",
       "          - sn \u001b[1m(\u001b[0m\u001b[32m\"Shona\"\u001b[0m\u001b[1m)\u001b[0m                                                                                           \n",
       "          - sd \u001b[1m(\u001b[0m\u001b[32m\"Sindhi\"\u001b[0m\u001b[1m)\u001b[0m                                                                                          \n",
       "          - si \u001b[1m(\u001b[0m\u001b[32m\"Sinhala\"\u001b[0m\u001b[1m)\u001b[0m                                                                                         \n",
       "          - sk \u001b[1m(\u001b[0m\u001b[32m\"Slovak\"\u001b[0m\u001b[1m)\u001b[0m                                                                                          \n",
       "          - sl \u001b[1m(\u001b[0m\u001b[32m\"Slovenian\"\u001b[0m\u001b[1m)\u001b[0m                                                                                       \n",
       "          - so \u001b[1m(\u001b[0m\u001b[32m\"Somali\"\u001b[0m\u001b[1m)\u001b[0m                                                                                          \n",
       "          - st \u001b[1m(\u001b[0m\u001b[32m\"Southern Sotho\"\u001b[0m\u001b[1m)\u001b[0m                                                                                  \n",
       "          - es \u001b[1m(\u001b[0m\u001b[32m\"Spanish\"\u001b[0m\u001b[1m)\u001b[0m                                                                                         \n",
       "          - su \u001b[1m(\u001b[0m\u001b[32m\"Sundanese\"\u001b[0m\u001b[1m)\u001b[0m                                                                                       \n",
       "          - sw \u001b[1m(\u001b[0m\u001b[32m\"Swahili\"\u001b[0m\u001b[1m)\u001b[0m                                                                                         \n",
       "          - ss \u001b[1m(\u001b[0m\u001b[32m\"Swati\"\u001b[0m\u001b[1m)\u001b[0m                                                                                           \n",
       "          - sv \u001b[1m(\u001b[0m\u001b[32m\"Swedish\"\u001b[0m\u001b[1m)\u001b[0m                                                                                         \n",
       "          - tg \u001b[1m(\u001b[0m\u001b[32m\"Tajik\"\u001b[0m\u001b[1m)\u001b[0m                                                                                           \n",
       "          - ta \u001b[1m(\u001b[0m\u001b[32m\"Tamil\"\u001b[0m\u001b[1m)\u001b[0m                                                                                           \n",
       "          - tt \u001b[1m(\u001b[0m\u001b[32m\"Tatar\"\u001b[0m\u001b[1m)\u001b[0m                                                                                           \n",
       "          - te \u001b[1m(\u001b[0m\u001b[32m\"Telugu\"\u001b[0m\u001b[1m)\u001b[0m                                                                                          \n",
       "          - th \u001b[1m(\u001b[0m\u001b[32m\"Thai\"\u001b[0m\u001b[1m)\u001b[0m                                                                                            \n",
       "          - bo \u001b[1m(\u001b[0m\u001b[32m\"Tibetan\"\u001b[0m\u001b[1m)\u001b[0m                                                                                         \n",
       "          - ti \u001b[1m(\u001b[0m\u001b[32m\"Tigrinya\"\u001b[0m\u001b[1m)\u001b[0m                                                                                        \n",
       "          - to \u001b[1m(\u001b[0m\u001b[32m\"Tongan\"\u001b[0m\u001b[1m)\u001b[0m                                                                                          \n",
       "          - ts \u001b[1m(\u001b[0m\u001b[32m\"Tsonga\"\u001b[0m\u001b[1m)\u001b[0m                                                                                          \n",
       "          - tn \u001b[1m(\u001b[0m\u001b[32m\"Tswana\"\u001b[0m\u001b[1m)\u001b[0m                                                                                          \n",
       "          - tum \u001b[1m(\u001b[0m\u001b[32m\"Tumbuka\"\u001b[0m\u001b[1m)\u001b[0m                                                                                        \n",
       "          - tr \u001b[1m(\u001b[0m\u001b[32m\"Turkish\"\u001b[0m\u001b[1m)\u001b[0m                                                                                         \n",
       "          - tk \u001b[1m(\u001b[0m\u001b[32m\"Turkmen\"\u001b[0m\u001b[1m)\u001b[0m                                                                                         \n",
       "          - uk \u001b[1m(\u001b[0m\u001b[32m\"Ukrainian\"\u001b[0m\u001b[1m)\u001b[0m                                                                                       \n",
       "          - ur \u001b[1m(\u001b[0m\u001b[32m\"Urdu\"\u001b[0m\u001b[1m)\u001b[0m                                                                                            \n",
       "          - ug \u001b[1m(\u001b[0m\u001b[32m\"Uyghur\"\u001b[0m\u001b[1m)\u001b[0m                                                                                          \n",
       "          - uz \u001b[1m(\u001b[0m\u001b[32m\"Uzbek\"\u001b[0m\u001b[1m)\u001b[0m                                                                                           \n",
       "          - ve \u001b[1m(\u001b[0m\u001b[32m\"Venda\"\u001b[0m\u001b[1m)\u001b[0m                                                                                           \n",
       "          - vi \u001b[1m(\u001b[0m\u001b[32m\"Vietnamese\"\u001b[0m\u001b[1m)\u001b[0m                                                                                      \n",
       "          - war \u001b[1m(\u001b[0m\u001b[32m\"Waray\"\u001b[0m\u001b[1m)\u001b[0m                                                                                          \n",
       "          - cy \u001b[1m(\u001b[0m\u001b[32m\"Welsh\"\u001b[0m\u001b[1m)\u001b[0m                                                                                           \n",
       "          - fy \u001b[1m(\u001b[0m\u001b[32m\"Western Frisian\"\u001b[0m\u001b[1m)\u001b[0m                                                                                 \n",
       "          - wo \u001b[1m(\u001b[0m\u001b[32m\"Wolof\"\u001b[0m\u001b[1m)\u001b[0m                                                                                           \n",
       "          - xh \u001b[1m(\u001b[0m\u001b[32m\"Xhosa\"\u001b[0m\u001b[1m)\u001b[0m                                                                                           \n",
       "          - yi \u001b[1m(\u001b[0m\u001b[32m\"Yiddish\"\u001b[0m\u001b[1m)\u001b[0m                                                                                         \n",
       "          - yo \u001b[1m(\u001b[0m\u001b[32m\"Yoruba\"\u001b[0m\u001b[1m)\u001b[0m                                                                                          \n",
       "          - zu \u001b[1m(\u001b[0m\u001b[32m\"Zulu\"\u001b[0m\u001b[1m)\u001b[0m                                                                                            \n",
       "                                                                                                                   \n",
       "         If you are sure that the described cause is not responsible for this error and that a transcript should be\n",
       "         retrievable, please create an issue at \u001b[4;94mhttps://github.com/jdepoix/youtube-transcript-api/issues.\u001b[0m Please   \n",
       "         add which version of youtube_transcript_api you are using and provide the information needed to replicate \n",
       "         the error. Also make sure that there are no open issues which already describe your problem!              \n"
      ]
     },
     "metadata": {},
     "output_type": "display_data"
    },
    {
     "data": {
      "text/html": [
       "<pre style=\"white-space:pre;overflow-x:auto;line-height:normal;font-family:Menlo,'DejaVu Sans Mono',consolas,'Courier New',monospace\"><span style=\"color: #008000; text-decoration-color: #008000\">DEBUG   </span> Time to generate response: <span style=\"color: #008080; text-decoration-color: #008080; font-weight: bold\">1.</span>0897s                                                                        \n",
       "</pre>\n"
      ],
      "text/plain": [
       "\u001b[32mDEBUG   \u001b[0m Time to generate response: \u001b[1;36m1.\u001b[0m0897s                                                                        \n"
      ]
     },
     "metadata": {},
     "output_type": "display_data"
    },
    {
     "data": {
      "text/html": [
       "<pre style=\"white-space:pre;overflow-x:auto;line-height:normal;font-family:Menlo,'DejaVu Sans Mono',consolas,'Courier New',monospace\"><span style=\"color: #008000; text-decoration-color: #008000\">DEBUG   </span> ============== assistant ==============                                                                   \n",
       "</pre>\n"
      ],
      "text/plain": [
       "\u001b[32mDEBUG   \u001b[0m ============== assistant ==============                                                                   \n"
      ]
     },
     "metadata": {},
     "output_type": "display_data"
    },
    {
     "data": {
      "text/html": [
       "<pre style=\"white-space:pre;overflow-x:auto;line-height:normal;font-family:Menlo,'DejaVu Sans Mono',consolas,'Courier New',monospace\"><span style=\"color: #008000; text-decoration-color: #008000\">DEBUG   </span> Tool Calls: <span style=\"font-weight: bold\">[</span>                                                                                             \n",
       "           <span style=\"font-weight: bold\">{</span>                                                                                                       \n",
       "             <span style=\"color: #008000; text-decoration-color: #008000\">\"index\"</span>: <span style=\"color: #008080; text-decoration-color: #008080; font-weight: bold\">0</span>,                                                                                           \n",
       "             <span style=\"color: #008000; text-decoration-color: #008000\">\"id\"</span>: <span style=\"color: #008000; text-decoration-color: #008000\">\"call_v8xc\"</span>,                                                                                    \n",
       "             <span style=\"color: #008000; text-decoration-color: #008000\">\"function\"</span>: <span style=\"font-weight: bold\">{</span>                                                                                         \n",
       "               <span style=\"color: #008000; text-decoration-color: #008000\">\"arguments\"</span>: <span style=\"color: #008000; text-decoration-color: #008000\">\"{\\\"url\\\":\\\"https://www.youtube.com/watch?v=oMfhNnmSxUU\\\"}\"</span>,                           \n",
       "               <span style=\"color: #008000; text-decoration-color: #008000\">\"name\"</span>: <span style=\"color: #008000; text-decoration-color: #008000\">\"get_youtube_video_data\"</span>                                                                    \n",
       "             <span style=\"font-weight: bold\">}</span>,                                                                                                    \n",
       "             <span style=\"color: #008000; text-decoration-color: #008000\">\"type\"</span>: <span style=\"color: #008000; text-decoration-color: #008000\">\"function\"</span>                                                                                    \n",
       "           <span style=\"font-weight: bold\">}</span>                                                                                                       \n",
       "         <span style=\"font-weight: bold\">]</span>                                                                                                         \n",
       "</pre>\n"
      ],
      "text/plain": [
       "\u001b[32mDEBUG   \u001b[0m Tool Calls: \u001b[1m[\u001b[0m                                                                                             \n",
       "           \u001b[1m{\u001b[0m                                                                                                       \n",
       "             \u001b[32m\"index\"\u001b[0m: \u001b[1;36m0\u001b[0m,                                                                                           \n",
       "             \u001b[32m\"id\"\u001b[0m: \u001b[32m\"call_v8xc\"\u001b[0m,                                                                                    \n",
       "             \u001b[32m\"function\"\u001b[0m: \u001b[1m{\u001b[0m                                                                                         \n",
       "               \u001b[32m\"arguments\"\u001b[0m: \u001b[32m\"\u001b[0m\u001b[32m{\u001b[0m\u001b[32m\\\"url\\\":\\\"https://www.youtube.com/watch?\u001b[0m\u001b[32mv\u001b[0m\u001b[32m=\u001b[0m\u001b[32moMfhNnmSxUU\u001b[0m\u001b[32m\\\"\u001b[0m\u001b[32m}\u001b[0m\u001b[32m\"\u001b[0m,                           \n",
       "               \u001b[32m\"name\"\u001b[0m: \u001b[32m\"get_youtube_video_data\"\u001b[0m                                                                    \n",
       "             \u001b[1m}\u001b[0m,                                                                                                    \n",
       "             \u001b[32m\"type\"\u001b[0m: \u001b[32m\"function\"\u001b[0m                                                                                    \n",
       "           \u001b[1m}\u001b[0m                                                                                                       \n",
       "         \u001b[1m]\u001b[0m                                                                                                         \n"
      ]
     },
     "metadata": {},
     "output_type": "display_data"
    },
    {
     "data": {
      "text/html": [
       "<pre style=\"white-space:pre;overflow-x:auto;line-height:normal;font-family:Menlo,'DejaVu Sans Mono',consolas,'Courier New',monospace\"><span style=\"color: #008000; text-decoration-color: #008000\">DEBUG   </span> Getting function get_youtube_video_data                                                                   \n",
       "</pre>\n"
      ],
      "text/plain": [
       "\u001b[32mDEBUG   \u001b[0m Getting function get_youtube_video_data                                                                   \n"
      ]
     },
     "metadata": {},
     "output_type": "display_data"
    },
    {
     "data": {
      "text/html": [
       "<pre style=\"white-space:pre;overflow-x:auto;line-height:normal;font-family:Menlo,'DejaVu Sans Mono',consolas,'Courier New',monospace\"><span style=\"color: #008000; text-decoration-color: #008000\">DEBUG   </span> Running: <span style=\"color: #800080; text-decoration-color: #800080; font-weight: bold\">get_youtube_video_data</span><span style=\"font-weight: bold\">(</span><span style=\"color: #808000; text-decoration-color: #808000\">url</span>=<span style=\"color: #0000ff; text-decoration-color: #0000ff; text-decoration: underline\">https://www.youtube.com/watch?v=oMfhNnmSxUU)</span>                          \n",
       "</pre>\n"
      ],
      "text/plain": [
       "\u001b[32mDEBUG   \u001b[0m Running: \u001b[1;35mget_youtube_video_data\u001b[0m\u001b[1m(\u001b[0m\u001b[33murl\u001b[0m=\u001b[4;94mhttps\u001b[0m\u001b[4;94m://www.youtube.com/watch?\u001b[0m\u001b[4;94mv\u001b[0m\u001b[4;94m=\u001b[0m\u001b[4;94moMfhNnmSxUU\u001b[0m\u001b[4;94m)\u001b[0m                          \n"
      ]
     },
     "metadata": {},
     "output_type": "display_data"
    },
    {
     "data": {
      "text/html": [
       "<pre style=\"white-space:pre;overflow-x:auto;line-height:normal;font-family:Menlo,'DejaVu Sans Mono',consolas,'Courier New',monospace\"><span style=\"color: #008000; text-decoration-color: #008000\">DEBUG   </span> ---------- Groq Response Start ----------                                                                 \n",
       "</pre>\n"
      ],
      "text/plain": [
       "\u001b[32mDEBUG   \u001b[0m ---------- Groq Response Start ----------                                                                 \n"
      ]
     },
     "metadata": {},
     "output_type": "display_data"
    },
    {
     "data": {
      "text/html": [
       "<pre style=\"white-space:pre;overflow-x:auto;line-height:normal;font-family:Menlo,'DejaVu Sans Mono',consolas,'Courier New',monospace\"><span style=\"color: #008000; text-decoration-color: #008000\">DEBUG   </span> ============== system ==============                                                                      \n",
       "</pre>\n"
      ],
      "text/plain": [
       "\u001b[32mDEBUG   \u001b[0m ============== system ==============                                                                      \n"
      ]
     },
     "metadata": {},
     "output_type": "display_data"
    },
    {
     "data": {
      "text/html": [
       "<pre style=\"white-space:pre;overflow-x:auto;line-height:normal;font-family:Menlo,'DejaVu Sans Mono',consolas,'Courier New',monospace\"><span style=\"color: #008000; text-decoration-color: #008000\">DEBUG   </span> You are a YouTube assistant. Obtain the captions of a YouTube video and answer questions.                 \n",
       "         You must follow these instructions carefully:                                                             \n",
       "         <span style=\"font-weight: bold\">&lt;</span><span style=\"color: #ff00ff; text-decoration-color: #ff00ff; font-weight: bold\">instructions</span><span style=\"color: #000000; text-decoration-color: #000000\">&gt;</span>                                                                                            \n",
       "         <span style=\"color: #008080; text-decoration-color: #008080; font-weight: bold\">1</span><span style=\"color: #000000; text-decoration-color: #000000\">. Use markdown to format your answers.</span>                                                                   \n",
       "         <span style=\"color: #000000; text-decoration-color: #000000\">&lt;</span><span style=\"color: #800080; text-decoration-color: #800080\">/</span><span style=\"color: #ff00ff; text-decoration-color: #ff00ff\">instructions</span><span style=\"font-weight: bold\">&gt;</span>                                                                                           \n",
       "</pre>\n"
      ],
      "text/plain": [
       "\u001b[32mDEBUG   \u001b[0m You are a YouTube assistant. Obtain the captions of a YouTube video and answer questions.                 \n",
       "         You must follow these instructions carefully:                                                             \n",
       "         \u001b[1m<\u001b[0m\u001b[1;95minstructions\u001b[0m\u001b[39m>\u001b[0m                                                                                            \n",
       "         \u001b[1;36m1\u001b[0m\u001b[39m. Use markdown to format your answers.\u001b[0m                                                                   \n",
       "         \u001b[39m<\u001b[0m\u001b[35m/\u001b[0m\u001b[95minstructions\u001b[0m\u001b[1m>\u001b[0m                                                                                           \n"
      ]
     },
     "metadata": {},
     "output_type": "display_data"
    },
    {
     "data": {
      "text/html": [
       "<pre style=\"white-space:pre;overflow-x:auto;line-height:normal;font-family:Menlo,'DejaVu Sans Mono',consolas,'Courier New',monospace\"><span style=\"color: #008000; text-decoration-color: #008000\">DEBUG   </span> ============== user ==============                                                                        \n",
       "</pre>\n"
      ],
      "text/plain": [
       "\u001b[32mDEBUG   \u001b[0m ============== user ==============                                                                        \n"
      ]
     },
     "metadata": {},
     "output_type": "display_data"
    },
    {
     "data": {
      "text/html": [
       "<pre style=\"white-space:pre;overflow-x:auto;line-height:normal;font-family:Menlo,'DejaVu Sans Mono',consolas,'Courier New',monospace\"><span style=\"color: #008000; text-decoration-color: #008000\">DEBUG   </span> Summarize this video <span style=\"color: #0000ff; text-decoration-color: #0000ff; text-decoration: underline\">https://www.youtube.com/watch?v=oMfhNnmSxUU</span>                                          \n",
       "</pre>\n"
      ],
      "text/plain": [
       "\u001b[32mDEBUG   \u001b[0m Summarize this video \u001b[4;94mhttps://www.youtube.com/watch?\u001b[0m\u001b[4;94mv\u001b[0m\u001b[4;94m=\u001b[0m\u001b[4;94moMfhNnmSxUU\u001b[0m                                          \n"
      ]
     },
     "metadata": {},
     "output_type": "display_data"
    },
    {
     "data": {
      "text/html": [
       "<pre style=\"white-space:pre;overflow-x:auto;line-height:normal;font-family:Menlo,'DejaVu Sans Mono',consolas,'Courier New',monospace\"><span style=\"color: #008000; text-decoration-color: #008000\">DEBUG   </span> ============== assistant ==============                                                                   \n",
       "</pre>\n"
      ],
      "text/plain": [
       "\u001b[32mDEBUG   \u001b[0m ============== assistant ==============                                                                   \n"
      ]
     },
     "metadata": {},
     "output_type": "display_data"
    },
    {
     "data": {
      "text/html": [
       "<pre style=\"white-space:pre;overflow-x:auto;line-height:normal;font-family:Menlo,'DejaVu Sans Mono',consolas,'Courier New',monospace\"><span style=\"color: #008000; text-decoration-color: #008000\">DEBUG   </span> Tool Calls: <span style=\"font-weight: bold\">[</span>                                                                                             \n",
       "           <span style=\"font-weight: bold\">{</span>                                                                                                       \n",
       "             <span style=\"color: #008000; text-decoration-color: #008000\">\"index\"</span>: <span style=\"color: #008080; text-decoration-color: #008080; font-weight: bold\">0</span>,                                                                                           \n",
       "             <span style=\"color: #008000; text-decoration-color: #008000\">\"id\"</span>: <span style=\"color: #008000; text-decoration-color: #008000\">\"call_exg9\"</span>,                                                                                    \n",
       "             <span style=\"color: #008000; text-decoration-color: #008000\">\"function\"</span>: <span style=\"font-weight: bold\">{</span>                                                                                         \n",
       "               <span style=\"color: #008000; text-decoration-color: #008000\">\"arguments\"</span>: <span style=\"color: #008000; text-decoration-color: #008000\">\"{\\\"url\\\":\\\"https://www.youtube.com/watch?v=oMfhNnmSxUU\\\"}\"</span>,                           \n",
       "               <span style=\"color: #008000; text-decoration-color: #008000\">\"name\"</span>: <span style=\"color: #008000; text-decoration-color: #008000\">\"get_youtube_video_captions\"</span>                                                                \n",
       "             <span style=\"font-weight: bold\">}</span>,                                                                                                    \n",
       "             <span style=\"color: #008000; text-decoration-color: #008000\">\"type\"</span>: <span style=\"color: #008000; text-decoration-color: #008000\">\"function\"</span>                                                                                    \n",
       "           <span style=\"font-weight: bold\">}</span>                                                                                                       \n",
       "         <span style=\"font-weight: bold\">]</span>                                                                                                         \n",
       "</pre>\n"
      ],
      "text/plain": [
       "\u001b[32mDEBUG   \u001b[0m Tool Calls: \u001b[1m[\u001b[0m                                                                                             \n",
       "           \u001b[1m{\u001b[0m                                                                                                       \n",
       "             \u001b[32m\"index\"\u001b[0m: \u001b[1;36m0\u001b[0m,                                                                                           \n",
       "             \u001b[32m\"id\"\u001b[0m: \u001b[32m\"call_exg9\"\u001b[0m,                                                                                    \n",
       "             \u001b[32m\"function\"\u001b[0m: \u001b[1m{\u001b[0m                                                                                         \n",
       "               \u001b[32m\"arguments\"\u001b[0m: \u001b[32m\"\u001b[0m\u001b[32m{\u001b[0m\u001b[32m\\\"url\\\":\\\"https://www.youtube.com/watch?\u001b[0m\u001b[32mv\u001b[0m\u001b[32m=\u001b[0m\u001b[32moMfhNnmSxUU\u001b[0m\u001b[32m\\\"\u001b[0m\u001b[32m}\u001b[0m\u001b[32m\"\u001b[0m,                           \n",
       "               \u001b[32m\"name\"\u001b[0m: \u001b[32m\"get_youtube_video_captions\"\u001b[0m                                                                \n",
       "             \u001b[1m}\u001b[0m,                                                                                                    \n",
       "             \u001b[32m\"type\"\u001b[0m: \u001b[32m\"function\"\u001b[0m                                                                                    \n",
       "           \u001b[1m}\u001b[0m                                                                                                       \n",
       "         \u001b[1m]\u001b[0m                                                                                                         \n"
      ]
     },
     "metadata": {},
     "output_type": "display_data"
    },
    {
     "data": {
      "text/html": [
       "<pre style=\"white-space:pre;overflow-x:auto;line-height:normal;font-family:Menlo,'DejaVu Sans Mono',consolas,'Courier New',monospace\"><span style=\"color: #008000; text-decoration-color: #008000\">DEBUG   </span> ============== tool ==============                                                                        \n",
       "</pre>\n"
      ],
      "text/plain": [
       "\u001b[32mDEBUG   \u001b[0m ============== tool ==============                                                                        \n"
      ]
     },
     "metadata": {},
     "output_type": "display_data"
    },
    {
     "data": {
      "text/html": [
       "<pre style=\"white-space:pre;overflow-x:auto;line-height:normal;font-family:Menlo,'DejaVu Sans Mono',consolas,'Courier New',monospace\"><span style=\"color: #008000; text-decoration-color: #008000\">DEBUG   </span> Call Id: call_exg9                                                                                        \n",
       "</pre>\n"
      ],
      "text/plain": [
       "\u001b[32mDEBUG   \u001b[0m Call Id: call_exg9                                                                                        \n"
      ]
     },
     "metadata": {},
     "output_type": "display_data"
    },
    {
     "data": {
      "text/html": [
       "<pre style=\"white-space:pre;overflow-x:auto;line-height:normal;font-family:Menlo,'DejaVu Sans Mono',consolas,'Courier New',monospace\"><span style=\"color: #008000; text-decoration-color: #008000\">DEBUG   </span> Error getting captions for video:                                                                         \n",
       "         Could not retrieve a transcript for the video <span style=\"color: #0000ff; text-decoration-color: #0000ff; text-decoration: underline\">https://www.youtube.com/watch?v=oMfhNnmSxUU!</span> This is most   \n",
       "         likely caused by:                                                                                         \n",
       "                                                                                                                   \n",
       "         No transcripts were found for any of the requested language codes: <span style=\"font-weight: bold\">(</span><span style=\"color: #008000; text-decoration-color: #008000\">'en'</span>,<span style=\"font-weight: bold\">)</span>                                \n",
       "                                                                                                                   \n",
       "         For this video <span style=\"font-weight: bold\">(</span>oMfhNnmSxUU<span style=\"font-weight: bold\">)</span> transcripts are available in the following languages:                        \n",
       "                                                                                                                   \n",
       "         <span style=\"font-weight: bold\">(</span>MANUALLY CREATED<span style=\"font-weight: bold\">)</span>                                                                                        \n",
       "         <span style=\"color: #800080; text-decoration-color: #800080; font-style: italic\">None</span>                                                                                                      \n",
       "                                                                                                                   \n",
       "         <span style=\"font-weight: bold\">(</span>GENERATED<span style=\"font-weight: bold\">)</span>                                                                                               \n",
       "          - hi <span style=\"font-weight: bold\">(</span><span style=\"color: #008000; text-decoration-color: #008000\">\"Hindi (auto-generated)\"</span><span style=\"font-weight: bold\">)[</span>TRANSLATABLE<span style=\"font-weight: bold\">]</span>                                                            \n",
       "                                                                                                                   \n",
       "         <span style=\"font-weight: bold\">(</span>TRANSLATION LANGUAGES<span style=\"font-weight: bold\">)</span>                                                                                   \n",
       "          - ab <span style=\"font-weight: bold\">(</span><span style=\"color: #008000; text-decoration-color: #008000\">\"Abkhazian\"</span><span style=\"font-weight: bold\">)</span>                                                                                       \n",
       "          - aa <span style=\"font-weight: bold\">(</span><span style=\"color: #008000; text-decoration-color: #008000\">\"Afar\"</span><span style=\"font-weight: bold\">)</span>                                                                                            \n",
       "          - af <span style=\"font-weight: bold\">(</span><span style=\"color: #008000; text-decoration-color: #008000\">\"Afrikaans\"</span><span style=\"font-weight: bold\">)</span>                                                                                       \n",
       "          - ak <span style=\"font-weight: bold\">(</span><span style=\"color: #008000; text-decoration-color: #008000\">\"Akan\"</span><span style=\"font-weight: bold\">)</span>                                                                                            \n",
       "          - sq <span style=\"font-weight: bold\">(</span><span style=\"color: #008000; text-decoration-color: #008000\">\"Albanian\"</span><span style=\"font-weight: bold\">)</span>                                                                                        \n",
       "          - am <span style=\"font-weight: bold\">(</span><span style=\"color: #008000; text-decoration-color: #008000\">\"Amharic\"</span><span style=\"font-weight: bold\">)</span>                                                                                         \n",
       "          - ar <span style=\"font-weight: bold\">(</span><span style=\"color: #008000; text-decoration-color: #008000\">\"Arabic\"</span><span style=\"font-weight: bold\">)</span>                                                                                          \n",
       "          - hy <span style=\"font-weight: bold\">(</span><span style=\"color: #008000; text-decoration-color: #008000\">\"Armenian\"</span><span style=\"font-weight: bold\">)</span>                                                                                        \n",
       "          - as <span style=\"font-weight: bold\">(</span><span style=\"color: #008000; text-decoration-color: #008000\">\"Assamese\"</span><span style=\"font-weight: bold\">)</span>                                                                                        \n",
       "          - ay <span style=\"font-weight: bold\">(</span><span style=\"color: #008000; text-decoration-color: #008000\">\"Aymara\"</span><span style=\"font-weight: bold\">)</span>                                                                                          \n",
       "          - az <span style=\"font-weight: bold\">(</span><span style=\"color: #008000; text-decoration-color: #008000\">\"Azerbaijani\"</span><span style=\"font-weight: bold\">)</span>                                                                                     \n",
       "          - bn <span style=\"font-weight: bold\">(</span><span style=\"color: #008000; text-decoration-color: #008000\">\"Bangla\"</span><span style=\"font-weight: bold\">)</span>                                                                                          \n",
       "          - ba <span style=\"font-weight: bold\">(</span><span style=\"color: #008000; text-decoration-color: #008000\">\"Bashkir\"</span><span style=\"font-weight: bold\">)</span>                                                                                         \n",
       "          - eu <span style=\"font-weight: bold\">(</span><span style=\"color: #008000; text-decoration-color: #008000\">\"Basque\"</span><span style=\"font-weight: bold\">)</span>                                                                                          \n",
       "          - be <span style=\"font-weight: bold\">(</span><span style=\"color: #008000; text-decoration-color: #008000\">\"Belarusian\"</span><span style=\"font-weight: bold\">)</span>                                                                                      \n",
       "          - bho <span style=\"font-weight: bold\">(</span><span style=\"color: #008000; text-decoration-color: #008000\">\"Bhojpuri\"</span><span style=\"font-weight: bold\">)</span>                                                                                       \n",
       "          - bs <span style=\"font-weight: bold\">(</span><span style=\"color: #008000; text-decoration-color: #008000\">\"Bosnian\"</span><span style=\"font-weight: bold\">)</span>                                                                                         \n",
       "          - br <span style=\"font-weight: bold\">(</span><span style=\"color: #008000; text-decoration-color: #008000\">\"Breton\"</span><span style=\"font-weight: bold\">)</span>                                                                                          \n",
       "          - bg <span style=\"font-weight: bold\">(</span><span style=\"color: #008000; text-decoration-color: #008000\">\"Bulgarian\"</span><span style=\"font-weight: bold\">)</span>                                                                                       \n",
       "          - my <span style=\"font-weight: bold\">(</span><span style=\"color: #008000; text-decoration-color: #008000\">\"Burmese\"</span><span style=\"font-weight: bold\">)</span>                                                                                         \n",
       "          - ca <span style=\"font-weight: bold\">(</span><span style=\"color: #008000; text-decoration-color: #008000\">\"Catalan\"</span><span style=\"font-weight: bold\">)</span>                                                                                         \n",
       "          - ceb <span style=\"font-weight: bold\">(</span><span style=\"color: #008000; text-decoration-color: #008000\">\"Cebuano\"</span><span style=\"font-weight: bold\">)</span>                                                                                        \n",
       "          - zh-Hans <span style=\"font-weight: bold\">(</span><span style=\"color: #008000; text-decoration-color: #008000\">\"Chinese (Simplified)\"</span><span style=\"font-weight: bold\">)</span>                                                                       \n",
       "          - zh-Hant <span style=\"font-weight: bold\">(</span><span style=\"color: #008000; text-decoration-color: #008000\">\"Chinese (Traditional)\"</span><span style=\"font-weight: bold\">)</span>                                                                      \n",
       "          - co <span style=\"font-weight: bold\">(</span><span style=\"color: #008000; text-decoration-color: #008000\">\"Corsican\"</span><span style=\"font-weight: bold\">)</span>                                                                                        \n",
       "          - hr <span style=\"font-weight: bold\">(</span><span style=\"color: #008000; text-decoration-color: #008000\">\"Croatian\"</span><span style=\"font-weight: bold\">)</span>                                                                                        \n",
       "          - cs <span style=\"font-weight: bold\">(</span><span style=\"color: #008000; text-decoration-color: #008000\">\"Czech\"</span><span style=\"font-weight: bold\">)</span>                                                                                           \n",
       "          - da <span style=\"font-weight: bold\">(</span><span style=\"color: #008000; text-decoration-color: #008000\">\"Danish\"</span><span style=\"font-weight: bold\">)</span>                                                                                          \n",
       "          - dv <span style=\"font-weight: bold\">(</span><span style=\"color: #008000; text-decoration-color: #008000\">\"Divehi\"</span><span style=\"font-weight: bold\">)</span>                                                                                          \n",
       "          - nl <span style=\"font-weight: bold\">(</span><span style=\"color: #008000; text-decoration-color: #008000\">\"Dutch\"</span><span style=\"font-weight: bold\">)</span>                                                                                           \n",
       "          - dz <span style=\"font-weight: bold\">(</span><span style=\"color: #008000; text-decoration-color: #008000\">\"Dzongkha\"</span><span style=\"font-weight: bold\">)</span>                                                                                        \n",
       "          - en <span style=\"font-weight: bold\">(</span><span style=\"color: #008000; text-decoration-color: #008000\">\"English\"</span><span style=\"font-weight: bold\">)</span>                                                                                         \n",
       "          - eo <span style=\"font-weight: bold\">(</span><span style=\"color: #008000; text-decoration-color: #008000\">\"Esperanto\"</span><span style=\"font-weight: bold\">)</span>                                                                                       \n",
       "          - et <span style=\"font-weight: bold\">(</span><span style=\"color: #008000; text-decoration-color: #008000\">\"Estonian\"</span><span style=\"font-weight: bold\">)</span>                                                                                        \n",
       "          - ee <span style=\"font-weight: bold\">(</span><span style=\"color: #008000; text-decoration-color: #008000\">\"Ewe\"</span><span style=\"font-weight: bold\">)</span>                                                                                             \n",
       "          - fo <span style=\"font-weight: bold\">(</span><span style=\"color: #008000; text-decoration-color: #008000\">\"Faroese\"</span><span style=\"font-weight: bold\">)</span>                                                                                         \n",
       "          - fj <span style=\"font-weight: bold\">(</span><span style=\"color: #008000; text-decoration-color: #008000\">\"Fijian\"</span><span style=\"font-weight: bold\">)</span>                                                                                          \n",
       "          - fil <span style=\"font-weight: bold\">(</span><span style=\"color: #008000; text-decoration-color: #008000\">\"Filipino\"</span><span style=\"font-weight: bold\">)</span>                                                                                       \n",
       "          - fi <span style=\"font-weight: bold\">(</span><span style=\"color: #008000; text-decoration-color: #008000\">\"Finnish\"</span><span style=\"font-weight: bold\">)</span>                                                                                         \n",
       "          - fr <span style=\"font-weight: bold\">(</span><span style=\"color: #008000; text-decoration-color: #008000\">\"French\"</span><span style=\"font-weight: bold\">)</span>                                                                                          \n",
       "          - gaa <span style=\"font-weight: bold\">(</span><span style=\"color: #008000; text-decoration-color: #008000\">\"Ga\"</span><span style=\"font-weight: bold\">)</span>                                                                                             \n",
       "          - gl <span style=\"font-weight: bold\">(</span><span style=\"color: #008000; text-decoration-color: #008000\">\"Galician\"</span><span style=\"font-weight: bold\">)</span>                                                                                        \n",
       "          - lg <span style=\"font-weight: bold\">(</span><span style=\"color: #008000; text-decoration-color: #008000\">\"Ganda\"</span><span style=\"font-weight: bold\">)</span>                                                                                           \n",
       "          - ka <span style=\"font-weight: bold\">(</span><span style=\"color: #008000; text-decoration-color: #008000\">\"Georgian\"</span><span style=\"font-weight: bold\">)</span>                                                                                        \n",
       "          - de <span style=\"font-weight: bold\">(</span><span style=\"color: #008000; text-decoration-color: #008000\">\"German\"</span><span style=\"font-weight: bold\">)</span>                                                                                          \n",
       "          - el <span style=\"font-weight: bold\">(</span><span style=\"color: #008000; text-decoration-color: #008000\">\"Greek\"</span><span style=\"font-weight: bold\">)</span>                                                                                           \n",
       "          - gn <span style=\"font-weight: bold\">(</span><span style=\"color: #008000; text-decoration-color: #008000\">\"Guarani\"</span><span style=\"font-weight: bold\">)</span>                                                                                         \n",
       "          - gu <span style=\"font-weight: bold\">(</span><span style=\"color: #008000; text-decoration-color: #008000\">\"Gujarati\"</span><span style=\"font-weight: bold\">)</span>                                                                                        \n",
       "          - ht <span style=\"font-weight: bold\">(</span><span style=\"color: #008000; text-decoration-color: #008000\">\"Haitian Creole\"</span><span style=\"font-weight: bold\">)</span>                                                                                  \n",
       "          - ha <span style=\"font-weight: bold\">(</span><span style=\"color: #008000; text-decoration-color: #008000\">\"Hausa\"</span><span style=\"font-weight: bold\">)</span>                                                                                           \n",
       "          - haw <span style=\"font-weight: bold\">(</span><span style=\"color: #008000; text-decoration-color: #008000\">\"Hawaiian\"</span><span style=\"font-weight: bold\">)</span>                                                                                       \n",
       "          - iw <span style=\"font-weight: bold\">(</span><span style=\"color: #008000; text-decoration-color: #008000\">\"Hebrew\"</span><span style=\"font-weight: bold\">)</span>                                                                                          \n",
       "          - hi <span style=\"font-weight: bold\">(</span><span style=\"color: #008000; text-decoration-color: #008000\">\"Hindi\"</span><span style=\"font-weight: bold\">)</span>                                                                                           \n",
       "          - hmn <span style=\"font-weight: bold\">(</span><span style=\"color: #008000; text-decoration-color: #008000\">\"Hmong\"</span><span style=\"font-weight: bold\">)</span>                                                                                          \n",
       "          - hu <span style=\"font-weight: bold\">(</span><span style=\"color: #008000; text-decoration-color: #008000\">\"Hungarian\"</span><span style=\"font-weight: bold\">)</span>                                                                                       \n",
       "          - is <span style=\"font-weight: bold\">(</span><span style=\"color: #008000; text-decoration-color: #008000\">\"Icelandic\"</span><span style=\"font-weight: bold\">)</span>                                                                                       \n",
       "          - ig <span style=\"font-weight: bold\">(</span><span style=\"color: #008000; text-decoration-color: #008000\">\"Igbo\"</span><span style=\"font-weight: bold\">)</span>                                                                                            \n",
       "          - id <span style=\"font-weight: bold\">(</span><span style=\"color: #008000; text-decoration-color: #008000\">\"Indonesian\"</span><span style=\"font-weight: bold\">)</span>                                                                                      \n",
       "          - ga <span style=\"font-weight: bold\">(</span><span style=\"color: #008000; text-decoration-color: #008000\">\"Irish\"</span><span style=\"font-weight: bold\">)</span>                                                                                           \n",
       "          - it <span style=\"font-weight: bold\">(</span><span style=\"color: #008000; text-decoration-color: #008000\">\"Italian\"</span><span style=\"font-weight: bold\">)</span>                                                                                         \n",
       "          - ja <span style=\"font-weight: bold\">(</span><span style=\"color: #008000; text-decoration-color: #008000\">\"Japanese\"</span><span style=\"font-weight: bold\">)</span>                                                                                        \n",
       "          - jv <span style=\"font-weight: bold\">(</span><span style=\"color: #008000; text-decoration-color: #008000\">\"Javanese\"</span><span style=\"font-weight: bold\">)</span>                                                                                        \n",
       "          - kl <span style=\"font-weight: bold\">(</span><span style=\"color: #008000; text-decoration-color: #008000\">\"Kalaallisut\"</span><span style=\"font-weight: bold\">)</span>                                                                                     \n",
       "          - kn <span style=\"font-weight: bold\">(</span><span style=\"color: #008000; text-decoration-color: #008000\">\"Kannada\"</span><span style=\"font-weight: bold\">)</span>                                                                                         \n",
       "          - kk <span style=\"font-weight: bold\">(</span><span style=\"color: #008000; text-decoration-color: #008000\">\"Kazakh\"</span><span style=\"font-weight: bold\">)</span>                                                                                          \n",
       "          - kha <span style=\"font-weight: bold\">(</span><span style=\"color: #008000; text-decoration-color: #008000\">\"Khasi\"</span><span style=\"font-weight: bold\">)</span>                                                                                          \n",
       "          - km <span style=\"font-weight: bold\">(</span><span style=\"color: #008000; text-decoration-color: #008000\">\"Khmer\"</span><span style=\"font-weight: bold\">)</span>                                                                                           \n",
       "          - rw <span style=\"font-weight: bold\">(</span><span style=\"color: #008000; text-decoration-color: #008000\">\"Kinyarwanda\"</span><span style=\"font-weight: bold\">)</span>                                                                                     \n",
       "          - ko <span style=\"font-weight: bold\">(</span><span style=\"color: #008000; text-decoration-color: #008000\">\"Korean\"</span><span style=\"font-weight: bold\">)</span>                                                                                          \n",
       "          - kri <span style=\"font-weight: bold\">(</span><span style=\"color: #008000; text-decoration-color: #008000\">\"Krio\"</span><span style=\"font-weight: bold\">)</span>                                                                                           \n",
       "          - ku <span style=\"font-weight: bold\">(</span><span style=\"color: #008000; text-decoration-color: #008000\">\"Kurdish\"</span><span style=\"font-weight: bold\">)</span>                                                                                         \n",
       "          - ky <span style=\"font-weight: bold\">(</span><span style=\"color: #008000; text-decoration-color: #008000\">\"Kyrgyz\"</span><span style=\"font-weight: bold\">)</span>                                                                                          \n",
       "          - lo <span style=\"font-weight: bold\">(</span><span style=\"color: #008000; text-decoration-color: #008000\">\"Lao\"</span><span style=\"font-weight: bold\">)</span>                                                                                             \n",
       "          - la <span style=\"font-weight: bold\">(</span><span style=\"color: #008000; text-decoration-color: #008000\">\"Latin\"</span><span style=\"font-weight: bold\">)</span>                                                                                           \n",
       "          - lv <span style=\"font-weight: bold\">(</span><span style=\"color: #008000; text-decoration-color: #008000\">\"Latvian\"</span><span style=\"font-weight: bold\">)</span>                                                                                         \n",
       "          - ln <span style=\"font-weight: bold\">(</span><span style=\"color: #008000; text-decoration-color: #008000\">\"Lingala\"</span><span style=\"font-weight: bold\">)</span>                                                                                         \n",
       "          - lt <span style=\"font-weight: bold\">(</span><span style=\"color: #008000; text-decoration-color: #008000\">\"Lithuanian\"</span><span style=\"font-weight: bold\">)</span>                                                                                      \n",
       "          - luo <span style=\"font-weight: bold\">(</span><span style=\"color: #008000; text-decoration-color: #008000\">\"Luo\"</span><span style=\"font-weight: bold\">)</span>                                                                                            \n",
       "          - lb <span style=\"font-weight: bold\">(</span><span style=\"color: #008000; text-decoration-color: #008000\">\"Luxembourgish\"</span><span style=\"font-weight: bold\">)</span>                                                                                   \n",
       "          - mk <span style=\"font-weight: bold\">(</span><span style=\"color: #008000; text-decoration-color: #008000\">\"Macedonian\"</span><span style=\"font-weight: bold\">)</span>                                                                                      \n",
       "          - mg <span style=\"font-weight: bold\">(</span><span style=\"color: #008000; text-decoration-color: #008000\">\"Malagasy\"</span><span style=\"font-weight: bold\">)</span>                                                                                        \n",
       "          - ms <span style=\"font-weight: bold\">(</span><span style=\"color: #008000; text-decoration-color: #008000\">\"Malay\"</span><span style=\"font-weight: bold\">)</span>                                                                                           \n",
       "          - ml <span style=\"font-weight: bold\">(</span><span style=\"color: #008000; text-decoration-color: #008000\">\"Malayalam\"</span><span style=\"font-weight: bold\">)</span>                                                                                       \n",
       "          - mt <span style=\"font-weight: bold\">(</span><span style=\"color: #008000; text-decoration-color: #008000\">\"Maltese\"</span><span style=\"font-weight: bold\">)</span>                                                                                         \n",
       "          - gv <span style=\"font-weight: bold\">(</span><span style=\"color: #008000; text-decoration-color: #008000\">\"Manx\"</span><span style=\"font-weight: bold\">)</span>                                                                                            \n",
       "          - mi <span style=\"font-weight: bold\">(</span><span style=\"color: #008000; text-decoration-color: #008000\">\"Māori\"</span><span style=\"font-weight: bold\">)</span>                                                                                           \n",
       "          - mr <span style=\"font-weight: bold\">(</span><span style=\"color: #008000; text-decoration-color: #008000\">\"Marathi\"</span><span style=\"font-weight: bold\">)</span>                                                                                         \n",
       "          - mn <span style=\"font-weight: bold\">(</span><span style=\"color: #008000; text-decoration-color: #008000\">\"Mongolian\"</span><span style=\"font-weight: bold\">)</span>                                                                                       \n",
       "          - mfe <span style=\"font-weight: bold\">(</span><span style=\"color: #008000; text-decoration-color: #008000\">\"Morisyen\"</span><span style=\"font-weight: bold\">)</span>                                                                                       \n",
       "          - ne <span style=\"font-weight: bold\">(</span><span style=\"color: #008000; text-decoration-color: #008000\">\"Nepali\"</span><span style=\"font-weight: bold\">)</span>                                                                                          \n",
       "          - new <span style=\"font-weight: bold\">(</span><span style=\"color: #008000; text-decoration-color: #008000\">\"Newari\"</span><span style=\"font-weight: bold\">)</span>                                                                                         \n",
       "          - nso <span style=\"font-weight: bold\">(</span><span style=\"color: #008000; text-decoration-color: #008000\">\"Northern Sotho\"</span><span style=\"font-weight: bold\">)</span>                                                                                 \n",
       "          - no <span style=\"font-weight: bold\">(</span><span style=\"color: #008000; text-decoration-color: #008000\">\"Norwegian\"</span><span style=\"font-weight: bold\">)</span>                                                                                       \n",
       "          - ny <span style=\"font-weight: bold\">(</span><span style=\"color: #008000; text-decoration-color: #008000\">\"Nyanja\"</span><span style=\"font-weight: bold\">)</span>                                                                                          \n",
       "          - oc <span style=\"font-weight: bold\">(</span><span style=\"color: #008000; text-decoration-color: #008000\">\"Occitan\"</span><span style=\"font-weight: bold\">)</span>                                                                                         \n",
       "          - or <span style=\"font-weight: bold\">(</span><span style=\"color: #008000; text-decoration-color: #008000\">\"Odia\"</span><span style=\"font-weight: bold\">)</span>                                                                                            \n",
       "          - om <span style=\"font-weight: bold\">(</span><span style=\"color: #008000; text-decoration-color: #008000\">\"Oromo\"</span><span style=\"font-weight: bold\">)</span>                                                                                           \n",
       "          - os <span style=\"font-weight: bold\">(</span><span style=\"color: #008000; text-decoration-color: #008000\">\"Ossetic\"</span><span style=\"font-weight: bold\">)</span>                                                                                         \n",
       "          - pam <span style=\"font-weight: bold\">(</span><span style=\"color: #008000; text-decoration-color: #008000\">\"Pampanga\"</span><span style=\"font-weight: bold\">)</span>                                                                                       \n",
       "          - ps <span style=\"font-weight: bold\">(</span><span style=\"color: #008000; text-decoration-color: #008000\">\"Pashto\"</span><span style=\"font-weight: bold\">)</span>                                                                                          \n",
       "          - fa <span style=\"font-weight: bold\">(</span><span style=\"color: #008000; text-decoration-color: #008000\">\"Persian\"</span><span style=\"font-weight: bold\">)</span>                                                                                         \n",
       "          - pl <span style=\"font-weight: bold\">(</span><span style=\"color: #008000; text-decoration-color: #008000\">\"Polish\"</span><span style=\"font-weight: bold\">)</span>                                                                                          \n",
       "          - pt <span style=\"font-weight: bold\">(</span><span style=\"color: #008000; text-decoration-color: #008000\">\"Portuguese\"</span><span style=\"font-weight: bold\">)</span>                                                                                      \n",
       "          - pt-PT <span style=\"font-weight: bold\">(</span><span style=\"color: #008000; text-decoration-color: #008000\">\"Portuguese (Portugal)\"</span><span style=\"font-weight: bold\">)</span>                                                                        \n",
       "          - pa <span style=\"font-weight: bold\">(</span><span style=\"color: #008000; text-decoration-color: #008000\">\"Punjabi\"</span><span style=\"font-weight: bold\">)</span>                                                                                         \n",
       "          - qu <span style=\"font-weight: bold\">(</span><span style=\"color: #008000; text-decoration-color: #008000\">\"Quechua\"</span><span style=\"font-weight: bold\">)</span>                                                                                         \n",
       "          - ro <span style=\"font-weight: bold\">(</span><span style=\"color: #008000; text-decoration-color: #008000\">\"Romanian\"</span><span style=\"font-weight: bold\">)</span>                                                                                        \n",
       "          - rn <span style=\"font-weight: bold\">(</span><span style=\"color: #008000; text-decoration-color: #008000\">\"Rundi\"</span><span style=\"font-weight: bold\">)</span>                                                                                           \n",
       "          - ru <span style=\"font-weight: bold\">(</span><span style=\"color: #008000; text-decoration-color: #008000\">\"Russian\"</span><span style=\"font-weight: bold\">)</span>                                                                                         \n",
       "          - sm <span style=\"font-weight: bold\">(</span><span style=\"color: #008000; text-decoration-color: #008000\">\"Samoan\"</span><span style=\"font-weight: bold\">)</span>                                                                                          \n",
       "          - sg <span style=\"font-weight: bold\">(</span><span style=\"color: #008000; text-decoration-color: #008000\">\"Sango\"</span><span style=\"font-weight: bold\">)</span>                                                                                           \n",
       "          - sa <span style=\"font-weight: bold\">(</span><span style=\"color: #008000; text-decoration-color: #008000\">\"Sanskrit\"</span><span style=\"font-weight: bold\">)</span>                                                                                        \n",
       "          - gd <span style=\"font-weight: bold\">(</span><span style=\"color: #008000; text-decoration-color: #008000\">\"Scottish Gaelic\"</span><span style=\"font-weight: bold\">)</span>                                                                                 \n",
       "          - sr <span style=\"font-weight: bold\">(</span><span style=\"color: #008000; text-decoration-color: #008000\">\"Serbian\"</span><span style=\"font-weight: bold\">)</span>                                                                                         \n",
       "          - crs <span style=\"font-weight: bold\">(</span><span style=\"color: #008000; text-decoration-color: #008000\">\"Seselwa Creole French\"</span><span style=\"font-weight: bold\">)</span>                                                                          \n",
       "          - sn <span style=\"font-weight: bold\">(</span><span style=\"color: #008000; text-decoration-color: #008000\">\"Shona\"</span><span style=\"font-weight: bold\">)</span>                                                                                           \n",
       "          - sd <span style=\"font-weight: bold\">(</span><span style=\"color: #008000; text-decoration-color: #008000\">\"Sindhi\"</span><span style=\"font-weight: bold\">)</span>                                                                                          \n",
       "          - si <span style=\"font-weight: bold\">(</span><span style=\"color: #008000; text-decoration-color: #008000\">\"Sinhala\"</span><span style=\"font-weight: bold\">)</span>                                                                                         \n",
       "          - sk <span style=\"font-weight: bold\">(</span><span style=\"color: #008000; text-decoration-color: #008000\">\"Slovak\"</span><span style=\"font-weight: bold\">)</span>                                                                                          \n",
       "          - sl <span style=\"font-weight: bold\">(</span><span style=\"color: #008000; text-decoration-color: #008000\">\"Slovenian\"</span><span style=\"font-weight: bold\">)</span>                                                                                       \n",
       "          - so <span style=\"font-weight: bold\">(</span><span style=\"color: #008000; text-decoration-color: #008000\">\"Somali\"</span><span style=\"font-weight: bold\">)</span>                                                                                          \n",
       "          - st <span style=\"font-weight: bold\">(</span><span style=\"color: #008000; text-decoration-color: #008000\">\"Southern Sotho\"</span><span style=\"font-weight: bold\">)</span>                                                                                  \n",
       "          - es <span style=\"font-weight: bold\">(</span><span style=\"color: #008000; text-decoration-color: #008000\">\"Spanish\"</span><span style=\"font-weight: bold\">)</span>                                                                                         \n",
       "          - su <span style=\"font-weight: bold\">(</span><span style=\"color: #008000; text-decoration-color: #008000\">\"Sundanese\"</span><span style=\"font-weight: bold\">)</span>                                                                                       \n",
       "          - sw <span style=\"font-weight: bold\">(</span><span style=\"color: #008000; text-decoration-color: #008000\">\"Swahili\"</span><span style=\"font-weight: bold\">)</span>                                                                                         \n",
       "          - ss <span style=\"font-weight: bold\">(</span><span style=\"color: #008000; text-decoration-color: #008000\">\"Swati\"</span><span style=\"font-weight: bold\">)</span>                                                                                           \n",
       "          - sv <span style=\"font-weight: bold\">(</span><span style=\"color: #008000; text-decoration-color: #008000\">\"Swedish\"</span><span style=\"font-weight: bold\">)</span>                                                                                         \n",
       "          - tg <span style=\"font-weight: bold\">(</span><span style=\"color: #008000; text-decoration-color: #008000\">\"Tajik\"</span><span style=\"font-weight: bold\">)</span>                                                                                           \n",
       "          - ta <span style=\"font-weight: bold\">(</span><span style=\"color: #008000; text-decoration-color: #008000\">\"Tamil\"</span><span style=\"font-weight: bold\">)</span>                                                                                           \n",
       "          - tt <span style=\"font-weight: bold\">(</span><span style=\"color: #008000; text-decoration-color: #008000\">\"Tatar\"</span><span style=\"font-weight: bold\">)</span>                                                                                           \n",
       "          - te <span style=\"font-weight: bold\">(</span><span style=\"color: #008000; text-decoration-color: #008000\">\"Telugu\"</span><span style=\"font-weight: bold\">)</span>                                                                                          \n",
       "          - th <span style=\"font-weight: bold\">(</span><span style=\"color: #008000; text-decoration-color: #008000\">\"Thai\"</span><span style=\"font-weight: bold\">)</span>                                                                                            \n",
       "          - bo <span style=\"font-weight: bold\">(</span><span style=\"color: #008000; text-decoration-color: #008000\">\"Tibetan\"</span><span style=\"font-weight: bold\">)</span>                                                                                         \n",
       "          - ti <span style=\"font-weight: bold\">(</span><span style=\"color: #008000; text-decoration-color: #008000\">\"Tigrinya\"</span><span style=\"font-weight: bold\">)</span>                                                                                        \n",
       "          - to <span style=\"font-weight: bold\">(</span><span style=\"color: #008000; text-decoration-color: #008000\">\"Tongan\"</span><span style=\"font-weight: bold\">)</span>                                                                                          \n",
       "          - ts <span style=\"font-weight: bold\">(</span><span style=\"color: #008000; text-decoration-color: #008000\">\"Tsonga\"</span><span style=\"font-weight: bold\">)</span>                                                                                          \n",
       "          - tn <span style=\"font-weight: bold\">(</span><span style=\"color: #008000; text-decoration-color: #008000\">\"Tswana\"</span><span style=\"font-weight: bold\">)</span>                                                                                          \n",
       "          - tum <span style=\"font-weight: bold\">(</span><span style=\"color: #008000; text-decoration-color: #008000\">\"Tumbuka\"</span><span style=\"font-weight: bold\">)</span>                                                                                        \n",
       "          - tr <span style=\"font-weight: bold\">(</span><span style=\"color: #008000; text-decoration-color: #008000\">\"Turkish\"</span><span style=\"font-weight: bold\">)</span>                                                                                         \n",
       "          - tk <span style=\"font-weight: bold\">(</span><span style=\"color: #008000; text-decoration-color: #008000\">\"Turkmen\"</span><span style=\"font-weight: bold\">)</span>                                                                                         \n",
       "          - uk <span style=\"font-weight: bold\">(</span><span style=\"color: #008000; text-decoration-color: #008000\">\"Ukrainian\"</span><span style=\"font-weight: bold\">)</span>                                                                                       \n",
       "          - ur <span style=\"font-weight: bold\">(</span><span style=\"color: #008000; text-decoration-color: #008000\">\"Urdu\"</span><span style=\"font-weight: bold\">)</span>                                                                                            \n",
       "          - ug <span style=\"font-weight: bold\">(</span><span style=\"color: #008000; text-decoration-color: #008000\">\"Uyghur\"</span><span style=\"font-weight: bold\">)</span>                                                                                          \n",
       "          - uz <span style=\"font-weight: bold\">(</span><span style=\"color: #008000; text-decoration-color: #008000\">\"Uzbek\"</span><span style=\"font-weight: bold\">)</span>                                                                                           \n",
       "          - ve <span style=\"font-weight: bold\">(</span><span style=\"color: #008000; text-decoration-color: #008000\">\"Venda\"</span><span style=\"font-weight: bold\">)</span>                                                                                           \n",
       "          - vi <span style=\"font-weight: bold\">(</span><span style=\"color: #008000; text-decoration-color: #008000\">\"Vietnamese\"</span><span style=\"font-weight: bold\">)</span>                                                                                      \n",
       "          - war <span style=\"font-weight: bold\">(</span><span style=\"color: #008000; text-decoration-color: #008000\">\"Waray\"</span><span style=\"font-weight: bold\">)</span>                                                                                          \n",
       "          - cy <span style=\"font-weight: bold\">(</span><span style=\"color: #008000; text-decoration-color: #008000\">\"Welsh\"</span><span style=\"font-weight: bold\">)</span>                                                                                           \n",
       "          - fy <span style=\"font-weight: bold\">(</span><span style=\"color: #008000; text-decoration-color: #008000\">\"Western Frisian\"</span><span style=\"font-weight: bold\">)</span>                                                                                 \n",
       "          - wo <span style=\"font-weight: bold\">(</span><span style=\"color: #008000; text-decoration-color: #008000\">\"Wolof\"</span><span style=\"font-weight: bold\">)</span>                                                                                           \n",
       "          - xh <span style=\"font-weight: bold\">(</span><span style=\"color: #008000; text-decoration-color: #008000\">\"Xhosa\"</span><span style=\"font-weight: bold\">)</span>                                                                                           \n",
       "          - yi <span style=\"font-weight: bold\">(</span><span style=\"color: #008000; text-decoration-color: #008000\">\"Yiddish\"</span><span style=\"font-weight: bold\">)</span>                                                                                         \n",
       "          - yo <span style=\"font-weight: bold\">(</span><span style=\"color: #008000; text-decoration-color: #008000\">\"Yoruba\"</span><span style=\"font-weight: bold\">)</span>                                                                                          \n",
       "          - zu <span style=\"font-weight: bold\">(</span><span style=\"color: #008000; text-decoration-color: #008000\">\"Zulu\"</span><span style=\"font-weight: bold\">)</span>                                                                                            \n",
       "                                                                                                                   \n",
       "         If you are sure that the described cause is not responsible for this error and that a transcript should be\n",
       "         retrievable, please create an issue at <span style=\"color: #0000ff; text-decoration-color: #0000ff; text-decoration: underline\">https://github.com/jdepoix/youtube-transcript-api/issues.</span> Please   \n",
       "         add which version of youtube_transcript_api you are using and provide the information needed to replicate \n",
       "         the error. Also make sure that there are no open issues which already describe your problem!              \n",
       "</pre>\n"
      ],
      "text/plain": [
       "\u001b[32mDEBUG   \u001b[0m Error getting captions for video:                                                                         \n",
       "         Could not retrieve a transcript for the video \u001b[4;94mhttps://www.youtube.com/watch?\u001b[0m\u001b[4;94mv\u001b[0m\u001b[4;94m=\u001b[0m\u001b[4;94moMfhNnmSxUU\u001b[0m\u001b[4;94m!\u001b[0m This is most   \n",
       "         likely caused by:                                                                                         \n",
       "                                                                                                                   \n",
       "         No transcripts were found for any of the requested language codes: \u001b[1m(\u001b[0m\u001b[32m'en'\u001b[0m,\u001b[1m)\u001b[0m                                \n",
       "                                                                                                                   \n",
       "         For this video \u001b[1m(\u001b[0moMfhNnmSxUU\u001b[1m)\u001b[0m transcripts are available in the following languages:                        \n",
       "                                                                                                                   \n",
       "         \u001b[1m(\u001b[0mMANUALLY CREATED\u001b[1m)\u001b[0m                                                                                        \n",
       "         \u001b[3;35mNone\u001b[0m                                                                                                      \n",
       "                                                                                                                   \n",
       "         \u001b[1m(\u001b[0mGENERATED\u001b[1m)\u001b[0m                                                                                               \n",
       "          - hi \u001b[1m(\u001b[0m\u001b[32m\"Hindi \u001b[0m\u001b[32m(\u001b[0m\u001b[32mauto-generated\u001b[0m\u001b[32m)\u001b[0m\u001b[32m\"\u001b[0m\u001b[1m)\u001b[0m\u001b[1m[\u001b[0mTRANSLATABLE\u001b[1m]\u001b[0m                                                            \n",
       "                                                                                                                   \n",
       "         \u001b[1m(\u001b[0mTRANSLATION LANGUAGES\u001b[1m)\u001b[0m                                                                                   \n",
       "          - ab \u001b[1m(\u001b[0m\u001b[32m\"Abkhazian\"\u001b[0m\u001b[1m)\u001b[0m                                                                                       \n",
       "          - aa \u001b[1m(\u001b[0m\u001b[32m\"Afar\"\u001b[0m\u001b[1m)\u001b[0m                                                                                            \n",
       "          - af \u001b[1m(\u001b[0m\u001b[32m\"Afrikaans\"\u001b[0m\u001b[1m)\u001b[0m                                                                                       \n",
       "          - ak \u001b[1m(\u001b[0m\u001b[32m\"Akan\"\u001b[0m\u001b[1m)\u001b[0m                                                                                            \n",
       "          - sq \u001b[1m(\u001b[0m\u001b[32m\"Albanian\"\u001b[0m\u001b[1m)\u001b[0m                                                                                        \n",
       "          - am \u001b[1m(\u001b[0m\u001b[32m\"Amharic\"\u001b[0m\u001b[1m)\u001b[0m                                                                                         \n",
       "          - ar \u001b[1m(\u001b[0m\u001b[32m\"Arabic\"\u001b[0m\u001b[1m)\u001b[0m                                                                                          \n",
       "          - hy \u001b[1m(\u001b[0m\u001b[32m\"Armenian\"\u001b[0m\u001b[1m)\u001b[0m                                                                                        \n",
       "          - as \u001b[1m(\u001b[0m\u001b[32m\"Assamese\"\u001b[0m\u001b[1m)\u001b[0m                                                                                        \n",
       "          - ay \u001b[1m(\u001b[0m\u001b[32m\"Aymara\"\u001b[0m\u001b[1m)\u001b[0m                                                                                          \n",
       "          - az \u001b[1m(\u001b[0m\u001b[32m\"Azerbaijani\"\u001b[0m\u001b[1m)\u001b[0m                                                                                     \n",
       "          - bn \u001b[1m(\u001b[0m\u001b[32m\"Bangla\"\u001b[0m\u001b[1m)\u001b[0m                                                                                          \n",
       "          - ba \u001b[1m(\u001b[0m\u001b[32m\"Bashkir\"\u001b[0m\u001b[1m)\u001b[0m                                                                                         \n",
       "          - eu \u001b[1m(\u001b[0m\u001b[32m\"Basque\"\u001b[0m\u001b[1m)\u001b[0m                                                                                          \n",
       "          - be \u001b[1m(\u001b[0m\u001b[32m\"Belarusian\"\u001b[0m\u001b[1m)\u001b[0m                                                                                      \n",
       "          - bho \u001b[1m(\u001b[0m\u001b[32m\"Bhojpuri\"\u001b[0m\u001b[1m)\u001b[0m                                                                                       \n",
       "          - bs \u001b[1m(\u001b[0m\u001b[32m\"Bosnian\"\u001b[0m\u001b[1m)\u001b[0m                                                                                         \n",
       "          - br \u001b[1m(\u001b[0m\u001b[32m\"Breton\"\u001b[0m\u001b[1m)\u001b[0m                                                                                          \n",
       "          - bg \u001b[1m(\u001b[0m\u001b[32m\"Bulgarian\"\u001b[0m\u001b[1m)\u001b[0m                                                                                       \n",
       "          - my \u001b[1m(\u001b[0m\u001b[32m\"Burmese\"\u001b[0m\u001b[1m)\u001b[0m                                                                                         \n",
       "          - ca \u001b[1m(\u001b[0m\u001b[32m\"Catalan\"\u001b[0m\u001b[1m)\u001b[0m                                                                                         \n",
       "          - ceb \u001b[1m(\u001b[0m\u001b[32m\"Cebuano\"\u001b[0m\u001b[1m)\u001b[0m                                                                                        \n",
       "          - zh-Hans \u001b[1m(\u001b[0m\u001b[32m\"Chinese \u001b[0m\u001b[32m(\u001b[0m\u001b[32mSimplified\u001b[0m\u001b[32m)\u001b[0m\u001b[32m\"\u001b[0m\u001b[1m)\u001b[0m                                                                       \n",
       "          - zh-Hant \u001b[1m(\u001b[0m\u001b[32m\"Chinese \u001b[0m\u001b[32m(\u001b[0m\u001b[32mTraditional\u001b[0m\u001b[32m)\u001b[0m\u001b[32m\"\u001b[0m\u001b[1m)\u001b[0m                                                                      \n",
       "          - co \u001b[1m(\u001b[0m\u001b[32m\"Corsican\"\u001b[0m\u001b[1m)\u001b[0m                                                                                        \n",
       "          - hr \u001b[1m(\u001b[0m\u001b[32m\"Croatian\"\u001b[0m\u001b[1m)\u001b[0m                                                                                        \n",
       "          - cs \u001b[1m(\u001b[0m\u001b[32m\"Czech\"\u001b[0m\u001b[1m)\u001b[0m                                                                                           \n",
       "          - da \u001b[1m(\u001b[0m\u001b[32m\"Danish\"\u001b[0m\u001b[1m)\u001b[0m                                                                                          \n",
       "          - dv \u001b[1m(\u001b[0m\u001b[32m\"Divehi\"\u001b[0m\u001b[1m)\u001b[0m                                                                                          \n",
       "          - nl \u001b[1m(\u001b[0m\u001b[32m\"Dutch\"\u001b[0m\u001b[1m)\u001b[0m                                                                                           \n",
       "          - dz \u001b[1m(\u001b[0m\u001b[32m\"Dzongkha\"\u001b[0m\u001b[1m)\u001b[0m                                                                                        \n",
       "          - en \u001b[1m(\u001b[0m\u001b[32m\"English\"\u001b[0m\u001b[1m)\u001b[0m                                                                                         \n",
       "          - eo \u001b[1m(\u001b[0m\u001b[32m\"Esperanto\"\u001b[0m\u001b[1m)\u001b[0m                                                                                       \n",
       "          - et \u001b[1m(\u001b[0m\u001b[32m\"Estonian\"\u001b[0m\u001b[1m)\u001b[0m                                                                                        \n",
       "          - ee \u001b[1m(\u001b[0m\u001b[32m\"Ewe\"\u001b[0m\u001b[1m)\u001b[0m                                                                                             \n",
       "          - fo \u001b[1m(\u001b[0m\u001b[32m\"Faroese\"\u001b[0m\u001b[1m)\u001b[0m                                                                                         \n",
       "          - fj \u001b[1m(\u001b[0m\u001b[32m\"Fijian\"\u001b[0m\u001b[1m)\u001b[0m                                                                                          \n",
       "          - fil \u001b[1m(\u001b[0m\u001b[32m\"Filipino\"\u001b[0m\u001b[1m)\u001b[0m                                                                                       \n",
       "          - fi \u001b[1m(\u001b[0m\u001b[32m\"Finnish\"\u001b[0m\u001b[1m)\u001b[0m                                                                                         \n",
       "          - fr \u001b[1m(\u001b[0m\u001b[32m\"French\"\u001b[0m\u001b[1m)\u001b[0m                                                                                          \n",
       "          - gaa \u001b[1m(\u001b[0m\u001b[32m\"Ga\"\u001b[0m\u001b[1m)\u001b[0m                                                                                             \n",
       "          - gl \u001b[1m(\u001b[0m\u001b[32m\"Galician\"\u001b[0m\u001b[1m)\u001b[0m                                                                                        \n",
       "          - lg \u001b[1m(\u001b[0m\u001b[32m\"Ganda\"\u001b[0m\u001b[1m)\u001b[0m                                                                                           \n",
       "          - ka \u001b[1m(\u001b[0m\u001b[32m\"Georgian\"\u001b[0m\u001b[1m)\u001b[0m                                                                                        \n",
       "          - de \u001b[1m(\u001b[0m\u001b[32m\"German\"\u001b[0m\u001b[1m)\u001b[0m                                                                                          \n",
       "          - el \u001b[1m(\u001b[0m\u001b[32m\"Greek\"\u001b[0m\u001b[1m)\u001b[0m                                                                                           \n",
       "          - gn \u001b[1m(\u001b[0m\u001b[32m\"Guarani\"\u001b[0m\u001b[1m)\u001b[0m                                                                                         \n",
       "          - gu \u001b[1m(\u001b[0m\u001b[32m\"Gujarati\"\u001b[0m\u001b[1m)\u001b[0m                                                                                        \n",
       "          - ht \u001b[1m(\u001b[0m\u001b[32m\"Haitian Creole\"\u001b[0m\u001b[1m)\u001b[0m                                                                                  \n",
       "          - ha \u001b[1m(\u001b[0m\u001b[32m\"Hausa\"\u001b[0m\u001b[1m)\u001b[0m                                                                                           \n",
       "          - haw \u001b[1m(\u001b[0m\u001b[32m\"Hawaiian\"\u001b[0m\u001b[1m)\u001b[0m                                                                                       \n",
       "          - iw \u001b[1m(\u001b[0m\u001b[32m\"Hebrew\"\u001b[0m\u001b[1m)\u001b[0m                                                                                          \n",
       "          - hi \u001b[1m(\u001b[0m\u001b[32m\"Hindi\"\u001b[0m\u001b[1m)\u001b[0m                                                                                           \n",
       "          - hmn \u001b[1m(\u001b[0m\u001b[32m\"Hmong\"\u001b[0m\u001b[1m)\u001b[0m                                                                                          \n",
       "          - hu \u001b[1m(\u001b[0m\u001b[32m\"Hungarian\"\u001b[0m\u001b[1m)\u001b[0m                                                                                       \n",
       "          - is \u001b[1m(\u001b[0m\u001b[32m\"Icelandic\"\u001b[0m\u001b[1m)\u001b[0m                                                                                       \n",
       "          - ig \u001b[1m(\u001b[0m\u001b[32m\"Igbo\"\u001b[0m\u001b[1m)\u001b[0m                                                                                            \n",
       "          - id \u001b[1m(\u001b[0m\u001b[32m\"Indonesian\"\u001b[0m\u001b[1m)\u001b[0m                                                                                      \n",
       "          - ga \u001b[1m(\u001b[0m\u001b[32m\"Irish\"\u001b[0m\u001b[1m)\u001b[0m                                                                                           \n",
       "          - it \u001b[1m(\u001b[0m\u001b[32m\"Italian\"\u001b[0m\u001b[1m)\u001b[0m                                                                                         \n",
       "          - ja \u001b[1m(\u001b[0m\u001b[32m\"Japanese\"\u001b[0m\u001b[1m)\u001b[0m                                                                                        \n",
       "          - jv \u001b[1m(\u001b[0m\u001b[32m\"Javanese\"\u001b[0m\u001b[1m)\u001b[0m                                                                                        \n",
       "          - kl \u001b[1m(\u001b[0m\u001b[32m\"Kalaallisut\"\u001b[0m\u001b[1m)\u001b[0m                                                                                     \n",
       "          - kn \u001b[1m(\u001b[0m\u001b[32m\"Kannada\"\u001b[0m\u001b[1m)\u001b[0m                                                                                         \n",
       "          - kk \u001b[1m(\u001b[0m\u001b[32m\"Kazakh\"\u001b[0m\u001b[1m)\u001b[0m                                                                                          \n",
       "          - kha \u001b[1m(\u001b[0m\u001b[32m\"Khasi\"\u001b[0m\u001b[1m)\u001b[0m                                                                                          \n",
       "          - km \u001b[1m(\u001b[0m\u001b[32m\"Khmer\"\u001b[0m\u001b[1m)\u001b[0m                                                                                           \n",
       "          - rw \u001b[1m(\u001b[0m\u001b[32m\"Kinyarwanda\"\u001b[0m\u001b[1m)\u001b[0m                                                                                     \n",
       "          - ko \u001b[1m(\u001b[0m\u001b[32m\"Korean\"\u001b[0m\u001b[1m)\u001b[0m                                                                                          \n",
       "          - kri \u001b[1m(\u001b[0m\u001b[32m\"Krio\"\u001b[0m\u001b[1m)\u001b[0m                                                                                           \n",
       "          - ku \u001b[1m(\u001b[0m\u001b[32m\"Kurdish\"\u001b[0m\u001b[1m)\u001b[0m                                                                                         \n",
       "          - ky \u001b[1m(\u001b[0m\u001b[32m\"Kyrgyz\"\u001b[0m\u001b[1m)\u001b[0m                                                                                          \n",
       "          - lo \u001b[1m(\u001b[0m\u001b[32m\"Lao\"\u001b[0m\u001b[1m)\u001b[0m                                                                                             \n",
       "          - la \u001b[1m(\u001b[0m\u001b[32m\"Latin\"\u001b[0m\u001b[1m)\u001b[0m                                                                                           \n",
       "          - lv \u001b[1m(\u001b[0m\u001b[32m\"Latvian\"\u001b[0m\u001b[1m)\u001b[0m                                                                                         \n",
       "          - ln \u001b[1m(\u001b[0m\u001b[32m\"Lingala\"\u001b[0m\u001b[1m)\u001b[0m                                                                                         \n",
       "          - lt \u001b[1m(\u001b[0m\u001b[32m\"Lithuanian\"\u001b[0m\u001b[1m)\u001b[0m                                                                                      \n",
       "          - luo \u001b[1m(\u001b[0m\u001b[32m\"Luo\"\u001b[0m\u001b[1m)\u001b[0m                                                                                            \n",
       "          - lb \u001b[1m(\u001b[0m\u001b[32m\"Luxembourgish\"\u001b[0m\u001b[1m)\u001b[0m                                                                                   \n",
       "          - mk \u001b[1m(\u001b[0m\u001b[32m\"Macedonian\"\u001b[0m\u001b[1m)\u001b[0m                                                                                      \n",
       "          - mg \u001b[1m(\u001b[0m\u001b[32m\"Malagasy\"\u001b[0m\u001b[1m)\u001b[0m                                                                                        \n",
       "          - ms \u001b[1m(\u001b[0m\u001b[32m\"Malay\"\u001b[0m\u001b[1m)\u001b[0m                                                                                           \n",
       "          - ml \u001b[1m(\u001b[0m\u001b[32m\"Malayalam\"\u001b[0m\u001b[1m)\u001b[0m                                                                                       \n",
       "          - mt \u001b[1m(\u001b[0m\u001b[32m\"Maltese\"\u001b[0m\u001b[1m)\u001b[0m                                                                                         \n",
       "          - gv \u001b[1m(\u001b[0m\u001b[32m\"Manx\"\u001b[0m\u001b[1m)\u001b[0m                                                                                            \n",
       "          - mi \u001b[1m(\u001b[0m\u001b[32m\"Māori\"\u001b[0m\u001b[1m)\u001b[0m                                                                                           \n",
       "          - mr \u001b[1m(\u001b[0m\u001b[32m\"Marathi\"\u001b[0m\u001b[1m)\u001b[0m                                                                                         \n",
       "          - mn \u001b[1m(\u001b[0m\u001b[32m\"Mongolian\"\u001b[0m\u001b[1m)\u001b[0m                                                                                       \n",
       "          - mfe \u001b[1m(\u001b[0m\u001b[32m\"Morisyen\"\u001b[0m\u001b[1m)\u001b[0m                                                                                       \n",
       "          - ne \u001b[1m(\u001b[0m\u001b[32m\"Nepali\"\u001b[0m\u001b[1m)\u001b[0m                                                                                          \n",
       "          - new \u001b[1m(\u001b[0m\u001b[32m\"Newari\"\u001b[0m\u001b[1m)\u001b[0m                                                                                         \n",
       "          - nso \u001b[1m(\u001b[0m\u001b[32m\"Northern Sotho\"\u001b[0m\u001b[1m)\u001b[0m                                                                                 \n",
       "          - no \u001b[1m(\u001b[0m\u001b[32m\"Norwegian\"\u001b[0m\u001b[1m)\u001b[0m                                                                                       \n",
       "          - ny \u001b[1m(\u001b[0m\u001b[32m\"Nyanja\"\u001b[0m\u001b[1m)\u001b[0m                                                                                          \n",
       "          - oc \u001b[1m(\u001b[0m\u001b[32m\"Occitan\"\u001b[0m\u001b[1m)\u001b[0m                                                                                         \n",
       "          - or \u001b[1m(\u001b[0m\u001b[32m\"Odia\"\u001b[0m\u001b[1m)\u001b[0m                                                                                            \n",
       "          - om \u001b[1m(\u001b[0m\u001b[32m\"Oromo\"\u001b[0m\u001b[1m)\u001b[0m                                                                                           \n",
       "          - os \u001b[1m(\u001b[0m\u001b[32m\"Ossetic\"\u001b[0m\u001b[1m)\u001b[0m                                                                                         \n",
       "          - pam \u001b[1m(\u001b[0m\u001b[32m\"Pampanga\"\u001b[0m\u001b[1m)\u001b[0m                                                                                       \n",
       "          - ps \u001b[1m(\u001b[0m\u001b[32m\"Pashto\"\u001b[0m\u001b[1m)\u001b[0m                                                                                          \n",
       "          - fa \u001b[1m(\u001b[0m\u001b[32m\"Persian\"\u001b[0m\u001b[1m)\u001b[0m                                                                                         \n",
       "          - pl \u001b[1m(\u001b[0m\u001b[32m\"Polish\"\u001b[0m\u001b[1m)\u001b[0m                                                                                          \n",
       "          - pt \u001b[1m(\u001b[0m\u001b[32m\"Portuguese\"\u001b[0m\u001b[1m)\u001b[0m                                                                                      \n",
       "          - pt-PT \u001b[1m(\u001b[0m\u001b[32m\"Portuguese \u001b[0m\u001b[32m(\u001b[0m\u001b[32mPortugal\u001b[0m\u001b[32m)\u001b[0m\u001b[32m\"\u001b[0m\u001b[1m)\u001b[0m                                                                        \n",
       "          - pa \u001b[1m(\u001b[0m\u001b[32m\"Punjabi\"\u001b[0m\u001b[1m)\u001b[0m                                                                                         \n",
       "          - qu \u001b[1m(\u001b[0m\u001b[32m\"Quechua\"\u001b[0m\u001b[1m)\u001b[0m                                                                                         \n",
       "          - ro \u001b[1m(\u001b[0m\u001b[32m\"Romanian\"\u001b[0m\u001b[1m)\u001b[0m                                                                                        \n",
       "          - rn \u001b[1m(\u001b[0m\u001b[32m\"Rundi\"\u001b[0m\u001b[1m)\u001b[0m                                                                                           \n",
       "          - ru \u001b[1m(\u001b[0m\u001b[32m\"Russian\"\u001b[0m\u001b[1m)\u001b[0m                                                                                         \n",
       "          - sm \u001b[1m(\u001b[0m\u001b[32m\"Samoan\"\u001b[0m\u001b[1m)\u001b[0m                                                                                          \n",
       "          - sg \u001b[1m(\u001b[0m\u001b[32m\"Sango\"\u001b[0m\u001b[1m)\u001b[0m                                                                                           \n",
       "          - sa \u001b[1m(\u001b[0m\u001b[32m\"Sanskrit\"\u001b[0m\u001b[1m)\u001b[0m                                                                                        \n",
       "          - gd \u001b[1m(\u001b[0m\u001b[32m\"Scottish Gaelic\"\u001b[0m\u001b[1m)\u001b[0m                                                                                 \n",
       "          - sr \u001b[1m(\u001b[0m\u001b[32m\"Serbian\"\u001b[0m\u001b[1m)\u001b[0m                                                                                         \n",
       "          - crs \u001b[1m(\u001b[0m\u001b[32m\"Seselwa Creole French\"\u001b[0m\u001b[1m)\u001b[0m                                                                          \n",
       "          - sn \u001b[1m(\u001b[0m\u001b[32m\"Shona\"\u001b[0m\u001b[1m)\u001b[0m                                                                                           \n",
       "          - sd \u001b[1m(\u001b[0m\u001b[32m\"Sindhi\"\u001b[0m\u001b[1m)\u001b[0m                                                                                          \n",
       "          - si \u001b[1m(\u001b[0m\u001b[32m\"Sinhala\"\u001b[0m\u001b[1m)\u001b[0m                                                                                         \n",
       "          - sk \u001b[1m(\u001b[0m\u001b[32m\"Slovak\"\u001b[0m\u001b[1m)\u001b[0m                                                                                          \n",
       "          - sl \u001b[1m(\u001b[0m\u001b[32m\"Slovenian\"\u001b[0m\u001b[1m)\u001b[0m                                                                                       \n",
       "          - so \u001b[1m(\u001b[0m\u001b[32m\"Somali\"\u001b[0m\u001b[1m)\u001b[0m                                                                                          \n",
       "          - st \u001b[1m(\u001b[0m\u001b[32m\"Southern Sotho\"\u001b[0m\u001b[1m)\u001b[0m                                                                                  \n",
       "          - es \u001b[1m(\u001b[0m\u001b[32m\"Spanish\"\u001b[0m\u001b[1m)\u001b[0m                                                                                         \n",
       "          - su \u001b[1m(\u001b[0m\u001b[32m\"Sundanese\"\u001b[0m\u001b[1m)\u001b[0m                                                                                       \n",
       "          - sw \u001b[1m(\u001b[0m\u001b[32m\"Swahili\"\u001b[0m\u001b[1m)\u001b[0m                                                                                         \n",
       "          - ss \u001b[1m(\u001b[0m\u001b[32m\"Swati\"\u001b[0m\u001b[1m)\u001b[0m                                                                                           \n",
       "          - sv \u001b[1m(\u001b[0m\u001b[32m\"Swedish\"\u001b[0m\u001b[1m)\u001b[0m                                                                                         \n",
       "          - tg \u001b[1m(\u001b[0m\u001b[32m\"Tajik\"\u001b[0m\u001b[1m)\u001b[0m                                                                                           \n",
       "          - ta \u001b[1m(\u001b[0m\u001b[32m\"Tamil\"\u001b[0m\u001b[1m)\u001b[0m                                                                                           \n",
       "          - tt \u001b[1m(\u001b[0m\u001b[32m\"Tatar\"\u001b[0m\u001b[1m)\u001b[0m                                                                                           \n",
       "          - te \u001b[1m(\u001b[0m\u001b[32m\"Telugu\"\u001b[0m\u001b[1m)\u001b[0m                                                                                          \n",
       "          - th \u001b[1m(\u001b[0m\u001b[32m\"Thai\"\u001b[0m\u001b[1m)\u001b[0m                                                                                            \n",
       "          - bo \u001b[1m(\u001b[0m\u001b[32m\"Tibetan\"\u001b[0m\u001b[1m)\u001b[0m                                                                                         \n",
       "          - ti \u001b[1m(\u001b[0m\u001b[32m\"Tigrinya\"\u001b[0m\u001b[1m)\u001b[0m                                                                                        \n",
       "          - to \u001b[1m(\u001b[0m\u001b[32m\"Tongan\"\u001b[0m\u001b[1m)\u001b[0m                                                                                          \n",
       "          - ts \u001b[1m(\u001b[0m\u001b[32m\"Tsonga\"\u001b[0m\u001b[1m)\u001b[0m                                                                                          \n",
       "          - tn \u001b[1m(\u001b[0m\u001b[32m\"Tswana\"\u001b[0m\u001b[1m)\u001b[0m                                                                                          \n",
       "          - tum \u001b[1m(\u001b[0m\u001b[32m\"Tumbuka\"\u001b[0m\u001b[1m)\u001b[0m                                                                                        \n",
       "          - tr \u001b[1m(\u001b[0m\u001b[32m\"Turkish\"\u001b[0m\u001b[1m)\u001b[0m                                                                                         \n",
       "          - tk \u001b[1m(\u001b[0m\u001b[32m\"Turkmen\"\u001b[0m\u001b[1m)\u001b[0m                                                                                         \n",
       "          - uk \u001b[1m(\u001b[0m\u001b[32m\"Ukrainian\"\u001b[0m\u001b[1m)\u001b[0m                                                                                       \n",
       "          - ur \u001b[1m(\u001b[0m\u001b[32m\"Urdu\"\u001b[0m\u001b[1m)\u001b[0m                                                                                            \n",
       "          - ug \u001b[1m(\u001b[0m\u001b[32m\"Uyghur\"\u001b[0m\u001b[1m)\u001b[0m                                                                                          \n",
       "          - uz \u001b[1m(\u001b[0m\u001b[32m\"Uzbek\"\u001b[0m\u001b[1m)\u001b[0m                                                                                           \n",
       "          - ve \u001b[1m(\u001b[0m\u001b[32m\"Venda\"\u001b[0m\u001b[1m)\u001b[0m                                                                                           \n",
       "          - vi \u001b[1m(\u001b[0m\u001b[32m\"Vietnamese\"\u001b[0m\u001b[1m)\u001b[0m                                                                                      \n",
       "          - war \u001b[1m(\u001b[0m\u001b[32m\"Waray\"\u001b[0m\u001b[1m)\u001b[0m                                                                                          \n",
       "          - cy \u001b[1m(\u001b[0m\u001b[32m\"Welsh\"\u001b[0m\u001b[1m)\u001b[0m                                                                                           \n",
       "          - fy \u001b[1m(\u001b[0m\u001b[32m\"Western Frisian\"\u001b[0m\u001b[1m)\u001b[0m                                                                                 \n",
       "          - wo \u001b[1m(\u001b[0m\u001b[32m\"Wolof\"\u001b[0m\u001b[1m)\u001b[0m                                                                                           \n",
       "          - xh \u001b[1m(\u001b[0m\u001b[32m\"Xhosa\"\u001b[0m\u001b[1m)\u001b[0m                                                                                           \n",
       "          - yi \u001b[1m(\u001b[0m\u001b[32m\"Yiddish\"\u001b[0m\u001b[1m)\u001b[0m                                                                                         \n",
       "          - yo \u001b[1m(\u001b[0m\u001b[32m\"Yoruba\"\u001b[0m\u001b[1m)\u001b[0m                                                                                          \n",
       "          - zu \u001b[1m(\u001b[0m\u001b[32m\"Zulu\"\u001b[0m\u001b[1m)\u001b[0m                                                                                            \n",
       "                                                                                                                   \n",
       "         If you are sure that the described cause is not responsible for this error and that a transcript should be\n",
       "         retrievable, please create an issue at \u001b[4;94mhttps://github.com/jdepoix/youtube-transcript-api/issues.\u001b[0m Please   \n",
       "         add which version of youtube_transcript_api you are using and provide the information needed to replicate \n",
       "         the error. Also make sure that there are no open issues which already describe your problem!              \n"
      ]
     },
     "metadata": {},
     "output_type": "display_data"
    },
    {
     "data": {
      "text/html": [
       "<pre style=\"white-space:pre;overflow-x:auto;line-height:normal;font-family:Menlo,'DejaVu Sans Mono',consolas,'Courier New',monospace\"><span style=\"color: #008000; text-decoration-color: #008000\">DEBUG   </span> ============== assistant ==============                                                                   \n",
       "</pre>\n"
      ],
      "text/plain": [
       "\u001b[32mDEBUG   \u001b[0m ============== assistant ==============                                                                   \n"
      ]
     },
     "metadata": {},
     "output_type": "display_data"
    },
    {
     "data": {
      "text/html": [
       "<pre style=\"white-space:pre;overflow-x:auto;line-height:normal;font-family:Menlo,'DejaVu Sans Mono',consolas,'Courier New',monospace\"><span style=\"color: #008000; text-decoration-color: #008000\">DEBUG   </span> Tool Calls: <span style=\"font-weight: bold\">[</span>                                                                                             \n",
       "           <span style=\"font-weight: bold\">{</span>                                                                                                       \n",
       "             <span style=\"color: #008000; text-decoration-color: #008000\">\"index\"</span>: <span style=\"color: #008080; text-decoration-color: #008080; font-weight: bold\">0</span>,                                                                                           \n",
       "             <span style=\"color: #008000; text-decoration-color: #008000\">\"id\"</span>: <span style=\"color: #008000; text-decoration-color: #008000\">\"call_v8xc\"</span>,                                                                                    \n",
       "             <span style=\"color: #008000; text-decoration-color: #008000\">\"function\"</span>: <span style=\"font-weight: bold\">{</span>                                                                                         \n",
       "               <span style=\"color: #008000; text-decoration-color: #008000\">\"arguments\"</span>: <span style=\"color: #008000; text-decoration-color: #008000\">\"{\\\"url\\\":\\\"https://www.youtube.com/watch?v=oMfhNnmSxUU\\\"}\"</span>,                           \n",
       "               <span style=\"color: #008000; text-decoration-color: #008000\">\"name\"</span>: <span style=\"color: #008000; text-decoration-color: #008000\">\"get_youtube_video_data\"</span>                                                                    \n",
       "             <span style=\"font-weight: bold\">}</span>,                                                                                                    \n",
       "             <span style=\"color: #008000; text-decoration-color: #008000\">\"type\"</span>: <span style=\"color: #008000; text-decoration-color: #008000\">\"function\"</span>                                                                                    \n",
       "           <span style=\"font-weight: bold\">}</span>                                                                                                       \n",
       "         <span style=\"font-weight: bold\">]</span>                                                                                                         \n",
       "</pre>\n"
      ],
      "text/plain": [
       "\u001b[32mDEBUG   \u001b[0m Tool Calls: \u001b[1m[\u001b[0m                                                                                             \n",
       "           \u001b[1m{\u001b[0m                                                                                                       \n",
       "             \u001b[32m\"index\"\u001b[0m: \u001b[1;36m0\u001b[0m,                                                                                           \n",
       "             \u001b[32m\"id\"\u001b[0m: \u001b[32m\"call_v8xc\"\u001b[0m,                                                                                    \n",
       "             \u001b[32m\"function\"\u001b[0m: \u001b[1m{\u001b[0m                                                                                         \n",
       "               \u001b[32m\"arguments\"\u001b[0m: \u001b[32m\"\u001b[0m\u001b[32m{\u001b[0m\u001b[32m\\\"url\\\":\\\"https://www.youtube.com/watch?\u001b[0m\u001b[32mv\u001b[0m\u001b[32m=\u001b[0m\u001b[32moMfhNnmSxUU\u001b[0m\u001b[32m\\\"\u001b[0m\u001b[32m}\u001b[0m\u001b[32m\"\u001b[0m,                           \n",
       "               \u001b[32m\"name\"\u001b[0m: \u001b[32m\"get_youtube_video_data\"\u001b[0m                                                                    \n",
       "             \u001b[1m}\u001b[0m,                                                                                                    \n",
       "             \u001b[32m\"type\"\u001b[0m: \u001b[32m\"function\"\u001b[0m                                                                                    \n",
       "           \u001b[1m}\u001b[0m                                                                                                       \n",
       "         \u001b[1m]\u001b[0m                                                                                                         \n"
      ]
     },
     "metadata": {},
     "output_type": "display_data"
    },
    {
     "data": {
      "text/html": [
       "<pre style=\"white-space:pre;overflow-x:auto;line-height:normal;font-family:Menlo,'DejaVu Sans Mono',consolas,'Courier New',monospace\"><span style=\"color: #008000; text-decoration-color: #008000\">DEBUG   </span> ============== tool ==============                                                                        \n",
       "</pre>\n"
      ],
      "text/plain": [
       "\u001b[32mDEBUG   \u001b[0m ============== tool ==============                                                                        \n"
      ]
     },
     "metadata": {},
     "output_type": "display_data"
    },
    {
     "data": {
      "text/html": [
       "<pre style=\"white-space:pre;overflow-x:auto;line-height:normal;font-family:Menlo,'DejaVu Sans Mono',consolas,'Courier New',monospace\"><span style=\"color: #008000; text-decoration-color: #008000\">DEBUG   </span> Call Id: call_v8xc                                                                                        \n",
       "</pre>\n"
      ],
      "text/plain": [
       "\u001b[32mDEBUG   \u001b[0m Call Id: call_v8xc                                                                                        \n"
      ]
     },
     "metadata": {},
     "output_type": "display_data"
    },
    {
     "data": {
      "text/html": [
       "<pre style=\"white-space:pre;overflow-x:auto;line-height:normal;font-family:Menlo,'DejaVu Sans Mono',consolas,'Courier New',monospace\"><span style=\"color: #008000; text-decoration-color: #008000\">DEBUG   </span> <span style=\"font-weight: bold\">{</span>                                                                                                         \n",
       "             <span style=\"color: #008000; text-decoration-color: #008000\">\"title\"</span>: <span style=\"color: #008000; text-decoration-color: #008000\">\"Qaidi No 804 Won The Show || Way Gandapur Went Back From Motorway || IRK Vlog\"</span>,             \n",
       "             <span style=\"color: #008000; text-decoration-color: #008000\">\"author_name\"</span>: <span style=\"color: #008000; text-decoration-color: #008000\">\"Imran Riaz Khan\"</span>,                                                                     \n",
       "             <span style=\"color: #008000; text-decoration-color: #008000\">\"author_url\"</span>: <span style=\"color: #008000; text-decoration-color: #008000\">\"https://www.youtube.com/@imranriazkhan1\"</span>,                                              \n",
       "             <span style=\"color: #008000; text-decoration-color: #008000\">\"type\"</span>: <span style=\"color: #008000; text-decoration-color: #008000\">\"video\"</span>,                                                                                      \n",
       "             <span style=\"color: #008000; text-decoration-color: #008000\">\"height\"</span>: <span style=\"color: #008080; text-decoration-color: #008080; font-weight: bold\">113</span>,                                                                                        \n",
       "             <span style=\"color: #008000; text-decoration-color: #008000\">\"width\"</span>: <span style=\"color: #008080; text-decoration-color: #008080; font-weight: bold\">200</span>,                                                                                         \n",
       "             <span style=\"color: #008000; text-decoration-color: #008000\">\"version\"</span>: <span style=\"color: #008000; text-decoration-color: #008000\">\"1.0\"</span>,                                                                                     \n",
       "             <span style=\"color: #008000; text-decoration-color: #008000\">\"provider_name\"</span>: <span style=\"color: #008000; text-decoration-color: #008000\">\"YouTube\"</span>,                                                                           \n",
       "             <span style=\"color: #008000; text-decoration-color: #008000\">\"provider_url\"</span>: <span style=\"color: #008000; text-decoration-color: #008000\">\"https://www.youtube.com/\"</span>,                                                           \n",
       "             <span style=\"color: #008000; text-decoration-color: #008000\">\"thumbnail_url\"</span>: <span style=\"color: #008000; text-decoration-color: #008000\">\"https://i.ytimg.com/vi/oMfhNnmSxUU/hqdefault.jpg\"</span>                                   \n",
       "         <span style=\"font-weight: bold\">}</span>                                                                                                         \n",
       "</pre>\n"
      ],
      "text/plain": [
       "\u001b[32mDEBUG   \u001b[0m \u001b[1m{\u001b[0m                                                                                                         \n",
       "             \u001b[32m\"title\"\u001b[0m: \u001b[32m\"Qaidi No 804 Won The Show || Way Gandapur Went Back From Motorway || IRK Vlog\"\u001b[0m,             \n",
       "             \u001b[32m\"author_name\"\u001b[0m: \u001b[32m\"Imran Riaz Khan\"\u001b[0m,                                                                     \n",
       "             \u001b[32m\"author_url\"\u001b[0m: \u001b[32m\"https://www.youtube.com/@imranriazkhan1\"\u001b[0m,                                              \n",
       "             \u001b[32m\"type\"\u001b[0m: \u001b[32m\"video\"\u001b[0m,                                                                                      \n",
       "             \u001b[32m\"height\"\u001b[0m: \u001b[1;36m113\u001b[0m,                                                                                        \n",
       "             \u001b[32m\"width\"\u001b[0m: \u001b[1;36m200\u001b[0m,                                                                                         \n",
       "             \u001b[32m\"version\"\u001b[0m: \u001b[32m\"1.0\"\u001b[0m,                                                                                     \n",
       "             \u001b[32m\"provider_name\"\u001b[0m: \u001b[32m\"YouTube\"\u001b[0m,                                                                           \n",
       "             \u001b[32m\"provider_url\"\u001b[0m: \u001b[32m\"https://www.youtube.com/\"\u001b[0m,                                                           \n",
       "             \u001b[32m\"thumbnail_url\"\u001b[0m: \u001b[32m\"https://i.ytimg.com/vi/oMfhNnmSxUU/hqdefault.jpg\"\u001b[0m                                   \n",
       "         \u001b[1m}\u001b[0m                                                                                                         \n"
      ]
     },
     "metadata": {},
     "output_type": "display_data"
    },
    {
     "data": {
      "text/html": [
       "<pre style=\"white-space:pre;overflow-x:auto;line-height:normal;font-family:Menlo,'DejaVu Sans Mono',consolas,'Courier New',monospace\"><span style=\"color: #008000; text-decoration-color: #008000\">DEBUG   </span> Time to generate response: <span style=\"color: #008080; text-decoration-color: #008080; font-weight: bold\">1.</span>1349s                                                                        \n",
       "</pre>\n"
      ],
      "text/plain": [
       "\u001b[32mDEBUG   \u001b[0m Time to generate response: \u001b[1;36m1.\u001b[0m1349s                                                                        \n"
      ]
     },
     "metadata": {},
     "output_type": "display_data"
    },
    {
     "data": {
      "text/html": [
       "<pre style=\"white-space:pre;overflow-x:auto;line-height:normal;font-family:Menlo,'DejaVu Sans Mono',consolas,'Courier New',monospace\"><span style=\"color: #008000; text-decoration-color: #008000\">DEBUG   </span> ============== assistant ==============                                                                   \n",
       "</pre>\n"
      ],
      "text/plain": [
       "\u001b[32mDEBUG   \u001b[0m ============== assistant ==============                                                                   \n"
      ]
     },
     "metadata": {},
     "output_type": "display_data"
    },
    {
     "data": {
      "text/html": [
       "<pre style=\"white-space:pre;overflow-x:auto;line-height:normal;font-family:Menlo,'DejaVu Sans Mono',consolas,'Courier New',monospace\"><span style=\"color: #008000; text-decoration-color: #008000\">DEBUG   </span> # Qaidi No <span style=\"color: #008080; text-decoration-color: #008080; font-weight: bold\">804</span> Won The Show || Way Gandapur Went Back From Motorway || IRK Vlog                           \n",
       "                                                                                                                   \n",
       "         Imran Riaz Khan's latest video, <span style=\"color: #008000; text-decoration-color: #008000\">\"Qaidi No 804 Won The Show || Way Gandapur Went Back From Motorway || IRK </span>\n",
       "         <span style=\"color: #008000; text-decoration-color: #008000\">Vlog\"</span>, has become popular on YouTube. The video provides an update on the motorway and Gandapur's return. \n",
       "         Overall, it appears to be a thought-provoking and informative video that encourages viewers to think      \n",
       "         critically about the current situation.                                                                   \n",
       "</pre>\n"
      ],
      "text/plain": [
       "\u001b[32mDEBUG   \u001b[0m # Qaidi No \u001b[1;36m804\u001b[0m Won The Show || Way Gandapur Went Back From Motorway || IRK Vlog                           \n",
       "                                                                                                                   \n",
       "         Imran Riaz Khan's latest video, \u001b[32m\"Qaidi No 804 Won The Show || Way Gandapur Went Back From Motorway || IRK \u001b[0m\n",
       "         \u001b[32mVlog\"\u001b[0m, has become popular on YouTube. The video provides an update on the motorway and Gandapur's return. \n",
       "         Overall, it appears to be a thought-provoking and informative video that encourages viewers to think      \n",
       "         critically about the current situation.                                                                   \n"
      ]
     },
     "metadata": {},
     "output_type": "display_data"
    },
    {
     "data": {
      "text/html": [
       "<pre style=\"white-space:pre;overflow-x:auto;line-height:normal;font-family:Menlo,'DejaVu Sans Mono',consolas,'Courier New',monospace\"><span style=\"color: #008000; text-decoration-color: #008000\">DEBUG   </span> ---------- Groq Response End ----------                                                                   \n",
       "</pre>\n"
      ],
      "text/plain": [
       "\u001b[32mDEBUG   \u001b[0m ---------- Groq Response End ----------                                                                   \n"
      ]
     },
     "metadata": {},
     "output_type": "display_data"
    },
    {
     "data": {
      "text/html": [
       "<pre style=\"white-space:pre;overflow-x:auto;line-height:normal;font-family:Menlo,'DejaVu Sans Mono',consolas,'Courier New',monospace\"><span style=\"color: #008000; text-decoration-color: #008000\">DEBUG   </span> ---------- Groq Response End ----------                                                                   \n",
       "</pre>\n"
      ],
      "text/plain": [
       "\u001b[32mDEBUG   \u001b[0m ---------- Groq Response End ----------                                                                   \n"
      ]
     },
     "metadata": {},
     "output_type": "display_data"
    },
    {
     "data": {
      "text/html": [
       "<pre style=\"white-space:pre;overflow-x:auto;line-height:normal;font-family:Menlo,'DejaVu Sans Mono',consolas,'Courier New',monospace\"><span style=\"color: #008000; text-decoration-color: #008000\">DEBUG   </span> ---------- Groq Response End ----------                                                                   \n",
       "</pre>\n"
      ],
      "text/plain": [
       "\u001b[32mDEBUG   \u001b[0m ---------- Groq Response End ----------                                                                   \n"
      ]
     },
     "metadata": {},
     "output_type": "display_data"
    },
    {
     "data": {
      "text/html": [
       "<pre style=\"white-space:pre;overflow-x:auto;line-height:normal;font-family:Menlo,'DejaVu Sans Mono',consolas,'Courier New',monospace\"><span style=\"color: #008000; text-decoration-color: #008000\">DEBUG   </span> *********** Assistant Run End: <span style=\"color: #ffff00; text-decoration-color: #ffff00\">aed5aab6-e9d7-40d1-90cb-a06e9ebe3ea0</span> ***********                           \n",
       "</pre>\n"
      ],
      "text/plain": [
       "\u001b[32mDEBUG   \u001b[0m *********** Assistant Run End: \u001b[93maed5aab6-e9d7-40d1-90cb-a06e9ebe3ea0\u001b[0m ***********                           \n"
      ]
     },
     "metadata": {},
     "output_type": "display_data"
    },
    {
     "data": {
      "text/html": [
       "<pre style=\"white-space:pre;overflow-x:auto;line-height:normal;font-family:Menlo,'DejaVu Sans Mono',consolas,'Courier New',monospace\"></pre>\n"
      ],
      "text/plain": []
     },
     "metadata": {},
     "output_type": "display_data"
    }
   ],
   "source": [
    "from phi.assistant import Assistant\n",
    "from phi.tools.youtube_tools import YouTubeTools\n",
    "\n",
    "assistant = Assistant(\n",
    "    tools=[YouTubeTools()],\n",
    "    show_tool_calls=True,\n",
    "    description=\"You are a YouTube assistant. Obtain the captions of a YouTube video and answer questions.\",\n",
    "    debug_mode=True,\n",
    "    llm=Groq(model='llama3-8b-8192'),\n",
    "\n",
    ")\n",
    "#assistant.print_response('Summarize this video https://www.youtube.com/watch?v=Iv9dewmcFbs&t', markdown=True)\n",
    "assistant.print_response('Summarize this video https://www.youtube.com/watch?v=oMfhNnmSxUU', markdown=True)\n",
    "\n"
   ]
  },
  {
   "cell_type": "code",
   "execution_count": null,
   "metadata": {},
   "outputs": [],
   "source": []
  }
 ],
 "metadata": {
  "kernelspec": {
   "display_name": "Agents-4yRd6dJo",
   "language": "python",
   "name": "python3"
  },
  "language_info": {
   "codemirror_mode": {
    "name": "ipython",
    "version": 3
   },
   "file_extension": ".py",
   "mimetype": "text/x-python",
   "name": "python",
   "nbconvert_exporter": "python",
   "pygments_lexer": "ipython3",
   "version": "3.11.10"
  }
 },
 "nbformat": 4,
 "nbformat_minor": 2
}
