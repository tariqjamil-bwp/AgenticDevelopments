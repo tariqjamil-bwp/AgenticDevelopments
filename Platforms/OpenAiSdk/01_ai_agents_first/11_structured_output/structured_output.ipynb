{
  "nbformat": 4,
  "nbformat_minor": 0,
  "metadata": {
    "colab": {
      "provenance": []
    },
    "kernelspec": {
      "name": "python3",
      "display_name": "Python 3"
    },
    "language_info": {
      "name": "python"
    }
  },
  "cells": [
    {
      "cell_type": "markdown",
      "source": [
        "# **Output Types: Structured Output with Pydantic**"
      ],
      "metadata": {
        "id": "JtKpusSwWIZY"
      }
    },
    {
      "cell_type": "markdown",
      "source": [
        "Structured outputs are crucial when you need your AI agents to provide data in a predictable and usable format. Instead of free-form text, you can enforce a specific structure, making it easier for your applications to parse and utilize the information. The OpenAI Agents SDK provides mechanisms to achieve this."
      ],
      "metadata": {
        "id": "MagfdaZ7WpAq"
      }
    },
    {
      "cell_type": "markdown",
      "source": [
        "**Why Use Structured Outputs?**\n",
        "\n",
        "**Data Parsing**: Easier to extract specific information without complex text parsing.\n",
        "\n",
        "**Integration**: Seamless integration with other systems that expect structured data (e.g., databases, APIs).\n",
        "\n",
        "**Reliability**: Reduces ambiguity and ensures consistent data formatting.\n",
        "\n",
        "**Automation**: Automate workflows that rely on specific data points."
      ],
      "metadata": {
        "id": "Oi2jwrR7XCAc"
      }
    },
    {
      "cell_type": "markdown",
      "source": [
        "**Structured Outputs vs. JSON Mode:**\n",
        "\n",
        "It's important to differentiate between \"Structured Outputs\" and the simpler \"JSON mode.\"\n",
        "\"JSON mode\" ensures that the output is valid JSON, but it doesn't guarantee that it conforms to a specific schema.\n",
        "\"Structured Outputs\" goes further, **guaranteeing schema adherence**. This is a very important distinction."
      ],
      "metadata": {
        "id": "4-urr2StXat1"
      }
    },
    {
      "cell_type": "markdown",
      "metadata": {
        "id": "PdKwzEluDBN7"
      },
      "source": [
        "# Install openai-agents SDK"
      ]
    },
    {
      "cell_type": "code",
      "execution_count": 5,
      "metadata": {
        "id": "3QdkOviEB2ay"
      },
      "outputs": [],
      "source": [
        "!pip install -Uq openai-agents pydantic"
      ]
    },
    {
      "cell_type": "markdown",
      "metadata": {
        "id": "7yD91lz4DIAx"
      },
      "source": [
        "# Make your Notebook capable of running asynchronous functions.\n",
        "Both Jupyter notebooks and Python’s asyncio library utilize event loops, but they serve different purposes and can sometimes interfere with each other.\n",
        "\n",
        "The nest_asyncio library allows the existing event loop to accept nested event loops, enabling asyncio code to run within environments that already have an event loop, such as Jupyter notebooks.\n",
        "\n",
        "In summary, both Jupyter notebooks and Python’s asyncio library utilize event loops to manage asynchronous operations. When working within Jupyter notebooks, it’s essential to be aware of the existing event loop to effectively run asyncio code without conflicts."
      ]
    },
    {
      "cell_type": "code",
      "source": [
        "import nest_asyncio\n",
        "nest_asyncio.apply()"
      ],
      "metadata": {
        "id": "C8YXyIpiZ9v4"
      },
      "execution_count": 6,
      "outputs": []
    },
    {
      "cell_type": "code",
      "execution_count": 13,
      "metadata": {
        "id": "XnusaX_RWF22"
      },
      "outputs": [],
      "source": [
        "from pydantic import BaseModel\n",
        "from agents import Agent, Runner, AsyncOpenAI, OpenAIChatCompletionsModel, RunConfig\n",
        "from google.colab import userdata\n"
      ]
    },
    {
      "cell_type": "code",
      "source": [
        "gemini_api_key = userdata.get(\"GEMINI_API_KEY\")\n",
        "\n",
        "\n",
        "# Check if the API key is present; if not, raise an error\n",
        "if not gemini_api_key:\n",
        "    raise ValueError(\"GEMINI_API_KEY is not set. Please ensure it is defined in your .env file.\")"
      ],
      "metadata": {
        "id": "oPvcFwItoKqw"
      },
      "execution_count": 11,
      "outputs": []
    },
    {
      "cell_type": "code",
      "source": [
        "#Reference: https://ai.google.dev/gemini-api/docs/openai\n",
        "external_client = AsyncOpenAI(\n",
        "    api_key=gemini_api_key,\n",
        "    base_url=\"https://generativelanguage.googleapis.com/v1beta/openai/\",\n",
        ")\n",
        "\n",
        "model = OpenAIChatCompletionsModel(\n",
        "    model=\"gemini-2.0-flash\",\n",
        "    openai_client=external_client\n",
        ")\n",
        "\n",
        "config = RunConfig(\n",
        "    model=model,\n",
        "    model_provider=external_client,\n",
        "    tracing_disabled=True\n",
        ")\n"
      ],
      "metadata": {
        "id": "ci9rBxqfnyNm"
      },
      "execution_count": 14,
      "outputs": []
    },
    {
      "cell_type": "code",
      "source": [
        "class WeatherAnswer(BaseModel):\n",
        "  location: str\n",
        "  temperature_c: float\n",
        "  summary: str"
      ],
      "metadata": {
        "id": "PYFkT_B-YaYh"
      },
      "execution_count": 15,
      "outputs": []
    },
    {
      "cell_type": "code",
      "source": [
        "agent = Agent(\n",
        "  name=\"StructuredWeatherAgent\",\n",
        "  instructions=\"Use the final_output tool with WeatherAnswer schema.\",\n",
        "  output_type=WeatherAnswer\n",
        ")"
      ],
      "metadata": {
        "id": "TE2j1WJ-YjNK"
      },
      "execution_count": 21,
      "outputs": []
    },
    {
      "cell_type": "code",
      "source": [
        "out = await Runner.run(agent, \"What's the temperature in Karachi?\", run_config=config)\n",
        "print(type(out.final_output))\n",
        "# <class '__main__.WeatherAnswer'>\n",
        "print(out.final_output.temperature_c)\n",
        "# e.g. 22.0"
      ],
      "metadata": {
        "colab": {
          "base_uri": "https://localhost:8080/"
        },
        "id": "xg5g0KaBYuVl",
        "outputId": "e8c17fc0-1c34-4b9b-cde6-2d8dda324c28"
      },
      "execution_count": 22,
      "outputs": [
        {
          "output_type": "stream",
          "name": "stdout",
          "text": [
            "<class '__main__.WeatherAnswer'>\n",
            "26.0\n"
          ]
        }
      ]
    }
  ]
}