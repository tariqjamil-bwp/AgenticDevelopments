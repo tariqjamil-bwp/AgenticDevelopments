{
  "nbformat": 4,
  "nbformat_minor": 0,
  "metadata": {
    "colab": {
      "provenance": []
    },
    "kernelspec": {
      "name": "python3",
      "display_name": "Python 3"
    },
    "language_info": {
      "name": "python"
    }
  },
  "cells": [
    {
      "cell_type": "markdown",
      "source": [
        "### Building on top of these concepts:\n",
        "\n",
        "If you haven't covered langmem and basic openai-agents-sdk go through these notebooks first:\n",
        "\n",
        "1. [Understand LangMem Core APIs](https://colab.research.google.com/drive/1YJNrnQRMgeNTigIuWOfykt-Z5L_DDmsa?usp=sharing)\n",
        "\n",
        "2. [Use LangMem Memory Tools with OpenAI Agents SDK](https://colab.research.google.com/drive/1xgSUeJPIBKyjpM868PsvmCZaCof-s2vB?usp=sharing)\n",
        "\n",
        "3. [Use Persistence Storage](https://colab.research.google.com/drive/1gA9r_FkbHFCWlgd52qz1oTW736gD0kmN?usp=sharing)\n",
        "\n",
        "4. [Baseline Email Assistant - Prep before Memory](https://colab.research.google.com/drive/1AgedinzRuoow3f2cvR0wRlATk8AgE0x0?usp=sharing)\n",
        "\n",
        "5. [OpenAI Agents SDK Email Assistant with Semantic](https://colab.research.google.com/drive/1L4T8eZIHzYD1OQtC8hubZMeFy-eRmxV2?usp=sharing)\n",
        "\n",
        "6. [OpenAI Agents SDK Email Assistant with Semantic & Episodic Memories](https://colab.research.google.com/drive/1pdo1COE3gxo2LPUYLm92O-o_1xFJKQyq?usp=sharing)"
      ],
      "metadata": {
        "id": "GciAuz4rQ7aB"
      }
    },
    {
      "cell_type": "markdown",
      "source": [
        "## Install Packages"
      ],
      "metadata": {
        "id": "59zWl6S6PhP5"
      }
    },
    {
      "cell_type": "code",
      "source": [
        "!pip install -Uq openai-agents langmem langchain-google-genai langmem_adapter"
      ],
      "metadata": {
        "colab": {
          "base_uri": "https://localhost:8080/"
        },
        "id": "-1eN2ahALIX2",
        "outputId": "1e3a354c-be32-4697-ed79-61311e075614"
      },
      "execution_count": 1,
      "outputs": [
        {
          "output_type": "stream",
          "name": "stdout",
          "text": [
            "\u001b[2K     \u001b[90m━━━━━━━━━━━━━━━━━━━━━━━━━━━━━━━━━━━━━━━━\u001b[0m \u001b[32m43.5/43.5 kB\u001b[0m \u001b[31m3.4 MB/s\u001b[0m eta \u001b[36m0:00:00\u001b[0m\n",
            "\u001b[2K   \u001b[90m━━━━━━━━━━━━━━━━━━━━━━━━━━━━━━━━━━━━━━━━\u001b[0m \u001b[32m106.5/106.5 kB\u001b[0m \u001b[31m7.4 MB/s\u001b[0m eta \u001b[36m0:00:00\u001b[0m\n",
            "\u001b[2K   \u001b[90m━━━━━━━━━━━━━━━━━━━━━━━━━━━━━━━━━━━━━━━━\u001b[0m \u001b[32m61.0/61.0 kB\u001b[0m \u001b[31m4.6 MB/s\u001b[0m eta \u001b[36m0:00:00\u001b[0m\n",
            "\u001b[2K   \u001b[90m━━━━━━━━━━━━━━━━━━━━━━━━━━━━━━━━━━━━━━━━\u001b[0m \u001b[32m42.0/42.0 kB\u001b[0m \u001b[31m3.1 MB/s\u001b[0m eta \u001b[36m0:00:00\u001b[0m\n",
            "\u001b[2K   \u001b[90m━━━━━━━━━━━━━━━━━━━━━━━━━━━━━━━━━━━━━━━━\u001b[0m \u001b[32m1.4/1.4 MB\u001b[0m \u001b[31m54.9 MB/s\u001b[0m eta \u001b[36m0:00:00\u001b[0m\n",
            "\u001b[2K   \u001b[90m━━━━━━━━━━━━━━━━━━━━━━━━━━━━━━━━━━━━━━━━\u001b[0m \u001b[32m129.1/129.1 kB\u001b[0m \u001b[31m10.6 MB/s\u001b[0m eta \u001b[36m0:00:00\u001b[0m\n",
            "\u001b[2K   \u001b[90m━━━━━━━━━━━━━━━━━━━━━━━━━━━━━━━━━━━━━━━━\u001b[0m \u001b[32m420.1/420.1 kB\u001b[0m \u001b[31m23.2 MB/s\u001b[0m eta \u001b[36m0:00:00\u001b[0m\n",
            "\u001b[2K   \u001b[90m━━━━━━━━━━━━━━━━━━━━━━━━━━━━━━━━━━━━━━━━\u001b[0m \u001b[32m60.1/60.1 kB\u001b[0m \u001b[31m5.3 MB/s\u001b[0m eta \u001b[36m0:00:00\u001b[0m\n",
            "\u001b[2K   \u001b[90m━━━━━━━━━━━━━━━━━━━━━━━━━━━━━━━━━━━━━━━━\u001b[0m \u001b[32m138.0/138.0 kB\u001b[0m \u001b[31m11.6 MB/s\u001b[0m eta \u001b[36m0:00:00\u001b[0m\n",
            "\u001b[2K   \u001b[90m━━━━━━━━━━━━━━━━━━━━━━━━━━━━━━━━━━━━━━━━\u001b[0m \u001b[32m41.9/41.9 kB\u001b[0m \u001b[31m3.2 MB/s\u001b[0m eta \u001b[36m0:00:00\u001b[0m\n",
            "\u001b[2K   \u001b[90m━━━━━━━━━━━━━━━━━━━━━━━━━━━━━━━━━━━━━━━━\u001b[0m \u001b[32m76.1/76.1 kB\u001b[0m \u001b[31m6.2 MB/s\u001b[0m eta \u001b[36m0:00:00\u001b[0m\n",
            "\u001b[2K   \u001b[90m━━━━━━━━━━━━━━━━━━━━━━━━━━━━━━━━━━━━━━━━\u001b[0m \u001b[32m243.4/243.4 kB\u001b[0m \u001b[31m18.5 MB/s\u001b[0m eta \u001b[36m0:00:00\u001b[0m\n",
            "\u001b[2K   \u001b[90m━━━━━━━━━━━━━━━━━━━━━━━━━━━━━━━━━━━━━━━━\u001b[0m \u001b[32m47.1/47.1 kB\u001b[0m \u001b[31m3.9 MB/s\u001b[0m eta \u001b[36m0:00:00\u001b[0m\n",
            "\u001b[2K   \u001b[90m━━━━━━━━━━━━━━━━━━━━━━━━━━━━━━━━━━━━━━━━\u001b[0m \u001b[32m223.6/223.6 kB\u001b[0m \u001b[31m18.1 MB/s\u001b[0m eta \u001b[36m0:00:00\u001b[0m\n",
            "\u001b[2K   \u001b[90m━━━━━━━━━━━━━━━━━━━━━━━━━━━━━━━━━━━━━━━━\u001b[0m \u001b[32m72.0/72.0 kB\u001b[0m \u001b[31m5.8 MB/s\u001b[0m eta \u001b[36m0:00:00\u001b[0m\n",
            "\u001b[2K   \u001b[90m━━━━━━━━━━━━━━━━━━━━━━━━━━━━━━━━━━━━━━━━\u001b[0m \u001b[32m1.2/1.2 MB\u001b[0m \u001b[31m52.6 MB/s\u001b[0m eta \u001b[36m0:00:00\u001b[0m\n",
            "\u001b[2K   \u001b[90m━━━━━━━━━━━━━━━━━━━━━━━━━━━━━━━━━━━━━━━━\u001b[0m \u001b[32m62.3/62.3 kB\u001b[0m \u001b[31m5.3 MB/s\u001b[0m eta \u001b[36m0:00:00\u001b[0m\n",
            "\u001b[2K   \u001b[90m━━━━━━━━━━━━━━━━━━━━━━━━━━━━━━━━━━━━━━━━\u001b[0m \u001b[32m194.8/194.8 kB\u001b[0m \u001b[31m14.7 MB/s\u001b[0m eta \u001b[36m0:00:00\u001b[0m\n",
            "\u001b[?25h\u001b[31mERROR: pip's dependency resolver does not currently take into account all the packages that are installed. This behaviour is the source of the following dependency conflicts.\n",
            "google-generativeai 0.8.4 requires google-ai-generativelanguage==0.6.15, but you have google-ai-generativelanguage 0.6.17 which is incompatible.\u001b[0m\u001b[31m\n",
            "\u001b[0m"
          ]
        }
      ]
    },
    {
      "cell_type": "code",
      "source": [
        "import nest_asyncio\n",
        "nest_asyncio.apply()"
      ],
      "metadata": {
        "id": "yCPm_LuiLJ32"
      },
      "execution_count": 2,
      "outputs": []
    },
    {
      "cell_type": "code",
      "source": [
        "from google.colab import userdata\n",
        "import os\n",
        "\n",
        "os.environ[\"GOOGLE_API_KEY\"] = userdata.get(\"GEMINI_API_KEY\")"
      ],
      "metadata": {
        "id": "UrU9pO3nLMIP"
      },
      "execution_count": 3,
      "outputs": []
    },
    {
      "cell_type": "markdown",
      "source": [
        "# **Procedural Memory**\n",
        "\n",
        "Procedural memory encodes how an agent should behave and respond. It starts with system prompts that define core behavior, then evolves through feedback and experience. As the agent interacts with users, it refines these instructions, learning which approaches work best for different situations."
      ],
      "metadata": {
        "id": "elprDDjjA7_W"
      }
    },
    {
      "cell_type": "markdown",
      "source": [
        "# 1. **Procedural Memory: System Instructions**"
      ],
      "metadata": {
        "id": "cI7lVhePK6A3"
      }
    },
    {
      "cell_type": "markdown",
      "source": [
        "https://langchain-ai.github.io/langmem/reference/prompt_optimization/"
      ],
      "metadata": {
        "id": "p671tSBTVX8z"
      }
    },
    {
      "cell_type": "code",
      "source": [
        "from langmem import create_prompt_optimizer\n",
        "\n",
        "optimizer = create_prompt_optimizer(\n",
        "    \"google_genai:gemini-2.0-flash\",\n",
        "    kind=\"metaprompt\",\n",
        "    config={\"max_reflection_steps\": 3}\n",
        ")"
      ],
      "metadata": {
        "id": "ZamfxReJVLvy"
      },
      "execution_count": 4,
      "outputs": []
    },
    {
      "cell_type": "code",
      "source": [
        "prompt = \"You are a helpful assistant.\"\n",
        "trajectory = [\n",
        "    {\"role\": \"user\", \"content\": \"Explain inheritance in Python\"},\n",
        "    {\"role\": \"assistant\", \"content\": \"Here's a detailed theoretical explanation...\"},\n",
        "    {\"role\": \"user\", \"content\": \"Show me a practical example instead\"},\n",
        "]\n",
        "optimized = optimizer.invoke({\n",
        "    \"trajectories\": [(trajectory, {\"user_score\": 0})],\n",
        "    \"prompt\": prompt\n",
        "})\n",
        "print(optimized)"
      ],
      "metadata": {
        "colab": {
          "base_uri": "https://localhost:8080/"
        },
        "id": "4JZ3jnTnVSmD",
        "outputId": "565ee8ef-1b5d-4866-bd1e-e40b0841dcff"
      },
      "execution_count": 5,
      "outputs": [
        {
          "output_type": "stream",
          "name": "stderr",
          "text": [
            "WARNING:langchain_google_genai._function_utils:Key 'title' is not supported in schema, ignoring\n",
            "WARNING:langchain_google_genai._function_utils:Key 'title' is not supported in schema, ignoring\n",
            "WARNING:langchain_google_genai._function_utils:Key 'title' is not supported in schema, ignoring\n",
            "WARNING:langchain_google_genai._function_utils:Key 'title' is not supported in schema, ignoring\n",
            "WARNING:langchain_google_genai._function_utils:Key 'title' is not supported in schema, ignoring\n",
            "WARNING:langchain_google_genai._function_utils:Key 'title' is not supported in schema, ignoring\n",
            "WARNING:langchain_google_genai._function_utils:Key 'title' is not supported in schema, ignoring\n"
          ]
        },
        {
          "output_type": "stream",
          "name": "stdout",
          "text": [
            "You are a helpful assistant. When explaining programming concepts, always start with a practical example (e.g., a code snippet) before providing any theoretical explanation. If the user asks for a theoretical explanation, then provide it after the practical example.\n"
          ]
        }
      ]
    },
    {
      "cell_type": "markdown",
      "source": [
        "# **OpenAI Agents SDK Email Assistant with Semantic + Episodic + Procedural Memory**"
      ],
      "metadata": {
        "id": "JtKpusSwWIZY"
      }
    },
    {
      "cell_type": "markdown",
      "source": [
        "![architecture_pic](https://github.com/panaversity/learn-agentic-ai/blob/main/01_openai_agents/16_memory/01_langmem/00_baseline_email_assistant/img/memory_course_email.png?raw=true)"
      ],
      "metadata": {
        "id": "3rICSyaPmOdn"
      }
    },
    {
      "cell_type": "markdown",
      "source": [
        "\n",
        "We previously built an email assistant that:\n",
        "- Classifies incoming messages (respond, ignore, notify)\n",
        "- Uses human-in-the-loop to refine the assistant's ability to classify emails\n",
        "- Drafts responses\n",
        "- Schedules meetings\n",
        "- Uses memory to remember details from previous emails\n",
        "\n",
        "Now, we'll add procedural memory that allows the user to update instructions for using the calendar and email writing tools."
      ],
      "metadata": {
        "id": "MagfdaZ7WpAq"
      }
    },
    {
      "cell_type": "markdown",
      "source": [
        "## OpenAI Agents SDK Model Config"
      ],
      "metadata": {
        "id": "qSJI6dbhAKot"
      }
    },
    {
      "cell_type": "code",
      "execution_count": 6,
      "metadata": {
        "id": "XnusaX_RWF22"
      },
      "outputs": [],
      "source": [
        "from pydantic import BaseModel, Field\n",
        "from agents import (\n",
        "    Agent,\n",
        "    Runner,\n",
        "    AsyncOpenAI,\n",
        "    OpenAIChatCompletionsModel,\n",
        "    RunConfig\n",
        ")\n",
        "from typing import Dict, Any\n",
        "from typing_extensions import TypedDict, Literal, Annotated\n"
      ]
    },
    {
      "cell_type": "code",
      "source": [
        "#Reference: https://ai.google.dev/gemini-api/docs/openai\n",
        "external_client = AsyncOpenAI(\n",
        "    api_key=os.environ[\"GOOGLE_API_KEY\"],\n",
        "    base_url=\"https://generativelanguage.googleapis.com/v1beta/openai/\",\n",
        ")\n",
        "\n",
        "model = OpenAIChatCompletionsModel(\n",
        "    model=\"gemini-2.0-flash\",\n",
        "    openai_client=external_client\n",
        ")\n",
        "\n",
        "config = RunConfig(\n",
        "    model=model,\n",
        "    model_provider=external_client,\n",
        "    tracing_disabled=True\n",
        ")\n"
      ],
      "metadata": {
        "id": "ci9rBxqfnyNm"
      },
      "execution_count": 7,
      "outputs": []
    },
    {
      "cell_type": "markdown",
      "source": [
        "## **Setup a Profile, Prompt Instructions and Example Email**"
      ],
      "metadata": {
        "id": "QhIqMcxWa6GD"
      }
    },
    {
      "cell_type": "code",
      "source": [
        "profile = {\n",
        "    \"name\": \"Junaid\",\n",
        "    \"full_name\": \"Muhammad Junaid Shaukat\",\n",
        "    \"user_profile_background\": \"AI Engineer building personal AI Agents WorkForce.\",\n",
        "}"
      ],
      "metadata": {
        "id": "bNf0OmfHSwkp"
      },
      "execution_count": 8,
      "outputs": []
    },
    {
      "cell_type": "code",
      "source": [
        "prompt_instructions = {\n",
        "    \"triage_rules\": {\n",
        "        \"ignore\": \"Marketing newsletters, spam emails, mass company announcements\",\n",
        "        \"notify\": \"Team member out sick, build system notifications, project status updates\",\n",
        "        \"respond\": \"Direct questions from team members, meeting requests, critical bug reports\",\n",
        "    },\n",
        "    \"agent_instructions\": \"Use these tools when appropriate to help manage Junaid tasks efficiently.\"\n",
        "}"
      ],
      "metadata": {
        "id": "Z385ETRSTt4P"
      },
      "execution_count": 9,
      "outputs": []
    },
    {
      "cell_type": "code",
      "source": [
        "# Example incoming email\n",
        "email = {\n",
        "    \"from\": \"Alice Smith <alice.smith@company.com>\",\n",
        "    \"to\": \"Muhammad Junaid Shaukat <mr.junaidshaukat@gmail.com>\",\n",
        "    \"subject\": \"Quick question about AI documentation\",\n",
        "    \"body\": \"\"\"\n",
        "Hi Junaid,\n",
        "\n",
        "I was reviewing the AI Agents documentation for the new agentic authentication service and noticed a few endpoints seem to be missing from the specs. Could you help clarify if this was intentional or if we should update the docs?\n",
        "\n",
        "Specifically, I'm looking at:\n",
        "- /agent/auth/refresh\n",
        "- /agent/auth/validate\n",
        "\n",
        "Thanks!\n",
        "Alice\"\"\",\n",
        "}"
      ],
      "metadata": {
        "id": "DSh4cvLwp_P_"
      },
      "execution_count": 10,
      "outputs": []
    },
    {
      "cell_type": "markdown",
      "source": [
        "## Setup LangGraph Store"
      ],
      "metadata": {
        "id": "rKp2utEYVPsJ"
      }
    },
    {
      "cell_type": "code",
      "source": [
        "import asyncio\n",
        "from langchain_google_genai import GoogleGenerativeAIEmbeddings\n",
        "from langgraph.store.memory import InMemoryStore\n",
        "from contextlib import asynccontextmanager\n",
        "\n",
        "store = InMemoryStore(\n",
        "      index={\n",
        "          \"dims\": 768,\n",
        "          \"embed\": GoogleGenerativeAIEmbeddings(model=\"models/text-embedding-004\")\n",
        "      }\n",
        "    )\n",
        "\n",
        "@asynccontextmanager\n",
        "async def get_store():\n",
        "  yield store\n"
      ],
      "metadata": {
        "id": "gfnB7UT-VV1c"
      },
      "execution_count": 11,
      "outputs": []
    },
    {
      "cell_type": "markdown",
      "source": [
        "Template for formating an example to put in prompt"
      ],
      "metadata": {
        "id": "0kwdOrijVjZ6"
      }
    },
    {
      "cell_type": "code",
      "source": [
        "template = \"\"\"Email Subject: {subject}\n",
        "Email From: {from_email}\n",
        "Email To: {to_email}\n",
        "Email Content:\n",
        "```\n",
        "{content}\n",
        "```\n",
        "> Triage Result: {result}\"\"\"\n",
        "\n",
        "# Format list of few shots\n",
        "def format_few_shot_examples(examples):\n",
        "    print(examples)\n",
        "    strs = [\"Here are some previous examples:\"]\n",
        "    for eg in examples:\n",
        "        email_data = eg.value.get(\"email\", {})\n",
        "        subject = email_data.get(\"subject\", \"No Subject\")\n",
        "        to_email = email_data.get(\"to\", \"No Recipient\")\n",
        "        from_email = email_data.get(\"author\") or email_data.get(\"from\", \"No Sender\")\n",
        "        # Use 'email_thread' if available; otherwise fall back to 'body'\n",
        "        content = email_data.get(\"email_thread\") or email_data.get(\"body\", \"\")\n",
        "        # Truncate the content to a maximum of 400 characters\n",
        "        content = content[:400]\n",
        "        result = eg.value.get(\"label\", \"No Label\")\n",
        "\n",
        "        strs.append(\n",
        "            template.format(\n",
        "                subject=subject,\n",
        "                to_email=to_email,\n",
        "                from_email=from_email,\n",
        "                content=content,\n",
        "                result=result,\n",
        "            )\n",
        "        )\n",
        "    return \"\\n\\n------------\\n\\n\".join(strs)"
      ],
      "metadata": {
        "id": "NZ3mCYNUqXAI"
      },
      "execution_count": 12,
      "outputs": []
    },
    {
      "cell_type": "markdown",
      "source": [
        "## **Prompt Templates**"
      ],
      "metadata": {
        "id": "cJxC0wFqdCD1"
      }
    },
    {
      "cell_type": "code",
      "source": [
        "# Triage system prompt template\n",
        "triage_system_prompt_template = \"\"\"\n",
        "< Role >\n",
        "You are {full_name}'s executive assistant. You are a top-notch executive assistant who cares about {name} performing as well as possible.\n",
        "</ Role >\n",
        "\n",
        "< Background >\n",
        "{user_profile_background}.\n",
        "</ Background >\n",
        "\n",
        "< Instructions >\n",
        "\n",
        "{name} gets lots of emails. Your job is to categorize each email into one of three categories:\n",
        "\n",
        "1. IGNORE - Emails that are not worth responding to or tracking\n",
        "2. NOTIFY - Important information that {name} should know about but doesn't require a response\n",
        "3. RESPOND - Emails that need a direct response from {name}\n",
        "\n",
        "Classify the below email into one of these categories.\n",
        "\n",
        "</ Instructions >\n",
        "\n",
        "< Rules >\n",
        "Emails that are not worth responding to:\n",
        "{triage_no}\n",
        "\n",
        "There are also other things that {name} should know about, but don't require an email response. For these, you should notify {name} (using the `notify` response). Examples of this include:\n",
        "{triage_notify}\n",
        "\n",
        "Emails that are worth responding to:\n",
        "{triage_email}\n",
        "</ Rules >\n",
        "\n",
        "< Few shot examples >\n",
        "{examples}\n",
        "</ Few shot examples >\n",
        "\"\"\"\n",
        "\n",
        "\n",
        "\n",
        "\n",
        "\n",
        "# Triage User Prompt Template\n",
        "triage_user_prompt_template = \"\"\"\n",
        "Please determine how to handle the below email thread:\n",
        "\n",
        "From: {author}\n",
        "To: {to}\n",
        "Subject: {subject}\n",
        "{email_thread}\n",
        "\"\"\"\n",
        "\n",
        "\n",
        "\n"
      ],
      "metadata": {
        "id": "3l4qiC5xdA4C"
      },
      "execution_count": 13,
      "outputs": []
    },
    {
      "cell_type": "code",
      "source": [
        "from pydantic import BaseModel, Field\n",
        "from typing import Literal\n",
        "\n",
        "class Email(BaseModel):\n",
        "    from_: str = Field(alias=\"from\")\n",
        "    to: str\n",
        "    subject: str\n",
        "    body: str\n",
        "\n",
        "email_model = Email(**email)\n",
        "print(email_model.model_dump_json(by_alias=True))"
      ],
      "metadata": {
        "colab": {
          "base_uri": "https://localhost:8080/"
        },
        "id": "0_XgexJ0QROb",
        "outputId": "5f330210-3a77-400a-8798-8ae4ba18a802"
      },
      "execution_count": 14,
      "outputs": [
        {
          "output_type": "stream",
          "name": "stdout",
          "text": [
            "{\"from\":\"Alice Smith <alice.smith@company.com>\",\"to\":\"Muhammad Junaid Shaukat <mr.junaidshaukat@gmail.com>\",\"subject\":\"Quick question about AI documentation\",\"body\":\"\\nHi Junaid,\\n\\nI was reviewing the AI Agents documentation for the new agentic authentication service and noticed a few endpoints seem to be missing from the specs. Could you help clarify if this was intentional or if we should update the docs?\\n\\nSpecifically, I'm looking at:\\n- /agent/auth/refresh\\n- /agent/auth/validate\\n\\nThanks!\\nAlice\"}\n"
          ]
        }
      ]
    },
    {
      "cell_type": "code",
      "source": [
        "class Router(BaseModel):\n",
        "    \"\"\"Analyze the unread email and route it according to its content.\"\"\"\n",
        "\n",
        "    reasoning: str = Field(\n",
        "        description=\"Step-by-step reasoning behind the classification.\"\n",
        "    )\n",
        "    classification: Literal[\"ignore\", \"respond\", \"notify\"] = Field(\n",
        "        description=\"The classification of an email: 'ignore' for irrelevant emails, \"\n",
        "        \"'notify' for important information that doesn't need a response, \"\n",
        "        \"'respond' for emails that need a reply\",\n",
        "    )"
      ],
      "metadata": {
        "id": "ZCmLINFscUji"
      },
      "execution_count": 15,
      "outputs": []
    },
    {
      "cell_type": "markdown",
      "source": [
        "## **A function to create a prompt using f-string**"
      ],
      "metadata": {
        "id": "bKvnDeJmgdIh"
      }
    },
    {
      "cell_type": "code",
      "source": [
        "def create_prompt(template: str, variables: dict[str, any], username: str) -> str:\n",
        "    \"\"\"Creates a prompt using an f-string and a dictionary of variables.\"\"\"\n",
        "    namespace = (username, )\n",
        "    result = store.get(namespace, \"agent_instructions\")\n",
        "    if result is None:\n",
        "        store.put(\n",
        "            namespace,\n",
        "            \"agent_instructions\",\n",
        "            {\"prompt\": prompt_instructions[\"agent_instructions\"]}\n",
        "        )\n",
        "        prompt = prompt_instructions[\"agent_instructions\"]\n",
        "    else:\n",
        "        prompt = result.value['prompt']\n",
        "    try:\n",
        "        return template.format(instructions=prompt, **variables)\n",
        "    except KeyError as e:\n",
        "        return f\"Error: Missing variable '{e.args[0]}' in the provided dictionary.\""
      ],
      "metadata": {
        "id": "_FzwooWFgeAc"
      },
      "execution_count": 16,
      "outputs": []
    },
    {
      "cell_type": "markdown",
      "source": [
        "## **Response Agent, Define Tools**"
      ],
      "metadata": {
        "id": "lbw8_HSN3Wif"
      }
    },
    {
      "cell_type": "code",
      "source": [
        "from agents import function_tool"
      ],
      "metadata": {
        "id": "Ff3qUo8R4fQY"
      },
      "execution_count": 17,
      "outputs": []
    },
    {
      "cell_type": "code",
      "source": [
        "@function_tool\n",
        "def write_email(to: str, subject: str, content: str) -> str:\n",
        "    \"\"\"Write and send an email.\"\"\"\n",
        "    # Placeholder response - in real app would send email\n",
        "    return f\"Email sent to {to} with subject '{subject}'\""
      ],
      "metadata": {
        "id": "m1-MmkQq3aCE"
      },
      "execution_count": 18,
      "outputs": []
    },
    {
      "cell_type": "code",
      "source": [
        "@function_tool\n",
        "def schedule_meeting(\n",
        "    attendees: list[str],\n",
        "    subject: str,\n",
        "    duration_minutes: int,\n",
        "    preferred_day: str\n",
        ") -> str:\n",
        "    \"\"\"Schedule a calendar meeting.\"\"\"\n",
        "    # Placeholder response - in real app would check calendar and schedule\n",
        "    return f\"Meeting '{subject}' scheduled for {preferred_day} with {len(attendees)} attendees\"\n",
        "\n"
      ],
      "metadata": {
        "id": "l7DIOHhj4wqE"
      },
      "execution_count": 19,
      "outputs": []
    },
    {
      "cell_type": "code",
      "source": [
        "@function_tool\n",
        "def check_calendar_availability(day: str) -> str:\n",
        "    \"\"\"Check calendar availability for a given day.\"\"\"\n",
        "    # Placeholder response - in real app would check actual calendar\n",
        "    return f\"Available times on {day}: 9:00 AM, 2:00 PM, 4:00 PM\""
      ],
      "metadata": {
        "id": "FYY2YRm341Dh"
      },
      "execution_count": 20,
      "outputs": []
    },
    {
      "cell_type": "markdown",
      "source": [
        "### **LangMem Memory Management Tools**"
      ],
      "metadata": {
        "id": "bBiBZ1vFy6hP"
      }
    },
    {
      "cell_type": "markdown",
      "source": [
        "### Mem Tools"
      ],
      "metadata": {
        "id": "an4XR4iIZsOl"
      }
    },
    {
      "cell_type": "code",
      "source": [
        "class UserInfo(BaseModel):\n",
        "  username: str\n",
        "\n",
        "namespace_template=(\"email_assistant\", \"{username}\", \"collection\")"
      ],
      "metadata": {
        "id": "7buV0MoM7H5Y"
      },
      "execution_count": 21,
      "outputs": []
    },
    {
      "cell_type": "code",
      "source": [
        "from langmem import create_manage_memory_tool, create_search_memory_tool\n",
        "from langmem_adapter import LangMemOpenAIAgentToolAdapter\n",
        "\n",
        "# Initialize the manage memory tool dynamically:\n",
        "manage_adapter = LangMemOpenAIAgentToolAdapter(\n",
        "    lambda store, namespace=None: create_manage_memory_tool(namespace=namespace, store=store),\n",
        "    store_provider=get_store,\n",
        "    namespace_template=namespace_template\n",
        ")\n",
        "manage_memory_tool = manage_adapter.as_tool()\n",
        "\n",
        "# Initialize the search memory tool dynamically:\n",
        "search_adapter = LangMemOpenAIAgentToolAdapter(\n",
        "    lambda store, namespace=None: create_search_memory_tool(namespace=namespace, store=store),\n",
        "    store_provider=get_store,\n",
        "    namespace_template=namespace_template\n",
        ")\n",
        "search_memory_tool = search_adapter.as_tool()\n"
      ],
      "metadata": {
        "id": "Gq004jE_7IqC"
      },
      "execution_count": 22,
      "outputs": []
    },
    {
      "cell_type": "code",
      "source": [
        "store.search((\"email_assistant\", \"junaid\", \"examples\"))"
      ],
      "metadata": {
        "colab": {
          "base_uri": "https://localhost:8080/"
        },
        "id": "VIMsXifigJgR",
        "outputId": "fb6c0616-85f5-4773-d1fc-39c2ddb59719"
      },
      "execution_count": 23,
      "outputs": [
        {
          "output_type": "execute_result",
          "data": {
            "text/plain": [
              "[]"
            ]
          },
          "metadata": {},
          "execution_count": 23
        }
      ]
    },
    {
      "cell_type": "markdown",
      "source": [
        "## **Response Agent, Define Prompt**"
      ],
      "metadata": {
        "id": "UXrrpjMD52VW"
      }
    },
    {
      "cell_type": "code",
      "source": [
        "response_prompt_template = \"\"\"\n",
        "< Role >\n",
        "You are {full_name}'s executive assistant. You are a top-notch executive assistant who cares about {name} performing as well as possible.\n",
        "</ Role >\n",
        "\n",
        "< Tools >\n",
        "You have access to the following tools to help manage {name}'s communications and schedule:\n",
        "\n",
        "1. write_email(to, subject, content) - Send emails to specified recipients\n",
        "2. schedule_meeting(attendees, subject, duration_minutes, preferred_day) - Schedule calendar meetings\n",
        "3. check_calendar_availability(day) - Check available time slots for a given day\n",
        "</ Tools >\n",
        "\n",
        "< Instructions >\n",
        "{instructions}\n",
        "</ Instructions >\n",
        "\"\"\""
      ],
      "metadata": {
        "id": "HRtFZ0-O5_au"
      },
      "execution_count": 24,
      "outputs": []
    },
    {
      "cell_type": "code",
      "source": [
        "tools=[write_email, schedule_meeting, check_calendar_availability, manage_memory_tool, search_memory_tool]"
      ],
      "metadata": {
        "id": "19R5pQeu0Pg_"
      },
      "execution_count": 25,
      "outputs": []
    },
    {
      "cell_type": "code",
      "source": [
        "from agents import RunContextWrapper\n",
        "def dynamic_instructions(\n",
        "    context: RunContextWrapper[UserInfo], agent: Agent[UserInfo]\n",
        ") -> str:\n",
        "\n",
        "    response_system_prompt = create_prompt(response_prompt_template, {\n",
        "      \"full_name\": profile[\"full_name\"],\n",
        "      \"name\":profile[\"name\"]\n",
        "    },\n",
        "      context.context.username\n",
        "    )\n",
        "    return response_system_prompt"
      ],
      "metadata": {
        "id": "hTkpMYzpI6N2"
      },
      "execution_count": 26,
      "outputs": []
    },
    {
      "cell_type": "code",
      "source": [
        "response_agent = Agent[UserInfo](\n",
        "    name=\"Response agent\",\n",
        "    instructions=dynamic_instructions,\n",
        "    tools=tools\n",
        "    )\n"
      ],
      "metadata": {
        "id": "k3x5ewYmwjuJ"
      },
      "execution_count": 27,
      "outputs": []
    },
    {
      "cell_type": "markdown",
      "source": [
        "## **Create Triage Agent Flow in Python**"
      ],
      "metadata": {
        "id": "vseM3JXy2AI0"
      }
    },
    {
      "cell_type": "markdown",
      "source": [
        "#### Updated triage_router gets ignore, notify and respond rule from store"
      ],
      "metadata": {
        "id": "DOkDf7XyrJFX"
      }
    },
    {
      "cell_type": "code",
      "source": [
        "async def triage_router(email: Email, username: str):\n",
        "\n",
        "    author = email.from_\n",
        "    to = email.to\n",
        "    subject = email.subject\n",
        "    email_thread = email.body\n",
        "\n",
        "    namespace = (\n",
        "        \"email_assistant\",\n",
        "        username,\n",
        "        \"examples\"\n",
        "    )\n",
        "\n",
        "    examples = store.search(\n",
        "        namespace,\n",
        "        query=str({\"email\": email_thread}),\n",
        "    )\n",
        "    examples=format_few_shot_examples(examples)\n",
        "\n",
        "    namespace = (username, )\n",
        "\n",
        "    result = store.get(namespace, \"triage_ignore\")\n",
        "    if result is None:\n",
        "        store.put(\n",
        "            namespace,\n",
        "            \"triage_ignore\",\n",
        "            {\"prompt\": prompt_instructions[\"triage_rules\"][\"ignore\"]}\n",
        "        )\n",
        "        ignore_prompt = prompt_instructions[\"triage_rules\"][\"ignore\"]\n",
        "    else:\n",
        "        ignore_prompt = result.value['prompt']\n",
        "\n",
        "    result = store.get(namespace, \"triage_notify\")\n",
        "    if result is None:\n",
        "        store.put(\n",
        "            namespace,\n",
        "            \"triage_notify\",\n",
        "            {\"prompt\": prompt_instructions[\"triage_rules\"][\"notify\"]}\n",
        "        )\n",
        "        notify_prompt = prompt_instructions[\"triage_rules\"][\"notify\"]\n",
        "    else:\n",
        "        notify_prompt = result.value['prompt']\n",
        "\n",
        "    result = store.get(namespace, \"triage_respond\")\n",
        "    if result is None:\n",
        "        store.put(\n",
        "            namespace,\n",
        "            \"triage_respond\",\n",
        "            {\"prompt\": prompt_instructions[\"triage_rules\"][\"respond\"]}\n",
        "        )\n",
        "        respond_prompt = prompt_instructions[\"triage_rules\"][\"respond\"]\n",
        "    else:\n",
        "        respond_prompt = result.value['prompt']\n",
        "\n",
        "    system_prompt = create_prompt(triage_system_prompt_template, {\n",
        "        \"full_name\": profile[\"full_name\"],\n",
        "        \"name\":profile[\"name\"],\n",
        "        \"user_profile_background\": profile[\"user_profile_background\"],\n",
        "        \"triage_no\": ignore_prompt,\n",
        "        \"triage_notify\": notify_prompt,\n",
        "        \"triage_email\": respond_prompt,\n",
        "        \"examples\": examples,\n",
        "      },\n",
        "      username\n",
        "    )\n",
        "\n",
        "    user_prompt = triage_user_prompt_template.format(\n",
        "        author=author,\n",
        "        to=to,\n",
        "        subject=subject,\n",
        "        email_thread=email_thread\n",
        "    )\n",
        "\n",
        "    triage_agent = Agent(\n",
        "        name=\"Triage Agent\",\n",
        "        instructions=system_prompt,\n",
        "        output_type=Router\n",
        "    )\n",
        "\n",
        "    triage_result = await Runner.run(\n",
        "        triage_agent,\n",
        "        user_prompt,\n",
        "        run_config = config,\n",
        "        context=UserInfo(username=username)\n",
        "        )\n",
        "\n",
        "    print(triage_result.final_output)\n",
        "    print(\"Triage History: \", triage_result.to_input_list())\n",
        "\n",
        "    if triage_result.final_output.classification == \"respond\":\n",
        "          print(\"📧 Classification: RESPOND - This email requires a response\")\n",
        "          response_result = await Runner.run(\n",
        "              response_agent,\n",
        "              f\"Respond to the email {email.model_dump_json(by_alias=True)}\",\n",
        "              run_config = config,\n",
        "              context=UserInfo(username=username)\n",
        "              )\n",
        "          print(response_result.final_output)\n",
        "          print(\"Response History\", response_result.to_input_list())\n",
        "          return response_result.final_output\n",
        "    elif triage_result.final_output.classification == \"ignore\":\n",
        "        print(\"🚫 Classification: IGNORE - This email can be safely ignored\")\n",
        "    elif triage_result.final_output.classification == \"notify\":\n",
        "        # If real life, this would do something else\n",
        "        print(\"🔔 Classification: NOTIFY - This email contains important information\")\n",
        "    else:\n",
        "        raise ValueError(f\"Invalid classification: {triage_result.final_output.classification}\")\n"
      ],
      "metadata": {
        "id": "BraP4MP42fRN"
      },
      "execution_count": 28,
      "outputs": []
    },
    {
      "cell_type": "markdown",
      "source": [
        "## **Now Test the Triage and Response Agents Working Together**"
      ],
      "metadata": {
        "id": "JL3oo4CramJl"
      }
    },
    {
      "cell_type": "code",
      "source": [
        "email_input = {\n",
        "    \"from\": \"Alice Jones <alice.jones@bar.com>\",\n",
        "    \"to\": \"Muhammad Junaid Shaukat <mr.junaidshaukat@gmail.com>\",\n",
        "    \"subject\": \"Quick question about API documentation\",\n",
        "    \"body\": \"\"\"Hi Junaid,\n",
        "\n",
        "Urgent issue - your service is down. Is there a reason why\"\"\",\n",
        "}\n",
        "\n",
        "typed_email = Email(**email_input)\n",
        "print(typed_email.model_dump_json(by_alias=True))"
      ],
      "metadata": {
        "colab": {
          "base_uri": "https://localhost:8080/"
        },
        "id": "3DrHXZv9uRg0",
        "outputId": "6a3faadd-09fa-44ba-da87-9f01f3f76335"
      },
      "execution_count": 29,
      "outputs": [
        {
          "output_type": "stream",
          "name": "stdout",
          "text": [
            "{\"from\":\"Alice Jones <alice.jones@bar.com>\",\"to\":\"Muhammad Junaid Shaukat <mr.junaidshaukat@gmail.com>\",\"subject\":\"Quick question about API documentation\",\"body\":\"Hi Junaid,\\n\\nUrgent issue - your service is down. Is there a reason why\"}\n"
          ]
        }
      ]
    },
    {
      "cell_type": "code",
      "source": [
        "assistant_response = await triage_router(typed_email, \"junaid\")\n",
        "assistant_response"
      ],
      "metadata": {
        "colab": {
          "base_uri": "https://localhost:8080/",
          "height": 341
        },
        "id": "KGOWTDTkuVjV",
        "outputId": "0f7d7da7-437c-449a-900d-d68704861f3a"
      },
      "execution_count": 30,
      "outputs": [
        {
          "output_type": "stream",
          "name": "stdout",
          "text": [
            "[]\n",
            "reasoning='This is a critical issue (service is down) that requires immediate attention and a direct response from Junaid.' classification='respond'\n",
            "Triage History:  [{'content': '\\nPlease determine how to handle the below email thread:\\n\\nFrom: Alice Jones <alice.jones@bar.com>\\nTo: Muhammad Junaid Shaukat <mr.junaidshaukat@gmail.com>\\nSubject: Quick question about API documentation\\nHi Junaid,\\n\\nUrgent issue - your service is down. Is there a reason why\\n', 'role': 'user'}, {'id': '__fake_id__', 'content': [{'annotations': [], 'text': '{\\n  \"classification\": \"respond\",\\n  \"reasoning\": \"This is a critical issue (service is down) that requires immediate attention and a direct response from Junaid.\"\\n}', 'type': 'output_text'}], 'role': 'assistant', 'status': 'completed', 'type': 'message'}]\n",
            "📧 Classification: RESPOND - This email requires a response\n",
            "Subject: Re: Quick question about API documentation\n",
            "\n",
            "Hi Alice,\n",
            "\n",
            "Thanks for reaching out. I'm very sorry to hear about the service disruption. I'll look into this immediately and provide you with an update as soon as possible.\n",
            "\n",
            "Best,\n",
            "\n",
            "Junaid\n",
            "\n",
            "Response History [{'content': 'Respond to the email {\"from\":\"Alice Jones <alice.jones@bar.com>\",\"to\":\"Muhammad Junaid Shaukat <mr.junaidshaukat@gmail.com>\",\"subject\":\"Quick question about API documentation\",\"body\":\"Hi Junaid,\\\\n\\\\nUrgent issue - your service is down. Is there a reason why\"}', 'role': 'user'}, {'id': '__fake_id__', 'content': [{'annotations': [], 'text': \"Subject: Re: Quick question about API documentation\\n\\nHi Alice,\\n\\nThanks for reaching out. I'm very sorry to hear about the service disruption. I'll look into this immediately and provide you with an update as soon as possible.\\n\\nBest,\\n\\nJunaid\\n\", 'type': 'output_text'}], 'role': 'assistant', 'status': 'completed', 'type': 'message'}]\n"
          ]
        },
        {
          "output_type": "execute_result",
          "data": {
            "text/plain": [
              "\"Subject: Re: Quick question about API documentation\\n\\nHi Alice,\\n\\nThanks for reaching out. I'm very sorry to hear about the service disruption. I'll look into this immediately and provide you with an update as soon as possible.\\n\\nBest,\\n\\nJunaid\\n\""
            ],
            "application/vnd.google.colaboratory.intrinsic+json": {
              "type": "string"
            }
          },
          "metadata": {},
          "execution_count": 30
        }
      ]
    },
    {
      "cell_type": "code",
      "source": [
        "import json\n",
        "type(json.dumps(typed_email.model_dump_json(by_alias=True)))"
      ],
      "metadata": {
        "colab": {
          "base_uri": "https://localhost:8080/"
        },
        "id": "2NHIEBs-ylIo",
        "outputId": "79ad8733-c22e-4302-91c8-b57ae79220ac"
      },
      "execution_count": 31,
      "outputs": [
        {
          "output_type": "execute_result",
          "data": {
            "text/plain": [
              "str"
            ]
          },
          "metadata": {},
          "execution_count": 31
        }
      ]
    },
    {
      "cell_type": "code",
      "source": [
        "import json\n",
        "history = [\n",
        "    {\"role\": \"user\", \"content\": json.dumps(typed_email.model_dump_json(by_alias=True))},\n",
        "    {\"role\": \"assistant\", \"content\": assistant_response}\n",
        "    ]"
      ],
      "metadata": {
        "id": "IKVVa0LvyS2G"
      },
      "execution_count": 32,
      "outputs": []
    },
    {
      "cell_type": "markdown",
      "source": [
        "#### and look at current values of long term memory"
      ],
      "metadata": {
        "id": "Tm21a2DRvcpT"
      }
    },
    {
      "cell_type": "code",
      "source": [
        "store.get((\"junaid\",), \"agent_instructions\").value['prompt']"
      ],
      "metadata": {
        "colab": {
          "base_uri": "https://localhost:8080/",
          "height": 35
        },
        "id": "afi4NoSvvdHX",
        "outputId": "e2ea8d97-1f19-44fb-9e5a-8efd8fd9f71e"
      },
      "execution_count": 33,
      "outputs": [
        {
          "output_type": "execute_result",
          "data": {
            "text/plain": [
              "'Use these tools when appropriate to help manage Junaid tasks efficiently.'"
            ],
            "application/vnd.google.colaboratory.intrinsic+json": {
              "type": "string"
            }
          },
          "metadata": {},
          "execution_count": 33
        }
      ]
    },
    {
      "cell_type": "code",
      "source": [
        "store.get((\"junaid\",), \"triage_respond\").value['prompt']"
      ],
      "metadata": {
        "colab": {
          "base_uri": "https://localhost:8080/",
          "height": 35
        },
        "id": "d50WOFYyw4k8",
        "outputId": "35f004dd-02c6-435e-9aaa-21f54d5cd509"
      },
      "execution_count": 34,
      "outputs": [
        {
          "output_type": "execute_result",
          "data": {
            "text/plain": [
              "'Direct questions from team members, meeting requests, critical bug reports'"
            ],
            "application/vnd.google.colaboratory.intrinsic+json": {
              "type": "string"
            }
          },
          "metadata": {},
          "execution_count": 34
        }
      ]
    },
    {
      "cell_type": "code",
      "source": [
        "store.get((\"junaid\",), \"triage_ignore\").value['prompt']"
      ],
      "metadata": {
        "colab": {
          "base_uri": "https://localhost:8080/",
          "height": 35
        },
        "id": "W96LTYJDw47e",
        "outputId": "a79e4149-82f8-4e92-f2cd-24e0ccba36cf"
      },
      "execution_count": 35,
      "outputs": [
        {
          "output_type": "execute_result",
          "data": {
            "text/plain": [
              "'Marketing newsletters, spam emails, mass company announcements'"
            ],
            "application/vnd.google.colaboratory.intrinsic+json": {
              "type": "string"
            }
          },
          "metadata": {},
          "execution_count": 35
        }
      ]
    },
    {
      "cell_type": "code",
      "source": [
        "store.get((\"junaid\",), \"triage_notify\").value['prompt']"
      ],
      "metadata": {
        "colab": {
          "base_uri": "https://localhost:8080/",
          "height": 35
        },
        "id": "lfWIJQvdw9Tz",
        "outputId": "23ccb389-1bd0-4ee2-dcf2-07513bf542ec"
      },
      "execution_count": 36,
      "outputs": [
        {
          "output_type": "execute_result",
          "data": {
            "text/plain": [
              "'Team member out sick, build system notifications, project status updates'"
            ],
            "application/vnd.google.colaboratory.intrinsic+json": {
              "type": "string"
            }
          },
          "metadata": {},
          "execution_count": 36
        }
      ]
    },
    {
      "cell_type": "markdown",
      "source": [
        "### Now, Use an LLM to update instructions."
      ],
      "metadata": {
        "id": "Y_-g6vzRxBr9"
      }
    },
    {
      "cell_type": "code",
      "source": [
        "from langmem import create_multi_prompt_optimizer"
      ],
      "metadata": {
        "id": "D3ncOKTixCFD"
      },
      "execution_count": 37,
      "outputs": []
    },
    {
      "cell_type": "code",
      "source": [
        "conversations = [\n",
        "    (\n",
        "        history,\n",
        "        \"Always sign your emails `Muhammad Junaid`\"\n",
        "    )\n",
        "]"
      ],
      "metadata": {
        "id": "cfuaPA6ixDyT"
      },
      "execution_count": 38,
      "outputs": []
    },
    {
      "cell_type": "code",
      "source": [
        "prompts = [\n",
        "    {\n",
        "        \"name\": \"main_agent\",\n",
        "        \"prompt\": store.get((\"junaid\",), \"agent_instructions\").value['prompt'],\n",
        "        \"update_instructions\": \"keep the instructions short and to the point\",\n",
        "        \"when_to_update\": \"Update this prompt whenever there is feedback on how the agent should write emails or schedule events\"\n",
        "\n",
        "    },\n",
        "    {\n",
        "        \"name\": \"triage-ignore\",\n",
        "        \"prompt\": store.get((\"junaid\",), \"triage_ignore\").value['prompt'],\n",
        "        \"update_instructions\": \"keep the instructions short and to the point\",\n",
        "        \"when_to_update\": \"Update this prompt whenever there is feedback on which emails should be ignored\"\n",
        "\n",
        "    },\n",
        "    {\n",
        "        \"name\": \"triage-notify\",\n",
        "        \"prompt\": store.get((\"junaid\",), \"triage_notify\").value['prompt'],\n",
        "        \"update_instructions\": \"keep the instructions short and to the point\",\n",
        "        \"when_to_update\": \"Update this prompt whenever there is feedback on which emails the user should be notified of\"\n",
        "\n",
        "    },\n",
        "    {\n",
        "        \"name\": \"triage-respond\",\n",
        "        \"prompt\": store.get((\"junaid\",), \"triage_respond\").value['prompt'],\n",
        "        \"update_instructions\": \"keep the instructions short and to the point\",\n",
        "        \"when_to_update\": \"Update this prompt whenever there is feedback on which emails should be responded to\"\n",
        "\n",
        "    },\n",
        "]"
      ],
      "metadata": {
        "id": "wnOM4X3kxfEf"
      },
      "execution_count": 39,
      "outputs": []
    },
    {
      "cell_type": "code",
      "source": [
        "optimizer = create_multi_prompt_optimizer(\n",
        "    \"google_genai:gemini-2.0-flash\",\n",
        "    kind=\"prompt_memory\",\n",
        ")"
      ],
      "metadata": {
        "colab": {
          "base_uri": "https://localhost:8080/"
        },
        "id": "Z0r05hNQxjEb",
        "outputId": "34debc58-9dd4-49f4-e70d-324d0669d1cd"
      },
      "execution_count": 40,
      "outputs": [
        {
          "output_type": "stream",
          "name": "stderr",
          "text": [
            "/usr/local/lib/python3.11/dist-packages/langchain_google_genai/chat_models.py:1410: UserWarning: ChatGoogleGenerativeAI.with_structured_output with dict schema has changed recently to align with behavior of other LangChain chat models. More context: https://github.com/langchain-ai/langchain-google/pull/772\n",
            "  warnings.warn(\n"
          ]
        }
      ]
    },
    {
      "cell_type": "code",
      "source": [
        "updated = optimizer.invoke(\n",
        "    {\"trajectories\": conversations, \"prompts\": prompts}\n",
        ")\n"
      ],
      "metadata": {
        "colab": {
          "base_uri": "https://localhost:8080/"
        },
        "id": "4nalIIQvxpE0",
        "outputId": "55d12b21-4205-4287-a943-a3dfe2ba47d7"
      },
      "execution_count": 41,
      "outputs": [
        {
          "output_type": "stream",
          "name": "stderr",
          "text": [
            "WARNING:langchain_google_genai._function_utils:Key 'title' is not supported in schema, ignoring\n"
          ]
        }
      ]
    },
    {
      "cell_type": "code",
      "source": [
        "updated"
      ],
      "metadata": {
        "colab": {
          "base_uri": "https://localhost:8080/"
        },
        "id": "PdFc5aqLzHRt",
        "outputId": "811840bb-12bb-4d23-ad65-547fceafa3f3"
      },
      "execution_count": 42,
      "outputs": [
        {
          "output_type": "execute_result",
          "data": {
            "text/plain": [
              "[{'name': 'main_agent',\n",
              "  'prompt': 'Use these tools when appropriate to help manage Junaid tasks efficiently. Always sign your emails `Muhammad Junaid`',\n",
              "  'update_instructions': 'keep the instructions short and to the point',\n",
              "  'when_to_update': 'Update this prompt whenever there is feedback on how the agent should write emails or schedule events'},\n",
              " {'name': 'triage-ignore',\n",
              "  'prompt': 'Marketing newsletters, spam emails, mass company announcements',\n",
              "  'update_instructions': 'keep the instructions short and to the point',\n",
              "  'when_to_update': 'Update this prompt whenever there is feedback on which emails should be ignored'},\n",
              " {'name': 'triage-notify',\n",
              "  'prompt': 'Team member out sick, build system notifications, project status updates',\n",
              "  'update_instructions': 'keep the instructions short and to the point',\n",
              "  'when_to_update': 'Update this prompt whenever there is feedback on which emails the user should be notified of'},\n",
              " {'name': 'triage-respond',\n",
              "  'prompt': 'Direct questions from team members, meeting requests, critical bug reports',\n",
              "  'update_instructions': 'keep the instructions short and to the point',\n",
              "  'when_to_update': 'Update this prompt whenever there is feedback on which emails should be responded to'}]"
            ]
          },
          "metadata": {},
          "execution_count": 42
        }
      ]
    },
    {
      "cell_type": "code",
      "source": [
        "for i, updated_prompt in enumerate(updated):\n",
        "    old_prompt = prompts[i]\n",
        "    if updated_prompt['prompt'] != old_prompt['prompt']:\n",
        "        name = old_prompt['name']\n",
        "        print(f\"updated {name}\")\n",
        "        if name == \"main_agent\":\n",
        "            store.put(\n",
        "                (\"junaid\",),\n",
        "                \"agent_instructions\",\n",
        "                {\"prompt\":updated_prompt['prompt']}\n",
        "            )\n",
        "        elif name == \"triage-ignore\":\n",
        "            store.put(\n",
        "                (\"junaid\",),\n",
        "                \"triage_ignore\",\n",
        "                {\"prompt\":updated_prompt['prompt']}\n",
        "            )\n",
        "        else:\n",
        "            #raise ValueError\n",
        "            print(f\"Encountered {name}, implement the remaining stores!\")"
      ],
      "metadata": {
        "colab": {
          "base_uri": "https://localhost:8080/"
        },
        "id": "ijRlNT-cy5JW",
        "outputId": "88fa0760-14d3-4414-9620-464469ea0c7c"
      },
      "execution_count": 43,
      "outputs": [
        {
          "output_type": "stream",
          "name": "stdout",
          "text": [
            "updated main_agent\n"
          ]
        }
      ]
    },
    {
      "cell_type": "code",
      "source": [
        "store.get((\"junaid\",), \"agent_instructions\").value['prompt']"
      ],
      "metadata": {
        "colab": {
          "base_uri": "https://localhost:8080/",
          "height": 35
        },
        "id": "vE5GnU6i0IdV",
        "outputId": "a20afde4-4ab3-4778-bd04-4cef4eae6dcb"
      },
      "execution_count": 44,
      "outputs": [
        {
          "output_type": "execute_result",
          "data": {
            "text/plain": [
              "'Use these tools when appropriate to help manage Junaid tasks efficiently. Always sign your emails `Muhammad Junaid`'"
            ],
            "application/vnd.google.colaboratory.intrinsic+json": {
              "type": "string"
            }
          },
          "metadata": {},
          "execution_count": 44
        }
      ]
    },
    {
      "cell_type": "markdown",
      "source": [
        "Now we can use these updated instructions with our agent"
      ],
      "metadata": {
        "id": "KyAY9oyDZvoL"
      }
    }
  ]
}