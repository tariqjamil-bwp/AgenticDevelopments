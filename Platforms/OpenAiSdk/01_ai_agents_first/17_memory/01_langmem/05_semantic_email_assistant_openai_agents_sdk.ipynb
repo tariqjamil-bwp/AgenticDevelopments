{
  "nbformat": 4,
  "nbformat_minor": 0,
  "metadata": {
    "colab": {
      "provenance": []
    },
    "kernelspec": {
      "name": "python3",
      "display_name": "Python 3"
    },
    "language_info": {
      "name": "python"
    }
  },
  "cells": [
    {
      "cell_type": "markdown",
      "source": [
        "### Building on top of these concepts:\n",
        "\n",
        "If you haven't covered langmem and basic openai-agents-sdk go through these notebooks first:\n",
        "\n",
        "1. [Understand LangMem Core APIs](https://colab.research.google.com/drive/1YJNrnQRMgeNTigIuWOfykt-Z5L_DDmsa?usp=sharing)\n",
        "\n",
        "2. [Use LangMem Memory Tools with OpenAI Agents SDK](https://colab.research.google.com/drive/1xgSUeJPIBKyjpM868PsvmCZaCof-s2vB?usp=sharing)\n",
        "\n",
        "3. [Use Persistence Storage](https://colab.research.google.com/drive/1gA9r_FkbHFCWlgd52qz1oTW736gD0kmN?usp=sharing)\n",
        "\n",
        "4. [Baseline Email Assistant - Prep before Memory](https://colab.research.google.com/drive/1AgedinzRuoow3f2cvR0wRlATk8AgE0x0?usp=sharing)"
      ],
      "metadata": {
        "id": "GciAuz4rQ7aB"
      }
    },
    {
      "cell_type": "markdown",
      "source": [
        "# **Semantic Memory**"
      ],
      "metadata": {
        "id": "elprDDjjA7_W"
      }
    },
    {
      "cell_type": "markdown",
      "source": [
        "Semantic memory stores the essential facts and other information that ground an agent's responses. Two common representations of semantic memory are collections (to record an unbounded amount of knowledge to be searched at runtime) and profiles (to record task-specific information that follows a strict schema that is easily looked up by user or agent).\n",
        "\n",
        "### **When to Use Semantic Memories**\n",
        "Semantic memories help agents learn from conversations. They extract and store meaningful information that might be useful in future interactions.\n",
        "\n",
        "For example, when discussing a project, the agent might remember technical requirements, team structure, or key decisions - anything that could provide helpful context later.\n",
        "\n",
        "The goal is to build understanding over time, just like humans do through repeated interactions. Not everything needs to be remembered - focus on information that helps the agent be more helpful in future conversations. Semantic memory works best when the agent is able to save important memories and the dense relationships between them so that it can later recall not just \"what\" but \"why\" and \"how\"."
      ],
      "metadata": {
        "id": "D-OY5HFRA-UU"
      }
    },
    {
      "cell_type": "markdown",
      "source": [
        "## Install Packages"
      ],
      "metadata": {
        "id": "59zWl6S6PhP5"
      }
    },
    {
      "cell_type": "code",
      "source": [
        "!pip install -Uq openai-agents langmem langchain-google-genai langmem_adapter"
      ],
      "metadata": {
        "colab": {
          "base_uri": "https://localhost:8080/"
        },
        "id": "-1eN2ahALIX2",
        "outputId": "a8c40888-cd24-454a-fc7d-75bd3371122a"
      },
      "execution_count": 1,
      "outputs": [
        {
          "output_type": "stream",
          "name": "stdout",
          "text": [
            "\u001b[2K     \u001b[90m━━━━━━━━━━━━━━━━━━━━━━━━━━━━━━━━━━━━━━━━\u001b[0m \u001b[32m43.5/43.5 kB\u001b[0m \u001b[31m1.2 MB/s\u001b[0m eta \u001b[36m0:00:00\u001b[0m\n",
            "\u001b[2K   \u001b[90m━━━━━━━━━━━━━━━━━━━━━━━━━━━━━━━━━━━━━━━━\u001b[0m \u001b[32m106.5/106.5 kB\u001b[0m \u001b[31m4.4 MB/s\u001b[0m eta \u001b[36m0:00:00\u001b[0m\n",
            "\u001b[2K   \u001b[90m━━━━━━━━━━━━━━━━━━━━━━━━━━━━━━━━━━━━━━━━\u001b[0m \u001b[32m61.0/61.0 kB\u001b[0m \u001b[31m4.2 MB/s\u001b[0m eta \u001b[36m0:00:00\u001b[0m\n",
            "\u001b[2K   \u001b[90m━━━━━━━━━━━━━━━━━━━━━━━━━━━━━━━━━━━━━━━━\u001b[0m \u001b[32m42.0/42.0 kB\u001b[0m \u001b[31m2.5 MB/s\u001b[0m eta \u001b[36m0:00:00\u001b[0m\n",
            "\u001b[2K   \u001b[90m━━━━━━━━━━━━━━━━━━━━━━━━━━━━━━━━━━━━━━━━\u001b[0m \u001b[32m1.4/1.4 MB\u001b[0m \u001b[31m42.1 MB/s\u001b[0m eta \u001b[36m0:00:00\u001b[0m\n",
            "\u001b[2K   \u001b[90m━━━━━━━━━━━━━━━━━━━━━━━━━━━━━━━━━━━━━━━━\u001b[0m \u001b[32m129.1/129.1 kB\u001b[0m \u001b[31m7.4 MB/s\u001b[0m eta \u001b[36m0:00:00\u001b[0m\n",
            "\u001b[2K   \u001b[90m━━━━━━━━━━━━━━━━━━━━━━━━━━━━━━━━━━━━━━━━\u001b[0m \u001b[32m420.1/420.1 kB\u001b[0m \u001b[31m21.9 MB/s\u001b[0m eta \u001b[36m0:00:00\u001b[0m\n",
            "\u001b[2K   \u001b[90m━━━━━━━━━━━━━━━━━━━━━━━━━━━━━━━━━━━━━━━━\u001b[0m \u001b[32m60.1/60.1 kB\u001b[0m \u001b[31m3.5 MB/s\u001b[0m eta \u001b[36m0:00:00\u001b[0m\n",
            "\u001b[2K   \u001b[90m━━━━━━━━━━━━━━━━━━━━━━━━━━━━━━━━━━━━━━━━\u001b[0m \u001b[32m138.0/138.0 kB\u001b[0m \u001b[31m6.9 MB/s\u001b[0m eta \u001b[36m0:00:00\u001b[0m\n",
            "\u001b[2K   \u001b[90m━━━━━━━━━━━━━━━━━━━━━━━━━━━━━━━━━━━━━━━━\u001b[0m \u001b[32m41.9/41.9 kB\u001b[0m \u001b[31m943.5 kB/s\u001b[0m eta \u001b[36m0:00:00\u001b[0m\n",
            "\u001b[2K   \u001b[90m━━━━━━━━━━━━━━━━━━━━━━━━━━━━━━━━━━━━━━━━\u001b[0m \u001b[32m76.1/76.1 kB\u001b[0m \u001b[31m4.3 MB/s\u001b[0m eta \u001b[36m0:00:00\u001b[0m\n",
            "\u001b[2K   \u001b[90m━━━━━━━━━━━━━━━━━━━━━━━━━━━━━━━━━━━━━━━━\u001b[0m \u001b[32m243.4/243.4 kB\u001b[0m \u001b[31m13.1 MB/s\u001b[0m eta \u001b[36m0:00:00\u001b[0m\n",
            "\u001b[2K   \u001b[90m━━━━━━━━━━━━━━━━━━━━━━━━━━━━━━━━━━━━━━━━\u001b[0m \u001b[32m47.1/47.1 kB\u001b[0m \u001b[31m3.3 MB/s\u001b[0m eta \u001b[36m0:00:00\u001b[0m\n",
            "\u001b[2K   \u001b[90m━━━━━━━━━━━━━━━━━━━━━━━━━━━━━━━━━━━━━━━━\u001b[0m \u001b[32m223.6/223.6 kB\u001b[0m \u001b[31m13.0 MB/s\u001b[0m eta \u001b[36m0:00:00\u001b[0m\n",
            "\u001b[2K   \u001b[90m━━━━━━━━━━━━━━━━━━━━━━━━━━━━━━━━━━━━━━━━\u001b[0m \u001b[32m72.0/72.0 kB\u001b[0m \u001b[31m4.7 MB/s\u001b[0m eta \u001b[36m0:00:00\u001b[0m\n",
            "\u001b[2K   \u001b[90m━━━━━━━━━━━━━━━━━━━━━━━━━━━━━━━━━━━━━━━━\u001b[0m \u001b[32m1.2/1.2 MB\u001b[0m \u001b[31m41.1 MB/s\u001b[0m eta \u001b[36m0:00:00\u001b[0m\n",
            "\u001b[2K   \u001b[90m━━━━━━━━━━━━━━━━━━━━━━━━━━━━━━━━━━━━━━━━\u001b[0m \u001b[32m62.3/62.3 kB\u001b[0m \u001b[31m3.8 MB/s\u001b[0m eta \u001b[36m0:00:00\u001b[0m\n",
            "\u001b[2K   \u001b[90m━━━━━━━━━━━━━━━━━━━━━━━━━━━━━━━━━━━━━━━━\u001b[0m \u001b[32m194.8/194.8 kB\u001b[0m \u001b[31m9.2 MB/s\u001b[0m eta \u001b[36m0:00:00\u001b[0m\n",
            "\u001b[?25h\u001b[31mERROR: pip's dependency resolver does not currently take into account all the packages that are installed. This behaviour is the source of the following dependency conflicts.\n",
            "google-generativeai 0.8.4 requires google-ai-generativelanguage==0.6.15, but you have google-ai-generativelanguage 0.6.17 which is incompatible.\u001b[0m\u001b[31m\n",
            "\u001b[0m"
          ]
        }
      ]
    },
    {
      "cell_type": "code",
      "source": [
        "import nest_asyncio\n",
        "nest_asyncio.apply()"
      ],
      "metadata": {
        "id": "yCPm_LuiLJ32"
      },
      "execution_count": 2,
      "outputs": []
    },
    {
      "cell_type": "code",
      "source": [
        "from google.colab import userdata\n",
        "import os\n",
        "\n",
        "os.environ[\"GOOGLE_API_KEY\"] = userdata.get(\"GEMINI_API_KEY\")"
      ],
      "metadata": {
        "id": "UrU9pO3nLMIP"
      },
      "execution_count": 3,
      "outputs": []
    },
    {
      "cell_type": "markdown",
      "source": [
        "# 1. **Semantic Memories Extraction**"
      ],
      "metadata": {
        "id": "cI7lVhePK6A3"
      }
    },
    {
      "cell_type": "code",
      "source": [
        "from langmem import create_memory_manager #\n",
        "from pydantic import BaseModel\n",
        "\n",
        "class Triple(BaseModel): #\n",
        "    \"\"\"Store all new facts, preferences, and relationships as triples.\"\"\"\n",
        "    subject: str\n",
        "    predicate: str\n",
        "    object: str\n",
        "    context: str | None = None\n",
        "\n",
        "# Configure extraction\n",
        "manager = create_memory_manager(\n",
        "    \"google_genai:gemini-2.0-flash\",\n",
        "    schemas=[Triple],\n",
        "    instructions=\"Extract user preferences and any other useful information\",\n",
        "    enable_inserts=True,\n",
        "    enable_deletes=True,\n",
        ")"
      ],
      "metadata": {
        "id": "qNNcQdm1K5hX"
      },
      "execution_count": 4,
      "outputs": []
    },
    {
      "cell_type": "code",
      "source": [
        "# First conversation - extract triples\n",
        "conversation1 = [\n",
        "    {\"role\": \"user\", \"content\": \"We are building AI Agents to make Mars next humans stop\"}\n",
        "]\n",
        "memories = manager.invoke({\"messages\": conversation1})\n",
        "print(\"After first conversation:\")\n",
        "for m in memories:\n",
        "    print(m)"
      ],
      "metadata": {
        "colab": {
          "base_uri": "https://localhost:8080/"
        },
        "id": "8v0f3kcsLqHT",
        "outputId": "9c9fee8c-88fa-4e74-aea7-e8cfeea5e8b5"
      },
      "execution_count": 5,
      "outputs": [
        {
          "output_type": "stream",
          "name": "stderr",
          "text": [
            "WARNING:langchain_google_genai._function_utils:Key 'title' is not supported in schema, ignoring\n"
          ]
        },
        {
          "output_type": "stream",
          "name": "stdout",
          "text": [
            "After first conversation:\n",
            "ExtractedMemory(id='5217563d-22ec-4506-9d70-efd59ac00998', content=Triple(subject='AI Agents', predicate='purpose', object='make Mars next humans stop', context=None))\n"
          ]
        }
      ]
    },
    {
      "cell_type": "markdown",
      "source": [
        "The second conversation updates some existing memories. Since we have enabled \"deletes\", the manager will return RemoveDoc objects to indicate that the memory should be removed, and a new memory will be created in its place. Since this uses the core \"functional\" API (aka, it doesn't read or write to a database), you can control what \"removal\" means, be that a soft or hard delete, or simply a down-weighting of the memory."
      ],
      "metadata": {
        "id": "nWzB4rLuL5lP"
      }
    },
    {
      "cell_type": "code",
      "source": [
        "# Second conversation - update and add triples\n",
        "conversation2 = [\n",
        "    {\"role\": \"user\", \"content\": \"Junaid AI Agents Workspace can now suggest designs for AI Agents Core.\"}\n",
        "]\n",
        "update = manager.invoke({\"messages\": conversation2, \"existing\": memories})\n",
        "print(\"After second conversation:\")\n",
        "for m in update:\n",
        "    print(m)\n",
        "\n",
        "existing = [m for m in update if isinstance(m.content, Triple)]"
      ],
      "metadata": {
        "colab": {
          "base_uri": "https://localhost:8080/"
        },
        "id": "6qygdmXcL7Xh",
        "outputId": "e4f19d99-2e01-4ebd-d403-4b18f16be289"
      },
      "execution_count": 6,
      "outputs": [
        {
          "output_type": "stream",
          "name": "stdout",
          "text": [
            "After second conversation:\n",
            "ExtractedMemory(id='5217563d-22ec-4506-9d70-efd59ac00998', content=Triple(subject='AI Agents', predicate='purpose', object='suggest designs for AI Agents Core', context=None))\n"
          ]
        }
      ]
    },
    {
      "cell_type": "markdown",
      "source": [
        "# 2. **OpenAI Agents SDK Email Assistant with Semantic Memory**"
      ],
      "metadata": {
        "id": "JtKpusSwWIZY"
      }
    },
    {
      "cell_type": "markdown",
      "source": [
        "We'll give the assistant the ability to remember details from previous emails."
      ],
      "metadata": {
        "id": "RyCGp4AhS_C9"
      }
    },
    {
      "cell_type": "markdown",
      "source": [
        "- Uses OpenAI Agents SDK\n",
        "- Classifies incoming messages (respond, ignore, notify)\n",
        "- Drafts responses\n",
        "- Schedules meetings\n",
        "- Ability to Remember details from previous Examples\n",
        "\n",
        "We'll give the assistant the ability to remember details from previous emails."
      ],
      "metadata": {
        "id": "MagfdaZ7WpAq"
      }
    },
    {
      "cell_type": "markdown",
      "source": [
        "# Memory Layer in OpenAI Agents SDK"
      ],
      "metadata": {
        "id": "qSJI6dbhAKot"
      }
    },
    {
      "cell_type": "code",
      "execution_count": 8,
      "metadata": {
        "id": "XnusaX_RWF22"
      },
      "outputs": [],
      "source": [
        "from pydantic import BaseModel, Field\n",
        "from agents import (\n",
        "    Agent,\n",
        "    Runner,\n",
        "    AsyncOpenAI,\n",
        "    OpenAIChatCompletionsModel,\n",
        "    RunConfig\n",
        ")\n",
        "from typing import Dict, Any\n",
        "from typing_extensions import TypedDict, Literal, Annotated\n"
      ]
    },
    {
      "cell_type": "code",
      "source": [
        "#Reference: https://ai.google.dev/gemini-api/docs/openai\n",
        "external_client = AsyncOpenAI(\n",
        "    api_key=os.environ[\"GOOGLE_API_KEY\"],\n",
        "    base_url=\"https://generativelanguage.googleapis.com/v1beta/openai/\",\n",
        ")\n",
        "\n",
        "model = OpenAIChatCompletionsModel(\n",
        "    model=\"gemini-2.0-flash\",\n",
        "    openai_client=external_client\n",
        ")\n",
        "\n",
        "config = RunConfig(\n",
        "    model=model,\n",
        "    model_provider=external_client,\n",
        "    tracing_disabled=True\n",
        ")\n"
      ],
      "metadata": {
        "id": "ci9rBxqfnyNm"
      },
      "execution_count": 9,
      "outputs": []
    },
    {
      "cell_type": "markdown",
      "source": [
        "## **Setup a Profile, Prompt Instructions and Example Email**"
      ],
      "metadata": {
        "id": "QhIqMcxWa6GD"
      }
    },
    {
      "cell_type": "code",
      "source": [
        "profile = {\n",
        "    \"name\": \"Junaid\",\n",
        "    \"full_name\": \"Muhammad Junaid Shaukat\",\n",
        "    \"user_profile_background\": \"AI Products Manager Building My AI Agents Workforce.\",\n",
        "}"
      ],
      "metadata": {
        "id": "bNf0OmfHSwkp"
      },
      "execution_count": 10,
      "outputs": []
    },
    {
      "cell_type": "code",
      "source": [
        "prompt_instructions = {\n",
        "    \"triage_rules\": {\n",
        "        \"ignore\": \"Marketing newsletters, spam emails, mass company announcements\",\n",
        "        \"notify\": \"Team member out sick, build system notifications, project status updates\",\n",
        "        \"respond\": \"Direct questions from team members, meeting requests, critical bug reports\",\n",
        "    },\n",
        "    \"agent_instructions\": \"Use these tools when appropriate to help manage Junaid's tasks efficiently.\"\n",
        "}"
      ],
      "metadata": {
        "id": "Z385ETRSTt4P"
      },
      "execution_count": 11,
      "outputs": []
    },
    {
      "cell_type": "code",
      "source": [
        "# Example incoming email\n",
        "email = {\n",
        "    \"from\": \"Alice Smith <alice.smith@company.com>\",\n",
        "    \"to\": \"Muhammad Junaid Shaukat<mr.junaidshaukat@gmail.com>\",\n",
        "    \"subject\": \"Quick question about API documentation\",\n",
        "    \"body\": \"\"\"\n",
        "Hi Junaid,\n",
        "\n",
        "I was reviewing the API documentation for the new authentication service and noticed a few endpoints seem to be missing from the specs. Could you help clarify if this was intentional or if we should update the docs?\n",
        "\n",
        "Specifically, I'm looking at:\n",
        "- /auth/refresh\n",
        "- /auth/validate\n",
        "\n",
        "Thanks!\n",
        "Alice\"\"\",\n",
        "}"
      ],
      "metadata": {
        "id": "_3s1leDMa1-M"
      },
      "execution_count": 12,
      "outputs": []
    },
    {
      "cell_type": "code",
      "source": [
        "class Email(BaseModel):\n",
        "    from_: str = Field(alias=\"from\")\n",
        "    to: str\n",
        "    subject: str\n",
        "    body: str\n",
        "\n",
        "email_model = Email(**email)\n",
        "print(email_model.model_dump_json(by_alias=True))"
      ],
      "metadata": {
        "colab": {
          "base_uri": "https://localhost:8080/"
        },
        "id": "0_XgexJ0QROb",
        "outputId": "0b3c016b-ea5c-4fb7-fc50-63482792395e"
      },
      "execution_count": 13,
      "outputs": [
        {
          "output_type": "stream",
          "name": "stdout",
          "text": [
            "{\"from\":\"Alice Smith <alice.smith@company.com>\",\"to\":\"Muhammad Junaid Shaukat<mr.junaidshaukat@gmail.com>\",\"subject\":\"Quick question about API documentation\",\"body\":\"\\nHi Junaid,\\n\\nI was reviewing the API documentation for the new authentication service and noticed a few endpoints seem to be missing from the specs. Could you help clarify if this was intentional or if we should update the docs?\\n\\nSpecifically, I'm looking at:\\n- /auth/refresh\\n- /auth/validate\\n\\nThanks!\\nAlice\"}\n"
          ]
        }
      ]
    },
    {
      "cell_type": "code",
      "source": [
        "class Router(BaseModel):\n",
        "    \"\"\"Analyze the unread email and route it according to its content.\"\"\"\n",
        "\n",
        "    reasoning: str = Field(\n",
        "        description=\"Step-by-step reasoning behind the classification.\"\n",
        "    )\n",
        "    classification: Literal[\"ignore\", \"respond\", \"notify\"] = Field(\n",
        "        description=\"The classification of an email: 'ignore' for irrelevant emails, \"\n",
        "        \"'notify' for important information that doesn't need a response, \"\n",
        "        \"'respond' for emails that need a reply\",\n",
        "    )"
      ],
      "metadata": {
        "id": "ZCmLINFscUji"
      },
      "execution_count": 14,
      "outputs": []
    },
    {
      "cell_type": "markdown",
      "source": [
        "## **Prompt Templates**"
      ],
      "metadata": {
        "id": "cJxC0wFqdCD1"
      }
    },
    {
      "cell_type": "code",
      "source": [
        "# Triage system prompt template\n",
        "triage_system_prompt_template = \"\"\"\n",
        "< Role >\n",
        "You are {full_name}'s executive assistant. You are a top-notch executive assistant who cares about {name} performing as well as possible.\n",
        "</ Role >\n",
        "\n",
        "< Background >\n",
        "{user_profile_background}.\n",
        "</ Background >\n",
        "\n",
        "< Instructions >\n",
        "\n",
        "{name} gets lots of emails. Your job is to categorize each email into one of three categories:\n",
        "\n",
        "1. IGNORE - Emails that are not worth responding to or tracking\n",
        "2. NOTIFY - Important information that {name} should know about but doesn't require a response\n",
        "3. RESPOND - Emails that need a direct response from {name}\n",
        "\n",
        "Classify the below email into one of these categories.\n",
        "\n",
        "</ Instructions >\n",
        "\n",
        "< Rules >\n",
        "Emails that are not worth responding to:\n",
        "{triage_no}\n",
        "\n",
        "There are also other things that {name} should know about, but don't require an email response. For these, you should notify {name} (using the `notify` response). Examples of this include:\n",
        "{triage_notify}\n",
        "\n",
        "Emails that are worth responding to:\n",
        "{triage_email}\n",
        "</ Rules >\n",
        "\n",
        "< Few shot examples >\n",
        "{examples}\n",
        "</ Few shot examples >\n",
        "\"\"\"\n",
        "\n",
        "\n",
        "\n",
        "\n",
        "\n",
        "# Triage User Prompt Template\n",
        "triage_user_prompt_template = \"\"\"\n",
        "Please determine how to handle the below email thread:\n",
        "\n",
        "From: {author}\n",
        "To: {to}\n",
        "Subject: {subject}\n",
        "{email_thread}\"\"\"\n",
        "\n",
        "\n",
        "\n"
      ],
      "metadata": {
        "id": "3l4qiC5xdA4C"
      },
      "execution_count": 15,
      "outputs": []
    },
    {
      "cell_type": "markdown",
      "source": [
        "## **A function to create a prompt using f-string**"
      ],
      "metadata": {
        "id": "bKvnDeJmgdIh"
      }
    },
    {
      "cell_type": "code",
      "source": [
        "def create_prompt(template: str, variables: Dict[str, any]) -> str:\n",
        "    \"\"\"Creates a prompt using an f-string and a dictionary of variables.\"\"\"\n",
        "    try:\n",
        "        return template.format(**variables)\n",
        "    except KeyError as e:\n",
        "        return f\"Error: Missing variable '{e.args[0]}' in the provided dictionary.\""
      ],
      "metadata": {
        "id": "_FzwooWFgeAc"
      },
      "execution_count": 16,
      "outputs": []
    },
    {
      "cell_type": "code",
      "source": [
        "system_prompt = create_prompt(triage_system_prompt_template, {\n",
        "    \"full_name\": profile[\"full_name\"],\n",
        "    \"name\":profile[\"name\"],\n",
        "    \"examples\": None,\n",
        "    \"user_profile_background\": profile[\"user_profile_background\"],\n",
        "    \"triage_no\" : prompt_instructions[\"triage_rules\"][\"ignore\"],\n",
        "    \"triage_notify\": prompt_instructions[\"triage_rules\"][\"notify\"],\n",
        "    \"triage_email\" : prompt_instructions[\"triage_rules\"][\"respond\"],\n",
        "  }\n",
        ")"
      ],
      "metadata": {
        "id": "3zVxNw8ud9ET"
      },
      "execution_count": 17,
      "outputs": []
    },
    {
      "cell_type": "code",
      "source": [
        "user_prompt = create_prompt(triage_user_prompt_template, {\n",
        "    \"author\": email[\"from\"],\n",
        "    \"to\": email[\"to\"],\n",
        "    \"subject\": email[\"subject\"],\n",
        "    \"email_thread\" : email[\"body\"],\n",
        "  }\n",
        ")"
      ],
      "metadata": {
        "id": "8hsbNDWCs77g"
      },
      "execution_count": 18,
      "outputs": []
    },
    {
      "cell_type": "markdown",
      "source": [
        "## **Triage Agent**"
      ],
      "metadata": {
        "id": "Rcwy4qC13QXQ"
      }
    },
    {
      "cell_type": "code",
      "source": [
        "triage_agent = Agent(\n",
        "    name=\"Triage Agent\",\n",
        "    instructions=system_prompt,\n",
        "    output_type=Router\n",
        ")"
      ],
      "metadata": {
        "id": "TE2j1WJ-YjNK"
      },
      "execution_count": 19,
      "outputs": []
    },
    {
      "cell_type": "code",
      "source": [
        "triage_result = await Runner.run(triage_agent, user_prompt, run_config = config)\n",
        "print(triage_result.final_output.classification)\n",
        "print(triage_result.final_output.reasoning)\n"
      ],
      "metadata": {
        "colab": {
          "base_uri": "https://localhost:8080/"
        },
        "id": "xg5g0KaBYuVl",
        "outputId": "858e1acb-7bcd-4890-d53c-bd3262b11120"
      },
      "execution_count": 20,
      "outputs": [
        {
          "output_type": "stream",
          "name": "stdout",
          "text": [
            "respond\n",
            "Alice is asking a direct question about the API documentation. This requires a response from Junaid to clarify the missing endpoints.\n"
          ]
        }
      ]
    },
    {
      "cell_type": "markdown",
      "source": [
        "## **Response Agent, Define Tools**"
      ],
      "metadata": {
        "id": "lbw8_HSN3Wif"
      }
    },
    {
      "cell_type": "code",
      "source": [
        "from agents import function_tool"
      ],
      "metadata": {
        "id": "Ff3qUo8R4fQY"
      },
      "execution_count": 21,
      "outputs": []
    },
    {
      "cell_type": "code",
      "source": [
        "@function_tool\n",
        "def write_email(to: str, subject: str, content: str) -> str:\n",
        "    \"\"\"Write and send an email.\"\"\"\n",
        "    # Placeholder response - in real app would send email\n",
        "    return f\"Email sent to {to} with subject '{subject}'\""
      ],
      "metadata": {
        "id": "m1-MmkQq3aCE"
      },
      "execution_count": 22,
      "outputs": []
    },
    {
      "cell_type": "code",
      "source": [
        "@function_tool\n",
        "def schedule_meeting(\n",
        "    attendees: list[str],\n",
        "    subject: str,\n",
        "    duration_minutes: int,\n",
        "    preferred_day: str\n",
        ") -> str:\n",
        "    \"\"\"Schedule a calendar meeting.\"\"\"\n",
        "    # Placeholder response - in real app would check calendar and schedule\n",
        "    return f\"Meeting '{subject}' scheduled for {preferred_day} with {len(attendees)} attendees\"\n",
        "\n"
      ],
      "metadata": {
        "id": "l7DIOHhj4wqE"
      },
      "execution_count": 23,
      "outputs": []
    },
    {
      "cell_type": "code",
      "source": [
        "@function_tool\n",
        "def check_calendar_availability(day: str) -> str:\n",
        "    \"\"\"Check calendar availability for a given day.\"\"\"\n",
        "    # Placeholder response - in real app would check actual calendar\n",
        "    return f\"Available times on {day}: 9:00 AM, 2:00 PM, 4:00 PM\""
      ],
      "metadata": {
        "id": "FYY2YRm341Dh"
      },
      "execution_count": 24,
      "outputs": []
    },
    {
      "cell_type": "markdown",
      "source": [
        "### **LangMem Memory Management Tools**"
      ],
      "metadata": {
        "id": "bBiBZ1vFy6hP"
      }
    },
    {
      "cell_type": "code",
      "source": [
        "import asyncio\n",
        "from langchain_google_genai import GoogleGenerativeAIEmbeddings\n",
        "from langgraph.store.memory import InMemoryStore\n",
        "from contextlib import asynccontextmanager\n",
        "\n",
        "store = InMemoryStore(\n",
        "      index={\n",
        "          \"dims\": 768,\n",
        "          \"embed\": GoogleGenerativeAIEmbeddings(model=\"models/text-embedding-004\")\n",
        "      }\n",
        "    )\n",
        "@asynccontextmanager\n",
        "async def get_store():\n",
        "  yield store\n"
      ],
      "metadata": {
        "id": "ZYn9b55Yy7E_"
      },
      "execution_count": 25,
      "outputs": []
    },
    {
      "cell_type": "code",
      "source": [
        "class UserInfo(BaseModel):\n",
        "  username: str\n",
        "\n",
        "namespace_template=(\"email_assistant\", \"{username}\", \"collection\")"
      ],
      "metadata": {
        "id": "7buV0MoM7H5Y"
      },
      "execution_count": 26,
      "outputs": []
    },
    {
      "cell_type": "code",
      "source": [
        "from langmem import create_manage_memory_tool, create_search_memory_tool\n",
        "from langmem_adapter import LangMemOpenAIAgentToolAdapter  # import from your package\n",
        "\n",
        "# Initialize the manage memory tool dynamically:\n",
        "manage_adapter = LangMemOpenAIAgentToolAdapter(\n",
        "    lambda store, namespace=None: create_manage_memory_tool(namespace=namespace, store=store),\n",
        "    store_provider=get_store,\n",
        "    namespace_template=namespace_template\n",
        ")\n",
        "manage_memory_tool = manage_adapter.as_tool()\n",
        "\n",
        "# Initialize the search memory tool dynamically:\n",
        "search_adapter = LangMemOpenAIAgentToolAdapter(\n",
        "    lambda store, namespace=None: create_search_memory_tool(namespace=namespace, store=store),\n",
        "    store_provider=get_store,\n",
        "    namespace_template=namespace_template\n",
        ")\n",
        "search_memory_tool = search_adapter.as_tool()\n"
      ],
      "metadata": {
        "id": "Gq004jE_7IqC"
      },
      "execution_count": 27,
      "outputs": []
    },
    {
      "cell_type": "markdown",
      "source": [
        "## **Response Agent, Define Prompt**"
      ],
      "metadata": {
        "id": "UXrrpjMD52VW"
      }
    },
    {
      "cell_type": "code",
      "source": [
        "response_prompt_template = \"\"\"\n",
        "< Role >\n",
        "You are {full_name}'s executive assistant. You are a top-notch executive assistant who cares about {name} performing as well as possible.\n",
        "</ Role >\n",
        "\n",
        "< Tools >\n",
        "You have access to the following tools to help manage {name}'s communications and schedule:\n",
        "\n",
        "1. write_email(to, subject, content) - Send emails to specified recipients\n",
        "2. schedule_meeting(attendees, subject, duration_minutes, preferred_day) - Schedule calendar meetings\n",
        "3. check_calendar_availability(day) - Check available time slots for a given day\n",
        "</ Tools >\n",
        "\n",
        "< Instructions >\n",
        "{instructions}\n",
        "</ Instructions >\n",
        "\"\"\""
      ],
      "metadata": {
        "id": "HRtFZ0-O5_au"
      },
      "execution_count": 28,
      "outputs": []
    },
    {
      "cell_type": "code",
      "source": [
        "response_system_prompt = create_prompt(response_prompt_template, {\n",
        "    \"full_name\": profile[\"full_name\"],\n",
        "    \"name\":profile[\"name\"],\n",
        "    \"instructions\": prompt_instructions[\"agent_instructions\"] + \"Always save my email interactions in memory store for later discussions.\",\n",
        "  }\n",
        ")\n",
        "print(response_system_prompt)"
      ],
      "metadata": {
        "colab": {
          "base_uri": "https://localhost:8080/"
        },
        "id": "bLDpM1ocffIW",
        "outputId": "8d48b616-d741-44b6-b214-d7192bdd6d5e"
      },
      "execution_count": 29,
      "outputs": [
        {
          "output_type": "stream",
          "name": "stdout",
          "text": [
            "\n",
            "< Role >\n",
            "You are Muhammad Junaid Shaukat's executive assistant. You are a top-notch executive assistant who cares about Junaid performing as well as possible.\n",
            "</ Role >\n",
            "\n",
            "< Tools >\n",
            "You have access to the following tools to help manage Junaid's communications and schedule:\n",
            "\n",
            "1. write_email(to, subject, content) - Send emails to specified recipients\n",
            "2. schedule_meeting(attendees, subject, duration_minutes, preferred_day) - Schedule calendar meetings\n",
            "3. check_calendar_availability(day) - Check available time slots for a given day\n",
            "</ Tools >\n",
            "\n",
            "< Instructions >\n",
            "Use these tools when appropriate to help manage Junaid's tasks efficiently.Always save my email interactions in memory store for later discussions.\n",
            "</ Instructions >\n",
            "\n"
          ]
        }
      ]
    },
    {
      "cell_type": "code",
      "source": [
        "tools=[write_email, schedule_meeting, check_calendar_availability, manage_memory_tool, search_memory_tool]"
      ],
      "metadata": {
        "id": "19R5pQeu0Pg_"
      },
      "execution_count": 30,
      "outputs": []
    },
    {
      "cell_type": "code",
      "source": [
        "response_agent = Agent[UserInfo](\n",
        "    name=\"Response agent\",\n",
        "    instructions=response_system_prompt,\n",
        "    tools=tools\n",
        "    )\n"
      ],
      "metadata": {
        "id": "k3x5ewYmwjuJ"
      },
      "execution_count": 31,
      "outputs": []
    },
    {
      "cell_type": "code",
      "source": [
        "response_result = await Runner.run(response_agent,\n",
        "                                   \"Jim is my friend\",\n",
        "                                   run_config = config,\n",
        "                                   context=UserInfo(username=profile[\"name\"])\n",
        "                                   )\n",
        "print(response_result.final_output)\n"
      ],
      "metadata": {
        "colab": {
          "base_uri": "https://localhost:8080/"
        },
        "id": "Q1AdqDdQyIsY",
        "outputId": "b5fa7ffc-c1bc-41dc-8b5f-1f26e50cab08"
      },
      "execution_count": 32,
      "outputs": [
        {
          "output_type": "stream",
          "name": "stdout",
          "text": [
            "Okay, I've saved that Jim is your friend. I'll keep that in mind. Anything else I can help you with, Junaid?\n",
            "\n"
          ]
        }
      ]
    },
    {
      "cell_type": "code",
      "source": [
        "response_result = await Runner.run(response_agent,\n",
        "                                   \"Do I know Jim?\",\n",
        "                                   run_config = config,\n",
        "                                   context=UserInfo(username=profile[\"name\"])\n",
        "                                   )\n",
        "print(response_result.final_output)\n"
      ],
      "metadata": {
        "colab": {
          "base_uri": "https://localhost:8080/"
        },
        "id": "Zs0UZaUC1Xp_",
        "outputId": "5f34a084-6f9e-4645-bf55-8101e032abee"
      },
      "execution_count": 33,
      "outputs": [
        {
          "output_type": "stream",
          "name": "stdout",
          "text": [
            "Yes, you know Jim. He is your friend.\n",
            "\n"
          ]
        }
      ]
    },
    {
      "cell_type": "code",
      "source": [
        "async with get_store() as store:\n",
        "  namespace=(\"email_assistant\", profile[\"name\"], \"collection\")\n",
        "  res = await store.asearch(namespace)\n",
        "  print(res)"
      ],
      "metadata": {
        "colab": {
          "base_uri": "https://localhost:8080/"
        },
        "id": "fPBLF_-V9O1I",
        "outputId": "759cc77b-6f2e-4900-ac91-8cb72a43e0f4"
      },
      "execution_count": 34,
      "outputs": [
        {
          "output_type": "stream",
          "name": "stdout",
          "text": [
            "[Item(namespace=['email_assistant', 'Junaid', 'collection'], key='596888b6-8151-4b70-a3aa-fcebd3907468', value={'content': 'Jim is my friend'}, created_at='2025-03-31T12:41:06.970357+00:00', updated_at='2025-03-31T12:41:06.970364+00:00', score=None)]\n"
          ]
        }
      ]
    },
    {
      "cell_type": "markdown",
      "source": [
        "## **Create the Overall Flow in Python**"
      ],
      "metadata": {
        "id": "vseM3JXy2AI0"
      }
    },
    {
      "cell_type": "code",
      "source": [
        "async def triage_router(email: Email, username: str):\n",
        "\n",
        "  user_prompt = create_prompt(triage_user_prompt_template, {\n",
        "    \"author\": email.from_,\n",
        "    \"to\": email.to,\n",
        "    \"subject\": email.subject,\n",
        "    \"email_thread\" : email.body,\n",
        "  })\n",
        "\n",
        "  # print(user_prompt)\n",
        "\n",
        "  triage_result = await Runner.run(\n",
        "      triage_agent,\n",
        "      user_prompt,\n",
        "      run_config = config,\n",
        "      context=UserInfo(username=username)\n",
        "      )\n",
        "  print(triage_result.final_output)\n",
        "  print(\"Triage History: \", triage_result.to_input_list())\n",
        "\n",
        "  if triage_result.final_output.classification == \"respond\":\n",
        "        print(\"📧 Classification: RESPOND - This email requires a response\")\n",
        "        response_result = await Runner.run(\n",
        "            response_agent,\n",
        "            f\"Respond to the email {email.model_dump_json(by_alias=True)}\",\n",
        "            run_config = config,\n",
        "            context=UserInfo(username=username)\n",
        "            )\n",
        "        print(response_result.final_output)\n",
        "        print(\"Response History\", response_result.to_input_list())\n",
        "  elif triage_result.final_output.classification == \"ignore\":\n",
        "      print(\"🚫 Classification: IGNORE - This email can be safely ignored\")\n",
        "  elif triage_result.final_output.classification == \"notify\":\n",
        "      # If real life, this would do something else\n",
        "      print(\"🔔 Classification: NOTIFY - This email contains important information\")\n",
        "  else:\n",
        "      raise ValueError(f\"Invalid classification: {triage_result.final_output.classification}\")\n"
      ],
      "metadata": {
        "id": "BraP4MP42fRN"
      },
      "execution_count": 35,
      "outputs": []
    },
    {
      "cell_type": "markdown",
      "source": [
        "## **Now Test the Triage and Response Agents Working Together**"
      ],
      "metadata": {
        "id": "JL3oo4CramJl"
      }
    },
    {
      "cell_type": "code",
      "source": [
        "email_input = {\n",
        "    \"from\": \"Marketing Team <marketing@amazingdeals.com>\",\n",
        "    \"to\": \"Muhammad Junaid Shaukat<mr.junaidshaukat@gmail.com>\",\n",
        "    \"subject\": \"🔥 EXCLUSIVE OFFER: Limited Time Discount on Developer Tools! 🔥\",\n",
        "    \"body\": \"\"\"Dear Valued Developer,\n",
        "\n",
        "Don't miss out on this INCREDIBLE opportunity!\n",
        "\n",
        "🚀 For a LIMITED TIME ONLY, get 80% OFF on our Premium Developer Suite!\n",
        "\n",
        "✨ FEATURES:\n",
        "- Revolutionary AI-powered code completion\n",
        "- Cloud-based development environment\n",
        "- 24/7 customer support\n",
        "- And much more!\n",
        "\n",
        "💰 Regular Price: $999/month\n",
        "🎉 YOUR SPECIAL PRICE: Just $199/month!\n",
        "\n",
        "🕒 Hurry! This offer expires in:\n",
        "24 HOURS ONLY!\n",
        "\n",
        "Click here to claim your discount: https://amazingdeals.com/special-offer\n",
        "\n",
        "Best regards,\n",
        "Marketing Team\n",
        "---\n",
        "To unsubscribe, click here\n",
        "\"\"\",\n",
        "}\n",
        "\n",
        "typed_email = Email(**email_input)\n",
        "print(typed_email.model_dump_json(by_alias=True))"
      ],
      "metadata": {
        "colab": {
          "base_uri": "https://localhost:8080/"
        },
        "id": "8tEo7AZObI-f",
        "outputId": "938288b8-6452-4e82-a084-1102860002d5"
      },
      "execution_count": 36,
      "outputs": [
        {
          "output_type": "stream",
          "name": "stdout",
          "text": [
            "{\"from\":\"Marketing Team <marketing@amazingdeals.com>\",\"to\":\"Muhammad Junaid Shaukat<mr.junaidshaukat@gmail.com>\",\"subject\":\"🔥 EXCLUSIVE OFFER: Limited Time Discount on Developer Tools! 🔥\",\"body\":\"Dear Valued Developer,\\n\\nDon't miss out on this INCREDIBLE opportunity!\\n\\n🚀 For a LIMITED TIME ONLY, get 80% OFF on our Premium Developer Suite!\\n\\n✨ FEATURES:\\n- Revolutionary AI-powered code completion\\n- Cloud-based development environment\\n- 24/7 customer support\\n- And much more!\\n\\n💰 Regular Price: $999/month\\n🎉 YOUR SPECIAL PRICE: Just $199/month!\\n\\n🕒 Hurry! This offer expires in:\\n24 HOURS ONLY!\\n\\nClick here to claim your discount: https://amazingdeals.com/special-offer\\n\\nBest regards,\\nMarketing Team\\n---\\nTo unsubscribe, click here\\n\"}\n"
          ]
        }
      ]
    },
    {
      "cell_type": "code",
      "source": [
        "await triage_router(typed_email, \"Junaid\")"
      ],
      "metadata": {
        "colab": {
          "base_uri": "https://localhost:8080/"
        },
        "id": "bXGGBhuObZoa",
        "outputId": "8815d61a-219f-440e-c0bc-283045c4b7a0"
      },
      "execution_count": 37,
      "outputs": [
        {
          "output_type": "stream",
          "name": "stdout",
          "text": [
            "reasoning='This is a marketing email with a promotional offer, which falls under the category of emails that do not require a response.' classification='ignore'\n",
            "Triage History:  [{'content': \"\\nPlease determine how to handle the below email thread:\\n\\nFrom: Marketing Team <marketing@amazingdeals.com>\\nTo: Muhammad Junaid Shaukat<mr.junaidshaukat@gmail.com>\\nSubject: 🔥 EXCLUSIVE OFFER: Limited Time Discount on Developer Tools! 🔥\\nDear Valued Developer,\\n\\nDon't miss out on this INCREDIBLE opportunity!\\n\\n🚀 For a LIMITED TIME ONLY, get 80% OFF on our Premium Developer Suite!\\n\\n✨ FEATURES:\\n- Revolutionary AI-powered code completion\\n- Cloud-based development environment\\n- 24/7 customer support\\n- And much more!\\n\\n💰 Regular Price: $999/month\\n🎉 YOUR SPECIAL PRICE: Just $199/month!\\n\\n🕒 Hurry! This offer expires in:\\n24 HOURS ONLY!\\n\\nClick here to claim your discount: https://amazingdeals.com/special-offer\\n\\nBest regards,\\nMarketing Team\\n---\\nTo unsubscribe, click here\\n\", 'role': 'user'}, {'id': '__fake_id__', 'content': [{'annotations': [], 'text': '{\\n  \"classification\": \"ignore\",\\n  \"reasoning\": \"This is a marketing email with a promotional offer, which falls under the category of emails that do not require a response.\"\\n}', 'type': 'output_text'}], 'role': 'assistant', 'status': 'completed', 'type': 'message'}]\n",
            "🚫 Classification: IGNORE - This email can be safely ignored\n"
          ]
        }
      ]
    },
    {
      "cell_type": "code",
      "source": [
        "email_input2 = {\n",
        "    \"from\": \"Alice Smith <alice.smith@company.com>\",\n",
        "    \"to\": \"Muhammad Junaid Shaukat<mr.junaidshaukat@gmail.com>\",\n",
        "    \"subject\": \"Quick question about API documentation\",\n",
        "    \"body\": \"\"\"Hi Junaid,\n",
        "\n",
        "I was reviewing the API documentation for the new authentication service and noticed a few endpoints seem to be missing from the specs. Could you help clarify if this was intentional or if we should update the docs?\n",
        "\n",
        "Specifically, I'm looking at:\n",
        "- /auth/refresh\n",
        "- /auth/validate\n",
        "\n",
        "Thanks!\n",
        "Alice\"\"\",\n",
        "}\n",
        "\n",
        "typed_email2 = Email(**email_input2)"
      ],
      "metadata": {
        "id": "a95NASryiprh"
      },
      "execution_count": 38,
      "outputs": []
    },
    {
      "cell_type": "code",
      "source": [
        "await triage_router(typed_email2, \"Junaid\")"
      ],
      "metadata": {
        "colab": {
          "base_uri": "https://localhost:8080/"
        },
        "id": "EKdOl9kCjqOD",
        "outputId": "efc3ee2a-eba2-4ba0-a223-743b1792e27d"
      },
      "execution_count": 39,
      "outputs": [
        {
          "output_type": "stream",
          "name": "stdout",
          "text": [
            "reasoning='Alice is asking a direct question about the API documentation which is a critical part of the new authentication service. It requires a response to clarify the missing endpoints.' classification='respond'\n",
            "Triage History:  [{'content': \"\\nPlease determine how to handle the below email thread:\\n\\nFrom: Alice Smith <alice.smith@company.com>\\nTo: Muhammad Junaid Shaukat<mr.junaidshaukat@gmail.com>\\nSubject: Quick question about API documentation\\nHi Junaid,\\n\\nI was reviewing the API documentation for the new authentication service and noticed a few endpoints seem to be missing from the specs. Could you help clarify if this was intentional or if we should update the docs?\\n\\nSpecifically, I'm looking at:\\n- /auth/refresh\\n- /auth/validate\\n\\nThanks!\\nAlice\", 'role': 'user'}, {'id': '__fake_id__', 'content': [{'annotations': [], 'text': '{\\n  \"reasoning\": \"Alice is asking a direct question about the API documentation which is a critical part of the new authentication service. It requires a response to clarify the missing endpoints.\",\\n  \"classification\": \"respond\"\\n}', 'type': 'output_text'}], 'role': 'assistant', 'status': 'completed', 'type': 'message'}]\n",
            "📧 Classification: RESPOND - This email requires a response\n",
            "Okay, I've responded to Alice and saved the email interaction in my memory. Is there anything else I can help you with, Junaid?\n",
            "\n",
            "Response History [{'content': 'Respond to the email {\"from\":\"Alice Smith <alice.smith@company.com>\",\"to\":\"Muhammad Junaid Shaukat<mr.junaidshaukat@gmail.com>\",\"subject\":\"Quick question about API documentation\",\"body\":\"Hi Junaid,\\\\n\\\\nI was reviewing the API documentation for the new authentication service and noticed a few endpoints seem to be missing from the specs. Could you help clarify if this was intentional or if we should update the docs?\\\\n\\\\nSpecifically, I\\'m looking at:\\\\n- /auth/refresh\\\\n- /auth/validate\\\\n\\\\nThanks!\\\\nAlice\"}', 'role': 'user'}, {'id': '__fake_id__', 'content': [{'annotations': [], 'text': \"Okay, I'll respond to Alice's email and save it to memory.\\n\\n\", 'type': 'output_text'}], 'role': 'assistant', 'status': 'completed', 'type': 'message'}, {'arguments': '{\"to\":\"alice.smith@company.com\",\"subject\":\"Re: Quick question about API documentation\",\"content\":\"Hi Alice,\\\\n\\\\nThanks for pointing that out. I\\'ll check with the development team regarding the /auth/refresh and /auth/validate endpoints and whether they should be included in the API documentation.\\\\n\\\\nI\\'ll get back to you as soon as I have an update.\\\\n\\\\nBest,\\\\nJunaid\"}', 'call_id': '', 'name': 'write_email', 'type': 'function_call', 'id': '__fake_id__'}, {'arguments': '{\"action\":\"create\",\"content\":\"Email from Alice Smith about missing endpoints in API documentation. Replied to Alice saying I will check with the development team.\"}', 'call_id': '', 'name': 'manage_memory', 'type': 'function_call', 'id': '__fake_id__'}, {'call_id': '', 'output': \"Email sent to alice.smith@company.com with subject 'Re: Quick question about API documentation'\", 'type': 'function_call_output'}, {'call_id': '', 'output': 'created memory cd38478f-1d70-42ea-b309-08cb9bcce98b', 'type': 'function_call_output'}, {'id': '__fake_id__', 'content': [{'annotations': [], 'text': \"Okay, I've responded to Alice and saved the email interaction in my memory. Is there anything else I can help you with, Junaid?\\n\", 'type': 'output_text'}], 'role': 'assistant', 'status': 'completed', 'type': 'message'}]\n"
          ]
        }
      ]
    },
    {
      "cell_type": "code",
      "source": [
        "async with get_store() as store:\n",
        "  namespace=(\"email_assistant\", \"Junaid\", \"collection\")\n",
        "  res = await store.asearch(namespace)\n",
        "  for i, mem in enumerate(res):\n",
        "    print(i,\": \", mem.value['content'])"
      ],
      "metadata": {
        "colab": {
          "base_uri": "https://localhost:8080/"
        },
        "id": "9lUFOTTn-arx",
        "outputId": "bca7fe14-6f65-4042-94bf-dcdd4ea49b45"
      },
      "execution_count": 53,
      "outputs": [
        {
          "output_type": "stream",
          "name": "stdout",
          "text": [
            "0 :  Jim is my friend\n",
            "1 :  Email from Alice Smith about missing endpoints in API documentation. Replied to Alice saying I will check with the development team.\n"
          ]
        }
      ]
    }
  ]
}