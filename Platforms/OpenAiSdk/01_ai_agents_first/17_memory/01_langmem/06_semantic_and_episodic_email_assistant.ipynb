{
  "nbformat": 4,
  "nbformat_minor": 0,
  "metadata": {
    "colab": {
      "provenance": []
    },
    "kernelspec": {
      "name": "python3",
      "display_name": "Python 3"
    },
    "language_info": {
      "name": "python"
    }
  },
  "cells": [
    {
      "cell_type": "markdown",
      "source": [
        "### Building on top of these concepts:\n",
        "\n",
        "If you haven't covered langmem and basic openai-agents-sdk go through these notebooks first:\n",
        "\n",
        "1. [Understand LangMem Core APIs](https://colab.research.google.com/drive/1YJNrnQRMgeNTigIuWOfykt-Z5L_DDmsa?usp=sharing)\n",
        "\n",
        "2. [Use LangMem Memory Tools with OpenAI Agents SDK](https://colab.research.google.com/drive/1xgSUeJPIBKyjpM868PsvmCZaCof-s2vB?usp=sharing)\n",
        "\n",
        "3. [Use Persistence Storage](https://colab.research.google.com/drive/1gA9r_FkbHFCWlgd52qz1oTW736gD0kmN?usp=sharing)\n",
        "\n",
        "4. [Baseline Email Assistant - Prep before Memory](https://colab.research.google.com/drive/1AgedinzRuoow3f2cvR0wRlATk8AgE0x0?usp=sharing)\n",
        "\n",
        "5. [OpenAI Agents SDK Email Assistant with Semantic](https://colab.research.google.com/drive/1L4T8eZIHzYD1OQtC8hubZMeFy-eRmxV2?usp=sharing)"
      ],
      "metadata": {
        "id": "GciAuz4rQ7aB"
      }
    },
    {
      "cell_type": "markdown",
      "source": [
        "# **Episodic Memory**\n",
        "\n",
        "While semantic memory builds knowledge (\"what\"), episodic memory captures expertise (\"how\")."
      ],
      "metadata": {
        "id": "elprDDjjA7_W"
      }
    },
    {
      "cell_type": "markdown",
      "source": [
        "### **When to Use Episodic Memory**?\n",
        "Episodic memory drives adaptive learning. While semantic memory builds a knowledge base of facts (\"Python is a programming language\"), episodic memory captures the expertise of how to apply that knowledge effectively (\"explaining Python using snake analogies confused users, but comparing it to recipe steps worked well\").\n",
        "\n",
        "This experience replay helps agents: - Adapt teaching style based on what worked - Learn from successful problem-solving approaches - Build a library of proven techniques - Understand not just what to do, but why it works\n",
        "\n"
      ],
      "metadata": {
        "id": "D-OY5HFRA-UU"
      }
    },
    {
      "cell_type": "markdown",
      "source": [
        "## Install Packages"
      ],
      "metadata": {
        "id": "59zWl6S6PhP5"
      }
    },
    {
      "cell_type": "code",
      "source": [
        "!pip install -Uq openai-agents langmem langchain-google-genai langmem_adapter"
      ],
      "metadata": {
        "colab": {
          "base_uri": "https://localhost:8080/"
        },
        "id": "-1eN2ahALIX2",
        "outputId": "d8ef3f6f-a119-4b2d-87fd-3584d94a1110"
      },
      "execution_count": 1,
      "outputs": [
        {
          "output_type": "stream",
          "name": "stdout",
          "text": [
            "\u001b[2K     \u001b[90m━━━━━━━━━━━━━━━━━━━━━━━━━━━━━━━━━━━━━━━━\u001b[0m \u001b[32m43.5/43.5 kB\u001b[0m \u001b[31m1.0 MB/s\u001b[0m eta \u001b[36m0:00:00\u001b[0m\n",
            "\u001b[2K   \u001b[90m━━━━━━━━━━━━━━━━━━━━━━━━━━━━━━━━━━━━━━━━\u001b[0m \u001b[32m106.5/106.5 kB\u001b[0m \u001b[31m1.3 MB/s\u001b[0m eta \u001b[36m0:00:00\u001b[0m\n",
            "\u001b[2K   \u001b[90m━━━━━━━━━━━━━━━━━━━━━━━━━━━━━━━━━━━━━━━━\u001b[0m \u001b[32m61.0/61.0 kB\u001b[0m \u001b[31m2.1 MB/s\u001b[0m eta \u001b[36m0:00:00\u001b[0m\n",
            "\u001b[2K   \u001b[90m━━━━━━━━━━━━━━━━━━━━━━━━━━━━━━━━━━━━━━━━\u001b[0m \u001b[32m42.0/42.0 kB\u001b[0m \u001b[31m1.8 MB/s\u001b[0m eta \u001b[36m0:00:00\u001b[0m\n",
            "\u001b[2K   \u001b[90m━━━━━━━━━━━━━━━━━━━━━━━━━━━━━━━━━━━━━━━━\u001b[0m \u001b[32m1.4/1.4 MB\u001b[0m \u001b[31m18.0 MB/s\u001b[0m eta \u001b[36m0:00:00\u001b[0m\n",
            "\u001b[2K   \u001b[90m━━━━━━━━━━━━━━━━━━━━━━━━━━━━━━━━━━━━━━━━\u001b[0m \u001b[32m129.1/129.1 kB\u001b[0m \u001b[31m4.1 MB/s\u001b[0m eta \u001b[36m0:00:00\u001b[0m\n",
            "\u001b[2K   \u001b[90m━━━━━━━━━━━━━━━━━━━━━━━━━━━━━━━━━━━━━━━━\u001b[0m \u001b[32m420.1/420.1 kB\u001b[0m \u001b[31m7.1 MB/s\u001b[0m eta \u001b[36m0:00:00\u001b[0m\n",
            "\u001b[2K   \u001b[90m━━━━━━━━━━━━━━━━━━━━━━━━━━━━━━━━━━━━━━━━\u001b[0m \u001b[32m60.1/60.1 kB\u001b[0m \u001b[31m2.5 MB/s\u001b[0m eta \u001b[36m0:00:00\u001b[0m\n",
            "\u001b[2K   \u001b[90m━━━━━━━━━━━━━━━━━━━━━━━━━━━━━━━━━━━━━━━━\u001b[0m \u001b[32m138.0/138.0 kB\u001b[0m \u001b[31m4.5 MB/s\u001b[0m eta \u001b[36m0:00:00\u001b[0m\n",
            "\u001b[2K   \u001b[90m━━━━━━━━━━━━━━━━━━━━━━━━━━━━━━━━━━━━━━━━\u001b[0m \u001b[32m41.9/41.9 kB\u001b[0m \u001b[31m1.7 MB/s\u001b[0m eta \u001b[36m0:00:00\u001b[0m\n",
            "\u001b[2K   \u001b[90m━━━━━━━━━━━━━━━━━━━━━━━━━━━━━━━━━━━━━━━━\u001b[0m \u001b[32m76.1/76.1 kB\u001b[0m \u001b[31m2.9 MB/s\u001b[0m eta \u001b[36m0:00:00\u001b[0m\n",
            "\u001b[2K   \u001b[90m━━━━━━━━━━━━━━━━━━━━━━━━━━━━━━━━━━━━━━━━\u001b[0m \u001b[32m243.4/243.4 kB\u001b[0m \u001b[31m6.9 MB/s\u001b[0m eta \u001b[36m0:00:00\u001b[0m\n",
            "\u001b[2K   \u001b[90m━━━━━━━━━━━━━━━━━━━━━━━━━━━━━━━━━━━━━━━━\u001b[0m \u001b[32m47.1/47.1 kB\u001b[0m \u001b[31m1.1 MB/s\u001b[0m eta \u001b[36m0:00:00\u001b[0m\n",
            "\u001b[2K   \u001b[90m━━━━━━━━━━━━━━━━━━━━━━━━━━━━━━━━━━━━━━━━\u001b[0m \u001b[32m223.6/223.6 kB\u001b[0m \u001b[31m5.0 MB/s\u001b[0m eta \u001b[36m0:00:00\u001b[0m\n",
            "\u001b[2K   \u001b[90m━━━━━━━━━━━━━━━━━━━━━━━━━━━━━━━━━━━━━━━━\u001b[0m \u001b[32m72.0/72.0 kB\u001b[0m \u001b[31m4.9 MB/s\u001b[0m eta \u001b[36m0:00:00\u001b[0m\n",
            "\u001b[2K   \u001b[90m━━━━━━━━━━━━━━━━━━━━━━━━━━━━━━━━━━━━━━━━\u001b[0m \u001b[32m1.2/1.2 MB\u001b[0m \u001b[31m38.2 MB/s\u001b[0m eta \u001b[36m0:00:00\u001b[0m\n",
            "\u001b[2K   \u001b[90m━━━━━━━━━━━━━━━━━━━━━━━━━━━━━━━━━━━━━━━━\u001b[0m \u001b[32m62.3/62.3 kB\u001b[0m \u001b[31m3.8 MB/s\u001b[0m eta \u001b[36m0:00:00\u001b[0m\n",
            "\u001b[2K   \u001b[90m━━━━━━━━━━━━━━━━━━━━━━━━━━━━━━━━━━━━━━━━\u001b[0m \u001b[32m194.8/194.8 kB\u001b[0m \u001b[31m11.2 MB/s\u001b[0m eta \u001b[36m0:00:00\u001b[0m\n",
            "\u001b[?25h\u001b[31mERROR: pip's dependency resolver does not currently take into account all the packages that are installed. This behaviour is the source of the following dependency conflicts.\n",
            "google-generativeai 0.8.4 requires google-ai-generativelanguage==0.6.15, but you have google-ai-generativelanguage 0.6.17 which is incompatible.\u001b[0m\u001b[31m\n",
            "\u001b[0m"
          ]
        }
      ]
    },
    {
      "cell_type": "code",
      "source": [
        "import nest_asyncio\n",
        "nest_asyncio.apply()"
      ],
      "metadata": {
        "id": "yCPm_LuiLJ32"
      },
      "execution_count": 2,
      "outputs": []
    },
    {
      "cell_type": "code",
      "source": [
        "from google.colab import userdata\n",
        "import os\n",
        "\n",
        "os.environ[\"GOOGLE_API_KEY\"] = userdata.get(\"GEMINI_API_KEY\")"
      ],
      "metadata": {
        "id": "UrU9pO3nLMIP"
      },
      "execution_count": 3,
      "outputs": []
    },
    {
      "cell_type": "markdown",
      "source": [
        "# 1. **Episodic Memories Extraction**"
      ],
      "metadata": {
        "id": "cI7lVhePK6A3"
      }
    },
    {
      "cell_type": "code",
      "source": [
        "from langmem import create_memory_manager\n",
        "from pydantic import BaseModel, Field\n",
        "\n",
        "\n",
        "class Episode(BaseModel):\n",
        "    \"\"\"Write the episode from the perspective of the agent within it. Use the benefit of hindsight to record the memory, saving the agent's key internal thought process so it can learn over time.\"\"\"\n",
        "\n",
        "    observation: str = Field(..., description=\"The context and setup - what happened\")\n",
        "    thoughts: str = Field(\n",
        "        ...,\n",
        "        description=\"Internal reasoning process and observations of the agent in the episode that let it arrive\"\n",
        "        ' at the correct action and result. \"I ...\"',\n",
        "    )\n",
        "    action: str = Field(\n",
        "        ...,\n",
        "        description=\"What was done, how, and in what format. (Include whatever is salient to the success of the action). I ..\",\n",
        "    )\n",
        "    result: str = Field(\n",
        "        ...,\n",
        "        description=\"Outcome and retrospective. What did you do well? What could you do better next time? I ...\",\n",
        "    )\n",
        "\n",
        "\n",
        "#  The Episode schema becomes part of the memory manager's prompt,\n",
        "# helping it extract complete reasoning chains that guide future responses\n",
        "manager = create_memory_manager(\n",
        "    \"google_genai:gemini-2.0-flash\",\n",
        "    schemas=[Episode],\n",
        "    instructions=\"Extract examples of successful explanations, capturing the full chain of reasoning. Be concise in your explanations and precise in the logic of your reasoning.\",\n",
        "    enable_inserts=True,\n",
        ")"
      ],
      "metadata": {
        "id": "csCVN9-mQuJ9"
      },
      "execution_count": 4,
      "outputs": []
    },
    {
      "cell_type": "code",
      "source": [
        "conversation = [\n",
        "    {\n",
        "        \"role\": \"user\",\n",
        "        \"content\": \"What's a binary tree? I work with family trees if that helps\",\n",
        "    },\n",
        "    {\n",
        "        \"role\": \"assistant\",\n",
        "        \"content\": \"A binary tree is like a family tree, but each parent has at most 2 children. Here's a simple example:\\n   Bob\\n  /  \\\\\\nAmy  Carl\\n\\nJust like in family trees, we call Bob the 'parent' and Amy and Carl the 'children'.\",\n",
        "    },\n",
        "    {\n",
        "        \"role\": \"user\",\n",
        "        \"content\": \"Oh that makes sense! So in a binary search tree, would it be like organizing a family by age?\",\n",
        "    },\n",
        "]\n",
        "\n",
        "episodes = manager.invoke({\"messages\": conversation})\n",
        "\n",
        "print(episodes)"
      ],
      "metadata": {
        "colab": {
          "base_uri": "https://localhost:8080/"
        },
        "id": "mhixbMW6RKBl",
        "outputId": "84bf6595-a929-4f8c-c4e9-58620f503d91"
      },
      "execution_count": 5,
      "outputs": [
        {
          "output_type": "stream",
          "name": "stderr",
          "text": [
            "WARNING:langchain_google_genai._function_utils:Key 'title' is not supported in schema, ignoring\n"
          ]
        },
        {
          "output_type": "stream",
          "name": "stdout",
          "text": [
            "[ExtractedMemory(id='38ce4640-3838-4ce1-9e6d-51e0d164f976', content=Episode(observation='User asked what a binary tree is and mentioned their familiarity with family trees.', thoughts=\"I used the user's existing knowledge of family trees to explain the concept of a binary tree, which seemed to resonate with them. I need to remember this analogy for future explanations.\", action='Explained binary tree using a family tree analogy, showing a simple example with parent and children.', result='The user understood the explanation.'))]\n"
          ]
        }
      ]
    },
    {
      "cell_type": "code",
      "source": [
        "for episode in episodes:\n",
        "  print(episode.content, \"\\n\\n\")"
      ],
      "metadata": {
        "colab": {
          "base_uri": "https://localhost:8080/"
        },
        "id": "saC1r2RBRahW",
        "outputId": "a42d29b9-cd65-4dc5-96d4-0138669c7745"
      },
      "execution_count": 6,
      "outputs": [
        {
          "output_type": "stream",
          "name": "stdout",
          "text": [
            "observation='User asked what a binary tree is and mentioned their familiarity with family trees.' thoughts=\"I used the user's existing knowledge of family trees to explain the concept of a binary tree, which seemed to resonate with them. I need to remember this analogy for future explanations.\" action='Explained binary tree using a family tree analogy, showing a simple example with parent and children.' result='The user understood the explanation.' \n",
            "\n",
            "\n"
          ]
        }
      ]
    },
    {
      "cell_type": "markdown",
      "source": [
        "Now you can store and use it as part of your agent context i.e: instructions"
      ],
      "metadata": {
        "id": "4JBKvRAyRkmy"
      }
    },
    {
      "cell_type": "markdown",
      "source": [
        "# 2.  **OpenAI Agents SDK Email Assistant with Semantic + Episodic Memory**"
      ],
      "metadata": {
        "id": "JtKpusSwWIZY"
      }
    },
    {
      "cell_type": "markdown",
      "source": [
        "We previously built an email assistant that:\n",
        "- Classifies incoming messages (respond, ignore, notify)\n",
        "- Drafts responses\n",
        "- Schedules meetings\n",
        "- Uses memory to remember details from previous emails\n",
        "\n",
        "Now, we'll add human-in-the-loop following the triage step to better refine the assistant's ability to classify emails."
      ],
      "metadata": {
        "id": "MagfdaZ7WpAq"
      }
    },
    {
      "cell_type": "markdown",
      "source": [
        "## OpenAI Agents SDK Model Config"
      ],
      "metadata": {
        "id": "qSJI6dbhAKot"
      }
    },
    {
      "cell_type": "code",
      "execution_count": 7,
      "metadata": {
        "id": "XnusaX_RWF22"
      },
      "outputs": [],
      "source": [
        "from pydantic import BaseModel, Field\n",
        "from agents import (\n",
        "    Agent,\n",
        "    Runner,\n",
        "    AsyncOpenAI,\n",
        "    OpenAIChatCompletionsModel,\n",
        "    RunConfig\n",
        ")\n",
        "from typing import Dict, Any\n",
        "from typing_extensions import TypedDict, Literal, Annotated\n"
      ]
    },
    {
      "cell_type": "code",
      "source": [
        "#Reference: https://ai.google.dev/gemini-api/docs/openai\n",
        "external_client = AsyncOpenAI(\n",
        "    api_key=os.environ[\"GOOGLE_API_KEY\"],\n",
        "    base_url=\"https://generativelanguage.googleapis.com/v1beta/openai/\",\n",
        ")\n",
        "\n",
        "model = OpenAIChatCompletionsModel(\n",
        "    model=\"gemini-2.0-flash\",\n",
        "    openai_client=external_client\n",
        ")\n",
        "\n",
        "config = RunConfig(\n",
        "    model=model,\n",
        "    model_provider=external_client,\n",
        "    tracing_disabled=True\n",
        ")\n"
      ],
      "metadata": {
        "id": "ci9rBxqfnyNm"
      },
      "execution_count": 8,
      "outputs": []
    },
    {
      "cell_type": "markdown",
      "source": [
        "## **Setup a Profile, Prompt Instructions and Example Email**"
      ],
      "metadata": {
        "id": "QhIqMcxWa6GD"
      }
    },
    {
      "cell_type": "code",
      "source": [
        "profile = {\n",
        "    \"name\": \"Junaid\",\n",
        "    \"full_name\": \"Muhammad Junaid Shaukat\",\n",
        "    \"user_profile_background\": \"AI Engineer building personal AI Agents WorkForce.\",\n",
        "}"
      ],
      "metadata": {
        "id": "bNf0OmfHSwkp"
      },
      "execution_count": 9,
      "outputs": []
    },
    {
      "cell_type": "code",
      "source": [
        "prompt_instructions = {\n",
        "    \"triage_rules\": {\n",
        "        \"ignore\": \"Marketing newsletters, spam emails, mass company announcements\",\n",
        "        \"notify\": \"Team member out sick, build system notifications, project status updates\",\n",
        "        \"respond\": \"Direct questions from team members, meeting requests, critical bug reports\",\n",
        "    },\n",
        "    \"agent_instructions\": \"Use these tools when appropriate to help manage Junaid tasks efficiently.\"\n",
        "}"
      ],
      "metadata": {
        "id": "Z385ETRSTt4P"
      },
      "execution_count": 10,
      "outputs": []
    },
    {
      "cell_type": "markdown",
      "source": [
        "## Few Shot-examples - Label & Store"
      ],
      "metadata": {
        "id": "rKp2utEYVPsJ"
      }
    },
    {
      "cell_type": "markdown",
      "source": [
        "### 1. Define Memory Storage Layer"
      ],
      "metadata": {
        "id": "0kwdOrijVjZ6"
      }
    },
    {
      "cell_type": "code",
      "source": [
        "import asyncio\n",
        "from langchain_google_genai import GoogleGenerativeAIEmbeddings\n",
        "from langgraph.store.memory import InMemoryStore\n",
        "from contextlib import asynccontextmanager\n",
        "\n",
        "store = InMemoryStore(\n",
        "      index={\n",
        "          \"dims\": 768,\n",
        "          \"embed\": GoogleGenerativeAIEmbeddings(model=\"models/text-embedding-004\")\n",
        "      }\n",
        "    )\n",
        "\n",
        "@asynccontextmanager\n",
        "async def get_store():\n",
        "  yield store\n"
      ],
      "metadata": {
        "id": "gfnB7UT-VV1c"
      },
      "execution_count": 11,
      "outputs": []
    },
    {
      "cell_type": "markdown",
      "source": [
        "### 2. Label and Store Few Shot Examples"
      ],
      "metadata": {
        "id": "8WjyktBYVpBA"
      }
    },
    {
      "cell_type": "code",
      "source": [
        "# Example incoming email\n",
        "email = {\n",
        "    \"from\": \"Alice Smith <alice.smith@company.com>\",\n",
        "    \"to\": \"Muhammad Junaid Shaukat <mr.junaidshaukat@gmail.com>\",\n",
        "    \"subject\": \"Quick question about AI documentation\",\n",
        "    \"body\": \"\"\"\n",
        "Hi Junaid,\n",
        "\n",
        "I was reviewing the AI Agents documentation for the new agentic authentication service and noticed a few endpoints seem to be missing from the specs. Could you help clarify if this was intentional or if we should update the docs?\n",
        "\n",
        "Specifically, I'm looking at:\n",
        "- /agent/auth/refresh\n",
        "- /agent/auth/validate\n",
        "\n",
        "Thanks!\n",
        "Alice\"\"\",\n",
        "}"
      ],
      "metadata": {
        "id": "NjlpRLImVw1w"
      },
      "execution_count": 12,
      "outputs": []
    },
    {
      "cell_type": "code",
      "source": [
        "data = {\n",
        "    \"email\": email,\n",
        "    # This is to start changing the behavior of the agent\n",
        "    \"label\": \"respond\"\n",
        "}"
      ],
      "metadata": {
        "id": "yD0nzHaeV1zA"
      },
      "execution_count": 13,
      "outputs": []
    },
    {
      "cell_type": "markdown",
      "source": [
        "#### store example into memory store using 'examples' to indicate episodic memory"
      ],
      "metadata": {
        "id": "l5u9uKs1V8lm"
      }
    },
    {
      "cell_type": "code",
      "source": [
        "import uuid\n",
        "store.put(\n",
        "    (\"email_assistant\", \"Junaid\", \"examples\"),\n",
        "    str(uuid.uuid4()),\n",
        "    data\n",
        ")"
      ],
      "metadata": {
        "id": "0F5T8khLV3iK"
      },
      "execution_count": 14,
      "outputs": []
    },
    {
      "cell_type": "markdown",
      "source": [
        "### Store a Second Example"
      ],
      "metadata": {
        "id": "18U743dQWDS4"
      }
    },
    {
      "cell_type": "code",
      "source": [
        "data = {\n",
        "    \"email\": {\n",
        "        \"author\": \"Sarah Chen <sarah.chen@company.com>\",\n",
        "    \"to\": \"Muhammad Junaid Shaukat <mr.junaidshaukat@gmail.com>\",\n",
        "        \"subject\": \"Update: Agentic API Changes Deployed to Staging\",\n",
        "        \"email_thread\": \"\"\"Hi Junaid,\n",
        "\n",
        "    Just wanted to let you know that I've deployed the new authentication endpoints we discussed to the staging environment. Key changes include:\n",
        "\n",
        "    - Implemented JWT refresh token rotation\n",
        "    - Added rate limiting for login attempts\n",
        "    - Updated API documentation with new endpoints\n",
        "\n",
        "    All tests are passing and the changes are ready for review. You can test it out at staging-api.company.com/auth/*\n",
        "\n",
        "    No immediate action needed from your side - just keeping you in the loop since this affects the systems you're working on.\n",
        "\n",
        "    Best regards,\n",
        "    Sarah\n",
        "    \"\"\",\n",
        "    },\n",
        "    \"label\": \"ignore\"\n",
        "}"
      ],
      "metadata": {
        "id": "4BsSNJwRWDox"
      },
      "execution_count": 15,
      "outputs": []
    },
    {
      "cell_type": "code",
      "source": [
        "store.put(\n",
        "    (\"email_assistant\", \"Junaid\", \"examples\"),\n",
        "    str(uuid.uuid4()),\n",
        "    data\n",
        ")"
      ],
      "metadata": {
        "id": "9GXHeMvaWSNP"
      },
      "execution_count": 16,
      "outputs": []
    },
    {
      "cell_type": "code",
      "source": [
        "store.search((\"email_assistant\", \"Junaid\", \"examples\"))"
      ],
      "metadata": {
        "colab": {
          "base_uri": "https://localhost:8080/"
        },
        "id": "ISdrCUDif3Wy",
        "outputId": "626fc2cc-7bce-4e33-a2ec-2475ee814637"
      },
      "execution_count": 17,
      "outputs": [
        {
          "output_type": "execute_result",
          "data": {
            "text/plain": [
              "[Item(namespace=['email_assistant', 'Junaid', 'examples'], key='91bd9944-1e73-429f-8ed7-aa0d502478ac', value={'email': {'from': 'Alice Smith <alice.smith@company.com>', 'to': 'Muhammad Junaid Shaukat <mr.junaidshaukat@gmail.com>', 'subject': 'Quick question about AI documentation', 'body': \"\\nHi Junaid,\\n\\nI was reviewing the AI Agents documentation for the new agentic authentication service and noticed a few endpoints seem to be missing from the specs. Could you help clarify if this was intentional or if we should update the docs?\\n\\nSpecifically, I'm looking at:\\n- /agent/auth/refresh\\n- /agent/auth/validate\\n\\nThanks!\\nAlice\"}, 'label': 'respond'}, created_at='2025-03-31T13:02:11.573718+00:00', updated_at='2025-03-31T13:02:11.573725+00:00', score=None),\n",
              " Item(namespace=['email_assistant', 'Junaid', 'examples'], key='4f809d93-ac5b-4ea3-a48b-fd0b669c11dc', value={'email': {'author': 'Sarah Chen <sarah.chen@company.com>', 'to': 'Muhammad Junaid Shaukat <mr.junaidshaukat@gmail.com>', 'subject': 'Update: Agentic API Changes Deployed to Staging', 'email_thread': \"Hi Junaid,\\n\\n    Just wanted to let you know that I've deployed the new authentication endpoints we discussed to the staging environment. Key changes include:\\n\\n    - Implemented JWT refresh token rotation\\n    - Added rate limiting for login attempts\\n    - Updated API documentation with new endpoints\\n\\n    All tests are passing and the changes are ready for review. You can test it out at staging-api.company.com/auth/*\\n\\n    No immediate action needed from your side - just keeping you in the loop since this affects the systems you're working on.\\n\\n    Best regards,\\n    Sarah\\n    \"}, 'label': 'ignore'}, created_at='2025-03-31T13:02:23.690867+00:00', updated_at='2025-03-31T13:02:23.690875+00:00', score=None)]"
            ]
          },
          "metadata": {},
          "execution_count": 17
        }
      ]
    },
    {
      "cell_type": "markdown",
      "source": [
        "### Simulate searching and returning examples"
      ],
      "metadata": {
        "id": "6TceIS7PWVLe"
      }
    },
    {
      "cell_type": "code",
      "source": [
        "# Template for formating an example to put in prompt\n",
        "template = \"\"\"Email Subject: {subject}\n",
        "Email From: {from_email}\n",
        "Email To: {to_email}\n",
        "Email Content:\n",
        "```\n",
        "{content}\n",
        "```\n",
        "> Triage Result: {result}\"\"\"\n",
        "\n",
        "# Format list of few shots\n",
        "def format_few_shot_examples(examples):\n",
        "    print(examples)\n",
        "    strs = [\"Here are some previous examples:\"]\n",
        "    for eg in examples:\n",
        "        email_data = eg.value.get(\"email\", {})\n",
        "        subject = email_data.get(\"subject\", \"No Subject\")\n",
        "        to_email = email_data.get(\"to\", \"No Recipient\")\n",
        "        from_email = email_data.get(\"author\") or email_data.get(\"from\", \"No Sender\")\n",
        "        # Use 'email_thread' if available; otherwise fall back to 'body'\n",
        "        content = email_data.get(\"email_thread\") or email_data.get(\"body\", \"\")\n",
        "        # Truncate the content to a maximum of 400 characters\n",
        "        content = content[:400]\n",
        "        result = eg.value.get(\"label\", \"No Label\")\n",
        "\n",
        "        strs.append(\n",
        "            template.format(\n",
        "                subject=subject,\n",
        "                to_email=to_email,\n",
        "                from_email=from_email,\n",
        "                content=content,\n",
        "                result=result,\n",
        "            )\n",
        "        )\n",
        "    return \"\\n\\n------------\\n\\n\".join(strs)"
      ],
      "metadata": {
        "id": "X0K0RKvZWViP"
      },
      "execution_count": 18,
      "outputs": []
    },
    {
      "cell_type": "markdown",
      "source": [
        "Whenever we get an email we will use it to search in store to get relevant emails"
      ],
      "metadata": {
        "id": "haUtSTk-R-p1"
      }
    },
    {
      "cell_type": "code",
      "source": [
        "email_data = {\n",
        "        \"author\": \"Sarah Chen <sarah.chen@company.com>\",\n",
        "        \"to\": \"Muhammad Junaid Shaukat <mr.junaidshaukat@gmail.com>\",\n",
        "        \"subject\": \"Update: Backend API Changes Deployed to Staging\",\n",
        "        \"email_thread\": \"\"\"Hi Junaid,\n",
        "\n",
        "    Wanted to let you know that I've deployed the new authentication endpoints we discussed to the staging environment. Key changes include:\n",
        "\n",
        "    - Implemented JWT refresh token rotation\n",
        "    - Added rate limiting for login attempts\n",
        "    - Updated API documentation with new endpoints\n",
        "\n",
        "    All tests are passing and the changes are ready for review. You can test it out at staging-api.company.com/auth/*\n",
        "\n",
        "    No immediate action needed from your side - just keeping you in the loop since this affects the systems you're working on.\n",
        "\n",
        "    Best regards,\n",
        "    Sarah\n",
        "    \"\"\",\n",
        "    }\n"
      ],
      "metadata": {
        "id": "1qVDm-UjWbFK"
      },
      "execution_count": 19,
      "outputs": []
    },
    {
      "cell_type": "code",
      "source": [
        "results = store.search(\n",
        "    (\"email_assistant\", \"Junaid\", \"examples\"),\n",
        "    query=str({\"email\": email_data}),\n",
        "    limit=1)"
      ],
      "metadata": {
        "id": "9EKUw7VkSEmh"
      },
      "execution_count": 20,
      "outputs": []
    },
    {
      "cell_type": "code",
      "source": [
        "print(format_few_shot_examples(results))"
      ],
      "metadata": {
        "colab": {
          "base_uri": "https://localhost:8080/"
        },
        "id": "16GM-JzNWoio",
        "outputId": "c9567846-6a65-42e4-af57-e32d95c8bf36"
      },
      "execution_count": 21,
      "outputs": [
        {
          "output_type": "stream",
          "name": "stdout",
          "text": [
            "[Item(namespace=['email_assistant', 'Junaid', 'examples'], key='4f809d93-ac5b-4ea3-a48b-fd0b669c11dc', value={'email': {'author': 'Sarah Chen <sarah.chen@company.com>', 'to': 'Muhammad Junaid Shaukat <mr.junaidshaukat@gmail.com>', 'subject': 'Update: Agentic API Changes Deployed to Staging', 'email_thread': \"Hi Junaid,\\n\\n    Just wanted to let you know that I've deployed the new authentication endpoints we discussed to the staging environment. Key changes include:\\n\\n    - Implemented JWT refresh token rotation\\n    - Added rate limiting for login attempts\\n    - Updated API documentation with new endpoints\\n\\n    All tests are passing and the changes are ready for review. You can test it out at staging-api.company.com/auth/*\\n\\n    No immediate action needed from your side - just keeping you in the loop since this affects the systems you're working on.\\n\\n    Best regards,\\n    Sarah\\n    \"}, 'label': 'ignore'}, created_at='2025-03-31T13:02:23.690867+00:00', updated_at='2025-03-31T13:02:23.690875+00:00', score=0.8686213812048029)]\n",
            "Here are some previous examples:\n",
            "\n",
            "------------\n",
            "\n",
            "Email Subject: Update: Agentic API Changes Deployed to Staging\n",
            "Email From: Sarah Chen <sarah.chen@company.com>\n",
            "Email To: Muhammad Junaid Shaukat <mr.junaidshaukat@gmail.com>\n",
            "Email Content:\n",
            "```\n",
            "Hi Junaid,\n",
            "\n",
            "    Just wanted to let you know that I've deployed the new authentication endpoints we discussed to the staging environment. Key changes include:\n",
            "\n",
            "    - Implemented JWT refresh token rotation\n",
            "    - Added rate limiting for login attempts\n",
            "    - Updated API documentation with new endpoints\n",
            "\n",
            "    All tests are passing and the changes are ready for review. You can test it out at staging-api.\n",
            "```\n",
            "> Triage Result: ignore\n"
          ]
        }
      ]
    },
    {
      "cell_type": "markdown",
      "source": [
        "## Code"
      ],
      "metadata": {
        "id": "yLvAAgZIVWVI"
      }
    },
    {
      "cell_type": "code",
      "source": [
        "class Email(BaseModel):\n",
        "    from_: str = Field(alias=\"from\")\n",
        "    to: str\n",
        "    subject: str\n",
        "    body: str\n",
        "\n",
        "email_model = Email(**email)\n",
        "print(email_model.model_dump_json(by_alias=True))"
      ],
      "metadata": {
        "colab": {
          "base_uri": "https://localhost:8080/"
        },
        "id": "0_XgexJ0QROb",
        "outputId": "ee56047b-ad64-4663-c123-8ab21e6980cf"
      },
      "execution_count": 22,
      "outputs": [
        {
          "output_type": "stream",
          "name": "stdout",
          "text": [
            "{\"from\":\"Alice Smith <alice.smith@company.com>\",\"to\":\"Muhammad Junaid Shaukat <mr.junaidshaukat@gmail.com>\",\"subject\":\"Quick question about AI documentation\",\"body\":\"\\nHi Junaid,\\n\\nI was reviewing the AI Agents documentation for the new agentic authentication service and noticed a few endpoints seem to be missing from the specs. Could you help clarify if this was intentional or if we should update the docs?\\n\\nSpecifically, I'm looking at:\\n- /agent/auth/refresh\\n- /agent/auth/validate\\n\\nThanks!\\nAlice\"}\n"
          ]
        }
      ]
    },
    {
      "cell_type": "code",
      "source": [
        "class Router(BaseModel):\n",
        "    \"\"\"Analyze the unread email and route it according to its content.\"\"\"\n",
        "\n",
        "    reasoning: str = Field(\n",
        "        description=\"Step-by-step reasoning behind the classification.\"\n",
        "    )\n",
        "    classification: Literal[\"ignore\", \"respond\", \"notify\"] = Field(\n",
        "        description=\"The classification of an email: 'ignore' for irrelevant emails, \"\n",
        "        \"'notify' for important information that doesn't need a response, \"\n",
        "        \"'respond' for emails that need a reply\",\n",
        "    )"
      ],
      "metadata": {
        "id": "ZCmLINFscUji"
      },
      "execution_count": 23,
      "outputs": []
    },
    {
      "cell_type": "markdown",
      "source": [
        "## **Prompt Templates**"
      ],
      "metadata": {
        "id": "cJxC0wFqdCD1"
      }
    },
    {
      "cell_type": "code",
      "source": [
        "# Triage system prompt template\n",
        "triage_system_prompt_template = \"\"\"\n",
        "< Role >\n",
        "You are {full_name}'s executive assistant. You are a top-notch executive assistant who cares about {name} performing as well as possible.\n",
        "</ Role >\n",
        "\n",
        "< Background >\n",
        "{user_profile_background}.\n",
        "</ Background >\n",
        "\n",
        "< Instructions >\n",
        "\n",
        "{name} gets lots of emails. Your job is to categorize each email into one of three categories:\n",
        "\n",
        "1. IGNORE - Emails that are not worth responding to or tracking\n",
        "2. NOTIFY - Important information that {name} should know about but doesn't require a response\n",
        "3. RESPOND - Emails that need a direct response from {name}\n",
        "\n",
        "Classify the below email into one of these categories.\n",
        "\n",
        "</ Instructions >\n",
        "\n",
        "< Rules >\n",
        "Emails that are not worth responding to:\n",
        "{triage_no}\n",
        "\n",
        "There are also other things that {name} should know about, but don't require an email response. For these, you should notify {name} (using the `notify` response). Examples of this include:\n",
        "{triage_notify}\n",
        "\n",
        "Emails that are worth responding to:\n",
        "{triage_email}\n",
        "</ Rules >\n",
        "\n",
        "< Few shot examples >\n",
        "{examples}\n",
        "</ Few shot examples >\n",
        "\"\"\"\n",
        "\n",
        "\n",
        "\n",
        "\n",
        "\n",
        "# Triage User Prompt Template\n",
        "triage_user_prompt_template = \"\"\"\n",
        "Please determine how to handle the below email thread:\n",
        "\n",
        "From: {author}\n",
        "To: {to}\n",
        "Subject: {subject}\n",
        "{email_thread}\n",
        "\"\"\"\n",
        "\n",
        "\n",
        "\n"
      ],
      "metadata": {
        "id": "3l4qiC5xdA4C"
      },
      "execution_count": 24,
      "outputs": []
    },
    {
      "cell_type": "markdown",
      "source": [
        "## **A function to create a prompt using f-string**"
      ],
      "metadata": {
        "id": "bKvnDeJmgdIh"
      }
    },
    {
      "cell_type": "code",
      "source": [
        "def create_prompt(template: str, variables: Dict[str, any]) -> str:\n",
        "    \"\"\"Creates a prompt using an f-string and a dictionary of variables.\"\"\"\n",
        "    try:\n",
        "        return template.format(**variables)\n",
        "    except KeyError as e:\n",
        "        return f\"Error: Missing variable '{e.args[0]}' in the provided dictionary.\""
      ],
      "metadata": {
        "id": "_FzwooWFgeAc"
      },
      "execution_count": 25,
      "outputs": []
    },
    {
      "cell_type": "markdown",
      "source": [
        "## **Response Agent, Define Tools**"
      ],
      "metadata": {
        "id": "lbw8_HSN3Wif"
      }
    },
    {
      "cell_type": "code",
      "source": [
        "from agents import function_tool"
      ],
      "metadata": {
        "id": "Ff3qUo8R4fQY"
      },
      "execution_count": 26,
      "outputs": []
    },
    {
      "cell_type": "code",
      "source": [
        "@function_tool\n",
        "def write_email(to: str, subject: str, content: str) -> str:\n",
        "    \"\"\"Write and send an email.\"\"\"\n",
        "    # Placeholder response - in real app would send email\n",
        "    return f\"Email sent to {to} with subject '{subject}'\""
      ],
      "metadata": {
        "id": "m1-MmkQq3aCE"
      },
      "execution_count": 27,
      "outputs": []
    },
    {
      "cell_type": "code",
      "source": [
        "@function_tool\n",
        "def schedule_meeting(\n",
        "    attendees: list[str],\n",
        "    subject: str,\n",
        "    duration_minutes: int,\n",
        "    preferred_day: str\n",
        ") -> str:\n",
        "    \"\"\"Schedule a calendar meeting.\"\"\"\n",
        "    # Placeholder response - in real app would check calendar and schedule\n",
        "    return f\"Meeting '{subject}' scheduled for {preferred_day} with {len(attendees)} attendees\"\n",
        "\n"
      ],
      "metadata": {
        "id": "l7DIOHhj4wqE"
      },
      "execution_count": 28,
      "outputs": []
    },
    {
      "cell_type": "code",
      "source": [
        "@function_tool\n",
        "def check_calendar_availability(day: str) -> str:\n",
        "    \"\"\"Check calendar availability for a given day.\"\"\"\n",
        "    # Placeholder response - in real app would check actual calendar\n",
        "    return f\"Available times on {day}: 9:00 AM, 2:00 PM, 4:00 PM\""
      ],
      "metadata": {
        "id": "FYY2YRm341Dh"
      },
      "execution_count": 29,
      "outputs": []
    },
    {
      "cell_type": "markdown",
      "source": [
        "### **LangMem Memory Management Tools**"
      ],
      "metadata": {
        "id": "bBiBZ1vFy6hP"
      }
    },
    {
      "cell_type": "code",
      "source": [
        "class UserInfo(BaseModel):\n",
        "  username: str\n",
        "\n",
        "namespace_template=(\"email_assistant\", \"{username}\", \"collection\")"
      ],
      "metadata": {
        "id": "7buV0MoM7H5Y"
      },
      "execution_count": 30,
      "outputs": []
    },
    {
      "cell_type": "code",
      "source": [
        "from langmem import create_manage_memory_tool, create_search_memory_tool\n",
        "from langmem_adapter import LangMemOpenAIAgentToolAdapter\n",
        "\n",
        "# Initialize the manage memory tool dynamically:\n",
        "manage_adapter = LangMemOpenAIAgentToolAdapter(\n",
        "    lambda store, namespace=None: create_manage_memory_tool(namespace=namespace, store=store),\n",
        "    store_provider=get_store,\n",
        "    namespace_template=namespace_template\n",
        ")\n",
        "manage_memory_tool = manage_adapter.as_tool()\n",
        "\n",
        "# Initialize the search memory tool dynamically:\n",
        "search_adapter = LangMemOpenAIAgentToolAdapter(\n",
        "    lambda store, namespace=None: create_search_memory_tool(namespace=namespace, store=store),\n",
        "    store_provider=get_store,\n",
        "    namespace_template=namespace_template\n",
        ")\n",
        "search_memory_tool = search_adapter.as_tool()\n"
      ],
      "metadata": {
        "id": "Gq004jE_7IqC"
      },
      "execution_count": 31,
      "outputs": []
    },
    {
      "cell_type": "code",
      "source": [
        "store.search((\"email_assistant\", \"Junaid\", \"examples\"))"
      ],
      "metadata": {
        "colab": {
          "base_uri": "https://localhost:8080/"
        },
        "id": "VIMsXifigJgR",
        "outputId": "c1e01dea-fb5a-4016-cd4f-9c848649f851"
      },
      "execution_count": 32,
      "outputs": [
        {
          "output_type": "execute_result",
          "data": {
            "text/plain": [
              "[Item(namespace=['email_assistant', 'Junaid', 'examples'], key='91bd9944-1e73-429f-8ed7-aa0d502478ac', value={'email': {'from': 'Alice Smith <alice.smith@company.com>', 'to': 'Muhammad Junaid Shaukat <mr.junaidshaukat@gmail.com>', 'subject': 'Quick question about AI documentation', 'body': \"\\nHi Junaid,\\n\\nI was reviewing the AI Agents documentation for the new agentic authentication service and noticed a few endpoints seem to be missing from the specs. Could you help clarify if this was intentional or if we should update the docs?\\n\\nSpecifically, I'm looking at:\\n- /agent/auth/refresh\\n- /agent/auth/validate\\n\\nThanks!\\nAlice\"}, 'label': 'respond'}, created_at='2025-03-31T13:02:11.573718+00:00', updated_at='2025-03-31T13:02:11.573725+00:00', score=None),\n",
              " Item(namespace=['email_assistant', 'Junaid', 'examples'], key='4f809d93-ac5b-4ea3-a48b-fd0b669c11dc', value={'email': {'author': 'Sarah Chen <sarah.chen@company.com>', 'to': 'Muhammad Junaid Shaukat <mr.junaidshaukat@gmail.com>', 'subject': 'Update: Agentic API Changes Deployed to Staging', 'email_thread': \"Hi Junaid,\\n\\n    Just wanted to let you know that I've deployed the new authentication endpoints we discussed to the staging environment. Key changes include:\\n\\n    - Implemented JWT refresh token rotation\\n    - Added rate limiting for login attempts\\n    - Updated API documentation with new endpoints\\n\\n    All tests are passing and the changes are ready for review. You can test it out at staging-api.company.com/auth/*\\n\\n    No immediate action needed from your side - just keeping you in the loop since this affects the systems you're working on.\\n\\n    Best regards,\\n    Sarah\\n    \"}, 'label': 'ignore'}, created_at='2025-03-31T13:02:23.690867+00:00', updated_at='2025-03-31T13:02:23.690875+00:00', score=None)]"
            ]
          },
          "metadata": {},
          "execution_count": 32
        }
      ]
    },
    {
      "cell_type": "markdown",
      "source": [
        "## **Response Agent, Define Prompt**"
      ],
      "metadata": {
        "id": "UXrrpjMD52VW"
      }
    },
    {
      "cell_type": "code",
      "source": [
        "response_prompt_template = \"\"\"\n",
        "< Role >\n",
        "You are {full_name}'s executive assistant. You are a top-notch executive assistant who cares about {name} performing as well as possible.\n",
        "</ Role >\n",
        "\n",
        "< Tools >\n",
        "You have access to the following tools to help manage {name}'s communications and schedule:\n",
        "\n",
        "1. write_email(to, subject, content) - Send emails to specified recipients\n",
        "2. schedule_meeting(attendees, subject, duration_minutes, preferred_day) - Schedule calendar meetings\n",
        "3. check_calendar_availability(day) - Check available time slots for a given day\n",
        "</ Tools >\n",
        "\n",
        "< Instructions >\n",
        "{instructions}\n",
        "</ Instructions >\n",
        "\"\"\""
      ],
      "metadata": {
        "id": "HRtFZ0-O5_au"
      },
      "execution_count": 33,
      "outputs": []
    },
    {
      "cell_type": "code",
      "source": [
        "response_system_prompt = create_prompt(response_prompt_template, {\n",
        "    \"full_name\": profile[\"full_name\"],\n",
        "    \"name\":profile[\"name\"],\n",
        "    \"instructions\": prompt_instructions[\"agent_instructions\"] + \"Always save my email interactions in memory store for later discussions.\",\n",
        "  }\n",
        ")\n",
        "print(response_system_prompt)"
      ],
      "metadata": {
        "colab": {
          "base_uri": "https://localhost:8080/"
        },
        "id": "bLDpM1ocffIW",
        "outputId": "127b053c-9e63-43c3-a4cf-2fb23cc21707"
      },
      "execution_count": 34,
      "outputs": [
        {
          "output_type": "stream",
          "name": "stdout",
          "text": [
            "\n",
            "< Role >\n",
            "You are Muhammad Junaid Shaukat's executive assistant. You are a top-notch executive assistant who cares about Junaid performing as well as possible.\n",
            "</ Role >\n",
            "\n",
            "< Tools >\n",
            "You have access to the following tools to help manage Junaid's communications and schedule:\n",
            "\n",
            "1. write_email(to, subject, content) - Send emails to specified recipients\n",
            "2. schedule_meeting(attendees, subject, duration_minutes, preferred_day) - Schedule calendar meetings\n",
            "3. check_calendar_availability(day) - Check available time slots for a given day\n",
            "</ Tools >\n",
            "\n",
            "< Instructions >\n",
            "Use these tools when appropriate to help manage Junaid tasks efficiently.Always save my email interactions in memory store for later discussions.\n",
            "</ Instructions >\n",
            "\n"
          ]
        }
      ]
    },
    {
      "cell_type": "code",
      "source": [
        "tools=[write_email, schedule_meeting, check_calendar_availability, manage_memory_tool, search_memory_tool]"
      ],
      "metadata": {
        "id": "19R5pQeu0Pg_"
      },
      "execution_count": 35,
      "outputs": []
    },
    {
      "cell_type": "code",
      "source": [
        "response_agent = Agent[UserInfo](\n",
        "    name=\"Response agent\",\n",
        "    instructions=response_system_prompt,\n",
        "    tools=tools\n",
        "    )\n"
      ],
      "metadata": {
        "id": "k3x5ewYmwjuJ"
      },
      "execution_count": 36,
      "outputs": []
    },
    {
      "cell_type": "markdown",
      "source": [
        "### Just Testing"
      ],
      "metadata": {
        "id": "37EDrnA_aBuZ"
      }
    },
    {
      "cell_type": "code",
      "source": [
        "response_result = await Runner.run(response_agent,\n",
        "                                   \"Muhammad is my friend\",\n",
        "                                   run_config = config,\n",
        "                                   context=UserInfo(username=profile[\"name\"])\n",
        "                                   )\n",
        "print(response_result.final_output)\n"
      ],
      "metadata": {
        "colab": {
          "base_uri": "https://localhost:8080/"
        },
        "id": "Q1AdqDdQyIsY",
        "outputId": "f5b23e4c-c618-475b-8b81-c4bcca7117e7"
      },
      "execution_count": 37,
      "outputs": [
        {
          "output_type": "stream",
          "name": "stdout",
          "text": [
            "Okay, I've saved that you are friends with Muhammad. How can I help you today, Junaid?\n",
            "\n"
          ]
        }
      ]
    },
    {
      "cell_type": "code",
      "source": [
        "response_result = await Runner.run(response_agent,\n",
        "                                   \"Do I know Muhammad?\",\n",
        "                                   run_config = config,\n",
        "                                   context=UserInfo(username=profile[\"name\"])\n",
        "                                   )\n",
        "print(response_result.final_output)\n"
      ],
      "metadata": {
        "colab": {
          "base_uri": "https://localhost:8080/"
        },
        "id": "Zs0UZaUC1Xp_",
        "outputId": "a769b9cd-9c91-41f2-fc1f-33ed9e17e934"
      },
      "execution_count": 38,
      "outputs": [
        {
          "output_type": "stream",
          "name": "stdout",
          "text": [
            "Yes, you are friends with Muhammad.\n",
            "\n"
          ]
        }
      ]
    },
    {
      "cell_type": "code",
      "source": [
        "async with get_store() as store:\n",
        "  namespace=(\"email_assistant\", profile[\"name\"], \"collection\")\n",
        "  res = await store.asearch(namespace)\n",
        "  print(res)"
      ],
      "metadata": {
        "colab": {
          "base_uri": "https://localhost:8080/"
        },
        "id": "fPBLF_-V9O1I",
        "outputId": "b0dafcdd-043e-416d-a1af-3c617c8ed371"
      },
      "execution_count": 39,
      "outputs": [
        {
          "output_type": "stream",
          "name": "stdout",
          "text": [
            "[Item(namespace=['email_assistant', 'Junaid', 'collection'], key='769822d4-354a-4681-8441-22df65666bb2', value={'content': 'The user is friends with Muhammad.'}, created_at='2025-03-31T13:03:18.623944+00:00', updated_at='2025-03-31T13:03:18.623953+00:00', score=None)]\n"
          ]
        }
      ]
    },
    {
      "cell_type": "markdown",
      "source": [
        "## **Create Triage Agent Flow in Python**"
      ],
      "metadata": {
        "id": "vseM3JXy2AI0"
      }
    },
    {
      "cell_type": "code",
      "source": [
        "async def triage_router(email: Email, username: str):\n",
        "\n",
        "    namespace = (\n",
        "        \"email_assistant\",\n",
        "        username,\n",
        "        \"examples\"\n",
        "    )\n",
        "\n",
        "    examples = store.search(\n",
        "        namespace,\n",
        "        query=str({\"email\": email.model_dump()}),\n",
        "    )\n",
        "    examples=format_few_shot_examples(examples)\n",
        "\n",
        "    system_prompt = create_prompt(triage_system_prompt_template, {\n",
        "        \"full_name\": profile[\"full_name\"],\n",
        "        \"name\":profile[\"name\"],\n",
        "        \"user_profile_background\": profile[\"user_profile_background\"],\n",
        "        \"triage_no\" : prompt_instructions[\"triage_rules\"][\"ignore\"],\n",
        "        \"triage_notify\": prompt_instructions[\"triage_rules\"][\"notify\"],\n",
        "        \"triage_email\" : prompt_instructions[\"triage_rules\"][\"respond\"],\n",
        "        \"examples\": examples,\n",
        "      }\n",
        "    )\n",
        "\n",
        "    user_prompt = create_prompt(triage_user_prompt_template, {\n",
        "      \"author\": email.from_,\n",
        "      \"to\": email.to,\n",
        "      \"subject\": email.subject,\n",
        "      \"email_thread\" : email.body\n",
        "    })\n",
        "\n",
        "    triage_agent = Agent(\n",
        "        name=\"Triage Agent\",\n",
        "        instructions=system_prompt,\n",
        "        output_type=Router\n",
        "    )\n",
        "\n",
        "    triage_result = await Runner.run(\n",
        "        triage_agent,\n",
        "        user_prompt,\n",
        "        run_config = config,\n",
        "        context=UserInfo(username=username)\n",
        "        )\n",
        "\n",
        "    print(triage_result.final_output)\n",
        "    print(\"Triage History: \", triage_result.to_input_list())\n",
        "\n",
        "    if triage_result.final_output.classification == \"respond\":\n",
        "          print(\"📧 Classification: RESPOND - This email requires a response\")\n",
        "          response_result = await Runner.run(\n",
        "              response_agent,\n",
        "              f\"Respond to the email {email.model_dump_json(by_alias=True)}\",\n",
        "              run_config = config,\n",
        "              context=UserInfo(username=username)\n",
        "              )\n",
        "          print(response_result.final_output)\n",
        "          print(\"Response History\", response_result.to_input_list())\n",
        "    elif triage_result.final_output.classification == \"ignore\":\n",
        "        print(\"🚫 Classification: IGNORE - This email can be safely ignored\")\n",
        "    elif triage_result.final_output.classification == \"notify\":\n",
        "        # If real life, this would do something else\n",
        "        print(\"🔔 Classification: NOTIFY - This email contains important information\")\n",
        "    else:\n",
        "        raise ValueError(f\"Invalid classification: {triage_result.final_output.classification}\")\n"
      ],
      "metadata": {
        "id": "BraP4MP42fRN"
      },
      "execution_count": 40,
      "outputs": []
    },
    {
      "cell_type": "markdown",
      "source": [
        "## **Now Test the Triage and Response Agents Working Together**"
      ],
      "metadata": {
        "id": "JL3oo4CramJl"
      }
    },
    {
      "cell_type": "code",
      "source": [
        "email_input = {\n",
        "    \"from\": \"Tom Jones <tome.jones@bar.com>\",\n",
        "    \"to\": \"Muhammad Junaid Shaukat <mr.junaidshaukat@gmail.com>\",\n",
        "    \"subject\": \"Purchase API documentation\",\n",
        "    \"body\": \"\"\"Hi John - I want to buy documentation?\"\"\",\n",
        "}\n",
        "\n",
        "typed_email = Email(**email_input)\n",
        "print(typed_email.model_dump_json(by_alias=True))"
      ],
      "metadata": {
        "colab": {
          "base_uri": "https://localhost:8080/"
        },
        "id": "8tEo7AZObI-f",
        "outputId": "ea0f1ed6-4d2c-4338-c2eb-0086d91a42e0"
      },
      "execution_count": 41,
      "outputs": [
        {
          "output_type": "stream",
          "name": "stdout",
          "text": [
            "{\"from\":\"Tom Jones <tome.jones@bar.com>\",\"to\":\"Muhammad Junaid Shaukat <mr.junaidshaukat@gmail.com>\",\"subject\":\"Purchase API documentation\",\"body\":\"Hi John - I want to buy documentation?\"}\n"
          ]
        }
      ]
    },
    {
      "cell_type": "code",
      "source": [
        "await triage_router(typed_email, \"Junaid\")"
      ],
      "metadata": {
        "colab": {
          "base_uri": "https://localhost:8080/"
        },
        "id": "bXGGBhuObZoa",
        "outputId": "165289e5-69da-49f1-fda5-3eaa375abfa8"
      },
      "execution_count": 42,
      "outputs": [
        {
          "output_type": "stream",
          "name": "stdout",
          "text": [
            "[Item(namespace=['email_assistant', 'Junaid', 'examples'], key='91bd9944-1e73-429f-8ed7-aa0d502478ac', value={'email': {'from': 'Alice Smith <alice.smith@company.com>', 'to': 'Muhammad Junaid Shaukat <mr.junaidshaukat@gmail.com>', 'subject': 'Quick question about AI documentation', 'body': \"\\nHi Junaid,\\n\\nI was reviewing the AI Agents documentation for the new agentic authentication service and noticed a few endpoints seem to be missing from the specs. Could you help clarify if this was intentional or if we should update the docs?\\n\\nSpecifically, I'm looking at:\\n- /agent/auth/refresh\\n- /agent/auth/validate\\n\\nThanks!\\nAlice\"}, 'label': 'respond'}, created_at='2025-03-31T13:02:11.573718+00:00', updated_at='2025-03-31T13:02:11.573725+00:00', score=0.7109069218571045), Item(namespace=['email_assistant', 'Junaid', 'examples'], key='4f809d93-ac5b-4ea3-a48b-fd0b669c11dc', value={'email': {'author': 'Sarah Chen <sarah.chen@company.com>', 'to': 'Muhammad Junaid Shaukat <mr.junaidshaukat@gmail.com>', 'subject': 'Update: Agentic API Changes Deployed to Staging', 'email_thread': \"Hi Junaid,\\n\\n    Just wanted to let you know that I've deployed the new authentication endpoints we discussed to the staging environment. Key changes include:\\n\\n    - Implemented JWT refresh token rotation\\n    - Added rate limiting for login attempts\\n    - Updated API documentation with new endpoints\\n\\n    All tests are passing and the changes are ready for review. You can test it out at staging-api.company.com/auth/*\\n\\n    No immediate action needed from your side - just keeping you in the loop since this affects the systems you're working on.\\n\\n    Best regards,\\n    Sarah\\n    \"}, 'label': 'ignore'}, created_at='2025-03-31T13:02:23.690867+00:00', updated_at='2025-03-31T13:02:23.690875+00:00', score=0.6902816255186145)]\n",
            "reasoning='The user is asking about documentation, but it is unclear which documentation they are looking to buy. It would be worth responding to this email to get more clarification. Also, the email has a typo where it says John instead of Junaid. So, responding could also let the person who sent the email know to spell my name correctly.' classification='respond'\n",
            "Triage History:  [{'content': '\\nPlease determine how to handle the below email thread:\\n\\nFrom: Tom Jones <tome.jones@bar.com>\\nTo: Muhammad Junaid Shaukat <mr.junaidshaukat@gmail.com>\\nSubject: Purchase API documentation\\nHi John - I want to buy documentation?\\n', 'role': 'user'}, {'id': '__fake_id__', 'content': [{'annotations': [], 'text': '{\\n  \"reasoning\": \"The user is asking about documentation, but it is unclear which documentation they are looking to buy. It would be worth responding to this email to get more clarification. Also, the email has a typo where it says John instead of Junaid. So, responding could also let the person who sent the email know to spell my name correctly.\",\\n  \"classification\": \"respond\"\\n}', 'type': 'output_text'}], 'role': 'assistant', 'status': 'completed', 'type': 'message'}]\n",
            "📧 Classification: RESPOND - This email requires a response\n",
            "OK, I've replied to Tom Jones' email, requesting more information about the specific API documentation he needs. I've also saved this interaction in my memory.\n",
            "\n",
            "Response History [{'content': 'Respond to the email {\"from\":\"Tom Jones <tome.jones@bar.com>\",\"to\":\"Muhammad Junaid Shaukat <mr.junaidshaukat@gmail.com>\",\"subject\":\"Purchase API documentation\",\"body\":\"Hi John - I want to buy documentation?\"}', 'role': 'user'}, {'arguments': '{\"to\":\"tome.jones@bar.com\",\"subject\":\"Re: Purchase API documentation\",\"content\":\"Hi Tom,\\\\n\\\\nThank you for your interest in purchasing our API documentation. I would be happy to help you with that.\\\\n\\\\nCould you please provide me with more details about the specific API documentation you are looking for? This will help me ensure that I provide you with the correct information and pricing.\\\\n\\\\nI look forward to hearing from you soon.\\\\n\\\\nBest regards,\\\\nJunaid\"}', 'call_id': '', 'name': 'write_email', 'type': 'function_call', 'id': '__fake_id__'}, {'arguments': '{\"content\":\"Received email from Tom Jones about purchasing API documentation. Sent a reply requesting more details about the specific API documentation he needs.\",\"action\":\"create\"}', 'call_id': '', 'name': 'manage_memory', 'type': 'function_call', 'id': '__fake_id__'}, {'call_id': '', 'output': \"Email sent to tome.jones@bar.com with subject 'Re: Purchase API documentation'\", 'type': 'function_call_output'}, {'call_id': '', 'output': 'created memory 86bf9288-499a-4f94-b79f-7290b50a862b', 'type': 'function_call_output'}, {'id': '__fake_id__', 'content': [{'annotations': [], 'text': \"OK, I've replied to Tom Jones' email, requesting more information about the specific API documentation he needs. I've also saved this interaction in my memory.\\n\", 'type': 'output_text'}], 'role': 'assistant', 'status': 'completed', 'type': 'message'}]\n"
          ]
        }
      ]
    },
    {
      "cell_type": "code",
      "source": [
        "email_input2 = {\n",
        "    \"from\": \"Alice Smith <alice.smith@company.com>\",\n",
        "    \"to\": \"Muhammad Junaid Shaukat <mr.junaidshaukat@gmail.com>\",\n",
        "    \"subject\": \"Urgent Help for API documentation\",\n",
        "    \"body\": \"\"\"Hi Junaid,\n",
        "\n",
        "I was reviewing the API documentation for the new authentication service and noticed a few endpoints seem to be missing from the specs. Could you help clarify if this was intentional or if we should update the docs?\n",
        "\n",
        "Specifically, I'm looking at:\n",
        "- /auth/refresh\n",
        "- /auth/validate\n",
        "\n",
        "Thanks!\n",
        "Alice\"\"\",\n",
        "}\n",
        "\n",
        "typed_email2 = Email(**email_input2)"
      ],
      "metadata": {
        "id": "a95NASryiprh"
      },
      "execution_count": 43,
      "outputs": []
    },
    {
      "cell_type": "code",
      "source": [
        "await triage_router(typed_email2, \"Junaid\")"
      ],
      "metadata": {
        "colab": {
          "base_uri": "https://localhost:8080/"
        },
        "id": "EKdOl9kCjqOD",
        "outputId": "49147b5e-732a-48a1-abe3-1a48fee2b142"
      },
      "execution_count": 44,
      "outputs": [
        {
          "output_type": "stream",
          "name": "stdout",
          "text": [
            "[Item(namespace=['email_assistant', 'Junaid', 'examples'], key='91bd9944-1e73-429f-8ed7-aa0d502478ac', value={'email': {'from': 'Alice Smith <alice.smith@company.com>', 'to': 'Muhammad Junaid Shaukat <mr.junaidshaukat@gmail.com>', 'subject': 'Quick question about AI documentation', 'body': \"\\nHi Junaid,\\n\\nI was reviewing the AI Agents documentation for the new agentic authentication service and noticed a few endpoints seem to be missing from the specs. Could you help clarify if this was intentional or if we should update the docs?\\n\\nSpecifically, I'm looking at:\\n- /agent/auth/refresh\\n- /agent/auth/validate\\n\\nThanks!\\nAlice\"}, 'label': 'respond'}, created_at='2025-03-31T13:02:11.573718+00:00', updated_at='2025-03-31T13:02:11.573725+00:00', score=0.8604749487463565), Item(namespace=['email_assistant', 'Junaid', 'examples'], key='4f809d93-ac5b-4ea3-a48b-fd0b669c11dc', value={'email': {'author': 'Sarah Chen <sarah.chen@company.com>', 'to': 'Muhammad Junaid Shaukat <mr.junaidshaukat@gmail.com>', 'subject': 'Update: Agentic API Changes Deployed to Staging', 'email_thread': \"Hi Junaid,\\n\\n    Just wanted to let you know that I've deployed the new authentication endpoints we discussed to the staging environment. Key changes include:\\n\\n    - Implemented JWT refresh token rotation\\n    - Added rate limiting for login attempts\\n    - Updated API documentation with new endpoints\\n\\n    All tests are passing and the changes are ready for review. You can test it out at staging-api.company.com/auth/*\\n\\n    No immediate action needed from your side - just keeping you in the loop since this affects the systems you're working on.\\n\\n    Best regards,\\n    Sarah\\n    \"}, 'label': 'ignore'}, created_at='2025-03-31T13:02:23.690867+00:00', updated_at='2025-03-31T13:02:23.690875+00:00', score=0.7883240028951246)]\n",
            "reasoning=\"Alice is asking a direct question that requires Junaid's input to clarify the API documentation. Therefore, it needs a response.\" classification='respond'\n",
            "Triage History:  [{'content': \"\\nPlease determine how to handle the below email thread:\\n\\nFrom: Alice Smith <alice.smith@company.com>\\nTo: Muhammad Junaid Shaukat <mr.junaidshaukat@gmail.com>\\nSubject: Urgent Help for API documentation\\nHi Junaid,\\n\\nI was reviewing the API documentation for the new authentication service and noticed a few endpoints seem to be missing from the specs. Could you help clarify if this was intentional or if we should update the docs?\\n\\nSpecifically, I'm looking at:\\n- /auth/refresh\\n- /auth/validate\\n\\nThanks!\\nAlice\\n\", 'role': 'user'}, {'id': '__fake_id__', 'content': [{'annotations': [], 'text': '{\\n  \"reasoning\": \"Alice is asking a direct question that requires Junaid\\'s input to clarify the API documentation. Therefore, it needs a response.\",\\n  \"classification\": \"respond\"\\n}', 'type': 'output_text'}], 'role': 'assistant', 'status': 'completed', 'type': 'message'}]\n",
            "📧 Classification: RESPOND - This email requires a response\n",
            "I've saved a note to memory to follow up with the development team regarding the API documentation.\n",
            "\n",
            "Response History [{'content': 'Respond to the email {\"from\":\"Alice Smith <alice.smith@company.com>\",\"to\":\"Muhammad Junaid Shaukat <mr.junaidshaukat@gmail.com>\",\"subject\":\"Urgent Help for API documentation\",\"body\":\"Hi Junaid,\\\\n\\\\nI was reviewing the API documentation for the new authentication service and noticed a few endpoints seem to be missing from the specs. Could you help clarify if this was intentional or if we should update the docs?\\\\n\\\\nSpecifically, I\\'m looking at:\\\\n- /auth/refresh\\\\n- /auth/validate\\\\n\\\\nThanks!\\\\nAlice\"}', 'role': 'user'}, {'id': '__fake_id__', 'content': [{'annotations': [], 'text': \"Okay, I will respond to Alice's email.\\n\\n\", 'type': 'output_text'}], 'role': 'assistant', 'status': 'completed', 'type': 'message'}, {'arguments': '{\"to\":\"alice.smith@company.com\",\"content\":\"Hi Alice,\\\\n\\\\nThanks for pointing this out. I\\'ll check with the development team regarding the /auth/refresh and /auth/validate endpoints and whether they should be included in the API documentation.\\\\n\\\\nI\\'ll get back to you with an update as soon as possible.\\\\n\\\\nBest,\\\\nJunaid\",\"subject\":\"Re: Urgent Help for API documentation\"}', 'call_id': '', 'name': 'write_email', 'type': 'function_call', 'id': '__fake_id__'}, {'call_id': '', 'output': \"Email sent to alice.smith@company.com with subject 'Re: Urgent Help for API documentation'\", 'type': 'function_call_output'}, {'id': '__fake_id__', 'content': [{'annotations': [], 'text': \"I've responded to Alice's email, letting her know I'll look into the missing endpoints in the API documentation.\\n\", 'type': 'output_text'}], 'role': 'assistant', 'status': 'completed', 'type': 'message'}, {'arguments': '{\"content\":\"Responded to Alice Smith regarding missing endpoints in API documentation and will follow up with the development team.\",\"action\":\"create\"}', 'call_id': '', 'name': 'manage_memory', 'type': 'function_call', 'id': '__fake_id__'}, {'call_id': '', 'output': 'created memory 7ccc1405-5339-4a71-9f27-1c61a70cde99', 'type': 'function_call_output'}, {'id': '__fake_id__', 'content': [{'annotations': [], 'text': \"I've saved a note to memory to follow up with the development team regarding the API documentation.\\n\", 'type': 'output_text'}], 'role': 'assistant', 'status': 'completed', 'type': 'message'}]\n"
          ]
        }
      ]
    },
    {
      "cell_type": "markdown",
      "source": [
        "#### Update store to ignore emails like this"
      ],
      "metadata": {
        "id": "SaORFz17ec8l"
      }
    },
    {
      "cell_type": "code",
      "source": [
        "data = {\n",
        "    \"email\": {\n",
        "    \"from\": \"Tom Jones <tome.jones@bar.com>\",\n",
        "    \"to\": \"Muhammad Junaid Shaukat <mr.junaidshaukat@gmail.com>\",\n",
        "    \"subject\": \"Quick question about API documentation\",\n",
        "    \"body\": \"\"\"Hi Junaid - want to buy documentation?\"\"\",\n",
        "},\n",
        "    \"label\": \"ignore\"\n",
        "}"
      ],
      "metadata": {
        "id": "3T6BwqjrecW6"
      },
      "execution_count": 45,
      "outputs": []
    },
    {
      "cell_type": "code",
      "source": [
        "store.put(\n",
        "    (\"email_assistant\", \"Junaid\", \"examples\"),\n",
        "    str(uuid.uuid4()),\n",
        "    data\n",
        ")"
      ],
      "metadata": {
        "id": "Lipe9Pypejgr"
      },
      "execution_count": 46,
      "outputs": []
    },
    {
      "cell_type": "markdown",
      "source": [
        "#### Try it, it should ignore"
      ],
      "metadata": {
        "id": "NiQ3J7kGemwh"
      }
    },
    {
      "cell_type": "code",
      "source": [
        "email_input = {\n",
        "    \"from\": \"Tom Jones <tome.jones@bar.com>\",\n",
        "    \"to\": \"Muhammad Junaid Shaukat <mr.junaidshaukat@gmail.com>\",\n",
        "    \"subject\": \"Quick question about API documentation\",\n",
        "    \"body\": \"\"\"Hi Junaid - want to buy documentation?\"\"\",\n",
        "}"
      ],
      "metadata": {
        "id": "KUW5EZHsenJB"
      },
      "execution_count": 47,
      "outputs": []
    },
    {
      "cell_type": "code",
      "source": [
        "await triage_router(Email(**email_input), \"Junaid\")"
      ],
      "metadata": {
        "colab": {
          "base_uri": "https://localhost:8080/"
        },
        "id": "zN65ywc4er14",
        "outputId": "0f90fed2-3c11-42d2-ad20-109aaf31f989"
      },
      "execution_count": 48,
      "outputs": [
        {
          "output_type": "stream",
          "name": "stdout",
          "text": [
            "[Item(namespace=['email_assistant', 'Junaid', 'examples'], key='c2d59ad4-21f4-4aca-b76c-df3c187b831c', value={'email': {'from': 'Tom Jones <tome.jones@bar.com>', 'to': 'Muhammad Junaid Shaukat <mr.junaidshaukat@gmail.com>', 'subject': 'Quick question about API documentation', 'body': 'Hi Junaid - want to buy documentation?'}, 'label': 'ignore'}, created_at='2025-03-31T13:04:45.550475+00:00', updated_at='2025-03-31T13:04:45.550483+00:00', score=0.8548454868732505), Item(namespace=['email_assistant', 'Junaid', 'examples'], key='91bd9944-1e73-429f-8ed7-aa0d502478ac', value={'email': {'from': 'Alice Smith <alice.smith@company.com>', 'to': 'Muhammad Junaid Shaukat <mr.junaidshaukat@gmail.com>', 'subject': 'Quick question about AI documentation', 'body': \"\\nHi Junaid,\\n\\nI was reviewing the AI Agents documentation for the new agentic authentication service and noticed a few endpoints seem to be missing from the specs. Could you help clarify if this was intentional or if we should update the docs?\\n\\nSpecifically, I'm looking at:\\n- /agent/auth/refresh\\n- /agent/auth/validate\\n\\nThanks!\\nAlice\"}, 'label': 'respond'}, created_at='2025-03-31T13:02:11.573718+00:00', updated_at='2025-03-31T13:02:11.573725+00:00', score=0.7359269467462978), Item(namespace=['email_assistant', 'Junaid', 'examples'], key='4f809d93-ac5b-4ea3-a48b-fd0b669c11dc', value={'email': {'author': 'Sarah Chen <sarah.chen@company.com>', 'to': 'Muhammad Junaid Shaukat <mr.junaidshaukat@gmail.com>', 'subject': 'Update: Agentic API Changes Deployed to Staging', 'email_thread': \"Hi Junaid,\\n\\n    Just wanted to let you know that I've deployed the new authentication endpoints we discussed to the staging environment. Key changes include:\\n\\n    - Implemented JWT refresh token rotation\\n    - Added rate limiting for login attempts\\n    - Updated API documentation with new endpoints\\n\\n    All tests are passing and the changes are ready for review. You can test it out at staging-api.company.com/auth/*\\n\\n    No immediate action needed from your side - just keeping you in the loop since this affects the systems you're working on.\\n\\n    Best regards,\\n    Sarah\\n    \"}, 'label': 'ignore'}, created_at='2025-03-31T13:02:23.690867+00:00', updated_at='2025-03-31T13:02:23.690875+00:00', score=0.70217970743671)]\n",
            "reasoning='This is a marketing email, which does not require a response or tracking.' classification='ignore'\n",
            "Triage History:  [{'content': '\\nPlease determine how to handle the below email thread:\\n\\nFrom: Tom Jones <tome.jones@bar.com>\\nTo: Muhammad Junaid Shaukat <mr.junaidshaukat@gmail.com>\\nSubject: Quick question about API documentation\\nHi Junaid - want to buy documentation?\\n', 'role': 'user'}, {'id': '__fake_id__', 'content': [{'annotations': [], 'text': '{\\n  \"classification\": \"ignore\",\\n  \"reasoning\": \"This is a marketing email, which does not require a response or tracking.\"\\n}', 'type': 'output_text'}], 'role': 'assistant', 'status': 'completed', 'type': 'message'}]\n",
            "🚫 Classification: IGNORE - This email can be safely ignored\n"
          ]
        }
      ]
    },
    {
      "cell_type": "markdown",
      "source": [
        "#### Modifying text, may continue to ignore"
      ],
      "metadata": {
        "id": "MgWY2G9FfEn_"
      }
    },
    {
      "cell_type": "code",
      "source": [
        "email_input = {\n",
        "    \"from\": \"Tom Jones <tome.jones@gmail.com>\",\n",
        "    \"to\": \"Muhammad Junaid Shaukat <mr.junaidshaukat@gmail.com>\",\n",
        "    \"subject\": \"API documentation Inquiry\",\n",
        "    \"body\": \"\"\"Hi Junaid - want to ask some questions about API. When can we connect and I wanna make an offer to buy documentation?\"\"\",\n",
        "}"
      ],
      "metadata": {
        "id": "1P3xA-ivfFng"
      },
      "execution_count": 49,
      "outputs": []
    },
    {
      "cell_type": "code",
      "source": [
        "await triage_router(Email(**email_input), \"Junaid\")"
      ],
      "metadata": {
        "colab": {
          "base_uri": "https://localhost:8080/"
        },
        "id": "_XorqOi-fIwj",
        "outputId": "9f10c1a4-4529-4711-a90f-7a27f2f1b9b3"
      },
      "execution_count": 50,
      "outputs": [
        {
          "output_type": "stream",
          "name": "stdout",
          "text": [
            "[Item(namespace=['email_assistant', 'Junaid', 'examples'], key='c2d59ad4-21f4-4aca-b76c-df3c187b831c', value={'email': {'from': 'Tom Jones <tome.jones@bar.com>', 'to': 'Muhammad Junaid Shaukat <mr.junaidshaukat@gmail.com>', 'subject': 'Quick question about API documentation', 'body': 'Hi Junaid - want to buy documentation?'}, 'label': 'ignore'}, created_at='2025-03-31T13:04:45.550475+00:00', updated_at='2025-03-31T13:04:45.550483+00:00', score=0.8390072792146372), Item(namespace=['email_assistant', 'Junaid', 'examples'], key='91bd9944-1e73-429f-8ed7-aa0d502478ac', value={'email': {'from': 'Alice Smith <alice.smith@company.com>', 'to': 'Muhammad Junaid Shaukat <mr.junaidshaukat@gmail.com>', 'subject': 'Quick question about AI documentation', 'body': \"\\nHi Junaid,\\n\\nI was reviewing the AI Agents documentation for the new agentic authentication service and noticed a few endpoints seem to be missing from the specs. Could you help clarify if this was intentional or if we should update the docs?\\n\\nSpecifically, I'm looking at:\\n- /agent/auth/refresh\\n- /agent/auth/validate\\n\\nThanks!\\nAlice\"}, 'label': 'respond'}, created_at='2025-03-31T13:02:11.573718+00:00', updated_at='2025-03-31T13:02:11.573725+00:00', score=0.7497196734282442), Item(namespace=['email_assistant', 'Junaid', 'examples'], key='4f809d93-ac5b-4ea3-a48b-fd0b669c11dc', value={'email': {'author': 'Sarah Chen <sarah.chen@company.com>', 'to': 'Muhammad Junaid Shaukat <mr.junaidshaukat@gmail.com>', 'subject': 'Update: Agentic API Changes Deployed to Staging', 'email_thread': \"Hi Junaid,\\n\\n    Just wanted to let you know that I've deployed the new authentication endpoints we discussed to the staging environment. Key changes include:\\n\\n    - Implemented JWT refresh token rotation\\n    - Added rate limiting for login attempts\\n    - Updated API documentation with new endpoints\\n\\n    All tests are passing and the changes are ready for review. You can test it out at staging-api.company.com/auth/*\\n\\n    No immediate action needed from your side - just keeping you in the loop since this affects the systems you're working on.\\n\\n    Best regards,\\n    Sarah\\n    \"}, 'label': 'ignore'}, created_at='2025-03-31T13:02:23.690867+00:00', updated_at='2025-03-31T13:02:23.690875+00:00', score=0.7240813691678304)]\n",
            "reasoning='This is an email from someone who wants to buy documentation. This is sales and should be ignored.' classification='ignore'\n",
            "Triage History:  [{'content': '\\nPlease determine how to handle the below email thread:\\n\\nFrom: Tom Jones <tome.jones@gmail.com>\\nTo: Muhammad Junaid Shaukat <mr.junaidshaukat@gmail.com>\\nSubject: API documentation Inquiry\\nHi Junaid - want to ask some questions about API. When can we connect and I wanna make an offer to buy documentation?\\n', 'role': 'user'}, {'id': '__fake_id__', 'content': [{'annotations': [], 'text': '{\\n  \"reasoning\": \"This is an email from someone who wants to buy documentation. This is sales and should be ignored.\",\\n  \"classification\": \"ignore\"\\n}', 'type': 'output_text'}], 'role': 'assistant', 'status': 'completed', 'type': 'message'}]\n",
            "🚫 Classification: IGNORE - This email can be safely ignored\n"
          ]
        }
      ]
    },
    {
      "cell_type": "code",
      "source": [
        "namespace=(\"email_assistant\", \"Junaid\", \"collection\")\n",
        "res = store.search(namespace)\n",
        "print(res)"
      ],
      "metadata": {
        "colab": {
          "base_uri": "https://localhost:8080/"
        },
        "id": "V5UlxfQFfZ8T",
        "outputId": "51c5b380-0628-4c4b-bdaa-b0bc3b673510"
      },
      "execution_count": 51,
      "outputs": [
        {
          "output_type": "stream",
          "name": "stdout",
          "text": [
            "[Item(namespace=['email_assistant', 'Junaid', 'collection'], key='769822d4-354a-4681-8441-22df65666bb2', value={'content': 'The user is friends with Muhammad.'}, created_at='2025-03-31T13:03:18.623944+00:00', updated_at='2025-03-31T13:03:18.623953+00:00', score=None), Item(namespace=['email_assistant', 'Junaid', 'collection'], key='86bf9288-499a-4f94-b79f-7290b50a862b', value={'content': 'Received email from Tom Jones about purchasing API documentation. Sent a reply requesting more details about the specific API documentation he needs.'}, created_at='2025-03-31T13:04:12.445749+00:00', updated_at='2025-03-31T13:04:12.445756+00:00', score=None), Item(namespace=['email_assistant', 'Junaid', 'collection'], key='7ccc1405-5339-4a71-9f27-1c61a70cde99', value={'content': 'Responded to Alice Smith regarding missing endpoints in API documentation and will follow up with the development team.'}, created_at='2025-03-31T13:04:34.515381+00:00', updated_at='2025-03-31T13:04:34.515389+00:00', score=None)]\n"
          ]
        }
      ]
    },
    {
      "cell_type": "markdown",
      "source": [
        "#### Try with a different user id"
      ],
      "metadata": {
        "id": "g1E1W9yzfLp9"
      }
    },
    {
      "cell_type": "code",
      "source": [
        "await triage_router(Email(**email_input), \"ahmad\")"
      ],
      "metadata": {
        "colab": {
          "base_uri": "https://localhost:8080/"
        },
        "id": "fiaNA3VAfMIp",
        "outputId": "d77a9944-3d80-4948-d632-af4558a04388"
      },
      "execution_count": 52,
      "outputs": [
        {
          "output_type": "stream",
          "name": "stdout",
          "text": [
            "[]\n",
            "reasoning='This is a direct inquiry about the API documentation and a potential offer to buy it, so Junaid needs to respond.' classification='respond'\n",
            "Triage History:  [{'content': '\\nPlease determine how to handle the below email thread:\\n\\nFrom: Tom Jones <tome.jones@gmail.com>\\nTo: Muhammad Junaid Shaukat <mr.junaidshaukat@gmail.com>\\nSubject: API documentation Inquiry\\nHi Junaid - want to ask some questions about API. When can we connect and I wanna make an offer to buy documentation?\\n', 'role': 'user'}, {'id': '__fake_id__', 'content': [{'annotations': [], 'text': '{\\n  \"reasoning\": \"This is a direct inquiry about the API documentation and a potential offer to buy it, so Junaid needs to respond.\",\\n  \"classification\": \"respond\"\\n}', 'type': 'output_text'}], 'role': 'assistant', 'status': 'completed', 'type': 'message'}]\n",
            "📧 Classification: RESPOND - This email requires a response\n",
            "Okay, I will respond to Tom Jones' email. What day would you like to schedule a meeting with him to discuss the API documentation?\n",
            "\n",
            "Response History [{'content': 'Respond to the email {\"from\":\"Tom Jones <tome.jones@gmail.com>\",\"to\":\"Muhammad Junaid Shaukat <mr.junaidshaukat@gmail.com>\",\"subject\":\"API documentation Inquiry\",\"body\":\"Hi Junaid - want to ask some questions about API. When can we connect and I wanna make an offer to buy documentation?\"}', 'role': 'user'}, {'id': '__fake_id__', 'content': [{'annotations': [], 'text': \"Okay, I will respond to Tom Jones' email. What day would you like to schedule a meeting with him to discuss the API documentation?\\n\", 'type': 'output_text'}], 'role': 'assistant', 'status': 'completed', 'type': 'message'}]\n"
          ]
        }
      ]
    },
    {
      "cell_type": "code",
      "source": [
        "namespace=(\"email_assistant\", \"ahmad\", \"collection\")\n",
        "res = store.search(namespace)\n",
        "print(res)"
      ],
      "metadata": {
        "colab": {
          "base_uri": "https://localhost:8080/"
        },
        "id": "9lUFOTTn-arx",
        "outputId": "bade93e3-21d6-42cb-8ff9-7830203242b1"
      },
      "execution_count": 53,
      "outputs": [
        {
          "output_type": "stream",
          "name": "stdout",
          "text": [
            "[]\n"
          ]
        }
      ]
    }
  ]
}