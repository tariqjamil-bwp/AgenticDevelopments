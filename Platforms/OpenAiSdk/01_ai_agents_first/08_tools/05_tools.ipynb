{
  "nbformat": 4,
  "nbformat_minor": 0,
  "metadata": {
    "colab": {
      "provenance": []
    },
    "kernelspec": {
      "name": "python3",
      "display_name": "Python 3"
    },
    "language_info": {
      "name": "python"
    }
  },
  "cells": [
    {
      "cell_type": "markdown",
      "source": [
        "# Install openai-agents SDK"
      ],
      "metadata": {
        "id": "PdKwzEluDBN7"
      }
    },
    {
      "cell_type": "code",
      "source": [
        "!pip install -Uq openai-agents"
      ],
      "metadata": {
        "id": "3QdkOviEB2ay",
        "colab": {
          "base_uri": "https://localhost:8080/"
        },
        "outputId": "d558d9ba-c9c5-4f4c-cb51-72b50b7fcb98"
      },
      "execution_count": null,
      "outputs": [
        {
          "output_type": "stream",
          "name": "stdout",
          "text": [
            "\u001b[?25l   \u001b[90m━━━━━━━━━━━━━━━━━━━━━━━━━━━━━━━━━━━━━━━━\u001b[0m \u001b[32m0.0/76.1 kB\u001b[0m \u001b[31m?\u001b[0m eta \u001b[36m-:--:--\u001b[0m\r\u001b[2K   \u001b[90m━━━━━━━━━━━━━━━━━━━━━━━━━━━━━━━━━━━━━━━━\u001b[0m \u001b[32m76.1/76.1 kB\u001b[0m \u001b[31m2.6 MB/s\u001b[0m eta \u001b[36m0:00:00\u001b[0m\n",
            "\u001b[2K   \u001b[90m━━━━━━━━━━━━━━━━━━━━━━━━━━━━━━━━━━━━━━━━\u001b[0m \u001b[32m128.5/128.5 kB\u001b[0m \u001b[31m4.5 MB/s\u001b[0m eta \u001b[36m0:00:00\u001b[0m\n",
            "\u001b[2K   \u001b[90m━━━━━━━━━━━━━━━━━━━━━━━━━━━━━━━━━━━━━━━━\u001b[0m \u001b[32m567.4/567.4 kB\u001b[0m \u001b[31m12.5 MB/s\u001b[0m eta \u001b[36m0:00:00\u001b[0m\n",
            "\u001b[?25h"
          ]
        }
      ]
    },
    {
      "cell_type": "markdown",
      "source": [
        "# Make your Jupyter Notebook capable of running asynchronous functions."
      ],
      "metadata": {
        "id": "7yD91lz4DIAx"
      }
    },
    {
      "cell_type": "code",
      "source": [
        "import nest_asyncio\n",
        "nest_asyncio.apply()"
      ],
      "metadata": {
        "id": "7A5YLi3HCfBV"
      },
      "execution_count": null,
      "outputs": []
    },
    {
      "cell_type": "markdown",
      "source": [
        "# Run Google Gemini with OPENAI-Agent SDK"
      ],
      "metadata": {
        "id": "K3VTUWDaGFcV"
      }
    },
    {
      "cell_type": "code",
      "source": [
        "import os\n",
        "from agents import Agent, Runner, AsyncOpenAI, OpenAIChatCompletionsModel\n",
        "from agents.run import RunConfig\n",
        "from google.colab import userdata\n",
        "\n",
        "\n",
        "gemini_api_key = userdata.get(\"GEMINI_API_KEY\")\n",
        "\n",
        "\n",
        "# Check if the API key is present; if not, raise an error\n",
        "if not gemini_api_key:\n",
        "    raise ValueError(\"GEMINI_API_KEY is not set. Please ensure it is defined in your .env file.\")\n",
        "\n",
        "#Reference: https://ai.google.dev/gemini-api/docs/openai\n",
        "external_client = AsyncOpenAI(\n",
        "    api_key=gemini_api_key,\n",
        "    base_url=\"https://generativelanguage.googleapis.com/v1beta/openai/\",\n",
        ")\n",
        "\n",
        "model = OpenAIChatCompletionsModel(\n",
        "    model=\"gemini-2.0-flash\",\n",
        "    openai_client=external_client\n",
        ")\n",
        "\n",
        "config = RunConfig(\n",
        "    model=model,\n",
        "    model_provider=external_client,\n",
        "    tracing_disabled=True\n",
        ")"
      ],
      "metadata": {
        "id": "QSIWS6RvC-a4"
      },
      "execution_count": null,
      "outputs": []
    },
    {
      "cell_type": "code",
      "source": [
        "import os\n",
        "from agents import Agent, Runner, AsyncOpenAI, OpenAIChatCompletionsModel, set_default_openai_client\n",
        "from agents.run import RunConfig\n",
        "from google.colab import userdata\n",
        "\n",
        "\n",
        "gemini_api_key = userdata.get(\"GEMINI_API_KEY\")\n",
        "\n",
        "\n",
        "external_client = AsyncOpenAI(\n",
        "    api_key=gemini_api_key,\n",
        "    base_url=\"https://generativelanguage.googleapis.com/v1beta/openai/\",\n",
        ")\n",
        "set_default_openai_client(external_client)"
      ],
      "metadata": {
        "id": "GsQmoaAAJ4JT"
      },
      "execution_count": null,
      "outputs": []
    },
    {
      "cell_type": "markdown",
      "source": [
        "# Tools\n",
        "The OpenAI Agents SDK provides a robust framework for integrating various tools into agents, enabling them to perform tasks such as data retrieval, web searches, and code execution. Here's an overview of the key points regarding tool integration:\n",
        "\n",
        "**Types of Tools:**\n",
        "\n",
        "1. **Hosted Tools:** These are pre-built tools running on OpenAI's servers, accessible via the [`OpenAIResponsesModel`]. Examples include:\n",
        "   - **WebSearchTool:** Enables agents to perform web searches.\n",
        "   - **FileSearchTool:** Allows retrieval of information from OpenAI Vector Stores.\n",
        "   - **ComputerTool:** Facilitates automation of computer-based tasks.\n",
        "\n",
        "2. **Function Calling:** This feature allows agents to utilize any Python function as a tool, enhancing their versatility.\n",
        "\n",
        "3. **Agents as Tools:** Agents can employ other agents as tools, enabling hierarchical task management without transferring control.\n",
        "\n",
        "**Implementing Tools:**\n",
        "\n",
        "- **Function Tools:** By decorating Python functions with `@function_tool`, they can be seamlessly integrated as tools for agents.\n",
        "\n",
        "**Tool Execution Flow:**\n",
        "\n",
        "- During an agent's operation, if a tool call is identified in the response, the SDK processes the tool call, appends the tool's response to the message history, and continues the loop until a final output is produced.\n",
        "\n",
        "**Error Handling:**\n",
        "\n",
        "- The SDK offers mechanisms to handle errors gracefully, allowing agents to recover from tool-related issues and continue their tasks effectively.\n",
        "\n",
        "For a comprehensive understanding and implementation details, refer to the [tools documentation](https://github.com/openai/openai-agents-python/blob/main/docs/tools.md)."
      ],
      "metadata": {
        "id": "FXBrF52IPBM9"
      }
    },
    {
      "cell_type": "markdown",
      "source": [
        "# Create tools"
      ],
      "metadata": {
        "id": "jLqBzJVcBQwU"
      }
    },
    {
      "cell_type": "code",
      "source": [
        "from agents.tool import function_tool"
      ],
      "metadata": {
        "id": "enCDgHfABsEO"
      },
      "execution_count": null,
      "outputs": []
    },
    {
      "cell_type": "code",
      "source": [
        "@function_tool(\"get_weather\")\n",
        "def get_weather(location: str, unit: str = \"C\") -> str:\n",
        "  \"\"\"\n",
        "  Fetch the weather for a given location, returning a short description.\n",
        "  \"\"\"\n",
        "  # Example logic\n",
        "  return f\"The weather in {location} is 22 degrees {unit}.\""
      ],
      "metadata": {
        "id": "ULWmuAWsBSb8"
      },
      "execution_count": null,
      "outputs": []
    },
    {
      "cell_type": "code",
      "source": [
        "@function_tool(\"piaic_student_finder\")\n",
        "def student_finder(student_roll: int) -> str:\n",
        "  \"\"\"\n",
        "  find the PIAIC student based on the roll number\n",
        "  \"\"\"\n",
        "  data = {1: \"Qasim\",\n",
        "          2: \"Sir Zia\",\n",
        "          3: \"Daniyal\"}\n",
        "\n",
        "  return data.get(student_roll, \"Not Found\")"
      ],
      "metadata": {
        "id": "6pP3qlQDB27P"
      },
      "execution_count": null,
      "outputs": []
    },
    {
      "cell_type": "markdown",
      "source": [
        "# Connect tools with Agent"
      ],
      "metadata": {
        "id": "sVs3-Q8HK_VI"
      }
    },
    {
      "cell_type": "code",
      "source": [
        "import asyncio\n",
        "\n",
        "from agents import Agent, Runner\n",
        "\n",
        "\n",
        "async def main():\n",
        "    agent = Agent(\n",
        "        name=\"Assistant\",\n",
        "        instructions=\"You only respond in haikus.\",\n",
        "        tools=[get_weather, student_finder], # add tools here\n",
        "        model=model\n",
        "    )\n",
        "\n",
        "    result = await Runner.run(agent, \"Share PIAIC roll no1 student details.\")\n",
        "    print(result.final_output)\n",
        "\n",
        "\n",
        "\n",
        "if __name__ == \"__main__\":\n",
        "    asyncio.run(main())"
      ],
      "metadata": {
        "id": "741wmWdpS22Z",
        "colab": {
          "base_uri": "https://localhost:8080/"
        },
        "outputId": "6df2c623-15ae-47f0-b534-6a209cc8a3cc"
      },
      "execution_count": null,
      "outputs": [
        {
          "output_type": "stream",
          "name": "stdout",
          "text": [
            "Qasim is the name.\n",
            "Roll number one is his own.\n",
            "A bright future dawns.\n",
            "\n"
          ]
        }
      ]
    }
  ]
}