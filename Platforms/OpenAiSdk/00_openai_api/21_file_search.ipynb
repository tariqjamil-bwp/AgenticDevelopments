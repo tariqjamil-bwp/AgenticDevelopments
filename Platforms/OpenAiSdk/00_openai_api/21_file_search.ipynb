{
  "nbformat": 4,
  "nbformat_minor": 0,
  "metadata": {
    "colab": {
      "provenance": []
    },
    "kernelspec": {
      "name": "python3",
      "display_name": "Python 3"
    },
    "language_info": {
      "name": "python"
    }
  },
  "cells": [
    {
      "cell_type": "code",
      "execution_count": null,
      "metadata": {
        "id": "3xW4O0zuKfWD"
      },
      "outputs": [],
      "source": [
        "import os\n",
        "from openai import OpenAI\n",
        "import rich\n",
        "import requests\n",
        "from io import BytesIO\n",
        "from google.colab import userdata"
      ]
    },
    {
      "cell_type": "code",
      "source": [
        "api_key = userdata.get('OPENAI_API_KEY')\n",
        "MODEL = \"gpt-4o-mini\"\n",
        "\n",
        "openai = OpenAI(api_key=api_key)"
      ],
      "metadata": {
        "id": "vUydnLeLKs03"
      },
      "execution_count": null,
      "outputs": []
    },
    {
      "cell_type": "markdown",
      "source": [
        "## File Search is only part of Responses API"
      ],
      "metadata": {
        "id": "blCx6gu1Vl46"
      }
    },
    {
      "cell_type": "markdown",
      "source": [
        "https://platform.openai.com/docs/guides/tools-file-search"
      ],
      "metadata": {
        "id": "wSqr0gLd4CmV"
      }
    },
    {
      "cell_type": "markdown",
      "source": [
        "File Search works with a vector store, which we will need to create within OpenAI. The entire process, including storing the file, generating embeddings, and searching within the vector store, will be managed by OpenAI"
      ],
      "metadata": {
        "id": "tCzSosP5K-JR"
      }
    },
    {
      "cell_type": "markdown",
      "source": [
        "\n",
        "\n",
        "---\n",
        "\n"
      ],
      "metadata": {
        "id": "2VBfmcad6b3f"
      }
    },
    {
      "cell_type": "markdown",
      "source": [
        "The `create_file` function uploads a file to the OpenAI API and supports both remote and local files.\n",
        "If the file path is a URL, it downloads the file content, stores it in memory and then upload"
      ],
      "metadata": {
        "id": "8bbbIp3z6YJ6"
      }
    },
    {
      "cell_type": "code",
      "source": [
        "# Create function to Upload a file\n",
        "def create_file(openai, file_path):\n",
        "    if file_path.startswith(\"http://\") or file_path.startswith(\"https://\"):\n",
        "        # Download the file content from the URL\n",
        "        response = requests.get(file_path)\n",
        "        file_content = BytesIO(response.content)\n",
        "        file_name = file_path.split(\"/\")[-1]\n",
        "        file_tuple = (file_name, file_content)\n",
        "        result = openai.files.create(\n",
        "            file=file_tuple,\n",
        "            purpose=\"assistants\"\n",
        "        )\n",
        "    else:\n",
        "        # Handle local file path\n",
        "        with open(file_path, \"rb\") as file_content:\n",
        "            result = openai.files.create(\n",
        "                file=file_content,\n",
        "                purpose=\"assistants\"\n",
        "            )\n",
        "    print(result.id)\n",
        "    return result.id"
      ],
      "metadata": {
        "id": "gUjC_PQCcETm"
      },
      "execution_count": null,
      "outputs": []
    },
    {
      "cell_type": "markdown",
      "source": [
        "##### Call function to upload a file"
      ],
      "metadata": {
        "id": "rTkY7k256pFG"
      }
    },
    {
      "cell_type": "code",
      "source": [
        "file_id = create_file(openai, \"https://cdn.openai.com/API/docs/deep_research_blog.pdf\")\n",
        "# file_id = create_file(openai, \"docs/Panaversity-Certified-Agentic-and-Robotic-AI-Engineer.pdf\")"
      ],
      "metadata": {
        "colab": {
          "base_uri": "https://localhost:8080/"
        },
        "id": "QvgC2sP46pmr",
        "outputId": "e4049e54-bb77-4d71-bc73-274b55ccec98"
      },
      "execution_count": null,
      "outputs": [
        {
          "output_type": "stream",
          "name": "stdout",
          "text": [
            "file-BE3vg12ZPEvwT2R6EGEoCu\n"
          ]
        }
      ]
    },
    {
      "cell_type": "markdown",
      "source": [
        "### Create a vector store"
      ],
      "metadata": {
        "id": "rSNbS0Uz6zt1"
      }
    },
    {
      "cell_type": "code",
      "source": [
        "vector_store = openai.vector_stores.create(\n",
        "    name=\"knowledge_base_2\"\n",
        ")\n",
        "print(vector_store.id)"
      ],
      "metadata": {
        "colab": {
          "base_uri": "https://localhost:8080/"
        },
        "id": "c7fQuJhO60SA",
        "outputId": "54a8c5d1-2df9-425d-adaf-d0fa273575dc"
      },
      "execution_count": null,
      "outputs": [
        {
          "output_type": "stream",
          "name": "stdout",
          "text": [
            "vs_67e3905592188191bc32abea607597bf\n"
          ]
        }
      ]
    },
    {
      "cell_type": "markdown",
      "source": [
        "### Add a file to a vector store"
      ],
      "metadata": {
        "id": "jjcqilxm6-9A"
      }
    },
    {
      "cell_type": "code",
      "source": [
        "result = openai.vector_stores.files.create(\n",
        "    vector_store_id=vector_store.id,\n",
        "    file_id=file_id\n",
        ")\n",
        "rich.print(result)"
      ],
      "metadata": {
        "colab": {
          "base_uri": "https://localhost:8080/",
          "height": 241
        },
        "id": "4AlInHfS6_ML",
        "outputId": "5c04c6c3-272e-4ac4-afdf-d5949a847420"
      },
      "execution_count": null,
      "outputs": [
        {
          "output_type": "display_data",
          "data": {
            "text/plain": [
              "\u001b[1;35mVectorStoreFile\u001b[0m\u001b[1m(\u001b[0m\n",
              "    \u001b[33mid\u001b[0m=\u001b[32m'file-BE3vg12ZPEvwT2R6EGEoCu'\u001b[0m,\n",
              "    \u001b[33mcreated_at\u001b[0m=\u001b[1;36m1742966891\u001b[0m,\n",
              "    \u001b[33mlast_error\u001b[0m=\u001b[3;35mNone\u001b[0m,\n",
              "    \u001b[33mobject\u001b[0m=\u001b[32m'vector_store.file'\u001b[0m,\n",
              "    \u001b[33mstatus\u001b[0m=\u001b[32m'in_progress'\u001b[0m,\n",
              "    \u001b[33musage_bytes\u001b[0m=\u001b[1;36m0\u001b[0m,\n",
              "    \u001b[33mvector_store_id\u001b[0m=\u001b[32m'vs_67e3905592188191bc32abea607597bf'\u001b[0m,\n",
              "    \u001b[33mattributes\u001b[0m=\u001b[1m{\u001b[0m\u001b[1m}\u001b[0m,\n",
              "    \u001b[33mchunking_strategy\u001b[0m=\u001b[1;35mStaticFileChunkingStrategyObject\u001b[0m\u001b[1m(\u001b[0m\n",
              "        \u001b[33mstatic\u001b[0m=\u001b[1;35mStaticFileChunkingStrategy\u001b[0m\u001b[1m(\u001b[0m\u001b[33mchunk_overlap_tokens\u001b[0m=\u001b[1;36m400\u001b[0m, \u001b[33mmax_chunk_size_tokens\u001b[0m=\u001b[1;36m800\u001b[0m\u001b[1m)\u001b[0m,\n",
              "        \u001b[33mtype\u001b[0m=\u001b[32m'static'\u001b[0m\n",
              "    \u001b[1m)\u001b[0m\n",
              "\u001b[1m)\u001b[0m\n"
            ],
            "text/html": [
              "<pre style=\"white-space:pre;overflow-x:auto;line-height:normal;font-family:Menlo,'DejaVu Sans Mono',consolas,'Courier New',monospace\"><span style=\"color: #800080; text-decoration-color: #800080; font-weight: bold\">VectorStoreFile</span><span style=\"font-weight: bold\">(</span>\n",
              "    <span style=\"color: #808000; text-decoration-color: #808000\">id</span>=<span style=\"color: #008000; text-decoration-color: #008000\">'file-BE3vg12ZPEvwT2R6EGEoCu'</span>,\n",
              "    <span style=\"color: #808000; text-decoration-color: #808000\">created_at</span>=<span style=\"color: #008080; text-decoration-color: #008080; font-weight: bold\">1742966891</span>,\n",
              "    <span style=\"color: #808000; text-decoration-color: #808000\">last_error</span>=<span style=\"color: #800080; text-decoration-color: #800080; font-style: italic\">None</span>,\n",
              "    <span style=\"color: #808000; text-decoration-color: #808000\">object</span>=<span style=\"color: #008000; text-decoration-color: #008000\">'vector_store.file'</span>,\n",
              "    <span style=\"color: #808000; text-decoration-color: #808000\">status</span>=<span style=\"color: #008000; text-decoration-color: #008000\">'in_progress'</span>,\n",
              "    <span style=\"color: #808000; text-decoration-color: #808000\">usage_bytes</span>=<span style=\"color: #008080; text-decoration-color: #008080; font-weight: bold\">0</span>,\n",
              "    <span style=\"color: #808000; text-decoration-color: #808000\">vector_store_id</span>=<span style=\"color: #008000; text-decoration-color: #008000\">'vs_67e3905592188191bc32abea607597bf'</span>,\n",
              "    <span style=\"color: #808000; text-decoration-color: #808000\">attributes</span>=<span style=\"font-weight: bold\">{}</span>,\n",
              "    <span style=\"color: #808000; text-decoration-color: #808000\">chunking_strategy</span>=<span style=\"color: #800080; text-decoration-color: #800080; font-weight: bold\">StaticFileChunkingStrategyObject</span><span style=\"font-weight: bold\">(</span>\n",
              "        <span style=\"color: #808000; text-decoration-color: #808000\">static</span>=<span style=\"color: #800080; text-decoration-color: #800080; font-weight: bold\">StaticFileChunkingStrategy</span><span style=\"font-weight: bold\">(</span><span style=\"color: #808000; text-decoration-color: #808000\">chunk_overlap_tokens</span>=<span style=\"color: #008080; text-decoration-color: #008080; font-weight: bold\">400</span>, <span style=\"color: #808000; text-decoration-color: #808000\">max_chunk_size_tokens</span>=<span style=\"color: #008080; text-decoration-color: #008080; font-weight: bold\">800</span><span style=\"font-weight: bold\">)</span>,\n",
              "        <span style=\"color: #808000; text-decoration-color: #808000\">type</span>=<span style=\"color: #008000; text-decoration-color: #008000\">'static'</span>\n",
              "    <span style=\"font-weight: bold\">)</span>\n",
              "<span style=\"font-weight: bold\">)</span>\n",
              "</pre>\n"
            ]
          },
          "metadata": {}
        }
      ]
    },
    {
      "cell_type": "markdown",
      "source": [
        "### Check the status of files in vector store"
      ],
      "metadata": {
        "id": "8f45uume7FnR"
      }
    },
    {
      "cell_type": "code",
      "source": [
        "result = openai.vector_stores.files.list(\n",
        "    vector_store_id=vector_store.id\n",
        ")\n",
        "rich.print(result)"
      ],
      "metadata": {
        "colab": {
          "base_uri": "https://localhost:8080/",
          "height": 369
        },
        "id": "DBLGezX_7GCE",
        "outputId": "7554e0df-3586-4365-cef4-fd6cf1bb98d5"
      },
      "execution_count": null,
      "outputs": [
        {
          "output_type": "display_data",
          "data": {
            "text/plain": [
              "SyncCursorPage\u001b[1m[\u001b[0mVectorStoreFile\u001b[1m]\u001b[0m\u001b[1m(\u001b[0m\n",
              "    \u001b[33mdata\u001b[0m=\u001b[1m[\u001b[0m\n",
              "        \u001b[1;35mVectorStoreFile\u001b[0m\u001b[1m(\u001b[0m\n",
              "            \u001b[33mid\u001b[0m=\u001b[32m'file-BE3vg12ZPEvwT2R6EGEoCu'\u001b[0m,\n",
              "            \u001b[33mcreated_at\u001b[0m=\u001b[1;36m1742966891\u001b[0m,\n",
              "            \u001b[33mlast_error\u001b[0m=\u001b[3;35mNone\u001b[0m,\n",
              "            \u001b[33mobject\u001b[0m=\u001b[32m'vector_store.file'\u001b[0m,\n",
              "            \u001b[33mstatus\u001b[0m=\u001b[32m'completed'\u001b[0m,\n",
              "            \u001b[33musage_bytes\u001b[0m=\u001b[1;36m66539\u001b[0m,\n",
              "            \u001b[33mvector_store_id\u001b[0m=\u001b[32m'vs_67e3905592188191bc32abea607597bf'\u001b[0m,\n",
              "            \u001b[33mattributes\u001b[0m=\u001b[1m{\u001b[0m\u001b[1m}\u001b[0m,\n",
              "            \u001b[33mchunking_strategy\u001b[0m=\u001b[1;35mStaticFileChunkingStrategyObject\u001b[0m\u001b[1m(\u001b[0m\n",
              "                \u001b[33mstatic\u001b[0m=\u001b[1;35mStaticFileChunkingStrategy\u001b[0m\u001b[1m(\u001b[0m\u001b[33mchunk_overlap_tokens\u001b[0m=\u001b[1;36m400\u001b[0m, \u001b[33mmax_chunk_size_tokens\u001b[0m=\u001b[1;36m800\u001b[0m\u001b[1m)\u001b[0m,\n",
              "                \u001b[33mtype\u001b[0m=\u001b[32m'static'\u001b[0m\n",
              "            \u001b[1m)\u001b[0m\n",
              "        \u001b[1m)\u001b[0m\n",
              "    \u001b[1m]\u001b[0m,\n",
              "    \u001b[33mhas_more\u001b[0m=\u001b[3;91mFalse\u001b[0m,\n",
              "    \u001b[33mobject\u001b[0m=\u001b[32m'list'\u001b[0m,\n",
              "    \u001b[33mfirst_id\u001b[0m=\u001b[32m'file-BE3vg12ZPEvwT2R6EGEoCu'\u001b[0m,\n",
              "    \u001b[33mlast_id\u001b[0m=\u001b[32m'file-BE3vg12ZPEvwT2R6EGEoCu'\u001b[0m\n",
              "\u001b[1m)\u001b[0m\n"
            ],
            "text/html": [
              "<pre style=\"white-space:pre;overflow-x:auto;line-height:normal;font-family:Menlo,'DejaVu Sans Mono',consolas,'Courier New',monospace\">SyncCursorPage<span style=\"font-weight: bold\">[</span>VectorStoreFile<span style=\"font-weight: bold\">](</span>\n",
              "    <span style=\"color: #808000; text-decoration-color: #808000\">data</span>=<span style=\"font-weight: bold\">[</span>\n",
              "        <span style=\"color: #800080; text-decoration-color: #800080; font-weight: bold\">VectorStoreFile</span><span style=\"font-weight: bold\">(</span>\n",
              "            <span style=\"color: #808000; text-decoration-color: #808000\">id</span>=<span style=\"color: #008000; text-decoration-color: #008000\">'file-BE3vg12ZPEvwT2R6EGEoCu'</span>,\n",
              "            <span style=\"color: #808000; text-decoration-color: #808000\">created_at</span>=<span style=\"color: #008080; text-decoration-color: #008080; font-weight: bold\">1742966891</span>,\n",
              "            <span style=\"color: #808000; text-decoration-color: #808000\">last_error</span>=<span style=\"color: #800080; text-decoration-color: #800080; font-style: italic\">None</span>,\n",
              "            <span style=\"color: #808000; text-decoration-color: #808000\">object</span>=<span style=\"color: #008000; text-decoration-color: #008000\">'vector_store.file'</span>,\n",
              "            <span style=\"color: #808000; text-decoration-color: #808000\">status</span>=<span style=\"color: #008000; text-decoration-color: #008000\">'completed'</span>,\n",
              "            <span style=\"color: #808000; text-decoration-color: #808000\">usage_bytes</span>=<span style=\"color: #008080; text-decoration-color: #008080; font-weight: bold\">66539</span>,\n",
              "            <span style=\"color: #808000; text-decoration-color: #808000\">vector_store_id</span>=<span style=\"color: #008000; text-decoration-color: #008000\">'vs_67e3905592188191bc32abea607597bf'</span>,\n",
              "            <span style=\"color: #808000; text-decoration-color: #808000\">attributes</span>=<span style=\"font-weight: bold\">{}</span>,\n",
              "            <span style=\"color: #808000; text-decoration-color: #808000\">chunking_strategy</span>=<span style=\"color: #800080; text-decoration-color: #800080; font-weight: bold\">StaticFileChunkingStrategyObject</span><span style=\"font-weight: bold\">(</span>\n",
              "                <span style=\"color: #808000; text-decoration-color: #808000\">static</span>=<span style=\"color: #800080; text-decoration-color: #800080; font-weight: bold\">StaticFileChunkingStrategy</span><span style=\"font-weight: bold\">(</span><span style=\"color: #808000; text-decoration-color: #808000\">chunk_overlap_tokens</span>=<span style=\"color: #008080; text-decoration-color: #008080; font-weight: bold\">400</span>, <span style=\"color: #808000; text-decoration-color: #808000\">max_chunk_size_tokens</span>=<span style=\"color: #008080; text-decoration-color: #008080; font-weight: bold\">800</span><span style=\"font-weight: bold\">)</span>,\n",
              "                <span style=\"color: #808000; text-decoration-color: #808000\">type</span>=<span style=\"color: #008000; text-decoration-color: #008000\">'static'</span>\n",
              "            <span style=\"font-weight: bold\">)</span>\n",
              "        <span style=\"font-weight: bold\">)</span>\n",
              "    <span style=\"font-weight: bold\">]</span>,\n",
              "    <span style=\"color: #808000; text-decoration-color: #808000\">has_more</span>=<span style=\"color: #ff0000; text-decoration-color: #ff0000; font-style: italic\">False</span>,\n",
              "    <span style=\"color: #808000; text-decoration-color: #808000\">object</span>=<span style=\"color: #008000; text-decoration-color: #008000\">'list'</span>,\n",
              "    <span style=\"color: #808000; text-decoration-color: #808000\">first_id</span>=<span style=\"color: #008000; text-decoration-color: #008000\">'file-BE3vg12ZPEvwT2R6EGEoCu'</span>,\n",
              "    <span style=\"color: #808000; text-decoration-color: #808000\">last_id</span>=<span style=\"color: #008000; text-decoration-color: #008000\">'file-BE3vg12ZPEvwT2R6EGEoCu'</span>\n",
              "<span style=\"font-weight: bold\">)</span>\n",
              "</pre>\n"
            ]
          },
          "metadata": {}
        }
      ]
    },
    {
      "cell_type": "markdown",
      "source": [
        "Now in Responses API call, we can provide `file_search` tool and `vector_store_ids`.\n",
        "\n",
        "Annotation object in response will provide information about file\n",
        "```\n",
        "AnnotationFileCitation(\n",
        "    file_id='file-4GoREtVZ14bPdCKHXsva8k',\n",
        "    index=1939,\n",
        "    type='file_citation',\n",
        "    filename='deep_research_blog.pdf'\n",
        ")\n",
        "```"
      ],
      "metadata": {
        "id": "0kYjlklu7KZQ"
      }
    },
    {
      "cell_type": "code",
      "source": [
        "response = openai.responses.create(\n",
        "    model=MODEL,\n",
        "    input=\"What is deep research by OpenAI?\",\n",
        "    tools=[{\n",
        "        \"type\": \"file_search\",\n",
        "        \"vector_store_ids\": [vector_store.id]\n",
        "    }]\n",
        ")\n",
        "rich.print(response.output[1].content[0].text)\n",
        "# rich.print(response)\n",
        "rich.print(response.output)"
      ],
      "metadata": {
        "colab": {
          "base_uri": "https://localhost:8080/",
          "height": 1000
        },
        "id": "sAzzFY6Y7K17",
        "outputId": "1a359429-53a4-46ff-eae1-964ba4f14d4c"
      },
      "execution_count": null,
      "outputs": [
        {
          "output_type": "display_data",
          "data": {
            "text/plain": [
              "Deep Research by OpenAI is a new capability designed to assist users in conducting complex, multi-step research \n",
              "tasks on the internet. Here are the key features and functionalities:\n",
              "\n",
              "\u001b[1;36m1\u001b[0m. **Synthesis of Information**: Deep Research allows users to prompt ChatGPT, which then independently finds, \n",
              "analyzes, and synthesizes information from numerous online sources to generate comprehensive reports, akin to the \n",
              "work of a research analyst.\n",
              "\n",
              "\u001b[1;36m2\u001b[0m. **Time Efficiency**: It is capable of accomplishing tasks that could take a human hours in just tens of minutes,\n",
              "thereby saving valuable time for users engaged in intensive knowledge work across various domains like finance, \n",
              "science, and policy.\n",
              "\n",
              "\u001b[1;36m3\u001b[0m. **Technical Capabilities**: The capability is powered by a version of OpenAI's o3 model, optimized for web \n",
              "browsing and data analysis. It uses advanced reasoning to search, interpret, and analyze a vast array of data, \n",
              "including text, images, and PDFs.\n",
              "\n",
              "\u001b[1;36m4\u001b[0m. **Output Documentation**: Outputs are fully documented, featuring clear citations and a summary of the findings,\n",
              "which enhances reliability and verifiability.\n",
              "\n",
              "\u001b[1;36m5\u001b[0m. **User Accessibility**: Currently, Deep Research is available to Pro users, with planned rollouts to Plus and \n",
              "Team users. \n",
              "\n",
              "\u001b[1;36m6\u001b[0m. **Recognized Evaluation Performance**: In evaluations like \u001b[32m\"Humanity's Last Exam,\"\u001b[0m the model behind Deep \n",
              "Research achieved a notable accuracy of \u001b[1;36m26.6\u001b[0m%, marking a significant advancement in AI's ability to handle \n",
              "expert-level tasks.\n",
              "\n",
              "This initiative signifies OpenAI's commitment to developing more advanced tools that enhance productivity and \n",
              "knowledge generation, moving closer to achieving Artificial General Intelligence \u001b[1m(\u001b[0mAGI\u001b[1m)\u001b[0m.\n"
            ],
            "text/html": [
              "<pre style=\"white-space:pre;overflow-x:auto;line-height:normal;font-family:Menlo,'DejaVu Sans Mono',consolas,'Courier New',monospace\">Deep Research by OpenAI is a new capability designed to assist users in conducting complex, multi-step research \n",
              "tasks on the internet. Here are the key features and functionalities:\n",
              "\n",
              "<span style=\"color: #008080; text-decoration-color: #008080; font-weight: bold\">1</span>. **Synthesis of Information**: Deep Research allows users to prompt ChatGPT, which then independently finds, \n",
              "analyzes, and synthesizes information from numerous online sources to generate comprehensive reports, akin to the \n",
              "work of a research analyst.\n",
              "\n",
              "<span style=\"color: #008080; text-decoration-color: #008080; font-weight: bold\">2</span>. **Time Efficiency**: It is capable of accomplishing tasks that could take a human hours in just tens of minutes,\n",
              "thereby saving valuable time for users engaged in intensive knowledge work across various domains like finance, \n",
              "science, and policy.\n",
              "\n",
              "<span style=\"color: #008080; text-decoration-color: #008080; font-weight: bold\">3</span>. **Technical Capabilities**: The capability is powered by a version of OpenAI's o3 model, optimized for web \n",
              "browsing and data analysis. It uses advanced reasoning to search, interpret, and analyze a vast array of data, \n",
              "including text, images, and PDFs.\n",
              "\n",
              "<span style=\"color: #008080; text-decoration-color: #008080; font-weight: bold\">4</span>. **Output Documentation**: Outputs are fully documented, featuring clear citations and a summary of the findings,\n",
              "which enhances reliability and verifiability.\n",
              "\n",
              "<span style=\"color: #008080; text-decoration-color: #008080; font-weight: bold\">5</span>. **User Accessibility**: Currently, Deep Research is available to Pro users, with planned rollouts to Plus and \n",
              "Team users. \n",
              "\n",
              "<span style=\"color: #008080; text-decoration-color: #008080; font-weight: bold\">6</span>. **Recognized Evaluation Performance**: In evaluations like <span style=\"color: #008000; text-decoration-color: #008000\">\"Humanity's Last Exam,\"</span> the model behind Deep \n",
              "Research achieved a notable accuracy of <span style=\"color: #008080; text-decoration-color: #008080; font-weight: bold\">26.6</span>%, marking a significant advancement in AI's ability to handle \n",
              "expert-level tasks.\n",
              "\n",
              "This initiative signifies OpenAI's commitment to developing more advanced tools that enhance productivity and \n",
              "knowledge generation, moving closer to achieving Artificial General Intelligence <span style=\"font-weight: bold\">(</span>AGI<span style=\"font-weight: bold\">)</span>.\n",
              "</pre>\n"
            ]
          },
          "metadata": {}
        },
        {
          "output_type": "display_data",
          "data": {
            "text/plain": [
              "\u001b[1m[\u001b[0m\n",
              "    \u001b[1;35mResponseFileSearchToolCall\u001b[0m\u001b[1m(\u001b[0m\n",
              "        \u001b[33mid\u001b[0m=\u001b[32m'fs_67e3909db5588192abe02a30d9c7ee4902b275aee71d1c0e'\u001b[0m,\n",
              "        \u001b[33mqueries\u001b[0m=\u001b[1m[\u001b[0m\n",
              "            \u001b[32m'What is deep research by OpenAI?'\u001b[0m,\n",
              "            \u001b[32m'OpenAI deep research overview'\u001b[0m,\n",
              "            \u001b[32m'OpenAI research initiatives'\u001b[0m\n",
              "        \u001b[1m]\u001b[0m,\n",
              "        \u001b[33mstatus\u001b[0m=\u001b[32m'completed'\u001b[0m,\n",
              "        \u001b[33mtype\u001b[0m=\u001b[32m'file_search_call'\u001b[0m,\n",
              "        \u001b[33mresults\u001b[0m=\u001b[3;35mNone\u001b[0m\n",
              "    \u001b[1m)\u001b[0m,\n",
              "    \u001b[1;35mResponseOutputMessage\u001b[0m\u001b[1m(\u001b[0m\n",
              "        \u001b[33mid\u001b[0m=\u001b[32m'msg_67e390a18828819283f95e795731a0e802b275aee71d1c0e'\u001b[0m,\n",
              "        \u001b[33mcontent\u001b[0m=\u001b[1m[\u001b[0m\n",
              "            \u001b[1;35mResponseOutputText\u001b[0m\u001b[1m(\u001b[0m\n",
              "                \u001b[33mannotations\u001b[0m=\u001b[1m[\u001b[0m\n",
              "                    \u001b[1;35mAnnotationFileCitation\u001b[0m\u001b[1m(\u001b[0m\n",
              "                        \u001b[33mfile_id\u001b[0m=\u001b[32m'file-BE3vg12ZPEvwT2R6EGEoCu'\u001b[0m,\n",
              "                        \u001b[33mindex\u001b[0m=\u001b[1;36m434\u001b[0m,\n",
              "                        \u001b[33mtype\u001b[0m=\u001b[32m'file_citation'\u001b[0m,\n",
              "                        \u001b[33mfilename\u001b[0m=\u001b[32m'deep_research_blog.pdf'\u001b[0m\n",
              "                    \u001b[1m)\u001b[0m,\n",
              "                    \u001b[1;35mAnnotationFileCitation\u001b[0m\u001b[1m(\u001b[0m\n",
              "                        \u001b[33mfile_id\u001b[0m=\u001b[32m'file-BE3vg12ZPEvwT2R6EGEoCu'\u001b[0m,\n",
              "                        \u001b[33mindex\u001b[0m=\u001b[1;36m684\u001b[0m,\n",
              "                        \u001b[33mtype\u001b[0m=\u001b[32m'file_citation'\u001b[0m,\n",
              "                        \u001b[33mfilename\u001b[0m=\u001b[32m'deep_research_blog.pdf'\u001b[0m\n",
              "                    \u001b[1m)\u001b[0m,\n",
              "                    \u001b[1;35mAnnotationFileCitation\u001b[0m\u001b[1m(\u001b[0m\n",
              "                        \u001b[33mfile_id\u001b[0m=\u001b[32m'file-BE3vg12ZPEvwT2R6EGEoCu'\u001b[0m,\n",
              "                        \u001b[33mindex\u001b[0m=\u001b[1;36m684\u001b[0m,\n",
              "                        \u001b[33mtype\u001b[0m=\u001b[32m'file_citation'\u001b[0m,\n",
              "                        \u001b[33mfilename\u001b[0m=\u001b[32m'deep_research_blog.pdf'\u001b[0m\n",
              "                    \u001b[1m)\u001b[0m,\n",
              "                    \u001b[1;35mAnnotationFileCitation\u001b[0m\u001b[1m(\u001b[0m\n",
              "                        \u001b[33mfile_id\u001b[0m=\u001b[32m'file-BE3vg12ZPEvwT2R6EGEoCu'\u001b[0m,\n",
              "                        \u001b[33mindex\u001b[0m=\u001b[1;36m940\u001b[0m,\n",
              "                        \u001b[33mtype\u001b[0m=\u001b[32m'file_citation'\u001b[0m,\n",
              "                        \u001b[33mfilename\u001b[0m=\u001b[32m'deep_research_blog.pdf'\u001b[0m\n",
              "                    \u001b[1m)\u001b[0m,\n",
              "                    \u001b[1;35mAnnotationFileCitation\u001b[0m\u001b[1m(\u001b[0m\n",
              "                        \u001b[33mfile_id\u001b[0m=\u001b[32m'file-BE3vg12ZPEvwT2R6EGEoCu'\u001b[0m,\n",
              "                        \u001b[33mindex\u001b[0m=\u001b[1;36m940\u001b[0m,\n",
              "                        \u001b[33mtype\u001b[0m=\u001b[32m'file_citation'\u001b[0m,\n",
              "                        \u001b[33mfilename\u001b[0m=\u001b[32m'deep_research_blog.pdf'\u001b[0m\n",
              "                    \u001b[1m)\u001b[0m,\n",
              "                    \u001b[1;35mAnnotationFileCitation\u001b[0m\u001b[1m(\u001b[0m\n",
              "                        \u001b[33mfile_id\u001b[0m=\u001b[32m'file-BE3vg12ZPEvwT2R6EGEoCu'\u001b[0m,\n",
              "                        \u001b[33mindex\u001b[0m=\u001b[1;36m1103\u001b[0m,\n",
              "                        \u001b[33mtype\u001b[0m=\u001b[32m'file_citation'\u001b[0m,\n",
              "                        \u001b[33mfilename\u001b[0m=\u001b[32m'deep_research_blog.pdf'\u001b[0m\n",
              "                    \u001b[1m)\u001b[0m,\n",
              "                    \u001b[1;35mAnnotationFileCitation\u001b[0m\u001b[1m(\u001b[0m\n",
              "                        \u001b[33mfile_id\u001b[0m=\u001b[32m'file-BE3vg12ZPEvwT2R6EGEoCu'\u001b[0m,\n",
              "                        \u001b[33mindex\u001b[0m=\u001b[1;36m1103\u001b[0m,\n",
              "                        \u001b[33mtype\u001b[0m=\u001b[32m'file_citation'\u001b[0m,\n",
              "                        \u001b[33mfilename\u001b[0m=\u001b[32m'deep_research_blog.pdf'\u001b[0m\n",
              "                    \u001b[1m)\u001b[0m,\n",
              "                    \u001b[1;35mAnnotationFileCitation\u001b[0m\u001b[1m(\u001b[0m\n",
              "                        \u001b[33mfile_id\u001b[0m=\u001b[32m'file-BE3vg12ZPEvwT2R6EGEoCu'\u001b[0m,\n",
              "                        \u001b[33mindex\u001b[0m=\u001b[1;36m1229\u001b[0m,\n",
              "                        \u001b[33mtype\u001b[0m=\u001b[32m'file_citation'\u001b[0m,\n",
              "                        \u001b[33mfilename\u001b[0m=\u001b[32m'deep_research_blog.pdf'\u001b[0m\n",
              "                    \u001b[1m)\u001b[0m,\n",
              "                    \u001b[1;35mAnnotationFileCitation\u001b[0m\u001b[1m(\u001b[0m\n",
              "                        \u001b[33mfile_id\u001b[0m=\u001b[32m'file-BE3vg12ZPEvwT2R6EGEoCu'\u001b[0m,\n",
              "                        \u001b[33mindex\u001b[0m=\u001b[1;36m1229\u001b[0m,\n",
              "                        \u001b[33mtype\u001b[0m=\u001b[32m'file_citation'\u001b[0m,\n",
              "                        \u001b[33mfilename\u001b[0m=\u001b[32m'deep_research_blog.pdf'\u001b[0m\n",
              "                    \u001b[1m)\u001b[0m,\n",
              "                    \u001b[1;35mAnnotationFileCitation\u001b[0m\u001b[1m(\u001b[0m\n",
              "                        \u001b[33mfile_id\u001b[0m=\u001b[32m'file-BE3vg12ZPEvwT2R6EGEoCu'\u001b[0m,\n",
              "                        \u001b[33mindex\u001b[0m=\u001b[1;36m1466\u001b[0m,\n",
              "                        \u001b[33mtype\u001b[0m=\u001b[32m'file_citation'\u001b[0m,\n",
              "                        \u001b[33mfilename\u001b[0m=\u001b[32m'deep_research_blog.pdf'\u001b[0m\n",
              "                    \u001b[1m)\u001b[0m,\n",
              "                    \u001b[1;35mAnnotationFileCitation\u001b[0m\u001b[1m(\u001b[0m\n",
              "                        \u001b[33mfile_id\u001b[0m=\u001b[32m'file-BE3vg12ZPEvwT2R6EGEoCu'\u001b[0m,\n",
              "                        \u001b[33mindex\u001b[0m=\u001b[1;36m1466\u001b[0m,\n",
              "                        \u001b[33mtype\u001b[0m=\u001b[32m'file_citation'\u001b[0m,\n",
              "                        \u001b[33mfilename\u001b[0m=\u001b[32m'deep_research_blog.pdf'\u001b[0m\n",
              "                    \u001b[1m)\u001b[0m,\n",
              "                    \u001b[1;35mAnnotationFileCitation\u001b[0m\u001b[1m(\u001b[0m\n",
              "                        \u001b[33mfile_id\u001b[0m=\u001b[32m'file-BE3vg12ZPEvwT2R6EGEoCu'\u001b[0m,\n",
              "                        \u001b[33mindex\u001b[0m=\u001b[1;36m1665\u001b[0m,\n",
              "                        \u001b[33mtype\u001b[0m=\u001b[32m'file_citation'\u001b[0m,\n",
              "                        \u001b[33mfilename\u001b[0m=\u001b[32m'deep_research_blog.pdf'\u001b[0m\n",
              "                    \u001b[1m)\u001b[0m,\n",
              "                    \u001b[1;35mAnnotationFileCitation\u001b[0m\u001b[1m(\u001b[0m\n",
              "                        \u001b[33mfile_id\u001b[0m=\u001b[32m'file-BE3vg12ZPEvwT2R6EGEoCu'\u001b[0m,\n",
              "                        \u001b[33mindex\u001b[0m=\u001b[1;36m1665\u001b[0m,\n",
              "                        \u001b[33mtype\u001b[0m=\u001b[32m'file_citation'\u001b[0m,\n",
              "                        \u001b[33mfilename\u001b[0m=\u001b[32m'deep_research_blog.pdf'\u001b[0m\n",
              "                    \u001b[1m)\u001b[0m\n",
              "                \u001b[1m]\u001b[0m,\n",
              "                \u001b[33mtext\u001b[0m=\u001b[32m'Deep Research by OpenAI is a new capability designed to assist users in conducting complex, \u001b[0m\n",
              "\u001b[32mmulti-step research tasks on the internet. Here are the key features and functionalities:\\n\\n1. **Synthesis of \u001b[0m\n",
              "\u001b[32mInformation**: Deep Research allows users to prompt ChatGPT, which then independently finds, analyzes, and \u001b[0m\n",
              "\u001b[32msynthesizes information from numerous online sources to generate comprehensive reports, akin to the work of a \u001b[0m\n",
              "\u001b[32mresearch analyst.\\n\\n2. **Time Efficiency**: It is capable of accomplishing tasks that could take a human hours in \u001b[0m\n",
              "\u001b[32mjust tens of minutes, thereby saving valuable time for users engaged in intensive knowledge work across various \u001b[0m\n",
              "\u001b[32mdomains like finance, science, and policy.\\n\\n3. **Technical Capabilities**: The capability is powered by a version\u001b[0m\n",
              "\u001b[32mof OpenAI\\'s o3 model, optimized for web browsing and data analysis. It uses advanced reasoning to search, \u001b[0m\n",
              "\u001b[32minterpret, and analyze a vast array of data, including text, images, and PDFs.\\n\\n4. **Output Documentation**: \u001b[0m\n",
              "\u001b[32mOutputs are fully documented, featuring clear citations and a summary of the findings, which enhances reliability \u001b[0m\n",
              "\u001b[32mand verifiability.\\n\\n5. **User Accessibility**: Currently, Deep Research is available to Pro users, with planned \u001b[0m\n",
              "\u001b[32mrollouts to Plus and Team users. \\n\\n6. **Recognized Evaluation Performance**: In evaluations like \"Humanity\\'s \u001b[0m\n",
              "\u001b[32mLast Exam,\" the model behind Deep Research achieved a notable accuracy of 26.6%, marking a significant advancement \u001b[0m\n",
              "\u001b[32min AI\\'s ability to handle expert-level tasks.\\n\\nThis initiative signifies OpenAI\\'s commitment to developing more\u001b[0m\n",
              "\u001b[32madvanced tools that enhance productivity and knowledge generation, moving closer to achieving Artificial General \u001b[0m\n",
              "\u001b[32mIntelligence \u001b[0m\u001b[32m(\u001b[0m\u001b[32mAGI\u001b[0m\u001b[32m)\u001b[0m\u001b[32m.'\u001b[0m,\n",
              "                \u001b[33mtype\u001b[0m=\u001b[32m'output_text'\u001b[0m\n",
              "            \u001b[1m)\u001b[0m\n",
              "        \u001b[1m]\u001b[0m,\n",
              "        \u001b[33mrole\u001b[0m=\u001b[32m'assistant'\u001b[0m,\n",
              "        \u001b[33mstatus\u001b[0m=\u001b[32m'completed'\u001b[0m,\n",
              "        \u001b[33mtype\u001b[0m=\u001b[32m'message'\u001b[0m\n",
              "    \u001b[1m)\u001b[0m\n",
              "\u001b[1m]\u001b[0m\n"
            ],
            "text/html": [
              "<pre style=\"white-space:pre;overflow-x:auto;line-height:normal;font-family:Menlo,'DejaVu Sans Mono',consolas,'Courier New',monospace\"><span style=\"font-weight: bold\">[</span>\n",
              "    <span style=\"color: #800080; text-decoration-color: #800080; font-weight: bold\">ResponseFileSearchToolCall</span><span style=\"font-weight: bold\">(</span>\n",
              "        <span style=\"color: #808000; text-decoration-color: #808000\">id</span>=<span style=\"color: #008000; text-decoration-color: #008000\">'fs_67e3909db5588192abe02a30d9c7ee4902b275aee71d1c0e'</span>,\n",
              "        <span style=\"color: #808000; text-decoration-color: #808000\">queries</span>=<span style=\"font-weight: bold\">[</span>\n",
              "            <span style=\"color: #008000; text-decoration-color: #008000\">'What is deep research by OpenAI?'</span>,\n",
              "            <span style=\"color: #008000; text-decoration-color: #008000\">'OpenAI deep research overview'</span>,\n",
              "            <span style=\"color: #008000; text-decoration-color: #008000\">'OpenAI research initiatives'</span>\n",
              "        <span style=\"font-weight: bold\">]</span>,\n",
              "        <span style=\"color: #808000; text-decoration-color: #808000\">status</span>=<span style=\"color: #008000; text-decoration-color: #008000\">'completed'</span>,\n",
              "        <span style=\"color: #808000; text-decoration-color: #808000\">type</span>=<span style=\"color: #008000; text-decoration-color: #008000\">'file_search_call'</span>,\n",
              "        <span style=\"color: #808000; text-decoration-color: #808000\">results</span>=<span style=\"color: #800080; text-decoration-color: #800080; font-style: italic\">None</span>\n",
              "    <span style=\"font-weight: bold\">)</span>,\n",
              "    <span style=\"color: #800080; text-decoration-color: #800080; font-weight: bold\">ResponseOutputMessage</span><span style=\"font-weight: bold\">(</span>\n",
              "        <span style=\"color: #808000; text-decoration-color: #808000\">id</span>=<span style=\"color: #008000; text-decoration-color: #008000\">'msg_67e390a18828819283f95e795731a0e802b275aee71d1c0e'</span>,\n",
              "        <span style=\"color: #808000; text-decoration-color: #808000\">content</span>=<span style=\"font-weight: bold\">[</span>\n",
              "            <span style=\"color: #800080; text-decoration-color: #800080; font-weight: bold\">ResponseOutputText</span><span style=\"font-weight: bold\">(</span>\n",
              "                <span style=\"color: #808000; text-decoration-color: #808000\">annotations</span>=<span style=\"font-weight: bold\">[</span>\n",
              "                    <span style=\"color: #800080; text-decoration-color: #800080; font-weight: bold\">AnnotationFileCitation</span><span style=\"font-weight: bold\">(</span>\n",
              "                        <span style=\"color: #808000; text-decoration-color: #808000\">file_id</span>=<span style=\"color: #008000; text-decoration-color: #008000\">'file-BE3vg12ZPEvwT2R6EGEoCu'</span>,\n",
              "                        <span style=\"color: #808000; text-decoration-color: #808000\">index</span>=<span style=\"color: #008080; text-decoration-color: #008080; font-weight: bold\">434</span>,\n",
              "                        <span style=\"color: #808000; text-decoration-color: #808000\">type</span>=<span style=\"color: #008000; text-decoration-color: #008000\">'file_citation'</span>,\n",
              "                        <span style=\"color: #808000; text-decoration-color: #808000\">filename</span>=<span style=\"color: #008000; text-decoration-color: #008000\">'deep_research_blog.pdf'</span>\n",
              "                    <span style=\"font-weight: bold\">)</span>,\n",
              "                    <span style=\"color: #800080; text-decoration-color: #800080; font-weight: bold\">AnnotationFileCitation</span><span style=\"font-weight: bold\">(</span>\n",
              "                        <span style=\"color: #808000; text-decoration-color: #808000\">file_id</span>=<span style=\"color: #008000; text-decoration-color: #008000\">'file-BE3vg12ZPEvwT2R6EGEoCu'</span>,\n",
              "                        <span style=\"color: #808000; text-decoration-color: #808000\">index</span>=<span style=\"color: #008080; text-decoration-color: #008080; font-weight: bold\">684</span>,\n",
              "                        <span style=\"color: #808000; text-decoration-color: #808000\">type</span>=<span style=\"color: #008000; text-decoration-color: #008000\">'file_citation'</span>,\n",
              "                        <span style=\"color: #808000; text-decoration-color: #808000\">filename</span>=<span style=\"color: #008000; text-decoration-color: #008000\">'deep_research_blog.pdf'</span>\n",
              "                    <span style=\"font-weight: bold\">)</span>,\n",
              "                    <span style=\"color: #800080; text-decoration-color: #800080; font-weight: bold\">AnnotationFileCitation</span><span style=\"font-weight: bold\">(</span>\n",
              "                        <span style=\"color: #808000; text-decoration-color: #808000\">file_id</span>=<span style=\"color: #008000; text-decoration-color: #008000\">'file-BE3vg12ZPEvwT2R6EGEoCu'</span>,\n",
              "                        <span style=\"color: #808000; text-decoration-color: #808000\">index</span>=<span style=\"color: #008080; text-decoration-color: #008080; font-weight: bold\">684</span>,\n",
              "                        <span style=\"color: #808000; text-decoration-color: #808000\">type</span>=<span style=\"color: #008000; text-decoration-color: #008000\">'file_citation'</span>,\n",
              "                        <span style=\"color: #808000; text-decoration-color: #808000\">filename</span>=<span style=\"color: #008000; text-decoration-color: #008000\">'deep_research_blog.pdf'</span>\n",
              "                    <span style=\"font-weight: bold\">)</span>,\n",
              "                    <span style=\"color: #800080; text-decoration-color: #800080; font-weight: bold\">AnnotationFileCitation</span><span style=\"font-weight: bold\">(</span>\n",
              "                        <span style=\"color: #808000; text-decoration-color: #808000\">file_id</span>=<span style=\"color: #008000; text-decoration-color: #008000\">'file-BE3vg12ZPEvwT2R6EGEoCu'</span>,\n",
              "                        <span style=\"color: #808000; text-decoration-color: #808000\">index</span>=<span style=\"color: #008080; text-decoration-color: #008080; font-weight: bold\">940</span>,\n",
              "                        <span style=\"color: #808000; text-decoration-color: #808000\">type</span>=<span style=\"color: #008000; text-decoration-color: #008000\">'file_citation'</span>,\n",
              "                        <span style=\"color: #808000; text-decoration-color: #808000\">filename</span>=<span style=\"color: #008000; text-decoration-color: #008000\">'deep_research_blog.pdf'</span>\n",
              "                    <span style=\"font-weight: bold\">)</span>,\n",
              "                    <span style=\"color: #800080; text-decoration-color: #800080; font-weight: bold\">AnnotationFileCitation</span><span style=\"font-weight: bold\">(</span>\n",
              "                        <span style=\"color: #808000; text-decoration-color: #808000\">file_id</span>=<span style=\"color: #008000; text-decoration-color: #008000\">'file-BE3vg12ZPEvwT2R6EGEoCu'</span>,\n",
              "                        <span style=\"color: #808000; text-decoration-color: #808000\">index</span>=<span style=\"color: #008080; text-decoration-color: #008080; font-weight: bold\">940</span>,\n",
              "                        <span style=\"color: #808000; text-decoration-color: #808000\">type</span>=<span style=\"color: #008000; text-decoration-color: #008000\">'file_citation'</span>,\n",
              "                        <span style=\"color: #808000; text-decoration-color: #808000\">filename</span>=<span style=\"color: #008000; text-decoration-color: #008000\">'deep_research_blog.pdf'</span>\n",
              "                    <span style=\"font-weight: bold\">)</span>,\n",
              "                    <span style=\"color: #800080; text-decoration-color: #800080; font-weight: bold\">AnnotationFileCitation</span><span style=\"font-weight: bold\">(</span>\n",
              "                        <span style=\"color: #808000; text-decoration-color: #808000\">file_id</span>=<span style=\"color: #008000; text-decoration-color: #008000\">'file-BE3vg12ZPEvwT2R6EGEoCu'</span>,\n",
              "                        <span style=\"color: #808000; text-decoration-color: #808000\">index</span>=<span style=\"color: #008080; text-decoration-color: #008080; font-weight: bold\">1103</span>,\n",
              "                        <span style=\"color: #808000; text-decoration-color: #808000\">type</span>=<span style=\"color: #008000; text-decoration-color: #008000\">'file_citation'</span>,\n",
              "                        <span style=\"color: #808000; text-decoration-color: #808000\">filename</span>=<span style=\"color: #008000; text-decoration-color: #008000\">'deep_research_blog.pdf'</span>\n",
              "                    <span style=\"font-weight: bold\">)</span>,\n",
              "                    <span style=\"color: #800080; text-decoration-color: #800080; font-weight: bold\">AnnotationFileCitation</span><span style=\"font-weight: bold\">(</span>\n",
              "                        <span style=\"color: #808000; text-decoration-color: #808000\">file_id</span>=<span style=\"color: #008000; text-decoration-color: #008000\">'file-BE3vg12ZPEvwT2R6EGEoCu'</span>,\n",
              "                        <span style=\"color: #808000; text-decoration-color: #808000\">index</span>=<span style=\"color: #008080; text-decoration-color: #008080; font-weight: bold\">1103</span>,\n",
              "                        <span style=\"color: #808000; text-decoration-color: #808000\">type</span>=<span style=\"color: #008000; text-decoration-color: #008000\">'file_citation'</span>,\n",
              "                        <span style=\"color: #808000; text-decoration-color: #808000\">filename</span>=<span style=\"color: #008000; text-decoration-color: #008000\">'deep_research_blog.pdf'</span>\n",
              "                    <span style=\"font-weight: bold\">)</span>,\n",
              "                    <span style=\"color: #800080; text-decoration-color: #800080; font-weight: bold\">AnnotationFileCitation</span><span style=\"font-weight: bold\">(</span>\n",
              "                        <span style=\"color: #808000; text-decoration-color: #808000\">file_id</span>=<span style=\"color: #008000; text-decoration-color: #008000\">'file-BE3vg12ZPEvwT2R6EGEoCu'</span>,\n",
              "                        <span style=\"color: #808000; text-decoration-color: #808000\">index</span>=<span style=\"color: #008080; text-decoration-color: #008080; font-weight: bold\">1229</span>,\n",
              "                        <span style=\"color: #808000; text-decoration-color: #808000\">type</span>=<span style=\"color: #008000; text-decoration-color: #008000\">'file_citation'</span>,\n",
              "                        <span style=\"color: #808000; text-decoration-color: #808000\">filename</span>=<span style=\"color: #008000; text-decoration-color: #008000\">'deep_research_blog.pdf'</span>\n",
              "                    <span style=\"font-weight: bold\">)</span>,\n",
              "                    <span style=\"color: #800080; text-decoration-color: #800080; font-weight: bold\">AnnotationFileCitation</span><span style=\"font-weight: bold\">(</span>\n",
              "                        <span style=\"color: #808000; text-decoration-color: #808000\">file_id</span>=<span style=\"color: #008000; text-decoration-color: #008000\">'file-BE3vg12ZPEvwT2R6EGEoCu'</span>,\n",
              "                        <span style=\"color: #808000; text-decoration-color: #808000\">index</span>=<span style=\"color: #008080; text-decoration-color: #008080; font-weight: bold\">1229</span>,\n",
              "                        <span style=\"color: #808000; text-decoration-color: #808000\">type</span>=<span style=\"color: #008000; text-decoration-color: #008000\">'file_citation'</span>,\n",
              "                        <span style=\"color: #808000; text-decoration-color: #808000\">filename</span>=<span style=\"color: #008000; text-decoration-color: #008000\">'deep_research_blog.pdf'</span>\n",
              "                    <span style=\"font-weight: bold\">)</span>,\n",
              "                    <span style=\"color: #800080; text-decoration-color: #800080; font-weight: bold\">AnnotationFileCitation</span><span style=\"font-weight: bold\">(</span>\n",
              "                        <span style=\"color: #808000; text-decoration-color: #808000\">file_id</span>=<span style=\"color: #008000; text-decoration-color: #008000\">'file-BE3vg12ZPEvwT2R6EGEoCu'</span>,\n",
              "                        <span style=\"color: #808000; text-decoration-color: #808000\">index</span>=<span style=\"color: #008080; text-decoration-color: #008080; font-weight: bold\">1466</span>,\n",
              "                        <span style=\"color: #808000; text-decoration-color: #808000\">type</span>=<span style=\"color: #008000; text-decoration-color: #008000\">'file_citation'</span>,\n",
              "                        <span style=\"color: #808000; text-decoration-color: #808000\">filename</span>=<span style=\"color: #008000; text-decoration-color: #008000\">'deep_research_blog.pdf'</span>\n",
              "                    <span style=\"font-weight: bold\">)</span>,\n",
              "                    <span style=\"color: #800080; text-decoration-color: #800080; font-weight: bold\">AnnotationFileCitation</span><span style=\"font-weight: bold\">(</span>\n",
              "                        <span style=\"color: #808000; text-decoration-color: #808000\">file_id</span>=<span style=\"color: #008000; text-decoration-color: #008000\">'file-BE3vg12ZPEvwT2R6EGEoCu'</span>,\n",
              "                        <span style=\"color: #808000; text-decoration-color: #808000\">index</span>=<span style=\"color: #008080; text-decoration-color: #008080; font-weight: bold\">1466</span>,\n",
              "                        <span style=\"color: #808000; text-decoration-color: #808000\">type</span>=<span style=\"color: #008000; text-decoration-color: #008000\">'file_citation'</span>,\n",
              "                        <span style=\"color: #808000; text-decoration-color: #808000\">filename</span>=<span style=\"color: #008000; text-decoration-color: #008000\">'deep_research_blog.pdf'</span>\n",
              "                    <span style=\"font-weight: bold\">)</span>,\n",
              "                    <span style=\"color: #800080; text-decoration-color: #800080; font-weight: bold\">AnnotationFileCitation</span><span style=\"font-weight: bold\">(</span>\n",
              "                        <span style=\"color: #808000; text-decoration-color: #808000\">file_id</span>=<span style=\"color: #008000; text-decoration-color: #008000\">'file-BE3vg12ZPEvwT2R6EGEoCu'</span>,\n",
              "                        <span style=\"color: #808000; text-decoration-color: #808000\">index</span>=<span style=\"color: #008080; text-decoration-color: #008080; font-weight: bold\">1665</span>,\n",
              "                        <span style=\"color: #808000; text-decoration-color: #808000\">type</span>=<span style=\"color: #008000; text-decoration-color: #008000\">'file_citation'</span>,\n",
              "                        <span style=\"color: #808000; text-decoration-color: #808000\">filename</span>=<span style=\"color: #008000; text-decoration-color: #008000\">'deep_research_blog.pdf'</span>\n",
              "                    <span style=\"font-weight: bold\">)</span>,\n",
              "                    <span style=\"color: #800080; text-decoration-color: #800080; font-weight: bold\">AnnotationFileCitation</span><span style=\"font-weight: bold\">(</span>\n",
              "                        <span style=\"color: #808000; text-decoration-color: #808000\">file_id</span>=<span style=\"color: #008000; text-decoration-color: #008000\">'file-BE3vg12ZPEvwT2R6EGEoCu'</span>,\n",
              "                        <span style=\"color: #808000; text-decoration-color: #808000\">index</span>=<span style=\"color: #008080; text-decoration-color: #008080; font-weight: bold\">1665</span>,\n",
              "                        <span style=\"color: #808000; text-decoration-color: #808000\">type</span>=<span style=\"color: #008000; text-decoration-color: #008000\">'file_citation'</span>,\n",
              "                        <span style=\"color: #808000; text-decoration-color: #808000\">filename</span>=<span style=\"color: #008000; text-decoration-color: #008000\">'deep_research_blog.pdf'</span>\n",
              "                    <span style=\"font-weight: bold\">)</span>\n",
              "                <span style=\"font-weight: bold\">]</span>,\n",
              "                <span style=\"color: #808000; text-decoration-color: #808000\">text</span>=<span style=\"color: #008000; text-decoration-color: #008000\">'Deep Research by OpenAI is a new capability designed to assist users in conducting complex, </span>\n",
              "<span style=\"color: #008000; text-decoration-color: #008000\">multi-step research tasks on the internet. Here are the key features and functionalities:\\n\\n1. **Synthesis of </span>\n",
              "<span style=\"color: #008000; text-decoration-color: #008000\">Information**: Deep Research allows users to prompt ChatGPT, which then independently finds, analyzes, and </span>\n",
              "<span style=\"color: #008000; text-decoration-color: #008000\">synthesizes information from numerous online sources to generate comprehensive reports, akin to the work of a </span>\n",
              "<span style=\"color: #008000; text-decoration-color: #008000\">research analyst.\\n\\n2. **Time Efficiency**: It is capable of accomplishing tasks that could take a human hours in </span>\n",
              "<span style=\"color: #008000; text-decoration-color: #008000\">just tens of minutes, thereby saving valuable time for users engaged in intensive knowledge work across various </span>\n",
              "<span style=\"color: #008000; text-decoration-color: #008000\">domains like finance, science, and policy.\\n\\n3. **Technical Capabilities**: The capability is powered by a version</span>\n",
              "<span style=\"color: #008000; text-decoration-color: #008000\">of OpenAI\\'s o3 model, optimized for web browsing and data analysis. It uses advanced reasoning to search, </span>\n",
              "<span style=\"color: #008000; text-decoration-color: #008000\">interpret, and analyze a vast array of data, including text, images, and PDFs.\\n\\n4. **Output Documentation**: </span>\n",
              "<span style=\"color: #008000; text-decoration-color: #008000\">Outputs are fully documented, featuring clear citations and a summary of the findings, which enhances reliability </span>\n",
              "<span style=\"color: #008000; text-decoration-color: #008000\">and verifiability.\\n\\n5. **User Accessibility**: Currently, Deep Research is available to Pro users, with planned </span>\n",
              "<span style=\"color: #008000; text-decoration-color: #008000\">rollouts to Plus and Team users. \\n\\n6. **Recognized Evaluation Performance**: In evaluations like \"Humanity\\'s </span>\n",
              "<span style=\"color: #008000; text-decoration-color: #008000\">Last Exam,\" the model behind Deep Research achieved a notable accuracy of 26.6%, marking a significant advancement </span>\n",
              "<span style=\"color: #008000; text-decoration-color: #008000\">in AI\\'s ability to handle expert-level tasks.\\n\\nThis initiative signifies OpenAI\\'s commitment to developing more</span>\n",
              "<span style=\"color: #008000; text-decoration-color: #008000\">advanced tools that enhance productivity and knowledge generation, moving closer to achieving Artificial General </span>\n",
              "<span style=\"color: #008000; text-decoration-color: #008000\">Intelligence (AGI).'</span>,\n",
              "                <span style=\"color: #808000; text-decoration-color: #808000\">type</span>=<span style=\"color: #008000; text-decoration-color: #008000\">'output_text'</span>\n",
              "            <span style=\"font-weight: bold\">)</span>\n",
              "        <span style=\"font-weight: bold\">]</span>,\n",
              "        <span style=\"color: #808000; text-decoration-color: #808000\">role</span>=<span style=\"color: #008000; text-decoration-color: #008000\">'assistant'</span>,\n",
              "        <span style=\"color: #808000; text-decoration-color: #808000\">status</span>=<span style=\"color: #008000; text-decoration-color: #008000\">'completed'</span>,\n",
              "        <span style=\"color: #808000; text-decoration-color: #808000\">type</span>=<span style=\"color: #008000; text-decoration-color: #008000\">'message'</span>\n",
              "    <span style=\"font-weight: bold\">)</span>\n",
              "<span style=\"font-weight: bold\">]</span>\n",
              "</pre>\n"
            ]
          },
          "metadata": {}
        }
      ]
    },
    {
      "cell_type": "markdown",
      "source": [
        "Customize the number of results you want to retrieve from the vector stores.\n",
        "\n",
        "\n",
        "You will notice a change in the result only if you also provide `include=[\"file_search_call.results\"]`. This will allow you to see the difference."
      ],
      "metadata": {
        "id": "fQMudLKb7RJ9"
      }
    },
    {
      "cell_type": "code",
      "source": [
        "response = openai.responses.create(\n",
        "    model=MODEL,\n",
        "    input=\"What is deep research by OpenAI?\",\n",
        "    tools=[{\n",
        "        \"type\": \"file_search\",\n",
        "        \"vector_store_ids\": [vector_store.id],\n",
        "        \"max_num_results\": 2\n",
        "    }],\n",
        "    include=[\"file_search_call.results\"]  # This will include actual portion of text content from the file\n",
        ")\n",
        "rich.print(response.output[1].content[0].text)\n",
        "# rich.print(response)\n",
        "rich.print(response.output[0].results)\n",
        "rich.print(response.output[1])"
      ],
      "metadata": {
        "colab": {
          "base_uri": "https://localhost:8080/",
          "height": 1000
        },
        "id": "4rlrL3E87Rh4",
        "outputId": "855006f9-b83f-47d5-c13b-47526a1a4e90"
      },
      "execution_count": null,
      "outputs": [
        {
          "output_type": "display_data",
          "data": {
            "text/plain": [
              "Deep Research by OpenAI is a new capability integrated into ChatGPT, designed to handle complex, multi-step \n",
              "research tasks efficiently. It allows users to conduct thorough web research by synthesizing information from \n",
              "numerous online sources quickly, achieving results in minutes that would typically take hours for a human.\n",
              "\n",
              "Here are some key features of Deep Research:\n",
              "\n",
              "\u001b[1;36m1\u001b[0m. **Autonomous Research Agent**: It independently finds, analyzes, and synthesizes vast amounts of data to create \n",
              "comprehensive reports comparable to a research analyst's output.\n",
              "   \n",
              "\u001b[1;36m2\u001b[0m. **Reasoning and Synthesis**: Deep Research is capable of reasoning to examine large datasets, interpret various \n",
              "forms of content \u001b[1m(\u001b[0mtext, images, PDFs\u001b[1m)\u001b[0m, and pivot its approach based on new findings.\n",
              "\n",
              "\u001b[1;36m3\u001b[0m. **Broad Application**: It's particularly beneficial for professionals in finance, science, policy, and \n",
              "engineering, but can also assist consumers searching for detailed recommendations and analyses.\n",
              "\n",
              "\u001b[1;36m4\u001b[0m. **Documentation and Citation**: Every output comes with clear citations and a summary of the reasoning process, \n",
              "enhancing transparency and reliability.\n",
              "\n",
              "\u001b[1;36m5\u001b[0m. **Tools and Training**: It was trained using real-world tasks that require web browsing and data analysis, \n",
              "employing advanced reinforcement learning methods. This allows it to efficiently execute multi-step \n",
              "information-gathering tasks. \n",
              "\n",
              "Overall, Deep Research represents a significant advancement towards OpenAI’s goal of developing artificial general \n",
              "intelligence \u001b[1m(\u001b[0mAGI\u001b[1m)\u001b[0m by enhancing the ability to synthesize knowledge and produce novel outputs.\n"
            ],
            "text/html": [
              "<pre style=\"white-space:pre;overflow-x:auto;line-height:normal;font-family:Menlo,'DejaVu Sans Mono',consolas,'Courier New',monospace\">Deep Research by OpenAI is a new capability integrated into ChatGPT, designed to handle complex, multi-step \n",
              "research tasks efficiently. It allows users to conduct thorough web research by synthesizing information from \n",
              "numerous online sources quickly, achieving results in minutes that would typically take hours for a human.\n",
              "\n",
              "Here are some key features of Deep Research:\n",
              "\n",
              "<span style=\"color: #008080; text-decoration-color: #008080; font-weight: bold\">1</span>. **Autonomous Research Agent**: It independently finds, analyzes, and synthesizes vast amounts of data to create \n",
              "comprehensive reports comparable to a research analyst's output.\n",
              "   \n",
              "<span style=\"color: #008080; text-decoration-color: #008080; font-weight: bold\">2</span>. **Reasoning and Synthesis**: Deep Research is capable of reasoning to examine large datasets, interpret various \n",
              "forms of content <span style=\"font-weight: bold\">(</span>text, images, PDFs<span style=\"font-weight: bold\">)</span>, and pivot its approach based on new findings.\n",
              "\n",
              "<span style=\"color: #008080; text-decoration-color: #008080; font-weight: bold\">3</span>. **Broad Application**: It's particularly beneficial for professionals in finance, science, policy, and \n",
              "engineering, but can also assist consumers searching for detailed recommendations and analyses.\n",
              "\n",
              "<span style=\"color: #008080; text-decoration-color: #008080; font-weight: bold\">4</span>. **Documentation and Citation**: Every output comes with clear citations and a summary of the reasoning process, \n",
              "enhancing transparency and reliability.\n",
              "\n",
              "<span style=\"color: #008080; text-decoration-color: #008080; font-weight: bold\">5</span>. **Tools and Training**: It was trained using real-world tasks that require web browsing and data analysis, \n",
              "employing advanced reinforcement learning methods. This allows it to efficiently execute multi-step \n",
              "information-gathering tasks. \n",
              "\n",
              "Overall, Deep Research represents a significant advancement towards OpenAI’s goal of developing artificial general \n",
              "intelligence <span style=\"font-weight: bold\">(</span>AGI<span style=\"font-weight: bold\">)</span> by enhancing the ability to synthesize knowledge and produce novel outputs.\n",
              "</pre>\n"
            ]
          },
          "metadata": {}
        },
        {
          "output_type": "display_data",
          "data": {
            "text/plain": [
              "\u001b[1m[\u001b[0m\n",
              "    \u001b[1;35mResult\u001b[0m\u001b[1m(\u001b[0m\n",
              "        \u001b[33mattributes\u001b[0m=\u001b[1m{\u001b[0m\u001b[1m}\u001b[0m,\n",
              "        \u001b[33mfile_id\u001b[0m=\u001b[32m'file-BE3vg12ZPEvwT2R6EGEoCu'\u001b[0m,\n",
              "        \u001b[33mfilename\u001b[0m=\u001b[32m'deep_research_blog.pdf'\u001b[0m,\n",
              "        \u001b[33mscore\u001b[0m=\u001b[1;36m0\u001b[0m\u001b[1;36m.9820093016280954\u001b[0m,\n",
              "        \u001b[33mtext\u001b[0m=\u001b[32m\"Introducing\u001b[0m\u001b[32m deep research | OpenAI\\n\\n\\nFebruary 2, 2025 Release\\n\\nIntroducing deep research\\nAn \u001b[0m\n",
              "\u001b[32magent that uses reasoning to synthesize large amounts of\\nonline information and complete multi-step research \u001b[0m\n",
              "\u001b[32mtasks\\nfor you. Available to Pro users today, Plus and Team next.\\n\\nTry on ChatGPT\\n\\nListen to article 8:18 \u001b[0m\n",
              "\u001b[32mShare\\n\\n21/02/2025, 19:58 Introducing deep research | \u001b[0m\n",
              "\u001b[32mOpenAI\\n\\nhttps://openai.com/index/introducing-deep-research/ \u001b[0m\n",
              "\u001b[32m1/38\\n\\nhttps://openai.com/research/index/release/\\nhttps://chatgpt.com/\\nhttps://openai.com/\\n\\n\\nToday we’re \u001b[0m\n",
              "\u001b[32mlaunching deep research in ChatGPT, a new agentic capability that\\nconducts multi-step research on the internet for\u001b[0m\n",
              "\u001b[32mcomplex tasks. It accomplishes in\\ntens of minutes what would take a human many hours.\\n\\nDeep research is OpenAI's\u001b[0m\n",
              "\u001b[32mnext agent that can do work for you independently—you\\ngive it a prompt, and ChatGPT will find, analyze, and \u001b[0m\n",
              "\u001b[32msynthesize hundreds of online\\nsources to create a comprehensive report at the level of a research analyst. \u001b[0m\n",
              "\u001b[32mPowered\\nby a version of the upcoming OpenAI o3 model that’s optimized for web browsing and\\ndata analysis, it \u001b[0m\n",
              "\u001b[32mleverages reasoning to search, interpret, and analyze massive amounts\\nof text, images, and PDFs on the internet, \u001b[0m\n",
              "\u001b[32mpivoting as needed in reaction to information\\nit encounters.\\n\\nThe ability to synthesize knowledge is a \u001b[0m\n",
              "\u001b[32mprerequisite for creating new knowledge. For\\nthis reason, deep research marks a significant step toward our \u001b[0m\n",
              "\u001b[32mbroader goal of\\ndeveloping AGI, which we have long envisioned as capable of producing novel\\nscientific \u001b[0m\n",
              "\u001b[32mresearch.\\n\\nWhy we built deep research\\n\\nDeep research is built for people who do intensive knowledge work in \u001b[0m\n",
              "\u001b[32mareas like\\nfinance, science, policy, and engineering and need thorough, precise, and reliable\\nresearch. It can be\u001b[0m\n",
              "\u001b[32mequally useful for discerning shoppers looking for hyper-\\npersonalized recommendations on purchases that typically\u001b[0m\n",
              "\u001b[32mrequire careful research,\\nlike cars, appliances, and furniture. Every output is fully documented, with \u001b[0m\n",
              "\u001b[32mclear\\ncitations and a summary of its thinking, making it easy to reference and verify the\\ninformation. It is \u001b[0m\n",
              "\u001b[32mparticularly effective at finding niche, non-intuitive information that\\nwould require browsing numerous websites. \u001b[0m\n",
              "\u001b[32mDeep research frees up valuable time by\\nallowing you to offload and expedite complex, time-intensive web research \u001b[0m\n",
              "\u001b[32mwith just\\none query.\\n\\nDeep research independently discovers, reasons about, and consolidates insights \u001b[0m\n",
              "\u001b[32mfrom\\nacross the web. To accomplish this, it was trained on real-world tasks requiring\\nbrowser and Python tool \u001b[0m\n",
              "\u001b[32muse, using the same reinforcement learning methods behind\\nOpenAI o1, our first reasoning model. While o1 \u001b[0m\n",
              "\u001b[32mdemonstrates impressive capabilities in\\n\\n21/02/2025, 19:58 Introducing deep research | \u001b[0m\n",
              "\u001b[32mOpenAI\\n\\nhttps://openai.com/index/introducing-deep-research/ 2/38\\n\\nhttps://openai.com/\\n\\n\\ncoding, math, and \u001b[0m\n",
              "\u001b[32mother technical domains, many real-world challenges demand\\nextensive context and information gathering from \u001b[0m\n",
              "\u001b[32mdiverse online sources. Deep\\nresearch builds on these reasoning capabilities to bridge that gap, allowing it to \u001b[0m\n",
              "\u001b[32mtake\\non the types of problems people face in work and everyday life.\\n\\nHow to use deep research\\n\\nIn ChatGPT, \u001b[0m\n",
              "\u001b[32mselect ‘deep research’ in the message composer and enter your query. Tell\\nChatGPT what you need—whether it’s a \u001b[0m\n",
              "\u001b[32mcompetitive analysis on streaming platforms\\nor a personalized report on the best commuter bike. You can attach \u001b[0m\n",
              "\u001b[32mfiles or\\nspreadsheets to add context to your question. Once it starts running, a sidebar\\nappears with a summary \u001b[0m\n",
              "\u001b[32mof the steps taken and sources used.\"\u001b[0m\n",
              "    \u001b[1m)\u001b[0m,\n",
              "    \u001b[1;35mResult\u001b[0m\u001b[1m(\u001b[0m\n",
              "        \u001b[33mattributes\u001b[0m=\u001b[1m{\u001b[0m\u001b[1m}\u001b[0m,\n",
              "        \u001b[33mfile_id\u001b[0m=\u001b[32m'file-BE3vg12ZPEvwT2R6EGEoCu'\u001b[0m,\n",
              "        \u001b[33mfilename\u001b[0m=\u001b[32m'deep_research_blog.pdf'\u001b[0m,\n",
              "        \u001b[33mscore\u001b[0m=\u001b[1;36m0\u001b[0m\u001b[1;36m.946322956540013\u001b[0m,\n",
              "        \u001b[33mtext\u001b[0m=\u001b[32m\"Deep\u001b[0m\u001b[32m research\\n\\nHelp me find iOS and android adoption rates, % who want to learn\\nanother language, \u001b[0m\n",
              "\u001b[32mand change in mobile penetration, over the past 10\\nyears, for top 10 developed and top 10 developing countries by \u001b[0m\n",
              "\u001b[32mGDP.\\nLay this info out in a table and separate stats into columns, and include\\nrecommendations on markets to \u001b[0m\n",
              "\u001b[32mtarget for a new iOS translation app\\nfrom ChatGPT, focusing on markets ChatGPT is currently active in.\\n\\nTop 10 \u001b[0m\n",
              "\u001b[32mDeveloped Economies \u001b[0m\u001b[32m(\u001b[0m\u001b[32mby GDP\u001b[0m\u001b[32m)\u001b[0m\u001b[32m – Smartphone OS Share,\\n\\nLanguage-Learning Interest, and Mobile Penetration \u001b[0m\n",
              "\u001b[32mGrowth\\n\\nCountry iOS\\n\\nMarket\\n\\nShare\\n\\nAndroid\\n\\nMarket\\n\\nShare\\n\\nInterest in New\\n\\nLanguage\\n\\n\u001b[0m\u001b[32m(\u001b[0m\u001b[32m% of \u001b[0m\n",
              "\u001b[32mpopulation\u001b[0m\u001b[32m)\u001b[0m\u001b[32m\\n\\nMobile\\n\\nPenetration\\n\\nChange\\n\\n\u001b[0m\u001b[32m(\u001b[0m\u001b[32m2013→2023\u001b[0m\u001b[32m)\u001b[0m\u001b[32m\\n\\n21/02/2025, 19:58 Introducing deep research | \u001b[0m\n",
              "\u001b[32mOpenAI\\n\\nhttps://openai.com/index/introducing-deep-research/ 4/38\\n\\nhttps://openai.com/\\n\\n\\nHow it works\\n\\nDeep\u001b[0m\n",
              "\u001b[32mresearch was trained using end-to-end reinforcement learning on hard browsing\\nand reasoning tasks across a range \u001b[0m\n",
              "\u001b[32mof domains. Through that training, it learned to\\nplan and execute a multi-step trajectory to find the data it \u001b[0m\n",
              "\u001b[32mneeds, backtracking and\\nreacting to real-time information where necessary. The model is also able to browse\\nover \u001b[0m\n",
              "\u001b[32muser uploaded files, plot and iterate on graphs using the python tool, embed both\\ngenerated graphs and images from\u001b[0m\n",
              "\u001b[32mwebsites in its responses, and cite specific\\nsentences or passages from its sources. As a result of this training,\u001b[0m\n",
              "\u001b[32mit reaches new\\nhighs on a number of public evaluations focused on real-world problems.\\n\\nHumanity's Last \u001b[0m\n",
              "\u001b[32mExam\\n\\nOn Humanity’s Last Exam , a recently released evaluation that tests AI across a broad\\nrange of subjects on\u001b[0m\n",
              "\u001b[32mexpert-level questions, the model powering deep research scores\\na new high at 26.6% accuracy. This test consists \u001b[0m\n",
              "\u001b[32mof over 3,000 multiple choice and\\nshort answer questions across more than 100 subjects from linguistics to \u001b[0m\n",
              "\u001b[32mrocket\\nscience, classics to ecology. Compared to OpenAI o1, the largest gains appeared in\\nchemistry, humanities \u001b[0m\n",
              "\u001b[32mand social sciences, and mathematics. The model powering\\ndeep research showcased a human-like approach by \u001b[0m\n",
              "\u001b[32meffectively seeking out\\nspecialized information when necessary.\\n\\nModel\\nAccuracy\\n\\n\u001b[0m\u001b[32m(\u001b[0m\u001b[32m%\u001b[0m\u001b[32m)\u001b[0m\u001b[32m\\n\\nGPT-4o 3.3\\n\\nGrok-2 \u001b[0m\n",
              "\u001b[32m3.8\\n\\nClaude 3.5 Sonnet 4.3\\n\\ncomparison. It uses that information to offer detailed market-entry recommendations\u001b[0m\n",
              "\u001b[32mthat are\\ninformed and usable.\\n\\n21/02/2025, 19:58 Introducing deep research | \u001b[0m\n",
              "\u001b[32mOpenAI\\n\\nhttps://openai.com/index/introducing-deep-research/ \u001b[0m\n",
              "\u001b[32m5/38\\n\\nhttps://lastexam.ai/\\nhttps://openai.com/\\n\\n\\nModel\\nAccuracy\\n\\n\u001b[0m\u001b[32m(\u001b[0m\u001b[32m%\u001b[0m\u001b[32m)\u001b[0m\u001b[32m\\n\\nGemini Thinking 6.2\\n\\nOpenAI o1 \u001b[0m\n",
              "\u001b[32m9.1\\n\\nDeepSeek-R1* 9.4\\n\\nOpenAI o3-mini\\n\u001b[0m\u001b[32m(\u001b[0m\u001b[32mmedium\u001b[0m\u001b[32m)\u001b[0m\u001b[32m*\\n\\n10.5\\n\\nOpenAI o3-mini \u001b[0m\u001b[32m(\u001b[0m\u001b[32mhigh\u001b[0m\u001b[32m)\u001b[0m\u001b[32m* 13.0\\n\\nOpenAI deep \u001b[0m\n",
              "\u001b[32mresearch** 26.6\\n\\n* Model is not multi-modal,\\nevaluated on text-only subset.\\n**with browsing + python \u001b[0m\n",
              "\u001b[32mtools\\n\\nGAIA\\n\\nOn GAIA , a public benchmark that evaluates AI on real-world questions, the model\\npowering deep \u001b[0m\n",
              "\u001b[32mresearch reaches a new state of the art \u001b[0m\u001b[32m(\u001b[0m\u001b[32mSOTA\u001b[0m\u001b[32m)\u001b[0m\u001b[32m, topping the external\\nleaderboard . Encompassing questions across \u001b[0m\n",
              "\u001b[32mthree levels of difficulty, successful\\ncompletion of these tasks requires abilities including reasoning, \u001b[0m\n",
              "\u001b[32mmulti-modal fluency,\\nweb browsing, and tool-use \u001b[0m\n",
              "\u001b[32mproficiency.\\n\\nGAIA\\n\\nLevel\\n\\n1\\n\\nLevel\\n\\n2\\n\\nLevel\\n\\n3\\nAvg.\\n\\n67.92 67.44 42.31 \u001b[0m\n",
              "\u001b[32m63.64\\n\\nDeep\\nResearch\\n\u001b[0m\u001b[32m(\u001b[0m\u001b[32mpass@1\u001b[0m\u001b[32m)\u001b[0m\u001b[32m\"\u001b[0m\n",
              "    \u001b[1m)\u001b[0m\n",
              "\u001b[1m]\u001b[0m\n"
            ],
            "text/html": [
              "<pre style=\"white-space:pre;overflow-x:auto;line-height:normal;font-family:Menlo,'DejaVu Sans Mono',consolas,'Courier New',monospace\"><span style=\"font-weight: bold\">[</span>\n",
              "    <span style=\"color: #800080; text-decoration-color: #800080; font-weight: bold\">Result</span><span style=\"font-weight: bold\">(</span>\n",
              "        <span style=\"color: #808000; text-decoration-color: #808000\">attributes</span>=<span style=\"font-weight: bold\">{}</span>,\n",
              "        <span style=\"color: #808000; text-decoration-color: #808000\">file_id</span>=<span style=\"color: #008000; text-decoration-color: #008000\">'file-BE3vg12ZPEvwT2R6EGEoCu'</span>,\n",
              "        <span style=\"color: #808000; text-decoration-color: #808000\">filename</span>=<span style=\"color: #008000; text-decoration-color: #008000\">'deep_research_blog.pdf'</span>,\n",
              "        <span style=\"color: #808000; text-decoration-color: #808000\">score</span>=<span style=\"color: #008080; text-decoration-color: #008080; font-weight: bold\">0.9820093016280954</span>,\n",
              "        <span style=\"color: #808000; text-decoration-color: #808000\">text</span>=<span style=\"color: #008000; text-decoration-color: #008000\">\"Introducing deep research | OpenAI\\n\\n\\nFebruary 2, 2025 Release\\n\\nIntroducing deep research\\nAn </span>\n",
              "<span style=\"color: #008000; text-decoration-color: #008000\">agent that uses reasoning to synthesize large amounts of\\nonline information and complete multi-step research </span>\n",
              "<span style=\"color: #008000; text-decoration-color: #008000\">tasks\\nfor you. Available to Pro users today, Plus and Team next.\\n\\nTry on ChatGPT\\n\\nListen to article 8:18 </span>\n",
              "<span style=\"color: #008000; text-decoration-color: #008000\">Share\\n\\n21/02/2025, 19:58 Introducing deep research | </span>\n",
              "<span style=\"color: #008000; text-decoration-color: #008000\">OpenAI\\n\\nhttps://openai.com/index/introducing-deep-research/ </span>\n",
              "<span style=\"color: #008000; text-decoration-color: #008000\">1/38\\n\\nhttps://openai.com/research/index/release/\\nhttps://chatgpt.com/\\nhttps://openai.com/\\n\\n\\nToday we’re </span>\n",
              "<span style=\"color: #008000; text-decoration-color: #008000\">launching deep research in ChatGPT, a new agentic capability that\\nconducts multi-step research on the internet for</span>\n",
              "<span style=\"color: #008000; text-decoration-color: #008000\">complex tasks. It accomplishes in\\ntens of minutes what would take a human many hours.\\n\\nDeep research is OpenAI's</span>\n",
              "<span style=\"color: #008000; text-decoration-color: #008000\">next agent that can do work for you independently—you\\ngive it a prompt, and ChatGPT will find, analyze, and </span>\n",
              "<span style=\"color: #008000; text-decoration-color: #008000\">synthesize hundreds of online\\nsources to create a comprehensive report at the level of a research analyst. </span>\n",
              "<span style=\"color: #008000; text-decoration-color: #008000\">Powered\\nby a version of the upcoming OpenAI o3 model that’s optimized for web browsing and\\ndata analysis, it </span>\n",
              "<span style=\"color: #008000; text-decoration-color: #008000\">leverages reasoning to search, interpret, and analyze massive amounts\\nof text, images, and PDFs on the internet, </span>\n",
              "<span style=\"color: #008000; text-decoration-color: #008000\">pivoting as needed in reaction to information\\nit encounters.\\n\\nThe ability to synthesize knowledge is a </span>\n",
              "<span style=\"color: #008000; text-decoration-color: #008000\">prerequisite for creating new knowledge. For\\nthis reason, deep research marks a significant step toward our </span>\n",
              "<span style=\"color: #008000; text-decoration-color: #008000\">broader goal of\\ndeveloping AGI, which we have long envisioned as capable of producing novel\\nscientific </span>\n",
              "<span style=\"color: #008000; text-decoration-color: #008000\">research.\\n\\nWhy we built deep research\\n\\nDeep research is built for people who do intensive knowledge work in </span>\n",
              "<span style=\"color: #008000; text-decoration-color: #008000\">areas like\\nfinance, science, policy, and engineering and need thorough, precise, and reliable\\nresearch. It can be</span>\n",
              "<span style=\"color: #008000; text-decoration-color: #008000\">equally useful for discerning shoppers looking for hyper-\\npersonalized recommendations on purchases that typically</span>\n",
              "<span style=\"color: #008000; text-decoration-color: #008000\">require careful research,\\nlike cars, appliances, and furniture. Every output is fully documented, with </span>\n",
              "<span style=\"color: #008000; text-decoration-color: #008000\">clear\\ncitations and a summary of its thinking, making it easy to reference and verify the\\ninformation. It is </span>\n",
              "<span style=\"color: #008000; text-decoration-color: #008000\">particularly effective at finding niche, non-intuitive information that\\nwould require browsing numerous websites. </span>\n",
              "<span style=\"color: #008000; text-decoration-color: #008000\">Deep research frees up valuable time by\\nallowing you to offload and expedite complex, time-intensive web research </span>\n",
              "<span style=\"color: #008000; text-decoration-color: #008000\">with just\\none query.\\n\\nDeep research independently discovers, reasons about, and consolidates insights </span>\n",
              "<span style=\"color: #008000; text-decoration-color: #008000\">from\\nacross the web. To accomplish this, it was trained on real-world tasks requiring\\nbrowser and Python tool </span>\n",
              "<span style=\"color: #008000; text-decoration-color: #008000\">use, using the same reinforcement learning methods behind\\nOpenAI o1, our first reasoning model. While o1 </span>\n",
              "<span style=\"color: #008000; text-decoration-color: #008000\">demonstrates impressive capabilities in\\n\\n21/02/2025, 19:58 Introducing deep research | </span>\n",
              "<span style=\"color: #008000; text-decoration-color: #008000\">OpenAI\\n\\nhttps://openai.com/index/introducing-deep-research/ 2/38\\n\\nhttps://openai.com/\\n\\n\\ncoding, math, and </span>\n",
              "<span style=\"color: #008000; text-decoration-color: #008000\">other technical domains, many real-world challenges demand\\nextensive context and information gathering from </span>\n",
              "<span style=\"color: #008000; text-decoration-color: #008000\">diverse online sources. Deep\\nresearch builds on these reasoning capabilities to bridge that gap, allowing it to </span>\n",
              "<span style=\"color: #008000; text-decoration-color: #008000\">take\\non the types of problems people face in work and everyday life.\\n\\nHow to use deep research\\n\\nIn ChatGPT, </span>\n",
              "<span style=\"color: #008000; text-decoration-color: #008000\">select ‘deep research’ in the message composer and enter your query. Tell\\nChatGPT what you need—whether it’s a </span>\n",
              "<span style=\"color: #008000; text-decoration-color: #008000\">competitive analysis on streaming platforms\\nor a personalized report on the best commuter bike. You can attach </span>\n",
              "<span style=\"color: #008000; text-decoration-color: #008000\">files or\\nspreadsheets to add context to your question. Once it starts running, a sidebar\\nappears with a summary </span>\n",
              "<span style=\"color: #008000; text-decoration-color: #008000\">of the steps taken and sources used.\"</span>\n",
              "    <span style=\"font-weight: bold\">)</span>,\n",
              "    <span style=\"color: #800080; text-decoration-color: #800080; font-weight: bold\">Result</span><span style=\"font-weight: bold\">(</span>\n",
              "        <span style=\"color: #808000; text-decoration-color: #808000\">attributes</span>=<span style=\"font-weight: bold\">{}</span>,\n",
              "        <span style=\"color: #808000; text-decoration-color: #808000\">file_id</span>=<span style=\"color: #008000; text-decoration-color: #008000\">'file-BE3vg12ZPEvwT2R6EGEoCu'</span>,\n",
              "        <span style=\"color: #808000; text-decoration-color: #808000\">filename</span>=<span style=\"color: #008000; text-decoration-color: #008000\">'deep_research_blog.pdf'</span>,\n",
              "        <span style=\"color: #808000; text-decoration-color: #808000\">score</span>=<span style=\"color: #008080; text-decoration-color: #008080; font-weight: bold\">0.946322956540013</span>,\n",
              "        <span style=\"color: #808000; text-decoration-color: #808000\">text</span>=<span style=\"color: #008000; text-decoration-color: #008000\">\"Deep research\\n\\nHelp me find iOS and android adoption rates, % who want to learn\\nanother language, </span>\n",
              "<span style=\"color: #008000; text-decoration-color: #008000\">and change in mobile penetration, over the past 10\\nyears, for top 10 developed and top 10 developing countries by </span>\n",
              "<span style=\"color: #008000; text-decoration-color: #008000\">GDP.\\nLay this info out in a table and separate stats into columns, and include\\nrecommendations on markets to </span>\n",
              "<span style=\"color: #008000; text-decoration-color: #008000\">target for a new iOS translation app\\nfrom ChatGPT, focusing on markets ChatGPT is currently active in.\\n\\nTop 10 </span>\n",
              "<span style=\"color: #008000; text-decoration-color: #008000\">Developed Economies (by GDP) – Smartphone OS Share,\\n\\nLanguage-Learning Interest, and Mobile Penetration </span>\n",
              "<span style=\"color: #008000; text-decoration-color: #008000\">Growth\\n\\nCountry iOS\\n\\nMarket\\n\\nShare\\n\\nAndroid\\n\\nMarket\\n\\nShare\\n\\nInterest in New\\n\\nLanguage\\n\\n(% of </span>\n",
              "<span style=\"color: #008000; text-decoration-color: #008000\">population)\\n\\nMobile\\n\\nPenetration\\n\\nChange\\n\\n(2013→2023)\\n\\n21/02/2025, 19:58 Introducing deep research | </span>\n",
              "<span style=\"color: #008000; text-decoration-color: #008000\">OpenAI\\n\\nhttps://openai.com/index/introducing-deep-research/ 4/38\\n\\nhttps://openai.com/\\n\\n\\nHow it works\\n\\nDeep</span>\n",
              "<span style=\"color: #008000; text-decoration-color: #008000\">research was trained using end-to-end reinforcement learning on hard browsing\\nand reasoning tasks across a range </span>\n",
              "<span style=\"color: #008000; text-decoration-color: #008000\">of domains. Through that training, it learned to\\nplan and execute a multi-step trajectory to find the data it </span>\n",
              "<span style=\"color: #008000; text-decoration-color: #008000\">needs, backtracking and\\nreacting to real-time information where necessary. The model is also able to browse\\nover </span>\n",
              "<span style=\"color: #008000; text-decoration-color: #008000\">user uploaded files, plot and iterate on graphs using the python tool, embed both\\ngenerated graphs and images from</span>\n",
              "<span style=\"color: #008000; text-decoration-color: #008000\">websites in its responses, and cite specific\\nsentences or passages from its sources. As a result of this training,</span>\n",
              "<span style=\"color: #008000; text-decoration-color: #008000\">it reaches new\\nhighs on a number of public evaluations focused on real-world problems.\\n\\nHumanity's Last </span>\n",
              "<span style=\"color: #008000; text-decoration-color: #008000\">Exam\\n\\nOn Humanity’s Last Exam , a recently released evaluation that tests AI across a broad\\nrange of subjects on</span>\n",
              "<span style=\"color: #008000; text-decoration-color: #008000\">expert-level questions, the model powering deep research scores\\na new high at 26.6% accuracy. This test consists </span>\n",
              "<span style=\"color: #008000; text-decoration-color: #008000\">of over 3,000 multiple choice and\\nshort answer questions across more than 100 subjects from linguistics to </span>\n",
              "<span style=\"color: #008000; text-decoration-color: #008000\">rocket\\nscience, classics to ecology. Compared to OpenAI o1, the largest gains appeared in\\nchemistry, humanities </span>\n",
              "<span style=\"color: #008000; text-decoration-color: #008000\">and social sciences, and mathematics. The model powering\\ndeep research showcased a human-like approach by </span>\n",
              "<span style=\"color: #008000; text-decoration-color: #008000\">effectively seeking out\\nspecialized information when necessary.\\n\\nModel\\nAccuracy\\n\\n(%)\\n\\nGPT-4o 3.3\\n\\nGrok-2 </span>\n",
              "<span style=\"color: #008000; text-decoration-color: #008000\">3.8\\n\\nClaude 3.5 Sonnet 4.3\\n\\ncomparison. It uses that information to offer detailed market-entry recommendations</span>\n",
              "<span style=\"color: #008000; text-decoration-color: #008000\">that are\\ninformed and usable.\\n\\n21/02/2025, 19:58 Introducing deep research | </span>\n",
              "<span style=\"color: #008000; text-decoration-color: #008000\">OpenAI\\n\\nhttps://openai.com/index/introducing-deep-research/ </span>\n",
              "<span style=\"color: #008000; text-decoration-color: #008000\">5/38\\n\\nhttps://lastexam.ai/\\nhttps://openai.com/\\n\\n\\nModel\\nAccuracy\\n\\n(%)\\n\\nGemini Thinking 6.2\\n\\nOpenAI o1 </span>\n",
              "<span style=\"color: #008000; text-decoration-color: #008000\">9.1\\n\\nDeepSeek-R1* 9.4\\n\\nOpenAI o3-mini\\n(medium)*\\n\\n10.5\\n\\nOpenAI o3-mini (high)* 13.0\\n\\nOpenAI deep </span>\n",
              "<span style=\"color: #008000; text-decoration-color: #008000\">research** 26.6\\n\\n* Model is not multi-modal,\\nevaluated on text-only subset.\\n**with browsing + python </span>\n",
              "<span style=\"color: #008000; text-decoration-color: #008000\">tools\\n\\nGAIA\\n\\nOn GAIA , a public benchmark that evaluates AI on real-world questions, the model\\npowering deep </span>\n",
              "<span style=\"color: #008000; text-decoration-color: #008000\">research reaches a new state of the art (SOTA), topping the external\\nleaderboard . Encompassing questions across </span>\n",
              "<span style=\"color: #008000; text-decoration-color: #008000\">three levels of difficulty, successful\\ncompletion of these tasks requires abilities including reasoning, </span>\n",
              "<span style=\"color: #008000; text-decoration-color: #008000\">multi-modal fluency,\\nweb browsing, and tool-use </span>\n",
              "<span style=\"color: #008000; text-decoration-color: #008000\">proficiency.\\n\\nGAIA\\n\\nLevel\\n\\n1\\n\\nLevel\\n\\n2\\n\\nLevel\\n\\n3\\nAvg.\\n\\n67.92 67.44 42.31 </span>\n",
              "<span style=\"color: #008000; text-decoration-color: #008000\">63.64\\n\\nDeep\\nResearch\\n(pass@1)\"</span>\n",
              "    <span style=\"font-weight: bold\">)</span>\n",
              "<span style=\"font-weight: bold\">]</span>\n",
              "</pre>\n"
            ]
          },
          "metadata": {}
        },
        {
          "output_type": "display_data",
          "data": {
            "text/plain": [
              "\u001b[1;35mResponseOutputMessage\u001b[0m\u001b[1m(\u001b[0m\n",
              "    \u001b[33mid\u001b[0m=\u001b[32m'msg_67e390bdf97481928c6b0d829a885c110dcae4f636bbcc19'\u001b[0m,\n",
              "    \u001b[33mcontent\u001b[0m=\u001b[1m[\u001b[0m\n",
              "        \u001b[1;35mResponseOutputText\u001b[0m\u001b[1m(\u001b[0m\n",
              "            \u001b[33mannotations\u001b[0m=\u001b[1m[\u001b[0m\n",
              "                \u001b[1;35mAnnotationFileCitation\u001b[0m\u001b[1m(\u001b[0m\n",
              "                    \u001b[33mfile_id\u001b[0m=\u001b[32m'file-BE3vg12ZPEvwT2R6EGEoCu'\u001b[0m,\n",
              "                    \u001b[33mindex\u001b[0m=\u001b[1;36m1353\u001b[0m,\n",
              "                    \u001b[33mtype\u001b[0m=\u001b[32m'file_citation'\u001b[0m,\n",
              "                    \u001b[33mfilename\u001b[0m=\u001b[32m'deep_research_blog.pdf'\u001b[0m\n",
              "                \u001b[1m)\u001b[0m,\n",
              "                \u001b[1;35mAnnotationFileCitation\u001b[0m\u001b[1m(\u001b[0m\n",
              "                    \u001b[33mfile_id\u001b[0m=\u001b[32m'file-BE3vg12ZPEvwT2R6EGEoCu'\u001b[0m,\n",
              "                    \u001b[33mindex\u001b[0m=\u001b[1;36m1565\u001b[0m,\n",
              "                    \u001b[33mtype\u001b[0m=\u001b[32m'file_citation'\u001b[0m,\n",
              "                    \u001b[33mfilename\u001b[0m=\u001b[32m'deep_research_blog.pdf'\u001b[0m\n",
              "                \u001b[1m)\u001b[0m\n",
              "            \u001b[1m]\u001b[0m,\n",
              "            \u001b[33mtext\u001b[0m=\u001b[32m\"Deep\u001b[0m\u001b[32m Research by OpenAI is a new capability integrated into ChatGPT, designed to handle complex, \u001b[0m\n",
              "\u001b[32mmulti-step research tasks efficiently. It allows users to conduct thorough web research by synthesizing information\u001b[0m\n",
              "\u001b[32mfrom numerous online sources quickly, achieving results in minutes that would typically take hours for a \u001b[0m\n",
              "\u001b[32mhuman.\\n\\nHere are some key features of Deep Research:\\n\\n1. **Autonomous Research Agent**: It independently finds,\u001b[0m\n",
              "\u001b[32manalyzes, and synthesizes vast amounts of data to create comprehensive reports comparable to a research analyst's \u001b[0m\n",
              "\u001b[32moutput.\\n   \\n2. **Reasoning and Synthesis**: Deep Research is capable of reasoning to examine large datasets, \u001b[0m\n",
              "\u001b[32minterpret various forms of content \u001b[0m\u001b[32m(\u001b[0m\u001b[32mtext, images, PDFs\u001b[0m\u001b[32m)\u001b[0m\u001b[32m, and pivot its approach based on new findings.\\n\\n3. \u001b[0m\n",
              "\u001b[32m**Broad Application**: It's particularly beneficial for professionals in finance, science, policy, and engineering,\u001b[0m\n",
              "\u001b[32mbut can also assist consumers searching for detailed recommendations and analyses.\\n\\n4. **Documentation and \u001b[0m\n",
              "\u001b[32mCitation**: Every output comes with clear citations and a summary of the reasoning process, enhancing transparency \u001b[0m\n",
              "\u001b[32mand reliability.\\n\\n5. **Tools and Training**: It was trained using real-world tasks that require web browsing and \u001b[0m\n",
              "\u001b[32mdata analysis, employing advanced reinforcement learning methods. This allows it to efficiently execute multi-step \u001b[0m\n",
              "\u001b[32minformation-gathering tasks. \\n\\nOverall, Deep Research represents a significant advancement towards OpenAI’s goal \u001b[0m\n",
              "\u001b[32mof developing artificial general intelligence \u001b[0m\u001b[32m(\u001b[0m\u001b[32mAGI\u001b[0m\u001b[32m)\u001b[0m\u001b[32m by enhancing the ability to synthesize knowledge and produce \u001b[0m\n",
              "\u001b[32mnovel outputs.\"\u001b[0m,\n",
              "            \u001b[33mtype\u001b[0m=\u001b[32m'output_text'\u001b[0m\n",
              "        \u001b[1m)\u001b[0m\n",
              "    \u001b[1m]\u001b[0m,\n",
              "    \u001b[33mrole\u001b[0m=\u001b[32m'assistant'\u001b[0m,\n",
              "    \u001b[33mstatus\u001b[0m=\u001b[32m'completed'\u001b[0m,\n",
              "    \u001b[33mtype\u001b[0m=\u001b[32m'message'\u001b[0m\n",
              "\u001b[1m)\u001b[0m\n"
            ],
            "text/html": [
              "<pre style=\"white-space:pre;overflow-x:auto;line-height:normal;font-family:Menlo,'DejaVu Sans Mono',consolas,'Courier New',monospace\"><span style=\"color: #800080; text-decoration-color: #800080; font-weight: bold\">ResponseOutputMessage</span><span style=\"font-weight: bold\">(</span>\n",
              "    <span style=\"color: #808000; text-decoration-color: #808000\">id</span>=<span style=\"color: #008000; text-decoration-color: #008000\">'msg_67e390bdf97481928c6b0d829a885c110dcae4f636bbcc19'</span>,\n",
              "    <span style=\"color: #808000; text-decoration-color: #808000\">content</span>=<span style=\"font-weight: bold\">[</span>\n",
              "        <span style=\"color: #800080; text-decoration-color: #800080; font-weight: bold\">ResponseOutputText</span><span style=\"font-weight: bold\">(</span>\n",
              "            <span style=\"color: #808000; text-decoration-color: #808000\">annotations</span>=<span style=\"font-weight: bold\">[</span>\n",
              "                <span style=\"color: #800080; text-decoration-color: #800080; font-weight: bold\">AnnotationFileCitation</span><span style=\"font-weight: bold\">(</span>\n",
              "                    <span style=\"color: #808000; text-decoration-color: #808000\">file_id</span>=<span style=\"color: #008000; text-decoration-color: #008000\">'file-BE3vg12ZPEvwT2R6EGEoCu'</span>,\n",
              "                    <span style=\"color: #808000; text-decoration-color: #808000\">index</span>=<span style=\"color: #008080; text-decoration-color: #008080; font-weight: bold\">1353</span>,\n",
              "                    <span style=\"color: #808000; text-decoration-color: #808000\">type</span>=<span style=\"color: #008000; text-decoration-color: #008000\">'file_citation'</span>,\n",
              "                    <span style=\"color: #808000; text-decoration-color: #808000\">filename</span>=<span style=\"color: #008000; text-decoration-color: #008000\">'deep_research_blog.pdf'</span>\n",
              "                <span style=\"font-weight: bold\">)</span>,\n",
              "                <span style=\"color: #800080; text-decoration-color: #800080; font-weight: bold\">AnnotationFileCitation</span><span style=\"font-weight: bold\">(</span>\n",
              "                    <span style=\"color: #808000; text-decoration-color: #808000\">file_id</span>=<span style=\"color: #008000; text-decoration-color: #008000\">'file-BE3vg12ZPEvwT2R6EGEoCu'</span>,\n",
              "                    <span style=\"color: #808000; text-decoration-color: #808000\">index</span>=<span style=\"color: #008080; text-decoration-color: #008080; font-weight: bold\">1565</span>,\n",
              "                    <span style=\"color: #808000; text-decoration-color: #808000\">type</span>=<span style=\"color: #008000; text-decoration-color: #008000\">'file_citation'</span>,\n",
              "                    <span style=\"color: #808000; text-decoration-color: #808000\">filename</span>=<span style=\"color: #008000; text-decoration-color: #008000\">'deep_research_blog.pdf'</span>\n",
              "                <span style=\"font-weight: bold\">)</span>\n",
              "            <span style=\"font-weight: bold\">]</span>,\n",
              "            <span style=\"color: #808000; text-decoration-color: #808000\">text</span>=<span style=\"color: #008000; text-decoration-color: #008000\">\"Deep Research by OpenAI is a new capability integrated into ChatGPT, designed to handle complex, </span>\n",
              "<span style=\"color: #008000; text-decoration-color: #008000\">multi-step research tasks efficiently. It allows users to conduct thorough web research by synthesizing information</span>\n",
              "<span style=\"color: #008000; text-decoration-color: #008000\">from numerous online sources quickly, achieving results in minutes that would typically take hours for a </span>\n",
              "<span style=\"color: #008000; text-decoration-color: #008000\">human.\\n\\nHere are some key features of Deep Research:\\n\\n1. **Autonomous Research Agent**: It independently finds,</span>\n",
              "<span style=\"color: #008000; text-decoration-color: #008000\">analyzes, and synthesizes vast amounts of data to create comprehensive reports comparable to a research analyst's </span>\n",
              "<span style=\"color: #008000; text-decoration-color: #008000\">output.\\n   \\n2. **Reasoning and Synthesis**: Deep Research is capable of reasoning to examine large datasets, </span>\n",
              "<span style=\"color: #008000; text-decoration-color: #008000\">interpret various forms of content (text, images, PDFs), and pivot its approach based on new findings.\\n\\n3. </span>\n",
              "<span style=\"color: #008000; text-decoration-color: #008000\">**Broad Application**: It's particularly beneficial for professionals in finance, science, policy, and engineering,</span>\n",
              "<span style=\"color: #008000; text-decoration-color: #008000\">but can also assist consumers searching for detailed recommendations and analyses.\\n\\n4. **Documentation and </span>\n",
              "<span style=\"color: #008000; text-decoration-color: #008000\">Citation**: Every output comes with clear citations and a summary of the reasoning process, enhancing transparency </span>\n",
              "<span style=\"color: #008000; text-decoration-color: #008000\">and reliability.\\n\\n5. **Tools and Training**: It was trained using real-world tasks that require web browsing and </span>\n",
              "<span style=\"color: #008000; text-decoration-color: #008000\">data analysis, employing advanced reinforcement learning methods. This allows it to efficiently execute multi-step </span>\n",
              "<span style=\"color: #008000; text-decoration-color: #008000\">information-gathering tasks. \\n\\nOverall, Deep Research represents a significant advancement towards OpenAI’s goal </span>\n",
              "<span style=\"color: #008000; text-decoration-color: #008000\">of developing artificial general intelligence (AGI) by enhancing the ability to synthesize knowledge and produce </span>\n",
              "<span style=\"color: #008000; text-decoration-color: #008000\">novel outputs.\"</span>,\n",
              "            <span style=\"color: #808000; text-decoration-color: #808000\">type</span>=<span style=\"color: #008000; text-decoration-color: #008000\">'output_text'</span>\n",
              "        <span style=\"font-weight: bold\">)</span>\n",
              "    <span style=\"font-weight: bold\">]</span>,\n",
              "    <span style=\"color: #808000; text-decoration-color: #808000\">role</span>=<span style=\"color: #008000; text-decoration-color: #008000\">'assistant'</span>,\n",
              "    <span style=\"color: #808000; text-decoration-color: #808000\">status</span>=<span style=\"color: #008000; text-decoration-color: #008000\">'completed'</span>,\n",
              "    <span style=\"color: #808000; text-decoration-color: #808000\">type</span>=<span style=\"color: #008000; text-decoration-color: #008000\">'message'</span>\n",
              "<span style=\"font-weight: bold\">)</span>\n",
              "</pre>\n"
            ]
          },
          "metadata": {}
        }
      ]
    }
  ]
}